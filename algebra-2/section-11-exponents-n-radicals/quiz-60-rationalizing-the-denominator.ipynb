{
 "cells": [
  {
   "cell_type": "markdown",
   "id": "51da037b",
   "metadata": {},
   "source": [
    "## Quiz 60: Rationalizing The Denominator"
   ]
  },
  {
   "cell_type": "markdown",
   "id": "82744cf4",
   "metadata": {},
   "source": [
    "> 1. Simplify the expression, making sure to rationalize the denominator"
   ]
  },
  {
   "cell_type": "markdown",
   "id": "bf87fe3d",
   "metadata": {},
   "source": [
    "$$\n",
    "    \\begin{gather*}\n",
    "        2\\sqrt{\\frac{3}{5}} - 5\\sqrt{\\frac{5}{3}} + \\sqrt{135} \\\\\n",
    "        2\\frac{\\sqrt{3}}{\\sqrt{5}} - 5\\frac{\\sqrt{5}}{\\sqrt{3}} + \\sqrt{135} \\\\\n",
    "        2(\\frac{\\sqrt{3}}{\\sqrt{5}} \\cdot \\frac{\\sqrt{5}}{\\sqrt{5}}) - 5(\\frac{\\sqrt{5}}{\\sqrt{3}} \\cdot \\frac{\\sqrt{3}}{\\sqrt{3}}) + \\sqrt{9}\\sqrt{15} \\\\\n",
    "        2\\frac{\\sqrt{15}}{5} - 5\\frac{\\sqrt{15}}{3} + 3\\sqrt{15} \\\\\n",
    "        6\\frac{\\sqrt{15}}{15} - 25\\frac{\\sqrt{15}}{15} + 45\\frac{\\sqrt{15}}{15} \\\\\n",
    "        \\boxed{-26\\frac{\\sqrt{15}}{15}}\n",
    "    \\end{gather*}\n",
    "$$"
   ]
  },
  {
   "cell_type": "markdown",
   "id": "cbf9b2ec",
   "metadata": {},
   "source": [
    "> 2. Simplify the expression, making sure to rationalize the denominator"
   ]
  },
  {
   "cell_type": "markdown",
   "id": "7cf1812a",
   "metadata": {},
   "source": [
    "$$\n",
    "    \\begin{gather*}\n",
    "        2\\sqrt{\\frac{3}{5}} - 6\\sqrt{\\frac{5}{3}} \\\\\n",
    "        2\\frac{\\sqrt{3}}{\\sqrt{5}} - 6\\frac{\\sqrt{5}}{\\sqrt{3}} \\\\\n",
    "        2(\\frac{\\sqrt{3}}{\\sqrt{5}} \\cdot \\frac{\\sqrt{5}}{\\sqrt{5}}) - 6(\\frac{\\sqrt{5}}{\\sqrt{3}} \\cdot \\frac{\\sqrt{3}}{\\sqrt{3}}) \\\\\n",
    "        2\\frac{\\sqrt{15}}{5} - 6\\frac{\\sqrt{15}}{3} \\\\\n",
    "        6\\frac{\\sqrt{15}}{15} - 30\\frac{\\sqrt{15}}{15} \\\\\n",
    "        -24\\frac{\\sqrt{15}}{15} \\\\\n",
    "        \\boxed{-8\\frac{\\sqrt{15}}{5}}\n",
    "    \\end{gather*}\n",
    "$$"
   ]
  },
  {
   "cell_type": "markdown",
   "id": "ec17a657",
   "metadata": {},
   "source": [
    "> 3. Simplify the expression, making sure to rationalize the denominator"
   ]
  },
  {
   "cell_type": "markdown",
   "id": "642e691f",
   "metadata": {},
   "source": [
    "$$\n",
    "    \\begin{gather*}\n",
    "        \\frac{9}{\\sqrt{2}} \\cdot \\frac{\\sqrt{2}}{\\sqrt{2}} \\\\\n",
    "        \\frac{9\\sqrt{2}}{\\sqrt{2 \\cdot 2}} \\\\\n",
    "        \\frac{9\\sqrt{2}}{\\sqrt{4}} \\\\\n",
    "        \\boxed{\\frac{9\\sqrt{2}}{2}}\n",
    "    \\end{gather*}\n",
    "$$"
   ]
  },
  {
   "cell_type": "markdown",
   "id": "ed763615",
   "metadata": {},
   "source": []
  }
 ],
 "metadata": {
  "language_info": {
   "name": "python"
  }
 },
 "nbformat": 4,
 "nbformat_minor": 5
}
