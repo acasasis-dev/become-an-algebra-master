{
 "cells": [
  {
   "cell_type": "markdown",
   "id": "07c86c9a",
   "metadata": {},
   "source": [
    "## Quiz 58: Negative Exponents and Product Rule"
   ]
  },
  {
   "cell_type": "markdown",
   "id": "ceea3127",
   "metadata": {},
   "source": [
    "> 1. Write the expression with no negative exponents"
   ]
  },
  {
   "cell_type": "markdown",
   "id": "c0eace70",
   "metadata": {},
   "source": [
    "$$\n",
    "    \\begin{gather*}\n",
    "        \\frac{1}{x^{-2}} \\\\\n",
    "        \\boxed{x^2}\n",
    "    \\end{gather*}\n",
    "$$"
   ]
  },
  {
   "cell_type": "markdown",
   "id": "c5ce0aef",
   "metadata": {},
   "source": [
    "> 2. Simplify the expression"
   ]
  },
  {
   "cell_type": "markdown",
   "id": "2a87001c",
   "metadata": {},
   "source": [
    "$$\n",
    "    \\begin{gather*}\n",
    "        \\frac{x^2}{x^{-3}} \\\\\n",
    "        x^2 \\cdot \\frac{1}{x^{-3}} \\\\\n",
    "        x^2 \\cdot x^3 \\\\\n",
    "        \\boxed{x^5}\n",
    "    \\end{gather*}\n",
    "$$"
   ]
  },
  {
   "cell_type": "markdown",
   "id": "b86dae34",
   "metadata": {},
   "source": [
    "> 3. Simplify the expression"
   ]
  },
  {
   "cell_type": "markdown",
   "id": "0f1ea513",
   "metadata": {},
   "source": [
    "$$\n",
    "    \\begin{gather*}\n",
    "        \\frac{b^3c^{-2}}{a^{-2}} \\\\\n",
    "        b^3c^{-2} \\cdot \\frac{1}{a^{-2}} \\\\\n",
    "        \\frac{b^3}{c^2} \\cdot a^2 \\\\\n",
    "        \\boxed{\\frac{a^2b^3}{c^2}}\n",
    "    \\end{gather*}\n",
    "$$"
   ]
  }
 ],
 "metadata": {
  "language_info": {
   "name": "python"
  }
 },
 "nbformat": 4,
 "nbformat_minor": 5
}
