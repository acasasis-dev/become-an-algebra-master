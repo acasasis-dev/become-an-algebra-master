{
 "cells": [
  {
   "cell_type": "markdown",
   "id": "695ea02b",
   "metadata": {},
   "source": [
    "## Quiz 54: Powers of Negative Bases"
   ]
  },
  {
   "cell_type": "markdown",
   "id": "ce51ed66",
   "metadata": {},
   "source": [
    "> 1. Simplify the expression"
   ]
  },
  {
   "cell_type": "markdown",
   "id": "7c161359",
   "metadata": {},
   "source": [
    "$$\n",
    "    \\begin{gather*}\n",
    "        -3^2 \\\\\n",
    "        -(3)^2 \\\\\n",
    "        \\boxed{-9}\n",
    "    \\end{gather*}\n",
    "$$"
   ]
  },
  {
   "cell_type": "markdown",
   "id": "74d77a55",
   "metadata": {},
   "source": [
    "> 2. Simplify the expression"
   ]
  },
  {
   "cell_type": "markdown",
   "id": "459c8d8e",
   "metadata": {},
   "source": [
    "$$\n",
    "    \\begin{gather*}\n",
    "        -1^2 \\cdot (-3)^3 \\\\\n",
    "        -(1)^2 \\cdot -27 \\\\\n",
    "        -1 \\cdot -27 \\\\\n",
    "        \\boxed{27}\n",
    "    \\end{gather*}\n",
    "$$"
   ]
  },
  {
   "cell_type": "markdown",
   "id": "5956e710",
   "metadata": {},
   "source": [
    "> 3. Simplify the expression"
   ]
  },
  {
   "cell_type": "markdown",
   "id": "212cf52a",
   "metadata": {},
   "source": [
    "$$\n",
    "    \\begin{gather*}\n",
    "        (-7)^2 \\\\\n",
    "        \\boxed{49}\n",
    "    \\end{gather*}\n",
    "$$"
   ]
  }
 ],
 "metadata": {
  "language_info": {
   "name": "python"
  }
 },
 "nbformat": 4,
 "nbformat_minor": 5
}
