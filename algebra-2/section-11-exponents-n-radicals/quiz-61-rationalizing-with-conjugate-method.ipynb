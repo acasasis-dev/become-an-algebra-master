{
 "cells": [
  {
   "cell_type": "markdown",
   "id": "7ab09101",
   "metadata": {},
   "source": [
    "## Quiz 61: Rationalizing with Conjugate Method"
   ]
  },
  {
   "cell_type": "markdown",
   "id": "94c01b7d",
   "metadata": {},
   "source": [
    "> 1. Simplify the expression."
   ]
  },
  {
   "cell_type": "markdown",
   "id": "3460e797",
   "metadata": {},
   "source": [
    "$$\n",
    "    \\begin{gather*}\n",
    "        \\frac{3 - \\sqrt{6}}{\\sqrt{6} - 2} \\\\\n",
    "        \\frac{3 - \\sqrt{6}}{\\sqrt{6} - 2} \\cdot \\frac{\\sqrt{6} + 2}{\\sqrt{6} + 2} \\\\\n",
    "        \\frac{3\\sqrt{6} + 6 -\\sqrt{6}^2 -2\\sqrt{6}}{\\sqrt{6}^2 + 2\\sqrt{6} - 2\\sqrt{6} - 4} \\\\\n",
    "        \\frac{3\\sqrt{6} + 6 - 6 -2\\sqrt{6}}{6 + 2\\sqrt{6} - 2\\sqrt{6} - 4} \\\\\n",
    "        \\boxed{\\frac{\\sqrt{6}}{2}}\n",
    "    \\end{gather*}\n",
    "$$"
   ]
  },
  {
   "cell_type": "markdown",
   "id": "7ab1e138",
   "metadata": {},
   "source": [
    "> 2. Simplify the expression."
   ]
  },
  {
   "cell_type": "markdown",
   "id": "09caf46a",
   "metadata": {},
   "source": [
    "$$\n",
    "    \\begin{gather*}\n",
    "        \\frac{2 - \\sqrt{3}}{\\sqrt{3} - 1} \\\\\n",
    "        \\frac{2 - \\sqrt{3}}{\\sqrt{3} - 1} \\cdot \\frac{\\sqrt{3} + 1}{\\sqrt{3} + 1} \\\\\n",
    "        \\frac{2\\sqrt{3} + 2 -\\sqrt{3}^2 - \\sqrt{3}}{\\sqrt{3}^2 + \\sqrt{3} - \\sqrt{3} - 1} \\\\\n",
    "        \\frac{2\\sqrt{3} + 2 -3 - \\sqrt{3}}{3 + \\sqrt{3} - \\sqrt{3} - 1} \\\\\n",
    "        \\boxed{\\frac{\\sqrt{3} - 1}{2}}\n",
    "    \\end{gather*}\n",
    "$$"
   ]
  },
  {
   "cell_type": "markdown",
   "id": "792a2c8e",
   "metadata": {},
   "source": [
    "> 3. Rationalize the denominator."
   ]
  },
  {
   "cell_type": "markdown",
   "id": "746c9089",
   "metadata": {},
   "source": [
    "$$\n",
    "    \\begin{gather*}\n",
    "        \\frac{13}{4 - \\sqrt{3}} \\\\\n",
    "        \\frac{13}{4 - \\sqrt{3}} \\cdot \\frac{4 + \\sqrt{3}}{4 + \\sqrt{3}} \\\\\n",
    "        \\frac{52 + 13\\sqrt{3}}{16 + 4\\sqrt{3} - 4\\sqrt{3} - \\sqrt{3}^2} \\\\\n",
    "        \\frac{52 + 13\\sqrt{3}}{16 - 3} \\\\\n",
    "        \\frac{52 + 13\\sqrt{3}}{13} \\\\\n",
    "        \\boxed{4 + \\sqrt{3}}\n",
    "    \\end{gather*}\n",
    "$$"
   ]
  },
  {
   "cell_type": "markdown",
   "id": "4bdcf4a1",
   "metadata": {},
   "source": []
  },
  {
   "cell_type": "markdown",
   "id": "a0df00cd",
   "metadata": {},
   "source": []
  }
 ],
 "metadata": {
  "language_info": {
   "name": "python"
  }
 },
 "nbformat": 4,
 "nbformat_minor": 5
}
