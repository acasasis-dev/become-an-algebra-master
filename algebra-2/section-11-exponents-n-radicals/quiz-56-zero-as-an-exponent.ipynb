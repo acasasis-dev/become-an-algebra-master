{
 "cells": [
  {
   "cell_type": "markdown",
   "id": "2c1699e2",
   "metadata": {},
   "source": [
    "## Quiz 56: Zero As An Exponent"
   ]
  },
  {
   "cell_type": "markdown",
   "id": "7f29b2a6",
   "metadata": {},
   "source": [
    "> 1. Simplify the expression.\n",
    "\n",
    "\\begin{gather*}\n",
    "    1000^0 \\\\ \\\\\n",
    "\\end{gather*}"
   ]
  },
  {
   "cell_type": "markdown",
   "id": "8325b8e9",
   "metadata": {},
   "source": [
    "> 2. Simplify the expression.\n",
    "\n",
    "\\begin{gather*}\n",
    "    x^0 \\\\ \\\\\n",
    "\\end{gather*}"
   ]
  },
  {
   "cell_type": "markdown",
   "id": "56f28203",
   "metadata": {},
   "source": [
    "> 3. Simplify the expression.\n",
    "\n",
    "\\begin{gather*}\n",
    "    (x + 1)^0 \\\\ \\\\\n",
    "\\end{gather*}\n"
   ]
  }
 ],
 "metadata": {
  "language_info": {
   "name": "python"
  }
 },
 "nbformat": 4,
 "nbformat_minor": 5
}
