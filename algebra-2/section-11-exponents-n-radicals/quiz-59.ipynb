{
 "cells": [
  {
   "cell_type": "markdown",
   "id": "2247f000",
   "metadata": {},
   "source": [
    "## Quiz 59: Fractional Exponents"
   ]
  },
  {
   "cell_type": "markdown",
   "id": "f5a54398",
   "metadata": {},
   "source": [
    "> 1. Choose the equivalent expression."
   ]
  },
  {
   "cell_type": "markdown",
   "id": "c76c1415",
   "metadata": {},
   "source": [
    "$$\n",
    "    \\begin{gather*}\n",
    "        3^{-\\frac{2}{3}} \\\\\n",
    "        \\frac{1}{3^{\\frac{2}{3}}} \\\\\n",
    "        \\frac{1}{\\sqrt[3]{3^2}} \\\\\n",
    "        \\boxed{\\frac{1}{\\sqrt[3]{9}}}\n",
    "    \\end{gather*}\n",
    "$$"
   ]
  },
  {
   "cell_type": "markdown",
   "id": "b13e1be4",
   "metadata": {},
   "source": [
    "> 2. Simplify the expression."
   ]
  },
  {
   "cell_type": "markdown",
   "id": "25c9b9b8",
   "metadata": {},
   "source": [
    "$$\n",
    "    \\begin{gather*}\n",
    "        (\\frac{1}{3})^{\\frac{3}{2}} \\\\\n",
    "        \\frac{1^{\\frac{3}{2}}}{3^{\\frac{3}{2}}} \\\\\n",
    "        \\frac{\\sqrt{1^3}}{\\sqrt{3^3}} \\\\\n",
    "        \\frac{\\sqrt{1^3}}{\\sqrt{3^2}\\sqrt{3}} \\\\\n",
    "        \\boxed{\\frac{1}{3\\sqrt{3}}}\n",
    "    \\end{gather*}\n",
    "$$"
   ]
  },
  {
   "cell_type": "markdown",
   "id": "f82ecee5",
   "metadata": {},
   "source": [
    "> 3. Simplify the radical expression."
   ]
  },
  {
   "cell_type": "markdown",
   "id": "ca016ae0",
   "metadata": {},
   "source": [
    "$$\n",
    "    \\begin{gather*}\n",
    "        \\sqrt[3]{6\\sqrt{6}} \\\\\n",
    "        \\sqrt{6^2}\\sqrt{6}\\sqrt{6} \\\\\n",
    "        \\sqrt{6^2}\\sqrt{6 \\cdot 6} \\\\\n",
    "        \\sqrt{6^2}\\sqrt{36} \\\\\n",
    "        \\sqrt{6^2}\\sqrt{6^2} \\\\\n",
    "        \\boxed{\\sqrt{6}}\n",
    "    \\end{gather*}\n",
    "$$"
   ]
  }
 ],
 "metadata": {
  "language_info": {
   "name": "python"
  }
 },
 "nbformat": 4,
 "nbformat_minor": 5
}
