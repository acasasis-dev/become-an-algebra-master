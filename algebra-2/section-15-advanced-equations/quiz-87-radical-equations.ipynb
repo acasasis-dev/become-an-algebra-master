{
 "cells": [
  {
   "cell_type": "markdown",
   "id": "884f4af5",
   "metadata": {},
   "source": [
    "## Quiz 87: Radical Equations"
   ]
  },
  {
   "cell_type": "markdown",
   "id": "d7ee73e0",
   "metadata": {},
   "source": [
    "> 1. Solve the variable.\n",
    "\n",
    "\\begin{gather*}\n",
    "    \\sqrt{x} + 5 = 9 \\\\ \\\\\n",
    "\n",
    "    \\sqrt{x} = 9 - 5 \\\\\n",
    "    \\sqrt{x} = 4 \\\\\n",
    "    (\\sqrt{x})^2 = (4)^2 \\\\\n",
    "    \\boxed{x = 16} \\\\ \\\\\n",
    "\n",
    "    \\textbf{CHECKING} \\\\\n",
    "    \\sqrt{16} + 5 = 9 \\\\\n",
    "    4 + 5 = 9 \\\\\n",
    "    \\boxed{9 = 9}\n",
    "\\end{gather*}"
   ]
  },
  {
   "cell_type": "markdown",
   "id": "f0c506d5",
   "metadata": {},
   "source": [
    "> 2. Solve the variable.\n",
    "\n",
    "\\begin{gather*}\n",
    "    \\sqrt{x^2 + 3x - 10} + 2 = x \\\\ \\\\\n",
    "    \n",
    "    \\sqrt{x^2 + 3x - 10} = x - 2 \\\\\n",
    "    (\\sqrt{x^2 + 3x - 10} = x - 2)^2 \\\\\n",
    "    x^2 + 3x - 10 = x^2 - 4 \\\\\n",
    "    x^2 - x^2 + 3x = 10 - 4 \\\\\n",
    "    \\frac{\\cancel{3}x}{\\cancel{3}} = \\frac{6}{3} \\\\\n",
    "    \\boxed{x = 2} \\\\ \\\\\n",
    "\n",
    "    \\textbf{CHECKING} \\\\\n",
    "    \\sqrt{(2)^2 + 3(2) - 10} + 2 = 2 \\\\\n",
    "    \\sqrt{4 + 6 - 10} + 2 = 2 \\\\\n",
    "    \\sqrt{0} + 2 = 2 \\\\\n",
    "    \\boxed{2 = 2}\n",
    "\n",
    "\\end{gather*}"
   ]
  },
  {
   "cell_type": "markdown",
   "id": "457d0aee",
   "metadata": {},
   "source": [
    "> 3. Solve the variable.\n",
    "\n",
    "\\begin{gather*}\n",
    "    \\sqrt{3 - 2x} - x = 0 \\\\ \\\\\n",
    "\n",
    "    \\sqrt{3 - 2x} = x \\\\\n",
    "    (\\sqrt{3 - 2x} = x)^2 \\\\\n",
    "    3 - 2x = x^2 \\\\\n",
    "    x^2 + 2x - 3 = 0 \\\\\n",
    "    (x + 3)(x - 1) = 0 \\\\\n",
    "    \\boxed{x = -(3, -1) = -3, 1} \\\\ \\\\\n",
    "\n",
    "    \\textbf{CHECKING} \\\\\n",
    "    \\sqrt{3 - 2(-3)} - (-3) = 0 \\\\\n",
    "    \\sqrt{3 + 6} + 3 = 0 \\\\\n",
    "    \\sqrt{9} + 3 = 0 \\\\\n",
    "    3 + 3 = 0 \\\\\n",
    "    \\boxed{6 \\ne 0} \\\\\n",
    "    \\sqrt{3 - 2(1)} - (1) = 0 \\\\\n",
    "    \\sqrt{3 - 2} - 1 = 0 \\\\\n",
    "    \\sqrt{1} - 1 = 0 \\\\\n",
    "    1 - 1 = 0 \\\\\n",
    "    \\boxed{0 = 0}\n",
    "\\end{gather*}"
   ]
  }
 ],
 "metadata": {
  "language_info": {
   "name": "python"
  }
 },
 "nbformat": 4,
 "nbformat_minor": 5
}
