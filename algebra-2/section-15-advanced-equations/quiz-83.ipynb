{
 "cells": [
  {
   "cell_type": "markdown",
   "id": "4f2921c6",
   "metadata": {},
   "source": [
    "## Quiz 83: Inverse Variation"
   ]
  },
  {
   "cell_type": "markdown",
   "id": "892b9c11",
   "metadata": {},
   "source": [
    "> 1. If **x** varies inversely with **y** and **y = 7** when **x = 3**, what is the value of the constant of variation, **k**?"
   ]
  },
  {
   "cell_type": "markdown",
   "id": "af243568",
   "metadata": {},
   "source": [
    "> 2. If **k/4 = 3** and **k/x = 4**, find **x**"
   ]
  },
  {
   "cell_type": "markdown",
   "id": "6004248b",
   "metadata": {},
   "source": [
    "> 3. Suppose we drive a car to the store and the time it takes us to get there depends on whether or not we speed. If our drive times are recorded in the table below, how long does it take to make a trip at a speed of **30**?"
   ]
  },
  {
   "cell_type": "markdown",
   "id": "4187eb64",
   "metadata": {},
   "source": [
    "| Speed | 60 | 40 | 25 | 10 |\n",
    "|-------|----|----|----|----|\n",
    "| Time  | 10 | 15 | 24 | 60 |"
   ]
  }
 ],
 "metadata": {
  "language_info": {
   "name": "python"
  }
 },
 "nbformat": 4,
 "nbformat_minor": 5
}
