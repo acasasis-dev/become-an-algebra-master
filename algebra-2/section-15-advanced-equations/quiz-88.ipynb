{
 "cells": [
  {
   "cell_type": "markdown",
   "id": "e8f21d03",
   "metadata": {},
   "source": [
    "## Quiz 88: Multivariable Equations"
   ]
  },
  {
   "cell_type": "markdown",
   "id": "a79c62b9",
   "metadata": {},
   "source": [
    "> 1. Solve for **z**.\n",
    "\n",
    "\\begin{gather*}\n",
    "    3y - 4x + 2z = 6\n",
    "\\end{gather*}"
   ]
  },
  {
   "cell_type": "markdown",
   "id": "cd287bd1",
   "metadata": {},
   "source": [
    "> 2. Solve for **z**.\n",
    "\n",
    "\\begin{gather*}\n",
    "    2y - 3x - z = 7x\n",
    "\\end{gather*}"
   ]
  },
  {
   "cell_type": "markdown",
   "id": "b4ace79f",
   "metadata": {},
   "source": [
    "> 3. Solve for **z**.\n",
    "\n",
    "\\begin{gather*}\n",
    "    3x - y + 2z = 12\n",
    "\\end{gather*}"
   ]
  }
 ],
 "metadata": {
  "language_info": {
   "name": "python"
  }
 },
 "nbformat": 4,
 "nbformat_minor": 5
}
