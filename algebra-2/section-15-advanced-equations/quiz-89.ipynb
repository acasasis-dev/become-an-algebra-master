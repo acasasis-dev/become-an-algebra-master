{
 "cells": [
  {
   "cell_type": "markdown",
   "id": "37fa3816",
   "metadata": {},
   "source": [
    "## Quiz 89: MultiVariable Rational Equations"
   ]
  },
  {
   "cell_type": "markdown",
   "id": "caecb9c2",
   "metadata": {},
   "source": [
    "> 1. Solve the equation for **x**.\n",
    "\n",
    "\\begin{gather*}\n",
    "    \\frac{1}{x} + m + ab = c\n",
    "\\end{gather*}"
   ]
  },
  {
   "cell_type": "markdown",
   "id": "002db88f",
   "metadata": {},
   "source": [
    "> 2. Solve the equation for **x**.\n",
    "\n",
    "\\begin{gather*}\n",
    "    \\frac{1}{x} + \\frac{b}{a} = c\n",
    "\\end{gather*}"
   ]
  },
  {
   "cell_type": "markdown",
   "id": "cdfb2f44",
   "metadata": {},
   "source": [
    "> 3. Solve the equation for **k**.\n",
    "\n",
    "\\begin{gather*}\n",
    "    \\frac{mx + b}{k} + a = z\n",
    "\\end{gather*}"
   ]
  }
 ],
 "metadata": {
  "language_info": {
   "name": "python"
  }
 },
 "nbformat": 4,
 "nbformat_minor": 5
}
