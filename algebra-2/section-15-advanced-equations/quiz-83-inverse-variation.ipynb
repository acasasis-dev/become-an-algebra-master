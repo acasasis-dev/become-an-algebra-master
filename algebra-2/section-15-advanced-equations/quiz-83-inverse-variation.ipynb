{
 "cells": [
  {
   "cell_type": "markdown",
   "id": "4f2921c6",
   "metadata": {},
   "source": [
    "## Quiz 83: Inverse Variation"
   ]
  },
  {
   "cell_type": "markdown",
   "id": "892b9c11",
   "metadata": {},
   "source": [
    "> 1. If **x** varies inversely with **y** and **y = 7** when **x = 3**, what is the value of the constant of variation, **k**?\n",
    "\n",
    "\\begin{gather*}\n",
    "    x = \\frac{k}{y} \\\\\n",
    "    3 = \\frac{k}{7} \\\\\n",
    "    7(3) = (\\frac{k}{\\cancel{7}})\\cancel{7} \\\\\n",
    "    \\boxed{k = 21}\n",
    "\\end{gather*}"
   ]
  },
  {
   "cell_type": "markdown",
   "id": "af243568",
   "metadata": {},
   "source": [
    "> 2. If **k/4 = 3** and **k/x = 4**, find **x**\n",
    "\n",
    "\\begin{gather*}\n",
    "    \\frac{k}{4} = 3 \\\\\n",
    "    \\cancel{4}(\\frac{k}{\\cancel{4}}) = (3)4 \\\\\n",
    "    \\boxed{k = 12} \\\\ \\\\\n",
    "\n",
    "    \\frac{k}{x} = 4 \\\\\n",
    "    \\frac{12}{x} = 4 \\\\\n",
    "    \\frac{x}{12} = \\frac{1}{4} \\\\\n",
    "    \\cancel{12}(\\frac{x}{\\cancel{12}}) = (\\frac{1}{4})12 \\\\\n",
    "    x = \\frac{12}{4} \\\\\n",
    "    \\boxed{x = 3}\n",
    "\\end{gather*}"
   ]
  },
  {
   "cell_type": "markdown",
   "id": "6004248b",
   "metadata": {},
   "source": [
    "> 3. Suppose we drive a car to the store and the time it takes us to get there depends on whether or not we speed. If our drive times are recorded in the table below, how long does it take to make a trip at a speed of **30**?\n",
    "\n",
    "| Speed | 60 | 40 | 25 | 10 |\n",
    "|-------|----|----|----|----|\n",
    "| Time  | 10 | 15 | 24 | 60 |\n",
    "\n",
    "\\begin{gather*}\n",
    "    x = \\frac{k}{y} \\\\ \\\\\n",
    "\n",
    "    60 = \\frac{k}{10} \\\\\n",
    "    10(60) = (\\frac{k}{\\cancel{10}})\\cancel{10} \\\\\n",
    "    \\boxed{k = 600} \\\\ \\\\\n",
    "\n",
    "    30 = \\frac{600}{y} \\\\\n",
    "    \\frac{1}{30} = \\frac{y}{600} \\\\\n",
    "    600(\\frac{1}{30}) = (\\frac{y}{\\cancel{600}})\\cancel{600} \\\\\n",
    "    y = \\frac{600}{30} \\\\\n",
    "    \\boxed{y = 20}\n",
    "\\end{gather*}"
   ]
  }
 ],
 "metadata": {
  "language_info": {
   "name": "python"
  }
 },
 "nbformat": 4,
 "nbformat_minor": 5
}
