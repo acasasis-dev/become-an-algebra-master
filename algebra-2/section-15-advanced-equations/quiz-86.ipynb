{
 "cells": [
  {
   "cell_type": "markdown",
   "id": "5f955440",
   "metadata": {},
   "source": [
    "## Quiz 86: Rational Equations"
   ]
  },
  {
   "cell_type": "markdown",
   "id": "ae8fb8ef",
   "metadata": {},
   "source": [
    "> 1. Solve the equation.\n",
    "\n",
    "\\begin{gather*}\n",
    "    \\frac{5}{x + 1} = \\frac{2}{x}\n",
    "\\end{gather*}"
   ]
  },
  {
   "cell_type": "markdown",
   "id": "3ce941bd",
   "metadata": {},
   "source": [
    "> 2. Solve the equation.\n",
    "\n",
    "\\begin{gather*}\n",
    "    \\frac{3x}{x - 2} = 5\n",
    "\\end{gather*}"
   ]
  },
  {
   "cell_type": "markdown",
   "id": "882a9e96",
   "metadata": {},
   "source": [
    "> 3. Solve the equation.\n",
    "\n",
    "\\begin{gather*}\n",
    "    \\frac{x}{4} - \\frac{2}{x} = \\frac{1}{2}\n",
    "\\end{gather*}"
   ]
  }
 ],
 "metadata": {
  "language_info": {
   "name": "python"
  }
 },
 "nbformat": 4,
 "nbformat_minor": 5
}
