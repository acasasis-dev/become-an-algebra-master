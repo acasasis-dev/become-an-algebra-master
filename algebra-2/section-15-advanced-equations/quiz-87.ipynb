{
 "cells": [
  {
   "cell_type": "markdown",
   "id": "884f4af5",
   "metadata": {},
   "source": [
    "## Quiz 87: Radical Equations"
   ]
  },
  {
   "cell_type": "markdown",
   "id": "d7ee73e0",
   "metadata": {},
   "source": [
    "> 1. Solve the variable.\n",
    "\n",
    "\\begin{gather*}\n",
    "    \\sqrt{x} + 5 = 9\n",
    "\\end{gather*}"
   ]
  },
  {
   "cell_type": "markdown",
   "id": "f0c506d5",
   "metadata": {},
   "source": [
    "> 2. Solve the variable.\n",
    "\n",
    "\\begin{gather*}\n",
    "    \\sqrt{x^2 + 3x - 10} + 2 = x\n",
    "\\end{gather*}"
   ]
  },
  {
   "cell_type": "markdown",
   "id": "457d0aee",
   "metadata": {},
   "source": [
    "> 1. Solve the variable.\n",
    "\n",
    "\\begin{gather*}\n",
    "    \\sqrt{3 - 2x} - x = 0\n",
    "\\end{gather*}"
   ]
  }
 ],
 "metadata": {
  "language_info": {
   "name": "python"
  }
 },
 "nbformat": 4,
 "nbformat_minor": 5
}
