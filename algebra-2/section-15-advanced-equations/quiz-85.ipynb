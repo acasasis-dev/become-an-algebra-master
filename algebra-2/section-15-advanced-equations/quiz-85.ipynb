{
 "cells": [
  {
   "cell_type": "markdown",
   "id": "a505ec3c",
   "metadata": {},
   "source": [
    "## Quiz 85: Fractional Equations"
   ]
  },
  {
   "cell_type": "markdown",
   "id": "4ec57bc1",
   "metadata": {},
   "source": [
    "> 1. Solve for the variable\n",
    "\n",
    "\\begin{gather*}\n",
    "    \\frac{2}{3}x = 4\n",
    "\\end{gather*}"
   ]
  },
  {
   "cell_type": "markdown",
   "id": "4fcb3482",
   "metadata": {},
   "source": [
    "> 2. Solve for the variable\n",
    "\n",
    "\\begin{gather*}\n",
    "    \\frac{1}{2}x + 2 = 10\n",
    "\\end{gather*}"
   ]
  },
  {
   "cell_type": "markdown",
   "id": "9b4507ab",
   "metadata": {},
   "source": [
    "> 2. Solve for the variable\n",
    "\n",
    "\\begin{gather*}\n",
    "    -3x + \\frac{3}{4} = \\frac{1}{8}\n",
    "\\end{gather*}"
   ]
  }
 ],
 "metadata": {
  "language_info": {
   "name": "python"
  }
 },
 "nbformat": 4,
 "nbformat_minor": 5
}
