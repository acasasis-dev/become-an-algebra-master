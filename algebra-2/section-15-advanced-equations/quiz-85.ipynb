{
 "cells": [
  {
   "cell_type": "markdown",
   "id": "a505ec3c",
   "metadata": {},
   "source": [
    "## Quiz 85: Fractional Equations"
   ]
  },
  {
   "cell_type": "markdown",
   "id": "4ec57bc1",
   "metadata": {},
   "source": [
    "> 1. Solve for the variable\n",
    "\n",
    "\\begin{gather*}\n",
    "    \\frac{2}{3}x = 4 \\\\ \\\\\n",
    "    \\frac{\\cancel{3}}{\\cancel{2}}(\\frac{\\cancel{2}}{\\cancel{3}}x) = (4)\\frac{3}{2} \\\\\n",
    "    x = \\frac{4 \\cdot 3}{2} \\\\\n",
    "    x = \\frac{12}{2} \\\\\n",
    "    \\boxed{x = 6}\n",
    "\\end{gather*}"
   ]
  },
  {
   "cell_type": "markdown",
   "id": "4fcb3482",
   "metadata": {},
   "source": [
    "> 2. Solve for the variable\n",
    "\n",
    "\\begin{gather*}\n",
    "    \\frac{1}{2}x + 2 = 10 \\\\ \\\\\n",
    "\n",
    "    \\frac{\\cancel{2}}{\\cancel{1}}(\\frac{\\cancel{1}}{\\cancel{2}}x + 2) = (10)\\frac{2}{1} \\\\\n",
    "    x + \\frac{2 \\cdot 2}{1} = \\frac{10 \\cdot 2}{1} \\\\\n",
    "    x + 4 = 20 \\\\\n",
    "    x = 20 - 4 \\\\\n",
    "    \\boxed{x = 16}\n",
    "\\end{gather*}"
   ]
  },
  {
   "cell_type": "markdown",
   "id": "9b4507ab",
   "metadata": {},
   "source": [
    "> 2. Solve for the variable\n",
    "\n",
    "\\begin{gather*}\n",
    "    -3x + \\frac{3}{4} = \\frac{1}{8} \\\\ \\\\\n",
    "\n",
    "    \\frac{\\cancel{-3}x + \\frac{3}{4} = \\frac{1}{8}}{\\cancel{-3}} \\\\\n",
    "    x + \\frac{\\frac{3}{4}}{-3} = \\frac{\\frac{1}{8}}{-3} \\\\\n",
    "    x + (\\frac{3}{4} \\cdot \\frac{1}{-3}) = (\\frac{1}{8} \\cdot \\frac{1}{-3}) \\\\\n",
    "    x - \\frac{3}{12} = -\\frac{1}{24} \\\\\n",
    "    x = -\\frac{1}{24} + \\frac{3}{12} \\\\\n",
    "    x = -\\frac{1}{24} + \\frac{6}{24} \\\\\n",
    "    \\boxed{x = \\frac{5}{24}}\n",
    "\\end{gather*}"
   ]
  }
 ],
 "metadata": {
  "language_info": {
   "name": "python"
  }
 },
 "nbformat": 4,
 "nbformat_minor": 5
}
