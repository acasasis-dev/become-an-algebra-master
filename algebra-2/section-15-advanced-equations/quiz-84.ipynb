{
 "cells": [
  {
   "cell_type": "markdown",
   "id": "835531d2",
   "metadata": {},
   "source": [
    "## Quiz 84: Decimal Equations"
   ]
  },
  {
   "cell_type": "markdown",
   "id": "234d8637",
   "metadata": {},
   "source": [
    "> 1. Solve for the variable.\n",
    "\n",
    "\\begin{gather*}\n",
    "    0.2x + 4 = 10\n",
    "\\end{gather*}"
   ]
  },
  {
   "cell_type": "markdown",
   "id": "22c0ebb1",
   "metadata": {},
   "source": [
    "> 2. Solve for the variable.\n",
    "\n",
    "\\begin{gather*}\n",
    "    0.7m - 0.6m = 3.4\n",
    "\\end{gather*}"
   ]
  },
  {
   "cell_type": "markdown",
   "id": "92144db4",
   "metadata": {},
   "source": [
    "> 3. Solve for the variable.\n",
    "\n",
    "\\begin{gather*}\n",
    "    0.04x - 0.2 = 0.1\n",
    "\\end{gather*}"
   ]
  }
 ],
 "metadata": {
  "language_info": {
   "name": "python"
  }
 },
 "nbformat": 4,
 "nbformat_minor": 5
}
