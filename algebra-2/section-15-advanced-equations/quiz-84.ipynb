{
 "cells": [
  {
   "cell_type": "markdown",
   "id": "835531d2",
   "metadata": {},
   "source": [
    "## Quiz 84: Decimal Equations"
   ]
  },
  {
   "cell_type": "markdown",
   "id": "234d8637",
   "metadata": {},
   "source": [
    "> 1. Solve for the variable.\n",
    "\n",
    "\\begin{gather*}\n",
    "    0.2x + 4 = 10 \\\\ \\\\\n",
    "\n",
    "    10(0.2x + 4 = 10) \\\\\n",
    "    2x + 40 = 100 \\\\\n",
    "    2x = 100 - 40 \\\\\n",
    "    2x = 60 \\\\\n",
    "    \\frac{\\cancel{2}x}{\\cancel{2}} = \\frac{60}{2} \\\\\n",
    "    \\boxed{x = 30}\n",
    "\\end{gather*}"
   ]
  },
  {
   "cell_type": "markdown",
   "id": "22c0ebb1",
   "metadata": {},
   "source": [
    "> 2. Solve for the variable.\n",
    "\n",
    "\\begin{gather*}\n",
    "    0.7m - 0.6m = 3.4 \\\\ \\\\\n",
    "\n",
    "    10(0.7m - 0.6m = 3.4) \\\\\n",
    "    7m - 6m = 34 \\\\\n",
    "    \\boxed{m = 34}\n",
    "\\end{gather*}"
   ]
  },
  {
   "cell_type": "markdown",
   "id": "92144db4",
   "metadata": {},
   "source": [
    "> 3. Solve for the variable.\n",
    "\n",
    "\\begin{gather*}\n",
    "    0.04x - 0.2 = 0.1 \\\\ \\\\\n",
    "    100(0.04x - 0.2 = 0.1) \\\\\n",
    "    4x - 20 = 10 \\\\\n",
    "    4x = 20 + 10 \\\\\n",
    "    4x = 30 \\\\\n",
    "    \\frac{\\cancel{4}x}{\\cancel{4}} = \\frac{30}{4} \\\\\n",
    "    \\boxed{x = \\frac{15}{2} \\ \\text{or} \\ 7.5}\n",
    "\\end{gather*}"
   ]
  }
 ],
 "metadata": {
  "language_info": {
   "name": "python"
  }
 },
 "nbformat": 4,
 "nbformat_minor": 5
}
