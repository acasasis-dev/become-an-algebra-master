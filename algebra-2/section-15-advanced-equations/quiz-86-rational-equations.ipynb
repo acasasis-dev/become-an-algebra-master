{
 "cells": [
  {
   "cell_type": "markdown",
   "id": "5f955440",
   "metadata": {},
   "source": [
    "## Quiz 86: Rational Equations"
   ]
  },
  {
   "cell_type": "markdown",
   "id": "ae8fb8ef",
   "metadata": {},
   "source": [
    "> 1. Solve the equation.\n",
    "\n",
    "\\begin{gather*}\n",
    "    \\frac{5}{x + 1} = \\frac{2}{x} \\\\ \\\\\n",
    "\n",
    "    x\\cancel{(x + 1)}(\\frac{5}{\\cancel{x + 1}}) = (\\frac{2}{\\cancel{x}})\\cancel{x}(x + 1) \\\\\n",
    "    5x = 2(x + 1) \\\\\n",
    "    5x = 2x + 2 \\\\\n",
    "    5x - 2x = 2 \\\\\n",
    "    \\frac{\\cancel{3}x}{\\cancel{3}} = \\frac{2}{3} \\\\\n",
    "    \\boxed{x = \\frac{2}{3}}\n",
    "\\end{gather*}"
   ]
  },
  {
   "cell_type": "markdown",
   "id": "3ce941bd",
   "metadata": {},
   "source": [
    "> 2. Solve the equation.\n",
    "\n",
    "\\begin{gather*}\n",
    "    \\frac{3x}{x - 2} = 5 \\\\ \\\\\n",
    "\n",
    "    \\cancel{(x - 2)}(\\frac{3x}{\\cancel{x - 2}}) = (5)(x - 2) \\\\\n",
    "    3x = 5x - 10 \\\\\n",
    "    10 = 5x - 3x \\\\\n",
    "    \\frac{10}{2} = \\frac{\\cancel{2}x}{\\cancel{2}} \\\\\n",
    "    \\boxed{x = 5}\n",
    "\\end{gather*}"
   ]
  },
  {
   "cell_type": "markdown",
   "id": "882a9e96",
   "metadata": {},
   "source": [
    "> 3. Solve the equation.\n",
    "\n",
    "\\begin{gather*}\n",
    "    \\frac{x}{4} - \\frac{2}{x} = \\frac{1}{2} \\\\ \\\\\n",
    "\n",
    "    4x(\\frac{x}{4} - \\frac{2}{x}) = (\\frac{1}{2})4x \\\\\n",
    "    x^2 - 8 = 2x \\\\\n",
    "    x^2 - 2x - 8 = 0 \\\\\n",
    "    (x - 4)(x + 2) = 0 \\\\\n",
    "    x = -(-4, 2) \\\\\n",
    "    \\boxed{x = 4, -2}\n",
    "\\end{gather*}"
   ]
  }
 ],
 "metadata": {
  "language_info": {
   "name": "python"
  }
 },
 "nbformat": 4,
 "nbformat_minor": 5
}
