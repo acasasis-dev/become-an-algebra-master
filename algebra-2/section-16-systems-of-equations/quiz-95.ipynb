{
 "cells": [
  {
   "cell_type": "markdown",
   "id": "df053cef",
   "metadata": {},
   "source": [
    "## Quiz 95: Systems of Three Equations"
   ]
  },
  {
   "cell_type": "markdown",
   "id": "4d5188d5",
   "metadata": {},
   "source": [
    "> 1. Use any method to find the solution to the system of equations. \n",
    "\n",
    "\\begin{gather*}\n",
    "    x + y - z = 4 \\\\\n",
    "    x - y - z = 2 \\\\\n",
    "    x + 2y + z = 1 \\\\ \\\\\n",
    "\\end{gather*}"
   ]
  },
  {
   "cell_type": "markdown",
   "id": "d1519acd",
   "metadata": {},
   "source": [
    "> 2. Use any method to find the solution to the system of equations. \n",
    "\n",
    "\\begin{gather*}\n",
    "    x - y + z = -6 \\\\\n",
    "    3x - 4y - z = -4 \\\\\n",
    "    -2x + 3y + 4z = 14 \\\\ \\\\\n",
    "\\end{gather*}"
   ]
  },
  {
   "cell_type": "markdown",
   "id": "efec50d3",
   "metadata": {},
   "source": [
    "> 3. Solve this system of equations for $x$, $y$, and $z$. \n",
    "\n",
    "\\begin{gather*}\n",
    "    x + 2z = 3 \\\\\n",
    "    3x - 2y + z = -11 \\\\\n",
    "    2x + y + 3z = 9 \\\\ \\\\\n",
    "\\end{gather*}"
   ]
  }
 ],
 "metadata": {
  "language_info": {
   "name": "python"
  }
 },
 "nbformat": 4,
 "nbformat_minor": 5
}
