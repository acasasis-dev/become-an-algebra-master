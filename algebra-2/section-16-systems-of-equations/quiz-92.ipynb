{
 "cells": [
  {
   "cell_type": "markdown",
   "id": "7626c852",
   "metadata": {},
   "source": [
    "## Quiz 92: Number Word Problems"
   ]
  },
  {
   "cell_type": "markdown",
   "id": "c0320985",
   "metadata": {},
   "source": [
    "> 1. The sum of digits of a certain two-digit number is $9$. When the digits are reversed, the new number is $45$ greater than the original number. What is the original number?"
   ]
  },
  {
   "cell_type": "markdown",
   "id": "a2043f20",
   "metadata": {},
   "source": [
    "> 2. The sum of two consecutive integers is $37$. What is the larger number?"
   ]
  },
  {
   "cell_type": "markdown",
   "id": "490f86b9",
   "metadata": {},
   "source": [
    "> 3. A certain two-digit number is $11$ greater than $8$ times its tens digit. The sum of the digits is $6$. What is the number?"
   ]
  }
 ],
 "metadata": {
  "language_info": {
   "name": "python"
  }
 },
 "nbformat": 4,
 "nbformat_minor": 5
}
