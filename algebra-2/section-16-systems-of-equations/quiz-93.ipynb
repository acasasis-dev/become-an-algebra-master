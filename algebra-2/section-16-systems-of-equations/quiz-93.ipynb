{
 "cells": [
  {
   "cell_type": "markdown",
   "id": "18762c1a",
   "metadata": {},
   "source": [
    "## Quiz 93: Age Word Problems"
   ]
  },
  {
   "cell_type": "markdown",
   "id": "4cd38557",
   "metadata": {},
   "source": [
    "> 1. $20$ years ago, Beth's age was $6$ years greater than twice Chris' age. $6$ years ago, Chris was $\\frac{3}{5}$ as old as Beth. How old are they now?"
   ]
  },
  {
   "cell_type": "markdown",
   "id": "b4618adc",
   "metadata": {},
   "source": [
    "> 2. Jordan is $16$ years older than Ryan. In $6$ years, Jordan will be twice as old as Ryan. How old is Jordan now?"
   ]
  },
  {
   "cell_type": "markdown",
   "id": "56638913",
   "metadata": {},
   "source": [
    "> 3. Claire is 8 years older than Max. 4 years ago, she was $3$ times as old as Max. How old is Max now?"
   ]
  }
 ],
 "metadata": {
  "language_info": {
   "name": "python"
  }
 },
 "nbformat": 4,
 "nbformat_minor": 5
}
