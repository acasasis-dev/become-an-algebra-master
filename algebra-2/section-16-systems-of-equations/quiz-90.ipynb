{
 "cells": [
  {
   "cell_type": "markdown",
   "id": "a9462c21",
   "metadata": {},
   "source": [
    "## Quiz 90: Systems with Subscripts"
   ]
  },
  {
   "cell_type": "markdown",
   "id": "c35418e9",
   "metadata": {},
   "source": [
    "> 1. Use any method to find the unique solution to the system of equations.\n",
    "\n",
    "\\begin{gather*}\n",
    "    R_{M}T_{M} = 200 \\\\\n",
    "    R_{P} = 5R_{M} \\\\\n",
    "    R_{P}T_{P} = 500 \\\\\n",
    "    T_{P} = 3 - T_{M}\n",
    "\\end{gather*}"
   ]
  },
  {
   "cell_type": "markdown",
   "id": "f8518f5d",
   "metadata": {},
   "source": [
    "> 2. Solve this system for **R_b**.\n",
    "\n",
    "\\begin{gather*}\n",
    "    3R_{a} - R_{b} = 15 \\\\\n",
    "    2R_{a} + R_{b} = 5\n",
    "\\end{gather*}"
   ]
  },
  {
   "cell_type": "markdown",
   "id": "98029703",
   "metadata": {},
   "source": [
    "> 3. Solve this system for **C_p**.\n",
    "\n",
    "\\begin{gather*}\n",
    "    7C_{p} + 4C_{v} = 2 \\\\\n",
    "    -14C_{p} - 12C_{v} = -20 \\\\\n",
    "\\end{gather*}"
   ]
  }
 ],
 "metadata": {
  "language_info": {
   "name": "python"
  }
 },
 "nbformat": 4,
 "nbformat_minor": 5
}
