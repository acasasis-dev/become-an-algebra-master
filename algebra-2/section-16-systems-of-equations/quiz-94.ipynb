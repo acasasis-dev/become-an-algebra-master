{
 "cells": [
  {
   "cell_type": "markdown",
   "id": "95d802d5",
   "metadata": {},
   "source": [
    "## Quiz 94: Systems With Non-Linear Equations"
   ]
  },
  {
   "cell_type": "markdown",
   "id": "0d464bbc",
   "metadata": {},
   "source": [
    "> 1. Use any method to find the solution(s) to the system of equations.\n",
    "\n",
    "\\begin{gather*}\n",
    "    x^2 + y^2 = 25 \\\\\n",
    "    3x - y = 5 \\\\ \\\\\n",
    "\\end{gather*}"
   ]
  },
  {
   "cell_type": "markdown",
   "id": "cef5e6f6",
   "metadata": {},
   "source": [
    "> 2. Solve the system for $x$ and $y$.\n",
    "\n",
    "\\begin{gather*}\n",
    "    (x - 2)^2 + y^2 = 4 \\\\\n",
    "    \\frac{x}{2} - y = -1 \\\\ \\\\\n",
    "\\end{gather*}"
   ]
  },
  {
   "cell_type": "markdown",
   "id": "96902fa9",
   "metadata": {},
   "source": [
    "> 3. Solve the system for $x$ and $y$.\n",
    "\n",
    "\\begin{gather*}\n",
    "    2x^2 - 12x - y + 19 = 0 \\\\\n",
    "    2x + y = 11 \\\\ \\\\\n",
    "\\end{gather*}"
   ]
  }
 ],
 "metadata": {
  "language_info": {
   "name": "python"
  }
 },
 "nbformat": 4,
 "nbformat_minor": 5
}
