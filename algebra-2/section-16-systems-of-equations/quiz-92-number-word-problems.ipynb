{
 "cells": [
  {
   "cell_type": "markdown",
   "id": "7626c852",
   "metadata": {},
   "source": [
    "## Quiz 92: Number Word Problems"
   ]
  },
  {
   "cell_type": "markdown",
   "id": "c0320985",
   "metadata": {},
   "source": [
    "> 1. The sum of digits of a certain two-digit number is $9$. When the digits are reversed, the new number is $45$ greater than the original number. What is the original number?\n",
    "\n",
    "\\begin{gather*}\n",
    "    T + U = 9 \\\\ \\\\\n",
    "\n",
    "    10T + 1U + 45 = 10U + 1T \\\\\n",
    "    10T - 1T + 1T - 10U = -45 \\\\ \n",
    "    9T - 9U = -45 \\\\\n",
    "    \\frac{9T - 9U = -45}{9} \\\\\n",
    "    T - U = -5 \\\\ \\\\\n",
    "\n",
    "    T + U = 9 \\\\\n",
    "    - (T - U = -5) \\\\\n",
    "    2U = 14 \\\\\n",
    "    \\frac{2U = 14}{2} \\\\\n",
    "    \\boxed{U = 7} \\\\ \\\\\n",
    "\n",
    "    T + U = 9 \\\\\n",
    "    T + (7) = 9 \\\\\n",
    "    T = 9 - 7 \\\\\n",
    "    \\boxed{T = 2} \\\\ \\\\\n",
    "\n",
    "    \\textbf{CHECKING} \\\\\n",
    "    27 \\\\\n",
    "    2 + 7 = 9 \\\\\n",
    "    72 - 27 = 45\n",
    "\\end{gather*}"
   ]
  },
  {
   "cell_type": "markdown",
   "id": "a2043f20",
   "metadata": {},
   "source": [
    "> 2. The sum of two consecutive integers is $37$. What is the larger number?\n",
    "\n",
    "\\begin{gather*}\n",
    "    x + x + 1 = 37 \\\\\n",
    "    2x = 37 - 1 \\\\\n",
    "    2x = 36 \\\\\n",
    "    \\frac{2x = 36}{2} \\\\\n",
    "    x = 18 \\\\\n",
    "    18, \\boxed{19}\n",
    "\\end{gather*}"
   ]
  },
  {
   "cell_type": "markdown",
   "id": "490f86b9",
   "metadata": {},
   "source": [
    "> 3. A certain two-digit number is $11$ greater than $8$ times its tens digit. The sum of the digits is $6$. What is the number?\n",
    "\n",
    "\\begin{gather*}\n",
    "    T + U = 6 \\\\ \\\\\n",
    "\n",
    "    10T + 1U = 8T + 11 \\\\\n",
    "    10T - 8T + 1U = 11 \\\\\n",
    "    2T + 1U = 11 \\\\ \\\\\n",
    "\n",
    "    2(T + U = 6) \\\\\n",
    "    - (2T + 1U = 11) \\\\ \\\\\n",
    "\n",
    "    2T + 2U = 12 \\\\\n",
    "    - (2T + 1U = 11) \\\\\n",
    "    \\boxed{U = 1} \\\\ \\\\\n",
    "\n",
    "    T + U = 6 \\\\\n",
    "    T + (1) = 6 \\\\\n",
    "    T = 6 - 1\\\\\n",
    "    \\boxed{T = 5} \\\\ \\\\\n",
    "\n",
    "    \\textbf{CHECKING} \\\\\n",
    "    51 \\\\\n",
    "    5 \\cdot 8 = 40 \\\\\n",
    "    51 - 40 = 11\n",
    "\\end{gather*}"
   ]
  }
 ],
 "metadata": {
  "language_info": {
   "name": "python"
  }
 },
 "nbformat": 4,
 "nbformat_minor": 5
}
