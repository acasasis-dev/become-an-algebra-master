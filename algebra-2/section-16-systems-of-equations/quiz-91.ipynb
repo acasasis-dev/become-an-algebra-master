{
 "cells": [
  {
   "cell_type": "markdown",
   "id": "1c01137f",
   "metadata": {},
   "source": [
    "## Quiz 91: Uniform Motion Problems"
   ]
  },
  {
   "cell_type": "markdown",
   "id": "c981a57b",
   "metadata": {},
   "source": [
    "> 1. On Monday, Jenny walked at $3 \\text{ mph}$ from the school to the library. On Tuesday, Kelly walked at $6 \\text{ mph}$ from the school to the library and it took her $1$ hour to get there. How long did it take Jenny to get from the school to the library?"
   ]
  },
  {
   "cell_type": "markdown",
   "id": "574450b0",
   "metadata": {},
   "source": [
    "> 2. Janet and Ken made the same trip on different days. When Janet made the trip, she traveled at $25 \\text{ mph}$. When Ken made the trip, he traveled at $35 \\text{ mph}$, and the trip took him 4 hours less than it took Janet. How far did each person travel?"
   ]
  },
  {
   "cell_type": "markdown",
   "id": "47fd3d75",
   "metadata": {},
   "source": [
    "> 3. A ball flies (horizontally) over toward a gym wall at $30 \\frac{m}{s}$. After bouncing off the wall, it travels back (horizontally) to it's starting place at $20 \\frac{m}{s}$. The total time of flight is $2$ s. How far is the wall from the starting place?"
   ]
  }
 ],
 "metadata": {
  "language_info": {
   "name": "python"
  }
 },
 "nbformat": 4,
 "nbformat_minor": 5
}
