{
 "cells": [
  {
   "cell_type": "markdown",
   "id": "1c01137f",
   "metadata": {},
   "source": [
    "## Quiz 91: Uniform Motion Problems"
   ]
  },
  {
   "cell_type": "markdown",
   "id": "c981a57b",
   "metadata": {},
   "source": [
    "> 1. On Monday, Jenny walked at $3 \\text{ mph}$ from the school to the library. On Tuesday, Kelly walked at $6 \\text{ mph}$ from the school to the library and it took her $1$ hour to get there. How long did it take Jenny to get from the school to the library?\n",
    "\n",
    "\\begin{gather*}\n",
    "    D = rT \\\\\n",
    "\n",
    "    J_{r}J_{T} = K_{r}K_{T} \\\\\n",
    "    (3)J_{T} = (6)(1) \\\\\n",
    "    3J_{T} = 6 \\\\\n",
    "    \\frac{3J_{T} = 6}{3} \\\\\n",
    "    \\boxed{J_{T} = 2}\n",
    "\\end{gather*}"
   ]
  },
  {
   "cell_type": "markdown",
   "id": "574450b0",
   "metadata": {},
   "source": [
    "> 2. Janet and Ken made the same trip on different days. When Janet made the trip, she traveled at $25 \\text{ mph}$. When Ken made the trip, he traveled at $35 \\text{ mph}$, and the trip took him 4 hours less than it took Janet. How far did each person travel?\n",
    "\n",
    "\\begin{gather*}\n",
    "    J_{r}J_{T} = K_{r}K_{T} \\\\\n",
    "    (25)J_{T} = (35)(J_{T} - 4) \\\\\n",
    "    25J_{T} = 35J_{T} - 140 \\\\\n",
    "    140 = 35J_{T} - 25J_{T} \\\\\n",
    "    140 = 10J_{T} \\\\\n",
    "    \\frac{140 = 10J_{T}}{10} \\\\\n",
    "    \\boxed{J_{T} = 14} \\\\ \\\\\n",
    "\n",
    "    (25)(14) = (35)(14 - 4) \\\\\n",
    "    350 = 35(10) \\\\\n",
    "    \\boxed{350 = 350}\n",
    "\\end{gather*}"
   ]
  },
  {
   "cell_type": "markdown",
   "id": "2ca895ca",
   "metadata": {},
   "source": [
    "> 3. A ball flies (horizontally) over toward a gym wall at $30 \\frac{m}{s}$. After bouncing off the wall, it travels back (horizontally) to its starting place at $20 \\frac{m}{s}$. The total time of flight is $2$ s. How far is the wall from starting place?\n",
    "\n",
    "\\begin{gather*}\n",
    "    T_{r}T_{T} = B_{r}B_{T} \\\\\n",
    "    (30)T_{T} = (20)B_{T} \\\\ \\\\\n",
    "\n",
    "    T_{T} + B_{T} = 2 \\\\\n",
    "    T_{T} = 2 - B_{T} \\\\ \\\\\n",
    "\n",
    "    (30)(2 - B_{T}) = (20)B_{T} \\\\\n",
    "    60 - 30B_{T} = 20B_{T} \\\\\n",
    "    60 = 20B_{T} + 30B_{T} \\\\\n",
    "    60 = 50B_{T} \\\\\n",
    "    \\frac{60 = 50B_{T}}{50} \\\\\n",
    "    B_{T} = \\frac{60}{50} \\\\ \\\\\n",
    "    B_{T} = \\frac{6}{5}\n",
    "    \n",
    "    (30)T_{T} = (20)(\\frac{6}{5}) \\\\ \\\\\n",
    "    30T_{T} = \\frac{120}{5} \\\\\n",
    "    30T_{T} = 24 \\\\\n",
    "    \\frac{30T_{T} = 24}{30} \\\\\n",
    "    T_{T} = \\frac{24}{30} \\\\\n",
    "    T_{T} = \\frac{4}{5} \\\\ \\\\\n",
    "\n",
    "    (30)(\\frac{4}{5}) = (20)(\\frac{6}{5}) \\\\\n",
    "    \\frac{120}{5} = \\frac{120}{5} \\\\\n",
    "    24 = 24 \\\\ \\\\\n",
    "\n",
    "    \\boxed{24 \\ m}\n",
    "\\end{gather*}"
   ]
  }
 ],
 "metadata": {
  "language_info": {
   "name": "python"
  }
 },
 "nbformat": 4,
 "nbformat_minor": 5
}
