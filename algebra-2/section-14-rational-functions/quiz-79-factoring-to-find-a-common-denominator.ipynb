{
 "cells": [
  {
   "cell_type": "markdown",
   "id": "61b15e3c",
   "metadata": {},
   "source": [
    "## Quiz 79: Factoring To Find a Common Denominator"
   ]
  },
  {
   "cell_type": "markdown",
   "id": "ea9a8b6c",
   "metadata": {},
   "source": [
    "> 1. Simplify the expressions by combining the two fractions"
   ]
  },
  {
   "cell_type": "markdown",
   "id": "b55ed70c",
   "metadata": {},
   "source": [
    "$$\n",
    "    \\begin{gather*}\n",
    "        \\frac{5x}{x^2 + 5x + 6} + \\frac{2}{x + 2} \\\\\n",
    "        \\frac{5x}{(x + 3)(x + 2)} + \\frac{2}{x + 2} \\\\\n",
    "        \\frac{5x}{(x + 3)(x + 2)} + (\\frac{2}{x + 2})\\frac{x + 3}{x + 3} \\\\\n",
    "        \\frac{5x}{(x + 3)(x + 2)} + \\frac{2x + 6}{(x + 3)(x + 2)} \\\\\n",
    "        \\frac{5x + 2x + 6}{(x + 3)(x + 2)} \\\\\n",
    "        \\boxed{\\frac{7x + 6}{(x + 3)(x + 2)}}\n",
    "    \\end{gather*}\n",
    "$$"
   ]
  },
  {
   "cell_type": "markdown",
   "id": "a33d1a86",
   "metadata": {},
   "source": [
    "> 2. Simplify the expressions by combining the two fractions"
   ]
  },
  {
   "cell_type": "markdown",
   "id": "7b307575",
   "metadata": {},
   "source": [
    "$$\n",
    "    \\begin{gather*}\n",
    "        \\frac{x - 10}{x^2 + 10x + 21} + \\frac{2}{x + 3} \\\\\n",
    "        \\frac{x - 10}{(x + 7)(x + 3)} + \\frac{2}{x + 3} \\\\\n",
    "        \\frac{x - 10}{(x + 7)(x + 3)} + (\\frac{2}{x + 3})\\frac{x + 7}{(x + 7)(x + 3)} \\\\\n",
    "        \\frac{x - 10}{(x + 7)(x + 3)} + \\frac{2x + 14}{(x + 7)(x + 3)} \\\\\n",
    "        \\frac{x - 10 + 2x + 14}{(x + 7)(x + 3)} \\\\\n",
    "        \\boxed{\\frac{3x + 4}{(x + 7)(x + 3)}}\n",
    "    \\end{gather*}\n",
    "$$"
   ]
  },
  {
   "cell_type": "markdown",
   "id": "b034e013",
   "metadata": {},
   "source": [
    "> 3. Simplify the expressions by combining the two fractions"
   ]
  },
  {
   "cell_type": "markdown",
   "id": "0a1d9d32",
   "metadata": {},
   "source": [
    "$$\n",
    "    \\begin{gather*}\n",
    "        \\frac{t + 4}{t^2 - 3t + 2} - \\frac{2}{1 - t} \\\\\n",
    "        \\frac{t + 4}{(t - 2)(t - 1)} - \\frac{2}{1 - t} \\\\\n",
    "        \\frac{t + 4}{(t - 2)(t - 1)} - -(\\frac{2}{1 - t}) \\\\\n",
    "        \\frac{t + 4}{(t - 2)(t - 1)} + \\frac{2}{t - 1} \\\\\n",
    "        \\frac{t + 4}{(t - 2)(t - 1)} + (\\frac{2}{t - 1})\\frac{t - 2}{t - 2} \\\\\n",
    "        \\frac{t + 4}{(t - 2)(t - 1)} + \\frac{2t - 4}{(t - 2)(t - 1)} \\\\\n",
    "        \\frac{t + 4 + 2t - 4}{(t - 2)(t - 1)} \\\\\n",
    "        \\boxed{\\frac{3t}{(t - 2)(t - 1)}}\n",
    "    \\end{gather*}\n",
    "$$"
   ]
  }
 ],
 "metadata": {
  "language_info": {
   "name": "python"
  }
 },
 "nbformat": 4,
 "nbformat_minor": 5
}
