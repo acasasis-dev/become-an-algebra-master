{
 "cells": [
  {
   "cell_type": "markdown",
   "id": "895d5306",
   "metadata": {},
   "source": [
    "## Quiz 78: Adding and Subtracting Rational Functions"
   ]
  },
  {
   "cell_type": "markdown",
   "id": "8f0a3950",
   "metadata": {},
   "source": [
    "> 1. Simplify the expression by combining the three rational functions into a single rational function."
   ]
  },
  {
   "cell_type": "markdown",
   "id": "b010b492",
   "metadata": {},
   "source": [
    "$$\n",
    "    \\begin{gather*}\n",
    "        \\frac{x}{4y} + \\frac{a}{yz^2} - \\frac{m}{4z^4} \\\\\n",
    "    \\end{gather*}\n",
    "$$"
   ]
  },
  {
   "cell_type": "markdown",
   "id": "3bf872cd",
   "metadata": {},
   "source": [
    "> 2. Simplify the expression by combining the three rational functions into a single rational function."
   ]
  },
  {
   "cell_type": "markdown",
   "id": "3d1a8ba6",
   "metadata": {},
   "source": [
    "$$\n",
    "    \\begin{gather*}\n",
    "        \\frac{m}{cx^2} + \\frac{a}{2c} + \\frac{z}{2cx} \\\\\n",
    "    \\end{gather*}\n",
    "$$"
   ]
  },
  {
   "cell_type": "markdown",
   "id": "1cf47b28",
   "metadata": {},
   "source": [
    "> 3. Simplify the expression by combining the three rational functions into a single rational function."
   ]
  },
  {
   "cell_type": "markdown",
   "id": "0211c55e",
   "metadata": {},
   "source": [
    "$$\n",
    "    \\begin{gather*}\n",
    "        \\frac{p - 2q}{4p^2q} - \\frac{p + 2q}{4p^2q}\n",
    "    \\end{gather*}\n",
    "$$"
   ]
  }
 ],
 "metadata": {
  "language_info": {
   "name": "python"
  }
 },
 "nbformat": 4,
 "nbformat_minor": 5
}
