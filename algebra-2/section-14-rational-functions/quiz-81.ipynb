{
 "cells": [
  {
   "cell_type": "markdown",
   "id": "f4d2bb4b",
   "metadata": {},
   "source": [
    "## Quiz 81: Dividing Rational Functions"
   ]
  },
  {
   "cell_type": "markdown",
   "id": "84054a5d",
   "metadata": {},
   "source": [
    "> 1. Find the quotient of the rational functions"
   ]
  },
  {
   "cell_type": "markdown",
   "id": "40fc0d52",
   "metadata": {},
   "source": [
    "$$\n",
    "    \\begin{gather*}\n",
    "        \\frac{x^2 + x - 20}{x^2 - 8x + 15} \\div \\frac{x^2 - 6x + 8}{x^2 - 7x + 10} \\\\\n",
    "    \\end{gather*}\n",
    "$$"
   ]
  },
  {
   "cell_type": "markdown",
   "id": "65cf219b",
   "metadata": {},
   "source": [
    "> 2. Find the quotient of the rational functions"
   ]
  },
  {
   "cell_type": "markdown",
   "id": "6975695c",
   "metadata": {},
   "source": [
    "$$\n",
    "    \\begin{gather*}\n",
    "        \\frac{x^2 - 6x + 8}{x^2 + 7x + 12} \\div \\frac{x^2 - x - 20}{x^2 + 2x - 15}\n",
    "    \\end{gather*}\n",
    "$$"
   ]
  },
  {
   "cell_type": "markdown",
   "id": "52fcb3c0",
   "metadata": {},
   "source": [
    "> 3. Find the quotient of the rational functions"
   ]
  },
  {
   "cell_type": "markdown",
   "id": "f2201b7e",
   "metadata": {},
   "source": [
    "$$\n",
    "    \\begin{gather*}\n",
    "        \\frac{w^2 - w - 12}{w^2 + 5w + 4} \\div \\frac{w^2 - 9}{w^2 - 2w - 3}\n",
    "    \\end{gather*}\n",
    "$$"
   ]
  }
 ],
 "metadata": {
  "language_info": {
   "name": "python"
  }
 },
 "nbformat": 4,
 "nbformat_minor": 5
}
