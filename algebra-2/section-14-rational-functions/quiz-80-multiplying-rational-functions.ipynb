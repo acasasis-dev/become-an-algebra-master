{
 "cells": [
  {
   "cell_type": "markdown",
   "id": "88e33781",
   "metadata": {},
   "source": [
    "## Quiz 80: Multiplying Rational Functions"
   ]
  },
  {
   "cell_type": "markdown",
   "id": "04a77722",
   "metadata": {},
   "source": [
    "> 1. Simplify the expression by combining the two rational functions into a single rational function"
   ]
  },
  {
   "cell_type": "markdown",
   "id": "8cc78e27",
   "metadata": {},
   "source": [
    "$$\n",
    "    \\begin{gather*}\n",
    "        \\frac{4t^2 - 1}{t^2 - 4} \\cdot \\frac{t - 2}{2t - 1} \\\\\n",
    "        \\frac{(2t - 1)(2t + 1)}{(t - 2)(t + 2)} \\cdot \\frac{t - 2}{2t - 1} \\\\\n",
    "        \\frac{\\cancel{(2t - 1)}(2t + 1)}{\\cancel{(t - 2)}(t + 2)} \\cdot \\frac{\\cancel{t - 2}}{\\cancel{2t - 1}} \\\\\n",
    "        \\boxed{\\frac{2t + 1}{t + 2}}\n",
    "    \\end{gather*}\n",
    "$$"
   ]
  },
  {
   "cell_type": "markdown",
   "id": "6924b847",
   "metadata": {},
   "source": [
    "> 2. Simplify the expression by combining the two rational functions into a single rational function"
   ]
  },
  {
   "cell_type": "markdown",
   "id": "a1e0d760",
   "metadata": {},
   "source": [
    "$$\n",
    "    \\begin{gather*}\n",
    "        \\frac{y^2 + 2y - 15}{y^2 - 6y + 8} \\cdot \\frac{y^2 - 3y - 4}{y^2 + 6y + 5} \\\\\n",
    "        \\frac{(y + 5)(y - 3)}{(y - 4)(y - 2)} \\cdot \\frac{(y - 4)(y + 1)}{(y + 5)(y + 1)} \\\\\n",
    "        \\frac{\\cancel{(y + 5)}(y - 3)}{\\cancel{(y - 4)}(y - 2)} \\cdot \\frac{\\cancel{(y - 4)}\\cancel{(y + 1)}}{\\cancel{(y + 5)}\\cancel{(y + 1)}} \\\\\n",
    "        \\boxed{\\frac{y - 3}{y - 2}}\n",
    "    \\end{gather*}\n",
    "$$"
   ]
  },
  {
   "cell_type": "markdown",
   "id": "8bf2453e",
   "metadata": {},
   "source": [
    "> 3. Simplify the expression by combining the two rational functions into a single rational function"
   ]
  },
  {
   "cell_type": "markdown",
   "id": "5faf5dfe",
   "metadata": {},
   "source": [
    "$$\n",
    "    \\begin{gather*}\n",
    "        \\frac{m + 3}{7m + 35} \\cdot \\frac{7m^2 - 21m - 280}{m - 8} \\\\\n",
    "        \\frac{m + 3}{7(m + 5)} \\cdot \\frac{7(m^2 - 3m - 40)}{m - 8} \\\\\n",
    "        \\frac{m + 3}{7(m + 5)} \\cdot \\frac{7(m - 8)(m + 5)}{m - 8} \\\\\n",
    "        \\frac{m + 3}{\\cancel{7}\\cancel{(m + 5)}} \\cdot \\frac{\\cancel{7}\\cancel{(m - 8)}\\cancel{(m + 5)}}{\\cancel{m - 8}} \\\\\n",
    "        \\boxed{m + 3}\n",
    "    \\end{gather*}\n",
    "$$"
   ]
  }
 ],
 "metadata": {
  "language_info": {
   "name": "python"
  }
 },
 "nbformat": 4,
 "nbformat_minor": 5
}
