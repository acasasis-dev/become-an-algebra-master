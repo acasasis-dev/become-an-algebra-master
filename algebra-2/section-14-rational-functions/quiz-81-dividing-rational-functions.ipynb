{
 "cells": [
  {
   "cell_type": "markdown",
   "id": "f4d2bb4b",
   "metadata": {},
   "source": [
    "## Quiz 81: Dividing Rational Functions"
   ]
  },
  {
   "cell_type": "markdown",
   "id": "84054a5d",
   "metadata": {},
   "source": [
    "> 1. Find the quotient of the rational functions"
   ]
  },
  {
   "cell_type": "markdown",
   "id": "40fc0d52",
   "metadata": {},
   "source": [
    "$$\n",
    "    \\begin{gather*}\n",
    "        \\frac{x^2 + x - 20}{x^2 - 8x + 15} \\div \\frac{x^2 - 6x + 8}{x^2 - 7x + 10} \\\\\n",
    "        \\frac{(x + 5)(x - 4)}{(x - 5)(x - 3)} \\div \\frac{(x - 4)(x - 2)}{(x - 5)(x - 2)} \\\\\n",
    "        x \\ne 2, 3, 4, 5 \\\\\n",
    "        \\frac{(x + 5)\\cancel{(x - 4)}}{\\cancel{(x - 5)}(x - 3)} \\cdot \\frac{\\cancel{(x - 5)}\\cancel{(x - 2)}}{\\cancel{(x - 4)}\\cancel{(x - 2)}} \\\\\n",
    "        \\boxed{\\frac{x + 5}{x - 3} \\ \\ \\ x \\ne 2, 4, 5}\n",
    "    \\end{gather*}\n",
    "$$"
   ]
  },
  {
   "cell_type": "markdown",
   "id": "65cf219b",
   "metadata": {},
   "source": [
    "> 2. Find the quotient of the rational functions"
   ]
  },
  {
   "cell_type": "markdown",
   "id": "6975695c",
   "metadata": {},
   "source": [
    "$$\n",
    "    \\begin{gather*}\n",
    "        \\frac{x^2 - 6x + 8}{x^2 + 7x + 12} \\div \\frac{x^2 - x - 20}{x^2 + 2x - 15} \\\\\n",
    "        \\frac{(x - 4)(x - 2)}{(x + 4)(x + 3)} \\div \\frac{(x - 5)(x + 4)}{(x + 5)(x - 3)} \\\\\n",
    "        x \\ne -5, -4, -3, 3, 5 \\\\\n",
    "        \\frac{(x - 4)(x - 2)}{(x + 4)(x + 3)} \\cdot \\frac{(x + 5)(x - 3)}{(x - 5)(x + 4)} \\\\\n",
    "        \\boxed{\\frac{(x - 4)(x - 2)(x + 5)(x - 3)}{(x + 3)(x - 5)(x + 4)^2} \\ \\ \\ x \\ne -5, 3}\n",
    "    \\end{gather*}\n",
    "$$"
   ]
  },
  {
   "cell_type": "markdown",
   "id": "52fcb3c0",
   "metadata": {},
   "source": [
    "> 3. Find the quotient of the rational functions"
   ]
  },
  {
   "cell_type": "markdown",
   "id": "f2201b7e",
   "metadata": {},
   "source": [
    "$$\n",
    "    \\begin{gather*}\n",
    "        \\frac{w^2 - w - 12}{w^2 + 5w + 4} \\div \\frac{w^2 - 9}{w^2 - 2w - 3} \\\\\n",
    "        \\frac{(w - 4)(w + 3)}{(w + 4)(w + 1)} \\div \\frac{(w - 3)(w + 3)}{(w - 3)(w + 1)} \\\\\n",
    "        x \\ne -4, -3, -1, 3 \\\\\n",
    "        \\frac{(w - 4)\\cancel{(w + 3)}}{(w + 4)\\cancel{(w + 1)}} \\div \\frac{\\cancel{(w - 3)}\\cancel{(w + 1)}}{\\cancel{(w - 3)}\\cancel{(w + 3)}} \\\\\n",
    "        \\boxed{\\frac{w - 4}{w + 4} \\ \\ \\ x \\ne -3, -1, 3}\n",
    "    \\end{gather*}\n",
    "$$"
   ]
  }
 ],
 "metadata": {
  "language_info": {
   "name": "python"
  }
 },
 "nbformat": 4,
 "nbformat_minor": 5
}
