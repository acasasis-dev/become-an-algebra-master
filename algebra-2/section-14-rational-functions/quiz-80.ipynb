{
 "cells": [
  {
   "cell_type": "markdown",
   "id": "88e33781",
   "metadata": {},
   "source": [
    "## Quiz 80: Multiplying Rational Functions"
   ]
  },
  {
   "cell_type": "markdown",
   "id": "04a77722",
   "metadata": {},
   "source": [
    "> 1. Simplify the expression by combining the two rational functions into a single rational function"
   ]
  },
  {
   "cell_type": "markdown",
   "id": "8cc78e27",
   "metadata": {},
   "source": [
    "$$\n",
    "    \\begin{gather*}\n",
    "        \\frac{4t^2 - 1}{t^2 - 4} \\cdot \\frac{t - 2}{2t - 1}\n",
    "    \\end{gather*}\n",
    "$$"
   ]
  },
  {
   "cell_type": "markdown",
   "id": "6924b847",
   "metadata": {},
   "source": [
    "> 2. Simplify the expression by combining the two rational functions into a single rational function"
   ]
  },
  {
   "cell_type": "markdown",
   "id": "a1e0d760",
   "metadata": {},
   "source": [
    "$$\n",
    "    \\begin{gather*}\n",
    "        \\frac{y^2 + 2y - 5}{y^2 - 6y + 8} \\cdot \\frac{y^2 - 3y - 4}{y^2 + 6y + 5}\n",
    "    \\end{gather*}\n",
    "$$"
   ]
  },
  {
   "cell_type": "markdown",
   "id": "8bf2453e",
   "metadata": {},
   "source": [
    "> 3. Simplify the expression by combining the two rational functions into a single rational function"
   ]
  },
  {
   "cell_type": "markdown",
   "id": "5faf5dfe",
   "metadata": {},
   "source": [
    "$$\n",
    "    \\begin{gather*}\n",
    "        \\frac{m + 3}{7m + 35} \\cdot \\frac{7m^2 - 21m - 280}{m - 8}\n",
    "    \\end{gather*}\n",
    "$$"
   ]
  }
 ],
 "metadata": {
  "language_info": {
   "name": "python"
  }
 },
 "nbformat": 4,
 "nbformat_minor": 5
}
