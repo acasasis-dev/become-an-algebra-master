{
 "cells": [
  {
   "cell_type": "markdown",
   "id": "48ef9b27",
   "metadata": {},
   "source": [
    "## Quiz 77: Simplifying Rational Functions"
   ]
  },
  {
   "cell_type": "markdown",
   "id": "6b11cf18",
   "metadata": {},
   "source": [
    "> 1. Simplify the rational function to lowest terms"
   ]
  },
  {
   "cell_type": "markdown",
   "id": "33fe69c4",
   "metadata": {},
   "source": [
    "$$\n",
    "    \\begin{gather*}\n",
    "        \\frac{5ab + 25a^2b^2}{5ab}\n",
    "    \\end{gather*}\n",
    "$$"
   ]
  },
  {
   "cell_type": "markdown",
   "id": "66013525",
   "metadata": {},
   "source": [
    "> 2. Simplify the rational function in the difference"
   ]
  },
  {
   "cell_type": "markdown",
   "id": "ee950125",
   "metadata": {},
   "source": [
    "$$\n",
    "    \\begin{gather*}\n",
    "        \\frac{3mx + 9m^2x^2}{12mx} - \\frac{64m^3x^3 - 8m^2x^2}{4mx}\n",
    "    \\end{gather*}\n",
    "$$"
   ]
  },
  {
   "cell_type": "markdown",
   "id": "4c9f035a",
   "metadata": {},
   "source": [
    "> 3. Simplify the rational function"
   ]
  },
  {
   "cell_type": "markdown",
   "id": "ed593b06",
   "metadata": {},
   "source": [
    "$$\n",
    "    \\begin{gather*}\n",
    "        \\frac{3x^4 - 9x^3}{6x^2}\n",
    "    \\end{gather*}\n",
    "$$"
   ]
  }
 ],
 "metadata": {
  "language_info": {
   "name": "python"
  }
 },
 "nbformat": 4,
 "nbformat_minor": 5
}
