{
 "cells": [
  {
   "cell_type": "markdown",
   "id": "61b15e3c",
   "metadata": {},
   "source": [
    "## Quiz 79: Factoring To Find a Common Denominator"
   ]
  },
  {
   "cell_type": "markdown",
   "id": "ea9a8b6c",
   "metadata": {},
   "source": [
    "> 1. Simplify the expressions by combining the two fractions"
   ]
  },
  {
   "cell_type": "markdown",
   "id": "b55ed70c",
   "metadata": {},
   "source": [
    "$$\n",
    "    \\begin{gather*}\n",
    "        \\frac{5x}{x^2 + 5x + 6} + \\frac{2}{x + 2}\n",
    "    \\end{gather*}\n",
    "$$"
   ]
  },
  {
   "cell_type": "markdown",
   "id": "a33d1a86",
   "metadata": {},
   "source": [
    "> 2. Simplify the expressions by combining the two fractions"
   ]
  },
  {
   "cell_type": "markdown",
   "id": "7b307575",
   "metadata": {},
   "source": [
    "$$\n",
    "    \\begin{gather*}\n",
    "        \\frac{x - 10}{x^2 + 10x + 21} + \\frac{2}{x + 3}\n",
    "    \\end{gather*}\n",
    "$$"
   ]
  },
  {
   "cell_type": "markdown",
   "id": "b034e013",
   "metadata": {},
   "source": [
    "> 3. Simplify the expressions by combining the two fractions"
   ]
  },
  {
   "cell_type": "markdown",
   "id": "0a1d9d32",
   "metadata": {},
   "source": [
    "$$\n",
    "    \\begin{gather*}\n",
    "        \\frac{t + 4}{t^2 - 3t + 2} - \\frac{2}{1 - t}\n",
    "    \\end{gather*}\n",
    "$$"
   ]
  }
 ],
 "metadata": {
  "language_info": {
   "name": "python"
  }
 },
 "nbformat": 4,
 "nbformat_minor": 5
}
