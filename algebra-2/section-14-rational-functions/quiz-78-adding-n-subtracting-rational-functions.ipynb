{
 "cells": [
  {
   "cell_type": "markdown",
   "id": "895d5306",
   "metadata": {},
   "source": [
    "## Quiz 78: Adding and Subtracting Rational Functions"
   ]
  },
  {
   "cell_type": "markdown",
   "id": "8f0a3950",
   "metadata": {},
   "source": [
    "> 1. Simplify the expression by combining the three rational functions into a single rational function."
   ]
  },
  {
   "cell_type": "markdown",
   "id": "b010b492",
   "metadata": {},
   "source": [
    "$$\n",
    "    \\begin{gather*}\n",
    "        \\frac{x}{4y} + \\frac{a}{yz^2} - \\frac{m}{4z^4} \\\\\n",
    "        \\text{common denominator should be } \\bold{4yz^4} \\\\\n",
    "        \\frac{z^4}{z^4}(\\frac{x}{4y}) + \\frac{4z^2}{4z^2}(\\frac{a}{yz^2}) - \\frac{y}{y}(\\frac{m}{4z^4}) \\\\\n",
    "        \\boxed{\\frac{xz^4 + 4az^2 - my}{4yz^4}}\n",
    "    \\end{gather*}\n",
    "$$"
   ]
  },
  {
   "cell_type": "markdown",
   "id": "3bf872cd",
   "metadata": {},
   "source": [
    "> 2. Simplify the expression by combining the three rational functions into a single rational function."
   ]
  },
  {
   "cell_type": "markdown",
   "id": "3d1a8ba6",
   "metadata": {},
   "source": [
    "$$\n",
    "    \\begin{gather*}\n",
    "        \\frac{m}{cx^2} + \\frac{a}{2c} + \\frac{z}{2cx} \\\\\n",
    "        \\text{common denominator should be } \\bold{2cx^2} \\\\\n",
    "        \\frac{2}{2}(\\frac{m}{cx^2}) + \\frac{x^2}{x^2}(\\frac{a}{2c}) + \\frac{x}{x}(\\frac{z}{2cx}) \\\\\n",
    "        \\boxed{\\frac{2m + ax^2 + xz}{2cx^2}}\n",
    "    \\end{gather*}\n",
    "$$"
   ]
  },
  {
   "cell_type": "markdown",
   "id": "1cf47b28",
   "metadata": {},
   "source": [
    "> 3. Simplify the expression by combining the three rational functions into a single rational function."
   ]
  },
  {
   "cell_type": "markdown",
   "id": "0211c55e",
   "metadata": {},
   "source": [
    "$$\n",
    "    \\begin{gather*}\n",
    "        \\frac{p - 2q}{4p^2q} - \\frac{p + 2q}{4p^2q} \\\\\n",
    "        \\text{both already have the common denominator} \\\\\n",
    "        \\frac{p - 2q - (p + 2q)}{4p^2q} \\\\\n",
    "        \\frac{p - 2q - p - 2q}{4p^2q} \\\\\n",
    "        \\frac{-4q}{4p^2q} \\\\\n",
    "        \\frac{-\\cancel{4q}^{\\ \\ 1}}{\\cancel{4}p^2\\cancel{q}} \\\\\n",
    "        \\boxed{-\\frac{1}{p^2}}\n",
    "    \\end{gather*}\n",
    "$$"
   ]
  }
 ],
 "metadata": {
  "language_info": {
   "name": "python"
  }
 },
 "nbformat": 4,
 "nbformat_minor": 5
}
