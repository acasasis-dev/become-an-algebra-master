{
 "cells": [
  {
   "cell_type": "markdown",
   "id": "88dbe76b",
   "metadata": {},
   "source": [
    "## Quiz 71: Imaginary and Complex Numbers"
   ]
  },
  {
   "cell_type": "markdown",
   "id": "c4dca932",
   "metadata": {},
   "source": [
    "> 1. Simplify the expression."
   ]
  },
  {
   "cell_type": "markdown",
   "id": "9664e6b2",
   "metadata": {},
   "source": [
    "$$\n",
    "    \\begin{gather*}\n",
    "        3ii - 2i + 8i^3 \\\\\n",
    "        3(-1) - 2\\sqrt{-1} + 8(-1)\\sqrt{-1} \\\\\n",
    "        -3 - 2\\sqrt{-1} - 8\\sqrt{-1} \\\\\n",
    "        -3 - 10\\sqrt{-1} \\\\\n",
    "        \\boxed{-3 - 10i}\n",
    "    \\end{gather*}\n",
    "$$"
   ]
  },
  {
   "cell_type": "markdown",
   "id": "a3dc6a3c",
   "metadata": {
    "vscode": {
     "languageId": "plaintext"
    }
   },
   "source": [
    "> 2. Simplify the expression."
   ]
  },
  {
   "cell_type": "markdown",
   "id": "fa3b23dd",
   "metadata": {},
   "source": [
    "$$\n",
    "    \\begin{gather*}\n",
    "        - \\sqrt{-16} + 4t^3 + 3i - \\sqrt{-9} \\sqrt{9} + 3\\sqrt{-4} \\\\\n",
    "        - \\sqrt{16}i + 4(-1)i + 3i - \\sqrt{9}i(3) + 3\\sqrt{4}i \\\\\n",
    "        -4i - 4i + 3i - 9i + 6i \\\\\n",
    "        \\boxed{-8i}\n",
    "    \\end{gather*}\n",
    "$$"
   ]
  },
  {
   "cell_type": "markdown",
   "id": "ed752db2",
   "metadata": {
    "vscode": {
     "languageId": "plaintext"
    }
   },
   "source": [
    "> 3. Simplify the expression."
   ]
  },
  {
   "cell_type": "markdown",
   "id": "9bdad629",
   "metadata": {
    "vscode": {
     "languageId": "plaintext"
    }
   },
   "source": [
    "$$\n",
    "    \\begin{gather*}\n",
    "        3i^6 + 4i^5 - 3i^4 - 7i^3 + 5i^2 - \\sqrt{-16} \\\\\n",
    "        3(-1) + 4(1)i - 3{1} - 7(-1)i + 5(-1) - \\sqrt{16}i \\\\\n",
    "        -3 + 4i - 3 + 7i - 5 - 4i \\\\\n",
    "        \\boxed{-11 + 7i}\n",
    "    \\end{gather*}\n",
    "$$\n",
    "    "
   ]
  }
 ],
 "metadata": {
  "language_info": {
   "name": "python"
  }
 },
 "nbformat": 4,
 "nbformat_minor": 5
}
