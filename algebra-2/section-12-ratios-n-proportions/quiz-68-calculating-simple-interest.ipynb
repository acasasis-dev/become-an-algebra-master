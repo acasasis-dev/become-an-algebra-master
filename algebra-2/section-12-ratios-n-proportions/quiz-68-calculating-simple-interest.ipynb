{
 "cells": [
  {
   "cell_type": "markdown",
   "id": "ec379242",
   "metadata": {},
   "source": [
    "## Quiz 68: Calculating Simple Interest"
   ]
  },
  {
   "cell_type": "markdown",
   "id": "c2ad0acd",
   "metadata": {},
   "source": [
    "**LEGEND:**  \n",
    "**I** = Interest  \n",
    "**P** = Principal Amount  \n",
    "**r** = rate  \n",
    "**T** = Time  \n",
    "**A** = Total Amount  \n",
    "  \n",
    "**I = PrT**  \n",
    "**A = P + I or A = P(1 + rT)** "
   ]
  },
  {
   "cell_type": "markdown",
   "id": "6e63240e",
   "metadata": {},
   "source": [
    "> 1. If we deposit **$100** into a savings account that earns **10%** simple interest per year, how much is in the account after **3 years**?"
   ]
  },
  {
   "cell_type": "markdown",
   "id": "1b73c90b",
   "metadata": {},
   "source": [
    "$$\n",
    "    \\begin{gather*}\n",
    "        A = 100(1 + (\\frac{10}{100})(3)) \\\\\n",
    "        A = 100(1 + (0.1)(3)) \\\\\n",
    "        A = 100(1 + 0.3) \\\\\n",
    "        A = 100(1.3) \\\\\n",
    "        \\boxed{A = 130}\n",
    "    \\end{gather*}\n",
    "$$"
   ]
  },
  {
   "cell_type": "markdown",
   "id": "10b160a8",
   "metadata": {},
   "source": [
    "> 2. How much will we have to invest @ **6%** simple interest if we want to earn **$150** in interest in **8 years**?"
   ]
  },
  {
   "cell_type": "markdown",
   "id": "8f2bc145",
   "metadata": {},
   "source": [
    "$$\n",
    "    \\begin{gather*}\n",
    "        150 = P(\\frac{6}{100})(8) \\\\\n",
    "        150 = P(0.06)(8) \\\\\n",
    "        150 = 0.48P \\\\\n",
    "        \\frac{150}{0.48} = \\frac{0.48P}{0.48} \\\\\n",
    "        \\boxed{P = 312.5}\n",
    "    \\end{gather*}\n",
    "$$"
   ]
  },
  {
   "cell_type": "markdown",
   "id": "ad51d255",
   "metadata": {},
   "source": [
    "> 3. When Sara turned **21 years old**, she invested **$2,000** at **10%** simple interest per year. How much will this investment be worth when Sara turns **65**?"
   ]
  },
  {
   "cell_type": "markdown",
   "id": "10c18b1b",
   "metadata": {},
   "source": [
    "$$\n",
    "    \\begin{gather*}\n",
    "        T = 65 - 21 \\\\\n",
    "        T = 44 \\\\ \\\\\n",
    "        A = 2000(1 + (\\frac{10}{100})(44)) \\\\\n",
    "        A = 2000(1 + (0.1)(44)) \\\\\n",
    "        A = 2000(1 + 4.4) \\\\\n",
    "        A = 2000(5.4) \\\\\n",
    "        \\boxed{A = 10800}\n",
    "    \\end{gather*}\n",
    "$$"
   ]
  }
 ],
 "metadata": {
  "language_info": {
   "name": "python"
  }
 },
 "nbformat": 4,
 "nbformat_minor": 5
}
