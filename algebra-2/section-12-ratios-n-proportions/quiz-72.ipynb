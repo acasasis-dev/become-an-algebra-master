{
 "cells": [
  {
   "cell_type": "markdown",
   "id": "4336401c",
   "metadata": {},
   "source": [
    "## Quiz 72: Rationalizing Complex Denominators"
   ]
  },
  {
   "cell_type": "markdown",
   "id": "bdf74fab",
   "metadata": {},
   "source": [
    "> 1. Use the conjugate method to simplify the expression."
   ]
  },
  {
   "cell_type": "markdown",
   "id": "e8d133b2",
   "metadata": {},
   "source": [
    "$$\n",
    "    \\begin{gather*}\n",
    "        \\frac{\\sqrt{-3}\\sqrt{-3} - 2i^3}{i + 3} \\\\\n",
    "        \\frac{\\sqrt{3}i\\sqrt{3}i - 2(-1)i}{i + 3} \\\\\n",
    "        \\frac{\\sqrt{3 \\cdot 3}(-1) + 2i}{i + 3} \\\\\n",
    "        \\frac{\\sqrt{9}(-1) + 2i}{i + 3} \\\\\n",
    "        \\frac{-3 + 2i}{i + 3} \\\\\n",
    "        \\frac{-3 + 2i}{i + 3} \\cdot \\frac{3 - i}{3 - i} \\\\\n",
    "        \\frac{-9 + 3i + 6i - 2(-1)}{3i - (-1) + 9 - 3i} \\\\\n",
    "        \\frac{-9 + 9i + 2}{1 + 9} \\\\\n",
    "        \\frac{-7 + 9i}{10} \\\\\n",
    "        \\boxed{-\\frac{7}{10} + \\frac{9i}{10}}\n",
    "    \\end{gather*}\n",
    "$$"
   ]
  },
  {
   "cell_type": "markdown",
   "id": "94e2f893",
   "metadata": {},
   "source": [
    "> 2. Use the conjugate method to simplify the expression."
   ]
  },
  {
   "cell_type": "markdown",
   "id": "f9b7352f",
   "metadata": {},
   "source": [
    "$$\n",
    "    \\begin{gather*}\n",
    "        \\frac{3i - i^2}{2i^2 - i^3} \\\\\n",
    "        \\frac{3i - (-1)}{2(-1) - (-1)i} \\\\\n",
    "        \\frac{3i + 1}{-2 + i} \\\\\n",
    "        \\frac{3i + 1}{-2 + i} \\cdot \\frac{-2 - i}{-2 - i} \\\\\n",
    "        \\frac{-6i + 3 - 2 - i}{4 + 2i - 2i - (-1)} \\\\\n",
    "        \\frac{-7i + 1}{5} \\\\\n",
    "        \\boxed{-\\frac{7}{5}i + \\frac{1}{5}}\n",
    "    \\end{gather*}\n",
    "$$"
   ]
  },
  {
   "cell_type": "markdown",
   "id": "27857859",
   "metadata": {},
   "source": [
    "> 3. Use the conjugate method to simplify the expression."
   ]
  },
  {
   "cell_type": "markdown",
   "id": "ef1cd537",
   "metadata": {},
   "source": [
    "$$\n",
    "    \\begin{gather*}\n",
    "        \\frac{4 + 4i}{5 - 3i} \\\\\n",
    "        \\frac{4 + 4i}{5 - 3i} \\cdot \\frac{5 + 3i}{5 + 3i} \\\\\n",
    "        \\frac{20 + 12i + 20i + 12(-1)}{25 + 15i - 15i - 9(-1)} \\\\\n",
    "        \\frac{20 + 32i - 12}{25 + 9} \\\\\n",
    "        \\frac{8 + 32i}{34} \\\\\n",
    "        \\frac{8}{34} + \\frac{32i}{34} \\\\\n",
    "        \\boxed{\\frac{4}{17} + \\frac{16i}{17}}\n",
    "    \\end{gather*}\n",
    "$$"
   ]
  },
  {
   "cell_type": "markdown",
   "id": "1358f78b",
   "metadata": {},
   "source": []
  }
 ],
 "metadata": {
  "language_info": {
   "name": "python"
  }
 },
 "nbformat": 4,
 "nbformat_minor": 5
}
