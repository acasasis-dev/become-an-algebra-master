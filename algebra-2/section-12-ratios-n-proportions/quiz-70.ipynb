{
 "cells": [
  {
   "cell_type": "markdown",
   "id": "bc357f27",
   "metadata": {},
   "source": [
    "## Quiz 70: Ratios and Proportions with Complex Fractions"
   ]
  },
  {
   "cell_type": "markdown",
   "id": "ee08b30d",
   "metadata": {},
   "source": [
    "> 1. Solve for the variable."
   ]
  },
  {
   "cell_type": "markdown",
   "id": "f1a376e2",
   "metadata": {},
   "source": [
    "$$\n",
    "    \\begin{gather*}\n",
    "        \\frac{(\\frac{1}{2})}{x} = \\frac{(\\frac{1}{4})}{\\frac{1}{5}} \\\\\n",
    "        \\frac{1}{2} \\cdot \\frac{1}{x} = \\frac{1}{4} \\cdot \\frac{5}{1} \\\\\n",
    "        \\frac{1}{2x} = \\frac{5}{4} \\\\\n",
    "        2x = \\frac{4}{5} \\\\\n",
    "        x = \\frac{4}{5} \\cdot \\frac{1}{2} \\\\\n",
    "        x = \\frac{4}{10} \\\\\n",
    "        \\boxed{x = \\frac{2}{5}}\n",
    "    \\end{gather*}\n",
    "$$"
   ]
  },
  {
   "cell_type": "markdown",
   "id": "67868eee",
   "metadata": {},
   "source": [
    "> 2. Solve for the variable."
   ]
  },
  {
   "cell_type": "markdown",
   "id": "bb2bd2d6",
   "metadata": {},
   "source": [
    "$$\n",
    "    \\begin{gather*}\n",
    "        \\frac{(\\frac{x}{3})}{(\\frac{7}{2})} = \\frac{(\\frac{3}{2})}{(\\frac{2}{5})} \\\\\n",
    "        \\frac{x}{3} \\cdot \\frac{2}{7} = \\frac{3}{2} \\cdot \\frac{5}{2} \\\\\n",
    "        \\frac{2x}{21} = \\frac{15}{4} \\\\\n",
    "        2x = \\frac{15}{4} \\cdot 21 \\\\\n",
    "        2x = \\frac{315}{4} \\\\\n",
    "        x = \\frac{315}{4} \\cdot \\frac{1}{2} \\\\\n",
    "        \\boxed{x = \\frac{315}{8}}\n",
    "    \\end{gather*}\n",
    "$$"
   ]
  },
  {
   "cell_type": "markdown",
   "id": "d47bf27e",
   "metadata": {},
   "source": [
    "> 3. Solve for the variable."
   ]
  },
  {
   "cell_type": "markdown",
   "id": "893898c4",
   "metadata": {},
   "source": [
    "$$\n",
    "    \\begin{gather*}\n",
    "        \\frac{(\\frac{2}{3})}{(\\frac{4}{9})} = \\frac{(\\frac{7}{8})}{x} \\\\\n",
    "        \\frac{2}{3} \\cdot \\frac{9}{4} = \\frac{7}{8} \\cdot \\frac{1}{x} \\\\\n",
    "        \\frac{18}{12} = \\frac{7}{8x} \\\\\n",
    "        \\frac{12}{18} = \\frac{8x}{7} \\\\\n",
    "        \\frac{12}{18} \\cdot 7 = \\frac{8x}{7} \\cdot 7 \\\\\n",
    "        \\frac{84}{18} = 8x \\\\\n",
    "        \\frac{84}{18} \\cdot \\frac{1}{8} = x \\\\\n",
    "        \\frac{84}{144} = x \\\\\n",
    "        \\boxed{x = \\frac{7}{12}}\n",
    "    \\end{gather*}\n",
    "$$"
   ]
  }
 ],
 "metadata": {
  "language_info": {
   "name": "python"
  }
 },
 "nbformat": 4,
 "nbformat_minor": 5
}
