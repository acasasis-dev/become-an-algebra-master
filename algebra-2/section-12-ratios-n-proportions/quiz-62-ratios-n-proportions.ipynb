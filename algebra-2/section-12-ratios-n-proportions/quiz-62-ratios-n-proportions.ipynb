{
 "cells": [
  {
   "cell_type": "markdown",
   "id": "8768c523",
   "metadata": {},
   "source": [
    "## Quiz 62: Ratios and Proportions"
   ]
  },
  {
   "cell_type": "markdown",
   "id": "ab550ad2",
   "metadata": {},
   "source": [
    "> 1. Two numbers have a ratio of **4** to **7** and a sum of **99**. What are the two numbers?"
   ]
  },
  {
   "cell_type": "markdown",
   "id": "81c46c43",
   "metadata": {},
   "source": [
    "$$\n",
    "    \\begin{gather*}\n",
    "        \\frac{x}{y} = \\frac{4}{7} \\\\\n",
    "        7x = 4y \\\\\n",
    "        x = \\frac{4}{7}y \\\\ \\\\\n",
    "        x + y = 99 \\\\\n",
    "        (\\frac{4}{7}y) + y = 99 \\\\\n",
    "        4y + 7y = 693 \\\\\n",
    "        11y = 693 \\\\\n",
    "        \\boxed{y = 63} \\\\ \\\\\n",
    "        x + (63) = 99 \\\\\n",
    "        \\boxed{x = 36}\n",
    "    \\end{gather*}    \n",
    "$$"
   ]
  },
  {
   "cell_type": "markdown",
   "id": "a5612e7c",
   "metadata": {},
   "source": [
    "> 2. If there are **15 girls** and **6 boys** in a class, what is the ratio of boys to girls?"
   ]
  },
  {
   "cell_type": "markdown",
   "id": "f50ade56",
   "metadata": {},
   "source": [
    "$$ \\frac{6}{15} = \\boxed{\\frac{2}{5}} $$"
   ]
  },
  {
   "cell_type": "markdown",
   "id": "edefbce8",
   "metadata": {},
   "source": [
    "> 3. If there are **15 girls** and **6 boys** in a class, then the ratio of the boys to girls is **6/15**. If I want to keep this ratio how many girls will there be in a class with **18 boys**"
   ]
  },
  {
   "cell_type": "markdown",
   "id": "62c99f43",
   "metadata": {},
   "source": [
    "$$\n",
    "    \\begin{gather*}\n",
    "        \\frac{6}{15} = \\frac{18}{x} \\\\\n",
    "        \\frac{15}{6} = \\frac{x}{18} \\\\\n",
    "        \\frac{15}{6} \\cdot 18 = \\frac{x}{18} \\cdot 18 \\\\\n",
    "        \\frac{270}{6} = x \\\\\n",
    "        \\boxed{x = 45}\n",
    "    \\end{gather*}\n",
    "$$"
   ]
  }
 ],
 "metadata": {
  "language_info": {
   "name": "python"
  }
 },
 "nbformat": 4,
 "nbformat_minor": 5
}
