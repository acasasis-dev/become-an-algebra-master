{
 "cells": [
  {
   "cell_type": "markdown",
   "id": "f743657b",
   "metadata": {},
   "source": [
    "## Quiz 66: Percent Markdown"
   ]
  },
  {
   "cell_type": "markdown",
   "id": "dc348b5d",
   "metadata": {},
   "source": [
    "**LEGEND:**  \n",
    "**O_pr** = Original Price  \n",
    "**M_pr** = Markdown Price  \n",
    "**M_pe** = Markdown Percentage  \n",
    "**S_pr** = Sale Price  "
   ]
  },
  {
   "cell_type": "markdown",
   "id": "b2506f50",
   "metadata": {},
   "source": [
    "$$ \n",
    "    \\begin{gather*}\n",
    "        \\frac{M_{pr}}{O_{pr}} = \\frac{M_{pe}}{100} \\\\\n",
    "        S_{pr} = O_{pr} - M_{pr}\n",
    "    \\end{gather*}\n",
    "$$"
   ]
  },
  {
   "cell_type": "markdown",
   "id": "3173697b",
   "metadata": {},
   "source": [
    "> 1. A bike was priced originally @ **$100**, but it's on sale for **$80**. What is the percent markdown?"
   ]
  },
  {
   "cell_type": "markdown",
   "id": "3ec39aeb",
   "metadata": {},
   "source": [
    "$$\n",
    "    \\begin{gather*}\n",
    "        \\frac{M_{pr}}{100} = \\frac{M_{pe}}{100} \\\\\n",
    "        M_{pe} = \\frac{100M_{pr}}{100} \\\\\n",
    "        M_{pe} = M_{pr} \\\\ \\\\\n",
    "        80 = 100 - M_{pr} \\\\\n",
    "        M_{pr} = 100 - 80 \\\\\n",
    "        M_{pr} = 20 \\\\\n",
    "        \\boxed{M_{pe} = 20\\%}\n",
    "    \\end{gather*}\n",
    "$$"
   ]
  },
  {
   "cell_type": "markdown",
   "id": "47e4fbd3",
   "metadata": {},
   "source": [
    "> 2. The regular price of an item was **$38.00**. The item is on sale for **25% off**. What is the sale price of the item?"
   ]
  },
  {
   "cell_type": "markdown",
   "id": "371c64b8",
   "metadata": {},
   "source": [
    "$$\n",
    "    \\begin{gather*}\n",
    "        \\frac{M_{pr}}{38} = \\frac{25}{100} \\\\\n",
    "        \\frac{M_{pr}}{38} \\cdot 38 = \\frac{25}{100} \\cdot 38 \\\\\n",
    "        M_{pr} = \\frac{950}{100} \\\\\n",
    "        M_{pr} = 9.5 \\\\ \\\\\n",
    "        S_{pr} = 38 - (9.5) \\\\\n",
    "        \\boxed{S_{pr} = 28.5}\n",
    "    \\end{gather*}\n",
    "$$"
   ]
  },
  {
   "cell_type": "markdown",
   "id": "b930c799",
   "metadata": {},
   "source": [
    "> 3. The price of a bicycle was marked down to **$58.00**, and the sale price was **75% off** of the original price. What was the original price?"
   ]
  },
  {
   "cell_type": "markdown",
   "id": "8e9d6851",
   "metadata": {},
   "source": [
    "$$\n",
    "    \\begin{gather*}\n",
    "        \\frac{58}{O_{pr}} = \\frac{25}{100} \\\\\n",
    "        \\frac{O_{pr}}{58} = \\frac{100}{25} \\\\\n",
    "        \\frac{O_{pr}}{58} \\cdot 58= \\frac{100}{25} \\cdot 58 \\\\\n",
    "        O_{pr} = \\frac{5800}{25} \\\\\n",
    "        \\boxed{O_{pr} = 232}\n",
    "    \\end{gather*}\n",
    "$$"
   ]
  }
 ],
 "metadata": {
  "language_info": {
   "name": "python"
  }
 },
 "nbformat": 4,
 "nbformat_minor": 5
}
