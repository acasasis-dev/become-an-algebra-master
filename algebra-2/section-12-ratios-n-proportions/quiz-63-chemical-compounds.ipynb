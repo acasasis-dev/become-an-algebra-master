{
 "cells": [
  {
   "cell_type": "markdown",
   "id": "3bebb5b5",
   "metadata": {},
   "source": [
    "## Quiz 63: Chemical Compounds"
   ]
  },
  {
   "cell_type": "markdown",
   "id": "dd8092e7",
   "metadata": {},
   "source": [
    "> 1. **Beryllium Flouride** has the molecular formula **BeF_2**, and it has a molar mass of about **47 g/mol**. If the molar mass of **beryllium** is **9 g/mol** and the molar mass of **flourine** is **19 g/mol**, find the mass of a **beryllium flouride** sample containing **228 g** of **flourine**."
   ]
  },
  {
   "cell_type": "markdown",
   "id": "dd38f8d3",
   "metadata": {},
   "source": [
    "$$\n",
    "    \\begin{gather*}\n",
    "        BeF_{2} \\\\\n",
    "        9 + 2(19) = 47 \\\\ \\\\\n",
    "        \\frac{38}{47} = \\frac{228}{x} \\\\\n",
    "        \\frac{47}{38} = \\frac{x}{228} \\\\\n",
    "        \\frac{47}{38} \\cdot 228 = \\frac{x}{228} \\cdot {228} \\\\\n",
    "        \\frac{10716}{38} = x \\\\\n",
    "        \\boxed{x = 282}\n",
    "    \\end{gather*}\n",
    "$$"
   ]
  },
  {
   "cell_type": "markdown",
   "id": "131e0965",
   "metadata": {},
   "source": [
    "> 2. What is the molar mass of **H_2O**, if the molar mass of **hydrogen** is **1.00794 g/mol** and the molar mass of **oxygen** is **15.9994 g/mol**?"
   ]
  },
  {
   "cell_type": "markdown",
   "id": "f2927eb8",
   "metadata": {},
   "source": [
    "$$\n",
    "    \\begin{gather*}\n",
    "        H_{2}O \\\\\n",
    "        2(1.00794) + 15.9994 = x \\\\\n",
    "        2.01588 + 15.9994 = x \\\\\n",
    "        \\boxed{x = 18.01528}\n",
    "    \\end{gather*}\n",
    "$$\n"
   ]
  },
  {
   "cell_type": "markdown",
   "id": "01a63182",
   "metadata": {},
   "source": [
    "> 3. Find the mass of hydrogen in a **185 g** **ammonium carbonate** sample, **(NH_4)_2CO_3**, if the molar mass of **ammonium carbonate** is **96.09 g/mol** and the molar mass of **hydrogen** is **1.00794 g/mol**."
   ]
  },
  {
   "cell_type": "markdown",
   "id": "41733561",
   "metadata": {},
   "source": [
    "$$\n",
    "    \\begin{gather*}\n",
    "        (NH_{4})_{2}CO_{3} \\\\\n",
    "        N_{2}H_{8}CO_{3} \\\\\n",
    "        2N + 8(1.00794) + C + 3O = 96.09 \\\\\n",
    "        2N + 8.06352 + C + 3O = 96.09 \\\\ \\\\\n",
    "        \\frac{8.06352}{96.09} = \\frac{x}{185} \\\\\n",
    "        \\frac{8.06352}{96.09} \\cdot 185 = \\frac{x}{185} \\cdot 185 \\\\\n",
    "        \\frac{1491.7512}{96.09} = x \\\\\n",
    "        \\boxed{x = 15.5245207618}\n",
    "    \\end{gather*}\n",
    "$$"
   ]
  },
  {
   "cell_type": "markdown",
   "id": "3c8afc51",
   "metadata": {},
   "source": []
  }
 ],
 "metadata": {
  "language_info": {
   "name": "python"
  }
 },
 "nbformat": 4,
 "nbformat_minor": 5
}
