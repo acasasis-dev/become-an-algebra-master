{
 "cells": [
  {
   "cell_type": "markdown",
   "id": "3afcc356",
   "metadata": {},
   "source": [
    "## Quiz 69: Complex Fractions"
   ]
  },
  {
   "cell_type": "markdown",
   "id": "d68b5426",
   "metadata": {},
   "source": [
    "> 1. Simplify the expression."
   ]
  },
  {
   "cell_type": "markdown",
   "id": "5028d86c",
   "metadata": {},
   "source": [
    "$$\n",
    "    \\begin{gather*}\n",
    "        \\frac{(\\frac{1}{2})}{(\\frac{1}{3})} \\\\\n",
    "        \\frac{1}{2} \\cdot \\frac{3}{1} \\\\\n",
    "        \\boxed{\\frac{3}{2}}\n",
    "    \\end{gather*}\n",
    "$$"
   ]
  },
  {
   "cell_type": "markdown",
   "id": "1790880e",
   "metadata": {},
   "source": [
    "> 2. Simplify the expression."
   ]
  },
  {
   "cell_type": "markdown",
   "id": "8187dd88",
   "metadata": {},
   "source": [
    "$$\n",
    "    \\begin{gather*}\n",
    "        \\frac{(\\frac{x}{m})}{d} \\\\\n",
    "        \\frac{x}{m} \\cdot \\frac{1}{d} \\\\\n",
    "        \\boxed{\\frac{x}{dm}}\n",
    "    \\end{gather*}\n",
    "$$"
   ]
  },
  {
   "cell_type": "markdown",
   "id": "94c3f579",
   "metadata": {},
   "source": [
    "> 3. Simplify the expression."
   ]
  },
  {
   "cell_type": "markdown",
   "id": "91d30ceb",
   "metadata": {},
   "source": [
    "$$\n",
    "    \\begin{gather*}\n",
    "        \\frac{(\\frac{x}{a + b})}{(\\frac{m}{a + b})} \\\\\n",
    "        \\frac{x}{a + b} \\cdot \\frac{a + b}{m} \\\\\n",
    "        \\boxed{\\frac{x}{m}}\n",
    "    \\end{gather*}\n",
    "$$"
   ]
  }
 ],
 "metadata": {
  "language_info": {
   "name": "python"
  }
 },
 "nbformat": 4,
 "nbformat_minor": 5
}
