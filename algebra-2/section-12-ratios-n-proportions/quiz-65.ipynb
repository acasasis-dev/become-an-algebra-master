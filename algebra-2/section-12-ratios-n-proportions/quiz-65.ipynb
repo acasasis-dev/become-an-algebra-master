{
 "cells": [
  {
   "cell_type": "markdown",
   "id": "f42d4c35",
   "metadata": {},
   "source": [
    "## Quiz 65: Percent Markup"
   ]
  },
  {
   "cell_type": "markdown",
   "id": "b544b618",
   "metadata": {},
   "source": [
    "**LEGEND:** \\\n",
    "**S** = Selling Price \\\n",
    "**P** = Purchase Price \\\n",
    "**M** = Markup Price \\\n",
    "**S = P + M**"
   ]
  },
  {
   "cell_type": "markdown",
   "id": "902bd3ee",
   "metadata": {},
   "source": [
    "> 1. If a bicycle store purchases a bike from the manufacturer for **$100**, and they mark it up **3%**, how much are they selling the bike for?"
   ]
  },
  {
   "cell_type": "markdown",
   "id": "6dad027a",
   "metadata": {},
   "source": [
    "$$\n",
    "    \\begin{gather*}\n",
    "        M = \\frac{3}{100} \\cdot 100 \\\\\n",
    "        M = \\frac{300}{100} \\\\\n",
    "        M = 3 \\\\\n",
    "        S = 100 + 3 \\\\\n",
    "        \\boxed{S = 103}\n",
    "    \\end{gather*}\n",
    "$$"
   ]
  },
  {
   "cell_type": "markdown",
   "id": "61895236",
   "metadata": {},
   "source": [
    "> 2. If a furniture store purchase a sofa from the manufacturer, marks it up by **62%**, and sells the item for **$1,296.00**, how much did the store pay the manufacturer for the sofa?"
   ]
  },
  {
   "cell_type": "markdown",
   "id": "e801c314",
   "metadata": {},
   "source": [
    "$$\n",
    "    \\begin{gather*}\n",
    "        M = \\frac{62}{100} \\cdot P \\\\\n",
    "        M = 0.62P \\\\\n",
    "        1296 = P + 0.62P \\\\\n",
    "        1296 = 1.62P \\\\\n",
    "        \\boxed{P = 800}\n",
    "    \\end{gather*}\n",
    "$$"
   ]
  },
  {
   "cell_type": "markdown",
   "id": "fe8fa927",
   "metadata": {},
   "source": [
    "> 3. If we mark up a jacket by **40%** and then sell it for **$63**, how much was the markup?"
   ]
  },
  {
   "cell_type": "markdown",
   "id": "0934bbae",
   "metadata": {},
   "source": [
    "$$\n",
    "    \\begin{gather*}\n",
    "        M = \\frac{40}{100} \\cdot P \\\\\n",
    "        M = 0.4P \\\\\n",
    "        63 = P + 0.4P \\\\\n",
    "        63 = 1.4P \\\\\n",
    "        P = 45 \\\\\n",
    "        M = 0.4(45) \\\\\n",
    "        \\boxed{M = 18}\n",
    "    \\end{gather*}\n",
    "$$"
   ]
  }
 ],
 "metadata": {
  "language_info": {
   "name": "python"
  }
 },
 "nbformat": 4,
 "nbformat_minor": 5
}
