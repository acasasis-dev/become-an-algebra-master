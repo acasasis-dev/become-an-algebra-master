{
 "cells": [
  {
   "cell_type": "markdown",
   "id": "0eaf1fb0",
   "metadata": {},
   "source": [
    "## Quiz 64: Fractions to Decimals to Percents"
   ]
  },
  {
   "cell_type": "markdown",
   "id": "46965dce",
   "metadata": {},
   "source": [
    "> 1. Find a mixed number that represents the expression."
   ]
  },
  {
   "cell_type": "markdown",
   "id": "4a68f369",
   "metadata": {},
   "source": [
    "$$\n",
    "    \\begin{gather*}\n",
    "        3 \\% \\ \\text{of} \\ 80 \\\\\n",
    "        \\frac{3}{100} \\cdot 80 \\\\\n",
    "        \\frac{240}{100} \\\\\n",
    "        \\frac{12}{5} \\\\\n",
    "        \\boxed{2\\frac{2}{5}}\n",
    "    \\end{gather*}\n",
    "$$"
   ]
  },
  {
   "cell_type": "markdown",
   "id": "8a706a89",
   "metadata": {},
   "source": [
    "> 2. Convert the fraction to a percent"
   ]
  },
  {
   "cell_type": "markdown",
   "id": "eec44788",
   "metadata": {},
   "source": [
    "$$\n",
    "    \\begin{gather*}\n",
    "        \\frac{40}{80} \\\\\n",
    "        \\frac{1}{2} \\\\\n",
    "        \\frac{1}{2} \\cdot 100 \\\\\n",
    "        \\frac{100}{2} \\\\\n",
    "        \\boxed{50\\%}\n",
    "    \\end{gather*}\n",
    "$$"
   ]
  },
  {
   "cell_type": "markdown",
   "id": "89597b80",
   "metadata": {},
   "source": [
    "> 3. What percent of the students have brown hair?"
   ]
  },
  {
   "cell_type": "markdown",
   "id": "dc643994",
   "metadata": {},
   "source": [
    "$$\n",
    "    \\begin{gather*}\n",
    "        \\frac{7}{12} \\ \\text{of the} \\ 60 \\ \\text{students have brown hair} \\\\ \\\\\n",
    "        \\frac{7}{12} \\cdot 60 \\\\\n",
    "        \\frac{420}{12} = 35 \\\\\n",
    "        \\text{35 of 60 students have brown hair} \\\\\n",
    "        \\frac{35}{60} \\cdot 100 \\\\\n",
    "        \\frac{3500}{60} \\\\\n",
    "        \\boxed{58.33\\%}\n",
    "    \\end{gather*}\n",
    "$$"
   ]
  },
  {
   "cell_type": "markdown",
   "id": "0e4371d4",
   "metadata": {},
   "source": []
  }
 ],
 "metadata": {
  "language_info": {
   "name": "python"
  }
 },
 "nbformat": 4,
 "nbformat_minor": 5
}
