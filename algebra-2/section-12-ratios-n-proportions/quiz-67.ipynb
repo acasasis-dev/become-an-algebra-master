{
 "cells": [
  {
   "cell_type": "markdown",
   "id": "d45bab95",
   "metadata": {},
   "source": [
    "## Quiz 67: Calculating Commission"
   ]
  },
  {
   "cell_type": "markdown",
   "id": "43040f44",
   "metadata": {},
   "source": [
    "> 1. If a car salesman makes a **2%** commission on every sale, how much does he make when he sells a **$10,000** car?"
   ]
  },
  {
   "cell_type": "markdown",
   "id": "0ed4344c",
   "metadata": {},
   "source": [
    "$$\n",
    "    \\begin{gather*}\n",
    "        C = 10000 \\cdot \\frac{2}{100} \\\\\n",
    "        C = 10000 \\cdot 0.02 \\\\\n",
    "        \\boxed{C = 200}\n",
    "    \\end{gather*}\n",
    "$$"
   ]
  },
  {
   "cell_type": "markdown",
   "id": "53a4b599",
   "metadata": {},
   "source": [
    "> 2. A used car salesman makes an **8%** commission on every car he sells. He's also paid an annual salary of **$35,500**. How much money in car sales does he need to make if he wants to increase his annual income to **$44,000**?"
   ]
  },
  {
   "cell_type": "markdown",
   "id": "8d00e2a3",
   "metadata": {},
   "source": [
    "$$\n",
    "    \\begin{gather*}\n",
    "        C = 44000 - 35500 \\\\\n",
    "        C = 8500 \\\\ \\\\\n",
    "        8500 = P(\\frac{8}{100}) \\\\\n",
    "        8500 = 0.08P \\\\\n",
    "        \\boxed{P = 106250}\n",
    "    \\end{gather*}\n",
    "$$\n",
    "        "
   ]
  },
  {
   "cell_type": "markdown",
   "id": "05609d13",
   "metadata": {},
   "source": [
    "> 3. A sales clerk makes a **10%** commission on the items she sells. If each item costs **$25**, how many items does she needs to sell to earn **$350** in commission?"
   ]
  },
  {
   "cell_type": "markdown",
   "id": "6f10101f",
   "metadata": {},
   "source": [
    "$$\n",
    "    \\begin{gather*}\n",
    "        350 = N(25 \\cdot \\frac{10}{100}) \\\\\n",
    "        350 = N(25 \\cdot 0.1) \\\\\n",
    "        350 = 2.5N \\\\\n",
    "        \\boxed{N = 140}\n",
    "    \\end{gather*}\n",
    "$$"
   ]
  },
  {
   "cell_type": "markdown",
   "id": "0695b860",
   "metadata": {},
   "source": []
  }
 ],
 "metadata": {
  "language_info": {
   "name": "python"
  }
 },
 "nbformat": 4,
 "nbformat_minor": 5
}
