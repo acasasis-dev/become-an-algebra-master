{
 "cells": [
  {
   "cell_type": "markdown",
   "id": "36cd9ada",
   "metadata": {},
   "source": [
    "## Quiz 76: Sum of Cubes"
   ]
  },
  {
   "cell_type": "markdown",
   "id": "4d5b61fb",
   "metadata": {},
   "source": [
    "> 1. Factor the expression"
   ]
  },
  {
   "cell_type": "markdown",
   "id": "5afc483b",
   "metadata": {},
   "source": [
    "$$\n",
    "    \\begin{gather*}\n",
    "        64x^9y^{18} + 8r^3 \\\\\n",
    "        (4x^3y^6 + 2r)(16x^6y^{12} - 8rx^3y^6 + 4r^2) \\\\\n",
    "        2(2x^3y^6 + r)4(4x^6y^{12} - 2rx^3y^6 + r^2) \\\\\n",
    "        (2 \\cdot 4)(2x^3y^6 + r)(4x^6y^{12} - 2rx^3y^6 + r^2) \\\\\n",
    "        \\boxed{8(2x^3y^6 + r)(4x^6y^{12} - 2rx^3y^6 + r^2)}\n",
    "    \\end{gather*}\n",
    "$$"
   ]
  },
  {
   "cell_type": "markdown",
   "id": "07f7d543",
   "metadata": {},
   "source": [
    "> 2. Factor the expression"
   ]
  },
  {
   "cell_type": "markdown",
   "id": "76f69701",
   "metadata": {},
   "source": [
    "$$\n",
    "    \\begin{gather*}\n",
    "        27j^6k^9 + 125r^6t^3 \\\\\n",
    "        \\boxed{(3j^2k^3 + 5r^2t)(9j^4k^6 - 15j^2k^3r^2t + 25r^4t^2)}\n",
    "    \\end{gather*}\n",
    "$$"
   ]
  },
  {
   "cell_type": "markdown",
   "id": "910298cd",
   "metadata": {},
   "source": [
    "> 3. Factor the expression"
   ]
  },
  {
   "cell_type": "markdown",
   "id": "2bb7a2fc",
   "metadata": {},
   "source": [
    "$$\n",
    "    \\begin{gather*}\n",
    "        343c^3p^3 + x^{12}y^9 \\\\\n",
    "        \\boxed{(7cp + x^4y^3)(49c^2p^2 - 7cpx^4y^3 + x^8y^6)}\n",
    "    \\end{gather*}\n",
    "$$"
   ]
  }
 ],
 "metadata": {
  "language_info": {
   "name": "python"
  }
 },
 "nbformat": 4,
 "nbformat_minor": 5
}
