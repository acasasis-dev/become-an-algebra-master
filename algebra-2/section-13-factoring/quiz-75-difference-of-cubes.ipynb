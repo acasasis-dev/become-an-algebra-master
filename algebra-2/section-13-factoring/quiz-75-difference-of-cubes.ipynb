{
 "cells": [
  {
   "cell_type": "markdown",
   "id": "6ac9c8c9",
   "metadata": {},
   "source": [
    "## Quiz 75: Difference of Cubes"
   ]
  },
  {
   "cell_type": "markdown",
   "id": "56cb8fcf",
   "metadata": {},
   "source": [
    "> 1. Factor the expression"
   ]
  },
  {
   "cell_type": "markdown",
   "id": "4d6d4a72",
   "metadata": {},
   "source": [
    "$$\n",
    "    \\begin{gather*}\n",
    "        x^3 - 64m^6r^9 \\\\\n",
    "        \\boxed{(x - 4m^2r^3)(x^2 + 4m^2r^3x + 16m^4r^6)}\n",
    "    \\end{gather*}\n",
    "$$"
   ]
  },
  {
   "cell_type": "markdown",
   "id": "7f042c95",
   "metadata": {},
   "source": [
    "> 2. Factor the expression"
   ]
  },
  {
   "cell_type": "markdown",
   "id": "fd322fde",
   "metadata": {},
   "source": [
    "$$\n",
    "    \\begin{gather*}\n",
    "        8y^3z^6 - 125x^3 \\\\\n",
    "        \\boxed{(2yz^2 - 5x)(4y^2z^4 + 10xyz^2 + 25x^2)}\n",
    "    \\end{gather*}\n",
    "$$"
   ]
  },
  {
   "cell_type": "markdown",
   "id": "c9e0d016",
   "metadata": {},
   "source": [
    "> 3. Factor the expression"
   ]
  },
  {
   "cell_type": "markdown",
   "id": "cf374a81",
   "metadata": {},
   "source": [
    "$$\n",
    "    \\begin{gather*}\n",
    "        64r^3v^3 - 216z^9 \\\\\n",
    "        \\boxed{(4rv - 6z^3)(16r^2v^2 + 24rvz^3 + 36z^6)}\n",
    "    \\end{gather*}\n",
    "$$"
   ]
  }
 ],
 "metadata": {
  "language_info": {
   "name": "python"
  }
 },
 "nbformat": 4,
 "nbformat_minor": 5
}
