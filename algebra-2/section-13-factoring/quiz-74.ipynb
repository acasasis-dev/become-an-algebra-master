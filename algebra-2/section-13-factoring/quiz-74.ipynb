{
 "cells": [
  {
   "cell_type": "markdown",
   "id": "529f6a60",
   "metadata": {},
   "source": [
    "## Quiz 74: Grouping"
   ]
  },
  {
   "cell_type": "markdown",
   "id": "50871651",
   "metadata": {},
   "source": [
    "> 1. Factor the polynomial by grouping"
   ]
  },
  {
   "cell_type": "markdown",
   "id": "9b9cec0a",
   "metadata": {},
   "source": [
    "$$\n",
    "    \\begin{gather*}\n",
    "        5k - kxy + 5pc - pcxy\n",
    "    \\end{gather*}\n",
    "$$"
   ]
  },
  {
   "cell_type": "markdown",
   "id": "00d706b0",
   "metadata": {},
   "source": [
    "> 2. Factor the polynomial by grouping"
   ]
  },
  {
   "cell_type": "markdown",
   "id": "bad7cf03",
   "metadata": {},
   "source": [
    "$$\n",
    "    \\begin{gather*}\n",
    "        xya - 4a + xyb - 4b\n",
    "    \\end{gather*}\n",
    "$$"
   ]
  },
  {
   "cell_type": "markdown",
   "id": "6bbdb6af",
   "metadata": {},
   "source": [
    "> 3. Factor the polynomial by grouping"
   ]
  },
  {
   "cell_type": "markdown",
   "id": "b3f2924f",
   "metadata": {},
   "source": [
    "$$\n",
    "    \\begin{gather*}\n",
    "        12ahx + 6akx + 12bchx + 6bckx + 4ahy + 2aky + 4bchy + 2bcky\n",
    "    \\end{gather*}\n",
    "$$"
   ]
  }
 ],
 "metadata": {
  "language_info": {
   "name": "python"
  }
 },
 "nbformat": 4,
 "nbformat_minor": 5
}
