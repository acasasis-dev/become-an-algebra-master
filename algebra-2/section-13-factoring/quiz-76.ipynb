{
 "cells": [
  {
   "cell_type": "markdown",
   "id": "36cd9ada",
   "metadata": {},
   "source": [
    "## Quiz 76: Sum of Cubes"
   ]
  },
  {
   "cell_type": "markdown",
   "id": "4d5b61fb",
   "metadata": {},
   "source": [
    "> 1. Factor the expression"
   ]
  },
  {
   "cell_type": "markdown",
   "id": "5afc483b",
   "metadata": {},
   "source": [
    "$$\n",
    "    \\begin{gather*}\n",
    "        64x^9y^{18} + 8r^3\n",
    "    \\end{gather*}\n",
    "$$"
   ]
  },
  {
   "cell_type": "markdown",
   "id": "07f7d543",
   "metadata": {},
   "source": [
    "> 2. Factor the expression"
   ]
  },
  {
   "cell_type": "markdown",
   "id": "76f69701",
   "metadata": {},
   "source": [
    "$$\n",
    "    \\begin{gather*}\n",
    "        27j^6k^9 + 125r^6t^3\n",
    "    \\end{gather*}\n",
    "$$"
   ]
  },
  {
   "cell_type": "markdown",
   "id": "910298cd",
   "metadata": {},
   "source": [
    "> 3. Factor the expression"
   ]
  },
  {
   "cell_type": "markdown",
   "id": "2bb7a2fc",
   "metadata": {},
   "source": [
    "$$\n",
    "    \\begin{gather*}\n",
    "        343c^3p^3 + x^{12}y^9\n",
    "    \\end{gather*}\n",
    "$$"
   ]
  }
 ],
 "metadata": {
  "language_info": {
   "name": "python"
  }
 },
 "nbformat": 4,
 "nbformat_minor": 5
}
