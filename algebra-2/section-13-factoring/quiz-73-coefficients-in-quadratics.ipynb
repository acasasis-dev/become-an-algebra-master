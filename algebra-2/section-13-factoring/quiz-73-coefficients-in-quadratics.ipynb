{
 "cells": [
  {
   "cell_type": "markdown",
   "id": "57e171ae",
   "metadata": {},
   "source": [
    "## Quiz 73: Coefficients in Quadratics"
   ]
  },
  {
   "cell_type": "markdown",
   "id": "d172e5c3",
   "metadata": {},
   "source": [
    "> 1. Factor the quadratic"
   ]
  },
  {
   "cell_type": "markdown",
   "id": "dd8935f0",
   "metadata": {},
   "source": [
    "$$\n",
    "    \\begin{gather*}\n",
    "        5x^2 - 3x - 2 \\\\\n",
    "        5 = 5 \\cdot 1 \\\\\n",
    "        -2 = 2 \\cdot -1 \\\\\n",
    "        (5)(-1) + (2)(1) = -3 \\\\\n",
    "        -5 + 2 = -3 \\\\\n",
    "        \\boxed{(5x + 2)(x - 1)}\n",
    "    \\end{gather*}\n",
    "$$"
   ]
  },
  {
   "cell_type": "markdown",
   "id": "22b98d8c",
   "metadata": {},
   "source": [
    "> 2. Factor the quadratic"
   ]
  },
  {
   "cell_type": "markdown",
   "id": "d9c4fe0f",
   "metadata": {},
   "source": [
    "$$\n",
    "    \\begin{gather*}\n",
    "        6x^2 - 2x - 4 \\\\\n",
    "        6 = 6 \\cdot 1 \\\\\n",
    "        -4 = 4 \\cdot -1 \\\\\n",
    "        (6)(-1) + (4)(1) = -2 \\\\\n",
    "        -6 + 4 = -2 \\\\\n",
    "        (6x + 4)(x - 1) \\\\\n",
    "        \\boxed{2(3x + 2)(x - 1)}\n",
    "    \\end{gather*}\n",
    "$$"
   ]
  },
  {
   "cell_type": "markdown",
   "id": "5653a3bb",
   "metadata": {},
   "source": [
    "3. Factor the cubic polynomial, remembering to look first for a greatest common factor"
   ]
  },
  {
   "cell_type": "markdown",
   "id": "cd0e5e8c",
   "metadata": {},
   "source": [
    "$$\n",
    "    \\begin{gather*}\n",
    "        6x^3 + 11x^2 - 2x \\\\\n",
    "        6 = 6 \\cdot 1 \\\\\n",
    "        -2 = -1 \\cdot 2 \\\\\n",
    "        (6)(2) + (-1)(1) = 11 \\\\\n",
    "        12 + -1 = 11 \\\\\n",
    "        (6x^2 - x)(x + 2) \\\\\n",
    "        \\boxed{x(6x - 1)(x + 2)}\n",
    "    \\end{gather*}\n",
    "$$"
   ]
  }
 ],
 "metadata": {
  "language_info": {
   "name": "python"
  }
 },
 "nbformat": 4,
 "nbformat_minor": 5
}
