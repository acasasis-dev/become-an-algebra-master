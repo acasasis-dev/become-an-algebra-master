{
 "cells": [
  {
   "cell_type": "markdown",
   "id": "529f6a60",
   "metadata": {},
   "source": [
    "## Quiz 74: Grouping"
   ]
  },
  {
   "cell_type": "markdown",
   "id": "50871651",
   "metadata": {},
   "source": [
    "> 1. Factor the polynomial by grouping"
   ]
  },
  {
   "cell_type": "markdown",
   "id": "9b9cec0a",
   "metadata": {},
   "source": [
    "$$\n",
    "    \\begin{gather*}\n",
    "        5k - kxy + 5pc - pcxy \\\\\n",
    "        5(k + pc) - xy(k + pc) \\\\\n",
    "        \\boxed{(5 - xy)(k + pc)}\n",
    "    \\end{gather*}\n",
    "$$"
   ]
  },
  {
   "cell_type": "markdown",
   "id": "00d706b0",
   "metadata": {},
   "source": [
    "> 2. Factor the polynomial by grouping"
   ]
  },
  {
   "cell_type": "markdown",
   "id": "bad7cf03",
   "metadata": {},
   "source": [
    "$$\n",
    "    \\begin{gather*}\n",
    "        xya - 4a + xyb - 4b \\\\\n",
    "        -4(a + b) + xy(a + b) \\\\\n",
    "        \\boxed{(xy - 4)(a + b)}\n",
    "    \\end{gather*}\n",
    "$$"
   ]
  },
  {
   "cell_type": "markdown",
   "id": "6bbdb6af",
   "metadata": {},
   "source": [
    "> 3. Factor the polynomial by grouping"
   ]
  },
  {
   "cell_type": "markdown",
   "id": "b3f2924f",
   "metadata": {},
   "source": [
    "$$\n",
    "    \\begin{gather*}\n",
    "        12ahx + 6akx + 12bchx + 6bckx + 4ahy + 2aky + 4bchy + 2bcky \\\\\n",
    "        12hx(a + bc) + 6kx(a + bc) + 4hy(a + bc) + 2ky(a + bc) \\\\\n",
    "        (12hx + 6kx + 4hy + 2ky)(a + bc) \\\\\n",
    "        6x(2h + k) + 2y(2h + k)(a + bc) \\\\\n",
    "        (6x + 2y)(2h + k)(a + bc) \\\\\n",
    "        \\boxed{2(3x + y)(2h + k)(a + bc)}\n",
    "    \\end{gather*}\n",
    "$$"
   ]
  }
 ],
 "metadata": {
  "language_info": {
   "name": "python"
  }
 },
 "nbformat": 4,
 "nbformat_minor": 5
}
