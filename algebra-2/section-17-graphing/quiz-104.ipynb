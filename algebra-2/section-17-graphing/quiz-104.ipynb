{
 "cells": [
  {
   "cell_type": "markdown",
   "id": "1b1f7c94",
   "metadata": {},
   "source": [
    "## Quiz 104: Quadratic Inequalities"
   ]
  },
  {
   "cell_type": "markdown",
   "id": "827721f5",
   "metadata": {},
   "source": [
    "> 1. Solve $x^2 + 2x - 3 < 0$ graphically."
   ]
  },
  {
   "cell_type": "markdown",
   "id": "8ccfa0b0",
   "metadata": {},
   "source": [
    "> 2. Solve $x^2 + 10x + 21 > 0$ algebraically."
   ]
  },
  {
   "cell_type": "markdown",
   "id": "7ef122f2",
   "metadata": {},
   "source": [
    "> 3. Solve the quadratic inequality $-x^2 + x + 12 \\ge 0$."
   ]
  }
 ],
 "metadata": {
  "language_info": {
   "name": "python"
  }
 },
 "nbformat": 4,
 "nbformat_minor": 5
}
