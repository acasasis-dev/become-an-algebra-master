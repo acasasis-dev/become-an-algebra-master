{
 "cells": [
  {
   "cell_type": "markdown",
   "id": "2f9cc26b",
   "metadata": {},
   "source": [
    "## Quiz 100: Distance Between Two Points"
   ]
  },
  {
   "cell_type": "markdown",
   "id": "28a392c7",
   "metadata": {},
   "source": [
    "> 1. What is the distance between the points?\n",
    "\n",
    "\\begin{gather*}\n",
    "    (3, 11) \\\\\n",
    "    (8, -1) \\\\ \\\\\n",
    "\\end{gather*}"
   ]
  },
  {
   "cell_type": "markdown",
   "id": "20be010f",
   "metadata": {},
   "source": [
    "> 2. What is the distance between the points?\n",
    "\n",
    "\\begin{gather*}\n",
    "    (7, \\sqrt{5}) \\\\\n",
    "    (5, -\\sqrt{5}) \\\\ \\\\\n",
    "\\end{gather*}"
   ]
  },
  {
   "cell_type": "markdown",
   "id": "c2bfcbfc",
   "metadata": {},
   "source": [
    "> 3. Points $A$, $B$, and $C$ lie on a line, in that order. if $B$ is at $(6, 10)$ and $C$ is at $(9, 13)$, what is $\\overline{AC}$ (the length of the straight line between $A$ and $C$), given the following relationship between $\\overline{BC}$ (the length of the straight line between $B$ and $C$) and $\\overline{AB}$ (the length of the straight line between $A$ and $B$)?\n",
    "\n",
    "\\begin{gather*}\n",
    "    \\overline{BC} = \\frac{1}{2} \\cdot \\overline{AB} \\\\ \\\\\n",
    "\\end{gather*}"
   ]
  }
 ],
 "metadata": {
  "language_info": {
   "name": "python"
  }
 },
 "nbformat": 4,
 "nbformat_minor": 5
}
