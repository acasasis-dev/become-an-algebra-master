{
 "cells": [
  {
   "cell_type": "markdown",
   "id": "2f9cc26b",
   "metadata": {},
   "source": [
    "## Quiz 100: Distance Between Two Points"
   ]
  },
  {
   "cell_type": "markdown",
   "id": "4acb7683",
   "metadata": {},
   "source": [
    "d = \\sqrt{(x_2 - x_1)^2 + (y_2 - y_1)^2}"
   ]
  },
  {
   "cell_type": "markdown",
   "id": "28a392c7",
   "metadata": {},
   "source": [
    "> 1. What is the distance between the points?\n",
    "\n",
    "\\begin{gather*}\n",
    "    (3, 11) \\\\\n",
    "    (8, -1) \\\\ \\\\\n",
    "\n",
    "    d = \\sqrt{(x_2 - x_1)^2 + (y_2 - y_1)^2} \\\\\n",
    "    d = \\sqrt{(8 - 3)^2 + (-1 - 11)^2} \\\\\n",
    "    d = \\sqrt{(5)^2 + (-12)^2} \\\\\n",
    "    d = \\sqrt{25 + 144} \\\\\n",
    "    d = \\sqrt{169} \\\\\n",
    "    \\boxed{d = 13}\n",
    "\\end{gather*}"
   ]
  },
  {
   "cell_type": "markdown",
   "id": "20be010f",
   "metadata": {},
   "source": [
    "> 2. What is the distance between the points?\n",
    "\n",
    "\\begin{gather*}\n",
    "    (7, \\sqrt{5}) \\\\\n",
    "    (5, -\\sqrt{5}) \\\\ \\\\\n",
    "\n",
    "    d = \\sqrt{(x_2 - x_1)^2 + (y_2 - y_1)^2} \\\\\n",
    "    d = \\sqrt{(5 - 7)^2 + (-\\sqrt{5} - \\sqrt{5})^2} \\\\ \n",
    "    d = \\sqrt{(-2)^2 + (-2\\sqrt{5})^2} \\\\\n",
    "    d = \\sqrt{4 + (4(5))} \\\\\n",
    "    d = \\sqrt{4 + 20} \\\\\n",
    "    d = \\sqrt{24} \\\\\n",
    "    d = \\sqrt{4}\\sqrt{6} \\\\\n",
    "    \\boxed{d = 2\\sqrt{6}}\n",
    "\\end{gather*}"
   ]
  },
  {
   "cell_type": "markdown",
   "id": "c2bfcbfc",
   "metadata": {},
   "source": [
    "> 3. Points $A$, $B$, and $C$ lie on a line, in that order. if $B$ is at $(6, 10)$ and $C$ is at $(9, 13)$, what is $\\overline{AC}$ (the length of the straight line between $A$ and $C$), given the following relationship between $\\overline{BC}$ (the length of the straight line between $B$ and $C$) and $\\overline{AB}$ (the length of the straight line between $A$ and $B$)?\n",
    "\n",
    "\\begin{gather*}\n",
    "    \\overline{BC} = \\frac{1}{2} \\cdot \\overline{AB} \\\\\n",
    "    2(\\overline{BC} = \\frac{1}{2} \\cdot \\overline{AB}) \\\\\n",
    "    2\\overline{BC} = \\overline{AB} \\\\ \\\\\n",
    "\n",
    "    B = (6, 10), \\ C = (9, 13) \\\\\n",
    "    \\overline{BC} = \\sqrt{(x_2 - x_1)^2 + (y_2 - y_1)^2} \\\\\n",
    "    \\overline{BC} = \\sqrt{(9 - 6)^2 + (13 - 10)^2} \\\\\n",
    "    \\overline{BC} = \\sqrt{(3)^2 + (3)^2} \\\\\n",
    "    \\overline{BC} = \\sqrt{9 + 9} \\\\\n",
    "    \\overline{BC} = \\sqrt{18} \\\\\n",
    "    \\overline{BC} = \\sqrt{9}\\sqrt{2} \\\\\n",
    "    \\overline{BC} = 3\\sqrt{2} \\\\ \\\\\n",
    "\n",
    "    2\\overline{BC} = \\overline{AB} \\\\\n",
    "    2(3\\sqrt{2}) = \\overline{AB} \\\\\n",
    "    \\overline{AB} = 6\\sqrt{2} \\\\ \\\\ \n",
    "\n",
    "    \\overline{AC} = \\overline{AB} + \\overline{BC} \\\\\n",
    "    \\overline{AC} = (6\\sqrt{2}) + (3\\sqrt{2}) \\\\\n",
    "    \\boxed{\\overline{AC} = 9\\sqrt{2}}\n",
    "\\end{gather*}"
   ]
  }
 ],
 "metadata": {
  "language_info": {
   "name": "python"
  }
 },
 "nbformat": 4,
 "nbformat_minor": 5
}
