{
 "cells": [
  {
   "cell_type": "markdown",
   "id": "f2962b8a",
   "metadata": {},
   "source": [
    "## Quiz 98: Center and Radius of a Circle"
   ]
  },
  {
   "cell_type": "markdown",
   "id": "3affeaf7",
   "metadata": {},
   "source": [
    "> 1. Find the center and radius of the circle.\n",
    "\n",
    "\\begin{gather*}\n",
    "    4x^2 + 4y^2 + 4x - 12y + 1 = 0 \\\\ \\\\\n",
    "\\end{gather*}"
   ]
  },
  {
   "cell_type": "markdown",
   "id": "5b0ed766",
   "metadata": {},
   "source": [
    "> 2. Find the center and radius of the given circle.\n",
    "\n",
    "\\begin{gather*}\n",
    "    x^2 + y^2 - 6y = 5 \\\\ \\\\\n",
    "\\end{gather*}"
   ]
  },
  {
   "cell_type": "markdown",
   "id": "56cd7b2d",
   "metadata": {},
   "source": [
    "> 3. Find the center and radius of the given circle.\n",
    "\n",
    "\\begin{gather*}\n",
    "    x^2 + y^2 + 10x - 4y + 13 = 0 \\\\ \\\\\n",
    "\\end{gather*}"
   ]
  }
 ],
 "metadata": {
  "language_info": {
   "name": "python"
  }
 },
 "nbformat": 4,
 "nbformat_minor": 5
}
