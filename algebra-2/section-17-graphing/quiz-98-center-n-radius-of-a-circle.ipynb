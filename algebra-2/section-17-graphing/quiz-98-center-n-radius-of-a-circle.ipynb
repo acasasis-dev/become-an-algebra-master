{
 "cells": [
  {
   "cell_type": "markdown",
   "id": "f2962b8a",
   "metadata": {},
   "source": [
    "## Quiz 98: Center and Radius of a Circle"
   ]
  },
  {
   "cell_type": "markdown",
   "id": "3affeaf7",
   "metadata": {},
   "source": [
    "> 1. Find the center and radius of the circle.\n",
    "\n",
    "\\begin{gather*}\n",
    "    4x^2 + 4y^2 + 4x - 12y + 1 = 0 \\\\\n",
    "    4x^2 + 4y^2 + 4x - 12y = -1 \\\\\n",
    "    4x^2 + 4y^2 + 4x - 12y = -1 \\\\ \\\\\n",
    "    \\frac{4x^2 + 4y^2 + 4x - 12y = -1}{4} \\\\\n",
    "    x^2 + y^2 + x - 3y = -\\frac{1}{4} \\\\\n",
    "    (x^2 + x) + (y^2 - 3y) = -\\frac{1}{4} \\\\ \\\\\n",
    "\n",
    "    (\\frac{1}{2})^2 = \\frac{1}{4} \\\\\n",
    "    (x^2 + x + \\frac{1}{4}) - \\frac{1}{4} + (y^2 - 3y) = -\\frac{1}{4} \\\\ \\\\\n",
    "\n",
    "    (\\frac{3}{2})^2 = \\frac{9}{4} \\\\\n",
    "    (x^2 + x + \\frac{1}{4}) - \\frac{1}{4} + (y^2 - 3y + \\frac{9}{4}) - \\frac{9}{4} = -\\frac{1}{4} \\\\ \\\\\n",
    "\n",
    "    (x + \\frac{1}{2})^2 + (y - \\frac{3}{2})^2 = -\\frac{1}{4} + \\frac{1}{4} + \\frac{9}{4} \\\\\n",
    "    (x - (-\\frac{1}{2}))^2 + (y - \\frac{3}{2})^2 = \\frac{9}{4} \\\\\n",
    "\\end{gather*}\n",
    "\n",
    "Center at $(-\\frac{1}{2}, \\frac{3}{2})$ and radius is $\\sqrt{\\frac{9}{4}} = \\frac{3}{2}$"
   ]
  },
  {
   "cell_type": "markdown",
   "id": "5b0ed766",
   "metadata": {},
   "source": [
    "> 2. Find the center and radius of the given circle.\n",
    "\n",
    "\\begin{gather*}\n",
    "    x^2 + y^2 - 6y = 5 \\\\ \\\\\n",
    "\n",
    "    (x^2 + 0) + (y^2 - 6y) = 5 \\\\\n",
    "    (x + 0)^2 + (y^2 - 6y) = 5 \\\\ \\\\\n",
    "\n",
    "    (\\frac{6}{2})^2 = (3)^2 = 9 \\\\\n",
    "    (x + 0)^2 + (y^2 - 6y + 9) - 9 = 5 \\\\\n",
    "    (x + 0)^2 + (y - 3)^2 = 5 + 9 \\\\\n",
    "    (x + 0)^2 + (y - 3)^2 = 14 \\\\\n",
    "\\end{gather*}\n",
    "\n",
    "Center at $(0, 3)$ and radius is $\\sqrt{14}$"
   ]
  },
  {
   "cell_type": "markdown",
   "id": "56cd7b2d",
   "metadata": {},
   "source": [
    "> 3. Find the center and radius of the given circle.\n",
    "\n",
    "\\begin{gather*}\n",
    "    x^2 + y^2 + 10x - 4y + 13 = 0 \\\\\n",
    "    (x^2 + 10x) + (y^2 - 4y) = -13 \\\\ \\\\\n",
    "\n",
    "    (\\frac{10}{2})^2 = (5)^2 = 25 \\\\\n",
    "    (x^2 + 10x + 25) - 25 + (y^2 - 4y) = -13 \\\\ \\\\\n",
    "\n",
    "    (\\frac{4}{2})^2 = (2)^2 = 4 \\\\\n",
    "    (x^2 + 10x + 25) - 25 + (y^2 - 4y + 4) - 4 = -13 \\\\\n",
    "    (x^2 + 10x + 25) + (y^2 - 4y + 4) = -13 + 25 + 4 \\\\\n",
    "    (x + 5)^2 + (y - 2)^2 = 16 \\\\\n",
    "    (x - (-5))^2 + (y - 2)^2 = 16\n",
    "\\end{gather*}\n",
    "\n",
    "Center at $(-5, 2)$ and radius is $\\sqrt{16} = 4$"
   ]
  }
 ],
 "metadata": {
  "language_info": {
   "name": "python"
  }
 },
 "nbformat": 4,
 "nbformat_minor": 5
}
