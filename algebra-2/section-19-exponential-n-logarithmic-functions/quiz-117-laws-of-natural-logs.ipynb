{
 "cells": [
  {
   "cell_type": "markdown",
   "id": "e91170d2",
   "metadata": {},
   "source": [
    "## Quiz 117: Laws of Natural Logs"
   ]
  },
  {
   "cell_type": "markdown",
   "id": "b179d532",
   "metadata": {},
   "source": [
    "> 1. Use the product rule to simplify the expression.\n",
    "\n",
    "\\begin{gather*}\n",
    "    \\ln 2 + \\ln 3 + \\ln 4 \\\\ \\\\\n",
    "\\end{gather*}"
   ]
  },
  {
   "cell_type": "markdown",
   "id": "776fe44e",
   "metadata": {},
   "source": [
    "> 2. Use laws of natural logs to simplify the expression.\n",
    "\n",
    "\\begin{gather*}\n",
    "    2 \\ln 8 - 6 \\ln 2 \\\\ \\\\\n",
    "\\end{gather*}"
   ]
  },
  {
   "cell_type": "markdown",
   "id": "9af51c63",
   "metadata": {},
   "source": [
    "> 3. Use laws of natural logs to simplify the expression.\n",
    "\n",
    "\\begin{gather*}\n",
    "    \\ln 32 - \\ln 16 \\\\ \\\\\n",
    "\\end{gather*}"
   ]
  }
 ],
 "metadata": {
  "language_info": {
   "name": "python"
  }
 },
 "nbformat": 4,
 "nbformat_minor": 5
}
