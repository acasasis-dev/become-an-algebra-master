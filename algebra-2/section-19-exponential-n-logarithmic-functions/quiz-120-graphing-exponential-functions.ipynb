{
 "cells": [
  {
   "cell_type": "markdown",
   "id": "dd967dd4",
   "metadata": {},
   "source": [
    "## Quiz 120: Graphing Exponential Functions"
   ]
  },
  {
   "cell_type": "markdown",
   "id": "29cda947",
   "metadata": {},
   "source": [
    "> 1. Will the graph of the equation have a vertical or a horizontal asymptote?\n",
    "\n",
    "\\begin{gather*}\n",
    "    x = -\\left(\\frac{1}{2}\\right)^{y - 6} + 1 \\\\ \\\\\n",
    "\\end{gather*}"
   ]
  },
  {
   "cell_type": "markdown",
   "id": "bced0ec4",
   "metadata": {},
   "source": [
    "> 2. Sketch the graph of the exponential function.\n",
    "\n",
    "\\begin{gather*}\n",
    "    f(x) = -4^{2 - x} + 3 \\\\ \\\\\n",
    "\\end{gather*}"
   ]
  },
  {
   "cell_type": "markdown",
   "id": "5ccd999d",
   "metadata": {},
   "source": [
    "> 3. Sketch the graph of the exponential equation.\n",
    "\n",
    "\\begin{gather*}\n",
    "    x = 3^{y + 2} \\\\ \\\\\n",
    "\\end{gather*}"
   ]
  }
 ],
 "metadata": {
  "language_info": {
   "name": "python"
  }
 },
 "nbformat": 4,
 "nbformat_minor": 5
}
