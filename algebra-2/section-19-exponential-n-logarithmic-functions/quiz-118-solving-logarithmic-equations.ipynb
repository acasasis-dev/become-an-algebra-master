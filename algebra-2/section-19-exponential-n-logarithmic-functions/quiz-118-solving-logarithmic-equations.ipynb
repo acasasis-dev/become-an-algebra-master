{
 "cells": [
  {
   "cell_type": "markdown",
   "id": "56e9214b",
   "metadata": {},
   "source": [
    "## Quiz 118: Solving Logarithmic Equations"
   ]
  },
  {
   "cell_type": "markdown",
   "id": "97b07843",
   "metadata": {},
   "source": [
    "> 1. Solve the logarithmic equation.\n",
    "\n",
    "\\begin{gather*}\n",
    "    \\log_3(4x - 2) = \\log_3(x + 7) \\\\ \\\\\n",
    "\n",
    "    4x - 2 = x + 7 \\\\\n",
    "    4x - x = 7 + 2 \\\\\n",
    "    3x = 9 \\\\\n",
    "    \\frac{3x = 9}{3} \\\\\n",
    "    \\boxed{x = 3} \\\\ \\\\\n",
    "\n",
    "    \\textbf{CHECKING} \\\\\n",
    "    \\log_3(4(3) - 2) = \\log_3((3) + 7) \\\\\n",
    "    \\log_3(12 - 2) = \\log_3(10) \\\\\n",
    "    \\log_3(10) = \\log_3(10) \\\\\n",
    "\\end{gather*}"
   ]
  },
  {
   "cell_type": "markdown",
   "id": "3953947a",
   "metadata": {},
   "source": [
    "> 2. Solve the logarithmic equation.\n",
    "\n",
    "\\begin{gather*}\n",
    "    \\log(2x - 5) + \\log(x - 2) = \\log(x^2 - 2x + 4) \\\\ \\\\\n",
    "    \n",
    "    (2x - 5)(x - 2) = x^2 - 2x + 4 \\\\\n",
    "    2x^2 - 9x + 10 = x^2 - 2x + 4 \\\\\n",
    "    2x^2 - x^2 - 9x + 2x = 4 - 10 \\\\\n",
    "    x^2 - 7x = -6 \\\\\n",
    "    x^2 - 7x + 6 = 0 \\\\\n",
    "    (x - 6)(x - 1) = 0 \\\\\n",
    "    \\boxed{x = 6} \\\\ \\\\\n",
    "\n",
    "    \\textbf{CHECKING} \\\\\n",
    "    \\log(2(6) - 5) + \\log((6) - 2) = \\log((6)^2 - 2(6) + 4) \\\\\n",
    "    \\log(12 - 5) + \\log(4) = \\log(36 - 12 + 4) \\\\\n",
    "    \\log(7) + \\log(4) = \\log(24 + 4) \\\\\n",
    "    \\log(7) + \\log(4) = \\log(28) \\\\\n",
    "    7 \\cdot 4 = 28 \\\\\n",
    "    28 = 28 \\\\ \\\\\n",
    "\n",
    "    \\log(2(1) - 5) + \\log((1) - 2) = \\log((1)^2 - 2(1) + 4) \\\\\n",
    "    \\log(2 - 5) + \\log(-1) = \\log(1 - 2 + 4) \\\\\n",
    "    \\log(-3) + \\log(-1) = \\log(-1 + 4) \\\\\n",
    "    \\log(-3) + \\log(-1) = \\log(3) \\\\\n",
    "    -3 \\cdot -1 = 3 \\\\\n",
    "    3 = 3\n",
    "\\end{gather*}\n",
    "\n",
    "Although $1$ also got the the correct equation results, one rule of logarithms is the arguments should not be negative. So that leaves us with $6$ as the only $x$"
   ]
  },
  {
   "cell_type": "markdown",
   "id": "e871f0a0",
   "metadata": {},
   "source": [
    "> 3. Solve the logarithmic equation.\n",
    "\n",
    "\\begin{gather*}\n",
    "    \\ln(2x + 1) = \\ln 3 + \\ln(5x - 4) \\\\ \\\\\n",
    "\n",
    "    3(5x - 4) = 2x + 1 \\\\\n",
    "    15x - 12 = 2x + 1 \\\\\n",
    "    15x - 2x = 12 + 1 \\\\\n",
    "    13x = 13 \\\\\n",
    "    \\frac{13x = 13}{13} \\\\\n",
    "    \\boxed{x = 1} \\\\ \\\\\n",
    "\n",
    "    \\textbf{CHECKING} \\\\\n",
    "    \\ln(2(1) + 1) = \\ln 3 + \\ln(5(1) - 4) \\\\\n",
    "    \\ln(2 + 1) = \\ln 3 + \\ln(5 - 4) \\\\\n",
    "    \\ln(3) = \\ln 3 + ln(1) \\\\\n",
    "    3 = 3 \\cdot 1 \\\\\n",
    "    3 = 3\n",
    "\\end{gather*}"
   ]
  }
 ],
 "metadata": {
  "language_info": {
   "name": "python"
  }
 },
 "nbformat": 4,
 "nbformat_minor": 5
}
