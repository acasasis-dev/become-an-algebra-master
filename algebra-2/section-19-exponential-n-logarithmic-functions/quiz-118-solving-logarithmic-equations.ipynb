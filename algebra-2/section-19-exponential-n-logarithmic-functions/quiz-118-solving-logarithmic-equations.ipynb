{
 "cells": [
  {
   "cell_type": "markdown",
   "id": "56e9214b",
   "metadata": {},
   "source": [
    "## Quiz 118: Solving Logarithmic Equations"
   ]
  },
  {
   "cell_type": "markdown",
   "id": "97b07843",
   "metadata": {},
   "source": [
    "> 1. Solve the logarithmic equation.\n",
    "\n",
    "\\begin{gather*}\n",
    "    \\log_3(4x - 2) = \\log_3(x + 7) \\\\ \\\\\n",
    "\\end{gather*}"
   ]
  },
  {
   "cell_type": "markdown",
   "id": "3953947a",
   "metadata": {},
   "source": [
    "> 2. Solve the logarithmic equation.\n",
    "\n",
    "\\begin{gather*}\n",
    "    log(2x - 5) + log(x - 2) = log(x^2 - 2x + 4) \\\\ \\\\\n",
    "\\end{gather*}"
   ]
  },
  {
   "cell_type": "markdown",
   "id": "e871f0a0",
   "metadata": {},
   "source": [
    "> 3. Solve the logarithmic equation.\n",
    "\n",
    "\\begin{gather*}\n",
    "    ln(2x + 1) = ln 3 + ln(5x - 4) \\\\ \\\\\n",
    "\\end{gather*}"
   ]
  }
 ],
 "metadata": {
  "language_info": {
   "name": "python"
  }
 },
 "nbformat": 4,
 "nbformat_minor": 5
}
