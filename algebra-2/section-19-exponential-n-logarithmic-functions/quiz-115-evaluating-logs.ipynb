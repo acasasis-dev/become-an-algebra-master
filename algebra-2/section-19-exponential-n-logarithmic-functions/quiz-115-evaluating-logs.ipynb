{
 "cells": [
  {
   "cell_type": "markdown",
   "id": "c7982859",
   "metadata": {},
   "source": [
    "## Quiz 115: Evaluating Logs"
   ]
  },
  {
   "cell_type": "markdown",
   "id": "eb6d48d3",
   "metadata": {},
   "source": [
    "> 1. Find the exact value of the expression.\n",
    "\n",
    "\\begin{gather*}\n",
    "    \\log\\sqrt{10} \\\\ \\\\\n",
    "\n",
    "    10^x = \\sqrt{10} \\\\\n",
    "    10^x = 10^{\\frac{1}{2}} \\\\\n",
    "    x = \\frac{1}{2} \\\\\n",
    "    \\boxed{\\log\\sqrt{10} = \\frac{1}{2}}\n",
    "\\end{gather*}"
   ]
  },
  {
   "cell_type": "markdown",
   "id": "0e87679c",
   "metadata": {},
   "source": [
    "> 2. Find the exact value of the expression.\n",
    "\n",
    "\\begin{gather*}\n",
    "    \\log_{32}(4) \\\\ \\\\\n",
    "\n",
    "    32^x = 4 \\\\\n",
    "    (2^5)^x = 2^2 \\\\\n",
    "    2^{5x} = 2^2 \\\\\n",
    "    5x = 2 \\\\\n",
    "    \\frac{5x = 2}{5} \\\\\n",
    "    x = \\frac{2}{5} \\\\\n",
    "    \\boxed{\\log_{32}(4) = \\frac{2}{5}}\n",
    "\\end{gather*}"
   ]
  },
  {
   "cell_type": "markdown",
   "id": "32cf557b",
   "metadata": {},
   "source": [
    "> 3. Find the exact value of the expression.\n",
    "\n",
    "\\begin{gather*}\n",
    "    \\log_9\\left(\\frac{1}{2187}\\right) \\\\ \\\\\n",
    "\n",
    "    9^x = \\frac{1}{2187} \\\\\n",
    "    (3^2)^x = \\frac{1}{3^7} \\\\\n",
    "    3^{2x} = 3^{-7} \\\\\n",
    "    2x = -7 \\\\\n",
    "    \\frac{2x = -7}{2} \\\\\n",
    "    x = -\\frac{7}{2} \\\\\n",
    "    \\log_9\\left(\\frac{1}{2187}\\right) = -\\frac{7}{2}\n",
    "\\end{gather*}"
   ]
  }
 ],
 "metadata": {
  "language_info": {
   "name": "python"
  }
 },
 "nbformat": 4,
 "nbformat_minor": 5
}
