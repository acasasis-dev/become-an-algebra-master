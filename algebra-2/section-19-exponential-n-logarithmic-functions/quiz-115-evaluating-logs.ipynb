{
 "cells": [
  {
   "cell_type": "markdown",
   "id": "c7982859",
   "metadata": {},
   "source": [
    "## Quiz 115: Evaluating Logs"
   ]
  },
  {
   "cell_type": "markdown",
   "id": "eb6d48d3",
   "metadata": {},
   "source": [
    "> 1. Find the exact value of the expression.\n",
    "\n",
    "\\begin{gather*}\n",
    "    \\log\\sqrt{10} \\\\ \\\\\n",
    "\\end{gather*}"
   ]
  },
  {
   "cell_type": "markdown",
   "id": "0e87679c",
   "metadata": {},
   "source": [
    "> 2. Find the exact value of the expression.\n",
    "\n",
    "\\begin{gather*}\n",
    "    \\log_{32}(4) \\\\ \\\\\n",
    "\\end{gather*}"
   ]
  },
  {
   "cell_type": "markdown",
   "id": "32cf557b",
   "metadata": {},
   "source": [
    "> 3. Find the exact value of the expression.\n",
    "\n",
    "\\begin{gather*}\n",
    "    \\log_9\\left(\\frac{1}{2187}\\right) \\\\ \\\\\n",
    "\\end{gather*}"
   ]
  }
 ],
 "metadata": {
  "language_info": {
   "name": "python"
  }
 },
 "nbformat": 4,
 "nbformat_minor": 5
}
