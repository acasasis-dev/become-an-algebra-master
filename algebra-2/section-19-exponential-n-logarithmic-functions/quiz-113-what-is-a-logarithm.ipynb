{
 "cells": [
  {
   "cell_type": "markdown",
   "id": "f80e037c",
   "metadata": {},
   "source": [
    "## Quiz 113: What is a Logarithm"
   ]
  },
  {
   "cell_type": "markdown",
   "id": "15741084",
   "metadata": {},
   "source": [
    "> 1. What question is the equation posing?\n",
    "\n",
    "\\begin{gather*}\n",
    "    \\log_6(216) = x \\\\ \\\\\n",
    "\n",
    "    6^x = 216 \\\\\n",
    "    6^3 = 216 \\\\\n",
    "    x = 3 \\\\ \\\\\n",
    "\n",
    "    \\boxed{\\log_6(216) = 3}\n",
    "\\end{gather*}\n",
    "\n",
    "How many times does 6 needs to be multiplied to itself to get the answer of 216"
   ]
  },
  {
   "cell_type": "markdown",
   "id": "c61755c3",
   "metadata": {},
   "source": [
    "> 2. Use the general log rule to solve the equation.\n",
    "\n",
    "\\begin{gather*}\n",
    "    \\log_8(x) = 4 \\\\ \\\\\n",
    "\n",
    "    8^4 = x \\\\\n",
    "    8 \\cdot 8 \\cdot 8 \\cdot 8 = x \\\\\n",
    "    x = 4096 \\\\ \\\\\n",
    "\n",
    "    \\boxed{\\log_8(4096) = 4}\n",
    "\\end{gather*}"
   ]
  },
  {
   "cell_type": "markdown",
   "id": "fb5d985e",
   "metadata": {},
   "source": [
    "> 3. Use the general log rule to convert the exponential equation to its logarithmic form.\n",
    "\n",
    "\\begin{gather*}\n",
    "    7^x = 343 \\\\ \\\\\n",
    "\n",
    "    \\boxed{log_7(343) = x} \\\\ \\\\\n",
    "\n",
    "    7^3 = 343 \\\\\n",
    "    x = 3 \\\\ \\\\\n",
    "\n",
    "    \\log_7(343) = 3\n",
    "\\end{gather*}"
   ]
  }
 ],
 "metadata": {
  "language_info": {
   "name": "python"
  }
 },
 "nbformat": 4,
 "nbformat_minor": 5
}
