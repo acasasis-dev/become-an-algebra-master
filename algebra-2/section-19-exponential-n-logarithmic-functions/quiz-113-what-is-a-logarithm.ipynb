{
 "cells": [
  {
   "cell_type": "markdown",
   "id": "f80e037c",
   "metadata": {},
   "source": [
    "## Quiz 113: What is a Logarithm"
   ]
  },
  {
   "cell_type": "markdown",
   "id": "15741084",
   "metadata": {},
   "source": [
    "> 1. What question is the equation posing?\n",
    "\n",
    "\\begin{gather*}\n",
    "    \\log_6(216) = x \\\\ \\\\\n",
    "\\end{gather*}"
   ]
  },
  {
   "cell_type": "markdown",
   "id": "c61755c3",
   "metadata": {},
   "source": [
    "> 2. Use the general log rule to solve the equation.\n",
    "\n",
    "\\begin{gather*}\n",
    "    \\log_8(x) = 4 \\\\ \\\\\n",
    "\\end{gather*}"
   ]
  },
  {
   "cell_type": "markdown",
   "id": "fb5d985e",
   "metadata": {},
   "source": [
    "> 3. Use the general log rule to convert the exponential equation to its logarithmic form.\n",
    "\n",
    "\\begin{gather*}\n",
    "    7^x = 343 \\\\ \\\\\n",
    "\\end{gather*}"
   ]
  }
 ],
 "metadata": {
  "language_info": {
   "name": "python"
  }
 },
 "nbformat": 4,
 "nbformat_minor": 5
}
