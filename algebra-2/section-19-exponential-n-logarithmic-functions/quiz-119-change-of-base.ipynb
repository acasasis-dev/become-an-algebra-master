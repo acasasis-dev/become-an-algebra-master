{
 "cells": [
  {
   "cell_type": "markdown",
   "id": "f8e1d762",
   "metadata": {},
   "source": [
    "## Quiz 119: Change of Base"
   ]
  },
  {
   "cell_type": "markdown",
   "id": "a4c3c0d6",
   "metadata": {},
   "source": [
    "> 1. Write the expression in terms of base-10 logs.\n",
    "\n",
    "\\begin{gather*}\n",
    "    \\log_3 12 \\\\ \\\\\n",
    "\\end{gather*}"
   ]
  },
  {
   "cell_type": "markdown",
   "id": "4ac259d0",
   "metadata": {},
   "source": [
    "> 2. Find the exact value of the expression.\n",
    "\n",
    "\\begin{gather*}\n",
    "    \\frac{\\log 729}{\\log 9} \\\\ \\\\\n",
    "\\end{gather*}"
   ]
  },
  {
   "cell_type": "markdown",
   "id": "47e59fd0",
   "metadata": {},
   "source": [
    "> 3. Find the exact value of the expression.\n",
    "\n",
    "\\begin{gather*}\n",
    "    \\frac{\\log 4}{\\log 16} - \\frac{\\log 2}{\\log 64} \\\\ \\\\\n",
    "\\end{gather*}"
   ]
  }
 ],
 "metadata": {
  "language_info": {
   "name": "python"
  }
 },
 "nbformat": 4,
 "nbformat_minor": 5
}
