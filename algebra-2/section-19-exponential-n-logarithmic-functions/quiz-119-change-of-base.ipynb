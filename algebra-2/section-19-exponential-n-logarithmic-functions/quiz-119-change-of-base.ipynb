{
 "cells": [
  {
   "cell_type": "markdown",
   "id": "f8e1d762",
   "metadata": {},
   "source": [
    "## Quiz 119: Change of Base"
   ]
  },
  {
   "cell_type": "markdown",
   "id": "a4c3c0d6",
   "metadata": {},
   "source": [
    "> 1. Write the expression in terms of base-10 logs.\n",
    "\n",
    "\\begin{gather*}\n",
    "    \\log_3 12 \\\\ \\\\\n",
    "\n",
    "    \\frac{\\log 12}{\\log 3} \\\\\n",
    "    12 - 3 = 9 \\\\\n",
    "    \\boxed{\\log 9}\n",
    "\\end{gather*}"
   ]
  },
  {
   "cell_type": "markdown",
   "id": "4ac259d0",
   "metadata": {},
   "source": [
    "> 2. Find the exact value of the expression.\n",
    "\n",
    "\\begin{gather*}\n",
    "    \\frac{\\log 729}{\\log 9} \\\\ \\\\\n",
    "\n",
    "    \\log_9 729 \\\\\n",
    "    9^x = 729 \\\\\n",
    "    9^x = 9^3 \\\\\n",
    "    \\boxed{x = 3} \\\\ \\\\\n",
    "\n",
    "    \\frac{\\log 729}{\\log 9} = 3\n",
    "\\end{gather*}"
   ]
  },
  {
   "cell_type": "markdown",
   "id": "47e59fd0",
   "metadata": {},
   "source": [
    "> 3. Find the exact value of the expression.\n",
    "\n",
    "\\begin{gather*}\n",
    "    \\frac{\\log 4}{\\log 16} - \\frac{\\log 2}{\\log 64} \\\\ \\\\\n",
    "\n",
    "    \\log_{16} 4 - \\log_{64} 2 \\\\\n",
    "    16^x = 4 \\\\\n",
    "    (4^2)x = 4^1 \\\\\n",
    "    4^{2x} = 4^1 \\\\\n",
    "    2x = 1 \\\\\n",
    "    \\frac{2x = 1}{2} \\\\\n",
    "    x = \\frac{1}{2} \\\\ \\\\\n",
    "    64^y = 2 \\\\\n",
    "    (2^6)^y = 2^1 \\\\\n",
    "    2^{6y} = 2^1 \\\\\n",
    "    6y = 1 \\\\\n",
    "    \\frac{6y = 1}{6} \\\\\n",
    "    y = \\frac{1}{6} \\\\ \\\\\n",
    "\n",
    "    \\frac{1}{2} - \\frac{1}{6} \\\\\n",
    "    \\frac{3}{6} - \\frac{1}{6} \\\\\n",
    "    \\frac{2}{6} \\\\\n",
    "    \\boxed{\\frac{\\log 4}{\\log 16} - \\frac{\\log 2}{\\log 64} = \\frac{1}{3}}\n",
    "\\end{gather*}"
   ]
  }
 ],
 "metadata": {
  "language_info": {
   "name": "python"
  }
 },
 "nbformat": 4,
 "nbformat_minor": 5
}
