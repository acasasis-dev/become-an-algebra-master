{
 "cells": [
  {
   "cell_type": "markdown",
   "id": "70ca8db1",
   "metadata": {},
   "source": [
    "## Quiz 57: Negative Exponents"
   ]
  },
  {
   "cell_type": "markdown",
   "id": "acf9fe19",
   "metadata": {},
   "source": [
    "> 1. Simplify the expression"
   ]
  },
  {
   "cell_type": "markdown",
   "id": "1465f793",
   "metadata": {},
   "source": [
    "$$\n",
    "    \\begin{gather*}\n",
    "        3^{-2} \\\\\n",
    "        \\frac{1}{3^2} \\\\\n",
    "        \\boxed{\\frac{1}{9}}\n",
    "    \\end{gather*}\n",
    "$$"
   ]
  },
  {
   "cell_type": "markdown",
   "id": "21eb0523",
   "metadata": {},
   "source": [
    "> 2. Simplify the expression"
   ]
  },
  {
   "cell_type": "markdown",
   "id": "94a02a11",
   "metadata": {},
   "source": [
    "$$\n",
    "    \\begin{gather*}\n",
    "        -2^{-3} \\\\\n",
    "        -(2)^{-3} \\\\\n",
    "        -(\\frac{1}{2^{3}}) \\\\\n",
    "        \\boxed{-\\frac{1}{8}}\n",
    "    \\end{gather*}\n",
    "$$"
   ]
  },
  {
   "cell_type": "markdown",
   "id": "dc179204",
   "metadata": {},
   "source": [
    "> 3. Simplify the expression"
   ]
  },
  {
   "cell_type": "markdown",
   "id": "bebe28f5",
   "metadata": {},
   "source": [
    "$$\n",
    "    \\begin{gather*}\n",
    "        -(3^3)(5^{-2}) \\\\\n",
    "        -27(\\frac{1}{5^2}) \\\\\n",
    "        -27(\\frac{1}{25}) \\\\\n",
    "        \\boxed{-\\frac{27}{25}}\n",
    "    \\end{gather*}\n",
    "$$    "
   ]
  }
 ],
 "metadata": {
  "language_info": {
   "name": "python"
  }
 },
 "nbformat": 4,
 "nbformat_minor": 5
}
