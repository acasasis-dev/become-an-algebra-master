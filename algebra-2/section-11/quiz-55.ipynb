{
 "cells": [
  {
   "cell_type": "markdown",
   "id": "34c48376",
   "metadata": {},
   "source": [
    "## Quiz 55: Powers of Fractions"
   ]
  },
  {
   "cell_type": "markdown",
   "id": "06db4388",
   "metadata": {},
   "source": [
    "> 1. Simplify the expression."
   ]
  },
  {
   "cell_type": "markdown",
   "id": "c34e9797",
   "metadata": {},
   "source": [
    "$$\n",
    "    \\begin{gather*}\n",
    "        (\\frac{1}{2})^2 \\\\\n",
    "        \\frac{1^2}{2^2} \\\\\n",
    "        \\boxed{\\frac{1}{4}}\n",
    "    \\end{gather*}\n",
    "$$"
   ]
  },
  {
   "cell_type": "markdown",
   "id": "fd77dce1",
   "metadata": {},
   "source": [
    "> 2. Simplify the expression."
   ]
  },
  {
   "cell_type": "markdown",
   "id": "a3e74931",
   "metadata": {},
   "source": [
    "$$\n",
    "    \\begin{gather*}\n",
    "        (\\frac{3}{5})^3 \\\\\n",
    "        \\frac{3^3}{5^3} \\\\\n",
    "        \\boxed{\\frac{27}{125}}\n",
    "    \\end{gather*}\n",
    "$$"
   ]
  },
  {
   "cell_type": "markdown",
   "id": "6f400aae",
   "metadata": {},
   "source": [
    "> 3. Simplify the expression."
   ]
  },
  {
   "cell_type": "markdown",
   "id": "f7b76a1d",
   "metadata": {},
   "source": [
    "$$\n",
    "    \\begin{gather*}\n",
    "        (\\frac{x^2}{y^4})^3 \\\\\n",
    "        \\frac{x^{2 \\cdot 3}}{y^{4 \\cdot 3}} \\\\\n",
    "        \\boxed{\\frac{x^6}{y^{12}}}\n",
    "    \\end{gather*}\n",
    "$$"
   ]
  }
 ],
 "metadata": {
  "language_info": {
   "name": "python"
  }
 },
 "nbformat": 4,
 "nbformat_minor": 5
}
