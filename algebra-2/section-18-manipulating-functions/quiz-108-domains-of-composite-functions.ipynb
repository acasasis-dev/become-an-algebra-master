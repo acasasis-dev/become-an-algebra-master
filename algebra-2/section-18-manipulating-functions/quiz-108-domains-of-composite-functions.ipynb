{
 "cells": [
  {
   "cell_type": "markdown",
   "id": "03351c3b",
   "metadata": {},
   "source": [
    "## Quiz 108: Domains of Composite Functions"
   ]
  },
  {
   "cell_type": "markdown",
   "id": "6f2a0599",
   "metadata": {},
   "source": [
    "> 1. What is the domain of $f \\circ g$?\n",
    "\n",
    "\\begin{gather*}\n",
    "    f(x) = x^2 - 5 \\\\\n",
    "    g(x) = \\sqrt{x + 4} \\\\ \\\\\n",
    "\n",
    "    f(g(x)) = (\\sqrt{x + 4})^2 - 5 \\\\\n",
    "    f(g(x)) = x + 4 - 5 \\\\\n",
    "    f(g(x)) = x - 1 \\\\\n",
    "\\end{gather*}\n",
    "\n",
    "The domain of $f \\circ g$ is $x \\ge -4$"
   ]
  },
  {
   "cell_type": "markdown",
   "id": "2621f3a4",
   "metadata": {},
   "source": [
    "> 2. What is the domain of $f \\circ g$?\n",
    "\n",
    "\\begin{gather*}\n",
    "    f(x) = \\frac{1}{x + 3} \\\\\n",
    "    g(x) = \\frac{x}{x - 2} \\\\ \\\\\n",
    "\n",
    "    f(g(x)) = \\frac{1}{\\frac{x}{x - 2} + \\left(\\frac{x - 2}{x - 2}\\right)3} \\\\\n",
    "    f(g(x)) = \\frac{1}{\\frac{x}{x - 2} + \\frac{3x - 6}{x - 2}} \\\\\n",
    "    f(g(x)) = \\frac{1}{\\frac{4x - 6}{x - 2}} \\\\\n",
    "    f(g(x)) = \\frac{x - 2}{4x - 6}\n",
    "\\end{gather*}\n",
    "\n",
    "The domain of $f \\circ g$ is $x \\ne 2, \\frac{3}{2}$"
   ]
  },
  {
   "cell_type": "markdown",
   "id": "cca3d41a",
   "metadata": {},
   "source": [
    "> 3. What is the domain of $f \\circ g$?\n",
    "\n",
    "\\begin{gather*}\n",
    "    f(x) = \\sqrt{x - 1} \\\\\n",
    "    g(x) = \\frac{1}{x - 1} \\\\ \\\\\n",
    "\n",
    "    f(g(x)) = \\sqrt{\\frac{1}{x - 1} - \\left(\\frac{x - 1}{x - 1}\\right)1} \\\\\n",
    "    f(g(x)) = \\sqrt{\\frac{1}{x - 1} - \\frac{x - 1}{x - 1}} \\\\\n",
    "    f(g(x)) = \\sqrt{\\frac{1 - x + 1}{x - 1}} \\\\\n",
    "    f(g(x)) = \\sqrt{\\frac{2 - x}{x - 1}}\n",
    "\\end{gather*}\n",
    "\n",
    "The domain of $f \\circ g$ is $x \\ne 1$, $x \\le 2$, and $x \\ge 1$ so altogether it's $1 < x \\le 2$"
   ]
  }
 ],
 "metadata": {
  "kernelspec": {
   "display_name": "Python 3",
   "language": "python",
   "name": "python3"
  },
  "language_info": {
   "codemirror_mode": {
    "name": "ipython",
    "version": 3
   },
   "file_extension": ".py",
   "mimetype": "text/x-python",
   "name": "python",
   "nbconvert_exporter": "python",
   "pygments_lexer": "ipython3",
   "version": "3.12.2"
  }
 },
 "nbformat": 4,
 "nbformat_minor": 5
}
