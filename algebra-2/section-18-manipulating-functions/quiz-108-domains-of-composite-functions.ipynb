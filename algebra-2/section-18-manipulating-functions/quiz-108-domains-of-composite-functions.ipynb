{
 "cells": [
  {
   "cell_type": "markdown",
   "id": "03351c3b",
   "metadata": {},
   "source": [
    "## Quiz 108: Domains of Composite Functions"
   ]
  },
  {
   "cell_type": "markdown",
   "id": "6f2a0599",
   "metadata": {},
   "source": [
    "> 1. What is the domain of $f \\circ g$?\n",
    "\n",
    "\\begin{gather*}\n",
    "    f(x) = x^2 - 5 \\\\\n",
    "    g(x) = \\sqrt{x + 4} \\\\ \\\\\n",
    "\\end{gather*}"
   ]
  },
  {
   "cell_type": "markdown",
   "id": "2621f3a4",
   "metadata": {},
   "source": [
    "> 2. What is the domain of $f \\circ g$?\n",
    "\n",
    "\\begin{gather*}\n",
    "    f(x) = \\frac{1}{x + 3} \\\\\n",
    "    g(x) = \\frac{x}{x - 2} \\\\ \\\\\n",
    "\\end{gather*}"
   ]
  },
  {
   "cell_type": "markdown",
   "id": "cca3d41a",
   "metadata": {},
   "source": [
    "> 3. What is the domain of $f \\circ g$?\n",
    "\n",
    "\\begin{gather*}\n",
    "    f(x) = \\sqrt{x - 1} \\\\\n",
    "    g(x) = \\frac{1}{x - 1} \\\\ \\\\\n",
    "\\end{gather*}"
   ]
  }
 ],
 "metadata": {
  "language_info": {
   "name": "python"
  }
 },
 "nbformat": 4,
 "nbformat_minor": 5
}
