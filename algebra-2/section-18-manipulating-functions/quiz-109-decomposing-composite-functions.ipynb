{
 "cells": [
  {
   "cell_type": "markdown",
   "id": "8d56c95f",
   "metadata": {},
   "source": [
    "## Quiz 109: Decomposing Composite Functions"
   ]
  },
  {
   "cell_type": "markdown",
   "id": "eba4be97",
   "metadata": {},
   "source": [
    "> 1. Write $f(x)$ as the composite of two functions $g(x)$ and $h(x)$, such that $f(x) = h(g(x))$.\n",
    "\n",
    "\\begin{gather*}\n",
    "    f(x) = \\sqrt{\\frac{1}{x^3}} \\\\ \\\\\n",
    "\n",
    "    h(x) = \\sqrt{\\frac{1}{x}} \\\\\n",
    "    g(x) = x^3 \\\\ \\\\\n",
    "\n",
    "    h(x) = \\sqrt{x} \\\\\n",
    "    g(x) = \\frac{1}{x^3}\n",
    "\\end{gather*}"
   ]
  },
  {
   "cell_type": "markdown",
   "id": "1582a4bc",
   "metadata": {},
   "source": [
    "> 2. Write $f(x)$ as the composite of two functions $g(x)$ and $h(x)$, such that $f(x) = h(g(x))$.\n",
    "\n",
    "\\begin{gather*}\n",
    "    f(x) = \\frac{x + 1}{(x + 1)^2 - 5} \\\\ \\\\\n",
    "\n",
    "    h(x) = \\frac{x}{x^2 - 5} \\\\\n",
    "    g(x) = x + 1\n",
    "\\end{gather*}"
   ]
  },
  {
   "cell_type": "markdown",
   "id": "097d261f",
   "metadata": {},
   "source": [
    "> 3. Write $f(x)$ as the composite of two functions $g(x)$ and $h(x)$, such that $f(x) = h(g(x))$.\n",
    "\n",
    "\\begin{gather*}\n",
    "    f(x) = e^{x^2 - 5} \\\\ \\\\\n",
    "\n",
    "    h(x) = e^x \\\\\n",
    "    g(x) = x^2 - 5\n",
    "\\end{gather*}"
   ]
  }
 ],
 "metadata": {
  "language_info": {
   "name": "python"
  }
 },
 "nbformat": 4,
 "nbformat_minor": 5
}
