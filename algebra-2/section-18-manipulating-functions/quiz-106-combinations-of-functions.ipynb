{
 "cells": [
  {
   "cell_type": "markdown",
   "id": "ee8340da",
   "metadata": {},
   "source": [
    "## Quiz 106: Combinations of Functions"
   ]
  },
  {
   "cell_type": "markdown",
   "id": "d58c8486",
   "metadata": {},
   "source": [
    "> 1. Find $(f \\cdot g)(x)$.\n",
    "\n",
    "\\begin{gather*}\n",
    "    f(x) = 2x^2 + 5 \\\\\n",
    "    g(x) = x + 2 \\\\ \\\\\n",
    "\\end{gather*}"
   ]
  },
  {
   "cell_type": "markdown",
   "id": "99c0f4c0",
   "metadata": {},
   "source": [
    "> 2. Find $(f - g)(x)$.\n",
    "\n",
    "\\begin{gather*}\n",
    "    f(x) = 2x^2 + 6x - 3 \\\\\n",
    "    g(x) = 3x^2 - 5x - 2 \\\\ \\\\\n",
    "\\end{gather*}"
   ]
  },
  {
   "cell_type": "markdown",
   "id": "cead4ec7",
   "metadata": {},
   "source": [
    "> 3. The domain of $(f/g)(x)$ is all real numbers, except what?\n",
    "\n",
    "\\begin{gather*}\n",
    "    f(x) = x^2 - 9 \\\\\n",
    "    g(x) = 2x - 6 \\\\ \\\\\n",
    "\\end{gather*}"
   ]
  }
 ],
 "metadata": {
  "language_info": {
   "name": "python"
  }
 },
 "nbformat": 4,
 "nbformat_minor": 5
}
