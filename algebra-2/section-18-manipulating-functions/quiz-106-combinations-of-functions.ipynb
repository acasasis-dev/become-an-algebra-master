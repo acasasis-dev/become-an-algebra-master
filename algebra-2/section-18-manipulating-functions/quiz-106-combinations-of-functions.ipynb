{
 "cells": [
  {
   "cell_type": "markdown",
   "id": "ee8340da",
   "metadata": {},
   "source": [
    "## Quiz 106: Combinations of Functions"
   ]
  },
  {
   "cell_type": "markdown",
   "id": "d58c8486",
   "metadata": {},
   "source": [
    "> 1. Find $(f \\cdot g)(x)$.\n",
    "\n",
    "\\begin{gather*}\n",
    "    f(x) = 2x^2 + 5 \\\\\n",
    "    g(x) = x + 2 \\\\ \\\\\n",
    "\n",
    "    (fg)(x) = (2x^2 + 5)(x + 2) \\\\\n",
    "    \\boxed{(fg)(x) = 2x^3 + 4x^2 + 5x + 10}\n",
    "\\end{gather*}"
   ]
  },
  {
   "cell_type": "markdown",
   "id": "99c0f4c0",
   "metadata": {},
   "source": [
    "> 2. Find $(f - g)(x)$.\n",
    "\n",
    "\\begin{gather*}\n",
    "    f(x) = 2x^2 + 6x - 3 \\\\\n",
    "    g(x) = 3x^2 - 5x - 2 \\\\ \\\\\n",
    "\n",
    "    (f - g)(x) = (2x^2 + 6x - 3) - (3x^2 - 5x - 2) \\\\\n",
    "    (f - g)(x) = 2x^2 + 6x - 3 - 3x^2 + 5x + 2 \\\\\n",
    "    \\boxed{(f - g)(x) = -x^2 + 11x - 1}\n",
    "\\end{gather*}"
   ]
  },
  {
   "cell_type": "markdown",
   "id": "cead4ec7",
   "metadata": {},
   "source": [
    "> 3. The domain of $(f/g)(x)$ is all real numbers, except what?\n",
    "\n",
    "\\begin{gather*}\n",
    "    f(x) = x^2 - 9 \\\\\n",
    "    g(x) = 2x - 6 \\\\ \\\\\n",
    "\n",
    "    (f/g)(x) = \\frac{x^2 - 9}{2x - 6} \\\\\n",
    "    (f/g)(x) = \\frac{(x + 3)(x - 3)}{2(x - 3)} \\\\\n",
    "    (f/g)(x) = \\frac{x + 3}{2}\n",
    "\\end{gather*}\n",
    "\n",
    "The domain is $x \\ne 3$ since in the original equation, if $x = 3$, the denominator will be $0$ resulting for the equation's answer to be undefined."
   ]
  }
 ],
 "metadata": {
  "language_info": {
   "name": "python"
  }
 },
 "nbformat": 4,
 "nbformat_minor": 5
}
