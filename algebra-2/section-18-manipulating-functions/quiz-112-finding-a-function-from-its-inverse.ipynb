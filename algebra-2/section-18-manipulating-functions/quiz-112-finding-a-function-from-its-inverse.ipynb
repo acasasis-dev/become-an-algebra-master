{
 "cells": [
  {
   "cell_type": "markdown",
   "id": "725a544b",
   "metadata": {},
   "source": [
    "## Quiz 112: Finding a Function From Its Inverse"
   ]
  },
  {
   "cell_type": "markdown",
   "id": "ffb35018",
   "metadata": {},
   "source": [
    "> 1. Use the given information to find $f(x)$ if $f^{-1}(x)$ is a linear function.\n",
    "\n",
    "\\begin{gather*}\n",
    "    f^{-1}(4) = 1 \\\\\n",
    "    f^{-1}(-2) = -2 \\\\ \\\\\n",
    "\n",
    "    (1, 4), (-2, -2) \\\\\n",
    "    m = \\frac{-2 - 4}{-2 - 1} \\\\\n",
    "    m = \\frac{-6}{-3} \\\\\n",
    "    m = 2 \\\\ \\\\\n",
    "\n",
    "    4 = (2)(1) + b \\\\\n",
    "    4 = 2 + b \\\\\n",
    "    b = 4 - 2 \\\\\n",
    "    b = 2 \\\\ \\\\\n",
    "\n",
    "    \\boxed{f(x) = 2x + 2}\n",
    "\\end{gather*}"
   ]
  },
  {
   "cell_type": "markdown",
   "id": "228d685f",
   "metadata": {},
   "source": [
    "> 2. Use the given information to find $f(x)$ if $f^{-1}(x)$ is a linear function.\n",
    "\n",
    "\\begin{gather*}\n",
    "    f^{-1}(2) = 5 \\\\\n",
    "    f^{-1}(1) = -1 \\\\ \\\\\n",
    "\n",
    "    (5, 2), (-1, 1) \\\\\n",
    "    m = \\frac{1 - 2}{-1 - 5} \\\\\n",
    "    m = \\frac{-1}{-6} \\\\\n",
    "    m = \\frac{1}{6} \\\\ \\\\\n",
    "\n",
    "    2 = \\frac{1}{6}(5) + b \\\\\n",
    "    b = 2 - \\frac{5}{6} \\\\\n",
    "    b = \\frac{12}{6} - \\frac{5}{6} \\\\\n",
    "    b = \\frac{7}{6} \\\\ \\\\\n",
    "\n",
    "    \\boxed{f(x) = \\frac{1}{6}x + \\frac{7}{6}}\n",
    "\\end{gather*}"
   ]
  },
  {
   "cell_type": "markdown",
   "id": "ebd26648",
   "metadata": {},
   "source": [
    "> 3. Use the given information to find $f(x)$ if $f^{-1}(x)$ is a linear function.\n",
    "\n",
    "\\begin{gather*}\n",
    "    f^{-1}(3) = 4 \\\\\n",
    "    f^{-1}(-6) = -2 \\\\ \\\\\n",
    "\n",
    "    (4, 3), (-2, -6) \\\\\n",
    "    m = \\frac{-6 - 3}{-2 - 4} \\\\\n",
    "    m = \\frac{-9}{-6} \\\\\n",
    "    m = \\frac{3}{2} \\\\ \\\\\n",
    "\n",
    "    3 = \\frac{3}{2}(4) + b \\\\\n",
    "    b = 3 - 6 \\\\\n",
    "    b = -3 \\\\ \\\\\n",
    "\n",
    "    \\boxed{f(x) = \\frac{3}{2}x - 3}\n",
    "\\end{gather*}"
   ]
  }
 ],
 "metadata": {
  "language_info": {
   "name": "python"
  }
 },
 "nbformat": 4,
 "nbformat_minor": 5
}
