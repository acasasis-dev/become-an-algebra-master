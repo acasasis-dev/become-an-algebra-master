{
 "cells": [
  {
   "cell_type": "markdown",
   "id": "725a544b",
   "metadata": {},
   "source": [
    "## Quiz 112: Finding a Function From Its Inverse"
   ]
  },
  {
   "cell_type": "markdown",
   "id": "ffb35018",
   "metadata": {},
   "source": [
    "> 1. Use the given information to find $f(x)$ if $f^{-1}(x)$ is a linear function.\n",
    "\n",
    "\\begin{gather*}\n",
    "    f^{-1}(4) = 1 \\\\\n",
    "    f^{-1}(-2) = -2 \\\\ \\\\\n",
    "\\end{gather*}"
   ]
  },
  {
   "cell_type": "markdown",
   "id": "228d685f",
   "metadata": {},
   "source": [
    "> 2. Use the given information to find $f(x)$ if $f^{-1}(x)$ is a linear function.\n",
    "\n",
    "\\begin{gather*}\n",
    "    f^{-1}(2) = 5 \\\\\n",
    "    f^{-1}(1) = -1 \\\\ \\\\\n",
    "\\end{gather*}"
   ]
  },
  {
   "cell_type": "markdown",
   "id": "ebd26648",
   "metadata": {},
   "source": [
    "> 3. Use the given information to find $f(x)$ if $f^{-1}(x)$ is a linear function.\n",
    "\n",
    "\\begin{gather*}\n",
    "    f^{-1}(3) = 4 \\\\\n",
    "    f^{-1}(-6) = -2 \\\\ \\\\\n",
    "\\end{gather*}"
   ]
  }
 ],
 "metadata": {
  "language_info": {
   "name": "python"
  }
 },
 "nbformat": 4,
 "nbformat_minor": 5
}
