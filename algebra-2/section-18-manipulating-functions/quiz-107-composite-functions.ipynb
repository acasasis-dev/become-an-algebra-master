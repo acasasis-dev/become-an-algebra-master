{
 "cells": [
  {
   "cell_type": "markdown",
   "id": "b0f5d2ba",
   "metadata": {},
   "source": [
    "## Quiz 107: Composite Functions"
   ]
  },
  {
   "cell_type": "markdown",
   "id": "f6e0abe5",
   "metadata": {},
   "source": [
    "> 1. Find the composite function.\n",
    "\n",
    "\\begin{gather*}\n",
    "    g(f(x)) \\\\\n",
    "    f(x) = \\frac{1}{x^2} \\\\\n",
    "    g(x) = \\sqrt{x - 3} \\\\ \\\\\n",
    "\n",
    "    \\boxed{g(f(x)) = \\sqrt{\\frac{1}{x^2} - 3}}\n",
    "\\end{gather*}"
   ]
  },
  {
   "cell_type": "markdown",
   "id": "38b71444",
   "metadata": {},
   "source": [
    "> 2. Find $g(h(x))$.\n",
    "\n",
    "\\begin{gather*}\n",
    "    g(x) = x^2 - x - 4 \\\\\n",
    "    h(x) = x\\sqrt{2} + 1 \\\\ \\\\\n",
    "\n",
    "    g(h(x)) = (x\\sqrt{2} + 1)^2 - (x\\sqrt{2} + 1) - 4 \\\\\n",
    "    g(h(x)) = (x\\sqrt{2} + 1)(x\\sqrt{2} + 1) - x\\sqrt{2} - 1 - 4 \\\\\n",
    "    g(h(x)) = x^2(2) + 2x\\sqrt{2} + 1 - x\\sqrt{2} - 5 \\\\\n",
    "    \\boxed{g(h(x)) = 2x^2 + x\\sqrt{2} - 4}\n",
    "\\end{gather*}"
   ]
  },
  {
   "cell_type": "markdown",
   "id": "797a5e47",
   "metadata": {},
   "source": [
    "> 3. Find $f(g(x)) - g(f(x))$.\n",
    "\n",
    "\\begin{gather*}\n",
    "    f(x) = x^2 - 2x \\\\\n",
    "    g(x) = 3x + 1 \\\\ \\\\\n",
    "    \n",
    "    f(g(x)) = (3x + 1)^2 - 2(3x + 1) \\\\\n",
    "    f(g(x)) = (3x + 1)(3x + 1) - 6x - 2 \\\\\n",
    "    f(g(x)) = 9x^2 + 6x + 1 - 6x - 2 \\\\\n",
    "    f(g(x)) = 9x^2 - 1 \\\\ \\\\\n",
    "\n",
    "    g(f(x)) = 3(x^2 - 2x) + 1 \\\\\n",
    "    g(f(x)) = 3x^2 - 6x + 1 \\\\ \\\\\n",
    "\n",
    "    f(g(x)) - g(f(x)) = (9x^2 - 1) - (3x^2 - 6x + 1) \\\\\n",
    "    f(g(x)) - g(f(x)) = 9x^2 - 1 - 3x^2 + 6x - 1 \\\\\n",
    "    \\boxed{f(g(x)) - g(f(x)) = 6x^2 + 6x - 2}\n",
    "\\end{gather*}"
   ]
  }
 ],
 "metadata": {
  "language_info": {
   "name": "python"
  }
 },
 "nbformat": 4,
 "nbformat_minor": 5
}
