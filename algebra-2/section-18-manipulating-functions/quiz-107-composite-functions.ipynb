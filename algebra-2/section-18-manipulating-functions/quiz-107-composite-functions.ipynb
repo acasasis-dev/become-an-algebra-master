{
 "cells": [
  {
   "cell_type": "markdown",
   "id": "b0f5d2ba",
   "metadata": {},
   "source": [
    "## Quiz 107: Composite Functions"
   ]
  },
  {
   "cell_type": "markdown",
   "id": "f6e0abe5",
   "metadata": {},
   "source": [
    "> 1. Find the composite function.\n",
    "\n",
    "\\begin{gather*}\n",
    "    g(f(x)) \\\\\n",
    "    f(x) = \\frac{1}{x^2} \\\\\n",
    "    g(x) = \\sqrt{x - 3} \\\\ \\\\\n",
    "\\end{gather*}"
   ]
  },
  {
   "cell_type": "markdown",
   "id": "38b71444",
   "metadata": {},
   "source": [
    "> 2. Find $g(h(x))$.\n",
    "\n",
    "\\begin{gather*}\n",
    "    g(x) = x^2 - x - 4 \\\\\n",
    "    h(x) = x\\sqrt{2} + 1 \\\\ \\\\\n",
    "\\end{gather*}"
   ]
  },
  {
   "cell_type": "markdown",
   "id": "797a5e47",
   "metadata": {},
   "source": [
    "> 3. Find $f(g(x)) - g(f(x))$.\n",
    "\n",
    "\\begin{gather*}\n",
    "    f(x) = x^2 - 2x \\\\\n",
    "    g(x) = 3x + 1 \\\\ \\\\\n",
    "\\end{gather*}"
   ]
  }
 ],
 "metadata": {
  "language_info": {
   "name": "python"
  }
 },
 "nbformat": 4,
 "nbformat_minor": 5
}
