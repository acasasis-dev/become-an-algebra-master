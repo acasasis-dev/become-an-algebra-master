{
 "cells": [
  {
   "cell_type": "markdown",
   "id": "a1b9735b",
   "metadata": {},
   "source": [
    "## Quiz 51: Solving Systems with Elimination"
   ]
  },
  {
   "cell_type": "markdown",
   "id": "cb72b456",
   "metadata": {},
   "source": [
    "> 1. Use elimination to find the unique solution to the system of equations."
   ]
  },
  {
   "cell_type": "markdown",
   "id": "00f6325e",
   "metadata": {},
   "source": [
    "$$ \n",
    "    \\begin{align*}\n",
    "        x - 3y = -7 \\\\\n",
    "        2x - 3y = 4\n",
    "    \\end{align*} \n",
    "$$"
   ]
  },
  {
   "cell_type": "markdown",
   "id": "d13eae3b",
   "metadata": {},
   "source": [
    "$$ \n",
    "    \\begin{align*}\n",
    "        -(x - 3y = -7) \\\\\n",
    "        + \\ 2x - 3y = 4 \n",
    "    \\end{align*}\n",
    "$$"
   ]
  },
  {
   "cell_type": "markdown",
   "id": "eb89eb01",
   "metadata": {},
   "source": [
    "$$ \n",
    "    \\begin{align*}\n",
    "        -x + 3y = 7 \\\\\n",
    "        + \\ 2x - 3y = 4\n",
    "    \\end{align*}\n",
    "$$"
   ]
  },
  {
   "cell_type": "markdown",
   "id": "a3277642",
   "metadata": {},
   "source": [
    "$$ \\boxed{x = 11} $$"
   ]
  },
  {
   "cell_type": "markdown",
   "id": "f3e62e9c",
   "metadata": {},
   "source": [
    "$$ (11) - 3y = -7 $$"
   ]
  },
  {
   "cell_type": "markdown",
   "id": "24442721",
   "metadata": {},
   "source": [
    "$$ -3y = -18 $$"
   ]
  },
  {
   "cell_type": "markdown",
   "id": "16d39606",
   "metadata": {},
   "source": [
    "$$ \\boxed{y = 6} $$"
   ]
  },
  {
   "cell_type": "markdown",
   "id": "d3aa0c5b",
   "metadata": {},
   "source": [
    "> 2. Use elimination to find the unique solution to the system of equations."
   ]
  },
  {
   "cell_type": "markdown",
   "id": "3d954928",
   "metadata": {},
   "source": [
    "$$ \n",
    "    \\begin{align*}\n",
    "        x - 2y = -1 \\\\\n",
    "        2x - 3y = 4 \n",
    "    \\end{align*}\n",
    "$$"
   ]
  },
  {
   "cell_type": "markdown",
   "id": "7f73e829",
   "metadata": {},
   "source": [
    "$$ \n",
    "    \\begin{align*}\n",
    "        -3(x - 2y = -1) \\\\\n",
    "        + \\ 2(2x - 3y = 4) \n",
    "    \\end{align*}\n",
    "$$"
   ]
  },
  {
   "cell_type": "markdown",
   "id": "46ffaba1",
   "metadata": {},
   "source": [
    "$$ \n",
    "    \\begin{align*}\n",
    "        -3x + 6y = 3 \\\\\n",
    "        + \\ 4x - 6y = 8 \n",
    "    \\end{align*}\n",
    "$$"
   ]
  },
  {
   "cell_type": "markdown",
   "id": "8694cf07",
   "metadata": {},
   "source": [
    "$$ \\boxed{x = 11} $$"
   ]
  },
  {
   "cell_type": "markdown",
   "id": "982dfe8e",
   "metadata": {},
   "source": [
    "$$ (11) - 2y = -1 $$"
   ]
  },
  {
   "cell_type": "markdown",
   "id": "3614802e",
   "metadata": {},
   "source": [
    "$$ -2y = -12 $$"
   ]
  },
  {
   "cell_type": "markdown",
   "id": "2f4c8b6d",
   "metadata": {},
   "source": [
    "$$ \\boxed{y = 6} $$"
   ]
  },
  {
   "cell_type": "markdown",
   "id": "7ae708f7",
   "metadata": {},
   "source": [
    "> 3. Use elimination to find the unique solution to the system of equations."
   ]
  },
  {
   "cell_type": "markdown",
   "id": "47082f7c",
   "metadata": {},
   "source": [
    "$$ \n",
    "    \\begin{align*}\n",
    "        3x - 4y = 7 \\\\\n",
    "        2x - 7y = -4 \n",
    "    \\end{align*}\n",
    "$$"
   ]
  },
  {
   "cell_type": "markdown",
   "id": "d0e09660",
   "metadata": {},
   "source": [
    "$$ \n",
    "    \\begin{align*}\n",
    "        -7(3x - 4y = 7) \\\\\n",
    "        + \\ 4(2x - 7y = -4) \n",
    "    \\end{align*}\n",
    "$$"
   ]
  },
  {
   "cell_type": "markdown",
   "id": "961dcaf0",
   "metadata": {},
   "source": [
    "$$ \n",
    "    \\begin{align*}\n",
    "        -21x + 28y = -49 \\\\\n",
    "        + \\ 8x - 28y = -16\n",
    "    \\end{align*}\n",
    "$$"
   ]
  },
  {
   "cell_type": "markdown",
   "id": "7c54048e",
   "metadata": {},
   "source": [
    "$$ -13x = -65 $$"
   ]
  },
  {
   "cell_type": "markdown",
   "id": "386ac166",
   "metadata": {},
   "source": [
    "$$ \\boxed{x = 5} $$"
   ]
  },
  {
   "cell_type": "markdown",
   "id": "a879a417",
   "metadata": {},
   "source": [
    "$$ 3(5) - 4y = 7 $$"
   ]
  },
  {
   "cell_type": "markdown",
   "id": "397ab1ba",
   "metadata": {},
   "source": [
    "$$ 15 - 4y = 7 $$"
   ]
  },
  {
   "cell_type": "markdown",
   "id": "1f5005cd",
   "metadata": {},
   "source": [
    "$$ -4y = -8 $$"
   ]
  },
  {
   "cell_type": "markdown",
   "id": "00ececdd",
   "metadata": {},
   "source": [
    "$$ \\boxed{y = 2} $$"
   ]
  }
 ],
 "metadata": {
  "language_info": {
   "name": "python"
  }
 },
 "nbformat": 4,
 "nbformat_minor": 5
}
