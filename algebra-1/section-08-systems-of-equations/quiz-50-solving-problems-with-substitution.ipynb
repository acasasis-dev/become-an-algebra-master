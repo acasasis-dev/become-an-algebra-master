{
 "cells": [
  {
   "cell_type": "markdown",
   "id": "26ea6b95",
   "metadata": {},
   "source": [
    "## Quiz 50: Solving Systems with Substitution"
   ]
  },
  {
   "cell_type": "markdown",
   "id": "0e518aaa",
   "metadata": {},
   "source": [
    "> 1. Use substitution to find the unique solution to the system of equations."
   ]
  },
  {
   "cell_type": "markdown",
   "id": "0dface7c",
   "metadata": {},
   "source": [
    "$$ y = x + 7, \\ \\ \\ x + 2y = -16 $$"
   ]
  },
  {
   "cell_type": "markdown",
   "id": "5fee89eb",
   "metadata": {},
   "source": [
    "$$ x + 2(x + 7) = -16 $$"
   ]
  },
  {
   "cell_type": "markdown",
   "id": "5d77c9df",
   "metadata": {},
   "source": [
    "$$ x + 2x + 14 = -16 $$"
   ]
  },
  {
   "cell_type": "markdown",
   "id": "50bafdd1",
   "metadata": {},
   "source": [
    "$$ 3x + 14 = -16 $$"
   ]
  },
  {
   "cell_type": "markdown",
   "id": "a544e154",
   "metadata": {},
   "source": [
    "$$ 3x = -30 $$"
   ]
  },
  {
   "cell_type": "markdown",
   "id": "e217f4f5",
   "metadata": {},
   "source": [
    "$$ \\boxed{x = -10} $$"
   ]
  },
  {
   "cell_type": "markdown",
   "id": "91c7f369",
   "metadata": {},
   "source": [
    "$$ \\boxed{y = (-10) + 7 = \\boxed{-3}} $$"
   ]
  },
  {
   "cell_type": "markdown",
   "id": "341cb02d",
   "metadata": {},
   "source": [
    "> 2. Use substitution to find the unique solution to the system of equations."
   ]
  },
  {
   "cell_type": "markdown",
   "id": "372a98d8",
   "metadata": {},
   "source": [
    "$$ y = x + 3, \\ \\ \\ 2x + y = 10 $$"
   ]
  },
  {
   "cell_type": "markdown",
   "id": "83ab266b",
   "metadata": {},
   "source": [
    "$$ 2x + (x + 3) = 10 $$"
   ]
  },
  {
   "cell_type": "markdown",
   "id": "7486c0c6",
   "metadata": {},
   "source": [
    "$$ 3x + 3 = 10 $$"
   ]
  },
  {
   "cell_type": "markdown",
   "id": "11a413cc",
   "metadata": {},
   "source": [
    "$$ 3x = 7 $$"
   ]
  },
  {
   "cell_type": "markdown",
   "id": "1e3f79ca",
   "metadata": {},
   "source": [
    "$$ \\boxed{x = \\frac{7}{3}} $$"
   ]
  },
  {
   "cell_type": "markdown",
   "id": "7a43504d",
   "metadata": {},
   "source": [
    "$$ \\boxed{y = (\\frac{7}{3}) + 3 = \\frac{7}{3} + \\frac{9}{3} = \\boxed{\\frac{16}{3}}} $$"
   ]
  },
  {
   "cell_type": "markdown",
   "id": "5d81eba2",
   "metadata": {},
   "source": [
    "> 3. Use substitution to find the unique solution to the system of equations."
   ]
  },
  {
   "cell_type": "markdown",
   "id": "76c6c1a6",
   "metadata": {},
   "source": [
    "$$ 3x - y = -5, \\ \\ \\ y = -2x - 5 $$"
   ]
  },
  {
   "cell_type": "markdown",
   "id": "babe69b9",
   "metadata": {},
   "source": [
    "$$ 3x - (-2x - 5) = -5 $$"
   ]
  },
  {
   "cell_type": "markdown",
   "id": "5deb9f73",
   "metadata": {},
   "source": [
    "$$ 3x + 2x +  5 = -5 $$"
   ]
  },
  {
   "cell_type": "markdown",
   "id": "56ee300d",
   "metadata": {},
   "source": [
    "$$ 5x = -10 $$"
   ]
  },
  {
   "cell_type": "markdown",
   "id": "9171489a",
   "metadata": {},
   "source": [
    "$$ \\boxed{x = -2} $$"
   ]
  },
  {
   "cell_type": "markdown",
   "id": "0545ffc3",
   "metadata": {},
   "source": [
    "$$ \\boxed{y = -2(-2) - 5 = 4 - 5 = \\boxed{-1}} $$"
   ]
  }
 ],
 "metadata": {
  "language_info": {
   "name": "python"
  }
 },
 "nbformat": 4,
 "nbformat_minor": 5
}
