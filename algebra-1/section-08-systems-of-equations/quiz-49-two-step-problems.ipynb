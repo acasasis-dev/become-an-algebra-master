{
 "cells": [
  {
   "cell_type": "markdown",
   "id": "9c02cc99",
   "metadata": {},
   "source": [
    "## Quiz 49: Two-Step Problems"
   ]
  },
  {
   "cell_type": "markdown",
   "id": "228e9b02",
   "metadata": {},
   "source": [
    "> 1. If **x + 5 = 10**, what is **x + 3**?"
   ]
  },
  {
   "cell_type": "markdown",
   "id": "40b87f5e",
   "metadata": {},
   "source": [
    "$$ x + 5 = 10 $$"
   ]
  },
  {
   "cell_type": "markdown",
   "id": "5ab553e6",
   "metadata": {},
   "source": [
    "$$ x = 5 $$"
   ]
  },
  {
   "cell_type": "markdown",
   "id": "029cf104",
   "metadata": {},
   "source": [
    "$$ \\boxed{(5) + 3 = \\boxed{8}} $$"
   ]
  },
  {
   "cell_type": "markdown",
   "id": "188ff723",
   "metadata": {},
   "source": [
    "> 2. If **6(2x-5) = 54**, what is **3x - 4**?"
   ]
  },
  {
   "cell_type": "markdown",
   "id": "9c4c4469",
   "metadata": {},
   "source": [
    "$$ 6(2x - 5) = 54 $$"
   ]
  },
  {
   "cell_type": "markdown",
   "id": "86a37631",
   "metadata": {},
   "source": [
    "$$ 12x - 30 = 54 $$"
   ]
  },
  {
   "cell_type": "markdown",
   "id": "b611bb97",
   "metadata": {},
   "source": [
    "$$ 12x = 84 $$"
   ]
  },
  {
   "cell_type": "markdown",
   "id": "e904389c",
   "metadata": {},
   "source": [
    "$$ x = 7 $$"
   ]
  },
  {
   "cell_type": "markdown",
   "id": "2c0bcf67",
   "metadata": {},
   "source": [
    "$$ \\boxed{3(7) - 4 = 21 - 4 = \\boxed{17}} $$"
   ]
  },
  {
   "cell_type": "markdown",
   "id": "3996f1ca",
   "metadata": {},
   "source": [
    "> 3. If **9t - 4 = 3 - 5t**, then what is the value of **12t^2 + 2**?"
   ]
  },
  {
   "cell_type": "markdown",
   "id": "abba10f4",
   "metadata": {},
   "source": [
    "$$ 9t - 4 = 3 - 5t $$"
   ]
  },
  {
   "cell_type": "markdown",
   "id": "7951d756",
   "metadata": {},
   "source": [
    "$$ 14t = 7 $$"
   ]
  },
  {
   "cell_type": "markdown",
   "id": "dfaa0a65",
   "metadata": {},
   "source": [
    "$$ t = \\frac{1}{2} $$"
   ]
  },
  {
   "cell_type": "markdown",
   "id": "4d8a3031",
   "metadata": {},
   "source": [
    "$$ \\boxed{12(\\frac{1}{2})^2 + 2 = 12(\\frac{1}{4}) + 2 = 3 + 2 = \\boxed{5}} $$"
   ]
  }
 ],
 "metadata": {
  "language_info": {
   "name": "python"
  }
 },
 "nbformat": 4,
 "nbformat_minor": 5
}
