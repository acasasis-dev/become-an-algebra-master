{
 "cells": [
  {
   "cell_type": "markdown",
   "id": "28a24033",
   "metadata": {},
   "source": [
    "## Quiz 12: Evaluating Expressions"
   ]
  },
  {
   "cell_type": "markdown",
   "id": "c3342b53",
   "metadata": {},
   "source": [
    "> 1. Evaluate the expression if $a = 3$ and $b = -6$.\n",
    "\n",
    "\\begin{gather*}\n",
    "    a + b \\\\ \\\\\n",
    "\n",
    "    (3) + (-6) \\\\\n",
    "    3 - 6 \\\\ \\\\\n",
    "\n",
    "    \\boxed{-3}\n",
    "\\end{gather*}"
   ]
  },
  {
   "cell_type": "markdown",
   "id": "f2504a1e",
   "metadata": {},
   "source": [
    "> 2. Evaluate the expression if $x = -1$, $y = 2$, and $z = -3$.\n",
    "\n",
    "\\begin{gather*}\n",
    "    xy + y^2 + xyz \\\\ \\\\\n",
    "\n",
    "    (-1)(2) + (2)^2 + (-1)(2)(-3) \\\\\n",
    "    -2 + 4 - 2(-3) \\\\\n",
    "    -2 + 4 + 6 \\\\\n",
    "    2 + 6 \\\\ \\\\\n",
    "\n",
    "    \\boxed{8}\n",
    "\\end{gather*}"
   ]
  },
  {
   "cell_type": "markdown",
   "id": "40faf33b",
   "metadata": {},
   "source": [
    "> 3. Use $a = -2$ and $b = 3$ to evaluate the expression.\n",
    "\n",
    "\\begin{gather*}\n",
    "    ab^2 - b(a - b) + a \\\\ \\\\\n",
    "\n",
    "    (-2)(3)^2 - (3)[(-2) - (3)] + (-2) \\\\\n",
    "    -2(9) - 3(-5) - 2 \\\\\n",
    "    -18 + 15 - 2 \\\\\n",
    "    -3 - 2 \\\\ \\\\\n",
    "\n",
    "    \\boxed{-5}\n",
    "\\end{gather*}"
   ]
  }
 ],
 "metadata": {
  "language_info": {
   "name": "python"
  }
 },
 "nbformat": 4,
 "nbformat_minor": 5
}
