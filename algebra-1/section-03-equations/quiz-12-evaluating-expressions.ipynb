{
 "cells": [
  {
   "cell_type": "markdown",
   "id": "28a24033",
   "metadata": {},
   "source": [
    "## Quiz 12: Evaluating Expressions"
   ]
  },
  {
   "cell_type": "markdown",
   "id": "c3342b53",
   "metadata": {},
   "source": [
    "> 1. Evaluate the expression if $a = 3$ and $b = -6$.\n",
    "\n",
    "\\begin{gather*}\n",
    "    a + b \\\\ \\\\\n",
    "\\end{gather*}"
   ]
  },
  {
   "cell_type": "markdown",
   "id": "f2504a1e",
   "metadata": {},
   "source": [
    "> 2. Evaluate the expression if $x = -1$, $y = 2$, and $z = -3$.\n",
    "\n",
    "\\begin{gather*}\n",
    "    xy + y^2 + xyz \\\\ \\\\\n",
    "\\end{gather*}"
   ]
  },
  {
   "cell_type": "markdown",
   "id": "40faf33b",
   "metadata": {},
   "source": [
    "> 3. Use $a = -2$ and $b = 3$ to evaluate the expression.\n",
    "\n",
    "\\begin{gather*}\n",
    "    ab^2 - b(a - b) + a \\\\ \\\\\n",
    "\\end{gather*}"
   ]
  }
 ],
 "metadata": {
  "language_info": {
   "name": "python"
  }
 },
 "nbformat": 4,
 "nbformat_minor": 5
}
