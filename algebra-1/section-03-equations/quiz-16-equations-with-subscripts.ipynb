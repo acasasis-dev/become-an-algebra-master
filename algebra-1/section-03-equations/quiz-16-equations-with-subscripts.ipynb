{
 "cells": [
  {
   "cell_type": "markdown",
   "id": "c61e11df",
   "metadata": {},
   "source": [
    "## Quiz 16: Equations with Subscripts"
   ]
  },
  {
   "cell_type": "markdown",
   "id": "e2232b6d",
   "metadata": {},
   "source": [
    "> 1. The pressure and volume of a gas are related by $P_1V_1 - P_2V_2 = 0$, where $P_1$ and $V_1$ are the original pressure and volume and $P_2$ and $V_2$ are the new pressure and volume. If the original pressure is $1.2$, the original volume is $150$, and the new pressure is $36$, what is the new volume?"
   ]
  },
  {
   "cell_type": "markdown",
   "id": "d571a34a",
   "metadata": {},
   "source": [
    "> 2. A car travels at $60$ mph for $135$ miles, then speeds up and travels at a new constant speed for another $216$ miles. If the total time for the trip is $5.25$ hours, how fast does the car travel during the second part of the trip? Use $d_1$ and $d_2$ as the first distance and second distance, $v_1$ and $v_2$ as the first speed and second speed, and $t$ as the total time for the trip.\n",
    "\n",
    "\\begin{gather*}\n",
    "    \\frac{d_1}{v_1} + \\frac{d_2}{v_2} = t \\\\ \\\\\n",
    "\\end{gather*}"
   ]
  }
 ],
 "metadata": {
  "language_info": {
   "name": "python"
  }
 },
 "nbformat": 4,
 "nbformat_minor": 5
}
