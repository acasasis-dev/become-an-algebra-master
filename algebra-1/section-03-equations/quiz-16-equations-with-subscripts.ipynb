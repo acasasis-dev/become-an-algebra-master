{
 "cells": [
  {
   "cell_type": "markdown",
   "id": "c61e11df",
   "metadata": {},
   "source": [
    "## Quiz 16: Equations with Subscripts"
   ]
  },
  {
   "cell_type": "markdown",
   "id": "e2232b6d",
   "metadata": {},
   "source": [
    "> 1. The pressure and volume of a gas are related by $P_1V_1 - P_2V_2 = 0$, where $P_1$ and $V_1$ are the original pressure and volume and $P_2$ and $V_2$ are the new pressure and volume. If the original pressure is $1.2$, the original volume is $150$, and the new pressure is $36$, what is the new volume?\n",
    "\n",
    "\\begin{gather*}\n",
    "    P_1V_1 - P_2V_2 = 0 \\\\\n",
    "    P_2V_2 = P_1V_1 \\\\\n",
    "    \\frac{P_2V_2 = P_1V_1}{P_2} \\\\\n",
    "    V_2 = \\frac{P_1V_1}{P_2} \\\\ \\\\\n",
    "\n",
    "    V_2 = \\frac{(1.2)(150)}{36} \\\\\n",
    "    V_2 = \\frac{180}{36} \\\\ \\\\\n",
    "\n",
    "    \\boxed{V_2 = 5}\n",
    "\\end{gather*}"
   ]
  },
  {
   "cell_type": "markdown",
   "id": "d571a34a",
   "metadata": {},
   "source": [
    "> 2. A car travels at $60$ mph for $135$ miles, then speeds up and travels at a new constant speed for another $216$ miles. If the total time for the trip is $5.25$ hours, how fast does the car travel during the second part of the trip? Use $d_1$ and $d_2$ as the first distance and second distance, $v_1$ and $v_2$ as the first speed and second speed, and $t$ as the total time for the trip.\n",
    "\n",
    "\\begin{gather*}\n",
    "    \\frac{d_1}{v_1} + \\frac{d_2}{v_2} = t \\\\ \\\\\n",
    "\n",
    "    \\frac{d_2}{v_2} = t - \\frac{d_1}{v_1} \\\\\n",
    "    v_2(\\frac{d_2}{v_2} = t - \\frac{d_1}{v_1}) \\\\\n",
    "    d_2 = (t - \\frac{d_1}{v_1})v_2 \\\\\n",
    "    \\frac{d_2 = (t - \\frac{d_1}{v_1})v_2}{(t - \\frac{d_1}{v_1})} \\\\\n",
    "    v_2 = \\frac{d_2}{t - \\frac{d_1}{v_1}} \\\\ \\\\\n",
    "\n",
    "    v_2 = \\frac{216}{5.25 - \\frac{135}{60}} \\\\\n",
    "    v_2 = \\frac{216}{5.25 - 2.25} \\\\\n",
    "    v_2 = \\frac{216}{3} \\\\ \\\\\n",
    "\n",
    "    \\boxed{v_2 = 72}\n",
    "\\end{gather*}"
   ]
  },
  {
   "cell_type": "markdown",
   "id": "f0f59e0f",
   "metadata": {},
   "source": [
    "> 3. A house has three grassy yards. The dimensions of the front yard are $l_f = 50$ ft by $w_f = 22$ ft. The side yard is $l_s = 40$ ft by $w_s = 12$ ft, and the back yard is $l_b = 50$ ft by an unknown $w_b$. If the total grassy area is $3,180 \\ \\text{ft}^2$, what is the width of the back yard?\n",
    "\n",
    "\\begin{gather*}\n",
    "    A = l_fw_f + l_sw_s + l_bw_b \\\\ \\\\\n",
    "\n",
    "    l_bw_b = A - l_fw_f - l_sw_s \\\\\n",
    "    \\frac{l_bw_b = A - l_fw_f - l_sw_s}{l_b} \\\\\n",
    "    w_b = \\frac{A - l_fw_f - l_sw_s}{l_b} \\\\ \\\\\n",
    "\n",
    "    w_b = \\frac{(3180) - (50)(22) - (40)(12)}{50} \\\\\n",
    "    w_b = \\frac{3180 - 1100 - 480}{50} \\\\\n",
    "    w_b = \\frac{1600}{50} \\\\ \\\\\n",
    "\n",
    "    \\boxed{w_b = 32}\n",
    "\\end{gather*}"
   ]
  }
 ],
 "metadata": {
  "language_info": {
   "name": "python"
  }
 },
 "nbformat": 4,
 "nbformat_minor": 5
}
