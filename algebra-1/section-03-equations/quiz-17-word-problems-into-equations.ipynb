{
 "cells": [
  {
   "cell_type": "markdown",
   "id": "2e24007f",
   "metadata": {},
   "source": [
    "## Quiz 17: Word Problems Into Equations"
   ]
  },
  {
   "cell_type": "markdown",
   "id": "1064160d",
   "metadata": {},
   "source": [
    "> 1. Write the phrase as an algebraic expression.\n",
    "\n",
    "\"three less than twice $x$\"\n",
    "\n",
    "$2x - 3$"
   ]
  },
  {
   "cell_type": "markdown",
   "id": "ee469833",
   "metadata": {},
   "source": [
    "> 2. Find the value of the expression.\n",
    "\n",
    "$\\frac{3}{4}$ of $200$\n",
    "\n",
    "\\begin{gather*}\n",
    "    \\frac{3}{4}(200) \\\\\n",
    "    \\frac{600}{4} \\\\ \\\\\n",
    "\n",
    "    \\boxed{150}\n",
    "\\end{gather*}"
   ]
  },
  {
   "cell_type": "markdown",
   "id": "8bbdd900",
   "metadata": {},
   "source": [
    "> 3. Four times a number, decreased by $8$, is $92$. Find the number.\n",
    "\n",
    "\\begin{gather*}\n",
    "    4n - 8 = 92 \\\\ \\\\\n",
    "\n",
    "    4n = 92 + 8 \\\\\n",
    "    4n = 100 \\\\\n",
    "    \\frac{4n = 100}{4} \\\\ \\\\\n",
    "\n",
    "    \\boxed{25}\n",
    "\\end{gather*}"
   ]
  }
 ],
 "metadata": {
  "language_info": {
   "name": "python"
  }
 },
 "nbformat": 4,
 "nbformat_minor": 5
}
