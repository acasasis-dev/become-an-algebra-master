{
 "cells": [
  {
   "cell_type": "markdown",
   "id": "fe10a7cc",
   "metadata": {},
   "source": [
    "## Quiz 14: Simple Equations"
   ]
  },
  {
   "cell_type": "markdown",
   "id": "cde0aaf9",
   "metadata": {},
   "source": [
    "> 1. Solve for the variable.\n",
    "\n",
    "\\begin{gather*}\n",
    "    x + 5 = 10 \\\\ \\\\\n",
    "\\end{gather*}"
   ]
  },
  {
   "cell_type": "markdown",
   "id": "d26e6d86",
   "metadata": {},
   "source": [
    "> 2. Solve for the variable.\n",
    "\n",
    "\\begin{gather*}\n",
    "    4x + 2 = 10 \\\\ \\\\\n",
    "\\end{gather*}"
   ]
  },
  {
   "cell_type": "markdown",
   "id": "84ae5d3f",
   "metadata": {},
   "source": [
    "> 3. Solve for the variable.\n",
    "\n",
    "\\begin{gather*}\n",
    "    -3x + 4 = 16 \\\\ \\\\\n",
    "\\end{gather*}"
   ]
  }
 ],
 "metadata": {
  "language_info": {
   "name": "python"
  }
 },
 "nbformat": 4,
 "nbformat_minor": 5
}
