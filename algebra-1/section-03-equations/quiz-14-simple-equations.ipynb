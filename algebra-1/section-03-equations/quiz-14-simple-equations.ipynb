{
 "cells": [
  {
   "cell_type": "markdown",
   "id": "fe10a7cc",
   "metadata": {},
   "source": [
    "## Quiz 14: Simple Equations"
   ]
  },
  {
   "cell_type": "markdown",
   "id": "cde0aaf9",
   "metadata": {},
   "source": [
    "> 1. Solve for the variable.\n",
    "\n",
    "\\begin{gather*}\n",
    "    x + 5 = 10 \\\\ \\\\\n",
    "\n",
    "    x = 10 - 5 \\\\ \\\\\n",
    "\n",
    "    \\boxed{x = 5}\n",
    "\\end{gather*}"
   ]
  },
  {
   "cell_type": "markdown",
   "id": "d26e6d86",
   "metadata": {},
   "source": [
    "> 2. Solve for the variable.\n",
    "\n",
    "\\begin{gather*}\n",
    "    4x + 2 = 10 \\\\ \\\\\n",
    "\n",
    "    4x = 10 - 2 \\\\\n",
    "    4x = 8 \\\\\n",
    "    \\frac{4x = 8}{4} \\\\ \\\\\n",
    "\n",
    "    \\boxed{x = 2}\n",
    "\\end{gather*}"
   ]
  },
  {
   "cell_type": "markdown",
   "id": "84ae5d3f",
   "metadata": {},
   "source": [
    "> 3. Solve for the variable.\n",
    "\n",
    "\\begin{gather*}\n",
    "    -3x + 4 = 16 \\\\ \\\\\n",
    "\n",
    "    -3x = 16 - 4 \\\\\n",
    "    -3x = 12 \\\\\n",
    "    \\frac{-3x = 12}{-3} \\\\ \\\\\n",
    "\n",
    "    \\boxed{x = -4}\n",
    "\\end{gather*}"
   ]
  }
 ],
 "metadata": {
  "language_info": {
   "name": "python"
  }
 },
 "nbformat": 4,
 "nbformat_minor": 5
}
