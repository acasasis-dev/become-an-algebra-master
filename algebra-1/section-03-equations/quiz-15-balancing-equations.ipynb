{
 "cells": [
  {
   "cell_type": "markdown",
   "id": "aac8c036",
   "metadata": {},
   "source": [
    "## Quiz 15: Balancing Equations"
   ]
  },
  {
   "cell_type": "markdown",
   "id": "ce7bdd8a",
   "metadata": {},
   "source": [
    "> 1. Solve for the variable.\n",
    "\n",
    "\\begin{gather*}\n",
    "    3x + 2 = x - 10 \\\\ \\\\\n",
    "\n",
    "    3x - x = -10 - 2 \\\\\n",
    "    2x = -12 \\\\\n",
    "    \\frac{2x = -12}{2} \\\\ \\\\\n",
    "    \n",
    "    \\boxed{x = -6}\n",
    "\\end{gather*}"
   ]
  },
  {
   "cell_type": "markdown",
   "id": "7d9f73ac",
   "metadata": {},
   "source": [
    "> 2. Solve for the variable.\n",
    "\n",
    "\\begin{gather*}\n",
    "    2x + 3x + 5 = x - 10 \\\\ \\\\\n",
    "\n",
    "    2x + 3x - x = -10 - 5 \\\\\n",
    "    5x - x = -15 \\\\\n",
    "    4x = -15 \\\\\n",
    "    \\frac{4x = -15}{4} \\\\ \\\\\n",
    "\n",
    "    \\boxed{x = -\\frac{15}{4}}\n",
    "\\end{gather*}"
   ]
  },
  {
   "cell_type": "markdown",
   "id": "2474e7ff",
   "metadata": {},
   "source": [
    "> 3. Solve the equation for $m$.\n",
    "\n",
    "\\begin{gather*}\n",
    "    4m - 2(3m + 2) + 4 = 3(4 - 2m) + 3m \\\\ \\\\\n",
    "\n",
    "    4m - 6m - 4 + 4 = 12 - 6m + 3m \\\\\n",
    "    4m - 6m + 6m - 3m = 12 + 4 - 4 \\\\\n",
    "    4m - 3m = 12 \\\\ \\\\\n",
    "\n",
    "    \\boxed{m = 12}\n",
    "\\end{gather*}"
   ]
  }
 ],
 "metadata": {
  "language_info": {
   "name": "python"
  }
 },
 "nbformat": 4,
 "nbformat_minor": 5
}
