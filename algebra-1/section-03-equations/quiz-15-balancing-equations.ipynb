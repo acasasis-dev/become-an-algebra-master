{
 "cells": [
  {
   "cell_type": "markdown",
   "id": "aac8c036",
   "metadata": {},
   "source": [
    "## Quiz 15: Balancing Equations"
   ]
  },
  {
   "cell_type": "markdown",
   "id": "ce7bdd8a",
   "metadata": {},
   "source": [
    "> 1. Solve for the variable.\n",
    "\n",
    "\\begin{gather*}\n",
    "    3x + 2 = x - 10 \\\\ \\\\\n",
    "\\end{gather*}"
   ]
  },
  {
   "cell_type": "markdown",
   "id": "7d9f73ac",
   "metadata": {},
   "source": [
    "> 2. Solve for the variable.\n",
    "\n",
    "\\begin{gather*}\n",
    "    2x + 3x + 5 = x - 10 \\\\ \\\\\n",
    "\\end{gather*}"
   ]
  },
  {
   "cell_type": "markdown",
   "id": "2474e7ff",
   "metadata": {},
   "source": [
    "> 3. Solve the equation for $m$.\n",
    "\n",
    "\\begin{gather*}\n",
    "    4m - 2(3m + 2) + 4 = 3(4 - 2m) + 3m \\\\ \\\\\n",
    "\\end{gather*}"
   ]
  }
 ],
 "metadata": {
  "language_info": {
   "name": "python"
  }
 },
 "nbformat": 4,
 "nbformat_minor": 5
}
