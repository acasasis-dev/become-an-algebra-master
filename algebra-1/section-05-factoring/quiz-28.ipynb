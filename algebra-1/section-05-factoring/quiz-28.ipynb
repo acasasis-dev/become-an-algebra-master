{
 "cells": [
  {
   "cell_type": "markdown",
   "id": "734d83b9",
   "metadata": {},
   "source": [
    "Quiz 28: Completing the Square\n",
    "---"
   ]
  },
  {
   "cell_type": "markdown",
   "id": "45e0f67a",
   "metadata": {},
   "source": [
    "> 1. Complete the square to solve the quadratic equation"
   ]
  },
  {
   "cell_type": "markdown",
   "id": "8cab5111",
   "metadata": {},
   "source": [
    "$$ x^2 + 4x + 2 = 0 $$"
   ]
  },
  {
   "cell_type": "markdown",
   "id": "073aea01",
   "metadata": {},
   "source": [
    "$$ \\left \\{\\left(\\frac{4}{2}\\right)^2 = \\boxed{4} \\right \\} \\ \\left(x^2 + 4x + \\boxed{4}\\right) + 2 = 0 + \\boxed{4} $$"
   ]
  },
  {
   "cell_type": "markdown",
   "id": "925f898c",
   "metadata": {},
   "source": [
    "$$ \\left(x + 2\\right)^2 = 2 $$"
   ]
  },
  {
   "cell_type": "markdown",
   "id": "645de7ab",
   "metadata": {},
   "source": [
    "$$ x + 2 = \\pm\\sqrt{2} $$"
   ]
  },
  {
   "cell_type": "markdown",
   "id": "a5931a4e",
   "metadata": {},
   "source": [
    "$$ \\boxed{x = -2 \\pm\\sqrt{2}} $$"
   ]
  },
  {
   "cell_type": "markdown",
   "id": "b3f0bdf0",
   "metadata": {},
   "source": [
    "> 2. Complete the square to find the roots of the quadratic"
   ]
  },
  {
   "cell_type": "markdown",
   "id": "7d8f8b66",
   "metadata": {},
   "source": [
    "$$ u^2 - 4u + 3 = 0 $$"
   ]
  },
  {
   "cell_type": "markdown",
   "id": "e30c8eba",
   "metadata": {},
   "source": [
    "$$ \\left(u - 3\\right)\\left(u - 1\\right) $$"
   ]
  },
  {
   "cell_type": "markdown",
   "id": "f5c55ad0",
   "metadata": {},
   "source": [
    "$$ \\boxed{u = -\\left(-3, -1\\right) = 3, 1} $$"
   ]
  },
  {
   "cell_type": "markdown",
   "id": "512bcd96",
   "metadata": {},
   "source": [
    "> 3. Solve the quadratic equation by completing the square"
   ]
  },
  {
   "cell_type": "markdown",
   "id": "c0a10a19",
   "metadata": {},
   "source": [
    "$$ x^2 - 2x + 9 = 0 $$"
   ]
  },
  {
   "cell_type": "markdown",
   "id": "ff089006",
   "metadata": {},
   "source": [
    "$$ \\left\\{ \\left(\\frac{-2}{2}\\right)^2 = \\boxed{1} \\right\\} \\left(x^2 - 2x + \\boxed{1}\\right) + 9 = 0 + \\boxed{1} $$"
   ]
  },
  {
   "cell_type": "markdown",
   "id": "8e97f10d",
   "metadata": {},
   "source": [
    "$$ \\left(x - 1\\right)^2 = -8 $$"
   ]
  },
  {
   "cell_type": "markdown",
   "id": "232c7a74",
   "metadata": {},
   "source": [
    "$$ x - 1 = \\sqrt{-8} = \\sqrt{4} \\sqrt{-2} = 2\\sqrt{-2} $$"
   ]
  },
  {
   "cell_type": "markdown",
   "id": "bdd211d0",
   "metadata": {},
   "source": [
    "$$ x = 1 \\pm 2\\sqrt{-2} = \\boxed{1 \\pm 2\\sqrt{2i}} $$"
   ]
  },
  {
   "cell_type": "markdown",
   "id": "653be1b3",
   "metadata": {},
   "source": []
  }
 ],
 "metadata": {
  "language_info": {
   "name": "python"
  }
 },
 "nbformat": 4,
 "nbformat_minor": 5
}
