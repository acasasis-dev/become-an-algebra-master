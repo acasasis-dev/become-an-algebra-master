{
 "cells": [
  {
   "cell_type": "markdown",
   "id": "4e73da07",
   "metadata": {},
   "source": [
    "## Quiz 27: Zero Theorem"
   ]
  },
  {
   "cell_type": "markdown",
   "id": "5536d6f1",
   "metadata": {},
   "source": [
    "> 1. Solve the quadratic equation.\n",
    "\n",
    "\\begin{gather*}\n",
    "    x^2 + 3x - 4 = 0 \\\\ \\\\\n",
    "\\end{gather*}"
   ]
  },
  {
   "cell_type": "markdown",
   "id": "84c31c11",
   "metadata": {},
   "source": [
    "> 2. Solve the quadratic equation.\n",
    "\n",
    "\\begin{gather*}\n",
    "    x^2 - 5x - 6 = 0 \\\\ \\\\\n",
    "\\end{gather*}"
   ]
  },
  {
   "cell_type": "markdown",
   "id": "9125065e",
   "metadata": {},
   "source": [
    "> 3. Solve the quadratic equation.\n",
    "\n",
    "\\begin{gather*}\n",
    "    x^2 - 18 = 3x \\\\ \\\\\n",
    "\\end{gather*}"
   ]
  }
 ],
 "metadata": {
  "language_info": {
   "name": "python"
  }
 },
 "nbformat": 4,
 "nbformat_minor": 5
}
