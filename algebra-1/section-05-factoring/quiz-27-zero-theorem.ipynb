{
 "cells": [
  {
   "cell_type": "markdown",
   "id": "4e73da07",
   "metadata": {},
   "source": [
    "## Quiz 27: Zero Theorem"
   ]
  },
  {
   "cell_type": "markdown",
   "id": "5536d6f1",
   "metadata": {},
   "source": [
    "> 1. Solve the quadratic equation.\n",
    "\n",
    "\\begin{gather*}\n",
    "    x^2 + 3x - 4 = 0 \\\\ \\\\\n",
    "\n",
    "    (x + 4)(x - 1) = 0 \\\\\n",
    "    x = -(4, -1) \\\\ \\\\\n",
    "\n",
    "    \\boxed{x = -4, 1} \\\\ \\\\\n",
    "\n",
    "    \\textbf{CHECKING} \\\\\n",
    "    x^2 + 3x - 4 = 0 \\\\\n",
    "    (-4)^2 + 3(-4) - 4 = 0 \\\\\n",
    "    16 - 12 - 4 = 0 \\\\\n",
    "    4 - 4 = 0 \\\\\n",
    "    0 = 0 \\\\ \\\\\n",
    "\n",
    "    x^2 + 3x - 4 = 0 \\\\\n",
    "    (1)^2 + 3(1) - 4 = 0 \\\\\n",
    "    1 + 3 - 4 = 0 \\\\\n",
    "    4 - 4 = 0 \\\\\n",
    "    0 = 0\n",
    "\\end{gather*}"
   ]
  },
  {
   "cell_type": "markdown",
   "id": "84c31c11",
   "metadata": {},
   "source": [
    "> 2. Solve the quadratic equation.\n",
    "\n",
    "\\begin{gather*}\n",
    "    x^2 - 5x - 6 = 0 \\\\ \\\\\n",
    "\n",
    "    (x - 6)(x + 1) = 0 \\\\\n",
    "    x = -(-6, 1) \\\\ \\\\\n",
    "\n",
    "    \\boxed{x = 6, -1} \\\\ \\\\\n",
    "\n",
    "    \\textbf{CHECKING} \\\\\n",
    "    x^2 - 5x - 6 = 0 \\\\\n",
    "    (6)^2 - 5(6) - 6 = 0 \\\\\n",
    "    36 - 30 - 6 = 0 \\\\\n",
    "    6 - 6 = 0 \\\\\n",
    "    0 = 0 \\\\ \\\\\n",
    "\n",
    "    x^2 - 5x - 6 = 0 \\\\\n",
    "    (-1)^2 - 5(-1) - 6 = 0 \\\\\n",
    "    1 + 5 - 6 = 0 \\\\\n",
    "    6 - 6 = 0 \\\\\n",
    "    0 = 0\n",
    "\\end{gather*}"
   ]
  },
  {
   "cell_type": "markdown",
   "id": "9125065e",
   "metadata": {},
   "source": [
    "> 3. Solve the quadratic equation.\n",
    "\n",
    "\\begin{gather*}\n",
    "    x^2 - 18 = 3x \\\\ \\\\\n",
    "\n",
    "    x^2 - 3x - 18 = 0 \\\\\n",
    "    (x - 6)(x + 3) = 0 \\\\\n",
    "    x = -(-6, 3) \\\\ \\\\\n",
    "\n",
    "    \\boxed{x = 6, -3} \\\\ \\\\\n",
    "\n",
    "    \\textbf{CHECKING} \\\\\n",
    "    x^2 - 18 = 3x \\\\\n",
    "    (6)^2 - 18 = 3(6) \\\\\n",
    "    36 - 18 = 18 \\\\\n",
    "    18 = 18 \\\\ \\\\\n",
    "\n",
    "    x^2 - 18 = 3x \\\\\n",
    "    (-3)^2 - 18 = 3(-3) \\\\\n",
    "    9 - 18 = -9 \\\\\n",
    "    -9 = -9\n",
    "\\end{gather*}"
   ]
  }
 ],
 "metadata": {
  "language_info": {
   "name": "python"
  }
 },
 "nbformat": 4,
 "nbformat_minor": 5
}
