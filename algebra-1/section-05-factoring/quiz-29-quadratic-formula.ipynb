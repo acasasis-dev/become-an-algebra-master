{
 "cells": [
  {
   "cell_type": "markdown",
   "id": "7e2e046a",
   "metadata": {},
   "source": [
    "## Quiz 29: Quadratic Formula"
   ]
  },
  {
   "cell_type": "markdown",
   "id": "7cb1d766",
   "metadata": {},
   "source": [
    "> 1. Use the quadratic formula to solve the quadratic."
   ]
  },
  {
   "cell_type": "markdown",
   "id": "4cf997a0",
   "metadata": {},
   "source": [
    "$$ 3x^2 + 2x - 1 = 0 $$"
   ]
  },
  {
   "cell_type": "markdown",
   "id": "7b187715",
   "metadata": {},
   "source": [
    "$$ \\frac{-(2) \\pm \\sqrt{2^2 - 4\\left(3\\right)\\left(-1\\right)}}{2\\left(3\\right)} $$"
   ]
  },
  {
   "cell_type": "markdown",
   "id": "a1161e47",
   "metadata": {},
   "source": [
    "$$ \\frac{-2 \\pm \\sqrt{4 + 12}}{6} = \\frac{-2 \\pm \\sqrt{16}}{6} = \\frac{-2 \\pm 4}{6} $$"
   ]
  },
  {
   "cell_type": "markdown",
   "id": "580ec8d0",
   "metadata": {},
   "source": [
    "$$ x = \\frac{-2 + 4}{6} = \\frac{2}{6} = \\boxed{\\frac{1}{3}} \\ \\ \\ x = \\frac{-2 - 4}{6} = \\frac{-6}{6} = \\boxed{-1} $$"
   ]
  },
  {
   "cell_type": "markdown",
   "id": "48aa3521",
   "metadata": {},
   "source": [
    "$$ \\boxed{x = \\frac{1}{3}, -1} $$"
   ]
  },
  {
   "cell_type": "markdown",
   "id": "4bd612a7",
   "metadata": {},
   "source": [
    "> 2. Use the quadratic formula to find the solutions of the quadratic equation."
   ]
  },
  {
   "cell_type": "markdown",
   "id": "bc881e4b",
   "metadata": {},
   "source": [
    "$$ 2x^2 - 7x - 3 = 0 $$"
   ]
  },
  {
   "cell_type": "markdown",
   "id": "bf5121b4",
   "metadata": {},
   "source": [
    "$$ \\frac{-(-7) \\pm \\sqrt{(-7)^2 - 4(2)(-3)}}{2(2)} $$"
   ]
  },
  {
   "cell_type": "markdown",
   "id": "3ea33544",
   "metadata": {},
   "source": [
    "$$ \\frac{7 \\pm \\sqrt{49 + 24}}{4} = \\frac{7 \\pm \\sqrt{73}}{4} $$"
   ]
  },
  {
   "cell_type": "markdown",
   "id": "91be5414",
   "metadata": {},
   "source": [
    "$$ \\boxed{x = \\frac{7 + \\sqrt{73}}{4}, \\frac{7 - \\sqrt{73}}{4}} $$"
   ]
  },
  {
   "cell_type": "markdown",
   "id": "59eb34ca",
   "metadata": {},
   "source": [
    "> 3. Find the roots of the equation using the quadratic formula."
   ]
  },
  {
   "cell_type": "markdown",
   "id": "9a0404d5",
   "metadata": {},
   "source": [
    "$$ 3x^2 + 10x + 5 = 0 $$"
   ]
  },
  {
   "cell_type": "markdown",
   "id": "a9de10dc",
   "metadata": {},
   "source": [
    "$$ \\frac{-(10) \\pm \\sqrt{(10)^2 - 4(3)(5)}}{2(3)} = \\frac{-10 \\pm \\sqrt{100 - 60}}{6} = \\frac{-10 \\pm \\sqrt{40}}{6} = \\frac{-10 \\pm \\sqrt{4}\\sqrt{10}}{6} = \\frac{-10 \\pm 2\\sqrt{10}}{6} $$"
   ]
  },
  {
   "cell_type": "markdown",
   "id": "30ed2eaa",
   "metadata": {},
   "source": [
    "$$ \\boxed{x = \\frac{-5 \\pm \\sqrt{10}}{3}} $$"
   ]
  },
  {
   "cell_type": "markdown",
   "id": "c3cbd5b8",
   "metadata": {},
   "source": []
  }
 ],
 "metadata": {
  "language_info": {
   "name": "python"
  }
 },
 "nbformat": 4,
 "nbformat_minor": 5
}
