{
 "cells": [
  {
   "cell_type": "markdown",
   "id": "e17f356c",
   "metadata": {},
   "source": [
    "## Quiz 26: Difference of Squares"
   ]
  },
  {
   "cell_type": "markdown",
   "id": "2cc4a0dd",
   "metadata": {},
   "source": [
    "> 1. Factor the binomial.\n",
    "\n",
    "\\begin{gather*}\n",
    "    x^2 - 4 \\\\ \\\\\n",
    "\\end{gather*}"
   ]
  },
  {
   "cell_type": "markdown",
   "id": "262a4c11",
   "metadata": {},
   "source": [
    "> 2. Factor the binomial.\n",
    "\n",
    "\\begin{gather*}\n",
    "    81x^2y^2 - 16t^6 \\\\ \\\\\n",
    "\\end{gather*}"
   ]
  },
  {
   "cell_type": "markdown",
   "id": "cb64dfcd",
   "metadata": {},
   "source": [
    "> 3. Factor the binomial.\n",
    "\n",
    "\\begin{gather*}\n",
    "    25r^4z^2 - 225a^4b^10 \\\\ \\\\\n",
    "\\end{gather*}"
   ]
  }
 ],
 "metadata": {
  "language_info": {
   "name": "python"
  }
 },
 "nbformat": 4,
 "nbformat_minor": 5
}
