{
 "cells": [
  {
   "cell_type": "markdown",
   "id": "a6975612",
   "metadata": {},
   "source": [
    "## Quiz 24: Greatest Common Factor"
   ]
  },
  {
   "cell_type": "markdown",
   "id": "65469f2f",
   "metadata": {},
   "source": [
    "> 1. Factor the polynomial.\n",
    "\n",
    "\\begin{gather*}\n",
    "    10x^2y^2 - 5xy^3 \\\\ \\\\\n",
    "\n",
    "    \\boxed{5xy^2(2x - y)}\n",
    "\\end{gather*}"
   ]
  },
  {
   "cell_type": "markdown",
   "id": "5f4aaf9f",
   "metadata": {},
   "source": [
    "> 2. Identify the greatest common factor of the polynomial.\n",
    "\n",
    "\\begin{gather*}\n",
    "    3s^4t^2v^2 - 6s^3tv + 15s^2t^3v^3 \\\\ \\\\\n",
    "\n",
    "    3s^2tv(s^2tv - 2s + 5t^2v^2) \\\\ \\\\\n",
    "\n",
    "    \\boxed{3s^2tv}\n",
    "\\end{gather*}"
   ]
  },
  {
   "cell_type": "markdown",
   "id": "fd5901e7",
   "metadata": {},
   "source": [
    "> 3. Factor the polynomial.\n",
    "\n",
    "\\begin{gather*}\n",
    "    6t^4x - 3t^3x - 45t^2x \\\\ \\\\\n",
    "\n",
    "    \\boxed{3t^2x(2t^2 - t - 15)}\n",
    "\\end{gather*}"
   ]
  }
 ],
 "metadata": {
  "language_info": {
   "name": "python"
  }
 },
 "nbformat": 4,
 "nbformat_minor": 5
}
