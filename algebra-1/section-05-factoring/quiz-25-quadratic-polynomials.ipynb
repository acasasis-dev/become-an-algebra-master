{
 "cells": [
  {
   "cell_type": "markdown",
   "id": "5f40c550",
   "metadata": {},
   "source": [
    "## Quiz 25: Quadratic Polynomials"
   ]
  },
  {
   "cell_type": "markdown",
   "id": "44fb9092",
   "metadata": {},
   "source": [
    "> 1. Factor the quadratic.\n",
    "\n",
    "\\begin{gather*}\n",
    "    x^2 - x - 42 \\\\ \\\\\n",
    "\\end{gather*}"
   ]
  },
  {
   "cell_type": "markdown",
   "id": "35599fec",
   "metadata": {},
   "source": [
    "> 2. Factor the quadratic\n",
    "\n",
    "\\begin{gather*}\n",
    "    x^2 - 4x - 21 \\\\ \\\\\n",
    "\\end{gather*}"
   ]
  },
  {
   "cell_type": "markdown",
   "id": "e5e27835",
   "metadata": {},
   "source": [
    "> 3. Factor the quadratic\n",
    "\n",
    "\\begin{gather*}\n",
    "    t^2 + t - 20 \\\\ \\\\\n",
    "\\end{gather*}"
   ]
  }
 ],
 "metadata": {
  "language_info": {
   "name": "python"
  }
 },
 "nbformat": 4,
 "nbformat_minor": 5
}
