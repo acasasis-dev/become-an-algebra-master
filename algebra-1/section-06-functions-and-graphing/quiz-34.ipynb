{
 "cells": [
  {
   "cell_type": "markdown",
   "id": "61455c00",
   "metadata": {},
   "source": [
    "## Quiz 34: Function Notation"
   ]
  },
  {
   "cell_type": "markdown",
   "id": "f3739e52",
   "metadata": {},
   "source": [
    "> 1. Find the value of `f(-11)`."
   ]
  },
  {
   "cell_type": "markdown",
   "id": "a753e3d9",
   "metadata": {},
   "source": [
    "$$ f(x) = 12 - 3x $$"
   ]
  },
  {
   "cell_type": "markdown",
   "id": "d3cc24f4",
   "metadata": {},
   "source": [
    "$$ f(-11) = 12 - 3(-11) $$"
   ]
  },
  {
   "cell_type": "markdown",
   "id": "41a65ade",
   "metadata": {},
   "source": [
    "$$ f(-11) = 12 - (-33) = 12 + 33 = \\boxed{45} $$"
   ]
  },
  {
   "cell_type": "markdown",
   "id": "99d8f0b4",
   "metadata": {},
   "source": [
    "> 2. Find the value of `g(-5)`."
   ]
  },
  {
   "cell_type": "markdown",
   "id": "63b3b607",
   "metadata": {},
   "source": [
    "$$ g(x) = 2x^2 + 3x - 32 $$"
   ]
  },
  {
   "cell_type": "markdown",
   "id": "7649d9c7",
   "metadata": {},
   "source": [
    "$$ g(-5) = 2(-5)^2 + 3(-5) - 32 $$"
   ]
  },
  {
   "cell_type": "markdown",
   "id": "fd129649",
   "metadata": {},
   "source": [
    "$$ g(-5) = 2(25) + (-15) - 32 = 50 - 15 - 32 = \\boxed{3} $$"
   ]
  },
  {
   "cell_type": "markdown",
   "id": "0b3eab5f",
   "metadata": {},
   "source": [
    "> 3. Find the value of `h(12)`."
   ]
  },
  {
   "cell_type": "markdown",
   "id": "7b866e79",
   "metadata": {},
   "source": [
    "$$ h(x) = x^2 - 9x + 3 $$"
   ]
  },
  {
   "cell_type": "markdown",
   "id": "6083358f",
   "metadata": {},
   "source": [
    "$$ h(12) = (12)^2 - 9(12) + 3 $$"
   ]
  },
  {
   "cell_type": "markdown",
   "id": "ee76a010",
   "metadata": {},
   "source": [
    "$$ h(12) = 144 - 108 + 3 = \\boxed{39} $$"
   ]
  }
 ],
 "metadata": {
  "language_info": {
   "name": "python"
  }
 },
 "nbformat": 4,
 "nbformat_minor": 5
}
