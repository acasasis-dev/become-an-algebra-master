{
 "cells": [
  {
   "cell_type": "markdown",
   "id": "60bdcfac",
   "metadata": {},
   "source": [
    "## Quiz 40: Even, Odd, or Neither"
   ]
  },
  {
   "cell_type": "markdown",
   "id": "2e1e77aa",
   "metadata": {},
   "source": [
    "> 1. Is the function even, odd, or neither?"
   ]
  },
  {
   "cell_type": "markdown",
   "id": "331fa6a4",
   "metadata": {},
   "source": [
    "$$ f(x) = 2x^3 - x^7 $$"
   ]
  },
  {
   "cell_type": "markdown",
   "id": "c545e71d",
   "metadata": {},
   "source": [
    "$$ f(-x) = 2(-x)^3 - (-x)^7 $$"
   ]
  },
  {
   "cell_type": "markdown",
   "id": "f312b224",
   "metadata": {},
   "source": [
    "$$ f(-x) = -2x^3 + x^7 \\ \\ \\boxed{\\text{ODD}} $$"
   ]
  },
  {
   "cell_type": "markdown",
   "id": "d9602f1b",
   "metadata": {},
   "source": [
    "> 2. Is the function even, odd, or neither?"
   ]
  },
  {
   "cell_type": "markdown",
   "id": "08838e7b",
   "metadata": {},
   "source": [
    "$$ f(x) = 5x^2 - 2x^3 $$"
   ]
  },
  {
   "cell_type": "markdown",
   "id": "22e4958c",
   "metadata": {},
   "source": [
    "$$ f(-x) = 5(-x)^2 - 2(-x)^3 $$"
   ]
  },
  {
   "cell_type": "markdown",
   "id": "16cb15d6",
   "metadata": {},
   "source": [
    "$$ f(-x) = 5x^2 + 2x^3 \\ \\ \\boxed{\\text{NEITHER}} $$"
   ]
  },
  {
   "cell_type": "markdown",
   "id": "7bf72c32",
   "metadata": {},
   "source": [
    "> 3. Is the function even, odd, or neither?"
   ]
  },
  {
   "cell_type": "markdown",
   "id": "ae9673a1",
   "metadata": {},
   "source": [
    "$$ f(x) = -x^4 - 6x^2 $$"
   ]
  },
  {
   "cell_type": "markdown",
   "id": "bf2cfc67",
   "metadata": {},
   "source": [
    "$$ f(-x) = -(-x)^4 - 6(-x)^2 $$"
   ]
  },
  {
   "cell_type": "markdown",
   "id": "1963c133",
   "metadata": {},
   "source": [
    "$$ f(-x) = -x^4 - 6x^2 \\ \\ \\boxed{\\text{EVEN}} $$"
   ]
  }
 ],
 "metadata": {
  "language_info": {
   "name": "python"
  }
 },
 "nbformat": 4,
 "nbformat_minor": 5
}
