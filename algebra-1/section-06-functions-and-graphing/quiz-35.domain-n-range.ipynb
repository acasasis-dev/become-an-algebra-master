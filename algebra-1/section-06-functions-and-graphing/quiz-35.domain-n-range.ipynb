{
 "cells": [
  {
   "cell_type": "markdown",
   "id": "4786207a",
   "metadata": {},
   "source": [
    "## Quiz 35: Domain and Range"
   ]
  },
  {
   "cell_type": "markdown",
   "id": "a2c39418",
   "metadata": {},
   "source": [
    "> 1. What are the domain and range of the function defined by the set of coordinate points?\n",
    "\n",
    "\\begin{gather*}\n",
    "    (3, 4), (4, 1), (5, 2), (7, 1) \\\\ \\\\\n",
    "\\end{gather*}"
   ]
  },
  {
   "cell_type": "markdown",
   "id": "f80eb103",
   "metadata": {},
   "source": [
    "> 2. What are the domain and range of the function?\n",
    "\n",
    "\\begin{gather*}\n",
    "    y = \\frac{2}{x} \\\\ \\\\\n",
    "\\end{gather*}"
   ]
  },
  {
   "cell_type": "markdown",
   "id": "45aa05d8",
   "metadata": {},
   "source": [
    "> 3. What is the domain of the function?\n",
    "\n",
    "\\begin{gather*}\n",
    "    f(x) = \\sqrt{4x^3} \\\\ \\\\\n",
    "\\end{gather*}"
   ]
  }
 ],
 "metadata": {
  "language_info": {
   "name": "python"
  }
 },
 "nbformat": 4,
 "nbformat_minor": 5
}
