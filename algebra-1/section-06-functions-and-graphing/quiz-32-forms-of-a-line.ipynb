{
 "cells": [
  {
   "cell_type": "markdown",
   "id": "7d5bf5c1",
   "metadata": {},
   "source": [
    "## Quiz 32: Point-slope and slope-intercept forms of a line"
   ]
  },
  {
   "cell_type": "markdown",
   "id": "7da65254",
   "metadata": {},
   "source": [
    "> 1. Find the equation of the line"
   ]
  },
  {
   "cell_type": "markdown",
   "id": "3de8ea30",
   "metadata": {},
   "source": [
    "$$ m = -\\frac{2}{3} \\ \\ \\ (-7,2) $$"
   ]
  },
  {
   "cell_type": "markdown",
   "id": "a7dd4776",
   "metadata": {},
   "source": [
    "$$ \\boxed{y - 2 = -\\frac{2}{3}(x + 7)} $$"
   ]
  },
  {
   "cell_type": "markdown",
   "id": "926a04e5",
   "metadata": {},
   "source": [
    "> 2. Find the equation, in point-slope form, of the line that passes through **(2,3)** and **(4,11)**. Use **(2,3)** for **(x_1, y_1)**."
   ]
  },
  {
   "cell_type": "markdown",
   "id": "75b0146d",
   "metadata": {},
   "source": [
    "$$ m = \\frac{11 - 3}{4 - 2} = \\frac{8}{2} = \\boxed{4} $$"
   ]
  },
  {
   "cell_type": "markdown",
   "id": "4616b282",
   "metadata": {},
   "source": [
    "$$ \\boxed{y - 3 = 4(x - 2)} $$"
   ]
  },
  {
   "cell_type": "markdown",
   "id": "453c6ed9",
   "metadata": {},
   "source": [
    "> 3. Find the slope-intercept form of the line that passes through **(0,-2)** and has a slope of **1/2**."
   ]
  },
  {
   "cell_type": "markdown",
   "id": "176ea9d4",
   "metadata": {},
   "source": [
    "$$ b = -2 $$"
   ]
  },
  {
   "cell_type": "markdown",
   "id": "4134e935",
   "metadata": {},
   "source": [
    "$$ \\boxed{y = \\frac{1}{2}x - 2} $$"
   ]
  },
  {
   "cell_type": "markdown",
   "id": "696abe3b",
   "metadata": {},
   "source": []
  }
 ],
 "metadata": {
  "language_info": {
   "name": "python"
  }
 },
 "nbformat": 4,
 "nbformat_minor": 5
}
