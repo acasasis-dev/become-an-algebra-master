{
 "cells": [
  {
   "cell_type": "markdown",
   "id": "f97868dd",
   "metadata": {},
   "source": [
    "## Quiz 39: Product of Functions"
   ]
  },
  {
   "cell_type": "markdown",
   "id": "3fa84942",
   "metadata": {},
   "source": [
    "> 1. Find **(gh)(-3)**."
   ]
  },
  {
   "cell_type": "markdown",
   "id": "28fa9cf7",
   "metadata": {},
   "source": [
    "$$ g(x) = x - 4, \\ \\ \\ h(x) = x + 1 $$"
   ]
  },
  {
   "cell_type": "markdown",
   "id": "710ef536",
   "metadata": {},
   "source": [
    "$$ (gh)(-3) = ((-3) - 4)((-3) + 1) $$"
   ]
  },
  {
   "cell_type": "markdown",
   "id": "73d12cf9",
   "metadata": {},
   "source": [
    "$$ (gh)(-3) = (-7)(-2) = \\boxed{14} $$"
   ]
  },
  {
   "cell_type": "markdown",
   "id": "d00cb5b0",
   "metadata": {},
   "source": [
    "> 2. Find **(fg)(x)**."
   ]
  },
  {
   "cell_type": "markdown",
   "id": "4636135b",
   "metadata": {},
   "source": [
    "$$ f(x) = x + 7, \\ \\ \\ g(x) = x - 5 $$"
   ]
  },
  {
   "cell_type": "markdown",
   "id": "9b7f1cac",
   "metadata": {},
   "source": [
    "$$ (fg)(x) = (x + 7)(x - 5) $$"
   ]
  },
  {
   "cell_type": "markdown",
   "id": "9ac18542",
   "metadata": {},
   "source": [
    "$$ (fg)(x) = \\boxed{x^2 + 2x - 35} $$"
   ]
  },
  {
   "cell_type": "markdown",
   "id": "a4f68e57",
   "metadata": {},
   "source": [
    "> 3. Find **(fg)(2)**."
   ]
  },
  {
   "cell_type": "markdown",
   "id": "a4eca169",
   "metadata": {},
   "source": [
    "$$ f(x) = x^2 - 6, \\ \\ \\ g(x) = 3x - 5 $$"
   ]
  },
  {
   "cell_type": "markdown",
   "id": "9f59b1eb",
   "metadata": {},
   "source": [
    "$$ (fg)(2) = ((2)^2 - 6)(3(2) - 5) $$"
   ]
  },
  {
   "cell_type": "markdown",
   "id": "e0a2afba",
   "metadata": {},
   "source": [
    "$$ (fg)(2) = (4 - 6)(6 - 5) = (-2)(1) = \\boxed{-2} $$"
   ]
  }
 ],
 "metadata": {
  "language_info": {
   "name": "python"
  }
 },
 "nbformat": 4,
 "nbformat_minor": 5
}
