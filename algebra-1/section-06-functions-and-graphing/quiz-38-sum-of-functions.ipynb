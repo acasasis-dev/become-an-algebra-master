{
 "cells": [
  {
   "cell_type": "markdown",
   "id": "3fae0d5a",
   "metadata": {},
   "source": [
    "## Quiz 38: Sum of Functions"
   ]
  },
  {
   "cell_type": "markdown",
   "id": "401eee0a",
   "metadata": {},
   "source": [
    "> 1. Find **(g + h)(4)**."
   ]
  },
  {
   "cell_type": "markdown",
   "id": "6fcd99a7",
   "metadata": {},
   "source": [
    "$$ g(x) = x^2 - 3x + 1, \\ \\ \\ h(x) = x + 3 $$"
   ]
  },
  {
   "cell_type": "markdown",
   "id": "63c8b441",
   "metadata": {},
   "source": [
    "$$ (g + h)(4) = (4)^2 - 3(4) + 1 + (4) + 3 $$"
   ]
  },
  {
   "cell_type": "markdown",
   "id": "0a46f93d",
   "metadata": {},
   "source": [
    "$$ (g+h)(4) = 16 - 12 + 1 + 4 + 3 = \\boxed{12} $$"
   ]
  },
  {
   "cell_type": "markdown",
   "id": "add9c536",
   "metadata": {},
   "source": [
    "> 2. Find **(f + g)(4)**."
   ]
  },
  {
   "cell_type": "markdown",
   "id": "8c54f3cc",
   "metadata": {},
   "source": [
    "$$ f(x) = x^2 + 4x, \\ \\ \\ g(x) = -x + 2 $$"
   ]
  },
  {
   "cell_type": "markdown",
   "id": "078b1306",
   "metadata": {},
   "source": [
    "$$ (f + g)(4) = (4)^2 + 4(4) -(4) + 2 $$"
   ]
  },
  {
   "cell_type": "markdown",
   "id": "dc87ea20",
   "metadata": {},
   "source": [
    "$$ (f + g)(4) = 16 + 16 - 4 + 2 = \\boxed{30} $$"
   ]
  },
  {
   "cell_type": "markdown",
   "id": "9e9b735b",
   "metadata": {},
   "source": [
    "> 3. Find **(h + j)(3)**."
   ]
  },
  {
   "cell_type": "markdown",
   "id": "bc566af6",
   "metadata": {},
   "source": [
    "$$ h(x) = (x - 3)^2, \\ \\ \\ j(x) = \\sqrt{x^2 + 16} $$"
   ]
  },
  {
   "cell_type": "markdown",
   "id": "ae426294",
   "metadata": {},
   "source": [
    "$$ (h + j)(3) = ((3) - 3)^2 + \\sqrt{(3)^2 + 16} $$"
   ]
  },
  {
   "cell_type": "markdown",
   "id": "e19cd67f",
   "metadata": {},
   "source": [
    "$$ (h + j)(3) = 0 + \\sqrt{25} = \\boxed{5} $$"
   ]
  }
 ],
 "metadata": {
  "language_info": {
   "name": "python"
  }
 },
 "nbformat": 4,
 "nbformat_minor": 5
}
