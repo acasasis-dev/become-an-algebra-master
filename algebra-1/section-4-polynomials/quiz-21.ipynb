{
 "cells": [
  {
   "cell_type": "markdown",
   "id": "71ba311e",
   "metadata": {},
   "source": [
    "Quiz 21: Dividing Polynomials\n",
    "---"
   ]
  },
  {
   "cell_type": "markdown",
   "id": "812b1cc9",
   "metadata": {},
   "source": [
    "> 1. Simplify the expression"
   ]
  },
  {
   "cell_type": "markdown",
   "id": "d5dc5f6c",
   "metadata": {},
   "source": [
    "$$ \\left( x^2 + x + 8 \\right)\\div\\left( x - 1 \\right) $$"
   ]
  },
  {
   "cell_type": "markdown",
   "id": "052c10c5",
   "metadata": {},
   "source": [
    "$$ \\frac{x^2 + x + 8}{x - 1} $$ "
   ]
  },
  {
   "cell_type": "markdown",
   "id": "3ccf4d6b",
   "metadata": {},
   "source": [
    "$$ \\frac{x^2 + x}{x - 1} \\ \\left \\{ \\left( x^2 + x \\right) - \\boxed{x}\\left( x - 1 \\right) = \\left( x^2 + x \\right) - \\left( x^2 - x \\right) = \\boxed{\\boxed{x} \\ r. \\ 2x} \\ \\right \\}"
   ]
  },
  {
   "cell_type": "markdown",
   "id": "646c4295",
   "metadata": {},
   "source": [
    "$$ \\frac{2x + 8}{x - 1} \\ \\left \\{ \\left( 2x + 8 \\right) - \\boxed{2}\\left( x - 1 \\right) = \\left( 2x + 8 \\right) - \\left( 2x - 2 \\right) = \\boxed{\\boxed{2} \\ r. \\ 10 } \\ \\right \\} $$ "
   ]
  },
  {
   "cell_type": "markdown",
   "id": "d6ebee59",
   "metadata": {},
   "source": [
    "$$ \\boxed{x + 2 + \\frac{10}{x - 1}} $$"
   ]
  },
  {
   "cell_type": "markdown",
   "id": "2ad9ac3b",
   "metadata": {},
   "source": [
    "> 2. Simplify the expression"
   ]
  },
  {
   "cell_type": "markdown",
   "id": "59f9f053",
   "metadata": {},
   "source": [
    "$$ \\left(x^3 + 2x^2 + 12 \\right) \\div \\left(x - 1 \\right) $$"
   ]
  },
  {
   "cell_type": "markdown",
   "id": "d11cf11b",
   "metadata": {},
   "source": [
    "$$ \\frac{x^3 + 2x^2 + 12}{x - 1} $$"
   ]
  },
  {
   "cell_type": "markdown",
   "id": "2870f434",
   "metadata": {},
   "source": [
    "$$ \\frac{x^3 + 2x^2}{x - 1} \\left \\{ \\left( x^3 + 2x^2 \\right) - \\boxed{x^2}\\left( x - 1 \\right) = \\left( x^3 + 2x^2 \\right) - \\left( x^3 - x^2 \\right) = \\boxed{\\boxed{x^2} \\ r. \\ 3x^2} \\ \\right \\} $$"
   ]
  },
  {
   "cell_type": "markdown",
   "id": "120f9fde",
   "metadata": {},
   "source": [
    "$$ \\frac{3x^2 + 12}{x - 1} \\ \\left \\{ \\left( 3x^2 + 12 \\right) - \\boxed{3x}\\left( x - 1 \\right) = \\left( 3x^2 + 12 \\right) - \\left( 3x^2 - 3x \\right) = \\boxed{\\boxed{3x} \\ r. \\ 3x + 12} \\ \\right \\} $$"
   ]
  },
  {
   "cell_type": "markdown",
   "id": "f30faae7",
   "metadata": {},
   "source": [
    "$$ \\frac{3x + 12}{x - 1} \\ \\left \\{ \\left( 3x + 12 \\right) - \\boxed{3}\\left( x - 1 \\right) = \\left( 3x + 12 \\right) - \\left( 3x - 3 \\right) = \\boxed{\\boxed{3} \\ r. \\ 15} \\ \\right \\} $$"
   ]
  },
  {
   "cell_type": "markdown",
   "id": "57bb85e5",
   "metadata": {},
   "source": [
    "$$ \\boxed{x^2 + 3x + 3 + \\frac{15}{x - 1}} $$"
   ]
  },
  {
   "cell_type": "markdown",
   "id": "daa9455d",
   "metadata": {},
   "source": [
    "> 3. Simplify the expression"
   ]
  },
  {
   "cell_type": "markdown",
   "id": "0055e66e",
   "metadata": {},
   "source": [
    "$$ \\frac{6x^4 - 17x^3 + 13x^2 - 24x + 10}{2x - 5} $$"
   ]
  },
  {
   "cell_type": "markdown",
   "id": "9fa8c406",
   "metadata": {},
   "source": [
    "$$ \n",
    "\t\\frac{6x^4 - 17x^3}{2x - 5} \n",
    "\t\\ \\left \\{ \n",
    "\t\\left( 6x^4 - 17x^3 \\right) - \\boxed{3x^3}\\left( 2x - 5 \\right) = \n",
    "\t\\left( 6x^4 - 17x^3 \\right) - \\left( 6x^4 - 15x^3 \\right) =\n",
    "\t\\boxed{\\boxed{3x^3} \\ r. \\ -2x^3}\n",
    "\t\\ \\right \\} \n",
    "$$"
   ]
  },
  {
   "cell_type": "markdown",
   "id": "7a17abc6",
   "metadata": {},
   "source": [
    "$$\n",
    "\t\\frac{-2x^3 + 13x^2}{2x - 5}\n",
    "\t\\ \\left \\{\n",
    "\t\t\\left( -2x^3 + 13^2 \\right) - \\boxed{-x^2}\\left( 2x - 5 \\right) =\n",
    "\t\t\\left( -2x^3 + 13^2 \\right) - \\left( -2x^3 + 5x^2 \\right) =\n",
    "\t\t\\boxed{\\boxed{-x^2} \\ r. \\ 8x^2}\n",
    "\t\\ \\right \\}\n",
    "$$"
   ]
  },
  {
   "cell_type": "markdown",
   "id": "62266d17",
   "metadata": {},
   "source": [
    "$$\n",
    "\t\\frac{8x^2 - 24x}{2x - 5}\n",
    "\t\\ \\left \\{\n",
    "\t\t\\left( 8x^2 - 24x \\right) - \\boxed{4x}\\left( 2x - 5 \\right) = \n",
    "\t\t\\left( 8x^2 - 24x \\right) - \\left( 8x^2 - 20x \\right) = \n",
    "\t\t\\boxed{\\boxed{4x} \\ r. \\ -4x}\n",
    "\t\\ \\right \\}\n",
    "$$"
   ]
  },
  {
   "cell_type": "markdown",
   "id": "4f3a05fa",
   "metadata": {},
   "source": [
    "$$\n",
    "\t\\frac{-4x + 10}{2x - 5}\n",
    "\t\\ \\left \\{\n",
    "\t\t\\left( -4x + 10 \\right) - \\boxed{-2}\\left( 2x - 5 \\right) = \n",
    "\t\t\\left( -4x + 10 \\right) - \\left( -4x + 10\\right) =\n",
    "\t\t\\boxed{-2}\n",
    "\t\\ \\right \\}\n",
    "$$"
   ]
  },
  {
   "cell_type": "markdown",
   "id": "0f4e0451",
   "metadata": {},
   "source": [
    "$$ \\boxed{3x^3 - x^2 + 4x - 2} $$"
   ]
  }
 ],
 "metadata": {
  "language_info": {
   "name": "python"
  }
 },
 "nbformat": 4,
 "nbformat_minor": 5
}
