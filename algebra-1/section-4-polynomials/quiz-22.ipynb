{
 "cells": [
  {
   "cell_type": "markdown",
   "id": "f22f9ef7",
   "metadata": {},
   "source": [
    "Quiz 22: Multiplying MultiVariable Polynomials\n",
    "---"
   ]
  },
  {
   "cell_type": "markdown",
   "id": "9e8a833e",
   "metadata": {},
   "source": [
    "> 1. Simplify the expression"
   ]
  },
  {
   "cell_type": "markdown",
   "id": "889e7306",
   "metadata": {},
   "source": [
    "$$ \\left( x + 3y \\right)\\left(4x^2 + 2xy - 1 \\right) $$"
   ]
  },
  {
   "cell_type": "markdown",
   "id": "d283a7a8",
   "metadata": {},
   "source": [
    "$$ 4x^3 + 2x^2y - x + 12x^2y + 6xy^2 - 3y $$"
   ]
  },
  {
   "cell_type": "markdown",
   "id": "9e2deb5c",
   "metadata": {},
   "source": [
    "$$ \\boxed{4x^3 + 14x^2y + 6xy^2 - x - 3y} $$"
   ]
  },
  {
   "cell_type": "markdown",
   "id": "4d6985de",
   "metadata": {},
   "source": [
    "> 2. Simplify the expression"
   ]
  },
  {
   "cell_type": "markdown",
   "id": "320d4db0",
   "metadata": {},
   "source": [
    "$$ \\left( 3x + 3y \\right)\\left( x + y \\right)+\\left( x + y \\right)\\left(2x - 2y \\right) $$"
   ]
  },
  {
   "cell_type": "markdown",
   "id": "367bf9af",
   "metadata": {},
   "source": [
    "$$ 3x^2 + 3xy + 3xy + 3y^2 + 2x^2 - 2xy + 2xy - 2y^2 $$"
   ]
  },
  {
   "cell_type": "markdown",
   "id": "22d663bb",
   "metadata": {},
   "source": [
    "$$ \\boxed{5x^2 + y^2 + 6xy} $$"
   ]
  },
  {
   "cell_type": "markdown",
   "id": "2d430409",
   "metadata": {},
   "source": [
    "> 3. Simplify the expression"
   ]
  },
  {
   "cell_type": "markdown",
   "id": "7f61280e",
   "metadata": {},
   "source": [
    "$$ \\left(a + 2b - c\\right)\\left(a - 2b + c\\right) $$"
   ]
  },
  {
   "cell_type": "markdown",
   "id": "ef538bba",
   "metadata": {},
   "source": [
    "$$ a^2 - 2ab + ac + 2ab - 4b^2 + 2bc - ac + 2bc - c^2 $$"
   ]
  },
  {
   "cell_type": "markdown",
   "id": "089d8fd1",
   "metadata": {},
   "source": [
    "$$ \\boxed{a^2 - 4b^2 - c^2 + 4bc} $$"
   ]
  },
  {
   "cell_type": "markdown",
   "id": "da1e9ae2",
   "metadata": {},
   "source": []
  }
 ],
 "metadata": {
  "language_info": {
   "name": "python"
  }
 },
 "nbformat": 4,
 "nbformat_minor": 5
}
