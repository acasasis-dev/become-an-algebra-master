{
 "cells": [
  {
   "cell_type": "markdown",
   "id": "a4a5f087",
   "metadata": {},
   "source": [
    "Quiz 20: Multiplying Polynomials\n",
    "---"
   ]
  },
  {
   "cell_type": "markdown",
   "id": "3b1f00fd",
   "metadata": {},
   "source": [
    "> 1. Expand the expression"
   ]
  },
  {
   "cell_type": "markdown",
   "id": "0bf6a669",
   "metadata": {},
   "source": [
    "$$ \\left( x + 3 \\right)\\left( x + 2 \\right) $$"
   ]
  },
  {
   "cell_type": "markdown",
   "id": "61de2a3f",
   "metadata": {},
   "source": [
    "$$ x^2 + 5x + 6 $$"
   ]
  },
  {
   "cell_type": "markdown",
   "id": "d4764680",
   "metadata": {},
   "source": [
    "> 2. Expand the expression"
   ]
  },
  {
   "cell_type": "markdown",
   "id": "7ea7871f",
   "metadata": {},
   "source": [
    "$$ 2x\\left( x - 1 \\right)\\left( x + 3 \\right)\\left( x - 6 \\right) $$"
   ]
  },
  {
   "cell_type": "markdown",
   "id": "8fe80c09",
   "metadata": {},
   "source": [
    "$$ \\left(2x^2 - 2x \\right)\\left( x^2 - 3x - 18 \\right) $$"
   ]
  },
  {
   "cell_type": "markdown",
   "id": "c08a8e8c",
   "metadata": {},
   "source": [
    "$$ 2x^4 - 6x^3 - 36x^2 - 2x^3 + 6x^2 + 36x $$"
   ]
  },
  {
   "cell_type": "markdown",
   "id": "b84a6b4f",
   "metadata": {},
   "source": [
    "$$ 2x^4 - 8x^3 - 30x^2 + 36x $$"
   ]
  },
  {
   "cell_type": "markdown",
   "id": "1cbc571e",
   "metadata": {},
   "source": [
    "> 3. Expand the expression"
   ]
  },
  {
   "cell_type": "markdown",
   "id": "c1c1b4ef",
   "metadata": {},
   "source": [
    "$$ \\left( r - 4 \\right)\\left( r + 3 \\right)\\left( 2r + 5 \\right) $$"
   ]
  },
  {
   "cell_type": "markdown",
   "id": "35c60248",
   "metadata": {},
   "source": [
    "$$ \\left(r^2 - r - 12 \\right)\\left( 2r + 5 \\right) $$"
   ]
  },
  {
   "cell_type": "markdown",
   "id": "79bf19a2",
   "metadata": {},
   "source": [
    "$$ 2r^3 + 5r^2 - 2r^2 - 5r - 24r - 60 $$"
   ]
  },
  {
   "cell_type": "markdown",
   "id": "c8a99f42",
   "metadata": {},
   "source": [
    "$$ 2r^3 + 3r^2 - 29r - 60 $$"
   ]
  }
 ],
 "metadata": {
  "language_info": {
   "name": "python"
  }
 },
 "nbformat": 4,
 "nbformat_minor": 5
}
