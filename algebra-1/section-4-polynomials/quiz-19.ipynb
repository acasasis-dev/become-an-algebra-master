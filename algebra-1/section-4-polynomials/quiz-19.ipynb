{
 "cells": [
  {
   "cell_type": "markdown",
   "id": "7f3323be",
   "metadata": {},
   "source": [
    "Quiz 19: Adding and Subtracting Polynomials\n",
    "---"
   ]
  },
  {
   "cell_type": "markdown",
   "id": "43f65985",
   "metadata": {},
   "source": [
    "> 1. Simplify the expression"
   ]
  },
  {
   "cell_type": "markdown",
   "id": "5063ed76",
   "metadata": {},
   "source": [
    "$$ \\left( 9x^2 - 2x \\right) - \\left( 5x^2 - 8x - 3 \\right)"
   ]
  },
  {
   "cell_type": "markdown",
   "id": "75de22c0",
   "metadata": {},
   "source": [
    "$$ 9x^2 - 2x - 5x^2 + 8x + 3"
   ]
  },
  {
   "cell_type": "markdown",
   "id": "b85233a9",
   "metadata": {},
   "source": [
    "$$ 4x^2 + 6x + 3"
   ]
  },
  {
   "cell_type": "markdown",
   "id": "4f1f2014",
   "metadata": {},
   "source": [
    "> 2. Simplify the expression"
   ]
  },
  {
   "cell_type": "markdown",
   "id": "820fb39b",
   "metadata": {},
   "source": [
    "$$ \\left( 9x^3 + 4x^2 - 10x - 3 \\right) + \\left( -2x^3 + 8x - 7x^2 \\right)"
   ]
  },
  {
   "cell_type": "markdown",
   "id": "dbf282c9",
   "metadata": {},
   "source": [
    "$$ 9x^3 + 4x^2 - 10x - 3 - 2x^3 + 8x - 7x^2"
   ]
  },
  {
   "cell_type": "markdown",
   "id": "483ccb2f",
   "metadata": {},
   "source": [
    "$$ 7x^3 - 3x^2 - 2x - 3"
   ]
  },
  {
   "cell_type": "markdown",
   "id": "250265f1",
   "metadata": {},
   "source": [
    "> 3. Simplify the expression"
   ]
  },
  {
   "cell_type": "markdown",
   "id": "f229d8db",
   "metadata": {},
   "source": [
    "$$ \\left( 4t^5 + t^3 - 4 + 3t^3 - 7t^2 \\right) - \\left( 5t^4 + 2t^5 - 2t^3 - 3t - 5 \\right)"
   ]
  },
  {
   "cell_type": "markdown",
   "id": "9643ab45",
   "metadata": {},
   "source": [
    "$$ 4t^5 + t^3 - 4 + 3t^3 - 7t^2 - 5t^4 - 2t^5 + 2t^3 + 3t + 5"
   ]
  },
  {
   "cell_type": "markdown",
   "id": "77f1d4bf",
   "metadata": {},
   "source": [
    "$$ 2t^5 - 5t^4 + 6t^3 - 7t^2 + 3t + 5"
   ]
  }
 ],
 "metadata": {
  "language_info": {
   "name": "python"
  }
 },
 "nbformat": 4,
 "nbformat_minor": 5
}
