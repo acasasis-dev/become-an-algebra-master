{
 "cells": [
  {
   "cell_type": "markdown",
   "id": "51db30b8",
   "metadata": {},
   "source": [
    "## Quiz 48: Absolute Value Inequalities"
   ]
  },
  {
   "cell_type": "markdown",
   "id": "b51b0076",
   "metadata": {},
   "source": [
    "> 1. Graph the inequality"
   ]
  },
  {
   "cell_type": "markdown",
   "id": "4781f7ab",
   "metadata": {},
   "source": [
    "$$ 2|x - 1| + 3 > 9 $$"
   ]
  },
  {
   "cell_type": "markdown",
   "id": "a4d3c9df",
   "metadata": {},
   "source": [
    "$$ 2|x - 1| > 6 $$"
   ]
  },
  {
   "cell_type": "markdown",
   "id": "4f441abc",
   "metadata": {},
   "source": [
    "$$ \\frac{2|x - 1|}{2} > \\frac{6}{2} $$"
   ]
  },
  {
   "cell_type": "markdown",
   "id": "714b5363",
   "metadata": {},
   "source": [
    "$$ |x - 1| > 3 $$"
   ]
  },
  {
   "cell_type": "markdown",
   "id": "179939e1",
   "metadata": {},
   "source": [
    "$$ x - 1 < -3 \\ \\ \\& \\ \\ x - 1 > 3 $$"
   ]
  },
  {
   "cell_type": "markdown",
   "id": "bd0cd1da",
   "metadata": {},
   "source": [
    "$$ x - 1 < -3 $$"
   ]
  },
  {
   "cell_type": "markdown",
   "id": "a9db90e0",
   "metadata": {},
   "source": [
    "$$ \\boxed{x < - 2} $$"
   ]
  },
  {
   "cell_type": "markdown",
   "id": "95796faf",
   "metadata": {},
   "source": [
    "$$ x - 1 > 3 $$"
   ]
  },
  {
   "cell_type": "markdown",
   "id": "12f8af38",
   "metadata": {},
   "source": [
    "$$ \\boxed{x > 4} $$"
   ]
  },
  {
   "cell_type": "markdown",
   "id": "a14d660e",
   "metadata": {},
   "source": [
    "> 2. Graph the inequality"
   ]
  },
  {
   "cell_type": "markdown",
   "id": "f4c42c31",
   "metadata": {},
   "source": [
    "$$ 3(|2x + 1| - 2) + 2 < -1 $$"
   ]
  },
  {
   "cell_type": "markdown",
   "id": "c0233f2b",
   "metadata": {},
   "source": [
    "$$ 3|2x + 1| - 6 + 2 < -1 $$"
   ]
  },
  {
   "cell_type": "markdown",
   "id": "03d228ee",
   "metadata": {},
   "source": [
    "$$ 3|2x + 1| - 4 < -1 $$"
   ]
  },
  {
   "cell_type": "markdown",
   "id": "93edddd9",
   "metadata": {},
   "source": [
    "$$ 3|2x + 1| < 3 $$"
   ]
  },
  {
   "cell_type": "markdown",
   "id": "0cbfe1fb",
   "metadata": {},
   "source": [
    "$$ |2x + 1| < 1 $$"
   ]
  },
  {
   "cell_type": "markdown",
   "id": "d26dd47a",
   "metadata": {},
   "source": [
    "$$ -1 < 2x + 1 < 1 $$"
   ]
  },
  {
   "cell_type": "markdown",
   "id": "db3c5077",
   "metadata": {},
   "source": [
    "$$ -2 < 2x < 0 $$"
   ]
  },
  {
   "cell_type": "markdown",
   "id": "41a0355c",
   "metadata": {},
   "source": [
    "$$ \\boxed{-1} < x < \\boxed{0} $$"
   ]
  },
  {
   "cell_type": "markdown",
   "id": "9d6a3549",
   "metadata": {},
   "source": [
    "> 3. Grapth the inequality."
   ]
  },
  {
   "cell_type": "markdown",
   "id": "9ce0ec81",
   "metadata": {},
   "source": [
    "$$ 2 - |3x - 1| \\le 3 $$"
   ]
  },
  {
   "cell_type": "markdown",
   "id": "2839dabe",
   "metadata": {},
   "source": [
    "$$ -|3x - 1| \\le 1 $$"
   ]
  },
  {
   "cell_type": "markdown",
   "id": "7557760b",
   "metadata": {},
   "source": [
    "$$ |3x - 1| \\ge -1 \\ \\ \\ \\boxed{\\text{ALL REAL NUMBERS ARE SOLUTION}}$$"
   ]
  },
  {
   "cell_type": "markdown",
   "id": "d3cef3e1",
   "metadata": {},
   "source": []
  }
 ],
 "metadata": {
  "language_info": {
   "name": "python"
  }
 },
 "nbformat": 4,
 "nbformat_minor": 5
}
