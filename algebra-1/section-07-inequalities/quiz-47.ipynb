{
 "cells": [
  {
   "cell_type": "markdown",
   "id": "a555d44f",
   "metadata": {},
   "source": [
    "## Quiz 47: Absolute Value Equations"
   ]
  },
  {
   "cell_type": "markdown",
   "id": "29a8f631",
   "metadata": {},
   "source": [
    "> 1. Solve the equation"
   ]
  },
  {
   "cell_type": "markdown",
   "id": "cbc8efe1",
   "metadata": {},
   "source": [
    "$$ |3x - 2| = 5 $$"
   ]
  },
  {
   "cell_type": "markdown",
   "id": "5c31544b",
   "metadata": {},
   "source": [
    "$$ 3x - 2 = 5, \\ \\ \\ 3x - 2 = -5 $$"
   ]
  },
  {
   "cell_type": "markdown",
   "id": "4b226a22",
   "metadata": {},
   "source": [
    "$$ 3x - 2 = 5 $$"
   ]
  },
  {
   "cell_type": "markdown",
   "id": "833e4de2",
   "metadata": {},
   "source": [
    "$$ 3x = 7 $$"
   ]
  },
  {
   "cell_type": "markdown",
   "id": "57894de8",
   "metadata": {},
   "source": [
    "$$ \\boxed{x = \\frac{7}{3}} $$"
   ]
  },
  {
   "cell_type": "markdown",
   "id": "9adde921",
   "metadata": {},
   "source": [
    "$$ 3x - 2 = -5 $$"
   ]
  },
  {
   "cell_type": "markdown",
   "id": "56191f43",
   "metadata": {},
   "source": [
    "$$ 3x = -3 $$"
   ]
  },
  {
   "cell_type": "markdown",
   "id": "8728f4ce",
   "metadata": {},
   "source": [
    "$$ \\boxed{x = -1} $$"
   ]
  },
  {
   "cell_type": "markdown",
   "id": "20fab93f",
   "metadata": {},
   "source": [
    "> 2. Solve the equation."
   ]
  },
  {
   "cell_type": "markdown",
   "id": "a239023f",
   "metadata": {},
   "source": [
    "$$ |2x| = x + 6 $$"
   ]
  },
  {
   "cell_type": "markdown",
   "id": "f7d82f0d",
   "metadata": {},
   "source": [
    "$$ 2x = x + 6, \\ \\ \\ 2x = -(x + 6) $$"
   ]
  },
  {
   "cell_type": "markdown",
   "id": "de95736f",
   "metadata": {},
   "source": [
    "$$ 2x = x + 6 $$"
   ]
  },
  {
   "cell_type": "markdown",
   "id": "cecbd203",
   "metadata": {},
   "source": [
    "$$ \\boxed{x = 6} $$"
   ]
  },
  {
   "cell_type": "markdown",
   "id": "160c2c59",
   "metadata": {},
   "source": [
    "$$ 2x = -x - 6 $$"
   ]
  },
  {
   "cell_type": "markdown",
   "id": "7a882d2b",
   "metadata": {},
   "source": [
    "$$ 3x = -6 $$"
   ]
  },
  {
   "cell_type": "markdown",
   "id": "9584ac91",
   "metadata": {},
   "source": [
    "$$ \\boxed{x = -2} $$"
   ]
  },
  {
   "cell_type": "markdown",
   "id": "1a8b4b93",
   "metadata": {},
   "source": [
    "> 3. How many solutions does the equation have?"
   ]
  },
  {
   "cell_type": "markdown",
   "id": "849cd5d6",
   "metadata": {},
   "source": [
    "$$ |2x - 12| = 2x $$"
   ]
  },
  {
   "cell_type": "markdown",
   "id": "f4e925cd",
   "metadata": {},
   "source": [
    "$$ 2x - 12 = 2x, \\ \\ \\ 2x - 12 = -2x $$"
   ]
  },
  {
   "cell_type": "markdown",
   "id": "cbbfc6f9",
   "metadata": {},
   "source": [
    "$$ 2x - 12 = 2x $$"
   ]
  },
  {
   "cell_type": "markdown",
   "id": "d782a035",
   "metadata": {},
   "source": [
    "$$ 2x - 2x = 12 $$"
   ]
  },
  {
   "cell_type": "markdown",
   "id": "a35aaa9a",
   "metadata": {},
   "source": [
    "$$ \\boxed{0 = 12} $$"
   ]
  },
  {
   "cell_type": "markdown",
   "id": "72a0c50c",
   "metadata": {},
   "source": [
    "$$ 2x - 12 = -2x $$"
   ]
  },
  {
   "cell_type": "markdown",
   "id": "1ffc6a40",
   "metadata": {},
   "source": [
    "$$ 2x + 2x = 12 $$"
   ]
  },
  {
   "cell_type": "markdown",
   "id": "93fe247d",
   "metadata": {},
   "source": [
    "$$ 4x = 12 $$"
   ]
  },
  {
   "cell_type": "markdown",
   "id": "cb3ac2d5",
   "metadata": {},
   "source": [
    "$$ \\boxed{x = 3, \\ \\ \\ \\text{ONLY ONE}} $$"
   ]
  },
  {
   "cell_type": "markdown",
   "id": "db3ff7bc",
   "metadata": {},
   "source": []
  }
 ],
 "metadata": {
  "language_info": {
   "name": "python"
  }
 },
 "nbformat": 4,
 "nbformat_minor": 5
}
