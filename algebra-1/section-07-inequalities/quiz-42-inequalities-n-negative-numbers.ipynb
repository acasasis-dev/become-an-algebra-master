{
 "cells": [
  {
   "cell_type": "markdown",
   "id": "451b69d1",
   "metadata": {},
   "source": [
    "## Quiz 42: Inequalities and Negative Numbers"
   ]
  },
  {
   "cell_type": "markdown",
   "id": "98a21d89",
   "metadata": {},
   "source": [
    "> 1. Solve the inequality."
   ]
  },
  {
   "cell_type": "markdown",
   "id": "581cbd26",
   "metadata": {},
   "source": [
    "$$ -x + 4 < 9 $$"
   ]
  },
  {
   "cell_type": "markdown",
   "id": "f8255a8e",
   "metadata": {},
   "source": [
    "$$ -x < 5 $$"
   ]
  },
  {
   "cell_type": "markdown",
   "id": "9a999bfb",
   "metadata": {},
   "source": [
    "$$ \\boxed{x > -5} $$"
   ]
  },
  {
   "cell_type": "markdown",
   "id": "c100271b",
   "metadata": {},
   "source": [
    "> 2. Solve the inequality."
   ]
  },
  {
   "cell_type": "markdown",
   "id": "1c5cbcb7",
   "metadata": {},
   "source": [
    "$$ -3x + 7 \\le 25 $$"
   ]
  },
  {
   "cell_type": "markdown",
   "id": "3ca4f2cc",
   "metadata": {},
   "source": [
    "$$ -3x \\le 18 $$"
   ]
  },
  {
   "cell_type": "markdown",
   "id": "0c5ed042",
   "metadata": {},
   "source": [
    "$$ \\boxed{x \\ge -6} $$"
   ]
  },
  {
   "cell_type": "markdown",
   "id": "54c025d8",
   "metadata": {},
   "source": [
    "> 3. Solve the inequality."
   ]
  },
  {
   "cell_type": "markdown",
   "id": "b32c6605",
   "metadata": {},
   "source": [
    "$$ 2(x + 6) \\ge 4x + 10 $$"
   ]
  },
  {
   "cell_type": "markdown",
   "id": "f82a48dd",
   "metadata": {},
   "source": [
    "$$ 2x + 12 \\ge 4x + 10 $$"
   ]
  },
  {
   "cell_type": "markdown",
   "id": "63dbdd7c",
   "metadata": {},
   "source": [
    "$$ -2x \\ge -2 $$"
   ]
  },
  {
   "cell_type": "markdown",
   "id": "ae35727a",
   "metadata": {},
   "source": [
    "$$ \\boxed{x \\le 1} $$"
   ]
  }
 ],
 "metadata": {
  "language_info": {
   "name": "python"
  }
 },
 "nbformat": 4,
 "nbformat_minor": 5
}
