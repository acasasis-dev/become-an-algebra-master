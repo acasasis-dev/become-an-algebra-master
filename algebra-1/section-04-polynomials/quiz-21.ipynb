{
 "cells": [
  {
   "cell_type": "markdown",
   "id": "71ba311e",
   "metadata": {},
   "source": [
    "Quiz 21: Dividing Polynomials\n",
    "---"
   ]
  },
  {
   "cell_type": "markdown",
   "id": "812b1cc9",
   "metadata": {},
   "source": [
    "> 1. Simplify the expression"
   ]
  },
  {
   "cell_type": "markdown",
   "id": "d5dc5f6c",
   "metadata": {},
   "source": [
    "$$\n",
    "\t\\left( x^2 + x + 8 \\right)\\div\\left( x - 1 \\right) \\\\\\ \\\\\n",
    "\t\\frac{x^2 + x + 8}{x - 1} \\\\\\ \\\\\n",
    "\tx^2 \\ \\left \\{ \\ \\boxed{x}\\left(x - 1\\right) = \\left(x^2 - x\\right) \\right \\} \\\\\\ \\\\\n",
    "\t\\left(x^2 + x\\right) - \\left(x^2 - x\\right) = 2x \\\\\\ \\\\\n",
    "\t2x \\ \\left \\{ \\ \\boxed{2}\\left(x - 1\\right) = \\left(2x - 2\\right) \\right \\} \\\\\\ \\\\\n",
    "\t\\left(2x + 8\\right) - \\left(2x - 2\\right) = 10 \\\\\\ \\\\\n",
    "\t\\boxed{x + 2 + \\frac{10}{x - 1}}\n",
    "$$"
   ]
  },
  {
   "cell_type": "markdown",
   "id": "2ad9ac3b",
   "metadata": {},
   "source": [
    "> 2. Simplify the expression"
   ]
  },
  {
   "cell_type": "markdown",
   "id": "59f9f053",
   "metadata": {},
   "source": [
    "$$ \n",
    "\t\\left(x^3 + 2x^2 + 12 \\right) \\div \\left(x - 1 \\right) \\\\\\ \\\\\n",
    "\t\\frac{x^3 + 2x^2 + 12}{x - 1} \\\\\\ \\\\\n",
    "\tx^3 \\ \\left \\{ \\ \\boxed{x^2}\\left(x - 1\\right) = \\left(x^3 - x^2\\right) \\ \\right \\} \\\\\\ \\\\\n",
    "\t\\left(x^3 + 2x^2\\right) - \\left(x^3 - x^2\\right) = 3x^2 \\\\\\ \\\\\n",
    "\t3x^2 \\ \\left \\{ \\ \\boxed{3x}\\left(x - 1\\right) = \\left(3x^2 - 3x\\right) \\ \\right \\} \\\\\\ \\\\\n",
    "\t\\left(3x^2 - 0x\\right) - \\left(3x^2 - 3x\\right) = 3x \\\\\\ \\\\\n",
    "\t3x \\ \\left \\{ \\ \\boxed{3}\\left(x - 1\\right) = \\left(3x - 3\\right) \\right \\} \\\\\\ \\\\\n",
    "\t\\left(3x + 12\\right) - \\left(3x - 3\\right) = 15 \\\\\\ \\\\\n",
    "\t\\boxed{x^2 + 3x + 3 + \\frac{15}{x - 1}}\n",
    "$$"
   ]
  },
  {
   "cell_type": "markdown",
   "id": "daa9455d",
   "metadata": {},
   "source": [
    "> 3. Simplify the expression"
   ]
  },
  {
   "cell_type": "markdown",
   "id": "0055e66e",
   "metadata": {},
   "source": [
    "$$ \n",
    "\t\\frac{6x^4 - 17x^3 + 13x^2 - 24x + 10}{2x - 5} \\\\\\ \\\\\n",
    "\t6x^4 \\ \\left \\{ \\ \\boxed{3x^3}\\left(2x - 5\\right) = \\left(6x^4 - 15x^3\\right) \\ \\right \\} \\\\\\ \\\\\n",
    "\t\\left(6x^4 - 17x^3\\right) - \\left(6x^4 - 15x^3\\right) = -2x^3 \\\\\\ \\\\\n",
    "\t-2x^3 \\ \\left \\{ \\ \\boxed{-x^2}\\left(2x - 5\\right) = \\left(-2x^3 + 5x^2\\right) \\ \\right \\} \\\\\\ \\\\\n",
    "\t\\left(-2x^3 + 13x^2\\right) - \\left(-2x^3 + 5x^2\\right) = 8x^2 \\\\\\ \\\\\n",
    "\t8x^2 \\ \\left \\{ \\ \\boxed{4x}\\left(2x - 5\\right) = \\left(8x^2 - 20x\\right) \\ \\right \\} \\\\\\ \\\\\n",
    "\t\\left(8x^2 - 24x\\right) - \\left(8x^2 - 20x\\right) = -4x \\\\\\ \\\\\n",
    "\t-4x \\ \\left \\{ \\ \\boxed{-2}\\left(2x - 5\\right) = \\left(-4x + 10\\right) \\ \\right \\} \\\\\\ \\\\\n",
    "\t\\left(-4x + 10\\right) - \\left(-4x + 10\\right) = 0 \\\\\\ \\\\\n",
    "\t\\boxed{3x^3 - x^2 + 4x - 2}\n",
    "$$"
   ]
  }
 ],
 "metadata": {
  "language_info": {
   "name": "python"
  }
 },
 "nbformat": 4,
 "nbformat_minor": 5
}
