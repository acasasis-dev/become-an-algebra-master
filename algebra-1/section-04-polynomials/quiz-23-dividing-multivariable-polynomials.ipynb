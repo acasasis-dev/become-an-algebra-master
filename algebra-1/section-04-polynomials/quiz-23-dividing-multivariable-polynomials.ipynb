{
 "cells": [
  {
   "cell_type": "markdown",
   "id": "c286c1ec",
   "metadata": {},
   "source": [
    "Quiz 23: Dividing MultiVariable Polynomials\n",
    "---"
   ]
  },
  {
   "cell_type": "markdown",
   "id": "63e8a319",
   "metadata": {},
   "source": [
    "> 1. Find the quotient"
   ]
  },
  {
   "cell_type": "markdown",
   "id": "3ab688e0",
   "metadata": {},
   "source": [
    "$$ \n",
    "\t\\frac{x^3 + y^3}{x + y} \\\\\\ \\\\\n",
    "\tx^3 \\ \\left \\{ \\ \\boxed{x^2}\\left(x + y\\right) = \\left(x^3 + x^2y\\right) \\ \\right \\} \\\\\\ \\\\\n",
    "\t\\left(x^3 + 0x^2y\\right) - \\left(x^3 + x^2y\\right) = -x^2y \\\\\\ \\\\\n",
    "\t-x^2y \\ \\left \\{ \\ \\boxed{-xy}\\left(x + y\\right) = \\left(-x^2y - xy^2\\right) \\ \\right \\} \\\\\\ \\\\\n",
    "\t\\left(-x^2y + 0xy^2\\right) - \\left(-x^2y - xy^2\\right) = xy^2 \\\\\\ \\\\\n",
    "\txy^2 \\ \\left \\{ \\ \\boxed{y^2}\\left(x + y\\right) = \\left(xy^2 + y^3\\right) \\ \\right \\} \\\\\\ \\\\\n",
    "\t\\left(xy^2 + y^3\\right) - \\left(xy^2 + y^3\\right) = 0 \\\\\\ \\\\\n",
    "\t\\boxed{x^2 - xy + y^2}\n",
    "$$"
   ]
  },
  {
   "cell_type": "markdown",
   "id": "471ac169",
   "metadata": {},
   "source": [
    "> 2. Find the quotient"
   ]
  },
  {
   "cell_type": "markdown",
   "id": "4e01f691",
   "metadata": {},
   "source": [
    "$$\n",
    "\t\\frac{2x^3 + 15yx^2 + 24y^2x - 16y^3}{x + 4y} = \\frac{2x^3 + 15x^2y + 24xy^2 - 16y^3}{x + 4y} \\\\\\ \\\\\n",
    "\t2x^3 \\ \\left \\{ \\ \\boxed{2x^2}\\left(x + 4y\\right) = \\left(2x^3 + 8x^2y\\right) \\ \\right \\} \\\\\\ \\\\\n",
    "\t\\left(2x^3 + 15x^2y\\right) - \\left(2x^3 + 8x^2y\\right) = 7x^2y \\\\\\ \\\\\n",
    "\t7x^2y \\ \\left \\{ \\ \\boxed{7xy}\\left(x + 4y\\right) = \\left(7x^2y + 28xy^2\\right) \\ \\right \\} \\\\\\ \\\\\n",
    "\t\\left(7x^2y + 24xy^2\\right) - \\left(7x^2y + 28xy^2\\right) = -4xy^2 \\\\\\ \\\\\n",
    "\t-4xy^2 \\ \\left \\{ \\ \\boxed{-4y^2}\\left(x + 4y\\right) = \\left(-4xy^2 - 16y^3\\right) \\ \\right \\} \\\\\\ \\\\\n",
    "\t\\left(-4xy^2 - 16y^3\\right) - \\left(-4xy^2 - 16y^3\\right) = 0 \\\\\\ \\\\\n",
    "\t\\boxed{2x^2 + 7xy - 4y^2}\n",
    "$$"
   ]
  },
  {
   "cell_type": "markdown",
   "id": "6cd5c525",
   "metadata": {},
   "source": [
    "> 3. Find the quotient"
   ]
  },
  {
   "cell_type": "markdown",
   "id": "1560d8b9",
   "metadata": {},
   "source": [
    "$$\n",
    "\t\\frac{3x^3 - 7x^2y - 7xy^2 + 3y^3}{x - 3y} \\\\\\ \\\\\n",
    "\t3x^3 \\ \\left \\{ \\ \\boxed{3x^2}\\left(x - 3y\\right) = \\left(3x^3 - 9x^2y\\right) \\ \\right \\} \\\\\\ \\\\\n",
    "\t\\left(3x^3 - 7x^2y\\right) - \\left(3x^3 - 9x^2y\\right) = 2x^2y \\\\\\ \\\\\n",
    "\t2x^2y \\ \\left \\{ \\ \\boxed{2xy}\\left(x - 3y\\right) = \\left(2x^2y - 6xy^2\\right) \\ \\right \\} \\\\\\ \\\\\n",
    "\t\\left(2x^2y - 7xy^2\\right) - \\left(2x^2y - 6xy^2\\right) = -xy^2 \\\\\\ \\\\\n",
    "\t-xy^2 \\ \\left \\{ \\ \\boxed{-y^2}\\left(x - 3y\\right) = \\left(-xy^2 + 3y^3\\right) \\ \\right \\} \\\\\\ \\\\\n",
    "\t\\left(-xy^2 + 3y^3\\right) - \\left(-xy^2 + 3y^3\\right) = 0 \\\\\\ \\\\\n",
    "\t\\boxed{3x^2 + 2xy - y^2}\n",
    "$$"
   ]
  },
  {
   "cell_type": "markdown",
   "id": "c08f6954",
   "metadata": {},
   "source": []
  }
 ],
 "metadata": {
  "language_info": {
   "name": "python"
  }
 },
 "nbformat": 4,
 "nbformat_minor": 5
}
