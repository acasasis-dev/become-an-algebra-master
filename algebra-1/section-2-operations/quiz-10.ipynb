{
 "cells": [
  {
   "cell_type": "markdown",
   "id": "75718513",
   "metadata": {},
   "source": [
    "Quiz 10: Distributive Property with fractions\n",
    "---"
   ]
  },
  {
   "cell_type": "markdown",
   "id": "9dd023d8",
   "metadata": {},
   "source": [
    "Use the Distributive Property to expand the expressions"
   ]
  },
  {
   "cell_type": "markdown",
   "id": "ac24f9b5",
   "metadata": {},
   "source": [
    "> 1."
   ]
  },
  {
   "cell_type": "markdown",
   "id": "ef29c32a",
   "metadata": {},
   "source": [
    "$$ \n",
    "\t\\frac{2x}{yz}\\ \\left(\\frac{5x}{3y} + \\frac{x^2}{z} \\right)\n",
    "$$"
   ]
  },
  {
   "cell_type": "markdown",
   "id": "f9279d36",
   "metadata": {},
   "source": [
    "$$\n",
    "\t\\frac{10x^2}{3y^2z}\\ + \\frac{2x^3}{yz^2}\\\n",
    "$$"
   ]
  },
  {
   "cell_type": "markdown",
   "id": "ac326539",
   "metadata": {},
   "source": [
    "> 2."
   ]
  },
  {
   "cell_type": "markdown",
   "id": "27ae00e4",
   "metadata": {},
   "source": [
    "$$\n",
    "\t\\left( abx - \\frac{b^2x^2}{a^3} \\right) \\frac{bx^2}{a}"
   ]
  },
  {
   "cell_type": "markdown",
   "id": "8739235e",
   "metadata": {},
   "source": [
    "$$ \n",
    "\t\\frac{ab^2x^3}{a} - \\frac{b^3x^4}{a^4}\n",
    "$$"
   ]
  },
  {
   "cell_type": "markdown",
   "id": "dcaf15e9",
   "metadata": {},
   "source": [
    "$$ b^2x^3 - \\frac{b^3x^4}{a^4}"
   ]
  },
  {
   "cell_type": "markdown",
   "id": "fb0c34da",
   "metadata": {},
   "source": [
    "> 3."
   ]
  },
  {
   "cell_type": "markdown",
   "id": "3775cd36",
   "metadata": {},
   "source": [
    "$$ \\frac{pb}{t^2} \\left( \\frac{2s}{t} - \\frac{pj}{3t^2} + r \\right)"
   ]
  },
  {
   "cell_type": "markdown",
   "id": "5de899e7",
   "metadata": {},
   "source": [
    "$$ \\frac{2pbs}{t^3} - \\frac{p^2bj}{3t^4} + \\frac{pbr}{t^2}"
   ]
  }
 ],
 "metadata": {
  "language_info": {
   "name": "python"
  }
 },
 "nbformat": 4,
 "nbformat_minor": 5
}
