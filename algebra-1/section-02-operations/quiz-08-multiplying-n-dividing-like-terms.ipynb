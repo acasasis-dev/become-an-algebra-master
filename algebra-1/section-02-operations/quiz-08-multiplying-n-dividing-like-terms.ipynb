{
 "cells": [
  {
   "cell_type": "markdown",
   "id": "ef54fc7d",
   "metadata": {},
   "source": [
    "## Quiz 8: Multiplying and Dividing Like Terms"
   ]
  },
  {
   "cell_type": "markdown",
   "id": "25aa6f6c",
   "metadata": {},
   "source": [
    "> 1. Simplify the expression.\n",
    "\n",
    "\\begin{gather*}\n",
    "    \\frac{x(x + x + m + b)}{x} \\\\ \\\\\n",
    "\n",
    "    \\frac{x(2x + m + b)}{x} \\\\ \\\\\n",
    "\n",
    "    \\boxed{2x + m + b}\n",
    "\\end{gather*}"
   ]
  },
  {
   "cell_type": "markdown",
   "id": "98012ea1",
   "metadata": {},
   "source": [
    "> 2. Simplify the expression.\n",
    "\n",
    "\\begin{gather*}\n",
    "    \\frac{5x^2 \\cdot 3y \\cdot 2x}{2xy} \\\\ \\\\\n",
    "\n",
    "    \\frac{5x^2 \\cdot 6xy}{2xy} \\\\\n",
    "    5x^2 \\cdot 3 \\\\ \\\\\n",
    "\n",
    "    \\boxed{15x^2}\n",
    "\\end{gather*}"
   ]
  },
  {
   "cell_type": "markdown",
   "id": "522f87e1",
   "metadata": {},
   "source": [
    "> 3. Simplify the expression.\n",
    "\n",
    "\\begin{gather*}\n",
    "    \\frac{t^3 \\cdot t^4 \\cdot d^5}{t^5 \\cdot d^4} \\\\ \\\\\n",
    "\n",
    "    \\frac{t^7 \\cdot d^5}{t^5 \\cdot d^4} \\\\\n",
    "    t^2 \\cdot d \\\\ \\\\\n",
    "\n",
    "    \\boxed{t^2d}\n",
    "\\end{gather*}"
   ]
  }
 ],
 "metadata": {
  "language_info": {
   "name": "python"
  }
 },
 "nbformat": 4,
 "nbformat_minor": 5
}
