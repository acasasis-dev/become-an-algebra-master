{
 "cells": [
  {
   "cell_type": "markdown",
   "id": "796cccda",
   "metadata": {},
   "source": [
    "## Quiz 7: Adding and Subtracting Like Terms"
   ]
  },
  {
   "cell_type": "markdown",
   "id": "81681abc",
   "metadata": {},
   "source": [
    "> 1. Simplify the expression.\n",
    "\n",
    "\\begin{gather*}\n",
    "    4x + 2x + 8x - 4x \\\\ \\\\\n",
    "\n",
    "    6x + 8x - 4x \\\\\n",
    "    14x - 4x \\\\ \\\\\n",
    "\n",
    "    \\boxed{10x}\n",
    "\\end{gather*}"
   ]
  },
  {
   "cell_type": "markdown",
   "id": "b1ee935f",
   "metadata": {},
   "source": [
    "> 2. Simplify the expression.\n",
    "\n",
    "\\begin{gather*}\n",
    "    x + x + 3x + 4x + x \\\\ \\\\\n",
    "\n",
    "    2x + 3x + 4x + x \\\\\n",
    "    5x + 4x + x \\\\\n",
    "    9x + x \\\\ \\\\\n",
    "    \n",
    "    \\boxed{10x}\n",
    "\\end{gather*}"
   ]
  },
  {
   "cell_type": "markdown",
   "id": "88d2cdfe",
   "metadata": {},
   "source": [
    "> 3. Simplify the expression.\n",
    "\n",
    "\\begin{gather*}\n",
    "    2x + 7x + 4x^2 + 6x^2 + 10x \\\\ \\\\\n",
    "\n",
    "    9x + 4x^2 + 6x^2 + 10x \\\\\n",
    "    9x + 10x^2 + 10x \\\\ \\\\\n",
    "\n",
    "    \\boxed{10x^2 + 19x}\n",
    "\\end{gather*}"
   ]
  }
 ],
 "metadata": {
  "language_info": {
   "name": "python"
  }
 },
 "nbformat": 4,
 "nbformat_minor": 5
}
