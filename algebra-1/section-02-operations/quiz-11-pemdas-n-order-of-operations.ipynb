{
 "cells": [
  {
   "cell_type": "markdown",
   "id": "0fc30d0f",
   "metadata": {},
   "source": [
    "## Quiz 11: PEMDAS and Order of Operations"
   ]
  },
  {
   "cell_type": "markdown",
   "id": "38c5c49c",
   "metadata": {},
   "source": [
    "> 1. Simplify the expression.\n",
    "\n",
    "\\begin{gather*}\n",
    "    [(5 - 4)3 + 2(6 - 4)] + 2 \\\\ \\\\\n",
    "\\end{gather*}"
   ]
  },
  {
   "cell_type": "markdown",
   "id": "074d3ce1",
   "metadata": {},
   "source": [
    "> 2. Simplify the expression.\n",
    "\n",
    "\\begin{gather*}\n",
    "    2[(5 - 2) + 6] - (10 - 3) \\\\ \\\\\n",
    "\\end{gather*}"
   ]
  },
  {
   "cell_type": "markdown",
   "id": "1b6c6769",
   "metadata": {},
   "source": [
    "> 3. Use the order of operations to simplify the expression.\n",
    "\n",
    "\\begin{gather*}\n",
    "    -5 + 3 \\cdot 4 - 6 + (2 - 4) - 3^2 \\\\ \\\\\n",
    "\\end{gather*}"
   ]
  }
 ],
 "metadata": {
  "language_info": {
   "name": "python"
  }
 },
 "nbformat": 4,
 "nbformat_minor": 5
}
