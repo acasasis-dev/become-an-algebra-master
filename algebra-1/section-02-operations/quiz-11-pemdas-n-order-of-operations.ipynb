{
 "cells": [
  {
   "cell_type": "markdown",
   "id": "0fc30d0f",
   "metadata": {},
   "source": [
    "## Quiz 11: PEMDAS and Order of Operations"
   ]
  },
  {
   "cell_type": "markdown",
   "id": "38c5c49c",
   "metadata": {},
   "source": [
    "> 1. Simplify the expression.\n",
    "\n",
    "\\begin{gather*}\n",
    "    [(5 - 4)3 + 2(6 - 4)] + 2 \\\\ \\\\\n",
    "\n",
    "    [(1)3 + 2(2)] + 2 \\\\\n",
    "    [3 + 4] + 2 \\\\\n",
    "    7 + 2 \\\\ \\\\\n",
    "\n",
    "    \\boxed{9}\n",
    "\\end{gather*}"
   ]
  },
  {
   "cell_type": "markdown",
   "id": "074d3ce1",
   "metadata": {},
   "source": [
    "> 2. Simplify the expression.\n",
    "\n",
    "\\begin{gather*}\n",
    "    2[(5 - 2) + 6] - (10 - 3) \\\\ \\\\\n",
    "\n",
    "    2[3 + 6] - 7 \\\\\n",
    "    2[9] - 7 \\\\\n",
    "    18 - 7 \\\\ \\\\\n",
    "\n",
    "    \\boxed{11}\n",
    "\\end{gather*}"
   ]
  },
  {
   "cell_type": "markdown",
   "id": "1b6c6769",
   "metadata": {},
   "source": [
    "> 3. Use the order of operations to simplify the expression.\n",
    "\n",
    "\\begin{gather*}\n",
    "    -5 + 3 \\cdot 4 - 6 + (2 - 4) - 3^2 \\\\ \\\\\n",
    "\n",
    "    -5 + 12 - 6 - 2 - 9 \\\\\n",
    "    7 - 6 - 2 - 9 \\\\\n",
    "    1 - 2 - 9 \\\\\n",
    "    -1 - 9 \\\\ \\\\\n",
    "\n",
    "    \\boxed{-10}\n",
    "\\end{gather*}"
   ]
  }
 ],
 "metadata": {
  "language_info": {
   "name": "python"
  }
 },
 "nbformat": 4,
 "nbformat_minor": 5
}
