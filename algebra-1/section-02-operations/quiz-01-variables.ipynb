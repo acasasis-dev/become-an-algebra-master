{
 "cells": [
  {
   "cell_type": "markdown",
   "id": "4e2a9613",
   "metadata": {},
   "source": [
    "## Quiz 1: Variables"
   ]
  },
  {
   "attachments": {
    "image.png": {
     "image/png": "[encoded data removed]"
    }
   },
   "cell_type": "markdown",
   "id": "8576e3e9",
   "metadata": {},
   "source": [
    "> 1. Which of these is most likely to be used as a variable?\n",
    "\n",
    "![image.png](attachment:image.png)\n",
    "\n",
    "C, as $x$ is the most common used variable in math in general"
   ]
  },
  {
   "cell_type": "markdown",
   "id": "546f4dca",
   "metadata": {},
   "source": [
    "> 2. Identify the terms in the equation.\n",
    "\n",
    "\\begin{gather*}\n",
    "    3\\sqrt{x} + 6y^2 = ab^2 + 2 \\\\ \\\\\n",
    "\\end{gather*}\n",
    "\n",
    "$3\\sqrt{x}$, $6y^2$, $ab^2$ and $2$"
   ]
  },
  {
   "cell_type": "markdown",
   "id": "e80e1af7",
   "metadata": {},
   "source": [
    "> 3. Identify the coefficient(s) in the expression.\n",
    "\n",
    "\\begin{gather*}\n",
    "    ax^2 + bx + c \\\\ \\\\\n",
    "\\end{gather*}\n",
    "\n",
    "$a$ and $b$"
   ]
  }
 ],
 "metadata": {
  "language_info": {
   "name": "python"
  }
 },
 "nbformat": 4,
 "nbformat_minor": 5
}
