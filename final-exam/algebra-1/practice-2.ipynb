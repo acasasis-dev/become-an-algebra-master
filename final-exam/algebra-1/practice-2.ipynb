{
 "cells": [
  {
   "cell_type": "markdown",
   "id": "cf718bb7",
   "metadata": {},
   "source": [
    "## Practice Final Exam #2"
   ]
  },
  {
   "cell_type": "markdown",
   "id": "9a2e78ae",
   "metadata": {},
   "source": [
    "> 1. Which property is illustrated by $3(a − 1) = 3a − 3$?"
   ]
  },
  {
   "cell_type": "markdown",
   "id": "e5cf6eea",
   "metadata": {},
   "source": [
    "> 2. Evaluate $b^0 + 3(5a − 2b + c2) − 4a \\div 2$ when $a = 2$, $b = 1$, and $c = 4$."
   ]
  },
  {
   "cell_type": "markdown",
   "id": "74a2fab9",
   "metadata": {},
   "source": [
    "> 3. Simplify the expression $(8x^2 − 3x) − (6x^2 − 9x + 4)$."
   ]
  },
  {
   "cell_type": "markdown",
   "id": "f2033ce8",
   "metadata": {},
   "source": [
    "> 4. What are two consecutive numbers whose product is $132$?"
   ]
  },
  {
   "cell_type": "markdown",
   "id": "fc79696d",
   "metadata": {},
   "source": [
    "> 5. Simplify the expression $(x^3 + 2x^2 + 8) \\div (x − 2)$."
   ]
  },
  {
   "cell_type": "markdown",
   "id": "359226a6",
   "metadata": {},
   "source": [
    "> 6. What is the GCF of $3a^5b^3 − 18a^3b^3 − 21a^2b^4$?"
   ]
  },
  {
   "cell_type": "markdown",
   "id": "205cdba5",
   "metadata": {},
   "source": [
    "> 7. Solve $6 − 2x \\le 14$."
   ]
  },
  {
   "cell_type": "markdown",
   "id": "dabdc94d",
   "metadata": {},
   "source": [
    "> 8. Write an expression to represent the product of $10$ and the sum\n",
    "of $5$ and a number."
   ]
  },
  {
   "cell_type": "markdown",
   "id": "830556ca",
   "metadata": {},
   "source": [
    "> 9. Graph $y = −3x + 4$."
   ]
  },
  {
   "cell_type": "markdown",
   "id": "d29af36a",
   "metadata": {},
   "source": [
    "> 10. Solve $2x^2 + 5x − 6 = 0$ using the quadratic formula."
   ]
  },
  {
   "cell_type": "markdown",
   "id": "da591da3",
   "metadata": {},
   "source": [
    "> 11. Graph the function $f(x) = \\sqrt{x − 2}$ and find the function’s domain\n",
    "and range."
   ]
  },
  {
   "cell_type": "markdown",
   "id": "e9fdbefd",
   "metadata": {},
   "source": [
    "> 12. Determine whether the function is even, odd, or neither.\n",
    "\n",
    "\\begin{gather*}\n",
    "    f(x) = x^3 - 3x \\\\ \\\\\n",
    "\\end{gather*}"
   ]
  }
 ],
 "metadata": {
  "language_info": {
   "name": "python"
  }
 },
 "nbformat": 4,
 "nbformat_minor": 5
}
