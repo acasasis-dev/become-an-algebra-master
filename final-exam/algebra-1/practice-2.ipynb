{
 "cells": [
  {
   "cell_type": "markdown",
   "id": "cf718bb7",
   "metadata": {},
   "source": [
    "## Practice Final Exam #2"
   ]
  },
  {
   "cell_type": "markdown",
   "id": "9a2e78ae",
   "metadata": {},
   "source": [
    "> 1. Which property is illustrated by $3(a − 1) = 3a − 3$?\n",
    "\n",
    "Distributive Property"
   ]
  },
  {
   "cell_type": "markdown",
   "id": "e5cf6eea",
   "metadata": {},
   "source": [
    "> 2. Evaluate $b^0 + 3(5a − 2b + c^2) − 4a \\div 2$ when $a = 2$, $b = 1$, and $c = 4$.\n",
    "\n",
    "\\begin{gather*}\n",
    "    b^0 + 3(5a − 2b + c^2) − 4a \\div 2 \\\\\n",
    "    (1)^0 + 3(5(2) - 2(1) + (4)^2) - 4(2) \\div 2 \\\\\n",
    "    1 + 3(10 - 2 + 16) - 8 \\div 2 \\\\\n",
    "    1 + 30 - 6 + 48 - 4 \\\\\n",
    "    31 - 6 + 48 - 4 \\\\\n",
    "    25 + 48 - 4 \\\\\n",
    "    73 - 4 \\\\\n",
    "    \\boxed{69} \\\\\n",
    "\\end{gather*}"
   ]
  },
  {
   "cell_type": "markdown",
   "id": "74a2fab9",
   "metadata": {},
   "source": [
    "> 3. Simplify the expression $(8x^2 − 3x) − (6x^2 − 9x + 4)$.\n",
    "\n",
    "\\begin{gather*}\n",
    "    (8x^2 − 3x) − (6x^2 − 9x + 4) \\\\\n",
    "    8x^2 - 3x - 6x^2 + 9x - 4 \\\\\n",
    "    \\boxed{2x^2 + 6x - 4}\n",
    "\\end{gather*}"
   ]
  },
  {
   "cell_type": "markdown",
   "id": "f2033ce8",
   "metadata": {},
   "source": [
    "> 4. What are two consecutive numbers whose product is $132$?\n",
    "\n",
    "\\begin{gather*}\n",
    "    x(x + 1) = 132 \\\\\n",
    "    x^2 + x - 132 = 0 \\\\\n",
    "    (x + 12)(x - 11) = 0 \\\\ \\\\\n",
    "    x = -12, 11\n",
    "\\end{gather*}\n",
    "\n",
    "The answer are $-12, -11$ and $11, 12$"
   ]
  },
  {
   "cell_type": "markdown",
   "id": "fc79696d",
   "metadata": {},
   "source": [
    "> 5. Simplify the expression $(x^3 + 2x^2 + 8) \\div (x − 2)$.\n",
    "\n",
    "\\begin{gather*}\n",
    "    (x^3 + 2x^2 + 8) \\div (x − 2) \\\\\n",
    "    \\frac{x^3 + 2x^2 + 8}{x - 2} \\\\ \\\\\n",
    "\n",
    "    x^3 \\ \\left \\{  \\ \\boxed{x^2}(x - 2) = (x^3 - 2x^2) \\ \\right \\} \\\\\n",
    "    (x^3 + 2x^2) - (x^3 - 2x^2) = 4x^2 \\\\\n",
    "    4x^2 \\ \\left \\{ \\ \\boxed{4x}(x - 2) = (4x^2 - 8x) \\ \\right \\} \\\\\n",
    "    (4x^2 - 0) - (4x^2 - 8x) = 8x \\\\\n",
    "    8x \\ \\left \\{ \\ \\boxed{8}(x - 2) = (8x - 16) \\ \\right \\} \\\\\n",
    "    (8x + 8) - (8x - 16) = 24 \\\\ \\\\\n",
    "\n",
    "    \\boxed{x^2 + 4x + 8 + \\frac{24}{x - 2}}\n",
    "\\end{gather*}"
   ]
  },
  {
   "cell_type": "markdown",
   "id": "359226a6",
   "metadata": {},
   "source": [
    "> 6. What is the GCF of $3a^5b^3 − 18a^3b^3 − 21a^2b^4$?\n",
    "\n",
    "\\begin{gather*}\n",
    "    3a^5b^3 − 18a^3b^3 − 21a^2b^4 \\\\\n",
    "    3a^2b^3(a^3 - 6a - 7b) \\\\ \\\\\n",
    "\n",
    "    \\boxed{3a^2b^3}\n",
    "\\end{gather*}"
   ]
  },
  {
   "cell_type": "markdown",
   "id": "205cdba5",
   "metadata": {},
   "source": [
    "> 7. Solve $6 − 2x \\le 14$.\n",
    "\n",
    "\\begin{gather*}\n",
    "    6 − 2x \\le 14 \\\\\n",
    "    -2x \\le 14 - 6 \\\\\n",
    "    -2x \\le 8 \\\\\n",
    "    \\frac{-2x \\le 8}{-2} \\\\\n",
    "    \\boxed{x \\ge -4}\n",
    "\\end{gather*}"
   ]
  },
  {
   "cell_type": "markdown",
   "id": "dabdc94d",
   "metadata": {},
   "source": [
    "> 8. Write an expression to represent the product of $10$ and the sum\n",
    "of $5$ and a number.\n",
    "\n",
    "$10(5 + n)$"
   ]
  },
  {
   "cell_type": "markdown",
   "id": "830556ca",
   "metadata": {},
   "source": [
    "> 9. Graph $y = −3x + 4$."
   ]
  },
  {
   "cell_type": "markdown",
   "id": "d29af36a",
   "metadata": {},
   "source": [
    "> 10. Solve $2x^2 + 5x − 6 = 0$ using the quadratic formula.\n",
    "\n",
    "\\begin{gather*}\n",
    "    x = \\frac{-b \\pm \\sqrt{b^2 - 4ac}}{2a} \\\\\n",
    "\n",
    "    x = \\frac{-(5) \\pm \\sqrt{(5)^2 - 4(2)(-6)}}{2(2)} \\\\\n",
    "    x = \\frac{-5 \\pm \\sqrt{25 - 8(-6)}}{4} \\\\\n",
    "    x = \\frac{-5 \\pm \\sqrt{25 + 48}}{4} \\\\\n",
    "    x = \\frac{-5 \\pm \\sqrt{73}}{4} \\\\\n",
    "    x = \\frac{-5 \\pm \\sqrt{9}\\sqrt{4}\\sqrt{2}}{4} \\\\\n",
    "    x = \\frac{-5 \\pm (3)(2)\\sqrt{2}}{4} \\\\\n",
    "    x = \\frac{-5 \\pm 6\\sqrt{2}}{4} \\\\ \\\\\n",
    "\n",
    "    \\boxed{x = \\frac{-5 + 6\\sqrt{2}}{4}, \\ \\frac{-5 - 6\\sqrt{2}}{4}}\n",
    "\\end{gather*}"
   ]
  },
  {
   "cell_type": "markdown",
   "id": "da591da3",
   "metadata": {},
   "source": [
    "> 11. Graph the function $f(x) = \\sqrt{x − 2}$ and find the function’s domain\n",
    "and range.\n",
    "\n",
    "Domain is $x \\ge 2$, Range is $y \\ge 0$"
   ]
  },
  {
   "cell_type": "markdown",
   "id": "e9fdbefd",
   "metadata": {},
   "source": [
    "> 12. Determine whether the function is even, odd, or neither.\n",
    "\n",
    "\\begin{gather*}\n",
    "    f(x) = x^3 - 3x \\\\ \\\\\n",
    "\n",
    "    f(-x) = x(-1)^3 - 3x(-1) \\\\\n",
    "    f(-x) = -x^3 + 3x\n",
    "\\end{gather*}\n",
    "\n",
    "Function is Odd as doing $f(-x)$ inverted the signs in the equation"
   ]
  }
 ],
 "metadata": {
  "language_info": {
   "name": "python"
  }
 },
 "nbformat": 4,
 "nbformat_minor": 5
}
