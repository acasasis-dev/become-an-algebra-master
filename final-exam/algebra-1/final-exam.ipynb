{
 "cells": [
  {
   "cell_type": "markdown",
   "id": "14cfdbdf",
   "metadata": {},
   "source": [
    "## Final Exam Algebra 1"
   ]
  },
  {
   "cell_type": "markdown",
   "id": "e9338f91",
   "metadata": {},
   "source": [
    "> 1. Which property is illustrated by $3(a − 1) = 3a − 3$?"
   ]
  },
  {
   "cell_type": "markdown",
   "id": "28aafef4",
   "metadata": {},
   "source": [
    "> 2. Evaluate $b^0 + 3(5a − 2b + c^2) − 4a ÷ 2$ when $a = 2$, $b = 1$, and $c = 4$."
   ]
  },
  {
   "cell_type": "markdown",
   "id": "339e1df6",
   "metadata": {},
   "source": [
    "> 3. Simplify the expression $(8x^2 − 3x) − (6x^2 − 9x + 4)$."
   ]
  },
  {
   "cell_type": "markdown",
   "id": "1a251de1",
   "metadata": {},
   "source": [
    "> 4. What are two consecutive numbers whose product is $132$?"
   ]
  },
  {
   "cell_type": "markdown",
   "id": "85f0e4a8",
   "metadata": {},
   "source": [
    "> 5. Simplify the expression $(x^3 + 2x^2 + 8) ÷ (x − 2)$."
   ]
  },
  {
   "cell_type": "markdown",
   "id": "5cd80f75",
   "metadata": {},
   "source": [
    "> 6. What is the GCF of $3a^5b^3 − 18a^3b^3 − 21a^2b^4$?"
   ]
  },
  {
   "cell_type": "markdown",
   "id": "8e751b43",
   "metadata": {},
   "source": [
    "> 7. Solve $6 − 2x \\le 14$."
   ]
  },
  {
   "cell_type": "markdown",
   "id": "7ed7d555",
   "metadata": {},
   "source": [
    "> 8. Write an expression to represent the product of $10$ and the sum\n",
    "of $5$ and a number."
   ]
  },
  {
   "cell_type": "markdown",
   "id": "efccbc02",
   "metadata": {},
   "source": [
    "> 9. Graph $y = −3x + 4$."
   ]
  },
  {
   "cell_type": "markdown",
   "id": "5726fbb5",
   "metadata": {},
   "source": [
    "> 10. Solve $2x^2 + 5x − 6 = 0$ using the quadratic formula."
   ]
  },
  {
   "cell_type": "markdown",
   "id": "7c2507f1",
   "metadata": {},
   "source": [
    "> 11. Graph the function $f(x) = \\sqrt{x − 2}$ and find the function’s domain\n",
    "and range."
   ]
  },
  {
   "cell_type": "markdown",
   "id": "35cd18f0",
   "metadata": {},
   "source": [
    "> 12. Determine whether the function is even, odd, or neither.\n",
    "\n",
    "\\begin{gather*}\n",
    "    f(x) = x^3 - 3x \\\\ \\\\\n",
    "\\end{gather*}"
   ]
  }
 ],
 "metadata": {
  "language_info": {
   "name": "python"
  }
 },
 "nbformat": 4,
 "nbformat_minor": 5
}
