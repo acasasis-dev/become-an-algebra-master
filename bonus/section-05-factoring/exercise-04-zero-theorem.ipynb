{
 "cells": [
  {
   "cell_type": "markdown",
   "id": "c54c3189",
   "metadata": {},
   "source": [
    "## Exercise 4: Zero Theorem"
   ]
  },
  {
   "cell_type": "markdown",
   "id": "d62a6a18",
   "metadata": {},
   "source": [
    "> 1. Find the zeros of the function.\n",
    "\n",
    "\\begin{gather*}\n",
    "    y = x^2 - 5x + 6 \\\\ \\\\\n",
    "\n",
    "    y = (x - 3)(x - 2) \\\\\n",
    "    -(-3, -2) \\\\\n",
    "    \\boxed{3, 2}\n",
    "\\end{gather*}"
   ]
  },
  {
   "cell_type": "markdown",
   "id": "1e64a825",
   "metadata": {},
   "source": [
    "> 2. Find the zeros of the function.\n",
    "\n",
    "\\begin{gather*}\n",
    "    y = x^2 - 4x - 5 \\\\ \\\\\n",
    "\n",
    "    y = (x - 5)(x + 1) \\\\\n",
    "    -(-5, 1) \\\\\n",
    "    \\boxed{5, -1}\n",
    "\\end{gather*}"
   ]
  },
  {
   "cell_type": "markdown",
   "id": "c8930753",
   "metadata": {},
   "source": [
    "> 3. Find the $x$-intercepts.\n",
    "\n",
    "\\begin{gather*}\n",
    "    f(x) = x^2 + 10x + 24 \\\\ \\\\\n",
    "    \n",
    "    f(x) = (x + 6)(x + 4) \\\\\n",
    "    -(6, 4) \\\\\n",
    "    \\boxed{-6, -4}\n",
    "\\end{gather*}"
   ]
  },
  {
   "cell_type": "markdown",
   "id": "f876dc1a",
   "metadata": {},
   "source": [
    "> 4. Find the x-intercepts.\n",
    "\n",
    "\\begin{gather*}\n",
    "    f(x) = x^2 - 7x + 6 \\\\ \\\\\n",
    "\n",
    "    f(x) = (x - 6)(x - 1) \\\\\n",
    "    -(-6, -1) \\\\\n",
    "    \\boxed{6, 1}\n",
    "\\end{gather*}"
   ]
  },
  {
   "cell_type": "markdown",
   "id": "0f6b6def",
   "metadata": {},
   "source": [
    "> 5. Use the Zero Theorem to find the solutions to the quadratic equation.\n",
    "\n",
    "\\begin{gather*}\n",
    "    4x^2 - 16 = 0 \\\\ \\\\\n",
    "\n",
    "    (2x - 4)(2x + 4) \\\\\n",
    "    \\frac{-(-4, 4)}{2} \\\\\n",
    "    \\frac{4, -4}{2} \\\\\n",
    "    \\boxed{2, -2}\n",
    "\\end{gather*}"
   ]
  },
  {
   "cell_type": "markdown",
   "id": "cd4a146d",
   "metadata": {},
   "source": [
    "> 6. Use the Zero Theorem to find the solutions to the quadratic equation.\n",
    "\n",
    "\\begin{gather*}\n",
    "    25 - 9x^2 = 0 \\\\ \\\\\n",
    "\n",
    "    (5 - 3x)(5 + 3x) \\\\\n",
    "    (3x + 5)(3x - 5) \\\\\n",
    "    \\frac{-(5, -5)}{3} \\\\\n",
    "    \\frac{-5, 5}{3} \\\\\n",
    "    \\boxed{-\\frac{5}{3}, \\frac{5}{3}}\n",
    "\\end{gather*}"
   ]
  }
 ],
 "metadata": {
  "language_info": {
   "name": "python"
  }
 },
 "nbformat": 4,
 "nbformat_minor": 5
}
