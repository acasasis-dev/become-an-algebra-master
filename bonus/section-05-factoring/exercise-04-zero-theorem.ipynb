{
 "cells": [
  {
   "cell_type": "markdown",
   "id": "c54c3189",
   "metadata": {},
   "source": [
    "## Exercise 4: Zero Theorem"
   ]
  },
  {
   "cell_type": "markdown",
   "id": "d62a6a18",
   "metadata": {},
   "source": [
    "> 1. Find the zeros of the function.\n",
    "\n",
    "\\begin{gather*}\n",
    "    y = x^2 - 5x + 6 \\\\ \\\\\n",
    "\\end{gather*}"
   ]
  },
  {
   "cell_type": "markdown",
   "id": "1e64a825",
   "metadata": {},
   "source": [
    "> 2. Find the zeros of the function.\n",
    "\n",
    "\\begin{gather*}\n",
    "    y = x^2 - 4x - 5 \\\\ \\\\\n",
    "\\end{gather*}"
   ]
  },
  {
   "cell_type": "markdown",
   "id": "c8930753",
   "metadata": {},
   "source": [
    "> 3. Find the $x$-intercepts.\n",
    "\n",
    "\\begin{gather*}\n",
    "    f(x) = x^2 + 10x + 24 \\\\ \\\\\n",
    "\\end{gather*}"
   ]
  },
  {
   "cell_type": "markdown",
   "id": "f876dc1a",
   "metadata": {},
   "source": [
    "> 4. Find the x-intercepts.\n",
    "\n",
    "\\begin{gather*}\n",
    "    f(x) = x^2 - 7x + 6 \\\\ \\\\\n",
    "\\end{gather*}"
   ]
  },
  {
   "cell_type": "markdown",
   "id": "0f6b6def",
   "metadata": {},
   "source": [
    "> 5. Use the Zero Theorem to find the solutions to the quadratic equation.\n",
    "\n",
    "\\begin{gather*}\n",
    "    4x^2 - 16 = 0 \\\\ \\\\\n",
    "\\end{gather*}"
   ]
  },
  {
   "cell_type": "markdown",
   "id": "cd4a146d",
   "metadata": {},
   "source": [
    "> 6. Use the Zero Theorem to find the solutions to the quadratic equation.\n",
    "\n",
    "\\begin{gather*}\n",
    "    25 - 9x^2 = 0\n",
    "\\end{gather*}"
   ]
  }
 ],
 "metadata": {
  "language_info": {
   "name": "python"
  }
 },
 "nbformat": 4,
 "nbformat_minor": 5
}
