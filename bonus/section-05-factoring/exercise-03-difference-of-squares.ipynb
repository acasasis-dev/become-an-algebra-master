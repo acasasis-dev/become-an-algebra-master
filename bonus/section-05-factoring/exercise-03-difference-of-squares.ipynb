{
 "cells": [
  {
   "cell_type": "markdown",
   "id": "6eb2b15e",
   "metadata": {},
   "source": [
    "## Exercise 3: Difference of Squares"
   ]
  },
  {
   "cell_type": "markdown",
   "id": "5e9a8433",
   "metadata": {},
   "source": [
    "> 1. Factor the expression.\n",
    "\n",
    "\\begin{gather*}\n",
    "    4y^2 - 36 \\\\ \\\\\n",
    "\\end{gather*}"
   ]
  },
  {
   "cell_type": "markdown",
   "id": "f0e98be2",
   "metadata": {},
   "source": [
    "> 2. What went wrong when the polynomial was factored?\n",
    "\n",
    "\\begin{gather*}\n",
    "    9a^4 - 25b^2 \\\\\n",
    "    (9a^2 - 25b)(9a^2 + 25b) \\\\\n",
    "\\end{gather*}"
   ]
  },
  {
   "cell_type": "markdown",
   "id": "fd7d2421",
   "metadata": {},
   "source": [
    "> 3. Factor the expression.\n",
    "\n",
    "\\begin{gather*}\n",
    "    49x^6y^2 - 36z^4 \\\\ \\\\\n",
    "\\end{gather*}"
   ]
  },
  {
   "cell_type": "markdown",
   "id": "ad94373e",
   "metadata": {},
   "source": [
    "> 4. Fill in the blank with the correct term.\n",
    "\n",
    "\\begin{gather*}\n",
    "    \\_\\_\\_ - 25y^2 = (2xz^2 - 5y)(2xz^2 + 5y) \\\\\n",
    "\\end{gather*}"
   ]
  },
  {
   "cell_type": "markdown",
   "id": "17b2dd26",
   "metadata": {},
   "source": [
    "> 5. Factor the expression.\n",
    "\n",
    "\\begin{gather*}\n",
    "    2x^2 - 288 \\\\ \\\\\n",
    "\\end{gather*}"
   ]
  },
  {
   "cell_type": "markdown",
   "id": "d030b2af",
   "metadata": {},
   "source": [
    "> 6. Factor the expression.\n",
    "\n",
    "\\begin{gather*}\n",
    "    5a^3 - 20ab^2 \\\\ \\\\\n",
    "\\end{gather*}"
   ]
  }
 ],
 "metadata": {
  "language_info": {
   "name": "python"
  }
 },
 "nbformat": 4,
 "nbformat_minor": 5
}
