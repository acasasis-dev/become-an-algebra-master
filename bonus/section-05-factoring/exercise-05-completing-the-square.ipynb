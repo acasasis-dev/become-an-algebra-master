{
 "cells": [
  {
   "cell_type": "markdown",
   "id": "0b991afe",
   "metadata": {},
   "source": [
    "## Exercise 5: Completing The Square"
   ]
  },
  {
   "cell_type": "markdown",
   "id": "a7d52d05",
   "metadata": {},
   "source": [
    "> 1. Solve for $x$ by completing the square.\n",
    "\n",
    "\\begin{gather*}\n",
    "    x^2 - 6x + 5 = 0 \\\\ \\\\\n",
    "\\end{gather*}"
   ]
  },
  {
   "cell_type": "markdown",
   "id": "28b5f7fd",
   "metadata": {},
   "source": [
    "> 2. Fill in the blank with the correct term.\n",
    "\n",
    "\\begin{gather*}\n",
    "    x^2 + \\_\\_\\_ + \\frac{9}{4} = -2 + \\frac{9}{4} \\\\ \\\\\n",
    "\\end{gather*}"
   ]
  },
  {
   "cell_type": "markdown",
   "id": "c9db9452",
   "metadata": {},
   "source": [
    "> 3. Complete the square but don’t solve for the roots.\n",
    "\n",
    "\\begin{gather*}\n",
    "    y^2 - 4y + 1 = 0 \\\\ \\\\\n",
    "\\end{gather*}"
   ]
  },
  {
   "cell_type": "markdown",
   "id": "be6c63b1",
   "metadata": {},
   "source": [
    "> 4. Solve for $y$ by completing the square.\n",
    "\n",
    "\\begin{gather*}\n",
    "    y^2 + 3y = 1 \\\\ \\\\\n",
    "\\end{gather*}"
   ]
  },
  {
   "cell_type": "markdown",
   "id": "40b2e8f7",
   "metadata": {},
   "source": [
    "> 5. Solve for $x$ by completing the square.\n",
    "\n",
    "\\begin{gather*}\n",
    "    x^2 + 6x + 11 = 0 \\\\ \\\\\n",
    "\\end{gather*}"
   ]
  },
  {
   "cell_type": "markdown",
   "id": "5021a338",
   "metadata": {},
   "source": [
    "> 6. Solve for $x$ by completing the square.\n",
    "\n",
    "\\begin{gather*}\n",
    "    2x^2 + 8x + 35 = 0 \\\\ \\\\\n",
    "\\end{gather*}"
   ]
  }
 ],
 "metadata": {
  "language_info": {
   "name": "python"
  }
 },
 "nbformat": 4,
 "nbformat_minor": 5
}
