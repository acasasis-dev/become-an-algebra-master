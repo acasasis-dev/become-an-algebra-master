{
 "cells": [
  {
   "cell_type": "markdown",
   "id": "5064b1bf",
   "metadata": {},
   "source": [
    "## Exercise 6: Quadratic Formula"
   ]
  },
  {
   "cell_type": "markdown",
   "id": "c0edf9fe",
   "metadata": {},
   "source": [
    "> 1. Write the quadratic formula for the following quadratic equation.\n",
    "\n",
    "\\begin{gather*}\n",
    "    x^2 - 5x - 24 = 0 \\\\ \\\\\n",
    "\n",
    "    x = \\frac{-b \\pm \\sqrt{b^2 - 4ac}}{2a} \\\\\n",
    "    x = \\frac{-(-5) \\pm \\sqrt{(-5)^2 - 4(1)(-24)}}{2(1)} \\\\\n",
    "    x = \\frac{5 \\pm \\sqrt{25 - 4(-24)}}{2} \\\\\n",
    "    x = \\frac{5 \\pm \\sqrt{25 - (-96)}}{2} \\\\\n",
    "    x = \\frac{5 \\pm \\sqrt{25 + 96}}{2} \\\\\n",
    "    x = \\frac{5 \\pm \\sqrt{121}}{2} \\\\\n",
    "    x = \\frac{5 \\pm 11}{2} \\\\\n",
    "    \\boxed{x = 8, -3}\n",
    "\\end{gather*}"
   ]
  },
  {
   "cell_type": "markdown",
   "id": "eacddf79",
   "metadata": {},
   "source": [
    "> 2. What went wrong in the way the quadratic formula was applied?\n",
    "\n",
    "\\begin{gather*}\n",
    "    3x^2 - 5x + 10 = 0 \\\\\n",
    "    x = \\frac{-5 \\pm \\sqrt{(-5)^2 - 4(3)(10)}}{2(3)} \\\\\n",
    "\\end{gather*}\n",
    "\n",
    "The first $-5$ should be enclosed in parenthesis and should be $-(-5)$ which results to $5$ instead."
   ]
  },
  {
   "cell_type": "markdown",
   "id": "2bf112e7",
   "metadata": {},
   "source": [
    "> 3. Solve for z using the quadratic formula.\n",
    "\n",
    "\\begin{gather*}\n",
    "    z^2 = z + 3 \\\\ \\\\\n",
    "\n",
    "    z^2 - z - 3 = 0 \\\\\n",
    "    x = \\frac{-b \\pm \\sqrt{b^2 - 4ac}}{2a} \\\\\n",
    "    x = \\frac{-(-1) \\pm \\sqrt{(-1)^2 - 4(1)(-3)}}{2(1)} \\\\\n",
    "    x = \\frac{1 \\pm \\sqrt{1 - 4(-3)}}{2} \\\\\n",
    "    x = \\frac{1 \\pm \\sqrt{1 - (-12)}}{2} \\\\\n",
    "    x = \\frac{1 \\pm \\sqrt{1 + 12}}{2} \\\\\n",
    "    \\boxed{x = \\frac{1 \\pm \\sqrt{13}}{2}}\n",
    "\\end{gather*}"
   ]
  },
  {
   "cell_type": "markdown",
   "id": "9219f003",
   "metadata": {},
   "source": [
    "> 4. Fill in the blank with the correct term if the quadratic formula below was built from the quadratic equation.\n",
    "\n",
    "\\begin{gather*}\n",
    "    \\_\\_x^2 + 3x - 5 = 0 \\\\\n",
    "    x = \\frac{-3 \\pm \\sqrt{3^2 - 4(-2)(-5)}}{2(-2)}\n",
    "\\end{gather*}\n",
    "\n",
    "Missing value is $-2$."
   ]
  },
  {
   "cell_type": "markdown",
   "id": "12d03b10",
   "metadata": {},
   "source": [
    "> 5. What went wrong if the quadratic formula below was built from the quadratic equation?\n",
    "\n",
    "\\begin{gather*}\n",
    "    x^2 + 2x = 7 \\\\\n",
    "    x = \\frac{-2 \\pm \\sqrt{2^2 - 4(1)(7)}}{2(1)} \\\\\n",
    "\\end{gather*}\n",
    "\n",
    "Value of $c$ in $4ac$ should be $-7$."
   ]
  },
  {
   "cell_type": "markdown",
   "id": "2cab8e89",
   "metadata": {},
   "source": [
    "> 6. Solve for $t$ using the quadratic formula.\n",
    "\n",
    "\\begin{gather*}\n",
    "    4t^2 - 1 = -8t \\\\ \\\\\n",
    "\n",
    "    4t^2 + 8t - 1 = 0 \\\\\n",
    "    x = \\frac{-b \\pm \\sqrt{b^2 - 4ac}}{2a} \\\\\n",
    "    x = \\frac{-(8) \\pm \\sqrt{(8)^2 - 4(4)(-1)}}{2(4)} \\\\\n",
    "    x = \\frac{-8 \\pm \\sqrt{64 - 16(-1)}}{8} \\\\\n",
    "    x = \\frac{-8 \\pm \\sqrt{64 - (-16)}}{8} \\\\\n",
    "    x = \\frac{-8 \\pm \\sqrt{64 + 16}}{8} \\\\\n",
    "    x = \\frac{-8 \\pm \\sqrt{64 + 16}}{8} \\\\\n",
    "    x = \\frac{-8 \\pm \\sqrt{80}}{8} \\\\\n",
    "    x = \\frac{-8 \\pm \\sqrt{16}\\sqrt{5}}{8} \\\\\n",
    "    x = \\frac{-8 \\pm 4\\sqrt{5}}{8} \\\\\n",
    "    \\boxed{x = \\frac{-2\\pm \\sqrt{5}}{2}}\n",
    "\\end{gather*}"
   ]
  }
 ],
 "metadata": {
  "language_info": {
   "name": "python"
  }
 },
 "nbformat": 4,
 "nbformat_minor": 5
}
