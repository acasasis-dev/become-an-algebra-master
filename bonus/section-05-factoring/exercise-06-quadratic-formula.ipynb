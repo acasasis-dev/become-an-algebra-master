{
 "cells": [
  {
   "cell_type": "markdown",
   "id": "5064b1bf",
   "metadata": {},
   "source": [
    "## Exercise 6: Quadratic Formula"
   ]
  },
  {
   "cell_type": "markdown",
   "id": "c0edf9fe",
   "metadata": {},
   "source": [
    "> 1. Write the quadratic formula for the following quadratic equation.\n",
    "\n",
    "\\begin{gather*}\n",
    "    x^2 - 5x - 24 = 0 \\\\ \\\\\n",
    "\\end{gather*}"
   ]
  },
  {
   "cell_type": "markdown",
   "id": "eacddf79",
   "metadata": {},
   "source": [
    "> 2. What went wrong in the way the quadratic formula was applied?\n",
    "\n",
    "\\begin{gather*}\n",
    "    3x^2 - 5x + 10 = 0 \\\\\n",
    "    x = \\frac{-5 \\pm \\sqrt{(-5)^2 - 4(3)(10)}}{2(3)} \\\\\n",
    "\\end{gather*}"
   ]
  },
  {
   "cell_type": "markdown",
   "id": "2bf112e7",
   "metadata": {},
   "source": [
    "> 3. Solve for z using the quadratic formula.\n",
    "\n",
    "\\begin{gather*}\n",
    "    z^2 = z + 3 \\\\\n",
    "\\end{gather*}"
   ]
  },
  {
   "cell_type": "markdown",
   "id": "9219f003",
   "metadata": {},
   "source": [
    "> 4. Fill in the blank with the correct term if the quadratic formula below was built from the quadratic equation.\n",
    "\n",
    "\\begin{gather*}\n",
    "    \\_\\_x^2 + 3x - 5 = 0 \\\\\n",
    "    x = \\frac{-3 \\pm \\sqrt{3^2 - 4(-2)(-5)}}{2(-2)}\n",
    "\\end{gather*}"
   ]
  },
  {
   "cell_type": "markdown",
   "id": "12d03b10",
   "metadata": {},
   "source": [
    "> 5. What went wrong if the quadratic formula below was built from the quadratic equation?\n",
    "\n",
    "\\begin{gather*}\n",
    "    x^2 + 2x = 7 \\\\\n",
    "    x = \\frac{-2 \\pm \\sqrt{2^2 - 4(1)(7)}}{2(1)} \\\\\n",
    "\\end{gather*}"
   ]
  },
  {
   "cell_type": "markdown",
   "id": "2cab8e89",
   "metadata": {},
   "source": [
    "> 6. Solve for $t$ using the quadratic formula.\n",
    "\n",
    "\\begin{gather*}\n",
    "    4t^2 - 1 = -8t \\\\\n",
    "\\end{gather*}"
   ]
  }
 ],
 "metadata": {
  "language_info": {
   "name": "python"
  }
 },
 "nbformat": 4,
 "nbformat_minor": 5
}
