{
 "cells": [
  {
   "cell_type": "markdown",
   "id": "288b10a3",
   "metadata": {},
   "source": [
    "## Exercise 2: Quadratic Polynomials"
   ]
  },
  {
   "cell_type": "markdown",
   "id": "20029a44",
   "metadata": {},
   "source": [
    "> 1. Factor the quadratic expression.\n",
    "\n",
    "\\begin{gather*}\n",
    "    2x^2 + 2x - 12 \\\\ \\\\\n",
    "\\end{gather*}"
   ]
  },
  {
   "cell_type": "markdown",
   "id": "96fdcfac",
   "metadata": {},
   "source": [
    "> 2. What went wrong when the polynomial was factored?\n",
    "\n",
    "\\begin{gather*}\n",
    "    x^2 - 4x + 3 \\\\\n",
    "    (x - 3)(x + 1) \\\\\n",
    "\\end{gather*}"
   ]
  },
  {
   "cell_type": "markdown",
   "id": "f6c55a72",
   "metadata": {},
   "source": [
    "> 3. Factor the quadratic expression.\n",
    "\n",
    "\\begin{gather*}\n",
    "    x^2 + 3x - 28 \\\\ \\\\\n",
    "\\end{gather*}"
   ]
  },
  {
   "cell_type": "markdown",
   "id": "be7886f0",
   "metadata": {},
   "source": [
    "> 4. Factor the quadratic expression.\n",
    "\n",
    "\\begin{gather*}\n",
    "    x^2 - 9x + 18 \\\\ \\\\\n",
    "\\end{gather*}"
   ]
  },
  {
   "cell_type": "markdown",
   "id": "e79c6d5d",
   "metadata": {},
   "source": [
    "> 5. Fill in the blank with the correct term.\n",
    "\n",
    "\\begin{gather*}\n",
    "    5x^2 - 40x + 60 = \\_\\_\\_(x - 2)(x - \\_\\_\\_) \\\\ \\\\\n",
    "\\end{gather*}"
   ]
  },
  {
   "cell_type": "markdown",
   "id": "9374d583",
   "metadata": {},
   "source": [
    "> 6. Factor the quadratic expression.\n",
    "\n",
    "\\begin{gather*}\n",
    "    x^2 - x - 2 \\\\ \\\\\n",
    "\\end{gather*}"
   ]
  }
 ],
 "metadata": {
  "language_info": {
   "name": "python"
  }
 },
 "nbformat": 4,
 "nbformat_minor": 5
}
