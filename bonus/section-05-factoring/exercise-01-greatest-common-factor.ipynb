{
 "cells": [
  {
   "cell_type": "markdown",
   "id": "1818aac4",
   "metadata": {},
   "source": [
    "## Exercise 1: Greatest Common Factor"
   ]
  },
  {
   "cell_type": "markdown",
   "id": "73089c2d",
   "metadata": {},
   "source": [
    "> 1. Factor out the greatest common factor.\n",
    "\n",
    "\\begin{gather*}\n",
    "    3x^2y^3 + 12x^3y^2 - 9x^4y^4 \\\\ \\\\\n",
    "\\end{gather*}"
   ]
  },
  {
   "cell_type": "markdown",
   "id": "7727cf5b",
   "metadata": {},
   "source": [
    "> 2. Factor the polynomial in the numerator and simplify the resulting expression. Fill in the blank with the correct term.\n",
    "\n",
    "\\begin{gather*}\n",
    "    \\frac{3x^3 - 12x}{3x} = x^2 - \\_\\_\\_ \\\\ \\\\\n",
    "\\end{gather*}"
   ]
  },
  {
   "cell_type": "markdown",
   "id": "ea1b6fdc",
   "metadata": {},
   "source": [
    "> 3. Factor the expression.\n",
    "\n",
    "\\begin{gather*}\n",
    "    9s^3t^2 + 15s^2t^5 - 24s^5t + 6s^4t^2 \\\\ \\\\\n",
    "\\end{gather*}"
   ]
  },
  {
   "cell_type": "markdown",
   "id": "508ecea8",
   "metadata": {},
   "source": [
    "> 4. What went wrong when the polynomial was factored?\n",
    "\n",
    "\\begin{gather*}\n",
    "    10x^3y^4 - 5x^4y^2 - 20x^6y^3 \\\\\n",
    "    x^3y^2(10y^2 - 5x - 20x^3y) \\\\ \\\\\n",
    "\\end{gather*}"
   ]
  },
  {
   "cell_type": "markdown",
   "id": "5fb394f8",
   "metadata": {},
   "source": [
    "> 5. Factor the polynomial in the numerator and simplify the resulting expression.\n",
    "\n",
    "\\begin{gather*}\n",
    "    \\frac{4x^4 - 8x^3 - 32x^2}{4x^2} \\\\ \\\\\n",
    "\\end{gather*}"
   ]
  },
  {
   "cell_type": "markdown",
   "id": "6f498db2",
   "metadata": {},
   "source": [
    "> 6. Fill in the blank with the correct term.\n",
    "\n",
    "\\begin{gather*}\n",
    "    4a^3b - 10ab^2 + \\_\\_\\_ = 2ab(2a^2 - 5b + 3a^2b^2) \\\\ \\\\\n",
    "\\end{gather*}"
   ]
  }
 ],
 "metadata": {
  "language_info": {
   "name": "python"
  }
 },
 "nbformat": 4,
 "nbformat_minor": 5
}
