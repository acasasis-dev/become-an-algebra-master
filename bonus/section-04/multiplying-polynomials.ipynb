{
 "cells": [
  {
   "cell_type": "markdown",
   "id": "af34fc4e",
   "metadata": {},
   "source": [
    "## Multiplying Polynomials"
   ]
  },
  {
   "cell_type": "markdown",
   "id": "6b864103",
   "metadata": {},
   "source": [
    "> 1. Use the Distributive Property to expand the expression.\n",
    "\n",
    "\\begin{gather*}\n",
    "    \\frac{1}{2}(6x + 4)(x - 1) \\\\ \\\\\n",
    "\\end{gather*}"
   ]
  },
  {
   "cell_type": "markdown",
   "id": "fa27189c",
   "metadata": {},
   "source": [
    "> 2. What should we put in place of the “??” to make the expression true?\n",
    "\n",
    "\\begin{gather*}\n",
    "    (2x + 1)(5 - x) = ?? + 10x - x + 5 \\\\ \\\\\n",
    "\\end{gather*} "
   ]
  },
  {
   "cell_type": "markdown",
   "id": "83786787",
   "metadata": {},
   "source": [
    "> 3. What went wrong in this set of steps?\n",
    "\n",
    "\\begin{gather*}\n",
    "    (a - b)^2 \\\\\n",
    "    a^2 - 4 \\\\\n",
    "\\end{gather*}"
   ]
  },
  {
   "cell_type": "markdown",
   "id": "bf2636f9",
   "metadata": {},
   "source": [
    "> 4. Use the Distributive Property to expand the expression.\n",
    "\n",
    "\\begin{gather*}\n",
    "    4(2 - x)(3 + 2x) \\\\ \\\\\n",
    "\\end{gather*}"
   ]
  },
  {
   "cell_type": "markdown",
   "id": "94cdf042",
   "metadata": {},
   "source": [
    "> 5. Fill in the blank.\n",
    "\n",
    "\\begin{gather*}\n",
    "    (3 - a)(5 + a) = 15 + \\_\\_\\_ - a^2 \\\\ \\\\\n",
    "\\end{gather*}"
   ]
  },
  {
   "cell_type": "markdown",
   "id": "5ae1e345",
   "metadata": {},
   "source": [
    "> 6. Expand the expression.\n",
    "\n",
    "\\begin{gather*}\n",
    "    (x^2 - 3)(2 - x) \\\\ \\\\\n",
    "\\end{gather*}"
   ]
  }
 ],
 "metadata": {
  "language_info": {
   "name": "python"
  }
 },
 "nbformat": 4,
 "nbformat_minor": 5
}
