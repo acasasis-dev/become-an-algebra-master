{
 "cells": [
  {
   "cell_type": "markdown",
   "id": "355dcce7",
   "metadata": {},
   "source": [
    "## Exercise 1: Cartesian Coordinate System"
   ]
  },
  {
   "cell_type": "markdown",
   "id": "bf109e6f",
   "metadata": {},
   "source": [
    "> 1. Graph the point $(−2,3)$ in the Cartesian plane."
   ]
  },
  {
   "cell_type": "markdown",
   "id": "4d4b1902",
   "metadata": {},
   "source": [
    "> 2. In which quadrant should we plot the point $(1,6)$?"
   ]
  },
  {
   "cell_type": "markdown",
   "id": "2d85f556",
   "metadata": {},
   "source": [
    "> 3. What is the $y$-coordinate of any point that lies on the $x$-axis? Give an example of a coordinate point that lies on the $x$-axis."
   ]
  },
  {
   "cell_type": "markdown",
   "id": "3c856b11",
   "metadata": {},
   "source": [
    "> 4. Graph the point $(−1, − 5)$ in the Cartesian plane."
   ]
  },
  {
   "cell_type": "markdown",
   "id": "fd506971",
   "metadata": {},
   "source": [
    "> 5. In which quadrant should we plot $(3, − 7)$?"
   ]
  },
  {
   "cell_type": "markdown",
   "id": "adc4757f",
   "metadata": {},
   "source": [
    "> 6. What is the $x$-coordinate of any point that lies on the $y$-axis? Give an example of a coordinate point that lies on the $y$-axis."
   ]
  }
 ],
 "metadata": {
  "language_info": {
   "name": "python"
  }
 },
 "nbformat": 4,
 "nbformat_minor": 5
}
