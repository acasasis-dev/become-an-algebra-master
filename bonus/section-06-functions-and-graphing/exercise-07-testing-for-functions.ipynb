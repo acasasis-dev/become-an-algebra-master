{
 "cells": [
  {
   "cell_type": "markdown",
   "id": "274d26bb",
   "metadata": {},
   "source": [
    "## Exercise 7: Testing For Functions"
   ]
  },
  {
   "cell_type": "markdown",
   "id": "cd96572b",
   "metadata": {},
   "source": [
    "> 1. Determine whether or not the point set represents a function.\n",
    "\n",
    "\\begin{gather*}\n",
    "    (2, -1), (-1, 0), (0, -1), (3, 2) \\\\ \\\\\n",
    "\\end{gather*}"
   ]
  },
  {
   "cell_type": "markdown",
   "id": "6d6fcec9",
   "metadata": {},
   "source": [
    "> 2. Fill in the blanks in the definition of a function.\n",
    "\n",
    "For every _____, there is only one unique ______."
   ]
  },
  {
   "cell_type": "markdown",
   "id": "b1f93ae3",
   "metadata": {},
   "source": [
    "> 3. Determine whether or not the point set represents a function.\n",
    "\n",
    "\\begin{gather*}\n",
    "    (1, 2), (-1, 5), (1, -3), (0, 1) \\\\ \\\\\n",
    "\\end{gather*}"
   ]
  },
  {
   "attachments": {
    "image.png": {
     "image/png": "[encoded data removed]"
    }
   },
   "cell_type": "markdown",
   "id": "1aabdcb2",
   "metadata": {},
   "source": [
    "> 4. Determine wheter the mapping represents a function.\n",
    "\n",
    "![image.png](attachment:image.png)"
   ]
  },
  {
   "cell_type": "markdown",
   "id": "eb4e9028",
   "metadata": {},
   "source": [
    "> 5. Determine algebraically whether or not the equation represents a function.\n",
    "\n",
    "\\begin{gather*}\n",
    "    (x - 1)^2 + y = 3 \\\\ \\\\\n",
    "\\end{gather*}"
   ]
  },
  {
   "cell_type": "markdown",
   "id": "9c3ffcf9",
   "metadata": {},
   "source": [
    "> 6. Determine algebraically whether or not the equation represents a function.\n",
    "\n",
    "\\begin{gather*}\n",
    "    y^2 = x + 1 \\\\ \\\\\n",
    "\\end{gather*}"
   ]
  }
 ],
 "metadata": {
  "language_info": {
   "name": "python"
  }
 },
 "nbformat": 4,
 "nbformat_minor": 5
}
