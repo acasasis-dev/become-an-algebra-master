{
 "cells": [
  {
   "cell_type": "markdown",
   "id": "5250bd47",
   "metadata": {},
   "source": [
    "## Exercise 4: Graphing Linear Equations"
   ]
  },
  {
   "cell_type": "markdown",
   "id": "a72e719f",
   "metadata": {},
   "source": [
    "> 1. Graph the line.\n",
    "\n",
    "\\begin{gather*}\n",
    "    y = \\frac{4}{3}x - 1\n",
    "\\end{gather*}"
   ]
  },
  {
   "cell_type": "markdown",
   "id": "f32d785c",
   "metadata": {},
   "source": [
    "> 2. Describe how we would use the slope to find another point on the line if the slope is $m = \\frac{2}{3}$ and the line passes through $(x1, y1) = (−1,2)$."
   ]
  },
  {
   "cell_type": "markdown",
   "id": "6c41d53f",
   "metadata": {},
   "source": [
    "> 3. Graph the line.\n",
    "\n",
    "\\begin{gather*}\n",
    "    y + 2 = -3x + 1 \\\\\n",
    "\\end{gather*}"
   ]
  },
  {
   "cell_type": "markdown",
   "id": "d7fa618a",
   "metadata": {},
   "source": [
    "> 4. Use the slope $m = \\frac{1}{3}$ to find two more points on the line passing\n",
    "through $(1,2)$. Move right to determine one point and left to determine\n",
    "another."
   ]
  },
  {
   "cell_type": "markdown",
   "id": "8104051d",
   "metadata": {},
   "source": [
    "> 5. Graph the line.\n",
    "\n",
    "\\begin{gather*}\n",
    "    y = -2(3x + 1) \\\\\n",
    "\\end{gather*}"
   ]
  },
  {
   "cell_type": "markdown",
   "id": "9aeddcef",
   "metadata": {},
   "source": [
    "> 6. Give two points that lie on the line, find the slope, and graph the line.\n",
    "\n",
    "\\begin{gather*}\n",
    "    y + 3 = -\\frac{1}{2}(4x + 10) \\\\\n",
    "\\end{gather*}"
   ]
  }
 ],
 "metadata": {
  "language_info": {
   "name": "python"
  }
 },
 "nbformat": 4,
 "nbformat_minor": 5
}
