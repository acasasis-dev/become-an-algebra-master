{
 "cells": [
  {
   "cell_type": "markdown",
   "id": "dabcb83c",
   "metadata": {},
   "source": [
    "## Point-Slope and Slope-Intercept Forms of a Line"
   ]
  },
  {
   "cell_type": "markdown",
   "id": "a8fed68d",
   "metadata": {},
   "source": [
    "> 1. Find the equation of the line that passes through $(3,0)$ with slope $−2$."
   ]
  },
  {
   "cell_type": "markdown",
   "id": "a24eb156",
   "metadata": {},
   "source": [
    "> 2. Find the equation of the line that passes through the points $(−2,3)$ and $(2, − 4)$."
   ]
  },
  {
   "cell_type": "markdown",
   "id": "5f30ef15",
   "metadata": {},
   "source": [
    "> 3. Find the equation of the line that passes through the points $(5, − 4)$ and $(6,0)$."
   ]
  },
  {
   "cell_type": "markdown",
   "id": "bf680c18",
   "metadata": {},
   "source": [
    "> 4. Identify the y-intercept and slope m defining the line.\n",
    "\n",
    "\\begin{gather*}\n",
    "    y = -\\frac{1}{4}(x + 12) \\\\ \\\\\n",
    "\\end{gather*}"
   ]
  },
  {
   "cell_type": "markdown",
   "id": "30469b25",
   "metadata": {},
   "source": [
    "> 5. Convert the point-slope equation into a slope-intercept equation.\n",
    "\n",
    "\\begin{gather*}\n",
    "    y - 3 = \\frac{1}{3}(x - 6) \\\\ \\\\\n",
    "\\end{gather*}"
   ]
  },
  {
   "cell_type": "markdown",
   "id": "50e1265b",
   "metadata": {},
   "source": [
    "> 6. Find the equation of a line that passes through the points $(1, − 1)$ and $(0,3)$. Write the solution in slope-intercept form."
   ]
  }
 ],
 "metadata": {
  "language_info": {
   "name": "python"
  }
 },
 "nbformat": 4,
 "nbformat_minor": 5
}
