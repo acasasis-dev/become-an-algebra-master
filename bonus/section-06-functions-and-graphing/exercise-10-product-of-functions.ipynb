{
 "cells": [
  {
   "cell_type": "markdown",
   "id": "8a1cf3bb",
   "metadata": {},
   "source": [
    "## Exercise 10: Product of Functions"
   ]
  },
  {
   "cell_type": "markdown",
   "id": "a6a5a33f",
   "metadata": {},
   "source": [
    "> 1. Find and simplify $(ab)(x)$ if $a(x) = x + 3$ and $b(x) = 5x − 4$."
   ]
  },
  {
   "cell_type": "markdown",
   "id": "5ddda490",
   "metadata": {},
   "source": [
    "> 2. Find $(fg)(−1)$ if $f(x) = x^2 + 3$ and $g(x) = x − 5$."
   ]
  },
  {
   "cell_type": "markdown",
   "id": "c9a058ef",
   "metadata": {},
   "source": [
    "> 3. If $g(0) = − 2$ and $(gh)(0) = − 14$, find $h(0)$."
   ]
  },
  {
   "cell_type": "markdown",
   "id": "8858aae2",
   "metadata": {},
   "source": [
    "> 4. Given the expanded expression, determine $f(x)$ and $g(x)$.\n",
    "\n",
    "\\begin{gather*}\n",
    "    (gf)(x) = x^2(x − 7) − x(x − 7) + 5(x − 7)\n",
    "\\end{gather*}"
   ]
  },
  {
   "cell_type": "markdown",
   "id": "e3478268",
   "metadata": {},
   "source": [
    "> 5. Find $(fh)(5)$ if $f(x) = − x2 + 2x$ and $h(x) = 2x + 7$."
   ]
  },
  {
   "cell_type": "markdown",
   "id": "ae5b2c9a",
   "metadata": {},
   "source": [
    "> 6. Find and simplify $(gh)(x)$ if $g(x) = x2 + 1$ and $h(x) = 2x^2 + 3$."
   ]
  }
 ],
 "metadata": {
  "language_info": {
   "name": "python"
  }
 },
 "nbformat": 4,
 "nbformat_minor": 5
}
