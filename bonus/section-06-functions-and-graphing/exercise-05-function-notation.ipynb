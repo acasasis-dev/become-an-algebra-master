{
 "cells": [
  {
   "cell_type": "markdown",
   "id": "fdb772ac",
   "metadata": {},
   "source": [
    "## Exercise 5: Function Notation"
   ]
  },
  {
   "cell_type": "markdown",
   "id": "7e564979",
   "metadata": {},
   "source": [
    "> 1. Find and simplify $f(x + 1)$ if $f(x) = 4x − 5$."
   ]
  },
  {
   "cell_type": "markdown",
   "id": "cd89dc94",
   "metadata": {},
   "source": [
    "> 2. What went wrong in this set of steps?\n",
    "\n",
    "\\begin{gather*}\n",
    "    \\text{Evaluate } f(x) = x^2 \\text{ at } x = -2 \\\\\n",
    "    f(-2) = -2^2 + 1 \\\\\n",
    "    f(-2) = -4 + 1 \\\\\n",
    "    f(-2) = -3 \\\\\n",
    "\\end{gather*}"
   ]
  },
  {
   "cell_type": "markdown",
   "id": "ab007ff9",
   "metadata": {},
   "source": [
    "> 3. Find and simplify $h(s^2)$ if $h(s) = −s^2 + 3s − 1$."
   ]
  },
  {
   "cell_type": "markdown",
   "id": "530779e8",
   "metadata": {},
   "source": [
    "> 4. If $g(x) = x3 − x + 1$, what do we need to plug into the function in order\n",
    "to get the following expression?\n",
    "\n",
    "\\begin{gather*}\n",
    "    g(??) = (2x + 1)^3 - (2x + 1) + 1 \\\\\n",
    "\\end{gather*}\n"
   ]
  },
  {
   "cell_type": "markdown",
   "id": "24b3ccc4",
   "metadata": {},
   "source": [
    "> 5. Find the value of the expression if $f(x) = x^2 + x − 1$.\n",
    "\n",
    "\\begin{gather*}\n",
    "    \\frac{f(x + h) - f(x)}{h} \\\\\n",
    "\\end{gather*}\n"
   ]
  },
  {
   "cell_type": "markdown",
   "id": "eb9219a3",
   "metadata": {},
   "source": [
    "> 6. What went wrong in this set of steps?\n",
    "\n",
    "\\begin{gather*}\n",
    "    \\text{Find } f(1) \\text{ if } f(x) = x^3 + 3x^2 - 5x + 2. \\\\\n",
    "    f(1) = 1^3 + 3(1)^2 - 5(1) + 2 \\\\\n",
    "    f(1) = 1 + 9 - 5 + 2 \\\\\n",
    "    f(1) = 7\n",
    "\\end{gather*}"
   ]
  }
 ],
 "metadata": {
  "language_info": {
   "name": "python"
  }
 },
 "nbformat": 4,
 "nbformat_minor": 5
}
