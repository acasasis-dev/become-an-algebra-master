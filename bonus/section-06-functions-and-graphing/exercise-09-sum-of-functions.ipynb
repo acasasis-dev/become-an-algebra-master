{
 "cells": [
  {
   "cell_type": "markdown",
   "id": "3f22e500",
   "metadata": {},
   "source": [
    "## Exercise 9: Sum of Functions"
   ]
  },
  {
   "cell_type": "markdown",
   "id": "3822a905",
   "metadata": {},
   "source": [
    "> 1. Find $(f + h)(−1)$ if $f(x) = x^2 + 1$ and $h(x) = 2x − 2$.\n",
    "\n",
    "\\begin{gather*}\n",
    "    f(x) = x^2 + 1 \\\\\n",
    "    f(-1) = (-1)^2 + 1 \\\\\n",
    "    f(-1) = 1 + 1 \\\\\n",
    "    f(-1) = 2 \\\\ \\\\\n",
    "\n",
    "    h(x) = 2x − 2 \\\\\n",
    "    h(-1) = 2(-1) - 2 \\\\\n",
    "    h(-1) = -2 - 2 \\\\\n",
    "    h(-1) = -4 \\\\ \\\\\n",
    "\n",
    "    (f + h)(-1) = f(-1) + h(-1) \\\\\n",
    "    (f + h)(-1) = 2 + (-4) \\\\\n",
    "    (f + h)(-1) = 2 - 4 \\\\\n",
    "    \\boxed{(f + h)(-1) = -2}\n",
    "\\end{gather*}"
   ]
  },
  {
   "cell_type": "markdown",
   "id": "c90b1e39",
   "metadata": {},
   "source": [
    "> 2. Find and simplify $(h + g)(x)$ if $g(x) = x^2 + 3x − 1$ and $h(x) = −2x^2 + 4x − 5$.\n",
    "\n",
    "\\begin{gather*}\n",
    "    (h + g)(x) = g(x) + h(x) \\\\\n",
    "    (h + g)(x) = (x^2 + 3x − 1) + (−2x^2 + 4x − 5) \\\\\n",
    "    (h + g)(x) = x^2 + 3x − 1 − 2x^2 + 4x − 5 \\\\\n",
    "    \\boxed{(h + g)(x) = -x^2 + 7x - 6} \\\\\n",
    "\\end{gather*}\n"
   ]
  },
  {
   "cell_type": "markdown",
   "id": "670a3bde",
   "metadata": {},
   "source": [
    "> 3. If $f(−2) = 6$, $g(−2) = − 3$, and $h(−2) = 4$, find $(f + g + h)(−2)$.\n",
    "\n",
    "\\begin{gather*}\n",
    "    (f + g + h)(−2) = f(-2) + g(-2) + h(-2) \\\\\n",
    "    (f + g + h)(−2) = 6 + (-3) + 4 \\\\\n",
    "    (f + g + h)(−2) = 6 - 3 + 4 \\\\\n",
    "    \\boxed{(f + g + h)(−2) = 7}\n",
    "\\end{gather*}"
   ]
  },
  {
   "cell_type": "markdown",
   "id": "04e5ea94",
   "metadata": {},
   "source": [
    "> 4. Find $f(x)$ and $g(x)$.\n",
    "\n",
    "\\begin{gather*}\n",
    "    (f + g)(x) = (−x^2 + 3x + 2) + (x − 7) \\\\ \\\\\n",
    "\n",
    "    f(x) = −x^2 + 3x + 2 \\\\\n",
    "    g(x) = x − 7\n",
    "\\end{gather*}"
   ]
  },
  {
   "cell_type": "markdown",
   "id": "cff40b71",
   "metadata": {},
   "source": [
    "> 5. Let $a(x) = x^3 − x^2 + x − 1$ and $b(x) = −x^3 + x^2 + x − 1$. Determine the value\n",
    "of $(a + b)(−1)$.\n",
    "\n",
    "\\begin{gather*}\n",
    "    a(x) = x^3 − x^2 + x − 1 \\\\\n",
    "    a(-1) = (-1)^3 - (-1)^2 + (-1) - 1 \\\\\n",
    "    a(-1) = -1 - 1 - 1 - 1 \\\\\n",
    "    a(-1) = -4 \\\\ \\\\\n",
    "\n",
    "    b(x) = −x^3 + x^2 + x − 1 \\\\\n",
    "    b(-1) = -(-1)^3 + (-1)^2 + (-1) - 1 \\\\\n",
    "    b(-1) = 1 + 1 - 1 - 1 \\\\\n",
    "    b(-1) = 0 \\\\ \\\\\n",
    "\n",
    "    (a + b)(−1) = -4 + 0 \\\\\n",
    "    \\boxed{(a + b)(−1) = -4}\n",
    "\\end{gather*}"
   ]
  },
  {
   "cell_type": "markdown",
   "id": "c1a983f9",
   "metadata": {},
   "source": [
    "> 6. If $f(0) = 3$ and $(f + g)(0) = 8$, find $g(0)$.\n",
    "\n",
    "\\begin{gather*}\n",
    "    (f + g)(0) = 8 \\\\\n",
    "    f(0) + g(0) = 8 \\\\\n",
    "    3 + g(0) = 8 \\\\\n",
    "    g(0) = 8 - 3 \\\\\n",
    "    \\boxed{g(0) = 5}\n",
    "\\end{gather*}"
   ]
  }
 ],
 "metadata": {
  "language_info": {
   "name": "python"
  }
 },
 "nbformat": 4,
 "nbformat_minor": 5
}
