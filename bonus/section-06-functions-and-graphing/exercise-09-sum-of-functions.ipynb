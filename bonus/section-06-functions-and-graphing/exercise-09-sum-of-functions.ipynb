{
 "cells": [
  {
   "cell_type": "markdown",
   "id": "3f22e500",
   "metadata": {},
   "source": [
    "## Exercise 9: Sum of Functions"
   ]
  },
  {
   "cell_type": "markdown",
   "id": "3822a905",
   "metadata": {},
   "source": [
    "> 1. Find $(f + h)(−1)$ if $f(x) = x^2 + 1$ and $h(x) = 2x − 2$."
   ]
  },
  {
   "cell_type": "markdown",
   "id": "c90b1e39",
   "metadata": {},
   "source": [
    "> 2. Find and simplify $(h + g)(x)$ if $g(x) = x^2 + 3x − 1$ and $h(x) = − 2x^2 + 4x − 5$."
   ]
  },
  {
   "cell_type": "markdown",
   "id": "670a3bde",
   "metadata": {},
   "source": [
    "> 3. If $f(−2) = 6$, $g(−2) = − 3$, and $h(−2) = 4$, find $(f + g + h)(−2)$."
   ]
  },
  {
   "cell_type": "markdown",
   "id": "04e5ea94",
   "metadata": {},
   "source": [
    "> 4. Find $f(x)$ and $g(x)$.\n",
    "\n",
    "\\begin{gather*}\n",
    "    (f + g)(x) = (−x^2 + 3x + 2) + (x − 7) \\\\ \\\\\n",
    "\\end{gather*}"
   ]
  },
  {
   "cell_type": "markdown",
   "id": "cff40b71",
   "metadata": {},
   "source": [
    "> 5. Let $a(x) = x^3 − x^2 + x − 1$ and $b(x) = −x^3 + x^2 + x − 1$. Determine the value\n",
    "of $(a + b)(−1)$."
   ]
  },
  {
   "cell_type": "markdown",
   "id": "c1a983f9",
   "metadata": {},
   "source": [
    "> 6. If $f(0) = 3$ and $(f + g)(0) = 8$, find $g(0)$."
   ]
  }
 ],
 "metadata": {
  "language_info": {
   "name": "python"
  }
 },
 "nbformat": 4,
 "nbformat_minor": 5
}
