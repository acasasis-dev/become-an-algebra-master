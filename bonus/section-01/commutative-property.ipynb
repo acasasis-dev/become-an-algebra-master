{
 "cells": [
  {
   "cell_type": "markdown",
   "id": "63f9d8c3",
   "metadata": {},
   "source": [
    "## Commutative Property"
   ]
  },
  {
   "cell_type": "markdown",
   "id": "da5a7344",
   "metadata": {},
   "source": [
    "> 1. Using the Commutative Property, rewrite $6 + 19$ and then simplify."
   ]
  },
  {
   "cell_type": "markdown",
   "id": "8b990004",
   "metadata": {},
   "source": [
    "> 2. Give an example of an expression that demonstrates the Commutative Property of Multiplication."
   ]
  },
  {
   "cell_type": "markdown",
   "id": "1234c924",
   "metadata": {},
   "source": [
    "> 3. According to the Commutative Property, what's the value of the variable in the equation?\n",
    "\n",
    "\\begin{gather*}\n",
    "    11 + (23 + 6) = 11 + (6 + x) \\\\ \\\\\n",
    "\\end{gather*}"
   ]
  },
  {
   "cell_type": "markdown",
   "id": "c42fc724",
   "metadata": {},
   "source": [
    "> 4. Rearrange $(3 + 6) + 2$ using the Commutative Property and then the Associative Property."
   ]
  },
  {
   "cell_type": "markdown",
   "id": "f00d1ee9",
   "metadata": {},
   "source": [
    "> 5. Give an example of an expression that demonstrates the Commutative Property of Addition."
   ]
  },
  {
   "cell_type": "markdown",
   "id": "a6bae1da",
   "metadata": {},
   "source": [
    "> 6. According to the Commutative Property, what's the value of the variable of the equation?\n",
    "\n",
    "\\begin{gather*}\n",
    "    (4 \\times 2) \\times 9 = (x \\times 9) \\times 4 \\\\ \\\\\n",
    "\\end{gather*}"
   ]
  }
 ],
 "metadata": {
  "language_info": {
   "name": "python"
  }
 },
 "nbformat": 4,
 "nbformat_minor": 5
}
