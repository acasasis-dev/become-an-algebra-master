{
 "cells": [
  {
   "cell_type": "markdown",
   "id": "b93e1c2d",
   "metadata": {},
   "source": [
    "## Identifying Multiplication"
   ]
  },
  {
   "cell_type": "markdown",
   "id": "829c7230",
   "metadata": {},
   "source": [
    "> 1. Give three different examples of how we can write \"`a` times `b`\" mathematically."
   ]
  },
  {
   "cell_type": "markdown",
   "id": "424db3a1",
   "metadata": {},
   "source": [
    "> 2. Simplify the expression.\n",
    "\n",
    "\\begin{gather*}\n",
    "    5(2 \\cdot 3) \\times (1)(a) \\\\ \\\\\n",
    "\\end{gather*}"
   ]
  },
  {
   "cell_type": "markdown",
   "id": "08cfb436",
   "metadata": {},
   "source": [
    "> 3. Find the value of the expression.\n",
    "\n",
    "\\begin{gather*}\n",
    "    4 \\times 3(1)(2 \\cdot 1) \\\\ \\\\\n",
    "\\end{gather*}"
   ]
  },
  {
   "cell_type": "markdown",
   "id": "93bab1fc",
   "metadata": {},
   "source": [
    "> 4. Find the value of the expression.\n",
    "\n",
    "\\begin{gather*}\n",
    "    2(4)(3 \\cdot 4) \\times (5)(2) \\\\ \\\\\n",
    "\\end{gather*}"
   ]
  },
  {
   "cell_type": "markdown",
   "id": "0dceeb1d",
   "metadata": {},
   "source": [
    "> 5. Why do we have different ways to write multiplication?"
   ]
  },
  {
   "cell_type": "markdown",
   "id": "fcfa0c50",
   "metadata": {},
   "source": [
    "> 6. Simplify the expression.\n",
    "\n",
    "\\begin{gather*}\n",
    "    (-3)(2) \\times 4 \\cdot (-2)(2 \\cdot 1) \\\\ \\\\\n",
    "\\end{gather*}"
   ]
  }
 ],
 "metadata": {
  "language_info": {
   "name": "python"
  }
 },
 "nbformat": 4,
 "nbformat_minor": 5
}
