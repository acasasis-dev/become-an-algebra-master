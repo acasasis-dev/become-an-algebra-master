{
 "cells": [
  {
   "cell_type": "markdown",
   "id": "b7134a07",
   "metadata": {},
   "source": [
    "## Distributive Property with Fractions"
   ]
  },
  {
   "cell_type": "markdown",
   "id": "2c94641e",
   "metadata": {},
   "source": [
    "> 1. Use the Distributive Property to expand the expression.\n",
    "\n",
    "\\begin{gather*}\n",
    "    -\\frac{x^2z}{y^3}(\\frac{y^2}{2} - \\frac{xz^3}{z^2}) \\\\ \\\\\n",
    "\n",
    "    -\\frac{x^2z \\cdot y^2}{y^3 \\cdot 2} + \\frac{x^2z \\cdot xz^3}{y^3 \\cdot z^2} \\\\\n",
    "    -\\frac{x^2y^2z}{2y^3} + \\frac{x^{2 + 1}z^{1 + 3}}{y^3z^2} \\\\\n",
    "    -\\frac{x^2y^2z}{2y^3} + \\frac{x^3z^4}{y^3z^2} \\\\\n",
    "    -\\frac{x^2y^{2 - 3}z}{2} + x^3y^{0 - 3}z^{4 - 2} \\\\\n",
    "    -\\frac{x^2y^{-1}z}{2} + x^3y^{-3}z^2 \\\\\n",
    "    \\boxed{-\\frac{x^2z}{2y} + \\frac{x^3z^2}{y^3}}\n",
    "\\end{gather*}"
   ]
  },
  {
   "cell_type": "markdown",
   "id": "f4e8914b",
   "metadata": {},
   "source": [
    "> 2. Fill in the blanks.\n",
    "\n",
    "“When we’re distributing fractions, we multiply the numerator of\n",
    "the coefficient by the _________ of the terms inside the\n",
    "parentheses, and we multiply the denominator of the coefficient by\n",
    "the _________ of the terms inside the parentheses.”\n",
    "\n",
    "numerators, denominators"
   ]
  },
  {
   "cell_type": "markdown",
   "id": "1a2213be",
   "metadata": {},
   "source": [
    "> 3. Use the Distributive Property to expand the expression.\n",
    "\n",
    "\\begin{gather*}\n",
    "    \\frac{2}{3}(\\frac{x}{2} - 6) \\\\ \\\\\n",
    "\n",
    "    \\frac{2 \\cdot x}{3 \\cdot 2} - \\frac{2 \\cdot 6}{3 \\cdot 1} \\\\\n",
    "    \\frac{2x}{6} - \\frac{12}{3} \\\\\n",
    "    \\frac{2x}{6} - 4 \\\\\n",
    "    \\frac{2x}{6} - \\frac{24}{6} \\\\\n",
    "    \\frac{2x - 24}{6} \\\\\n",
    "    \\frac{x - 12}{3} \\\\\n",
    "    \\boxed{\\frac{x}{3} - 4}\n",
    "\\end{gather*}"
   ]
  },
  {
   "cell_type": "markdown",
   "id": "f395a733",
   "metadata": {},
   "source": [
    "> 4. Explain why the two sides of the equation aren’t equal to one another.\n",
    "\n",
    "\\begin{gather*}\n",
    "    \\frac{3}{2}(\\frac{x}{5} - \\frac{y}{2}) \\ne \\frac{3x}{10} - \\frac{y}{2} \\\\ \\\\\n",
    "\n",
    "    \\frac{3 \\cdot x}{2 \\cdot 5} - \\frac{3 \\cdot y}{2 \\cdot 2} \\ne \\frac{3x}{10} - \\frac{y}{2} \\\\\n",
    "    \\boxed{\\frac{3x}{10} - \\frac{3y}{4} \\ne \\frac{3x}{10} - \\frac{y}{2}}\n",
    "\\end{gather*}"
   ]
  },
  {
   "cell_type": "markdown",
   "id": "dd8b6e14",
   "metadata": {},
   "source": [
    "> 5. What missing value would make the equation true?\n",
    "\n",
    "\\begin{gather*}\n",
    "    \\frac{2ab}{c^2}(\\frac{3ac}{b} + a^2c^2) = \\frac{6a^2}{c} + ?? \\\\ \\\\\n",
    "\n",
    "    \\frac{2ab \\cdot 3ac}{c^2 \\cdot b} + \\frac{2ab \\cdot a^2c^2}{c^2 \\cdot 1} = \\frac{6a^2}{c} + ?? \\\\\n",
    "    \\frac{6a^{1 + 1}bc}{bc^2} + \\frac{2a^{1 + 2}bc^2}{c^2} = \\frac{6a^2}{c} + ?? \\\\\n",
    "    \\frac{6a^2bc}{bc^2} + \\frac{2a^3bc^2}{c^2} = \\frac{6a^2}{c} + ?? \\\\\n",
    "    \\frac{6a^2bc}{bc^2} + \\frac{2a^3bc^2}{c^2} - \\frac{6a^2}{c} = \\ ?? \\\\\n",
    "    \\frac{6a^2bc}{bc^2} + b(\\frac{2a^3bc^2}{c^2}) - bc(\\frac{6a^2}{c}) = \\ ?? \\\\\n",
    "    \\frac{6a^2bc}{bc^2} + \\frac{2a^3b^{1 + 1}c^2}{bc^2} - \\frac{6a^2bc}{bc^2} = \\ ?? \\\\\n",
    "    \\frac{6a^2bc + 2a^3b^2c^2 - 6a^2bc}{bc^2} = \\ ?? \\\\\n",
    "    \\frac{2a^3b^2c^2}{bc^2} = \\ ?? \\\\\n",
    "    2a^3b^{2 - 1}c^{2 - 2} = \\ ?? \\\\\n",
    "    \\boxed{?? = 2a^3b}\n",
    "\\end{gather*}"
   ]
  },
  {
   "cell_type": "markdown",
   "id": "1f64b4f4",
   "metadata": {},
   "source": [
    "> 6. Use the Distributive Property to show that the equation is true.\n",
    "\n",
    "\\begin{gather*}\n",
    "    \\frac{x^2}{3z}(\\frac{2x}{z} + y^2) = \\frac{2x^3}{3z^2} + \\frac{x^2y^2}{3z} \\\\ \\\\\n",
    "\n",
    "    \\frac{x^2 \\cdot 2x}{3z \\cdot z} + \\frac{x^2 \\cdot y^2}{3z \\cdot 1} = \\frac{2x^3}{3z^2} + \\frac{x^2y^2}{3z} \\\\\n",
    "    \\boxed{\\frac{2x^3}{3z^2} + \\frac{x^2y^2}{3z} = \\frac{2x^3}{3z^2} + \\frac{x^2y^2}{3z}}\n",
    "\\end{gather*}"
   ]
  }
 ],
 "metadata": {
  "language_info": {
   "name": "python"
  }
 },
 "nbformat": 4,
 "nbformat_minor": 5
}
