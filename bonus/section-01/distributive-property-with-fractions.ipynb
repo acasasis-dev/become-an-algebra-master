{
 "cells": [
  {
   "cell_type": "markdown",
   "id": "b7134a07",
   "metadata": {},
   "source": [
    "## Distributive Property with Fractions"
   ]
  },
  {
   "cell_type": "markdown",
   "id": "2c94641e",
   "metadata": {},
   "source": [
    "> 1. Use the Distributive Property to expand the expression.\n",
    "\n",
    "\\begin{gather*}\n",
    "    -\\frac{x^2z}{y^3}(\\frac{y^2}{2} - \\frac{xz^3}{z^2}) \\\\ \\\\\n",
    "\\end{gather*}"
   ]
  },
  {
   "cell_type": "markdown",
   "id": "f4e8914b",
   "metadata": {},
   "source": [
    "> 2. Fill in the blanks.\n",
    "\n",
    "“When we’re distributing fractions, we multiply the numerator of\n",
    "the coefficient by the _________ of the terms inside the\n",
    "parentheses, and we multiply the denominator of the coefficient by\n",
    "the _________ of the terms inside the parentheses.”"
   ]
  },
  {
   "cell_type": "markdown",
   "id": "1a2213be",
   "metadata": {},
   "source": [
    "> 3. Use the Distributive Property to expand the expression.\n",
    "\n",
    "\\begin{gather*}\n",
    "    \\frac{2}{3}(\\frac{x}{2} - 6)\n",
    "\\end{gather*}"
   ]
  },
  {
   "cell_type": "markdown",
   "id": "f395a733",
   "metadata": {},
   "source": [
    "> 4. Explain why the two sides of the equation aren’t equal to one another.\n",
    "\n",
    "\\begin{gather*}\n",
    "    \\frac{3}{2}(\\frac{x}{5} - \\frac{y}{2}) \\ne \\frac{3x}{10} - \\frac{y}{2} \\\\ \\\\\n",
    "\\end{gather*}"
   ]
  },
  {
   "cell_type": "markdown",
   "id": "dd8b6e14",
   "metadata": {},
   "source": [
    "> 5. What missing value would make the equation true?\n",
    "\n",
    "\\begin{gather*}\n",
    "    \\frac{2ab}{c^2}(\\frac{3ac}{b} + a^2c^2) = \\frac{6a^2}{c} + ?? \\\\ \\\\\n",
    "\\end{gather*}"
   ]
  },
  {
   "cell_type": "markdown",
   "id": "1f64b4f4",
   "metadata": {},
   "source": [
    "> 6. Use the Distributive Property to show that the equation is true.\n",
    "\n",
    "\\begin{gather*}\n",
    "    \\frac{x^2}{3z}(\\frac{2x}{z} + y^2) = \\frac{2x^3}{3z^2} + \\frac{x^2y^2}{3z} \\\\ \\\\\n",
    "\\end{gather*}"
   ]
  }
 ],
 "metadata": {
  "language_info": {
   "name": "python"
  }
 },
 "nbformat": 4,
 "nbformat_minor": 5
}
