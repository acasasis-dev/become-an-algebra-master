{
 "cells": [
  {
   "cell_type": "markdown",
   "id": "96dec607",
   "metadata": {},
   "source": [
    "## Associative Property"
   ]
  },
  {
   "cell_type": "markdown",
   "id": "6d1ab237",
   "metadata": {},
   "source": [
    "> 1. Give an example of an expression that demonstrates the Associative Property of Multiplication.\n",
    "\n",
    "\\begin{gather*}\n",
    "    a(bc) = (ab)c \\\\\n",
    "    ab(xy) = (ab)xy \\\\\n",
    "\\end{gather*}"
   ]
  },
  {
   "cell_type": "markdown",
   "id": "6d18263b",
   "metadata": {},
   "source": [
    "> 2. Using the Associative Property, rewrite and simplify $2 \\times (3 \\times 4)$.\n",
    "\n",
    "\\begin{gather*}\n",
    "    2 \\times (3 \\times 4) \\\\\n",
    "    \\boxed{2 \\times (3 \\times 4) = (2 \\times 3) \\times 4}\n",
    "\\end{gather*}"
   ]
  },
  {
   "cell_type": "markdown",
   "id": "9d87051b",
   "metadata": {},
   "source": [
    "> 3. According to the Associative Property, what number would make the most sense in the place of the variable?\n",
    "\n",
    "\\begin{gather*}\n",
    "    42 + (31 + 17) = (42 + x) + 17 \\\\ \\\\\n",
    "\n",
    "    42 + (31 + 17) = (42 + \\boxed{31}) + 17 \\\\\n",
    "    \\boxed{31}\n",
    "\\end{gather*}"
   ]
  },
  {
   "cell_type": "markdown",
   "id": "1832c3fe",
   "metadata": {},
   "source": [
    "> 4. Rearrange $(3 + 6) + 2$ using the Associative Property, then simplify.\n",
    "\n",
    "\\begin{gather*}\n",
    "    (3 + 6) + 2 \\\\\n",
    "    (3 + 6) + 2 = 3 + (6 + 2) \\\\\n",
    "    9 + 2 = 3 + 8 \\\\\n",
    "    \\boxed{11 = 11}\n",
    "\\end{gather*}"
   ]
  },
  {
   "cell_type": "markdown",
   "id": "2b85e305",
   "metadata": {},
   "source": [
    "> 5. Give an example of an expression that demonstrates the Associative Property of Addition.\n",
    "\n",
    "\\begin{gather*}\n",
    "    a + (b + c) = (a + b) + c \\\\\n",
    "    (x + y) + z = x + (y + z) \\\\\n",
    "\\end{gather*}"
   ]
  },
  {
   "cell_type": "markdown",
   "id": "b6ee55c6",
   "metadata": {},
   "source": [
    "> 6. According to the Associative Property, what number would make the most sense in the place of the variable?\n",
    "\n",
    "\\begin{gather*}\n",
    "    (4 \\times 2) \\times 9 = x \\times (2 \\times 9) \\\\ \\\\\n",
    "\n",
    "    (4 \\times 2) \\times 9 = \\boxed{4} \\times (2 \\times 9) \\\\\n",
    "    \\boxed{4}\n",
    "\\end{gather*}"
   ]
  }
 ],
 "metadata": {
  "language_info": {
   "name": "python"
  }
 },
 "nbformat": 4,
 "nbformat_minor": 5
}
