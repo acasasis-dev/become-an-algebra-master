{
 "cells": [
  {
   "cell_type": "markdown",
   "id": "96bff2ed",
   "metadata": {},
   "source": [
    "## PEMDAS and Order of Operations"
   ]
  },
  {
   "cell_type": "markdown",
   "id": "3ef901ed",
   "metadata": {},
   "source": [
    "> 1. Simplify the expression.\n",
    "\n",
    "\\begin{gather*}\n",
    "    \\sqrt{2(5 - 3)} - |3[6 - 7]| \\\\ \\\\\n",
    "\n",
    "    \\sqrt{2(2)} - |3[-1]| \\\\\n",
    "    \\sqrt{4} - |-3| \\\\\n",
    "    2 - 3 \\\\\n",
    "    \\boxed{-1}\n",
    "\\end{gather*}"
   ]
  },
  {
   "cell_type": "markdown",
   "id": "a442562c",
   "metadata": {},
   "source": [
    "> 2. Using PEMDAS, evaluate each expression separately to show that they are not equal.\n",
    "\n",
    "\\begin{gather*}\n",
    "    4 \\times (3 - 1) - (4 \\div 2 + 2) \\\\\n",
    "    (4 \\times 3 - 1) - 4 \\div (2 + 2) \\\\ \\\\\n",
    "\n",
    "    4 \\times (3 - 1) - (4 \\div 2 + 2) \\\\\n",
    "    4 \\times (2) - (2 + 2) \\\\\n",
    "    4 \\times (2) - 4 \\\\\n",
    "    8 - 4 \\\\\n",
    "    \\boxed{4} \\\\ \\\\\n",
    "\n",
    "    (4 \\times 3 - 1) - 4 \\div (2 + 2) \\\\\n",
    "    (12 - 1) - 4 \\div 4 \\\\\n",
    "    11 - 4 \\div 4 \\\\\n",
    "    11 - 1 \\\\\n",
    "    \\boxed{10} \\\\ \\\\\n",
    "\n",
    "    \\boxed{4 \\ne 10}\n",
    "\\end{gather*}"
   ]
  },
  {
   "cell_type": "markdown",
   "id": "dad73941",
   "metadata": {},
   "source": [
    "> 3. Use order of operations to simplify the expression.\n",
    "\n",
    "\\begin{gather*}\n",
    "    (10 - [(-1)^2 + 1 - 6 \\div 6])^{\\frac{1}{2}} + 4 \\div 2 \\\\ \\\\\n",
    "    \n",
    "    \\sqrt{10 - [(-1)^2 + 1 - 6 \\div 6]} + 4 \\div 2 \\\\\n",
    "    \\sqrt{10 - [1 + 1 - 1]} + 2 \\\\\n",
    "    \\sqrt{10 - 1} + 2 \\\\\n",
    "    \\sqrt{9} + 2 \\\\\n",
    "    3 + 2 \\\\\n",
    "    \\boxed{5}\n",
    "\\end{gather*}"
   ]
  },
  {
   "cell_type": "markdown",
   "id": "df19ca32",
   "metadata": {},
   "source": [
    "> 4. Use order of operations to simplify the expression.\n",
    "\n",
    "\\begin{gather*}\n",
    "    3 - [(-2)^2x + (3 - 7)] \\\\ \\\\\n",
    "\n",
    "    3 - [4x + -4] \\\\\n",
    "    3 - 4x + 4 \\\\\n",
    "    \\boxed{-4x - 7}\n",
    "\\end{gather*}"
   ]
  },
  {
   "cell_type": "markdown",
   "id": "3b327ace",
   "metadata": {},
   "source": [
    "> 5. Using order of operations, explain why $9 + 6 \\div 3 \\ne 5$\n",
    "\n",
    "\\begin{gather*}\n",
    "    9 + 6 \\div 3 \\ne 5 \\\\ \\\\\n",
    "\n",
    "    9 + 2 \\ne 5 \\\\\n",
    "    \\boxed{11 \\ne 5}\n",
    "\\end{gather*}"
   ]
  },
  {
   "cell_type": "markdown",
   "id": "a7a4c292",
   "metadata": {},
   "source": [
    "> 6. Use order of operations to simplify the expression.\n",
    "\n",
    "\\begin{gather*}\n",
    "    \\frac{-2 + 3 - 10 \\cdot 2 \\cdot [(5 - 4) + 2]}{2} \\\\ \\\\\n",
    "\n",
    "    \\frac{-2 + 3 - 10 \\cdot 2 \\cdot [1 + 2]}{2} \\\\\n",
    "    \\frac{-2 + 3 - 10 \\cdot 2 \\cdot 3}{2} \\\\\n",
    "    \\frac{-2 + 3 - 20 \\cdot 3}{2} \\\\\n",
    "    \\frac{-2 + 3 - 60}{2} \\\\\n",
    "    \\frac{1 - 60}{2} \\\\\n",
    "    \\boxed{-\\frac{59}{2}}\n",
    "\\end{gather*}"
   ]
  }
 ],
 "metadata": {
  "language_info": {
   "name": "python"
  }
 },
 "nbformat": 4,
 "nbformat_minor": 5
}
