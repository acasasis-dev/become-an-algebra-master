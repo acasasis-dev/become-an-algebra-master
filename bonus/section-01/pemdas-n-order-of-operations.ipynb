{
 "cells": [
  {
   "cell_type": "markdown",
   "id": "96bff2ed",
   "metadata": {},
   "source": [
    "## PEMDAS and Order of Operations"
   ]
  },
  {
   "cell_type": "markdown",
   "id": "3ef901ed",
   "metadata": {},
   "source": [
    "> 1. Simplify the expression.\n",
    "\n",
    "\\begin{gather*}\n",
    "    \\sqrt{2(5 - 3)} - |3[6 - 7]| \\\\ \\\\\n",
    "\\end{gather*}"
   ]
  },
  {
   "cell_type": "markdown",
   "id": "a442562c",
   "metadata": {},
   "source": [
    "> 2. Using PEMDAS, evaluate each expression separately to show that they are not equal.\n",
    "\n",
    "\\begin{gather*}\n",
    "    4 \\times (3 - 1) - (4 \\div 2 + 2) \\\\\n",
    "    (4 \\times 3 - 1) - 4 \\div (2 + 2) \\\\ \\\\\n",
    "\\end{gather*}"
   ]
  },
  {
   "cell_type": "markdown",
   "id": "dad73941",
   "metadata": {},
   "source": [
    "> 3. Use order of operations to simplify the expression.\n",
    "\n",
    "\\begin{gather*}\n",
    "    (10 - [(-1)^2 + 1 - 6 \\div 6])^{\\frac{1}{2}} + 4 \\div 2 \\\\ \\\\\n",
    "\\end{gather*}"
   ]
  },
  {
   "cell_type": "markdown",
   "id": "df19ca32",
   "metadata": {},
   "source": [
    "> 4. Use order of operations to simplify the expression.\n",
    "\n",
    "\\begin{gather*}\n",
    "    3 - [(-2)^2x + (3 - 7)] \\\\ \\\\\n",
    "\\end{gather*}"
   ]
  },
  {
   "cell_type": "markdown",
   "id": "3b327ace",
   "metadata": {},
   "source": [
    "> 5. Using order of operations, explain why $9 + 6 \\div 3 \\ne 5$"
   ]
  },
  {
   "cell_type": "markdown",
   "id": "a7a4c292",
   "metadata": {},
   "source": [
    "> 6. Use order of operations to simplify the expression.\n",
    "\n",
    "\\begin{gather*}\n",
    "    \\frac{-2 + 3 - 10 \\cdot 2 \\cdot [(5 - 4) + 2]}{2} \\\\ \\\\\n",
    "\\end{gather*}"
   ]
  }
 ],
 "metadata": {
  "language_info": {
   "name": "python"
  }
 },
 "nbformat": 4,
 "nbformat_minor": 5
}
