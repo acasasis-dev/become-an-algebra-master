{
 "cells": [
  {
   "cell_type": "markdown",
   "id": "597cb8e6",
   "metadata": {},
   "source": [
    "## Adding and Subtracting Like Terms"
   ]
  },
  {
   "cell_type": "markdown",
   "id": "348730ee",
   "metadata": {},
   "source": [
    "> 1. Give an example of like terms that can be added."
   ]
  },
  {
   "cell_type": "markdown",
   "id": "01c954fd",
   "metadata": {},
   "source": [
    "> 2. Simplify the expression.\n",
    "\n",
    "\\begin{gather*}\n",
    "    -x + 6x - 8x + 3x \\\\ \\\\\n",
    "\\end{gather*}"
   ]
  },
  {
   "cell_type": "markdown",
   "id": "7390b70e",
   "metadata": {},
   "source": [
    "> 3. What stays the same when adding or subtracting like terms?"
   ]
  },
  {
   "cell_type": "markdown",
   "id": "b4cc0c86",
   "metadata": {},
   "source": [
    "> 4. Simplify the expression.\n",
    "\n",
    "\\begin{gather*}\n",
    "    x + 2x^2 - y - 5x^2 + 7y - 4x \\\\ \\\\\n",
    "\\end{gather*}"
   ]
  },
  {
   "cell_type": "markdown",
   "id": "da67d556",
   "metadata": {},
   "source": [
    "> 5. Simplify the expression.\n",
    "\n",
    "\\begin{gather*}\n",
    "    \\frac{1}{3}x - 5x^2 + \\frac{1}{2}x^2 - x - y \\\\ \\\\\n",
    "\\end{gather*}    "
   ]
  },
  {
   "cell_type": "markdown",
   "id": "74513f2b",
   "metadata": {},
   "source": [
    "> 6. Simplify the expression.\n",
    "\n",
    "\\begin{gather*}\n",
    "    2a^2b - 5ab - 3ab^2 + a^2b + 4ab \\\\ \\\\\n",
    "\\end{gather*}"
   ]
  }
 ],
 "metadata": {
  "language_info": {
   "name": "python"
  }
 },
 "nbformat": 4,
 "nbformat_minor": 5
}
