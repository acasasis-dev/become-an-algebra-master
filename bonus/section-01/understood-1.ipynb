{
 "cells": [
  {
   "cell_type": "markdown",
   "id": "ec7062ed",
   "metadata": {},
   "source": [
    "## Understood 1"
   ]
  },
  {
   "cell_type": "markdown",
   "id": "415e5d03",
   "metadata": {},
   "source": [
    "> 1. What happens when we multiply something by $1$?"
   ]
  },
  {
   "cell_type": "markdown",
   "id": "d3d5a516",
   "metadata": {},
   "source": [
    "> 2. Simplify the expression.\n",
    "\n",
    "\\begin{gather*}\n",
    "    \\frac{1x^1}{1(1)^1} + \\frac{1}{1(1x)} - 1^1 \\\\ \\\\\n",
    "\\end{gather*}"
   ]
  },
  {
   "cell_type": "markdown",
   "id": "d32ab597",
   "metadata": {},
   "source": [
    "> 3. What value of $x$ makes the equation true?\n",
    "\n",
    "\\begin{gather*}\n",
    "    1(2^1) - \\frac{1}{1(1)^1} + \\frac{x^1}{1 \\times 1} = 4 \\\\ \\\\\n",
    "\\end{gather*}"
   ]
  },
  {
   "cell_type": "markdown",
   "id": "c51337c9",
   "metadata": {},
   "source": [
    "> 4. Simplify the expression by removing any \"understood 1s.\"\n",
    "\n",
    "\\begin{gather*}\n",
    "    \\frac{x^1}{4x^3} + \\frac{5x^4}{1x} \\\\ \\\\\n",
    "\\end{gather*}    "
   ]
  },
  {
   "cell_type": "markdown",
   "id": "83d4514e",
   "metadata": {},
   "source": [
    "> 5. What happens when we divide something by $1$?"
   ]
  },
  {
   "cell_type": "markdown",
   "id": "d0d6ce04",
   "metadata": {},
   "source": [
    "> 6. Simplify the expression by removing any \"understood 1s.\"\n",
    "\n",
    "\\begin{gather*}\n",
    "    \\frac{x}{1^1} \\cdot \\frac{x^2 + 1(1)}{5x^2} \\\\ \\\\\n",
    "\\end{gather*}"
   ]
  }
 ],
 "metadata": {
  "language_info": {
   "name": "python"
  }
 },
 "nbformat": 4,
 "nbformat_minor": 5
}
