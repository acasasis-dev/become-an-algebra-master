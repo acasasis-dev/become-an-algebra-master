{
 "cells": [
  {
   "cell_type": "markdown",
   "id": "ec7062ed",
   "metadata": {},
   "source": [
    "## Understood 1"
   ]
  },
  {
   "cell_type": "markdown",
   "id": "415e5d03",
   "metadata": {},
   "source": [
    "> 1. What happens when we multiply something by $1$?\n",
    "\n",
    "Product will be the same something that we multipled by $1$"
   ]
  },
  {
   "cell_type": "markdown",
   "id": "d3d5a516",
   "metadata": {},
   "source": [
    "> 2. Simplify the expression.\n",
    "\n",
    "\\begin{gather*}\n",
    "    \\frac{1x^1}{1(1)^1} + \\frac{1}{1(1x)} - 1^1 \\\\ \\\\\n",
    "\n",
    "    \\frac{x}{1} + \\frac{1}{x} - 1 \\\\\n",
    "    \\boxed{x + \\frac{1}{x} - 1} \\\\\n",
    "\\end{gather*}"
   ]
  },
  {
   "cell_type": "markdown",
   "id": "d32ab597",
   "metadata": {},
   "source": [
    "> 3. What value of $x$ makes the equation true?\n",
    "\n",
    "\\begin{gather*}\n",
    "    1(2^1) - \\frac{1}{1(1)^1} + \\frac{x^1}{1 \\times 1} = 4 \\\\ \\\\\n",
    "\n",
    "    2 - 1 + x = 4 \\\\\n",
    "    1 + x = 4 \\\\\n",
    "    x = 4 - 1 \\\\\n",
    "    \\boxed{x = 3}\n",
    "\\end{gather*}"
   ]
  },
  {
   "cell_type": "markdown",
   "id": "c51337c9",
   "metadata": {},
   "source": [
    "> 4. Simplify the expression by removing any \"understood 1s.\"\n",
    "\n",
    "\\begin{gather*}\n",
    "    \\frac{x^1}{4x^3} + \\frac{5x^4}{1x} \\\\ \\\\\n",
    "\n",
    "    \\frac{x}{4x^3} + \\frac{5x^4}{x} \\\\\n",
    "    \\frac{x}{4x^3} + (\\frac{5x^4}{x})4x^2 \\\\\n",
    "    \\frac{x}{4x^3} + \\frac{20x^6}{4x^3} \\\\\n",
    "    \\boxed{\\frac{20x^6 + x}{4x^3}}\n",
    "\\end{gather*}    "
   ]
  },
  {
   "cell_type": "markdown",
   "id": "83d4514e",
   "metadata": {},
   "source": [
    "> 5. What happens when we divide something by $1$?\n",
    "\n",
    "Quotient will be the same something we divided by $1$"
   ]
  },
  {
   "cell_type": "markdown",
   "id": "d0d6ce04",
   "metadata": {},
   "source": [
    "> 6. Simplify the expression by removing any \"understood 1s.\"\n",
    "\n",
    "\\begin{gather*}\n",
    "    \\frac{x}{1^1} \\cdot \\frac{x^2 + 1(1)}{5x^2} \\\\ \\\\\n",
    "\n",
    "    x \\cdot \\frac{x^2 + 1}{5x^2} \\\\\n",
    "    \\boxed{\\frac{x^3 + x}{5x^2}}\n",
    "\\end{gather*}"
   ]
  }
 ],
 "metadata": {
  "language_info": {
   "name": "python"
  }
 },
 "nbformat": 4,
 "nbformat_minor": 5
}
