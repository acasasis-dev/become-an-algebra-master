{
 "cells": [
  {
   "cell_type": "markdown",
   "id": "720f7238",
   "metadata": {},
   "source": [
    "## BONUS: Variables"
   ]
  },
  {
   "cell_type": "markdown",
   "id": "fcfc2862",
   "metadata": {},
   "source": [
    "> 1. Which value can we identify as the variable in the expression?\n",
    "\n",
    "\\begin{gather*}\n",
    "    3y^2 + ay - 6 = 1 \\\\ \\\\\n",
    "\\end{gather*}"
   ]
  },
  {
   "cell_type": "markdown",
   "id": "9b4036d0",
   "metadata": {},
   "source": [
    "> 2. Identify any constant(s) in the equation.\n",
    "\n",
    "\\begin{gather*}\n",
    "    x^2 - 3x + 2 = 0 \\\\ \\\\\n",
    "\\end{gather*}"
   ]
  },
  {
   "cell_type": "markdown",
   "id": "5f45c698",
   "metadata": {},
   "source": [
    "> 3. How many terms exist in the equation?\n",
    "\n",
    "\\begin{gather*}\n",
    "    x^2 - 3x + 2 = 0 \\\\ \\\\\n",
    "\\end{gather*}"
   ]
  },
  {
   "cell_type": "markdown",
   "id": "423e7a3b",
   "metadata": {},
   "source": [
    "> 4. Identify any coefficient(s) in the expression.\n",
    "\n",
    "\\begin{gather*}\n",
    "    2x^2 + bx - c \\\\ \\\\\n",
    "\\end{gather*}"
   ]
  },
  {
   "cell_type": "markdown",
   "id": "f6976f60",
   "metadata": {},
   "source": [
    "> 5. Which value is the variable representing?\n",
    "\n",
    "\\begin{gather*}\n",
    "    x - 7 = 2 \\\\ \\\\\n",
    "\\end{gather*}"
   ]
  },
  {
   "cell_type": "markdown",
   "id": "89a144fa",
   "metadata": {},
   "source": [
    "> 6. Which value is the variable representing?\n",
    "\n",
    "\\begin{gather*}\n",
    "    y + 3 = 8 \\\\ \\\\\n",
    "\\end{gather*}"
   ]
  }
 ],
 "metadata": {
  "language_info": {
   "name": "python"
  }
 },
 "nbformat": 4,
 "nbformat_minor": 5
}
