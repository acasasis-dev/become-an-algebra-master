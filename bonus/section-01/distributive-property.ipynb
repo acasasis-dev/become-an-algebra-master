{
 "cells": [
  {
   "cell_type": "markdown",
   "id": "52782836",
   "metadata": {},
   "source": [
    "## Distributive Property"
   ]
  },
  {
   "cell_type": "markdown",
   "id": "9cf744f4",
   "metadata": {},
   "source": [
    "> 1. Use the Distributive Property to simplify the expression.\n",
    "\n",
    "\\begin{gather*}\n",
    "    5(x - 2) + \\frac{1}{2}(6 - 2x) \\\\ \\\\\n",
    "\\end{gather*}"
   ]
  },
  {
   "cell_type": "markdown",
   "id": "76a8f73b",
   "metadata": {},
   "source": [
    "> 2. Use the Distributive Property to expand the expression.\n",
    "\n",
    "\\begin{gather*}\n",
    "    -\\frac{2}{5}(10 - 5x) \\\\ \\\\\n",
    "\\end{gather*}"
   ]
  },
  {
   "cell_type": "markdown",
   "id": "e601096c",
   "metadata": {},
   "source": [
    "> 3. Give an example that demonstrates the Distributive Property with subtraction."
   ]
  },
  {
   "cell_type": "markdown",
   "id": "ad8e95e9",
   "metadata": {},
   "source": [
    "> 4. Which three main operations are used in the Distributive Property?"
   ]
  },
  {
   "cell_type": "markdown",
   "id": "39d54115",
   "metadata": {},
   "source": [
    "> 5. Use the Distributive Property to simplify the expression.\n",
    "\n",
    "\\begin{gather*}\n",
    "    2(5 - 3x) - 2(x - 4)\n",
    "\\end{gather*}"
   ]
  },
  {
   "cell_type": "markdown",
   "id": "325210c7",
   "metadata": {},
   "source": [
    "> 6. What value would make the following equation true?\n",
    "\n",
    "\\begin{gather*}\n",
    "    2(x + 3) = ?? + 6\n",
    "\\end{gather*}"
   ]
  }
 ],
 "metadata": {
  "language_info": {
   "name": "python"
  }
 },
 "nbformat": 4,
 "nbformat_minor": 5
}
