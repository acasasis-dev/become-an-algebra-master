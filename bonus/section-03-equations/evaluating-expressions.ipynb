{
 "cells": [
  {
   "cell_type": "markdown",
   "id": "7de908c4",
   "metadata": {},
   "source": [
    "## Evaluating Expressions"
   ]
  },
  {
   "cell_type": "markdown",
   "id": "d4b71135",
   "metadata": {},
   "source": [
    "> 1. Explain what went wrong in the following statement?\n",
    "\n",
    "If $x^2 - x + 1$ when $x = -2$, then $-2^2 - -2 + 1 = -4 + 2 + 1 = -1$.\n",
    "\n",
    "$-2^2$ should be 4 as $-2 \\cdot -2 = 4$"
   ]
  },
  {
   "cell_type": "markdown",
   "id": "76f43f13",
   "metadata": {},
   "source": [
    "> 2. What does it mean to “evaluate an expression”?\n",
    "\n",
    "Get the value of the expression after substituting the variables' values"
   ]
  },
  {
   "cell_type": "markdown",
   "id": "4be7bd05",
   "metadata": {},
   "source": [
    "> 3. Find the value of $y - 2z - 1$ when $y = 4$ and $z = -3$.\n",
    "\n",
    "\\begin{gather*}\n",
    "    (4) - 2(-3) - 1 \\\\\n",
    "    4 - (-6) - 1 \\\\\n",
    "    4 + 6 - 1 \\\\\n",
    "    10 - 1 \\\\\n",
    "    \\boxed{9}\n",
    "\\end{gather*}"
   ]
  },
  {
   "cell_type": "markdown",
   "id": "5705a2c1",
   "metadata": {},
   "source": [
    "> 4. Evaluate the expression when $a = 1$, $b = -3$, and $c = -4$.\n",
    "\n",
    "\\begin{gather*}\n",
    "    \\frac{\\sqrt{b^2 - 4ac}}{2a} \\\\ \\\\\n",
    "\n",
    "    \\frac{\\sqrt{(-3)^2 - 4(1)(-4)}}{2(1)} \\\\\n",
    "    \\frac{\\sqrt{9 - (-16)}}{2} \\\\\n",
    "    \\frac{\\sqrt{9 + 16}}{2} \\\\\n",
    "    \\frac{\\sqrt{25}}{2} \\\\\n",
    "    \\boxed{\\frac{5}{2}}\n",
    "\\end{gather*}"
   ]
  },
  {
   "cell_type": "markdown",
   "id": "2f0c6c77",
   "metadata": {},
   "source": [
    "> 5. Show that $x = -4$ by plugging it into the equation.\n",
    "\n",
    "\\begin{gather*}\n",
    "    x^2 - 4 = -3x \\\\ \\\\\n",
    "\n",
    "    (-4)^2 - 4 = -3(-4) \\\\\n",
    "    16 - 4 = 12 \\\\\n",
    "    \\boxed{12 = 12}\n",
    "\\end{gather*}"
   ]
  },
  {
   "cell_type": "markdown",
   "id": "23b56a7e",
   "metadata": {},
   "source": [
    "> 6. Evaluate the expression when $a = -1$, $b = -2$, and $c = -\\frac{3}{2}$.\n",
    "\n",
    "\\begin{gather*}\n",
    "    \\frac{5a + 1}{3 - 2b + 4c^2a} \\\\ \\\\\n",
    "\n",
    "    \\frac{5(-1) + 1}{3 - 2(-2) + 4(-\\frac{3}{2})^2(-1)} \\\\\n",
    "    \\frac{5(-1) + 1}{3 - 2(-2) + 4(-\\frac{3^2}{2^2})(-1)} \\\\\n",
    "    \\frac{5(-1) + 1}{3 - 2(-2) + 4(\\frac{9}{4})(-1)} \\\\\n",
    "    \\frac{5(-1) + 1}{3 - 2(-2) + (\\frac{36}{4})(-1)} \\\\\n",
    "    \\frac{5(-1) + 1}{3 - 2(-2) + (9)(-1)} \\\\\n",
    "    \\frac{-5 + 1}{3 - (-4) + (-9)} \\\\\n",
    "    \\frac{-4}{3 + 4 - 9} \\\\\n",
    "    \\frac{-4}{7 - 9} \\\\\n",
    "    \\frac{-4}{-2} \\\\\n",
    "    \\boxed{2}\n",
    "\\end{gather*}"
   ]
  }
 ],
 "metadata": {
  "language_info": {
   "name": "python"
  }
 },
 "nbformat": 4,
 "nbformat_minor": 5
}
