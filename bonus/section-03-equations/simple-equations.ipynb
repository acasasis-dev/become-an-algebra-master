{
 "cells": [
  {
   "cell_type": "markdown",
   "id": "e390aba1",
   "metadata": {},
   "source": [
    "## Simple Equations"
   ]
  },
  {
   "cell_type": "markdown",
   "id": "aa19abab",
   "metadata": {},
   "source": [
    "> 1. Solve the equation for $x$.\n",
    "\n",
    "\\begin{gather*}\n",
    "    2x - 5 = 11 \\\\ \\\\\n",
    "\n",
    "    2x = 11 + 5 \\\\\n",
    "    2x = 16 \\\\\n",
    "    \\frac{2x}{2} = \\frac{16}{2} \\\\\n",
    "    \\boxed{x = 8}\n",
    "\\end{gather*}"
   ]
  },
  {
   "cell_type": "markdown",
   "id": "17fc4912",
   "metadata": {},
   "source": [
    "> 2. If $x = 16$, what value of the “??” would make the equation true?\n",
    "\n",
    "\\begin{gather*}\n",
    "    x - ?? = 11 \\\\ \\\\\n",
    "\n",
    "    (16) - ?? = 11 \\\\\n",
    "    16 - 11 = ?? \\\\\n",
    "    \\boxed{?? = 5}\n",
    "\\end{gather*}"
   ]
  },
  {
   "cell_type": "markdown",
   "id": "de89b9f6",
   "metadata": {},
   "source": [
    "> 3. Solve the equation for $x$.\n",
    "\n",
    "\\begin{gather*}\n",
    "    \\frac{x + 1}{3} = 7 \\\\ \\\\\n",
    "\n",
    "    3(\\frac{x + 1}{3}) = (7)3 \\\\\n",
    "    x + 1 = 21 \\\\\n",
    "    x = 21 - 1 \\\\\n",
    "    \\boxed{x = 20}\n",
    "\\end{gather*}"
   ]
  },
  {
   "cell_type": "markdown",
   "id": "6ba1e737",
   "metadata": {},
   "source": [
    "> 4. What went wrong in this set of steps?\n",
    "\n",
    "\\begin{gather*}\n",
    "    2x - 11 = -3 \\\\\n",
    "    2x = 8 \\\\\n",
    "    x = 16 \\\\\n",
    "\\end{gather*}\n",
    "\n",
    "The solver multipled 8 by 2 instead of dividing it by 2"
   ]
  },
  {
   "cell_type": "markdown",
   "id": "1dccbdd3",
   "metadata": {},
   "source": [
    "> 5. What went wrong in this set of steps?\n",
    "\n",
    "\\begin{gather*}\n",
    "    2 - \\frac{1}{3}x = 1 \\\\\n",
    "    -\\frac{1}{3}x = 3 \\\\\n",
    "    x = -9 \\\\\n",
    "\\end{gather*}\n",
    "\n",
    "$-\\frac{1}{3}x$ should be equal to $-1$ as we need to subtract $2$ to both sides to clear $2$ from the left and add $-2$ to the right result $1 - 2$ which should be $-1$ "
   ]
  },
  {
   "cell_type": "markdown",
   "id": "a01c9f6c",
   "metadata": {},
   "source": [
    "> 6. Solve the equation for $x$.\n",
    "\n",
    "\\begin{gather*}\n",
    "    \\frac{1}{4}x + 3 = 5 \\\\ \\\\\n",
    "\n",
    "    \\frac{1}{4}x = 5 - 3 \\\\\n",
    "    \\frac{1}{4}x = 2 \\\\\n",
    "    4(\\frac{1}{4}x = 2) \\\\\n",
    "    \\boxed{x = 8}\n",
    "\\end{gather*}"
   ]
  }
 ],
 "metadata": {
  "language_info": {
   "name": "python"
  }
 },
 "nbformat": 4,
 "nbformat_minor": 5
}
