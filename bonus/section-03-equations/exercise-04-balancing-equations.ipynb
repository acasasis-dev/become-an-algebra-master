{
 "cells": [
  {
   "cell_type": "markdown",
   "id": "fd483e09",
   "metadata": {},
   "source": [
    "## Balancing Equations"
   ]
  },
  {
   "cell_type": "markdown",
   "id": "bdf5596d",
   "metadata": {},
   "source": [
    "> 1. Solve the equation for $x$.\n",
    "\n",
    "\\begin{gather*}\n",
    "    2(-3x + 5) - 1 = -3(1 - 5x) \\\\ \\\\\n",
    "\n",
    "    -6x + 10 - 1 = -3 + 15x \\\\\n",
    "    10 - 1 + 3 = 15x + 6x \\\\\n",
    "    12 = 21x \\\\\n",
    "    \\frac{12 = 21x}{21} \\\\\n",
    "    \\boxed{x = \\frac{12}{21}}\n",
    "\\end{gather*}"
   ]
  },
  {
   "cell_type": "markdown",
   "id": "5c91847d",
   "metadata": {},
   "source": [
    "> 2. Solve the equation for $x$.\n",
    "\n",
    "\\begin{gather*}\n",
    "    x - 2(1 - x) + 5 = 3(2x + 4) - 6 \\\\ \\\\\n",
    "\n",
    "    x - 2 + 2x + 5 = 6x + 12 - 6 \\\\\n",
    "    3x + 3 = 6x + 6 \\\\\n",
    "    3 - 6 = 6x - 3x \\\\\n",
    "    -3 = 3x \\\\\n",
    "    \\frac{-3 = 3x}{3} \\\\\n",
    "    x = -\\frac{3}{3} \\\\\n",
    "    \\boxed{x = -1}\n",
    "\\end{gather*}"
   ]
  },
  {
   "cell_type": "markdown",
   "id": "96f4f117",
   "metadata": {},
   "source": [
    "> 3. If $x = − 2$, solve for $y$.\n",
    "\n",
    "\\begin{gather*}\n",
    "    3x + 2y - 7 = 1 - 5x - y \\\\ \\\\\n",
    "\n",
    "    3x + 2y + y + 5x = 7 + 1 \\\\\n",
    "    8x + 3y = 8 \\\\\n",
    "    8(-2) + 3y = 8 \\\\\n",
    "    -16 + 3y = 8 \\\\\n",
    "    3y = 8 + 16 \\\\\n",
    "    3y = 24 \\\\\n",
    "    \\frac{3y = 24}{3} \\\\\n",
    "    \\boxed{y = 8}\n",
    "\\end{gather*}"
   ]
  },
  {
   "cell_type": "markdown",
   "id": "bfc3b9d9",
   "metadata": {},
   "source": [
    "> 4. Solve for $a$.\n",
    "\n",
    "\\begin{gather*}\n",
    "    7(4a - 3) = -(6a - 5) + 8 \\\\ \\\\\n",
    "\n",
    "    28a - 21 = -6a + 5 + 8 \\\\\n",
    "    28a + 6a = 21 + 5 + 8 \\\\\n",
    "    34a = 34 \\\\\n",
    "    \\frac{34a = 34}{34} \\\\\n",
    "    \\boxed{a = 1}\n",
    "\\end{gather*}"
   ]
  },
  {
   "cell_type": "markdown",
   "id": "165de8d4",
   "metadata": {},
   "source": [
    "> 5. Solve for $a$.\n",
    "\n",
    "\\begin{gather*}\n",
    "    -2(1 - a) + 3(a + 7) = -2 \\\\ \\\\\n",
    "\n",
    "    -2 + 2a + 3a + 7 = -2 \\\\\n",
    "    2a + 3a = 2 - 7 - 2 \\\\\n",
    "    5a = -7 \\\\\n",
    "    \\frac{5a = -7}{5} \\\\\n",
    "    \\boxed{a = -\\frac{7}{5}}\n",
    "\\end{gather*}"
   ]
  },
  {
   "cell_type": "markdown",
   "id": "0569cc17",
   "metadata": {},
   "source": [
    "> 6. What missing number should replace the “??” in order to make the equation true?\n",
    "\n",
    "\\begin{gather*}\n",
    "    -3(x - 5) = 2x - (3 - x) \\\\\n",
    "    ??x + 15 = 3x - 3 \\\\ \\\\\n",
    "\n",
    "    \\boxed{?? = -3}\n",
    "\\end{gather*}"
   ]
  }
 ],
 "metadata": {
  "language_info": {
   "name": "python"
  }
 },
 "nbformat": 4,
 "nbformat_minor": 5
}
