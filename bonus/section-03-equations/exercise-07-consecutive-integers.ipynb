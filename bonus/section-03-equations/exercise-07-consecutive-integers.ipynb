{
 "cells": [
  {
   "cell_type": "markdown",
   "id": "9e8d8d14",
   "metadata": {},
   "source": [
    "## Consecutive Integers"
   ]
  },
  {
   "cell_type": "markdown",
   "id": "aac155f3",
   "metadata": {},
   "source": [
    "> 1. Write the next five consecutive integers following $−4$.\n",
    "\n",
    "$ -4, \\boxed{-3, -2, -1, 0, 1} $"
   ]
  },
  {
   "cell_type": "markdown",
   "id": "d636390f",
   "metadata": {},
   "source": [
    "> 2. Give an example of three consecutive negative integers.\n",
    "\n",
    "$ -9, -8, -7 $"
   ]
  },
  {
   "cell_type": "markdown",
   "id": "acb081cd",
   "metadata": {},
   "source": [
    "> 3. Write the four consecutive integers that precede $-3$.\n",
    "\n",
    "$ \\boxed{-7, -6, -5, -4}, -3 $"
   ]
  },
  {
   "cell_type": "markdown",
   "id": "949ae414",
   "metadata": {},
   "source": [
    "> 4. Find three consecutive integers that sum to $60$.\n",
    "\n",
    "\\begin{gather*}\n",
    "    x + (x + 1) + (x + 2) = 60 \\\\\n",
    "    3x + 3 = 60 \\\\\n",
    "    \\frac{3x + 3 = 60}{3} \\\\\n",
    "    x + 1 = 20 \\\\\n",
    "    x = 20 - 1 \\\\\n",
    "    x = 19 \\\\ \\\\\n",
    "\n",
    "    \\boxed{19, 20, 21}\n",
    "\\end{gather*}"
   ]
  },
  {
   "cell_type": "markdown",
   "id": "67b78162",
   "metadata": {},
   "source": [
    "> 5. Find three consecutive odd integers that sum to $21$.\n",
    "\n",
    "\\begin{gather*}\n",
    "    x + (x + 2) + (x + 4) = 21 \\\\\n",
    "    3x + 6 = 21 \\\\\n",
    "    \\frac{3x + 6 = 21}{3} \\\\\n",
    "    x + 2 = 7 \\\\\n",
    "    x = 7 - 2 \\\\\n",
    "    x = 5 \\\\ \\\\\n",
    "\n",
    "    \\boxed{5, 7, 9}\n",
    "\\end{gather*}"
   ]
  },
  {
   "cell_type": "markdown",
   "id": "72559e0b",
   "metadata": {},
   "source": [
    "> 6. If, given three consecutive integers, the third integer is $10$ more than\n",
    "the sum of the first two integers, what is the third integer?\n",
    "\n",
    "\\begin{gather*}\n",
    "    x + (x + 1) + (x + 2) \\\\\n",
    "    x + 2 = 10 + (x + x + 1) \\\\\n",
    "    x + 2 = 10 + 2x + 1 \\\\\n",
    "    x + 2 = 11 + 2x \\\\\n",
    "    -11 + 2 = 2x -x \\\\\n",
    "    \\boxed{x = -9}\n",
    "\\end{gather*}"
   ]
  }
 ],
 "metadata": {
  "language_info": {
   "name": "python"
  }
 },
 "nbformat": 4,
 "nbformat_minor": 5
}
