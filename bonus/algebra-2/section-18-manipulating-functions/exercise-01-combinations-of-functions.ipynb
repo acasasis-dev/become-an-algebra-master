{
 "cells": [
  {
   "cell_type": "markdown",
   "id": "feb8695b",
   "metadata": {},
   "source": [
    "## Exercise 1: Combinations of Functions"
   ]
  },
  {
   "cell_type": "markdown",
   "id": "30528e60",
   "metadata": {},
   "source": [
    "> 1. Find $( f + g)(x)$.\n",
    "\n",
    "\\begin{gather*}\n",
    "    f(x) = 2x^2 - x + 5 \\\\\n",
    "    g(x) = x^2 + 4x − 7 \\\\ \\\\\n",
    "\n",
    "    (f + g)(x) = (2x^2 - x + 5) + (x^2 + 4x − 7) \\\\\n",
    "    (f + g)(x) = 2x^2 - x + 5 + x^2 + 4x − 7 \\\\\n",
    "    \\boxed{(f + g)(x) = 3x^2 + 3x - 2}\n",
    "\\end{gather*}"
   ]
  },
  {
   "cell_type": "markdown",
   "id": "60d513da",
   "metadata": {},
   "source": [
    "> 2. Find $( f − g)(2)$.\n",
    "\n",
    "\\begin{gather*}\n",
    "    f(x) = 4x^2 − 2 \\\\\n",
    "    g(x) = 3x^2 − 5x \\\\ \\\\\n",
    "\n",
    "    (f - g)(x) = (4x^2 − 2) - (3x^2 − 5x) \\\\\n",
    "    (f - g)(x) = 4x^2 - 2 - 3x^2 + 5x \\\\\n",
    "    (f - g)(x) = x^2 + 5x - 2 \\\\ \\\\\n",
    "\n",
    "    (f - g)(2) = (2)^2 + 5(2) - 2 \\\\\n",
    "    (f - g)(2) = 4 + 10 - 2 \\\\\n",
    "    (f - g)(2) = 14 - 2 \\\\\n",
    "    \\boxed{(f - g)(2) = 12}\n",
    "\\end{gather*}"
   ]
  },
  {
   "cell_type": "markdown",
   "id": "b65ec84d",
   "metadata": {},
   "source": [
    "> 3. Find $( f − g)(x)$.\n",
    "\n",
    "\\begin{gather*}\n",
    "    f(x) = x^2 − 3x + 1 \\\\\n",
    "    g(x) = 2x − 3 \\\\ \\\\\n",
    "\n",
    "    (f - g)(x) = (x^2 - 3x + 1) - (2x - 3) \\\\\n",
    "    (f - g)(x) = x^2 - 3x + 1 - 2x + 3 \\\\\n",
    "    \\boxed{(f - g)(x) = x^2 - 5x + 4}\n",
    "\\end{gather*}"
   ]
  },
  {
   "cell_type": "markdown",
   "id": "dc429ca5",
   "metadata": {},
   "source": [
    "> 4. Find $( f \\cdot g)(x)$.\n",
    "\n",
    "\\begin{gather*}\n",
    "    f(x) = 2x − 3 \\\\\n",
    "    g(x) = 3x^2 + 2 \\\\ \\\\\n",
    "\\end{gather*}"
   ]
  },
  {
   "cell_type": "markdown",
   "id": "07eee4cf",
   "metadata": {},
   "source": [
    "> 5. Find $( f \\div g)(x)$.\n",
    "\n",
    "\\begin{gather*}\n",
    "    f(x) = x^2 + 6x \\\\\n",
    "    g(x) = x \\\\ \\\\\n",
    "\\end{gather*}"
   ]
  },
  {
   "cell_type": "markdown",
   "id": "e4be1c00",
   "metadata": {},
   "source": [
    "> 6. Find $(g \\div f )(x)$.\n",
    "\n",
    "\\begin{gather*}\n",
    "    f(x) = x^2 + 6x \\\\\n",
    "    g(x) = x \\\\ \\\\\n",
    "\\end{gather*}"
   ]
  }
 ],
 "metadata": {
  "language_info": {
   "name": "python"
  }
 },
 "nbformat": 4,
 "nbformat_minor": 5
}
