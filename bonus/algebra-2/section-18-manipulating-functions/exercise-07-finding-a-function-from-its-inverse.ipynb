{
 "cells": [
  {
   "cell_type": "markdown",
   "id": "55304949",
   "metadata": {},
   "source": [
    "## Exercise 07: Finding a Function From Its Inverse"
   ]
  },
  {
   "cell_type": "markdown",
   "id": "62d409bb",
   "metadata": {},
   "source": [
    "> 1. Find $f(x)$ if $f^{−1}(x)$ is a linear function.\n",
    "\n",
    "\\begin{gather*}\n",
    "    f^{-1}(1) = -2 \\\\\n",
    "    f^{-1}(-3) = -1 \\\\ \\\\\n",
    "\n",
    "    (-2, 1), (-1, -3) \\\\\n",
    "    m = \\frac{-3 - 1}{-1 - (-2)} \\\\\n",
    "    m = \\frac{-4}{1} \\\\\n",
    "    m = -4 \\\\ \\\\\n",
    "\n",
    "    1 = (-4)(-2) + b \\\\\n",
    "    1 = 8 + b \\\\\n",
    "    b = 1 - 8 \\\\\n",
    "    b = -7 \\\\ \\\\\n",
    "\n",
    "    \\boxed{f(x) = -4x - 7}\n",
    "\\end{gather*}"
   ]
  },
  {
   "cell_type": "markdown",
   "id": "9b089209",
   "metadata": {},
   "source": [
    "> 2. Find $f(x)$ if $f^{−1}(x)$ is a linear function.\n",
    "\n",
    "\\begin{gather*}\n",
    "    f^{-1}(0) = 3 \\\\\n",
    "    f^{-1}(-2) = 1 \\\\ \\\\\n",
    "\n",
    "    (3, 0), (1, -2) \\\\\n",
    "    m = \\frac{-2 - 0}{1 - 3} \\\\\n",
    "    m = \\frac{-2}{-2} \\\\\n",
    "    m = 1 \\\\ \\\\\n",
    "\n",
    "    0 = (1)(3) + b \\\\\n",
    "    0 = 3 + b \\\\\n",
    "    b = 0 - 3 \\\\\n",
    "    b = -3 \\\\ \\\\\n",
    "\n",
    "    \\boxed{f(x) = x - 3}\n",
    "\\end{gather*}"
   ]
  },
  {
   "cell_type": "markdown",
   "id": "d0479da3",
   "metadata": {},
   "source": [
    "> 3. Find $f(x)$ if $f^{−1}(x)$ is a linear function.\n",
    "\n",
    "\\begin{gather*}\n",
    "    f^{-1}(2) = 5 \\\\\n",
    "    f^{-1}(4) = 9 \\\\ \\\\\n",
    "\n",
    "    (5, 2), (9, 4) \\\\\n",
    "    m = \\frac{4 - 2}{9 - 5} \\\\\n",
    "    m = \\frac{2}{4} \\\\\n",
    "    m = \\frac{1}{2} \\\\ \\\\\n",
    "\n",
    "    2 = \\frac{1}{2}(5) + b \\\\\n",
    "    2 = \\frac{5}{2} + b \\\\\n",
    "    b = \\frac{4}{2} - \\frac{5}{2} \\\\\n",
    "    b = -\\frac{1}{2} \\\\ \\\\\n",
    "\n",
    "    \\boxed{f(x) = \\frac{1}{2}x - \\frac{1}{2}}\n",
    "\\end{gather*}"
   ]
  },
  {
   "cell_type": "markdown",
   "id": "10a66cef",
   "metadata": {},
   "source": [
    "> 4. Find $f(x)$ if $f^{−1}(x)$ is a linear function.\n",
    "\n",
    "\\begin{gather*}\n",
    "    f^{-1}(-4) = 7 \\\\\n",
    "    f^{-1}(-1) = 14 \\\\ \\\\\n",
    "\n",
    "    (7, -4), (14, -1) \\\\\n",
    "    m = \\frac{-1 - (-4)}{14 - 7} \\\\\n",
    "    m = \\frac{3}{7} \\\\ \\\\\n",
    "\n",
    "    -4 = \\frac{3}{7}(7) + b \\\\\n",
    "    -4 = 3 + b \\\\\n",
    "    b = -4 - 3 \\\\\n",
    "    b = -7 \\\\ \\\\\n",
    "\n",
    "    \\boxed{f(x) = \\frac{3}{7}x - 7}\n",
    "\\end{gather*}"
   ]
  },
  {
   "cell_type": "markdown",
   "id": "9fa6fc8b",
   "metadata": {},
   "source": [
    "> 5. Find $f(x)$ if $f^{−1}(x)$ is a linear function.\n",
    "\n",
    "\\begin{gather*}\n",
    "    f^{-1}(5) = -4 \\\\\n",
    "    f^{-1}(10) = -12 \\\\ \\\\\n",
    "\n",
    "    (-4, 5), (-12, 10) \\\\\n",
    "    m = \\frac{10 - 5}{-12 - (-4)} \\\\\n",
    "    m = -\\frac{5}{8} \\\\ \\\\\n",
    "\n",
    "    5 = -\\frac{5}{8}(-4) + b \\\\\n",
    "    5 = \\frac{20}{8} + b \\\\\n",
    "    b = \\frac{40}{8} - \\frac{20}{8} \\\\\n",
    "    b = \\frac{20}{8} \\\\\n",
    "    b = \\frac{5}{2} \\\\ \\\\\n",
    "\n",
    "    \\boxed{f(x) = -\\frac{5}{8}x + \\frac{5}{2}}\n",
    "\\end{gather*}"
   ]
  },
  {
   "cell_type": "markdown",
   "id": "2d8138b3",
   "metadata": {},
   "source": [
    "> 6. Find $f(x)$ if $f^{−1}(x)$ is a linear function.\n",
    "\n",
    "\\begin{gather*}\n",
    "    f^{-1}(1) = 3 \\\\\n",
    "    f^{-1}(2) = 6 \\\\ \\\\\n",
    "\n",
    "    (3, 1), (6, 2) \\\\\n",
    "    m = \\frac{2 - 1}{6 - 3} \\\\\n",
    "    m = \\frac{1}{3} \\\\ \\\\\n",
    "\n",
    "    1 = \\frac{1}{3}(3) + b \\\\\n",
    "    1 = \\frac{3}{3} + b \\\\\n",
    "    1 = 1 + b \\\\\n",
    "    b = 1 - 1 \\\\\n",
    "    b = 0 \\\\ \\\\\n",
    "\n",
    "    \\boxed{f(x) = \\frac{1}{3}x}\n",
    "\\end{gather*}"
   ]
  }
 ],
 "metadata": {
  "language_info": {
   "name": "python"
  }
 },
 "nbformat": 4,
 "nbformat_minor": 5
}
