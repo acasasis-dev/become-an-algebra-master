{
 "cells": [
  {
   "cell_type": "markdown",
   "id": "55304949",
   "metadata": {},
   "source": [
    "## Exercise 07: Finding a Function From Its Inverse"
   ]
  },
  {
   "cell_type": "markdown",
   "id": "62d409bb",
   "metadata": {},
   "source": [
    "> 1. Find $f(x)$ if $f^{−1}(x)$ is a linear function.\n",
    "\n",
    "\\begin{gather*}\n",
    "    f^{-1}(1) = -2 \\\\\n",
    "    f^{-1}(-3) = -1 \\\\ \\\\\n",
    "\\end{gather*}"
   ]
  },
  {
   "cell_type": "markdown",
   "id": "9b089209",
   "metadata": {},
   "source": [
    "> 2. Find $f(x)$ if $f^{−1}(x)$ is a linear function.\n",
    "\n",
    "\\begin{gather*}\n",
    "    f^{-1}(0) = 3 \\\\\n",
    "    f^{-1}(-2) = 1 \\\\ \\\\\n",
    "\\end{gather*}"
   ]
  },
  {
   "cell_type": "markdown",
   "id": "d0479da3",
   "metadata": {},
   "source": [
    "> 3. Find $f(x)$ if $f^{−1}(x)$ is a linear function.\n",
    "\n",
    "\\begin{gather*}\n",
    "    f^{-1}(2) = 5 \\\\\n",
    "    f^{-1}(4) = 9 \\\\ \\\\\n",
    "\\end{gather*}"
   ]
  },
  {
   "cell_type": "markdown",
   "id": "10a66cef",
   "metadata": {},
   "source": [
    "> 4. Find $f(x)$ if $f^{−1}(x)$ is a linear function.\n",
    "\n",
    "\\begin{gather*}\n",
    "    f^{-1}(-4) = 7 \\\\\n",
    "    f^{-1}(-1) = 14 \\\\ \\\\\n",
    "\\end{gather*}"
   ]
  },
  {
   "cell_type": "markdown",
   "id": "9fa6fc8b",
   "metadata": {},
   "source": [
    "> 5. Find $f(x)$ if $f^{−1}(x)$ is a linear function.\n",
    "\n",
    "\\begin{gather*}\n",
    "    f^{-1}(5) = -4 \\\\\n",
    "    f^{-1}(10) = -12 \\\\ \\\\\n",
    "\\end{gather*}"
   ]
  },
  {
   "cell_type": "markdown",
   "id": "2d8138b3",
   "metadata": {},
   "source": [
    "> 6. Find $f(x)$ if $f^{−1}(x)$ is a linear function.\n",
    "\n",
    "\\begin{gather*}\n",
    "    f^{-1}(1) = 3 \\\\\n",
    "    f^{-1}(2) = 6 \\\\ \\\\\n",
    "\\end{gather*}"
   ]
  }
 ],
 "metadata": {
  "language_info": {
   "name": "python"
  }
 },
 "nbformat": 4,
 "nbformat_minor": 5
}
