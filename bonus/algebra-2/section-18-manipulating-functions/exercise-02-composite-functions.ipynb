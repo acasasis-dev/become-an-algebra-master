{
 "cells": [
  {
   "cell_type": "markdown",
   "id": "bb412eb7",
   "metadata": {},
   "source": [
    "## Exercise 2: Composite Functions"
   ]
  },
  {
   "cell_type": "markdown",
   "id": "fe26196b",
   "metadata": {},
   "source": [
    "> 1. Find the composite function $(g \\circ f )(x)$.\n",
    "\n",
    "\\begin{gather*}\n",
    "    f(x) = \\sqrt{2x - 1} \\\\\n",
    "    g(x) = 3x^2 \\\\ \\\\\n",
    "\\end{gather*}"
   ]
  },
  {
   "cell_type": "markdown",
   "id": "1391ab71",
   "metadata": {},
   "source": [
    "> 2. Find $f(g(x)) − g( f(x))$.\n",
    "\n",
    "\\begin{gather*}\n",
    "    f(x) = x^2 − 4x + 3 \\\\\n",
    "    g(x) = 2x + 1 \\\\ \\\\\n",
    "\\end{gather*}"
   ]
  },
  {
   "cell_type": "markdown",
   "id": "07732879",
   "metadata": {},
   "source": [
    "> 3. Find the composite function $(g \\circ h)(x) − (h \\circ h)(x)$.\n",
    "\n",
    "\\begin{gather*}\n",
    "    g(x) = \\frac{8}{x^3} \\\\\n",
    "    h(x) = \\sqrt[3]{x + 4} \\\\ \\\\\n",
    "\\end{gather*}"
   ]
  },
  {
   "cell_type": "markdown",
   "id": "b66a0284",
   "metadata": {},
   "source": [
    "> 4. Find the composite function $(h \\circ g)(x)$.\n",
    "\n",
    "\\begin{gather*}\n",
    "    g(x) = \\frac{8}{x^3} \\\\\n",
    "    h(x) = \\sqrt[3]{x + 4} \\\\ \\\\\n",
    "\\end{gather*}"
   ]
  },
  {
   "cell_type": "markdown",
   "id": "e2bd0407",
   "metadata": {},
   "source": [
    "> 5. Find the composite function $g(g(x))$.\n",
    "\n",
    "\\begin{gather*}\n",
    "    g(x) = \\frac{1}{x} \\\\\n",
    "    h(x) = 3x^2 - x \\\\ \\\\\n",
    "\\end{gather*}"
   ]
  },
  {
   "cell_type": "markdown",
   "id": "2001e819",
   "metadata": {},
   "source": [
    "> 6. Find the composite functions $h(g(2)) and g(h(2))$.\n",
    "\n",
    "\\begin{gather*}\n",
    "    g(x) = \\frac{1}{x} \\\\\n",
    "    h(x) = 3x^2 - x \\\\ \\\\\n",
    "\\end{gather*}"
   ]
  }
 ],
 "metadata": {
  "language_info": {
   "name": "python"
  }
 },
 "nbformat": 4,
 "nbformat_minor": 5
}
