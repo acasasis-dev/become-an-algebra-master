{
 "cells": [
  {
   "cell_type": "markdown",
   "id": "bb412eb7",
   "metadata": {},
   "source": [
    "## Exercise 2: Composite Functions"
   ]
  },
  {
   "cell_type": "markdown",
   "id": "fe26196b",
   "metadata": {},
   "source": [
    "> 1. Find the composite function $(g \\circ f )(x)$.\n",
    "\n",
    "\\begin{gather*}\n",
    "    f(x) = \\sqrt{2x - 1} \\\\\n",
    "    g(x) = 3x^2 \\\\ \\\\\n",
    "\n",
    "    g(f(x)) = 3(\\sqrt{2x - 1})^2 \\\\\n",
    "    g(f(x)) = 3(2x - 1) \\\\\n",
    "    \\boxed{g(f(x)) = 6x - 3}\n",
    "\\end{gather*}"
   ]
  },
  {
   "cell_type": "markdown",
   "id": "1391ab71",
   "metadata": {},
   "source": [
    "> 2. Find $f(g(x)) − g( f(x))$.\n",
    "\n",
    "\\begin{gather*}\n",
    "    f(x) = x^2 − 4x + 3 \\\\\n",
    "    g(x) = 2x + 1 \\\\ \\\\\n",
    "\n",
    "    f(g(x)) = (2x + 1)^2 - 4(2x + 1) + 3 \\\\\n",
    "    f(g(x)) = (2x + 1)(2x + 1) - 8x - 4 + 3 \\\\\n",
    "    f(g(x)) = 4x^2 + 4x + 1 - 8x - 1 \\\\\n",
    "    f(g(x)) = 4x^2 - 4x \\\\ \\\\\n",
    "\n",
    "    g(f(x)) = 2(x^2 - 4x + 3) + 1 \\\\\n",
    "    g(f(x)) = 2x^2 - 8x + 6 + 1 \\\\\n",
    "    g(f(x)) = 2x^2 - 8x + 7 \\\\ \\\\\n",
    "\n",
    "    f(g(x)) - g(f(x)) = (4x^2 - 4x) - (2x^2 - 8x + 7) \\\\\n",
    "    f(g(x)) - g(f(x)) = 4x^2 - 4x - 2x^2 + 8x - 7 \\\\\n",
    "    \\boxed{f(g(x)) - g(f(x)) = 2x^2 + 4x - 7}\n",
    "\\end{gather*}"
   ]
  },
  {
   "cell_type": "markdown",
   "id": "07732879",
   "metadata": {},
   "source": [
    "> 3. Find the composite function $(g \\circ h)(x) − (h \\circ h)(x)$.\n",
    "\n",
    "\\begin{gather*}\n",
    "    g(x) = \\frac{8}{x^3} \\\\\n",
    "    h(x) = \\sqrt[3]{x + 4} \\\\ \\\\\n",
    "\n",
    "    g(h(x)) = \\frac{8}{(\\sqrt[3]{x + 4})^3} \\\\\n",
    "    g(h(x)) = \\frac{8}{x + 4} \\\\ \\\\\n",
    "\n",
    "    h(h(x)) = \\sqrt[3]{(\\sqrt[3]{x + 4}) + 4} \\\\ \\\\\n",
    "\n",
    "    \\boxed{g(h(x)) - h(h(x)) = \\frac{8}{x + 4} - \\sqrt[3]{(\\sqrt[3]{x + 4}) + 4}}\n",
    "\\end{gather*}"
   ]
  },
  {
   "cell_type": "markdown",
   "id": "b66a0284",
   "metadata": {},
   "source": [
    "> 4. Find the composite function $(h \\circ g)(x)$.\n",
    "\n",
    "\\begin{gather*}\n",
    "    g(x) = \\frac{8}{x^3} \\\\\n",
    "    h(x) = \\sqrt[3]{x + 4} \\\\ \\\\\n",
    "\\end{gather*}"
   ]
  },
  {
   "cell_type": "markdown",
   "id": "e2bd0407",
   "metadata": {},
   "source": [
    "> 5. Find the composite function $g(g(x))$.\n",
    "\n",
    "\\begin{gather*}\n",
    "    g(x) = \\frac{1}{x} \\\\\n",
    "    h(x) = 3x^2 - x \\\\ \\\\\n",
    "\\end{gather*}"
   ]
  },
  {
   "cell_type": "markdown",
   "id": "2001e819",
   "metadata": {},
   "source": [
    "> 6. Find the composite functions $h(g(2)) and g(h(2))$.\n",
    "\n",
    "\\begin{gather*}\n",
    "    g(x) = \\frac{1}{x} \\\\\n",
    "    h(x) = 3x^2 - x \\\\ \\\\\n",
    "\\end{gather*}"
   ]
  }
 ],
 "metadata": {
  "language_info": {
   "name": "python"
  }
 },
 "nbformat": 4,
 "nbformat_minor": 5
}
