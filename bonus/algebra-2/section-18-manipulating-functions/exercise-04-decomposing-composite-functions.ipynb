{
 "cells": [
  {
   "cell_type": "markdown",
   "id": "3a6ac430",
   "metadata": {},
   "source": [
    "## Exercise 4: Decomposing Composite Functions"
   ]
  },
  {
   "cell_type": "markdown",
   "id": "0afb63ee",
   "metadata": {},
   "source": [
    "> 1. Write $f(x)$ as the composition of two functions.\n",
    "\n",
    "\\begin{gather*}\n",
    "    f(x) = \\frac{4}{(2x^2 - 5x)^3} \\\\ \\\\\n",
    "\\end{gather*}"
   ]
  },
  {
   "cell_type": "markdown",
   "id": "db729244",
   "metadata": {},
   "source": [
    "> 2. Write $f(x) = ln(ln x)$ as the composition of two functions."
   ]
  },
  {
   "cell_type": "markdown",
   "id": "746b031d",
   "metadata": {},
   "source": [
    "> 3. Write $f(x) = 5(2\\sqrt[3]{x})^2 − 8$ as the composition of two functions."
   ]
  },
  {
   "cell_type": "markdown",
   "id": "9f903a4b",
   "metadata": {},
   "source": [
    "> 4. Write $f(x)$ as the composition of two functions.\n",
    "\n",
    "\\begin{gather*}\n",
    "    f(x) = \\frac{\\frac{1}{x + 1}}{\\frac{1}{x + 1} - 1} \\\\ \\\\\n",
    "\\end{gather*}"
   ]
  },
  {
   "cell_type": "markdown",
   "id": "9358def0",
   "metadata": {},
   "source": [
    "> 5. Write $f(x) = 5(2x + 3)^4 + 3(2x + 3)^2 − 7$ as the composition of two\n",
    "functions."
   ]
  },
  {
   "cell_type": "markdown",
   "id": "31950e31",
   "metadata": {},
   "source": [
    "> 6. Write $f(x)$ as the composition of two functions.\n",
    "\n",
    "\\begin{gather*}\n",
    "    f(x) = \\frac{4}{x^2 - 7} \\\\ \\\\\n",
    "\\end{gather*}"
   ]
  }
 ],
 "metadata": {
  "language_info": {
   "name": "python"
  }
 },
 "nbformat": 4,
 "nbformat_minor": 5
}
