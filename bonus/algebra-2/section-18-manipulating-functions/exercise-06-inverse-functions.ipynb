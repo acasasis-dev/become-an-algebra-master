{
 "cells": [
  {
   "cell_type": "markdown",
   "id": "69618bdc",
   "metadata": {},
   "source": [
    "## Exercise 6: Inverse Functions"
   ]
  },
  {
   "cell_type": "markdown",
   "id": "eed079c2",
   "metadata": {},
   "source": [
    "> 1. What is the inverse of the function?\n",
    "\n",
    "\\begin{gather*}\n",
    "    f(x) = \\frac{1}{2}x - 3 \\\\ \\\\\n",
    "\\end{gather*}"
   ]
  },
  {
   "cell_type": "markdown",
   "id": "88f25266",
   "metadata": {},
   "source": [
    "> 2. What is the inverse of the function?\n",
    "\n",
    "\\begin{gather*}\n",
    "    f(x) = -4x + 5 \\\\ \\\\\n",
    "\\end{gather*}"
   ]
  },
  {
   "cell_type": "markdown",
   "id": "2867f435",
   "metadata": {},
   "source": [
    "> 3. What is the inverse of the function?\n",
    "\n",
    "\\begin{gather*}\n",
    "    f(x) = \\frac{2x}{x - 5} \\\\ \\\\\n",
    "\\end{gather*}"
   ]
  },
  {
   "cell_type": "markdown",
   "id": "3deaf0a7",
   "metadata": {},
   "source": [
    "> 4. What is the inverse of the function?\n",
    "\n",
    "\\begin{gather*}\n",
    "    f(x) = \\frac{1}{x} + 3 \\\\ \\\\\n",
    "\\end{gather*}"
   ]
  },
  {
   "cell_type": "markdown",
   "id": "290937cb",
   "metadata": {},
   "source": [
    "> 5. What is the inverse of the function?\n",
    "\n",
    "\\begin{gather*}\n",
    "    f(x) = -\\frac{3}{x - 2} - 4 \\\\ \\\\\n",
    "\\end{gather*}"
   ]
  },
  {
   "cell_type": "markdown",
   "id": "a4da0279",
   "metadata": {},
   "source": [
    "> 6. What is the inverse of the function?\n",
    "\n",
    "\\begin{gather*}\n",
    "    f(x) = \\frac{x - 2}{x + 3} \\\\ \\\\\n",
    "\\end{gather*}"
   ]
  }
 ],
 "metadata": {
  "language_info": {
   "name": "python"
  }
 },
 "nbformat": 4,
 "nbformat_minor": 5
}
