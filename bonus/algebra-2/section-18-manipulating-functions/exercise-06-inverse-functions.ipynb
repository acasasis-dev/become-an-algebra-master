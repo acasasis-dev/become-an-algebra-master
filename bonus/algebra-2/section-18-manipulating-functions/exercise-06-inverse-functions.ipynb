{
 "cells": [
  {
   "cell_type": "markdown",
   "id": "69618bdc",
   "metadata": {},
   "source": [
    "## Exercise 6: Inverse Functions"
   ]
  },
  {
   "cell_type": "markdown",
   "id": "eed079c2",
   "metadata": {},
   "source": [
    "> 1. What is the inverse of the function?\n",
    "\n",
    "\\begin{gather*}\n",
    "    f(x) = \\frac{1}{2}x - 3 \\\\ \\\\\n",
    "\n",
    "    x = \\frac{1}{2}y - 3 \\\\\n",
    "    \\frac{1}{2}y = x + 3 \\\\\n",
    "    2\\left(\\frac{1}{2}y = x + 3\\right) \\\\\n",
    "    y = 2x + 6 \\\\ \\\\\n",
    "\n",
    "    \\boxed{f^{-1}(x) = 2x + 6}\n",
    "\\end{gather*}"
   ]
  },
  {
   "cell_type": "markdown",
   "id": "88f25266",
   "metadata": {},
   "source": [
    "> 2. What is the inverse of the function?\n",
    "\n",
    "\\begin{gather*}\n",
    "    f(x) = -4x + 5 \\\\ \\\\\n",
    "\n",
    "    x = -4y + 5 \\\\\n",
    "    4y = 5 - x \\\\\n",
    "    \\frac{4y = 5 - x}{4} \\\\\n",
    "    y = \\frac{5 - x}{4} \\\\ \\\\\n",
    "\n",
    "    \\boxed{f^{-1}(x) = \\frac{5 - x}{4}}\n",
    "\\end{gather*}"
   ]
  },
  {
   "cell_type": "markdown",
   "id": "2867f435",
   "metadata": {},
   "source": [
    "> 3. What is the inverse of the function?\n",
    "\n",
    "\\begin{gather*}\n",
    "    f(x) = \\frac{2x}{x - 5} \\\\ \\\\\n",
    "\n",
    "    x = \\frac{2y}{y - 5} \\\\\n",
    "    (y - 5)\\left(x = \\frac{2y}{y - 5}\\right) \\\\\n",
    "    2y = xy - 5x \\\\\n",
    "    xy - 2y = 5x \\\\\n",
    "    y(x - 2) = 5x \\\\\n",
    "    \\frac{y(x - 2) = 5x}{(x - 2)} \\\\\n",
    "    y = \\frac{5x}{(x - 2)} \\\\ \\\\\n",
    "\n",
    "    \\boxed{f^{-1}(x) = \\frac{5x}{(x - 2)}}\n",
    "\\end{gather*}"
   ]
  },
  {
   "cell_type": "markdown",
   "id": "3deaf0a7",
   "metadata": {},
   "source": [
    "> 4. What is the inverse of the function?\n",
    "\n",
    "\\begin{gather*}\n",
    "    f(x) = \\frac{1}{x} + 3 \\\\ \\\\\n",
    "\n",
    "    x = \\frac{1}{y} + 3 \\\\\n",
    "    \\frac{1}{y} = x - 3 \\\\\n",
    "    y = \\frac{1}{x - 3} \\\\ \\\\\n",
    "\n",
    "    \\boxed{f^{-1}(x) = \\frac{1}{x - 3}}\n",
    "\\end{gather*}"
   ]
  },
  {
   "cell_type": "markdown",
   "id": "290937cb",
   "metadata": {},
   "source": [
    "> 5. What is the inverse of the function?\n",
    "\n",
    "\\begin{gather*}\n",
    "    f(x) = -\\frac{3}{x - 2} - 4 \\\\ \\\\\n",
    "\n",
    "    x = -\\frac{3}{y - 2} - 4 \\\\\n",
    "    (y - 2)\\left(x = -\\frac{3}{y - 2} - 4\\right) \\\\\n",
    "    xy - 2x = -3 - 4y + 8 \\\\\n",
    "    xy + 4y = 5 + 2x \\\\\n",
    "    y(x + 4) = 5 + 2x \\\\\n",
    "    \\frac{y(x + 4) = 5 + 2x}{x + 4} \\\\\n",
    "    y = \\frac{5 + 2x}{x + 4} \\\\ \\\\\n",
    "\n",
    "    \\boxed{f^-1(x) = \\frac{5 + 2x}{x + 4}}\n",
    "\\end{gather*}"
   ]
  },
  {
   "cell_type": "markdown",
   "id": "a4da0279",
   "metadata": {},
   "source": [
    "> 6. What is the inverse of the function?\n",
    "\n",
    "\\begin{gather*}\n",
    "    f(x) = \\frac{x - 2}{x + 3} \\\\ \\\\\n",
    "\n",
    "    x = \\frac{y - 2}{y + 3} \\\\\n",
    "    (y + 3)\\left(x = \\frac{y - 2}{y + 3}\\right) \\\\\n",
    "    xy + 3x = y - 2 \\\\\n",
    "    xy - y = -2 - 3x \\\\\n",
    "    y(x - 1) = -2 - 3x \\\\\n",
    "    \\frac{y(x - 1) = -2 - 3x}{x - 1} \\\\\n",
    "    y = \\frac{-2 - 3x}{x - 1} \\\\ \\\\\n",
    "\n",
    "    \\boxed{f^{-1}(x) = \\frac{-2 - 3x}{x - 1}}\n",
    "\\end{gather*}"
   ]
  }
 ],
 "metadata": {
  "language_info": {
   "name": "python"
  }
 },
 "nbformat": 4,
 "nbformat_minor": 5
}
