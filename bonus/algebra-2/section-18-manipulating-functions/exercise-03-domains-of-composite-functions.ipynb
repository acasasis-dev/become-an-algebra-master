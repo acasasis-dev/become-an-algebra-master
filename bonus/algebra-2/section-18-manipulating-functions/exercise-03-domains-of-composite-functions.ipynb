{
 "cells": [
  {
   "cell_type": "markdown",
   "id": "787f32a0",
   "metadata": {},
   "source": [
    "## Exercise 3: Domains of Composite Functions"
   ]
  },
  {
   "cell_type": "markdown",
   "id": "43208c18",
   "metadata": {},
   "source": [
    "> 1. What is the domain of $f \\circ g$?\n",
    "\n",
    "\\begin{gather*}\n",
    "    f(x) = \\frac{1}{x} \\\\\n",
    "    g(x) = x + 5 \\\\ \\\\\n",
    "\\end{gather*}"
   ]
  },
  {
   "cell_type": "markdown",
   "id": "cc44f453",
   "metadata": {},
   "source": [
    "> 2. What is the domain of $f \\circ g$?\n",
    "\n",
    "\\begin{gather*}\n",
    "    f(x) = \\frac{2}{x - 1} \\\\\n",
    "    g(x) = \\sqrt{x - 4} \\\\ \\\\\n",
    "\\end{gather*}"
   ]
  },
  {
   "cell_type": "markdown",
   "id": "488cd6ce",
   "metadata": {},
   "source": [
    "> 3. What is the domain of $f \\circ g$?\n",
    "\n",
    "\\begin{gather*}\n",
    "    f(x) = \\frac{1}{x} + 4 \\\\\n",
    "    g(x) = \\frac{3}{2x - 7} \\\\ \\\\\n",
    "\\end{gather*}"
   ]
  },
  {
   "cell_type": "markdown",
   "id": "3e3b24df",
   "metadata": {},
   "source": [
    "> 4. What is the domain of $f \\circ g$?\n",
    "\n",
    "\\begin{gather*}\n",
    "    f(x) = \\frac{2}{x - 3} \\\\\n",
    "    g(x) = \\frac{4}{x + 2} \\\\ \\\\\n",
    "\\end{gather*}"
   ]
  },
  {
   "cell_type": "markdown",
   "id": "7508d156",
   "metadata": {},
   "source": [
    "> 5. What is the domain of $f \\circ g$?\n",
    "\n",
    "\\begin{gather*}\n",
    "    f(x) = \\frac{1}{x^2 - 3} \\\\\n",
    "    g(x) = \\sqrt{x - 1} \\\\ \\\\\n",
    "\\end{gather*}"
   ]
  },
  {
   "cell_type": "markdown",
   "id": "b96b9f69",
   "metadata": {},
   "source": [
    "> 6. What is the domain of $f \\circ g$?\n",
    "\n",
    "\\begin{gather*}\n",
    "    f(x) = 2x^2 - x + 1 \\\\\n",
    "    g(x) = x - 3 \\\\ \\\\\n",
    "\\end{gather*}"
   ]
  }
 ],
 "metadata": {
  "language_info": {
   "name": "python"
  }
 },
 "nbformat": 4,
 "nbformat_minor": 5
}
