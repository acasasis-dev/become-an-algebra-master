{
 "cells": [
  {
   "cell_type": "markdown",
   "id": "787f32a0",
   "metadata": {},
   "source": [
    "## Exercise 3: Domains of Composite Functions"
   ]
  },
  {
   "cell_type": "markdown",
   "id": "43208c18",
   "metadata": {},
   "source": [
    "> 1. What is the domain of $f \\circ g$?\n",
    "\n",
    "\\begin{gather*}\n",
    "    f(x) = \\frac{1}{x} \\\\\n",
    "    g(x) = x + 5 \\\\\n",
    "    x = \\text{all real numbers} \\\\ \\\\\n",
    "\n",
    "    f(g(x)) = \\frac{1}{x + 5} \\\\ \\\\\n",
    "\n",
    "    x + 5 \\ne 0 \\\\\n",
    "    x \\ne -5 \\\\ \\\\\n",
    "\n",
    "    \\boxed{x \\ne -5}\n",
    "\\end{gather*}"
   ]
  },
  {
   "cell_type": "markdown",
   "id": "cc44f453",
   "metadata": {},
   "source": [
    "> 2. What is the domain of $f \\circ g$?\n",
    "\n",
    "\\begin{gather*}\n",
    "    f(x) = \\frac{2}{x - 1} \\\\\n",
    "    g(x) = \\sqrt{x - 4} \\\\\n",
    "    \\sqrt{x - 4} \\ge 0 \\\\\n",
    "    (\\sqrt{x - 4} \\ge 0)^2 \\\\\n",
    "    x - 4 \\ge 0 \\\\\n",
    "    x \\ge 4 \\\\ \\\\\n",
    "\n",
    "    f(g(x)) = \\frac{2}{\\sqrt{x - 4} - 1} \\\\ \\\\\n",
    "\n",
    "    \\sqrt{x - 4} - 1 \\ne 0 \\\\\n",
    "    \\sqrt{x - 4} \\ne 1 \\\\\n",
    "    (\\sqrt{x - 4} \\ne 1)^2 \\\\\n",
    "    x - 4 \\ne 1 \\\\\n",
    "    x \\ne 1 + 4 \\\\\n",
    "    x \\ne 5 \\\\ \\\\\n",
    "\n",
    "    \\boxed{x \\ge 4, x \\ne 5}\n",
    "\\end{gather*}"
   ]
  },
  {
   "cell_type": "markdown",
   "id": "488cd6ce",
   "metadata": {},
   "source": [
    "> 3. What is the domain of $f \\circ g$?\n",
    "\n",
    "\\begin{gather*}\n",
    "    f(x) = \\frac{1}{x} + 4 \\\\\n",
    "    g(x) = \\frac{3}{2x - 7} \\\\\n",
    "    2x - 7 \\ne 0 \\\\\n",
    "    2x \\ne 7 \\\\\n",
    "    \\frac{2x \\ne 7}{2} \\\\\n",
    "    x \\ne \\frac{7}{2} \\\\ \\\\\n",
    "\n",
    "    f(g(x)) = \\frac{1}{\\frac{3}{2x - 7}} + 4 \\\\\n",
    "    f(g(x)) = \\frac{2x - 7}{3} + \\frac{12}{3} \\\\\n",
    "    f(g(x)) = \\frac{2x + 5}{3} \\\\ \\\\\n",
    "\n",
    "    \\boxed{x \\ne \\frac{7}{2}}\n",
    "\\end{gather*}"
   ]
  },
  {
   "cell_type": "markdown",
   "id": "3e3b24df",
   "metadata": {},
   "source": [
    "> 4. What is the domain of $f \\circ g$?\n",
    "\n",
    "\\begin{gather*}\n",
    "    f(x) = \\frac{2}{x - 3} \\\\\n",
    "    g(x) = \\frac{4}{x + 2} \\\\ \\\\\n",
    "\\end{gather*}"
   ]
  },
  {
   "cell_type": "markdown",
   "id": "7508d156",
   "metadata": {},
   "source": [
    "> 5. What is the domain of $f \\circ g$?\n",
    "\n",
    "\\begin{gather*}\n",
    "    f(x) = \\frac{1}{x^2 - 3} \\\\\n",
    "    g(x) = \\sqrt{x - 1} \\\\ \\\\\n",
    "\\end{gather*}"
   ]
  },
  {
   "cell_type": "markdown",
   "id": "b96b9f69",
   "metadata": {},
   "source": [
    "> 6. What is the domain of $f \\circ g$?\n",
    "\n",
    "\\begin{gather*}\n",
    "    f(x) = 2x^2 - x + 1 \\\\\n",
    "    g(x) = x - 3 \\\\ \\\\\n",
    "\\end{gather*}"
   ]
  }
 ],
 "metadata": {
  "language_info": {
   "name": "python"
  }
 },
 "nbformat": 4,
 "nbformat_minor": 5
}
