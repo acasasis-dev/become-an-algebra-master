{
 "cells": [
  {
   "cell_type": "markdown",
   "id": "c5f22138",
   "metadata": {},
   "source": [
    "## Exercise 5: Negative Exponents And Product Rule"
   ]
  },
  {
   "cell_type": "markdown",
   "id": "4ed8f4c4",
   "metadata": {},
   "source": [
    "> 1. Write the expression without any negative exponents.\n",
    "\n",
    "\\begin{gather*}\n",
    "    \\frac{(2ab)^{-2}a^2}{b^{-4} \\cdot (ab)^0}\n",
    "\\end{gather*}"
   ]
  },
  {
   "cell_type": "markdown",
   "id": "0f6066db",
   "metadata": {},
   "source": [
    "> 2. Write the expression without any negative exponents.\n",
    "\n",
    "\\begin{gather*}\n",
    "    \\frac{2x^0y^{-5}}{z^{-1}(xy^2)^-3} \\\\ \\\\\n",
    "\\end{gather*}"
   ]
  },
  {
   "cell_type": "markdown",
   "id": "98873e06",
   "metadata": {},
   "source": [
    "> 3. Write the expression without any negative exponents.\n",
    "\n",
    "\\begin{gather*}\n",
    "    \\frac{1}{a^{-8}} \\\\ \\\\\n",
    "\\end{gather*}"
   ]
  },
  {
   "cell_type": "markdown",
   "id": "0e0dba38",
   "metadata": {},
   "source": [
    "> 4. Write the expression without any negative exponents.\n",
    "\n",
    "\\begin{gather*}\n",
    "    \\frac{8}{z^{-3}} \\\\ \\\\\n",
    "\\end{gather*}"
   ]
  },
  {
   "cell_type": "markdown",
   "id": "cbd772ab",
   "metadata": {},
   "source": [
    "> 5. Write the expression without any negative exponents.\n",
    "\n",
    "\\begin{gather*}\n",
    "    \\frac{2y^{-4}}{x^{-9}} \\\\ \\\\\n",
    "\\end{gather*}"
   ]
  },
  {
   "cell_type": "markdown",
   "id": "9b183454",
   "metadata": {},
   "source": [
    "> 6. Write the expression without any negative exponents.\n",
    "\n",
    "\\begin{gather*}\n",
    "    \\frac{1}{(3x^{-4}y^2)^{-3}} \\\\ \\\\\n",
    "\\end{gather*}"
   ]
  }
 ],
 "metadata": {
  "language_info": {
   "name": "python"
  }
 },
 "nbformat": 4,
 "nbformat_minor": 5
}
