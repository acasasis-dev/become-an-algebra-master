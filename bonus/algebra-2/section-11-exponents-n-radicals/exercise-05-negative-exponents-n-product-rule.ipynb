{
 "cells": [
  {
   "cell_type": "markdown",
   "id": "c5f22138",
   "metadata": {},
   "source": [
    "## Exercise 5: Negative Exponents And Product Rule"
   ]
  },
  {
   "cell_type": "markdown",
   "id": "4ed8f4c4",
   "metadata": {},
   "source": [
    "> 1. Write the expression without any negative exponents.\n",
    "\n",
    "\\begin{gather*}\n",
    "    \\frac{(2ab)^{-2}a^2}{b^{-4} \\cdot (ab)^0} \\\\ \\\\\n",
    "\n",
    "    \\frac{a^2 \\cdot b^4}{(2ab)^2 \\cdot (ab)^0} \\\\\n",
    "    \\frac{a^2b^4}{2^2a^2b^2} \\\\\n",
    "    \\frac{a^2b^4}{4a^2b^2} \\\\\n",
    "    \\frac{b^4}{4b^2} \\\\ \\\\\n",
    "\n",
    "    \\boxed{\\frac{b^2}{4}}\n",
    "\\end{gather*}"
   ]
  },
  {
   "cell_type": "markdown",
   "id": "0f6066db",
   "metadata": {},
   "source": [
    "> 2. Write the expression without any negative exponents.\n",
    "\n",
    "\\begin{gather*}\n",
    "    \\frac{2x^0y^{-5}}{z^{-1}(xy^2)^-3} \\\\ \\\\\n",
    "\n",
    "    \\frac{2(1)z^1(xy^2)^3}{y^5} \\\\\n",
    "    \\frac{2z(x^{1 \\cdot 3}y^{2 \\cdot 3})}{y^5} \\\\\n",
    "    \\frac{2z(x^3y^6)}{y^5} \\\\\n",
    "    \\frac{2x^3y^6z}{y^5} \\\\ \\\\\n",
    "\n",
    "    \\boxed{2x^3yz}\n",
    "\\end{gather*}"
   ]
  },
  {
   "cell_type": "markdown",
   "id": "98873e06",
   "metadata": {},
   "source": [
    "> 3. Write the expression without any negative exponents.\n",
    "\n",
    "\\begin{gather*}\n",
    "    \\frac{1}{a^{-8}} \\\\ \\\\\n",
    "\n",
    "    \\boxed{a^8}\n",
    "\\end{gather*}"
   ]
  },
  {
   "cell_type": "markdown",
   "id": "0e0dba38",
   "metadata": {},
   "source": [
    "> 4. Write the expression without any negative exponents.\n",
    "\n",
    "\\begin{gather*}\n",
    "    \\frac{8}{z^{-3}} \\\\ \\\\\n",
    "\n",
    "    \\boxed{8z^3}\n",
    "\\end{gather*}"
   ]
  },
  {
   "cell_type": "markdown",
   "id": "cbd772ab",
   "metadata": {},
   "source": [
    "> 5. Write the expression without any negative exponents.\n",
    "\n",
    "\\begin{gather*}\n",
    "    \\frac{2y^{-4}}{x^{-9}} \\\\ \\\\\n",
    "\n",
    "    \\boxed{\\frac{2x^9}{y^4}}\n",
    "\\end{gather*}"
   ]
  },
  {
   "cell_type": "markdown",
   "id": "9b183454",
   "metadata": {},
   "source": [
    "> 6. Write the expression without any negative exponents.\n",
    "\n",
    "\\begin{gather*}\n",
    "    \\frac{1}{(3x^{-4}y^2)^{-3}} \\\\ \\\\\n",
    "\n",
    "    \\frac{1}{3^{1 \\cdot -3}x^{-4 \\cdot -3}y^{2 \\cdot -3}} \\\\\n",
    "    \\frac{1}{3^{-3}x^{12}y^{-6}} \\\\\n",
    "    \\frac{3^3y^6}{x^{12}} \\\\ \\\\\n",
    "\n",
    "    \\boxed{\\frac{27y^6}{x^{12}}}\n",
    "\\end{gather*}"
   ]
  }
 ],
 "metadata": {
  "language_info": {
   "name": "python"
  }
 },
 "nbformat": 4,
 "nbformat_minor": 5
}
