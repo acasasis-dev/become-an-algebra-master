{
 "cells": [
  {
   "cell_type": "markdown",
   "id": "a62cf54e",
   "metadata": {},
   "source": [
    "## Exercise 1: Powers of Negative Bases"
   ]
  },
  {
   "cell_type": "markdown",
   "id": "5085a57e",
   "metadata": {},
   "source": [
    "> 1. Simplify the expression.\n",
    "\n",
    "\\begin{gather*}\n",
    "    -2^2 \\\\ \\\\\n",
    "\n",
    "    -(2)^2 \\\\\n",
    "    -(4) \\\\ \\\\\n",
    "\n",
    "    \\boxed{-4}\n",
    "\\end{gather*}"
   ]
  },
  {
   "cell_type": "markdown",
   "id": "b38723bd",
   "metadata": {},
   "source": [
    "> 2. Simplify the expression.\n",
    "\n",
    "\\begin{gather*}\n",
    "    (-3)^4 \\\\ \\\\\n",
    "\n",
    "    -3 \\cdot -3 \\cdot -3 \\cdot -3 \\\\\n",
    "    9 \\cdot -3 \\cdot -3 \\\\\n",
    "    -27 \\cdot -3 \\\\ \\\\\n",
    "\n",
    "    \\boxed{81}\n",
    "\\end{gather*}"
   ]
  },
  {
   "cell_type": "markdown",
   "id": "ba7d6934",
   "metadata": {},
   "source": [
    "> 3. Simplify the expression.\n",
    "\n",
    "\\begin{gather*}\n",
    "    (-5)^3 \\\\ \\\\\n",
    "\n",
    "    -5 \\cdot -5 \\cdot -5 \\\\\n",
    "    25 \\cdot -5 \\\\ \\\\\n",
    "\n",
    "    \\boxed{-125}\n",
    "\\end{gather*}"
   ]
  },
  {
   "cell_type": "markdown",
   "id": "7f0ed6b6",
   "metadata": {},
   "source": [
    "> 4. Simplify the expression.\n",
    "\n",
    "\\begin{gather*}\n",
    "    -3^3 + (-1)^5 \\cdot 9^2 \\\\ \\\\\n",
    "\n",
    "    (-(3 \\cdot 3 \\cdot 3)) + -1 \\cdot (9 \\cdot 9) \\\\\n",
    "    (-(27)) - 1 \\cdot 81 \\\\\n",
    "    -27 - 81 \\\\\n",
    "\n",
    "    \\boxed{-108}\n",
    "\\end{gather*}"
   ]
  },
  {
   "cell_type": "markdown",
   "id": "c0169aff",
   "metadata": {},
   "source": [
    "> 5. Simplify the expression.\n",
    "\n",
    "\\begin{gather*}\n",
    "    -4^2 \\cdot (-2)^3 + 0^4 \\\\ \\\\\n",
    "\n",
    "    -(4 \\cdot 4) \\cdot (-2 \\cdot -2 \\cdot -2) + 0 \\\\\n",
    "    -(16) \\cdot (-8) \\\\\n",
    "    -16 \\cdot -8 \\\\ \\\\\n",
    "    \n",
    "    \\boxed{128}\n",
    "\\end{gather*}"
   ]
  },
  {
   "cell_type": "markdown",
   "id": "18d6e4ce",
   "metadata": {},
   "source": [
    "> 6. Simplify the expression.\n",
    "\n",
    "\\begin{gather*}\n",
    "    -9^2 + (-1)^6 - 3^2 \\cdot (-5)^3 \\\\ \\\\\n",
    "\n",
    "    -(9 \\cdot 9) + 1 - (3 \\cdot 3) \\cdot (-5 \\cdot -5 \\cdot -5) \\\\\n",
    "    -(81) + 1 - (9) \\cdot (-125) \\\\\n",
    "    -81 + 1 - 9 \\cdot -125 \\\\\n",
    "    -81 + 1 + 1125 \\\\\n",
    "    -80 + 1125 \\\\ \\\\\n",
    "\n",
    "    \\boxed{1045}\n",
    "\\end{gather*}"
   ]
  }
 ],
 "metadata": {
  "language_info": {
   "name": "python"
  }
 },
 "nbformat": 4,
 "nbformat_minor": 5
}
