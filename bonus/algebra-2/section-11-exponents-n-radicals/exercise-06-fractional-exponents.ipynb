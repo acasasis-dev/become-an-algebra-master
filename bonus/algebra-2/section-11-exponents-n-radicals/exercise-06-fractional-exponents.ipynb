{
 "cells": [
  {
   "cell_type": "markdown",
   "id": "41805a23",
   "metadata": {},
   "source": [
    "## Exercise 6: Fractional Exponents"
   ]
  },
  {
   "cell_type": "markdown",
   "id": "972b8cdc",
   "metadata": {},
   "source": [
    "> 1. Simplify the expression.\n",
    "\n",
    "\\begin{gather*}\n",
    "    b^2 \\cdot b^{\\frac{2}{3}} \\\\ \\\\\n",
    "\\end{gather*}"
   ]
  },
  {
   "cell_type": "markdown",
   "id": "f76c5c35",
   "metadata": {},
   "source": [
    "> 2. Simplify the expression.\n",
    "\n",
    "\\begin{gather*}\n",
    "    x^5 \\cdot x^{\\frac{1}{6}} \\\\ \\\\\n",
    "\\end{gather*}"
   ]
  },
  {
   "cell_type": "markdown",
   "id": "3c8dd376",
   "metadata": {},
   "source": [
    "> 3. Simplify the expression.\n",
    "\n",
    "\\begin{gather*}\n",
    "    \\left( \\frac{1}{16} \\right)^{\\frac{2}{3}} \\\\ \\\\\n",
    "\\end{gather*}"
   ]
  },
  {
   "cell_type": "markdown",
   "id": "63587226",
   "metadata": {},
   "source": [
    "> 4. Simplify the expression.\n",
    "\n",
    "\\begin{gather*}\n",
    "    8^{\\frac{2}{3}} \\\\ \\\\\n",
    "\\end{gather*}"
   ]
  },
  {
   "cell_type": "markdown",
   "id": "96284787",
   "metadata": {},
   "source": [
    "> 5. Simplify the expression.\n",
    "\n",
    "\\begin{gather*}\n",
    "    3^{-\\frac{3}{7}} \\\\ \\\\\n",
    "\\end{gather*}"
   ]
  },
  {
   "cell_type": "markdown",
   "id": "1db053d3",
   "metadata": {},
   "source": [
    "> 6. Simplify the expression.\n",
    "\n",
    "\\begin{gather*}\n",
    "    (81a^4b^{\\frac{1}{2}})^{-\\frac{5}{4}} \\\\ \\\\\n",
    "\\end{gather*}"
   ]
  }
 ],
 "metadata": {
  "language_info": {
   "name": "python"
  }
 },
 "nbformat": 4,
 "nbformat_minor": 5
}
