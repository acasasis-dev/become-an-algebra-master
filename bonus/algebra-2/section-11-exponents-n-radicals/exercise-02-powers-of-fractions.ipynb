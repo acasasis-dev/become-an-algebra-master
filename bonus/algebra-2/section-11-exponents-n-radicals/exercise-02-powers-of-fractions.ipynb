{
 "cells": [
  {
   "cell_type": "markdown",
   "id": "36730d51",
   "metadata": {},
   "source": [
    "## Exercise 2: Powers of Fractions"
   ]
  },
  {
   "cell_type": "markdown",
   "id": "ae4b9d7c",
   "metadata": {},
   "source": [
    "> 1. Simplify the expression.\n",
    "\n",
    "\\begin{gather*}\n",
    "    \\left( \\frac{5}{6} \\right)^2 \\\\ \\\\\n",
    "\n",
    "    \\frac{5^2}{6^2} \\\\ \\\\\n",
    "    \n",
    "    \\boxed{\\frac{25}{36}}\n",
    "\\end{gather*}"
   ]
  },
  {
   "cell_type": "markdown",
   "id": "9a38da57",
   "metadata": {},
   "source": [
    "> 2. Simplify the expression.\n",
    "\n",
    "\\begin{gather*}\n",
    "    \\left( \\frac{1}{2} \\right)^3 \\cdot \\left( \\frac{2}{3} \\right)^2 \\\\ \\\\\n",
    "\n",
    "    \\frac{1^3}{2^3} \\cdot \\frac{2^2}{3^2} \\\\\n",
    "    \\frac{1}{8} \\cdot \\frac{4}{9} \\\\ \\\\\n",
    "\n",
    "    \\boxed{\\frac{4}{72} \\ \\text{or} \\ \\frac{1}{18}}\n",
    "\\end{gather*}"
   ]
  },
  {
   "cell_type": "markdown",
   "id": "4592af47",
   "metadata": {},
   "source": [
    "> 3. Simplify the expression.\n",
    "\n",
    "\\begin{gather*}\n",
    "    \\left( \\frac{x^3}{y^5} \\right)^2 \\cdot \\left( \\frac{xy}{z^2} \\right)^4 \\\\ \\\\\n",
    "\n",
    "    \\frac{x^{3 \\cdot 2}}{y^{5 \\cdot 2}} \\cdot \\frac{(xy)^4}{z^{2 \\cdot 4}} \\\\\n",
    "    \\frac{x^6}{y^{10}} \\cdot \\frac{x^4y^4}{z^8} \\\\\n",
    "    \\frac{x^{10}y^4}{y^{10}z^8} \\\\ \\\\\n",
    "\n",
    "    \\boxed{\\frac{x^{10}}{y^6z^8}}\n",
    "\\end{gather*}"
   ]
  },
  {
   "cell_type": "markdown",
   "id": "ada283c8",
   "metadata": {},
   "source": [
    "> 4. Simplify the expression.\n",
    "\n",
    "\\begin{gather*}\n",
    "    \\left( \\frac{2}{3} \\right)^4 \\\\ \\\\\n",
    "\n",
    "    \\frac{2^4}{3^4} \\\\ \\\\\n",
    "\n",
    "    \\boxed{\\frac{16}{81}}\n",
    "\\end{gather*}"
   ]
  },
  {
   "cell_type": "markdown",
   "id": "08eb5652",
   "metadata": {},
   "source": [
    "> 5. Simplify the expression.\n",
    "\n",
    "\\begin{gather*}\n",
    "    \\left( \\frac{x^3}{y^2} \\right)^5 \\\\ \\\\\n",
    "\n",
    "    \\frac{x^{3 \\cdot 5}}{y^{2 \\cdot 5}} \\\\ \\\\\n",
    "\n",
    "    \\boxed{\\frac{x^{15}}{y^{10}}}\n",
    "\\end{gather*}"
   ]
  },
  {
   "cell_type": "markdown",
   "id": "caf14531",
   "metadata": {},
   "source": [
    "> 6. Simplify the expression.\n",
    "\n",
    "\\begin{gather*}\n",
    "    \\left( \\frac{a^2}{b} \\right)^4 \\\\ \\\\\n",
    "\n",
    "    \\frac{a^{2 \\cdot 4}}{b^4} \\\\ \\\\\n",
    "\n",
    "    \\boxed{\\frac{a^{8}}{b^4}}\n",
    "\\end{gather*}"
   ]
  }
 ],
 "metadata": {
  "language_info": {
   "name": "python"
  }
 },
 "nbformat": 4,
 "nbformat_minor": 5
}
