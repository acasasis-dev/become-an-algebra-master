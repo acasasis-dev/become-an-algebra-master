{
 "cells": [
  {
   "cell_type": "markdown",
   "id": "36730d51",
   "metadata": {},
   "source": [
    "## Exercise 2: Powers of Fractions"
   ]
  },
  {
   "cell_type": "markdown",
   "id": "ae4b9d7c",
   "metadata": {},
   "source": [
    "> 1. Simplify the expression.\n",
    "\n",
    "\\begin{gather*}\n",
    "    \\left( \\frac{5}{6} \\right)^2 \\\\ \\\\\n",
    "\\end{gather*}"
   ]
  },
  {
   "cell_type": "markdown",
   "id": "9a38da57",
   "metadata": {},
   "source": [
    "> 2. Simplify the expression.\n",
    "\n",
    "\\begin{gather*}\n",
    "    \\left( \\frac{1}{2} \\right)^3 \\cdot \\left( \\frac{2}{3} \\right)^2 \\\\ \\\\ \n",
    "\\end{gather*}"
   ]
  },
  {
   "cell_type": "markdown",
   "id": "4592af47",
   "metadata": {},
   "source": [
    "> 3. Simplify the expression.\n",
    "\n",
    "\\begin{gather*}\n",
    "    \\left( \\frac{x^3}{y^5} \\right)^2 \\cdot \\left( \\frac{xy}{z^2} \\right)^4 \\\\ \\\\\n",
    "\\end{gather*}"
   ]
  },
  {
   "cell_type": "markdown",
   "id": "ada283c8",
   "metadata": {},
   "source": [
    "> 4. Simplify the expression.\n",
    "\n",
    "\\begin{gather*}\n",
    "    \\left( \\frac{2}{3} \\right)^4 \\\\ \\\\\n",
    "\\end{gather*}"
   ]
  },
  {
   "cell_type": "markdown",
   "id": "08eb5652",
   "metadata": {},
   "source": [
    "> 5. Simplify the expression.\n",
    "\n",
    "\\begin{gather*}\n",
    "    \\left( \\frac{x^3}{y^2} \\right)^5 \\\\ \\\\\n",
    "\\end{gather*}"
   ]
  },
  {
   "cell_type": "markdown",
   "id": "caf14531",
   "metadata": {},
   "source": [
    "> 6. Simplify the expression.\n",
    "\n",
    "\\begin{gather*}\n",
    "    \\left( \\frac{a^2}{b} \\right)^4 \\\\ \\\\\n",
    "\\end{gather*}"
   ]
  }
 ],
 "metadata": {
  "language_info": {
   "name": "python"
  }
 },
 "nbformat": 4,
 "nbformat_minor": 5
}
