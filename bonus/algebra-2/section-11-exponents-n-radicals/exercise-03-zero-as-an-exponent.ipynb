{
 "cells": [
  {
   "cell_type": "markdown",
   "id": "9dc25b41",
   "metadata": {},
   "source": [
    "## Exercise 03: Zero As An Exponent"
   ]
  },
  {
   "cell_type": "markdown",
   "id": "15102a6f",
   "metadata": {},
   "source": [
    "> 1. Simplify the expression.\n",
    "\n",
    "\\begin{gather*}\n",
    "    \\frac{4^0 \\cdot 9^2}{(-2)^0 + 2^1} \\\\ \\\\\n",
    "\n",
    "    \\frac{1 \\cdot (9 \\cdot 9)}{1 + 2} \\\\\n",
    "    \\frac{81}{3} \\\\ \\\\\n",
    "\n",
    "    \\boxed{27}\n",
    "\\end{gather*}"
   ]
  },
  {
   "cell_type": "markdown",
   "id": "a8782df3",
   "metadata": {},
   "source": [
    "> 2. Simplify the expression.\n",
    "\n",
    "\\begin{gather*}\n",
    "    1042^0 \\\\ \\\\\n",
    "\n",
    "    \\boxed{1}\n",
    "\\end{gather*}"
   ]
  },
  {
   "cell_type": "markdown",
   "id": "f72faa4d",
   "metadata": {},
   "source": [
    "> 3. Simplify the expression.\n",
    "\n",
    "\\begin{gather*}\n",
    "    (10^2 + 3^3)^0 \\\\ \\\\\n",
    "\n",
    "    ((10 \\cdot 10) + (3 \\cdot 3 \\cdot 3))^0 \\\\\n",
    "    (100 + 27)^0 \\\\\n",
    "    127^0 \\\\ \\\\\n",
    "\n",
    "    \\boxed{1}\n",
    "\\end{gather*}"
   ]
  },
  {
   "cell_type": "markdown",
   "id": "74c55e00",
   "metadata": {},
   "source": [
    "> 4. Simplify the expression.\n",
    "\n",
    "\\begin{gather*}\n",
    "    (-1)^0 \\\\ \\\\\n",
    "\n",
    "    \\boxed{1}\n",
    "\\end{gather*}"
   ]
  },
  {
   "cell_type": "markdown",
   "id": "ed1f86dc",
   "metadata": {},
   "source": [
    "> 5. Simplify the expression.\n",
    "\n",
    "\\begin{gather*}\n",
    "    (2ac - 4x)^0 \\\\ \\\\\n",
    "\n",
    "    \\boxed{1}\n",
    "\\end{gather*}"
   ]
  },
  {
   "cell_type": "markdown",
   "id": "cb2e9109",
   "metadata": {},
   "source": [
    "> 6. Simplify the expression.\n",
    "\n",
    "\\begin{gather*}\n",
    "    (-100b)^0 \\\\ \\\\\n",
    "\n",
    "    \\boxed{1}\n",
    "\\end{gather*}"
   ]
  }
 ],
 "metadata": {
  "language_info": {
   "name": "python"
  }
 },
 "nbformat": 4,
 "nbformat_minor": 5
}
