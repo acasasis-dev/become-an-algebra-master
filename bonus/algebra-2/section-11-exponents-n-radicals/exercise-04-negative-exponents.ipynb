{
 "cells": [
  {
   "cell_type": "markdown",
   "id": "85104930",
   "metadata": {},
   "source": [
    "## Exercise 4: Negative Exponents"
   ]
  },
  {
   "cell_type": "markdown",
   "id": "0f5daaa1",
   "metadata": {},
   "source": [
    "> 1. Simplify the expression.\n",
    "\n",
    "\\begin{gather*}\n",
    "    3 \\cdot 5^{-2} \\cdot 6^{-2} \\\\ \\\\\n",
    "\\end{gather*}"
   ]
  },
  {
   "cell_type": "markdown",
   "id": "86176c9b",
   "metadata": {},
   "source": [
    "> 2. Simplify the expression.\n",
    "\n",
    "\\begin{gather*}\n",
    "    4^{-3} \\\\ \\\\\n",
    "\\end{gather*}"
   ]
  },
  {
   "cell_type": "markdown",
   "id": "89e988ea",
   "metadata": {},
   "source": [
    "> 3. Simplify the expression.\n",
    "\n",
    "\\begin{gather*}\n",
    "    -3^{-1} \\\\ \\\\\n",
    "\\end{gather*}"
   ]
  },
  {
   "cell_type": "markdown",
   "id": "b14878bf",
   "metadata": {},
   "source": [
    "> 4. Simplify the expression.\n",
    "\n",
    "\\begin{gather*}\n",
    "    -2^{-2} \\cdot (-2)^{-2} \\\\ \\\\\n",
    "\\end{gather*}"
   ]
  },
  {
   "cell_type": "markdown",
   "id": "8409a695",
   "metadata": {},
   "source": [
    "> 5. Write the expression with only positive exponents.\n",
    "\n",
    "\\begin{gather*}\n",
    "    a^{-5} \\\\ \\\\\n",
    "\\end{gather*}"
   ]
  },
  {
   "cell_type": "markdown",
   "id": "6ed2f6cd",
   "metadata": {},
   "source": [
    "> 6. Write the expression with only positive exponents.\n",
    "\n",
    "\\begin{gather*}\n",
    "    \\frac{x^{-3}y^2}{x^4y^7} \\\\ \\\\\n",
    "\\end{gather*}"
   ]
  }
 ],
 "metadata": {
  "language_info": {
   "name": "python"
  }
 },
 "nbformat": 4,
 "nbformat_minor": 5
}
