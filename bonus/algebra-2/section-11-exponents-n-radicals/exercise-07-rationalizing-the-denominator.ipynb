{
 "cells": [
  {
   "cell_type": "markdown",
   "id": "e79a20d5",
   "metadata": {},
   "source": [
    "## Exercise 7: Rationalizing The Denominator"
   ]
  },
  {
   "cell_type": "markdown",
   "id": "cc6c4f87",
   "metadata": {},
   "source": [
    "> 1. Rationalize the denominator.\n",
    "\n",
    "\\begin{gather*}\n",
    "    \\frac{2}{\\sqrt{5}} \\\\ \\\\\n",
    "    \n",
    "    \\frac{2}{\\sqrt{5}} \\cdot \\frac{\\sqrt{5}}{\\sqrt{5}} \\\\ \\\\\n",
    "\n",
    "    \\boxed{\\frac{2\\sqrt{5}}{5}}\n",
    "\\end{gather*}"
   ]
  },
  {
   "cell_type": "markdown",
   "id": "f53ba2e8",
   "metadata": {},
   "source": [
    "> 2. Rationalize the denominator.\n",
    "\n",
    "\\begin{gather*}\n",
    "    \\frac{1}{4\\sqrt{3}} \\\\ \\\\\n",
    "\n",
    "    \\frac{1}{4\\sqrt{3}} \\cdot \\frac{\\sqrt{3}}{\\sqrt{3}} \\\\\n",
    "    \\frac{\\sqrt{3}}{4(3)} \\\\ \\\\\n",
    "\n",
    "    \\boxed{\\frac{\\sqrt{3}}{12}}\n",
    "\\end{gather*}"
   ]
  },
  {
   "cell_type": "markdown",
   "id": "045aa3a2",
   "metadata": {},
   "source": [
    "> 3. Simplify the expression, making sure to rationalize the denominator.\n",
    "\n",
    "\\begin{gather*}\n",
    "    \\sqrt{\\frac{4}{12}} + \\sqrt{\\frac{9}{12}} \\\\ \\\\\n",
    "\n",
    "    \\frac{\\sqrt{4}}{\\sqrt{12}} + \\frac{\\sqrt{9}}{\\sqrt{12}} \\\\\n",
    "    \\frac{2}{\\sqrt{4}\\sqrt{3}} + \\frac{3}{\\sqrt{4}\\sqrt{3}} \\\\\n",
    "    \\frac{2}{2\\sqrt{3}} + \\frac{3}{2\\sqrt{3}} \\\\\n",
    "    \\frac{5}{2\\sqrt{3}} \\\\\n",
    "    \\frac{5}{2\\sqrt{3}} \\cdot \\frac{\\sqrt{3}}{\\sqrt{3}} \\\\\n",
    "    \\frac{5\\sqrt{3}}{2(3)} \\\\ \\\\\n",
    "\n",
    "    \\boxed{\\frac{5\\sqrt{3}}{6}}\n",
    "\\end{gather*}"
   ]
  },
  {
   "cell_type": "markdown",
   "id": "7e1541db",
   "metadata": {},
   "source": [
    "> 4. Simplify the expression, making sure to rationalize the denominator.\n",
    "\n",
    "\\begin{gather*}\n",
    "    \\sqrt{\\frac{6}{25}} + \\sqrt{\\frac{20}{24}} \\\\ \\\\\n",
    "\n",
    "    \\frac{\\sqrt{6}}{\\sqrt{25}} + \\frac{\\sqrt{20}}{\\sqrt{24}} \\\\\n",
    "    \\frac{\\sqrt{6}}{5} + \\frac{\\sqrt{4}\\sqrt{5}}{\\sqrt{4}\\sqrt{6}} \\\\\n",
    "    \\frac{\\sqrt{6}}{5} + \\frac{2\\sqrt{5}}{2\\sqrt{6}} \\\\\n",
    "    \\frac{2\\sqrt{6}}{2\\sqrt{6}} \\left( \\frac{\\sqrt{6}}{5} \\right) + \\left( \\frac{2\\sqrt{5}}{2\\sqrt{6}} \\right) \\frac{5}{5} \\\\\n",
    "    \\frac{2\\sqrt{36}}{10\\sqrt{6}} + \\frac{10\\sqrt{5}}{10\\sqrt{6}} \\\\\n",
    "    \\frac{2(6)}{10\\sqrt{6}} + \\frac{10\\sqrt{5}}{10\\sqrt{6}} \\\\\n",
    "    \\frac{12}{10\\sqrt{6}} + \\frac{10\\sqrt{5}}{10\\sqrt{6}} \\\\\n",
    "    \\frac{12 + 10\\sqrt{5}}{10\\sqrt{6}} \\\\\n",
    "    \\left( \\frac{12 + 10\\sqrt{5}}{10\\sqrt{6}} \\right) \\frac{\\sqrt{6}}{\\sqrt{6}} \\\\\n",
    "    \\frac{12\\sqrt{6} + 10\\sqrt{30}}{10(6)} \\\\\n",
    "    \\frac{12\\sqrt{6} + 10\\sqrt{30}}{60} \\\\ \\\\\n",
    "\n",
    "    \\boxed{\\frac{6\\sqrt{6} + 5\\sqrt{30}}{30}}\n",
    "\\end{gather*}"
   ]
  },
  {
   "cell_type": "markdown",
   "id": "5d273ab2",
   "metadata": {},
   "source": [
    "> 5. Simplify the expression, making sure to rationalize the denominator.\n",
    "\n",
    "\\begin{gather*}\n",
    "    4\\sqrt{\\frac{2}{3}} - 7\\sqrt{\\frac{3}{2}} + \\sqrt{96} \\\\ \\\\\n",
    "\n",
    "    \\frac{4\\sqrt{2}}{\\sqrt{3}} - \\frac{7\\sqrt{3}}{\\sqrt{2}} + \\sqrt{16}\\sqrt{6} \\\\\n",
    "    \\left(\\frac{4\\sqrt{2}}{\\sqrt{3}}\\right)\\frac{\\sqrt{2}}{\\sqrt{2}} - \\left(\\frac{7\\sqrt{3}}{\\sqrt{2}}\\right)\\frac{\\sqrt{3}}{\\sqrt{3}} + (\\sqrt{16}\\sqrt{6})\\frac{\\sqrt{6}}{\\sqrt{6}} \\\\\n",
    "    \\frac{4\\sqrt{4}}{\\sqrt{6}} - \\frac{7\\sqrt{9}}{\\sqrt{6}} + \\frac{\\sqrt{16}\\sqrt{36}}{\\sqrt{6}} \\\\\n",
    "    \\frac{4(2)}{\\sqrt{6}} - \\frac{7(3)}{\\sqrt{6}} + \\frac{(4)(6)}{\\sqrt{6}} \\\\\n",
    "    \\frac{8}{\\sqrt{6}} - \\frac{21}{\\sqrt{6}} + \\frac{24}{\\sqrt{6}} \\\\\n",
    "    -\\frac{13}{\\sqrt{6}} + \\frac{24}{\\sqrt{6}} \\\\\n",
    "    \\frac{11}{\\sqrt{6}} \\\\\n",
    "    \\left(\\frac{11}{\\sqrt{6}}\\right)\\frac{\\sqrt{6}}{\\sqrt{6}} \\\\ \\\\\n",
    "\n",
    "    \\boxed{\\frac{11\\sqrt{6}}{6}}\n",
    "\\end{gather*}"
   ]
  },
  {
   "cell_type": "markdown",
   "id": "c888ca20",
   "metadata": {},
   "source": [
    "> 6. Simplify the expression, making sure to rationalize the denominator.\n",
    "\n",
    "\\begin{gather*}\n",
    "    5\\sqrt{\\frac{5}{7}} + \\sqrt{\\frac{7}{5}} - \\sqrt{140} \\\\ \\\\\n",
    "\n",
    "    \\frac{5\\sqrt{5}}{\\sqrt{7}} + \\frac{\\sqrt{7}}{\\sqrt{5}} - \\sqrt{4}\\sqrt{35} \\\\\n",
    "    \\frac{5\\sqrt{5}}{\\sqrt{7}} + \\frac{\\sqrt{7}}{\\sqrt{5}} - 2\\sqrt{35} \\\\\n",
    "    \\frac{\\sqrt{5}}{\\sqrt{5}} \\left(\\frac{5\\sqrt{5}}{\\sqrt{7}} \\right) + \\frac{\\sqrt{7}}{\\sqrt{7}} \\left( \\frac{\\sqrt{7}}{\\sqrt{5}} \\right) - (2\\sqrt{35})\\frac{\\sqrt{35}}{\\sqrt{35}} \\\\\n",
    "    \\frac{5(5)}{\\sqrt{35}} + \\frac{7}{\\sqrt{35}} - \\frac{2(35)}{\\sqrt{35}} \\\\\n",
    "    \\frac{25}{\\sqrt{35}} + \\frac{7}{\\sqrt{35}} - \\frac{70}{\\sqrt{35}} \\\\\n",
    "    \\frac{32}{\\sqrt{35}} - \\frac{70}{\\sqrt{35}} \\\\\n",
    "    -\\frac{38}{\\sqrt{35}} \\\\\n",
    "    \\left( -\\frac{38}{\\sqrt{35}} \\right) \\frac{\\sqrt{35}}{\\sqrt{35}} \\\\ \\\\\n",
    "\n",
    "    \\boxed{\\frac{-38\\sqrt{35}}{35}}\n",
    "\\end{gather*}"
   ]
  }
 ],
 "metadata": {
  "language_info": {
   "name": "python"
  }
 },
 "nbformat": 4,
 "nbformat_minor": 5
}
