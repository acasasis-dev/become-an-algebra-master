{
 "cells": [
  {
   "cell_type": "markdown",
   "id": "e79a20d5",
   "metadata": {},
   "source": [
    "## Exercise 7: Rationalizing The Denominator"
   ]
  },
  {
   "cell_type": "markdown",
   "id": "cc6c4f87",
   "metadata": {},
   "source": [
    "> 1. Rationalize the denominator.\n",
    "\n",
    "\\begin{gather*}\n",
    "    \\frac{2}{\\sqrt{5}} \\\\ \\\\\n",
    "\\end{gather*}"
   ]
  },
  {
   "cell_type": "markdown",
   "id": "f53ba2e8",
   "metadata": {},
   "source": [
    "> 2. Rationalize the denominator.\n",
    "\n",
    "\\begin{gather*}\n",
    "    \\frac{1}{4\\sqrt{3}} \\\\ \\\\\n",
    "\\end{gather*}"
   ]
  },
  {
   "cell_type": "markdown",
   "id": "045aa3a2",
   "metadata": {},
   "source": [
    "> 3. Simplify the expression, making sure to rationalize the denominator.\n",
    "\n",
    "\\begin{gather*}\n",
    "    \\sqrt{\\frac{4}{12}} + \\sqrt{\\frac{20}{24}} \\\\ \\\\\n",
    "\\end{gather*}"
   ]
  },
  {
   "cell_type": "markdown",
   "id": "7e1541db",
   "metadata": {},
   "source": [
    "> 4. Simplify the expression, making sure to rationalize the denominator.\n",
    "\n",
    "\\begin{gather*}\n",
    "    \\sqrt{\\frac{6}{25}} + \\sqrt{\\frac{20}{24}} \\\\ \\\\\n",
    "\\end{gather*}"
   ]
  },
  {
   "cell_type": "markdown",
   "id": "5d273ab2",
   "metadata": {},
   "source": [
    "> 5. Simplify the expression, making sure to rationalize the denominator.\n",
    "\n",
    "\\begin{gather*}\n",
    "    4\\sqrt{\\frac{2}{3}} - 7\\sqrt{\\frac{2}{3}} + \\sqrt{96} \\\\ \\\\\n",
    "\\end{gather*}"
   ]
  },
  {
   "cell_type": "markdown",
   "id": "c888ca20",
   "metadata": {},
   "source": [
    "> 6. Simplify the expression, making sure to rationalize the denominator.\n",
    "\n",
    "\\begin{gather*}\n",
    "    5\\sqrt{\\frac{5}{7}} + \\sqrt{\\frac{7}{5}} - \\sqrt{140} \\\\ \\\\\n",
    "\\end{gather*}"
   ]
  }
 ],
 "metadata": {
  "language_info": {
   "name": "python"
  }
 },
 "nbformat": 4,
 "nbformat_minor": 5
}
