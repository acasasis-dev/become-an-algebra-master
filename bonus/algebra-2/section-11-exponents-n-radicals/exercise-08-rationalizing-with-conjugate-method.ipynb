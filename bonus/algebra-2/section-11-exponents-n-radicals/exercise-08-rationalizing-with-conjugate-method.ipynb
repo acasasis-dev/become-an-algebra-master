{
 "cells": [
  {
   "cell_type": "markdown",
   "id": "b5e0c027",
   "metadata": {},
   "source": [
    "## Exercise 8: Rationalizing With Conjugate Method"
   ]
  },
  {
   "cell_type": "markdown",
   "id": "9f8b0dab",
   "metadata": {},
   "source": [
    "> 1. Simplify the expression.\n",
    "\n",
    "\\begin{gather*}\n",
    "    \\frac{2 -\\sqrt{5}}{\\sqrt{5} - 7} \\\\ \\\\\n",
    "\\end{gather*}"
   ]
  },
  {
   "cell_type": "markdown",
   "id": "ad6e85b7",
   "metadata": {},
   "source": [
    "> 2. Simplify the expression.\n",
    "\n",
    "\\begin{gather*}\n",
    "    \\frac{\\sqrt{3} + \\sqrt{6}}{\\sqrt{6} - \\sqrt{3}} \\\\ \\\\\n",
    "\\end{gather*}"
   ]
  },
  {
   "cell_type": "markdown",
   "id": "3a5a52fd",
   "metadata": {},
   "source": [
    "> 3. Simplify the expression.\n",
    "\n",
    "\\begin{gather*}\n",
    "    \\frac{8}{4 + \\sqrt{2}} \\\\ \\\\\n",
    "\\end{gather*}"
   ]
  },
  {
   "cell_type": "markdown",
   "id": "68505179",
   "metadata": {},
   "source": [
    "> 4. Simplify the expression.\n",
    "\n",
    "\\begin{gather*}\n",
    "    \\frac{x + \\sqrt{5}}{-5\\sqrt{x} + \\sqrt{5}} \\\\ \\\\\n",
    "\\end{gather*}"
   ]
  },
  {
   "cell_type": "markdown",
   "id": "40f531e8",
   "metadata": {},
   "source": [
    "> 5. Simplify the expression.\n",
    "\n",
    "\\begin{gather*}\n",
    "    \\frac{1 + \\sqrt{y}}{\\sqrt{y} + \\sqrt{3}} \\\\ \\\\\n",
    "\\end{gather*}"
   ]
  },
  {
   "cell_type": "markdown",
   "id": "65682fc8",
   "metadata": {},
   "source": [
    "> 6. Simplify the expression.\n",
    "\n",
    "\\begin{gather*}\n",
    "    \\frac{\\sqrt{x}}{\\sqrt{x} + \\sqrt{y}} \\\\ \\\\\n",
    "\\end{gather*}"
   ]
  }
 ],
 "metadata": {
  "language_info": {
   "name": "python"
  }
 },
 "nbformat": 4,
 "nbformat_minor": 5
}
