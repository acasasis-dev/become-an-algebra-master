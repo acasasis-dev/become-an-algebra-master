{
 "cells": [
  {
   "cell_type": "markdown",
   "id": "b5e0c027",
   "metadata": {},
   "source": [
    "## Exercise 8: Rationalizing With Conjugate Method"
   ]
  },
  {
   "cell_type": "markdown",
   "id": "9f8b0dab",
   "metadata": {},
   "source": [
    "> 1. Simplify the expression.\n",
    "\n",
    "\\begin{gather*}\n",
    "    \\frac{2 -\\sqrt{5}}{\\sqrt{5} - 7} \\\\ \\\\\n",
    "\n",
    "    \\left(\\frac{2 -\\sqrt{5}}{\\sqrt{5} - 7}\\right)\\frac{\\sqrt{5} + 7}{\\sqrt{5} + 7} \\\\\n",
    "    \\frac{(2 -\\sqrt{5})(\\sqrt{5} + 7)}{(\\sqrt{5} - 7)(\\sqrt{5} + 7)} \\\\\n",
    "    \\frac{2\\sqrt{5} + 14 - 5 - 7\\sqrt{5}}{5 + 7\\sqrt{5} - 7\\sqrt{5} - 49} \\\\\n",
    "    \\frac{9 - 5\\sqrt{5}}{-44} \\\\\n",
    "    -(\\frac{9 - 5\\sqrt{5}}{-44}) \\\\ \\\\\n",
    "\n",
    "    \\boxed{\\frac{5\\sqrt{5} - 9}{44}}\n",
    "\\end{gather*}"
   ]
  },
  {
   "cell_type": "markdown",
   "id": "ad6e85b7",
   "metadata": {},
   "source": [
    "> 2. Simplify the expression.\n",
    "\n",
    "\\begin{gather*}\n",
    "    \\frac{\\sqrt{3} + \\sqrt{6}}{\\sqrt{6} - \\sqrt{3}} \\\\ \\\\\n",
    "\n",
    "    \\left(\\frac{\\sqrt{3} + \\sqrt{6}}{\\sqrt{6} - \\sqrt{3}}\\right)\\frac{\\sqrt{6} + \\sqrt{3}}{\\sqrt{6} + \\sqrt{3}} \\\\\n",
    "    \\frac{(\\sqrt{3} + \\sqrt{6})(\\sqrt{6} + \\sqrt{3})}{(\\sqrt{6} - \\sqrt{3})(\\sqrt{6} + \\sqrt{3})} \\\\\n",
    "    \\frac{\\sqrt{18} + \\sqrt{9} + 6 + \\sqrt{18}}{6 + \\sqrt{18} - \\sqrt{18} - 3} \\\\\n",
    "    \\frac{2\\sqrt{9}\\sqrt{2} + 3 + 6}{6 - 3} \\\\\n",
    "    \\frac{2(3)\\sqrt{2} + 9}{3} \\\\\n",
    "    \\frac{6\\sqrt{2} + 9}{3} \\\\ \\\\\n",
    "\n",
    "    \\boxed{2\\sqrt{2} + 3}\n",
    "\\end{gather*}"
   ]
  },
  {
   "cell_type": "markdown",
   "id": "3a5a52fd",
   "metadata": {},
   "source": [
    "> 3. Simplify the expression.\n",
    "\n",
    "\\begin{gather*}\n",
    "    \\frac{8}{4 + \\sqrt{2}} \\\\ \\\\\n",
    "\n",
    "    \\left(\\frac{8}{4 + \\sqrt{2}}\\right)\\frac{4 - \\sqrt{2}}{4 - \\sqrt{2}} \\\\\n",
    "    \\frac{32 - 8\\sqrt{2}}{(4 + \\sqrt{2})(4 - \\sqrt{2})} \\\\\n",
    "    \\frac{(32 - 8\\sqrt{2})}{(16 - 4\\sqrt{2} + 4\\sqrt{2} - 2)} \\\\ \n",
    "    \\frac{32 - 8\\sqrt{2}}{16 - 2} \\\\\n",
    "    \\frac{32 - 8\\sqrt{2}}{14} \\\\ \\\\\n",
    "\n",
    "    \\boxed{\\frac{16 - 4\\sqrt{2}}{7}}\n",
    "\\end{gather*}"
   ]
  },
  {
   "cell_type": "markdown",
   "id": "68505179",
   "metadata": {},
   "source": [
    "> 4. Simplify the expression.\n",
    "\n",
    "\\begin{gather*}\n",
    "    \\frac{x + \\sqrt{5}}{-5\\sqrt{x} + \\sqrt{5}} \\\\ \\\\\n",
    "\n",
    "    \\left(\\frac{x + \\sqrt{5}}{-5\\sqrt{x} + \\sqrt{5}}\\right)\\frac{-5\\sqrt{x} - \\sqrt{5}}{-5\\sqrt{x} - \\sqrt{5}} \\\\\n",
    "    \\frac{(x + \\sqrt{5})(-5\\sqrt{x} - \\sqrt{5})}{(-5\\sqrt{x} + \\sqrt{5})(-5\\sqrt{x} - \\sqrt{5})} \\\\\n",
    "    \\frac{-5x\\sqrt{x} - x\\sqrt{5} - 5\\sqrt{x}\\sqrt{5} - 5}{25x + 5\\sqrt{x}\\sqrt{5} - 5\\sqrt{x}\\sqrt{5} - 5} \\\\ \\\\\n",
    "    \\boxed{\\frac{-5x\\sqrt{x} - x\\sqrt{5} - 5\\sqrt{5x} - 5}{25x - 5}}\n",
    "\\end{gather*}"
   ]
  },
  {
   "cell_type": "markdown",
   "id": "40f531e8",
   "metadata": {},
   "source": [
    "> 5. Simplify the expression.\n",
    "\n",
    "\\begin{gather*}\n",
    "    \\frac{1 + \\sqrt{y}}{\\sqrt{y} + \\sqrt{3}} \\\\ \\\\\n",
    "\n",
    "    \\left(\\frac{1 + \\sqrt{y}}{\\sqrt{y} + \\sqrt{3}}\\right)\\frac{\\sqrt{y} - \\sqrt{3}}{\\sqrt{y} - \\sqrt{3}} \\\\\n",
    "    \\frac{(1 + \\sqrt{y})(\\sqrt{y} - \\sqrt{3})}{(\\sqrt{y} + \\sqrt{3})(\\sqrt{y} - \\sqrt{3})} \\\\\n",
    "    \\frac{\\sqrt{y} - \\sqrt{3} + y - \\sqrt{3y}}{y - \\sqrt{3y} + \\sqrt{3y} - 3} \\\\ \\\\\n",
    "    \n",
    "    \\boxed{\\frac{\\sqrt{y} - \\sqrt{3} + y - \\sqrt{3y}}{y - 3}}\n",
    "\\end{gather*}"
   ]
  },
  {
   "cell_type": "markdown",
   "id": "65682fc8",
   "metadata": {},
   "source": [
    "> 6. Simplify the expression.\n",
    "\n",
    "\\begin{gather*}\n",
    "    \\frac{\\sqrt{x}}{\\sqrt{x} + \\sqrt{y}} \\\\ \\\\\n",
    "\n",
    "    \\left(\\frac{\\sqrt{x}}{\\sqrt{x} + \\sqrt{y}}\\right)\\frac{\\sqrt{x} - \\sqrt{y}}{\\sqrt{x} - \\sqrt{y}} \\\\\n",
    "    \\frac{x - \\sqrt{xy}}{x - \\sqrt{xy} + \\sqrt{xy} - y} \\\\ \\\\\n",
    "\n",
    "    \\boxed{\\frac{x - \\sqrt{xy}}{x - y}}\n",
    "\\end{gather*}"
   ]
  }
 ],
 "metadata": {
  "language_info": {
   "name": "python"
  }
 },
 "nbformat": 4,
 "nbformat_minor": 5
}
