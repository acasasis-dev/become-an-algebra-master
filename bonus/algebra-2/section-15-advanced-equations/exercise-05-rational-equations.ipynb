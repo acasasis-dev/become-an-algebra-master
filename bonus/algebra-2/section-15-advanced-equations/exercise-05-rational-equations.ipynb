{
 "cells": [
  {
   "cell_type": "markdown",
   "id": "34b27845",
   "metadata": {},
   "source": [
    "## Exercise 5: Rational Equations"
   ]
  },
  {
   "cell_type": "markdown",
   "id": "760a0075",
   "metadata": {},
   "source": [
    "> 1. Solve the equation.\n",
    "\n",
    "\\begin{gather*}\n",
    "    \\frac{x - 3}{x + 3} = \\frac{4}{5} \\\\ \\\\\n",
    "\n",
    "    5x - 15 = 4x + 12 \\\\\n",
    "    5x - 4x = 12 + 15 \\\\\n",
    "    \\boxed{x = 27}\n",
    "\\end{gather*}"
   ]
  },
  {
   "cell_type": "markdown",
   "id": "6c336398",
   "metadata": {},
   "source": [
    "> 2. Solve the equation.\n",
    "\n",
    "\\begin{gather*}\n",
    "    \\frac{x}{6} - \\frac{5}{3x} = \\frac{1}{4} \\\\ \\\\\n",
    "\n",
    "    12x\\left(\\frac{x}{6} - \\frac{5}{3x} = \\frac{1}{4}\\right) \\\\\n",
    "    (2x)(x) - (4)(5) = (3x)(1) \\\\\n",
    "    2x^2 - 20 = 3x \\\\\n",
    "    2x^2 - 3x - 20 = 0 \\\\ \\\\\n",
    "\n",
    "    2 \\cdot -20 = -40 \\\\\n",
    "    a + b = -3 \\\\\n",
    "    a \\cdot b = -40 \\\\\n",
    "    -8 + 5 = -3 \\\\\n",
    "    -8 \\cdot 5 = -40 \\\\\n",
    "    2x^2 - 8x + 5x - 20 \\\\\n",
    "    (2x^2 - 8x) + (5x - 20) \\\\\n",
    "    2x(x - 4) + 5(x - 4) \\\\\n",
    "    (2x + 5)(x - 4) \\\\ \\\\\n",
    "\n",
    "    \\boxed{x = -\\frac{5}{2}, 4}\n",
    "\\end{gather*}"
   ]
  },
  {
   "cell_type": "markdown",
   "id": "35f3bc9f",
   "metadata": {},
   "source": [
    "> 3. Solve the equation.\n",
    "\n",
    "\\begin{gather*}\n",
    "    \\frac{2}{x + 5} = \\frac{4}{x - 1} \\\\ \\\\\n",
    "\n",
    "    2x - 2 = 4x + 20 \\\\\n",
    "    4x - 2x = -20 - 2 \\\\\n",
    "    2x = -22 \\\\\n",
    "    \\frac{2x = -22}{2} \\\\\n",
    "    \\boxed{x = -11}\n",
    "\\end{gather*}"
   ]
  },
  {
   "cell_type": "markdown",
   "id": "b7bbf1a5",
   "metadata": {},
   "source": [
    "> 4. Solve the equation.\n",
    "\n",
    "\\begin{gather*}\n",
    "    2 + \\frac{6}{x - 7} = -\\frac{8}{x + 3} \\\\ \\\\\n",
    "\n",
    "    (x - 7)(x + 3)\\left(2 + \\frac{6}{x - 7} = -\\frac{8}{x + 3}\\right) \\\\\n",
    "    2(x - 7)(x + 3) + 6(x + 3) = -8(x - 7) \\\\\n",
    "    2x^2 - 8x - 42 + 6x + 18 = -8x + 56 \\\\\n",
    "    2x^2 - 8x + 8x + 6x = 56 + 42 - 18 \\\\\n",
    "    2x^2 + 6x = 98 - 18 \\\\\n",
    "    2x^2 + 6x = 80 \\\\\n",
    "    2x^2 + 6x - 80 = 0 \\\\\n",
    "    2(x^2 + 3x - 40) = 0 \\\\\n",
    "    2(x + 8)(x - 5) = 0 \\\\ \\\\\n",
    "\n",
    "    \\boxed{x = -8, 5}\n",
    "\\end{gather*}"
   ]
  },
  {
   "cell_type": "markdown",
   "id": "b5f37cdc",
   "metadata": {},
   "source": [
    "> 5. Solve the equation.\n",
    "\n",
    "\\begin{gather*}\n",
    "    \\frac{5}{a - 4} - \\frac{3}{a + 4} = -\\frac{1}{a^2 - 16} \\\\ \\\\\n",
    "\n",
    "    (a - 4)(a + 4)\\left(\\frac{5}{a - 4} - \\frac{3}{a + 4} = -\\frac{1}{a^2 - 16}\\right) \\\\\n",
    "    5(a + 4) - 3(a - 4) = -1 \\\\\n",
    "    5a + 20 - 3a + 12 = -1 \\\\\n",
    "    5a - 3a = -1 - 20 - 12 \\\\\n",
    "    2a = -21 - 12 \\\\\n",
    "    2a = -33 \\\\\n",
    "    \\frac{2a = -33}{2} \\\\ \\\\\n",
    "\n",
    "    \\boxed{a = -\\frac{33}{2}}\n",
    "\\end{gather*}"
   ]
  },
  {
   "cell_type": "markdown",
   "id": "e0e503d6",
   "metadata": {},
   "source": [
    "> 6. Solve the equation.\n",
    "\n",
    "\\begin{gather*}\n",
    "    \\frac{1}{2x^2} + \\frac{3}{4x} = \\frac{x + 7}{x^2} \\\\ \\\\\n",
    "\n",
    "    4x^2\\left(\\frac{1}{2x^2} + \\frac{3}{4x} = \\frac{x + 7}{x^2}\\right) \\\\\n",
    "    (1)(2) + (3)(x) = (4)(x + 7) \\\\\n",
    "    2 + 3x = 4x + 28 \\\\\n",
    "    4x - 3x = 2 - 28 \\\\\n",
    "    \\boxed{x = -26}\n",
    "\\end{gather*}"
   ]
  }
 ],
 "metadata": {
  "language_info": {
   "name": "python"
  }
 },
 "nbformat": 4,
 "nbformat_minor": 5
}
