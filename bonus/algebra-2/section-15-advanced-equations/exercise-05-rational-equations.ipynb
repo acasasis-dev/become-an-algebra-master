{
 "cells": [
  {
   "cell_type": "markdown",
   "id": "34b27845",
   "metadata": {},
   "source": [
    "## Exercise 5: Rational Equations"
   ]
  },
  {
   "cell_type": "markdown",
   "id": "760a0075",
   "metadata": {},
   "source": [
    "> 1. Solve the equation.\n",
    "\n",
    "\\begin{gather*}\n",
    "    \\frac{x - 3}{x + 3} = \\frac{4}{5} \\\\ \\\\\n",
    "\\end{gather*}"
   ]
  },
  {
   "cell_type": "markdown",
   "id": "6c336398",
   "metadata": {},
   "source": [
    "> 2. Solve the equation.\n",
    "\n",
    "\\begin{gather*}\n",
    "    \\frac{x}{6} - \\frac{5}{3x} = \\frac{1}{4} \\\\ \\\\\n",
    "\\end{gather*}"
   ]
  },
  {
   "cell_type": "markdown",
   "id": "35f3bc9f",
   "metadata": {},
   "source": [
    "> 3. Solve the equation.\n",
    "\n",
    "\\begin{gather*}\n",
    "    \\frac{2}{x + 5} = \\frac{4}{x - 1} \\\\ \\\\\n",
    "\\end{gather*}"
   ]
  },
  {
   "cell_type": "markdown",
   "id": "b7bbf1a5",
   "metadata": {},
   "source": [
    "> 4. Solve the equation.\n",
    "\n",
    "\\begin{gather*}\n",
    "    2 + \\frac{6}{x - 7} = -\\frac{8}{x + 3} \\\\ \\\\\n",
    "\\end{gather*}"
   ]
  },
  {
   "cell_type": "markdown",
   "id": "b5f37cdc",
   "metadata": {},
   "source": [
    "> 5. Solve the equation.\n",
    "\n",
    "\\begin{gather*}\n",
    "    \\frac{5}{a - 4} - \\frac{3}{a + 4} = -\\frac{1}{a^2 - 16} \\\\ \\\\\n",
    "\\end{gather*}"
   ]
  },
  {
   "cell_type": "markdown",
   "id": "e0e503d6",
   "metadata": {},
   "source": [
    "> 6. Solve the equation.\n",
    "\n",
    "\\begin{gather*}\n",
    "    \\frac{1}{2x^2} + \\frac{3}{4x} = \\frac{x + 7}{x^2} \\\\ \\\\\n",
    "\\end{gather*}"
   ]
  }
 ],
 "metadata": {
  "language_info": {
   "name": "python"
  }
 },
 "nbformat": 4,
 "nbformat_minor": 5
}
