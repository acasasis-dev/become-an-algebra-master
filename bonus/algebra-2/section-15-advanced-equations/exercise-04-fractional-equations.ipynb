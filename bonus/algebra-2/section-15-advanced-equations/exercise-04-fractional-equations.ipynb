{
 "cells": [
  {
   "cell_type": "markdown",
   "id": "2e95f3b2",
   "metadata": {},
   "source": [
    "## Exercise 4: Fractional Equations"
   ]
  },
  {
   "cell_type": "markdown",
   "id": "6159fe74",
   "metadata": {},
   "source": [
    "> 1. Solve for the variable.\n",
    "\n",
    "\\begin{gather*}\n",
    "    2x - 5 = \\frac{4x + 3}{5} \\\\ \\\\\n",
    "\n",
    "    5\\left(2x - 5 = \\frac{4x + 3}{5}\\right) \\\\\n",
    "    10x - 25 = 4x + 3 \\\\\n",
    "    10x - 4x = 3 + 25 \\\\\n",
    "    6x = 28 \\\\\n",
    "    \\frac{6x = 28}{6} \\\\\n",
    "    \\boxed{x = \\frac{14}{3}}\n",
    "\\end{gather*}"
   ]
  },
  {
   "cell_type": "markdown",
   "id": "887f36a8",
   "metadata": {},
   "source": [
    "> 2. Solve for the variable.\n",
    "\n",
    "\\begin{gather*}\n",
    "    \\frac{4}{3}x = 18 \\\\ \\\\\n",
    "\n",
    "    3\\left(\\frac{4}{3}x = 18\\right) \\\\\n",
    "    4x = 54 \\\\\n",
    "    \\frac{4x =  54}{4} \\\\\n",
    "    \\boxed{x = \\frac{27}{2}}\n",
    "\\end{gather*}"
   ]
  },
  {
   "cell_type": "markdown",
   "id": "70e1193b",
   "metadata": {},
   "source": [
    "> 3. Solve for the variable.\n",
    "\n",
    "\\begin{gather*}\n",
    "    \\frac{3}{4}x + \\frac{5}{4} = \\frac{7}{8} \\\\ \\\\\n",
    "\n",
    "    \\frac{3}{4}x = \\frac{7}{8} - \\frac{5}{4} \\\\\n",
    "    \\frac{3}{4}x = \\frac{7}{8} - \\frac{10}{8} \\\\\n",
    "    \\frac{3}{4}x = -\\frac{3}{8} \\\\\n",
    "    4\\left(\\frac{3}{4}x = -\\frac{3}{8}\\right) \\\\\n",
    "    3x = -\\frac{12}{8} \\\\\n",
    "    \\frac{3x = -\\frac{12}{8}}{3} \\\\\n",
    "    x = -\\frac{12}{8} \\cdot \\frac{1}{3} \\\\\n",
    "    x = -\\frac{12}{24} \\\\\n",
    "    \\boxed{x = -\\frac{1}{2}}\n",
    "\\end{gather*}"
   ]
  },
  {
   "cell_type": "markdown",
   "id": "d939dec6",
   "metadata": {},
   "source": [
    "> 4. Solve for the variable.\n",
    "\n",
    "\\begin{gather*}\n",
    "    \\frac{4}{7}x + \\frac{1}{7} = \\frac{10}{7} \\\\ \\\\\n",
    "\\end{gather*}"
   ]
  },
  {
   "cell_type": "markdown",
   "id": "906c613c",
   "metadata": {},
   "source": [
    "> 5. Solve for the variable.\n",
    "\n",
    "\\begin{gather*}\n",
    "    \\frac{1}{2}a - \\frac{5}{4}a = -\\frac{10}{3} + \\frac{5}{2}a \\\\ \\\\\n",
    "\\end{gather*}"
   ]
  },
  {
   "cell_type": "markdown",
   "id": "d7ec0c6e",
   "metadata": {},
   "source": [
    "> 6. Solve for the variable.\n",
    "\n",
    "\\begin{gather*}\n",
    "    \\frac{1}{2}\\left(\\frac{1}{2}x - \\frac{1}{3}\\right) = \\frac{7}{3} + \\frac{9}{2} \\\\ \\\\\n",
    "\\end{gather*}"
   ]
  }
 ],
 "metadata": {
  "language_info": {
   "name": "python"
  }
 },
 "nbformat": 4,
 "nbformat_minor": 5
}
