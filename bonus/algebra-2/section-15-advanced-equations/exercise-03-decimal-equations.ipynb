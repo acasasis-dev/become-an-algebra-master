{
 "cells": [
  {
   "cell_type": "markdown",
   "id": "63f26531",
   "metadata": {},
   "source": [
    "## Exercise 3: Decimal Equations"
   ]
  },
  {
   "cell_type": "markdown",
   "id": "d23ad75d",
   "metadata": {},
   "source": [
    "> 1. Solve the decimal equation.\n",
    "\n",
    "\\begin{gather*}\n",
    "    0.34x - 0.62 = 1.25 \\\\ \\\\\n",
    "\n",
    "    0.34x = 1.25 + 0.62 \\\\\n",
    "    0.34x = 1.87 \\\\\n",
    "    \\frac{0.34x = 1.87}{0.34} \\\\\n",
    "    \\boxed{x = 5.5}\n",
    "\\end{gather*}"
   ]
  },
  {
   "cell_type": "markdown",
   "id": "9e963afb",
   "metadata": {},
   "source": [
    "> 2. Solve the decimal equation.\n",
    "\n",
    "\\begin{gather*}\n",
    "    0.1(2.1a − 1.4a) + 3.57 = 2.8 \\\\ \\\\\n",
    "    0.21a - 0.14a + 3.57 = 2.8 \\\\\n",
    "    0.21a - 0.14a = 2.8 - 3.57 \\\\\n",
    "    0.07a = -0.77 \\\\\n",
    "    \\frac{0.07a = -0.77}{0.07} \\\\\n",
    "    \\boxed{a = -11}\n",
    "\\end{gather*}"
   ]
  },
  {
   "cell_type": "markdown",
   "id": "9743228a",
   "metadata": {},
   "source": [
    "> 3. Solve the decimal equation.\n",
    "\n",
    "\\begin{gather*}\n",
    "    4a + 6a = 1.7 \\\\ \\\\\n",
    "\n",
    "    10a = 1.7 \\\\\n",
    "    \\frac{10a = 1.7}{10} \\\\\n",
    "    \\boxed{a = 0.17}\n",
    "\\end{gather*}"
   ]
  },
  {
   "cell_type": "markdown",
   "id": "d97ccd66",
   "metadata": {},
   "source": [
    "> 4. Solve the decimal equation.\n",
    "\n",
    "\\begin{gather*}\n",
    "    0.12n + 3.6 = 4.8 \\\\ \\\\\n",
    "\n",
    "    0.12n = 4.8 - 3.6 \\\\\n",
    "    0.12n = 1.2 \\\\\n",
    "    \\frac{0.12n = 1.2}{0.12} \\\\\n",
    "    \\boxed{n = 10}\n",
    "\\end{gather*}"
   ]
  },
  {
   "cell_type": "markdown",
   "id": "3848ec96",
   "metadata": {},
   "source": [
    "> 5. Solve the decimal equation.\n",
    "\n",
    "\\begin{gather*}\n",
    "    5n − 6.1 = − 2.9 \\\\ \\\\\n",
    "\n",
    "    5n = -2.9 + 6.1 \\\\\n",
    "    5n = 3.2 \\\\\n",
    "    \\frac{5n = 3.2}{5} \\\\\n",
    "    \\boxed{n = 0.64}\n",
    "\\end{gather*}"
   ]
  },
  {
   "cell_type": "markdown",
   "id": "7f3f828a",
   "metadata": {},
   "source": [
    "> 6. Solve the decimal equation.\n",
    "\n",
    "\\begin{gather*}\n",
    "    3.2x + 2.6 = 1.8x − 4.4 \\\\ \\\\\n",
    "\n",
    "    3.2x - 1.8x = -4.4 - 2.6 \\\\\n",
    "    1.4x = -7 \\\\\n",
    "    \\frac{1.4x = -7}{1.4} \\\\\n",
    "    \\boxed{x = -5}\n",
    "\\end{gather*}"
   ]
  }
 ],
 "metadata": {
  "language_info": {
   "name": "python"
  }
 },
 "nbformat": 4,
 "nbformat_minor": 5
}
