{
 "cells": [
  {
   "cell_type": "markdown",
   "id": "63f26531",
   "metadata": {},
   "source": [
    "## Exercise 3: Decimal Equations"
   ]
  },
  {
   "cell_type": "markdown",
   "id": "d23ad75d",
   "metadata": {},
   "source": [
    "> 1. Solve the decimal equation.\n",
    "\n",
    "\\begin{gather*}\n",
    "    0.34x - 0.62 = 1.25 \\\\ \\\\\n",
    "\\end{gather*}"
   ]
  },
  {
   "cell_type": "markdown",
   "id": "9e963afb",
   "metadata": {},
   "source": [
    "> 2. Solve the decimal equation.\n",
    "\n",
    "\\begin{gather*}\n",
    "    0.1(2.1a − 1.4a) + 3.57 = 2.8 \\\\ \\\\\n",
    "\\end{gather*}"
   ]
  },
  {
   "cell_type": "markdown",
   "id": "9743228a",
   "metadata": {},
   "source": [
    "> 3. Solve the decimal equation.\n",
    "\n",
    "\\begin{gather*}\n",
    "    4a + 6a = 1.7 \\\\ \\\\\n",
    "\\end{gather*}"
   ]
  },
  {
   "cell_type": "markdown",
   "id": "d97ccd66",
   "metadata": {},
   "source": [
    "> 4. Solve the decimal equation.\n",
    "\n",
    "\\begin{gather*}\n",
    "    0.12n + 3.6 = 4.8 \\\\ \\\\\n",
    "\\end{gather*}"
   ]
  },
  {
   "cell_type": "markdown",
   "id": "3848ec96",
   "metadata": {},
   "source": [
    "> 5. Solve the decimal equation.\n",
    "\n",
    "\\begin{gather*}\n",
    "    5n − 6.1 = − 2.9 \\\\ \\\\\n",
    "\\end{gather*}"
   ]
  },
  {
   "cell_type": "markdown",
   "id": "7f3f828a",
   "metadata": {},
   "source": [
    "> 2. Solve the decimal equation.\n",
    "\n",
    "\\begin{gather*}\n",
    "    3.2x + 2.6 = 1.8x − 4.4 \\\\ \\\\\n",
    "\\end{gather*}"
   ]
  }
 ],
 "metadata": {
  "language_info": {
   "name": "python"
  }
 },
 "nbformat": 4,
 "nbformat_minor": 5
}
