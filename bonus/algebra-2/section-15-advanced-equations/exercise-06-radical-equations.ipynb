{
 "cells": [
  {
   "cell_type": "markdown",
   "id": "0a53fbaf",
   "metadata": {},
   "source": [
    "## Exercise 6: Radical Equations"
   ]
  },
  {
   "cell_type": "markdown",
   "id": "bea2b06c",
   "metadata": {},
   "source": [
    "> 1. Solve the radical equation for the variable.\n",
    "\n",
    "\\begin{gather*}\n",
    "    \\sqrt[3]{2x - 1} + 5 = 7 \\\\ \\\\\n",
    "\\end{gather*}"
   ]
  },
  {
   "cell_type": "markdown",
   "id": "4878fac8",
   "metadata": {},
   "source": [
    "> 2. Solve the radical equation for the variable.\n",
    "\n",
    "\\begin{gather*}\n",
    "    2\\sqrt{x} = 14 \\\\ \\\\\n",
    "\\end{gather*}"
   ]
  },
  {
   "cell_type": "markdown",
   "id": "7b263f4b",
   "metadata": {},
   "source": [
    "> 3. Solve the radical equation for the variable.\n",
    "\n",
    "\\begin{gather*}\n",
    "    \\sqrt{x + 1} - 3 = 2 \\\\ \\\\\n",
    "\\end{gather*}"
   ]
  },
  {
   "cell_type": "markdown",
   "id": "40e08c60",
   "metadata": {},
   "source": [
    "> 4. Solve the radical equation for the variable.\n",
    "\n",
    "\\begin{gather*}\n",
    "    \\sqrt{x - 3} + 2 = \\sqrt{2x + 1} \\\\ \\\\\n",
    "\\end{gather*}"
   ]
  },
  {
   "cell_type": "markdown",
   "id": "5ac18187",
   "metadata": {},
   "source": [
    "> 5. Solve the radical equation for the variable.\n",
    "\n",
    "\\begin{gather*}\n",
    "    \\sqrt{1 - x} - x = 5 \\\\ \\\\\n",
    "\\end{gather*}"
   ]
  },
  {
   "cell_type": "markdown",
   "id": "0baf5efe",
   "metadata": {},
   "source": [
    "> 6. Solve the radical equation for the variable.\n",
    "\n",
    "\\begin{gather*}\n",
    "    \\sqrt{x^2 - 2x + 4} + 4 = x \\\\ \\\\\n",
    "\\end{gather*}"
   ]
  }
 ],
 "metadata": {
  "language_info": {
   "name": "python"
  }
 },
 "nbformat": 4,
 "nbformat_minor": 5
}
