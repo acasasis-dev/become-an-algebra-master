{
 "cells": [
  {
   "cell_type": "markdown",
   "id": "a5e37e69",
   "metadata": {},
   "source": [
    "## Exercise 2: Inverse Variation"
   ]
  },
  {
   "cell_type": "markdown",
   "id": "54ac2e4f",
   "metadata": {},
   "source": [
    "> 1. If $k /3 = 6$ and $k /x = 2$, find $x$."
   ]
  },
  {
   "cell_type": "markdown",
   "id": "c278c1d1",
   "metadata": {},
   "source": [
    "> 2. The length of the base of a triangle with constant area varies inversely\n",
    "with the triangle’s height. When the base is $5$ cm long, the height is $6$ cm.\n",
    "Find the length of the base when the height is $3$ cm."
   ]
  },
  {
   "cell_type": "markdown",
   "id": "832e2364",
   "metadata": {},
   "source": [
    "> 3. If $x$ and $y$ vary inversely and the constant of variation, $k$, equals $1/3$,\n",
    "what is the value of $y$ when $x = 8$?"
   ]
  },
  {
   "cell_type": "markdown",
   "id": "8bceaa81",
   "metadata": {},
   "source": [
    "> 4. If $x$ varies inversely with $y$ and $y = 5$ when $x = 6$, what is the value of the\n",
    "constant of variation, $k$?"
   ]
  },
  {
   "cell_type": "markdown",
   "id": "9145849e",
   "metadata": {},
   "source": [
    "> 5. If $x$ varies inversely with $y$ and $y = 4$ when $x = 2$, what is the value of $x$\n",
    "when $y = 1/2$?"
   ]
  },
  {
   "cell_type": "markdown",
   "id": "8c140190",
   "metadata": {},
   "source": [
    "> 6. If $x$ varies inversely with $y$ and $y = 3$ when $x = 9$, what is the value of $y$\n",
    "when $x = 1/4$?"
   ]
  }
 ],
 "metadata": {
  "language_info": {
   "name": "python"
  }
 },
 "nbformat": 4,
 "nbformat_minor": 5
}
