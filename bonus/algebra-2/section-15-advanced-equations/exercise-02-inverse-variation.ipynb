{
 "cells": [
  {
   "cell_type": "markdown",
   "id": "a5e37e69",
   "metadata": {},
   "source": [
    "## Exercise 2: Inverse Variation"
   ]
  },
  {
   "cell_type": "markdown",
   "id": "54ac2e4f",
   "metadata": {},
   "source": [
    "> 1. If $k /3 = 6$ and $k /x = 2$, find $x$.\n",
    "\n",
    "\\begin{gather*}\n",
    "    \\frac{k}{3} = 6 \\\\\n",
    "    3\\left(\\frac{k}{3} = 6\\right) \\\\\n",
    "    k = 18 \\\\ \\\\\n",
    "\n",
    "    \\frac{18}{x} = 2 \\\\\n",
    "    x\\left(\\frac{18}{x} = 2\\right) \\\\\n",
    "    18 = 2x \\\\\n",
    "    \\frac{2x = 18}{2} \\\\\n",
    "    \\boxed{x = 9}\n",
    "\\end{gather*}"
   ]
  },
  {
   "cell_type": "markdown",
   "id": "c278c1d1",
   "metadata": {},
   "source": [
    "> 2. The length of the base of a triangle with constant area varies inversely\n",
    "with the triangle’s height. When the base is $5$ cm long, the height is $6$ cm.\n",
    "Find the length of the base when the height is $3$ cm.\n",
    "\n",
    "\\begin{gather*}\n",
    "    \\frac{k}{5} = 6 \\\\\n",
    "    5\\left(\\frac{k}{5} = 6\\right) \\\\\n",
    "    k = 30 \\\\ \\\\\n",
    "\n",
    "    \\frac{30}{x} = 3 \\\\\n",
    "    x\\left(\\frac{30}{x} = 3\\right) \\\\\n",
    "    30 = 3x \\\\\n",
    "    \\frac{3x = 30}{3} \\\\\n",
    "    \\boxed{x = 10}\n",
    "\\end{gather*}"
   ]
  },
  {
   "cell_type": "markdown",
   "id": "832e2364",
   "metadata": {},
   "source": [
    "> 3. If $x$ and $y$ vary inversely and the constant of variation, $k$, equals $1/3$,\n",
    "what is the value of $y$ when $x = 8$?\n",
    "\n",
    "\\begin{gather*}\n",
    "    y = \\frac{\\frac{1}{3}}{8} \\\\\n",
    "    y = \\frac{1}{3} \\cdot \\frac{1}{8} \\\\\n",
    "    \\boxed{y = \\frac{1}{24}}\n",
    "\\end{gather*}"
   ]
  },
  {
   "cell_type": "markdown",
   "id": "8bceaa81",
   "metadata": {},
   "source": [
    "> 4. If $x$ varies inversely with $y$ and $y = 5$ when $x = 6$, what is the value of the\n",
    "constant of variation, $k$?\n",
    "\n",
    "\\begin{gather*}\n",
    "    \\frac{k}{6} = 5 \\\\ \\\\ \n",
    "\n",
    "    6\\left(\\frac{k}{6} = 5\\right) \\\\\n",
    "    \\boxed{k = 30}\n",
    "\\end{gather*}"
   ]
  },
  {
   "cell_type": "markdown",
   "id": "9145849e",
   "metadata": {},
   "source": [
    "> 5. If $x$ varies inversely with $y$ and $y = 4$ when $x = 2$, what is the value of $x$\n",
    "when $y = 1/2$?\n",
    "\n",
    "\\begin{gather*}\n",
    "    \\frac{k}{2} = 4 \\\\\n",
    "    2\\left(\\frac{k}{2} = 4\\right) \\\\\n",
    "    k = 8 \\\\ \\\\\n",
    "\n",
    "    \\frac{8}{x} = \\frac{1}{2} \\\\\n",
    "    x\\left(\\frac{8}{x} = \\frac{1}{2}\\right) \\\\\n",
    "    \\frac{1}{2}x = 8 \\\\\n",
    "    2\\left(\\frac{1}{2}x = 8\\right) \\\\\n",
    "    \\boxed{x = 16}\n",
    "\\end{gather*}"
   ]
  },
  {
   "cell_type": "markdown",
   "id": "8c140190",
   "metadata": {},
   "source": [
    "> 6. If $x$ varies inversely with $y$ and $y = 3$ when $x = 9$, what is the value of $y$\n",
    "when $x = 1/4$?\n",
    "\n",
    "\\begin{gather*}\n",
    "    \\frac{k}{9} = 3 \\\\\n",
    "    9\\left(\\frac{k}{9} = 3\\right) \\\\\n",
    "    k = 27 \\\\ \\\\\n",
    "\n",
    "    y = \\frac{27}{\\frac{1}{4}} \\\\\n",
    "    y = 27 \\cdot 4 \\\\\n",
    "    \\boxed{y = 108}\n",
    "\\end{gather*}"
   ]
  }
 ],
 "metadata": {
  "language_info": {
   "name": "python"
  }
 },
 "nbformat": 4,
 "nbformat_minor": 5
}
