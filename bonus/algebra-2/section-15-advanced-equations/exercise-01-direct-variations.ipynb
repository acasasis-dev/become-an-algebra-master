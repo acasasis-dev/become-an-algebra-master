{
 "cells": [
  {
   "cell_type": "markdown",
   "id": "0e0ccf3f",
   "metadata": {},
   "source": [
    "## Exercise 1: Direct Variations"
   ]
  },
  {
   "cell_type": "markdown",
   "id": "58b47e46",
   "metadata": {},
   "source": [
    "> 1. If $10k = 5$ and $kx = 3$, find $x$."
   ]
  },
  {
   "cell_type": "markdown",
   "id": "1276b965",
   "metadata": {},
   "source": [
    "> 2. If $x$ and $y$ vary directly and the constant of variation, $k$, equals $1/3$, what\n",
    "is the value of $y$ when $x = 54$, assuming the direct variation relationship\n",
    "between the variables is given by $y = kx$?"
   ]
  },
  {
   "cell_type": "markdown",
   "id": "1ae92fec",
   "metadata": {},
   "source": [
    "> 3. A restaurant takes in $\\$15,000$ in a $5$ hour period. Write a direct variation\n",
    "equation for the relationship between income and number of hours.\n",
    "Estimate how many hours it would take the restaurant to earn $\\$35,750$."
   ]
  },
  {
   "cell_type": "markdown",
   "id": "d500892f",
   "metadata": {},
   "source": [
    "> 4. If $x$ varies directly with $y$ and $y = 4$ when $x = 20$, what is the value of the\n",
    "constant of variation, $k$, assuming the direct variation relationship between\n",
    "the variables is given by $y = kx$?"
   ]
  },
  {
   "cell_type": "markdown",
   "id": "ac56f782",
   "metadata": {},
   "source": [
    "> 5. If $x$ varies directly with $y$ and $y = 15$ when $x = 5$, what is the value of $x$\n",
    "when $y = 36$, assuming the direct variation relationship between the\n",
    "variables is given by $y = kx$?"
   ]
  },
  {
   "cell_type": "markdown",
   "id": "a0d6e314",
   "metadata": {},
   "source": [
    "> 6. If $x$ varies directly with $y$ and $y = 7$ when $x = 42$, what is the value of $y$\n",
    "when $x = 54$, assuming the direct variation relationship between the\n",
    "variables is given by $y = kx$?"
   ]
  }
 ],
 "metadata": {
  "language_info": {
   "name": "python"
  }
 },
 "nbformat": 4,
 "nbformat_minor": 5
}
