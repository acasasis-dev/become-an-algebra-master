{
 "cells": [
  {
   "cell_type": "markdown",
   "id": "0e0ccf3f",
   "metadata": {},
   "source": [
    "## Exercise 1: Direct Variations"
   ]
  },
  {
   "cell_type": "markdown",
   "id": "58b47e46",
   "metadata": {},
   "source": [
    "> 1. If $10k = 5$ and $kx = 3$, find $x$.\n",
    "\n",
    "\\begin{gather*}\n",
    "    10k = 5 \\\\\n",
    "    \\frac{10k = 5}{10} \\\\\n",
    "    k = \\frac{1}{2} \\\\ \\\\\n",
    "\n",
    "    kx = 3 \\\\\n",
    "    \\frac{1}{2}x = 3 \\\\\n",
    "    2\\left(\\frac{1}{2}x = 3\\right) \\\\\n",
    "    \\boxed{x = 6}\n",
    "\\end{gather*}"
   ]
  },
  {
   "cell_type": "markdown",
   "id": "1276b965",
   "metadata": {},
   "source": [
    "> 2. If $x$ and $y$ vary directly and the constant of variation, $k$, equals $1/3$, what\n",
    "is the value of $y$ when $x = 54$, assuming the direct variation relationship\n",
    "between the variables is given by $y = kx$?\n",
    "\n",
    "\\begin{gather*}\n",
    "    y = kx \\\\\n",
    "    y = (\\frac{1}{3})(54) \\\\\n",
    "    y = \\frac{54}{3} \\\\\n",
    "    \\boxed{y = 18}\n",
    "\\end{gather*}"
   ]
  },
  {
   "cell_type": "markdown",
   "id": "1ae92fec",
   "metadata": {},
   "source": [
    "> 3. A restaurant takes in $\\$15,000$ in a $5$ hour period. Write a direct variation\n",
    "equation for the relationship between income and number of hours.\n",
    "Estimate how many hours it would take the restaurant to earn $\\$35,750$.\n",
    "\n",
    "\\begin{gather*}\n",
    "    kx = y \\\\\n",
    "    k(5) = 15000 \\\\\n",
    "    \\frac{k(5) = 15000}{5} \\\\\n",
    "    k = 3000 \\\\ \\\\\n",
    "\n",
    "    3000x = 35750 \\\\\n",
    "    \\frac{3000x = 35750}{3000} \\\\\n",
    "    x = 11.92\n",
    "\\end{gather*}"
   ]
  },
  {
   "cell_type": "markdown",
   "id": "d500892f",
   "metadata": {},
   "source": [
    "> 4. If $x$ varies directly with $y$ and $y = 4$ when $x = 20$, what is the value of the\n",
    "constant of variation, $k$, assuming the direct variation relationship between\n",
    "the variables is given by $y = kx$?\n",
    "\n",
    "\\begin{gather*}\n",
    "    y = kx \\\\\n",
    "    4 = k(20) \\\\\n",
    "    \\frac{4 = k(20)}{20} \\\\\n",
    "    k = \\frac{1}{5}\n",
    "\\end{gather*}"
   ]
  },
  {
   "cell_type": "markdown",
   "id": "ac56f782",
   "metadata": {},
   "source": [
    "> 5. If $x$ varies directly with $y$ and $y = 15$ when $x = 5$, what is the value of $x$\n",
    "when $y = 36$, assuming the direct variation relationship between the\n",
    "variables is given by $y = kx$?\n",
    "\n",
    "\\begin{gather*}\n",
    "    y = kx \\\\\n",
    "    15 = k(5) \\\\\n",
    "    \\frac{15 = k(5)}{5} \\\\\n",
    "    k = 3 \\\\ \\\\\n",
    "\n",
    "    36 = 3x \\\\\n",
    "    \\frac{36 = 3x}{3} \\\\\n",
    "    \\boxed{x = 12}\n",
    "\\end{gather*}"
   ]
  },
  {
   "cell_type": "markdown",
   "id": "a0d6e314",
   "metadata": {},
   "source": [
    "> 6. If $x$ varies directly with $y$ and $y = 7$ when $x = 42$, what is the value of $y$\n",
    "when $x = 54$, assuming the direct variation relationship between the\n",
    "variables is given by $y = kx$?\n",
    "\n",
    "\\begin{gather*}\n",
    "    y = kx \\\\\n",
    "    7 = k(42) \\\\\n",
    "    \\frac{7 = k(42)}{42} \\\\\n",
    "    k = \\frac{1}{6} \\\\ \\\\\n",
    "\n",
    "    y = \\left(\\frac{1}{6}\\right)(54) \\\\\n",
    "    y = \\frac{54}{6} \\\\\n",
    "    \\boxed{y = 9}\n",
    "\\end{gather*}"
   ]
  }
 ],
 "metadata": {
  "language_info": {
   "name": "python"
  }
 },
 "nbformat": 4,
 "nbformat_minor": 5
}
