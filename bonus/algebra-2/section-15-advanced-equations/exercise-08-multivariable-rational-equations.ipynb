{
 "cells": [
  {
   "cell_type": "markdown",
   "id": "d802d0f1",
   "metadata": {},
   "source": [
    "## Exercise 8: Multivariable Rational Equations"
   ]
  },
  {
   "cell_type": "markdown",
   "id": "3962c2ad",
   "metadata": {},
   "source": [
    "> 1. Solve the abstract equation for $x$, if $x \\ne 0$.\n",
    "\n",
    "\\begin{gather*}\n",
    "    \\frac{1}{x} - z = y \\\\ \\\\\n",
    "\n",
    "    \\frac{1}{x} = y + z \\\\\n",
    "    x\\left(\\frac{1}{x} = y + z\\right) \\\\\n",
    "    1 = x(y + z) \\\\\n",
    "    \\frac{1 = x(y + z)}{(y + z)} \\\\ \\\\\n",
    "\n",
    "    \\boxed{x = \\frac{1}{y + z}}\n",
    "\\end{gather*}"
   ]
  },
  {
   "cell_type": "markdown",
   "id": "ca040b68",
   "metadata": {},
   "source": [
    "> 2. Solve the abstract equation for $y$, if $x \\ne 0$.\n",
    "\n",
    "\\begin{gather*}\n",
    "    \\frac{y}{x} + 3x = 2z \\\\ \\\\\n",
    "\n",
    "    \\frac{y}{x} = 2z - 3x \\\\\n",
    "    x\\left(\\frac{y}{x} = 2z - 3x\\right) \\\\ \\\\\n",
    "\n",
    "    \\boxed{y = 2xz - 3x^2}\n",
    "\\end{gather*}"
   ]
  },
  {
   "cell_type": "markdown",
   "id": "56c8b4ed",
   "metadata": {},
   "source": [
    "> 3. Solve the abstract equation for $a$, if $a \\ne 0$ and $b \\ne 0$.\n",
    "\n",
    "\\begin{gather*}\n",
    "    \\frac{bc}{a} - cxy = \\frac{z}{b} \\\\ \\\\\n",
    "\n",
    "    \\frac{bc}{a} = \\frac{z}{b} + cxy \\\\\n",
    "    a\\left(\\frac{bc}{a} = \\frac{z}{b} + cxy\\right) \\\\\n",
    "    bc = a\\left(\\frac{z}{b} + cxy\\right) \\\\\n",
    "    \\frac{bc = a\\left(\\frac{z}{b} + cxy\\right)}{\\left(\\frac{z}{b} + cxy\\right)} \\\\\n",
    "    a = \\frac{bc}{\\left(\\frac{z}{b} + cxy\\right)} \\\\\n",
    "    a = \\frac{bc}{\\left(\\frac{z}{b} + (cxy)\\frac{b}{b}\\right)} \\\\\n",
    "    a = \\frac{bc}{\\left(\\frac{z}{b} + \\frac{bcxy}{b}\\right)} \\\\\n",
    "    a = \\frac{bc}{\\frac{z + bcxy}{b}} \\\\\n",
    "    a = bc \\cdot \\frac{b}{z + bcxy} \\\\ \\\\\n",
    "\n",
    "    \\boxed{a = \\frac{b^2c}{z + bcxy}}\n",
    "\\end{gather*}"
   ]
  },
  {
   "cell_type": "markdown",
   "id": "b7439640",
   "metadata": {},
   "source": [
    "> 4. Solve the abstract equation for $y$, if $y \\ne 0$, $b \\ne 0$, and $n \\ne 0$.\n",
    "\n",
    "\\begin{gather*}\n",
    "    \\frac{1}{y} + \\frac{a}{b} = \\frac{m}{n} \\\\ \\\\\n",
    "\\end{gather*}"
   ]
  },
  {
   "cell_type": "markdown",
   "id": "b79187ef",
   "metadata": {},
   "source": [
    "> 5. Solve the abstract equation for $x$, if $z \\ne 0$, $n \\ne 0$, and $b \\ne 0$.\n",
    "\n",
    "\\begin{gather*}\n",
    "    \\frac{2x + y}{z} - \\frac{m}{n} = \\frac{a}{b} \\\\ \\\\\n",
    "\\end{gather*}"
   ]
  },
  {
   "cell_type": "markdown",
   "id": "51cd3585",
   "metadata": {},
   "source": [
    "> 6. Solve the abstract equation for $x$, if $x \\ne 0$ and $y + z \\ne 0$.\n",
    "\n",
    "\\begin{gather*}\n",
    "    \\frac{1}{x} + \\frac{2}{y + z} = 3 \\\\ \\\\\n",
    "\\end{gather*}"
   ]
  }
 ],
 "metadata": {
  "language_info": {
   "name": "python"
  }
 },
 "nbformat": 4,
 "nbformat_minor": 5
}
