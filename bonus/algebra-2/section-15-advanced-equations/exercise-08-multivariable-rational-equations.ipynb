{
 "cells": [
  {
   "cell_type": "markdown",
   "id": "d802d0f1",
   "metadata": {},
   "source": [
    "## Exercise 8: Multivariable Rational Equations"
   ]
  },
  {
   "cell_type": "markdown",
   "id": "3962c2ad",
   "metadata": {},
   "source": [
    "> 1. Solve the abstract equation for $x$, if $x \\ne 0$.\n",
    "\n",
    "\\begin{gather*}\n",
    "    \\frac{1}{x} - z = y \\\\ \\\\\n",
    "\\end{gather*}"
   ]
  },
  {
   "cell_type": "markdown",
   "id": "ca040b68",
   "metadata": {},
   "source": [
    "> 2. Solve the abstract equation for $y$, if $x \\ne 0$.\n",
    "\n",
    "\\begin{gather*}\n",
    "    \\frac{y}{x} + 3x = 2z \\\\ \\\\\n",
    "\\end{gather*}"
   ]
  },
  {
   "cell_type": "markdown",
   "id": "56c8b4ed",
   "metadata": {},
   "source": [
    "> 3. Solve the abstract equation for $a$, if $a \\ne 0$ and $b \\ne 0$.\n",
    "\n",
    "\\begin{gather*}\n",
    "    \\frac{bc}{a} - cxy = \\frac{z}{b} \\\\ \\\\\n",
    "\\end{gather*}"
   ]
  },
  {
   "cell_type": "markdown",
   "id": "b7439640",
   "metadata": {},
   "source": [
    "> 4. Solve the abstract equation for $y$, if $y \\ne 0$, $b \\ne 0$, and $n \\ne 0$.\n",
    "\n",
    "\\begin{gather*}\n",
    "    \\frac{1}{y} + \\frac{a}{b} = \\frac{m}{n} \\\\ \\\\\n",
    "\\end{gather*}"
   ]
  },
  {
   "cell_type": "markdown",
   "id": "b79187ef",
   "metadata": {},
   "source": [
    "> 5. Solve the abstract equation for $x$, if $z \\ne 0$, $n \\ne 0$, and $b \\ne 0$.\n",
    "\n",
    "\\begin{gather*}\n",
    "    \\frac{2x + y}{z} - \\frac{m}{n} = \\frac{a}{b} \\\\ \\\\\n",
    "\\end{gather*}"
   ]
  },
  {
   "cell_type": "markdown",
   "id": "51cd3585",
   "metadata": {},
   "source": [
    "> 6. Solve the abstract equation for $x$, if $x \\ne 0$ and $y + z \\ne 0$.\n",
    "\n",
    "\\begin{gather*}\n",
    "    \\frac{1}{x} + \\frac{2}{y + z} = 3 \\\\ \\\\\n",
    "\\end{gather*}"
   ]
  }
 ],
 "metadata": {
  "language_info": {
   "name": "python"
  }
 },
 "nbformat": 4,
 "nbformat_minor": 5
}
