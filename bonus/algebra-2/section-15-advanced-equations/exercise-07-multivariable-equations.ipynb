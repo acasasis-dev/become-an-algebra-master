{
 "cells": [
  {
   "cell_type": "markdown",
   "id": "fc5b7474",
   "metadata": {},
   "source": [
    "## Exercise 7: Multivariable Equations"
   ]
  },
  {
   "cell_type": "markdown",
   "id": "22797ba9",
   "metadata": {},
   "source": [
    "> 1. Solve for $x$ if $y = z /x$.\n",
    "\n",
    "\\begin{gather*}\n",
    "    y = \\frac{z}{x} \\\\ \\\\\n",
    "\n",
    "    x\\left(y = \\frac{z}{x}\\right) \\\\\n",
    "    xy = z \\\\\n",
    "    \\frac{xy = z}{y} \\\\\n",
    "    \\boxed{x = \\frac{z}{y}}\n",
    "\\end{gather*}"
   ]
  },
  {
   "cell_type": "markdown",
   "id": "4fb85ac2",
   "metadata": {},
   "source": [
    "> 2. Solve for $t$ if $4s − 3t + u = 5$.\n",
    "\n",
    "\\begin{gather*}\n",
    "    4s − 3t + u = 5 \\\\ \\\\\n",
    "\n",
    "    3t = 4s + u - 5 \\\\\n",
    "    \\frac{3t = 4s + u - 5}{3} \\\\ \\\\ \n",
    "\n",
    "    \\boxed{t = \\frac{4s + u - 5}{3}}\n",
    "\\end{gather*}"
   ]
  },
  {
   "cell_type": "markdown",
   "id": "a3fb38f1",
   "metadata": {},
   "source": [
    "> 3. Solve for $y$ if $z − x + 4y = 3x + z$.\n",
    "\n",
    "\\begin{gather*}\n",
    "    z − x + 4y = 3x + z \\\\ \\\\\n",
    "\n",
    "    4y = 3x + z - z + x \\\\\n",
    "    4y = 4x \\\\\n",
    "    \\frac{4y = 4x}{4} \\\\ \\\\\n",
    "\n",
    "    \\boxed{y = x}\n",
    "\\end{gather*}"
   ]
  },
  {
   "cell_type": "markdown",
   "id": "c582b81d",
   "metadata": {},
   "source": [
    "> 4. Solve for $c$ if $2a − b + 3c = 2b − 4a + c$.\n",
    "\n",
    "\\begin{gather*}\n",
    "    2a − b + 3c = 2b − 4a + c \\\\ \\\\\n",
    "\n",
    "    3c - c = 2b - 4a - 2a + b \\\\\n",
    "    2c = 3b - 6a \\\\\n",
    "    \\frac{2c = 3b - 6a}{2} \\\\ \\\\\n",
    "\n",
    "    \\boxed{c = \\frac{3b - 6a}{2}}\n",
    "\\end{gather*}"
   ]
  },
  {
   "cell_type": "markdown",
   "id": "dabb53ad",
   "metadata": {},
   "source": [
    "> 5. Solve for $y$ if $2x − y + z = 3x$.\n",
    "\n",
    "\\begin{gather*}\n",
    "    2x − y + z = 3x \\\\ \\\\\n",
    "\n",
    "    y = 2x - 3x + z \\\\ \\\\\n",
    "\n",
    "    \\boxed{y = z - x}\n",
    "\\end{gather*}"
   ]
  },
  {
   "cell_type": "markdown",
   "id": "34a387f2",
   "metadata": {},
   "source": [
    "> 6. Solve for $a$ if $x + y = 3ab + c$.\n",
    "\n",
    "\\begin{gather*}\n",
    "    x + y = 3ab + c \\\\ \\\\\n",
    "\n",
    "    3ab = x + y - c \\\\\n",
    "    \\frac{3ab = x + y - c}{3b} \\\\ \\\\\n",
    "\n",
    "    \\boxed{a = \\frac{x + y - c}{3b}}\n",
    "\\end{gather*}"
   ]
  }
 ],
 "metadata": {
  "language_info": {
   "name": "python"
  }
 },
 "nbformat": 4,
 "nbformat_minor": 5
}
