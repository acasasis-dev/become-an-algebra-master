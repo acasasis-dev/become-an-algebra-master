{
 "cells": [
  {
   "cell_type": "markdown",
   "id": "fc5b7474",
   "metadata": {},
   "source": [
    "## Exercise 7: Multivariable Equations"
   ]
  },
  {
   "cell_type": "markdown",
   "id": "22797ba9",
   "metadata": {},
   "source": [
    "> 1. Solve for $x$ if $y = z /x$."
   ]
  },
  {
   "cell_type": "markdown",
   "id": "4fb85ac2",
   "metadata": {},
   "source": [
    "> 2. Solve for $t$ if $4s − 3t + u = 5$."
   ]
  },
  {
   "cell_type": "markdown",
   "id": "a3fb38f1",
   "metadata": {},
   "source": [
    "> 3. Solve for $y$ if $z − x + 4y = 3x + z$."
   ]
  },
  {
   "cell_type": "markdown",
   "id": "c582b81d",
   "metadata": {},
   "source": [
    "> 4. Solve for $c$ if $2a − b + 3c = 2b − 4a + c$."
   ]
  },
  {
   "cell_type": "markdown",
   "id": "dabb53ad",
   "metadata": {},
   "source": [
    "> 5. Solve for $y$ if $2x − y + z = 3x$."
   ]
  },
  {
   "cell_type": "markdown",
   "id": "34a387f2",
   "metadata": {},
   "source": [
    "> 6. Solve for $a$ if $x + y = 3ab + c$."
   ]
  }
 ],
 "metadata": {
  "language_info": {
   "name": "python"
  }
 },
 "nbformat": 4,
 "nbformat_minor": 5
}
