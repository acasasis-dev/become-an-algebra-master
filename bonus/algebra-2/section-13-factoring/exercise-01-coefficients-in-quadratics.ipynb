{
 "cells": [
  {
   "cell_type": "markdown",
   "id": "6376e20e",
   "metadata": {},
   "source": [
    "## Exercise 1: Coefficients in Quadratics"
   ]
  },
  {
   "cell_type": "markdown",
   "id": "5ea84a17",
   "metadata": {},
   "source": [
    "> 1. Factor the quadratic.\n",
    "\n",
    "\\begin{gather*}\n",
    "    6x^2 + 11x − 10 \\\\ \\\\\n",
    "\n",
    "    \\boxed{(3x - 2)(2x + 5)}\n",
    "\\end{gather*}"
   ]
  },
  {
   "cell_type": "markdown",
   "id": "aa1d6d2c",
   "metadata": {},
   "source": [
    "> 2. Factor the quadratic.\n",
    "\n",
    "\\begin{gather*}\n",
    "    20x^2 − 23x + 6 \\\\ \\\\\n",
    "\n",
    "    \\boxed{(5x - 2)(4x - 3)}\n",
    "\\end{gather*}"
   ]
  },
  {
   "cell_type": "markdown",
   "id": "534d3d58",
   "metadata": {},
   "source": [
    "> 3. Factor the quadratic.\n",
    "\n",
    "\\begin{gather*}\n",
    "    4x^2 + 26x + 36 \\\\ \\\\\n",
    "\n",
    "    2(2x^2 + 13x + 18) \\\\\n",
    "    2(2x + 9)(x + 2) \\\\ \\\\\n",
    "\n",
    "    \\boxed{(2x + 9)(2x + 4)}\n",
    "\\end{gather*}"
   ]
  },
  {
   "cell_type": "markdown",
   "id": "c5e4876d",
   "metadata": {},
   "source": [
    "> 4. Factor the quadratic.\n",
    "\n",
    "\\begin{gather*}\n",
    "    14x^2 + 15x + 4 \\\\ \\\\\n",
    "\n",
    "    \\boxed{(7x + 4)(2x + 1)}\n",
    "\\end{gather*}"
   ]
  },
  {
   "cell_type": "markdown",
   "id": "39a1741d",
   "metadata": {},
   "source": [
    "> 5. Factor the quadratic.\n",
    "\n",
    "\\begin{gather*}\n",
    "    12x^2 + 4x − 1 \\\\ \\\\\n",
    "\n",
    "    \\boxed{(6x - 1)(2x + 1)}\n",
    "\\end{gather*}"
   ]
  },
  {
   "cell_type": "markdown",
   "id": "5d6ca426",
   "metadata": {},
   "source": [
    "> 6. Factor the quadratic.\n",
    "\n",
    "\\begin{gather*}\n",
    "    8x^2 − 10x − 63 \\\\ \\\\\n",
    "\n",
    "    \\boxed{(4x + 9)(2x - 7)}\n",
    "\\end{gather*}"
   ]
  }
 ],
 "metadata": {
  "language_info": {
   "name": "python"
  }
 },
 "nbformat": 4,
 "nbformat_minor": 5
}
