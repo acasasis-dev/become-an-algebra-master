{
 "cells": [
  {
   "cell_type": "markdown",
   "id": "6376e20e",
   "metadata": {},
   "source": [
    "## Exercise 1: Coefficients in Quadratics"
   ]
  },
  {
   "cell_type": "markdown",
   "id": "5ea84a17",
   "metadata": {},
   "source": [
    "> 1. Factor the quadratic.\n",
    "\n",
    "\\begin{gather*}\n",
    "    6x^2 + 11x − 10 \\\\ \\\\\n",
    "    \n",
    "    6 \\cdot -10 = -60 \\\\\n",
    "    a + b = 11 \\\\\n",
    "    a \\cdot b = -60 \\\\\n",
    "    15 + (-4) = 11 \\\\\n",
    "    15 \\cdot -4 = -60 \\\\\n",
    "    6x^2 + 15x - 4x - 10 \\\\\n",
    "    (6x^2 + 15x) - (4x - 10) \\\\\n",
    "    3x(2x + 5) - 2(2x + 5) \\\\ \\\\\n",
    "\n",
    "    \\boxed{(3x - 2)(2x + 5)}\n",
    "\\end{gather*}"
   ]
  },
  {
   "cell_type": "markdown",
   "id": "aa1d6d2c",
   "metadata": {},
   "source": [
    "> 2. Factor the quadratic.\n",
    "\n",
    "\\begin{gather*}\n",
    "    20x^2 − 23x + 6 \\\\ \\\\\n",
    "    \n",
    "    20 \\cdot 6 = 120 \\\\\n",
    "    a + b = -23 \\\\\n",
    "    a \\cdot b = 120 \\\\\n",
    "    -15 + -8 = -23 \\\\\n",
    "    -15 \\cdot -8 = 120 \\\\\n",
    "    20x^2 − 15x - 8x + 6 \\\\\n",
    "    (20x^2 − 15x) - (8x + 6) \\\\\n",
    "    5x(4x - 3) - 2(4x - 3) \\\\ \\\\\n",
    "\n",
    "    \\boxed{(5x - 2)(4x - 3)}\n",
    "\\end{gather*}"
   ]
  },
  {
   "cell_type": "markdown",
   "id": "534d3d58",
   "metadata": {},
   "source": [
    "> 3. Factor the quadratic.\n",
    "\n",
    "\\begin{gather*}\n",
    "    4x^2 + 26x + 36 \\\\ \\\\\n",
    "\n",
    "    2(2x^2 + 13x + 18) \\\\\n",
    "    2 \\cdot 18 = 36 \\\\\n",
    "    a + b = 13 \\\\\n",
    "    a \\cdot b = 36 \\\\\n",
    "    4 + 9 = 13 \\\\\n",
    "    4 \\cdot 9 = 36 \\\\\n",
    "    2(2x^2 + 4x + 9x + 18) \\\\\n",
    "    2[(2x^2 + 4x) + (9x + 18)] \\\\\n",
    "    2[2x(x + 2) + 9(x + 2)] \\\\\n",
    "    2(2x + 9)(x + 2) \\\\ \\\\\n",
    "\n",
    "    \\boxed{(2x + 9)(2x + 4)}\n",
    "\\end{gather*}"
   ]
  },
  {
   "cell_type": "markdown",
   "id": "c5e4876d",
   "metadata": {},
   "source": [
    "> 4. Factor the quadratic.\n",
    "\n",
    "\\begin{gather*}\n",
    "    14x^2 + 15x + 4 \\\\ \\\\\n",
    "\n",
    "    14 \\cdot 4 = 56 \\\\\n",
    "    a + b = 15 \\\\\n",
    "    a \\cdot b = 56 \\\\\n",
    "    7 + 8 = 15 \\\\\n",
    "    7 \\cdot b = 56 \\\\\n",
    "    14x^2 + 7x + 8x + 4 \\\\\n",
    "    (14x^2 + 7x) + (8x + 4) \\\\\n",
    "    7x(2x + 1) + 4(2x + 1) \\\\ \\\\\n",
    "\n",
    "    \\boxed{(7x + 4)(2x + 1)}\n",
    "\\end{gather*}"
   ]
  },
  {
   "cell_type": "markdown",
   "id": "39a1741d",
   "metadata": {},
   "source": [
    "> 5. Factor the quadratic.\n",
    "\n",
    "\\begin{gather*}\n",
    "    12x^2 + 4x − 1 \\\\ \\\\\n",
    "\n",
    "    12 \\cdot -1 = -12 \\\\\n",
    "    a + b = 4 \\\\\n",
    "    a \\cdot b = -12 \\\\\n",
    "    6 + (-2) = 4 \\\\\n",
    "    6 \\cdot -2 = -12 \\\\\n",
    "    12x^2 + 6x - 2x − 1 \\\\\n",
    "    (12x^2 + 6x) - (2x − 1) \\\\\n",
    "    6x(2x + 1) - 1(2x + 1) \\\\ \\\\\n",
    "\n",
    "    \\boxed{(6x - 1)(2x + 1)}\n",
    "\\end{gather*}"
   ]
  },
  {
   "cell_type": "markdown",
   "id": "5d6ca426",
   "metadata": {},
   "source": [
    "> 6. Factor the quadratic.\n",
    "\n",
    "\\begin{gather*}\n",
    "    8x^2 − 10x − 63 \\\\ \\\\\n",
    "\n",
    "    8 \\cdot -63 = -504 \\\\\n",
    "    a + b = -10 \\\\\n",
    "    a \\cdot b = -504 \\\\\n",
    "    -28 + 18 = -10 \\\\\n",
    "    -28 \\cdot 18 = -504 \\\\\n",
    "    8x^2 + 18x - 28x − 63 \\\\\n",
    "    (8x^2 + 18x) - (28x − 63) \\\\\n",
    "    2x(4x + 9) - 7(4x + 9) \\\\ \\\\\n",
    "\n",
    "    \\boxed{(4x + 9)(2x - 7)}\n",
    "\\end{gather*}"
   ]
  }
 ],
 "metadata": {
  "language_info": {
   "name": "python"
  }
 },
 "nbformat": 4,
 "nbformat_minor": 5
}
