{
 "cells": [
  {
   "cell_type": "markdown",
   "id": "80d495a8",
   "metadata": {},
   "source": [
    "## Exercise 3: Difference of Cubes"
   ]
  },
  {
   "cell_type": "markdown",
   "id": "1c86b49c",
   "metadata": {},
   "source": [
    "> 1. Factor the polynomial.\n",
    "\n",
    "\\begin{gather*}\n",
    "    x^3 − 27y^9 \\\\ \\\\\n",
    "\n",
    "    a = \\sqrt[3]{x^3} = (x^3)^{\\frac{1}{3}} = x \\\\\n",
    "    b = \\sqrt[3]{27y^9} = (27y^9)^{\\frac{1}{3}} = (27)^{\\frac{1}{3}}(y^9)^{\\frac{1}{3}} = 3y^3 \\\\ \\\\\n",
    "\n",
    "    (x - 3y^3)((x)^2 + (x)(3y^3) + (3y^3)^2) \\\\\n",
    "    (x - 3y^3)((x)^2 + (x)(3y^3) + (3)^2(y^3)^2) \\\\\n",
    "    \\boxed{(x - 3y^3)(x^2 + 3xy^3 + 9y^6)}\n",
    "\\end{gather*}"
   ]
  },
  {
   "cell_type": "markdown",
   "id": "7d4d883e",
   "metadata": {},
   "source": [
    "> 2. Factor the polynomial.\n",
    "\n",
    "\\begin{gather*}\n",
    "    8x^3y^6 − 64z^{21} \\\\ \\\\\n",
    "\n",
    "    a = \\sqrt[3]{8x^3y^6} = (8x^3y^6)^{\\frac{1}{3}} = (8)^{\\frac{1}{3}}(x^3)^{\\frac{1}{3}}(y^6)^{\\frac{1}{3}} = 2xy^2 \\\\\n",
    "    b = \\sqrt[3]{64z^{21}} = (64z^{21})^{\\frac{1}{3}} = (64)^{\\frac{1}{3}}(z^{21})^{\\frac{1}{3}} = 4z^7 \\\\ \\\\\n",
    "\n",
    "    (2xy^2 - 4z^7)((2xy^2)^2 + (2xy^2)(4z^7) + (4z^7)^2) \\\\\n",
    "    (2xy^2 - 4z^7)((2)^2(x)^2(y^2)^2 + 8xy^2z^7 + (4)^2(z^7)^2) \\\\\n",
    "    \\boxed{(2xy^2 - 4z^7)(4x^2y^4 + 8xy^2z^7 + 16z^{14}}\n",
    "\\end{gather*}"
   ]
  },
  {
   "cell_type": "markdown",
   "id": "5d71ad37",
   "metadata": {},
   "source": [
    "> 3. Factor the polynomial.\n",
    "\n",
    "\\begin{gather*}\n",
    "    a^3b^{12} − 125c^6 \\\\ \\\\\n",
    "\n",
    "    a = \\sqrt[3]{a^3b^{12}} = (a^3b^{12})^{\\frac{1}{3}} = (a^3)^{\\frac{1}{3}}(b^{12})^{\\frac{1}{3}} = ab^4 \\\\\n",
    "    b = \\sqrt[3]{125c^6} = (125c^6)^{\\frac{1}{3}} = (125)^{\\frac{1}{3}}(c^6)^{\\frac{1}{3}} = 5c^2 \\\\ \\\\\n",
    "\n",
    "    (ab^4 - 5c^2)((ab^4)^2 + (ab^4)(5c^2) + (5c^2)^2) \\\\\n",
    "    (ab^4 - 5c^2)((a)^2(b^4)^2 + 5ab^4c^2 + (5)^2(c^2)^2) \\\\\n",
    "    \\boxed{(ab^4 - 5c^2)(a^2b^8 + 5ab^4c^2 + 25c^4)}\n",
    "\\end{gather*}"
   ]
  },
  {
   "cell_type": "markdown",
   "id": "6ac07907",
   "metadata": {},
   "source": [
    "> 4. Factor the polynomial.\n",
    "\n",
    "\\begin{gather*}\n",
    "    27y^6z^3 − 216x^9 \\\\ \\\\\n",
    "\n",
    "    a = \\sqrt[3]{27y^6z^3} = (27y^6z^3)^{\\frac{1}{3}} = (27)^{\\frac{1}{3}}(y^6)^{\\frac{1}{3}}(z^3)^{\\frac{1}{3}} = 3y^2z \\\\\n",
    "    b = \\sqrt[3]{216x^9} = (216x^9)^{\\frac{1}{3}} = (216)^{\\frac{1}{3}}(x^9)^{\\frac{1}{3}} = 6x^3 \\\\ \\\\\n",
    "\n",
    "    (3y^2z - 6x^3)((3y^2z)^2 + (3y^2z)(6x^3) + (6x^3)^2) \\\\\n",
    "    (3y^2z - 6x^3)((3)^2(y^2)^2(z)^2 + 18x^3y^2z + (6)^2(x^3)^2) \\\\\n",
    "    \\boxed{(3y^2z - 6x^3)(9y^4z^2 + 18x^3y^2z + 36x^6)}\n",
    "\\end{gather*}"
   ]
  },
  {
   "cell_type": "markdown",
   "id": "dd660e8c",
   "metadata": {},
   "source": [
    "> 5. Factor the polynomial.\n",
    "\n",
    "\\begin{gather*}\n",
    "    8x^{15} − 27y^9 \\\\ \\\\\n",
    "\n",
    "    a = \\sqrt[3]{8x^{15}} = (8x^{15})^{\\frac{1}{3}} = (8)^{\\frac{1}{3}}(x^{15})^{\\frac{1}{3}} = 2x^5 \\\\\n",
    "    b = \\sqrt[3]{27y^9} = (27y^9)^{\\frac{1}{3}} = (27)^{\\frac{1}{3}}(y^9)^{\\frac{1}{3}} = 3y^3 \\\\ \\\\\n",
    "\n",
    "    (2x^5 - 3y^3)((2x^5)^2 + (2x^5)(3y^3) + (3y^3)^2) \\\\\n",
    "    (2x^5 - 3y^3)((2)^2(x^5)^2 + 6x^5y^3 + (3)^2(y^3)^2) \\\\\n",
    "    \\boxed{(2x^5 - 3y^3)(4x^{10} + 6x^5y^3 + 9y^6)}\n",
    "\\end{gather*}"
   ]
  },
  {
   "cell_type": "markdown",
   "id": "25abe66c",
   "metadata": {},
   "source": [
    "> 6. Factor the polynomial.\n",
    "\n",
    "\\begin{gather*}\n",
    "    216a^3b^6 − 125c^{24}d^3 \\\\ \\\\\n",
    "\n",
    "    a = \\sqrt[3]{216a^3b^6} = (216a^3b^6)^{\\frac{1}{3}} = (216)^{\\frac{1}{3}}(a^3)^{\\frac{1}{3}}(b^6)^{\\frac{1}{3}} = 6ab^2 \\\\\n",
    "    b = \\sqrt[3]{125c^{24}d^3} = (125c^{24}d^3)^{\\frac{1}{3}} = (125)^{\\frac{1}{3}}(c^{24})^{\\frac{1}{3}}(d^3)^{\\frac{1}{3}} = 5c^8d \\\\ \\\\\n",
    "\n",
    "    (6ab^2 - 5c^8d)((6ab^2)^2 + (6ab^2)(5c^8d) + (5c^8d)^2) \\\\\n",
    "    (6ab^2 - 5c^8d)((6)^2(a)^2(b^2)^2 + 30ab^2c^8d + (5)^2(c^8)^2(d)^2) \\\\\n",
    "    \\boxed{(6ab^2 - 5c^8d)(36a^2b^4 + 30ab^2c^8d + 25c^{16}d^2)}\n",
    "\\end{gather*}"
   ]
  }
 ],
 "metadata": {
  "language_info": {
   "name": "python"
  }
 },
 "nbformat": 4,
 "nbformat_minor": 5
}
