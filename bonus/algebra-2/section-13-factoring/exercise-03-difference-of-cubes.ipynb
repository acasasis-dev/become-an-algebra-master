{
 "cells": [
  {
   "cell_type": "markdown",
   "id": "80d495a8",
   "metadata": {},
   "source": [
    "## Exercise 3: Difference of Cubes"
   ]
  },
  {
   "cell_type": "markdown",
   "id": "1c86b49c",
   "metadata": {},
   "source": [
    "> 1. Factor the polynomial.\n",
    "\n",
    "\\begin{gather*}\n",
    "    x^3 − 27y^9 \\\\ \\\\\n",
    "\\end{gather*}"
   ]
  },
  {
   "cell_type": "markdown",
   "id": "7d4d883e",
   "metadata": {},
   "source": [
    "> 2. Factor the polynomial.\n",
    "\n",
    "\\begin{gather*}\n",
    "    8x^3y^6 − 64z^{21}\n",
    "\\end{gather*}"
   ]
  },
  {
   "cell_type": "markdown",
   "id": "5d71ad37",
   "metadata": {},
   "source": [
    "> 3. Factor the polynomial.\n",
    "\n",
    "\\begin{gather*}\n",
    "    a^3b^{12} − 125c^6 \\\\ \\\\\n",
    "\\end{gather*}"
   ]
  },
  {
   "cell_type": "markdown",
   "id": "6ac07907",
   "metadata": {},
   "source": [
    "> 4. Factor the polynomial.\n",
    "\n",
    "\\begin{gather*}\n",
    "    27y^6z^3 − 216x^9 \\\\ \\\\\n",
    "\\end{gather*}"
   ]
  },
  {
   "cell_type": "markdown",
   "id": "dd660e8c",
   "metadata": {},
   "source": [
    "> 5. Factor the polynomial.\n",
    "\n",
    "\\begin{gather*}\n",
    "    8x^{15} − 27y^9\n",
    "\\end{gather*}"
   ]
  },
  {
   "cell_type": "markdown",
   "id": "25abe66c",
   "metadata": {},
   "source": [
    "> 6. Factor the polynomial.\n",
    "\n",
    "\\begin{gather*}\n",
    "    216a^3b^6 − 125c^{24}d^3 \\\\ \\\\\n",
    "\\end{gather*}"
   ]
  }
 ],
 "metadata": {
  "language_info": {
   "name": "python"
  }
 },
 "nbformat": 4,
 "nbformat_minor": 5
}
