{
 "cells": [
  {
   "cell_type": "markdown",
   "id": "36e3883f",
   "metadata": {},
   "source": [
    "## Exercise 4: Sum of Cubes"
   ]
  },
  {
   "cell_type": "markdown",
   "id": "f95b96bc",
   "metadata": {},
   "source": [
    "> 1. If $x^2 − 2xy^2 + 4y^4 = 5$ and $x + 2y^2 = 8$, what is the value of $8x^3 + 64y^6$?"
   ]
  },
  {
   "cell_type": "markdown",
   "id": "2b397945",
   "metadata": {},
   "source": [
    "> 2. Factor the polynomial.\n",
    "\n",
    "\\begin{gather*}\n",
    "    216a^{21} + 64b^{15}c^9 \\\\ \\\\\n",
    "\\end{gather*}"
   ]
  },
  {
   "cell_type": "markdown",
   "id": "e3a479ce",
   "metadata": {},
   "source": [
    "> 3. Factor the polynomial.\n",
    "\n",
    "\\begin{gather*}\n",
    "    512z^{24} + 125m^6r^3 \\\\ \\\\\n",
    "\\end{gather*}"
   ]
  },
  {
   "cell_type": "markdown",
   "id": "41573b12",
   "metadata": {},
   "source": [
    "> 4. Factor the polynomial.\n",
    "\n",
    "\\begin{gather*}\n",
    "    64j^3k^6 + 8r^{12}t^6 \\\\ \\\\\n",
    "\\end{gather*}"
   ]
  },
  {
   "cell_type": "markdown",
   "id": "5cc2507e",
   "metadata": {},
   "source": [
    "> 5. Factor the polynomial.\n",
    "\n",
    "\\begin{gather*}\n",
    "    729x^{18} + 216y^6 \\\\ \\\\\n",
    "\\end{gather*}"
   ]
  },
  {
   "cell_type": "markdown",
   "id": "75795074",
   "metadata": {},
   "source": [
    "> 6. Factor the polynomial.\n",
    "\n",
    "\\begin{gather*}\n",
    "    (x − 5)^3 + 125 \\\\ \\\\\n",
    "\\end{gather*}"
   ]
  }
 ],
 "metadata": {
  "language_info": {
   "name": "python"
  }
 },
 "nbformat": 4,
 "nbformat_minor": 5
}
