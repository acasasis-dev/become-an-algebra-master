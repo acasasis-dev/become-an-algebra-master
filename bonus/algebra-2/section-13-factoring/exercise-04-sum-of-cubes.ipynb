{
 "cells": [
  {
   "cell_type": "markdown",
   "id": "36e3883f",
   "metadata": {},
   "source": [
    "## Exercise 4: Sum of Cubes"
   ]
  },
  {
   "cell_type": "markdown",
   "id": "f95b96bc",
   "metadata": {},
   "source": [
    "> 1. If $x^2 − 2xy^2 + 4y^4 = 5$ and $x + 2y^2 = 8$, what is the value of $8x^3 + 64y^6$?\n",
    "\n",
    "\\begin{gather*}\n",
    "    8x^3 + 64y^6 \\\\ \\\\\n",
    "\n",
    "    a = \\sqrt[3]{8x^3} = (8x^3)^{\\frac{1}{3}} = (8)^{\\frac{1}{3}}(x^3)^{\\frac{1}{3}} = 2x \\\\\n",
    "    b = \\sqrt[3]{64y^6} = (64y^6)^{\\frac{1}{3}} = (64)^{\\frac{1}{3}}(y^6)^{\\frac{1}{3}} = 4y^2 \\\\ \\\\\n",
    "\n",
    "    (2x + 4y^2)((2x)^2 - (2x)(4y^2) + (4y^2)^2) \\\\\n",
    "    (2x + 4y^2)((2)^2(x)^2 - 8xy^2 + (4)^2(y^2)^2) \\\\\n",
    "    (2x + 4y^2)(4x^2 - 8xy^2 + 16y^4) \\\\\n",
    "\n",
    "    (2x + 4y^2)(4x^2 - 8xy^2 + 16y^4) \\\\\n",
    "    2(x + 2y^2)4(x^2 - 2xy^2 + 4y^4) \\\\\n",
    "    (2 \\cdot 4)(x + 2y^2)(x^2 - 2xy^2 + 4y^4) \\\\\n",
    "    8(x + 2y^2)(x^2 - 2xy^2 + 4y^4) \\\\ \\\\\n",
    "\n",
    "    8x^3 + 64y^6 = (8)(8)(5) \\\\\n",
    "    8x^3 + 64y^6 = 64(5) \\\\\n",
    "    \\boxed{8x^3 + 64y^6 = 320}\n",
    "\\end{gather*}"
   ]
  },
  {
   "cell_type": "markdown",
   "id": "2b397945",
   "metadata": {},
   "source": [
    "> 2. Factor the polynomial.\n",
    "\n",
    "\\begin{gather*}\n",
    "    216a^{21} + 64b^{15}c^9 \\\\ \\\\\n",
    "\n",
    "    a = \\sqrt[3]{216a^{21}} = (216a^{21})^{\\frac{1}{3}} = (216)^{\\frac{1}{3}}(a^{21})^{\\frac{1}{3}} = 6a^7 \\\\\n",
    "    b = \\sqrt[3]{64b^{15}c^9} = (64b^{15}c^9)^{\\frac{1}{3}} = (64)^{\\frac{1}{3}}(b^{15})^{\\frac{1}{3}}(c^9)^{\\frac{1}{3}} = 4b^5c^3 \\\\ \\\\\n",
    "\n",
    "    (6a^7 + 4b^5c^3)((6a^7)^2 - (6a^7)(4b^5c^3) + (4b^5c^3)^2) \\\\\n",
    "    (6a^7 + 4b^5c^3)((6)^2(a^7)^2 - 24a^7b^5c^3 + (4)^2(b^5)^2(c^3)^2) \\\\\n",
    "    (6a^7 + 4b^5c^3)(36a^{14} - 24a^7b^5c^3 + 16b^{10}c^6) \\\\\n",
    "    2(3a^7 + 2b^5c^3)4(9a^{14} - 6a^7b^5c^3 + 4b^{10}c^6) \\\\\n",
    "    (2 \\cdot 4)(3a^7 + 2b^5c^3)(9a^{14} - 6a^7b^5c^3 + 4b^{10}c^6) \\\\\n",
    "    \\boxed{8(3a^7 + 2b^5c^3)(9a^{14} - 6a^7b^5c^3 + 4b^{10}c^6)}\n",
    "\\end{gather*}"
   ]
  },
  {
   "cell_type": "markdown",
   "id": "e3a479ce",
   "metadata": {},
   "source": [
    "> 3. Factor the polynomial.\n",
    "\n",
    "\\begin{gather*}\n",
    "    512z^{24} + 125m^6r^3 \\\\ \\\\\n",
    "\n",
    "    a = \\sqrt[3]{512z^{24}} = (512z^{24})^{\\frac{1}{3}} = (512)^{\\frac{1}{3}}(z^{24})^{\\frac{1}{3}} = 8z^8 \\\\\n",
    "    b = \\sqrt[3]{125m^6r^3} = (125m^6r^3)^{\\frac{1}{3}} = (125)^{\\frac{1}{3}}(m^6)^{\\frac{1}{3}}(r^3)^{\\frac{1}{3}} = 5m^2r \\\\ \\\\\n",
    "\n",
    "    (8z^8 + 5m^2r)((8z^8)^2 - (8z^8)(5m^2r) + (5m^2r)^2) \\\\\n",
    "    (8z^8 + 5m^2r)((8)^2(z^8)^2 - 40m^2rz^8 + (5)^2(m^2)^2(r)^2) \\\\\n",
    "    \\boxed{(8z^8 + 5m^2r)(64z^{16} - 40m^2rz^8 + 25m^4r^2)}\n",
    "\\end{gather*}"
   ]
  },
  {
   "cell_type": "markdown",
   "id": "41573b12",
   "metadata": {},
   "source": [
    "> 4. Factor the polynomial.\n",
    "\n",
    "\\begin{gather*}\n",
    "    64j^3k^6 + 8r^{12}t^6 \\\\ \\\\\n",
    "\\end{gather*}"
   ]
  },
  {
   "cell_type": "markdown",
   "id": "5cc2507e",
   "metadata": {},
   "source": [
    "> 5. Factor the polynomial.\n",
    "\n",
    "\\begin{gather*}\n",
    "    729x^{18} + 216y^6 \\\\ \\\\\n",
    "\\end{gather*}"
   ]
  },
  {
   "cell_type": "markdown",
   "id": "75795074",
   "metadata": {},
   "source": [
    "> 6. Factor the polynomial.\n",
    "\n",
    "\\begin{gather*}\n",
    "    (x − 5)^3 + 125 \\\\ \\\\\n",
    "\\end{gather*}"
   ]
  }
 ],
 "metadata": {
  "language_info": {
   "name": "python"
  }
 },
 "nbformat": 4,
 "nbformat_minor": 5
}
