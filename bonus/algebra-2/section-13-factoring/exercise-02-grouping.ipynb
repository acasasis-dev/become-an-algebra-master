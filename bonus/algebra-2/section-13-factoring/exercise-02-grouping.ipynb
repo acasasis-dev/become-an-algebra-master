{
 "cells": [
  {
   "cell_type": "markdown",
   "id": "b9bb0ca2",
   "metadata": {},
   "source": [
    "## Exercise 2: Grouping"
   ]
  },
  {
   "cell_type": "markdown",
   "id": "8d9a38e3",
   "metadata": {},
   "source": [
    "> 1. Factor the expression by grouping.\n",
    "\n",
    "\\begin{gather*}\n",
    "    2x − 3y − 4ax + 6ay \\\\ \\\\\n",
    "\n",
    "    (2x - 4ax)(6ay - 3y) \\\\\n",
    "    2x(1 - 2a) - 3y(1 - 2a) \\\\ \\\\\n",
    "\n",
    "    \\boxed{(2x - 3y)(1 - 2a)}\n",
    "\\end{gather*}"
   ]
  },
  {
   "cell_type": "markdown",
   "id": "ec786514",
   "metadata": {},
   "source": [
    "> 2. Factor the expression by grouping.\n",
    "\n",
    "\\begin{gather*}\n",
    "    4x^2 + 2xy + 10x + 5y \\\\ \\\\\n",
    "\n",
    "    (4x^2 + 10x)(2xy + 5y) \\\\\n",
    "    2x(2x + 5) + y(2x + 5) \\\\ \\\\\n",
    "\n",
    "    \\boxed{(2x + y)(2x + 5)}\n",
    "\\end{gather*}"
   ]
  },
  {
   "cell_type": "markdown",
   "id": "a9b4a582",
   "metadata": {},
   "source": [
    "> 3. Factor the expression by grouping.\n",
    "\n",
    "\\begin{gather*}\n",
    "    8ab + 2b − 4a − 1 \\\\ \\\\\n",
    "\n",
    "    (8ab + 2b)(-4a - 1) \\\\\n",
    "    -2b(-4a - 1) + 1(-4a - 1) \\\\ \\\\\n",
    "\n",
    "    \\boxed{(1 - 2b)(-4a - 1)}\n",
    "\\end{gather*}"
   ]
  },
  {
   "cell_type": "markdown",
   "id": "bd5bfa94",
   "metadata": {},
   "source": [
    "> 4. Factor the expression by grouping.\n",
    "\n",
    "\\begin{gather*}\n",
    "    9z + 9qr + 5ayz + 5ayqr \\\\ \\\\\n",
    "\n",
    "    (9z + 5ayz)(9qr + 5ayqr) \\\\\n",
    "    z(9 + 5ay) + qr(9 + 5ay) \\\\ \\\\\n",
    "\n",
    "    \\boxed{(z + qr)(9 + 5ay)}\n",
    "\\end{gather*}"
   ]
  },
  {
   "cell_type": "markdown",
   "id": "53fb7024",
   "metadata": {},
   "source": [
    "> 5. Factor the expression by grouping.\n",
    "\n",
    "\\begin{gather*}\n",
    "    3k^2 + 7k − 6 \\\\ \\\\\n",
    "\n",
    "    \\boxed{(3k - 2)(k + 3)}\n",
    "\\end{gather*}"
   ]
  },
  {
   "cell_type": "markdown",
   "id": "ebd2808a",
   "metadata": {},
   "source": [
    "> 6. Factor the expression by grouping.\n",
    "\n",
    "\\begin{gather*}\n",
    "    6x^2 + 13x − 5 \\\\ \\\\\n",
    "\n",
    "    \\boxed{(3x - 1)(2x + 5)}\n",
    "\\end{gather*}"
   ]
  }
 ],
 "metadata": {
  "language_info": {
   "name": "python"
  }
 },
 "nbformat": 4,
 "nbformat_minor": 5
}
