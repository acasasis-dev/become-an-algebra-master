{
 "cells": [
  {
   "cell_type": "markdown",
   "id": "11ee98ff",
   "metadata": {},
   "source": [
    "## Exercise 3: Center and Radius of a Circle"
   ]
  },
  {
   "cell_type": "markdown",
   "id": "b53bdfb0",
   "metadata": {},
   "source": [
    "> 1. Find the center and radius of the circle.\n",
    "\n",
    "\\begin{gather*}\n",
    "    x^2 + y^2 + 14x + 22y + 145 = 0 \\\\ \\\\\n",
    "\n",
    "    (x^2 + 14x) + (y^2 + 22y) = -145 \\\\\n",
    "    \\left(\\frac{14}{2}\\right)^2 = 7^2 = 49 \\\\\n",
    "    (x^2 + 14x + 49) - 49 + (y^2 + 22y) = -145 \\\\\n",
    "    (x + 7)^2 + (y^2 + 22y) = -145 + 49 \\\\\n",
    "    (x + 7)^2 + (y^2 + 22y) = -96 \\\\\n",
    "    \\left(\\frac{22}{2}\\right)^2 = 11^2 = 121 \\\\\n",
    "    (x + 7)^2 + (y^2 + 22y + 121) - 121 = -96 \\\\\n",
    "    (x + 7)^2 + (y + 11)^2 = 121 - 96 \\\\\n",
    "    (x + 7)^2 + (y + 11)^2 = 25 \\\\\n",
    "    [x - (-7)]^2 + [y - (-11)]^2 = 25\n",
    "\\end{gather*}\n",
    "\n",
    "The center of the circle is $(-7, -11)$ while the radius is $\\sqrt{25}$ which is $5$"
   ]
  },
  {
   "cell_type": "markdown",
   "id": "950ec551",
   "metadata": {},
   "source": [
    "> 2. Find the center and radius of the circle.\n",
    "\n",
    "\\begin{gather*}\n",
    "    16x^2 + 16y^2 − 8x − 24y − 150 = 0 \\\\ \\\\\n",
    "    \n",
    "    x^2 + y^2 - \\frac{1}{2}x - \\frac{3}{2}y = \\frac{150}{16} \\\\\n",
    "    (x^2 - \\frac{1}{2}x) + (y^2 - \\frac{3}{2}y) = \\frac{150}{16} \\\\\n",
    "    \\left(\\frac{\\frac{1}{2}}{2}\\right)^2 = \\left(\\frac{1}{2} \\cdot \\frac{1}{2}\\right)^2 = \\left(\\frac{1}{4}\\right)^2 = \\frac{1}{16} \\\\\n",
    "    (x^2 - \\frac{1}{2}x + \\frac{1}{16})^2 + (y^2 - \\frac{2}{3}y) = \\frac{150}{16} + \\frac{1}{16} \\\\\n",
    "    (x - \\frac{1}{4})^2 + (y^2 - \\frac{3}{2}y) = \\frac{151}{16} \\\\\n",
    "    \\left(\\frac{\\frac{3}{2}}{2}\\right)^2 = \\left(\\frac{3}{2} \\cdot \\frac{1}{2}\\right)^2 = \\left(\\frac{3}{2} \\cdot \\frac{1}{2}\\right)^2 = \\left(\\frac{3}{4}\\right)^2 = \\frac{9}{16} \\\\\n",
    "    (x - \\frac{1}{4})^2 + (y^2 - \\frac{3}{2} + \\frac{9}{16}) = \\frac{151}{16} + \\frac{9}{16} \\\\\n",
    "    (x - \\frac{1}{4})^2 + (y - \\frac{3}{4})^2 = \\frac{160}{16} \\\\\n",
    "    (x - \\frac{1}{4})^2 + (y - \\frac{3}{4})^2 = 10 \\\\\n",
    "\\end{gather*}\n",
    "\n",
    "The center of the circle is $(-\\frac{1}{4}, -\\frac{3}{4})$ and the radius is $\\sqrt{10}$"
   ]
  },
  {
   "cell_type": "markdown",
   "id": "ffe48aa9",
   "metadata": {},
   "source": [
    "> 3. Find the center and radius of the circle.\n",
    "\n",
    "\\begin{gather*}\n",
    "    9x^2 + 9y^2 − 30x − 6y − 118 = 0 \\\\ \\\\\n",
    "\n",
    "    \n",
    "\\end{gather*}"
   ]
  },
  {
   "cell_type": "markdown",
   "id": "94972bdb",
   "metadata": {},
   "source": [
    "> 4. Find the center and radius of the circle.\n",
    "\n",
    "\\begin{gather*}\n",
    "    x^2 + y^2 + 4x − 2y = 0 \\\\ \\\\\n",
    "\\end{gather*}"
   ]
  },
  {
   "cell_type": "markdown",
   "id": "b3042fba",
   "metadata": {},
   "source": [
    "> 5. Find the center and radius of the circle.\n",
    "\n",
    "\\begin{gather*}\n",
    "    x^2 + y^2 − 12x + 10y − 3 = 0 \\\\ \\\\\n",
    "\\end{gather*}"
   ]
  },
  {
   "cell_type": "markdown",
   "id": "db176813",
   "metadata": {},
   "source": [
    "> 6. Find the center and radius of the circle.\n",
    "\n",
    "\\begin{gather*}\n",
    "    16x^2 + 16y^2 + 96x − 160y + 543 = 0 \\\\ \\\\\n",
    "\\end{gather*}"
   ]
  }
 ],
 "metadata": {
  "kernelspec": {
   "display_name": "Python 3",
   "language": "python",
   "name": "python3"
  },
  "language_info": {
   "codemirror_mode": {
    "name": "ipython",
    "version": 3
   },
   "file_extension": ".py",
   "mimetype": "text/x-python",
   "name": "python",
   "nbconvert_exporter": "python",
   "pygments_lexer": "ipython3",
   "version": "3.12.2"
  }
 },
 "nbformat": 4,
 "nbformat_minor": 5
}
