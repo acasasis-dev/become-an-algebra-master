{
 "cells": [
  {
   "cell_type": "markdown",
   "id": "11ee98ff",
   "metadata": {},
   "source": [
    "## Exercise 3: Center and Radius of a Circle"
   ]
  },
  {
   "cell_type": "markdown",
   "id": "b53bdfb0",
   "metadata": {},
   "source": [
    "> 1. Find the center and radius of the circle.\n",
    "\n",
    "\\begin{gather*}\n",
    "    x^2 + y^2 + 14x + 22y + 145 = 0 \\\\ \\\\\n",
    "\\end{gather*}"
   ]
  },
  {
   "cell_type": "markdown",
   "id": "950ec551",
   "metadata": {},
   "source": [
    "> 2. Find the center and radius of the circle.\n",
    "\n",
    "\\begin{gather*}\n",
    "    16x^2 + 16y^2 − 8x − 24y − 150 = 0 \\\\ \\\\\n",
    "\\end{gather*}"
   ]
  },
  {
   "cell_type": "markdown",
   "id": "ffe48aa9",
   "metadata": {},
   "source": [
    "> 3. Find the center and radius of the circle.\n",
    "\n",
    "\\begin{gather*}\n",
    "    9x^2 + 9y^2 − 30x − 6y − 118 = 0 \\\\ \\\\\n",
    "\\end{gather*}"
   ]
  },
  {
   "cell_type": "markdown",
   "id": "94972bdb",
   "metadata": {},
   "source": [
    "> 4. Find the center and radius of the circle.\n",
    "\n",
    "\\begin{gather*}\n",
    "    x^2 + y^2 + 4x − 2y = 0 \\\\ \\\\\n",
    "\\end{gather*}"
   ]
  },
  {
   "cell_type": "markdown",
   "id": "b3042fba",
   "metadata": {},
   "source": [
    "> 5. Find the center and radius of the circle.\n",
    "\n",
    "\\begin{gather*}\n",
    "    x^2 + y^2 − 12x + 10y − 3 = 0 \\\\ \\\\\n",
    "\\end{gather*}"
   ]
  },
  {
   "cell_type": "markdown",
   "id": "db176813",
   "metadata": {},
   "source": [
    "> 6. Find the center and radius of the circle.\n",
    "\n",
    "\\begin{gather*}\n",
    "    16x^2 + 16y^2 + 96x − 160y + 543 = 0 \\\\ \\\\\n",
    "\\end{gather*}"
   ]
  }
 ],
 "metadata": {
  "language_info": {
   "name": "python"
  }
 },
 "nbformat": 4,
 "nbformat_minor": 5
}
