{
 "cells": [
  {
   "cell_type": "markdown",
   "id": "11ee98ff",
   "metadata": {},
   "source": [
    "## Exercise 3: Center and Radius of a Circle"
   ]
  },
  {
   "cell_type": "markdown",
   "id": "b53bdfb0",
   "metadata": {},
   "source": [
    "> 1. Find the center and radius of the circle.\n",
    "\n",
    "\\begin{gather*}\n",
    "    x^2 + y^2 + 14x + 22y + 145 = 0 \\\\ \\\\\n",
    "\n",
    "    (x^2 + 14x) + (y^2 + 22y) = -145 \\\\\n",
    "    \\left(\\frac{14}{2}\\right)^2 = 7^2 = 49 \\\\\n",
    "    (x^2 + 14x + 49) - 49 + (y^2 + 22y) = -145 \\\\\n",
    "    (x + 7)^2 + (y^2 + 22y) = -145 + 49 \\\\\n",
    "    (x + 7)^2 + (y^2 + 22y) = -96 \\\\\n",
    "    \\left(\\frac{22}{2}\\right)^2 = 11^2 = 121 \\\\\n",
    "    (x + 7)^2 + (y^2 + 22y + 121) - 121 = -96 \\\\\n",
    "    (x + 7)^2 + (y + 11)^2 = 121 - 96 \\\\\n",
    "    (x + 7)^2 + (y + 11)^2 = 25 \\\\\n",
    "    [x - (-7)]^2 + [y - (-11)]^2 = 25\n",
    "\\end{gather*}\n",
    "\n",
    "The center of the circle is $(-7, -11)$ while the radius is $\\sqrt{25}$ which is $5$"
   ]
  },
  {
   "cell_type": "markdown",
   "id": "950ec551",
   "metadata": {},
   "source": [
    "> 2. Find the center and radius of the circle.\n",
    "\n",
    "\\begin{gather*}\n",
    "    16x^2 + 16y^2 − 8x − 24y − 150 = 0 \\\\ \\\\\n",
    "    \n",
    "    x^2 + y^2 - \\frac{1}{2}x - \\frac{3}{2}y = \\frac{150}{16} \\\\\n",
    "    (x^2 - \\frac{1}{2}x) + (y^2 - \\frac{3}{2}y) = \\frac{150}{16} \\\\\n",
    "    \\left(\\frac{\\frac{1}{2}}{2}\\right)^2 = \\left(\\frac{1}{2} \\cdot \\frac{1}{2}\\right)^2 = \\left(\\frac{1}{4}\\right)^2 = \\frac{1}{16} \\\\\n",
    "    (x^2 - \\frac{1}{2}x + \\frac{1}{16})^2 + (y^2 - \\frac{2}{3}y) = \\frac{150}{16} + \\frac{1}{16} \\\\\n",
    "    (x - \\frac{1}{4})^2 + (y^2 - \\frac{3}{2}y) = \\frac{151}{16} \\\\\n",
    "    \\left(\\frac{\\frac{3}{2}}{2}\\right)^2 = \\left(\\frac{3}{2} \\cdot \\frac{1}{2}\\right)^2 = \\left(\\frac{3}{2} \\cdot \\frac{1}{2}\\right)^2 = \\left(\\frac{3}{4}\\right)^2 = \\frac{9}{16} \\\\\n",
    "    (x - \\frac{1}{4})^2 + (y^2 - \\frac{3}{2} + \\frac{9}{16}) = \\frac{151}{16} + \\frac{9}{16} \\\\\n",
    "    (x - \\frac{1}{4})^2 + (y - \\frac{3}{4})^2 = \\frac{160}{16} \\\\\n",
    "    (x - \\frac{1}{4})^2 + (y - \\frac{3}{4})^2 = 10 \\\\\n",
    "\\end{gather*}\n",
    "\n",
    "The center of the circle is $(\\frac{1}{4}, \\frac{3}{4})$ and the radius is $\\sqrt{10}$"
   ]
  },
  {
   "cell_type": "markdown",
   "id": "ffe48aa9",
   "metadata": {},
   "source": [
    "> 3. Find the center and radius of the circle.\n",
    "\n",
    "\\begin{gather*}\n",
    "    9x^2 + 9y^2 − 30x − 6y − 118 = 0 \\\\ \\\\\n",
    "\n",
    "    x^2 + y^2 - \\frac{10}{3}x - \\frac{2}{3}y = \\frac{118}{9} \\\\\n",
    "    (x^2 - \\frac{10}{3}x) + (y^2 - \\frac{2}{3}y) = \\frac{118}{9} \\\\\n",
    "    \\left(\\frac{\\frac{10}{3}}{2}\\right)^2 = \\left(\\frac{10}{3} \\cdot \\frac{1}{2}\\right)^2 = \\left(\\frac{10}{6}\\right)^2 = \\left(\\frac{5}{3}\\right)^2 = \\frac{25}{9} \\\\\n",
    "    (x^2 - \\frac{10}{3}x + \\frac{25}{9}) + (y^2 - \\frac{2}{3}y) = \\frac{118}{9} + \\frac{25}{9} \\\\\n",
    "    (x - \\frac{5}{3})^2 + (y^2 - \\frac{2}{3}y) = \\frac{143}{9} \\\\\n",
    "    \\left(\\frac{\\frac{2}{3}}{2}\\right)^2 = \\left(\\frac{2}{3} \\cdot \\frac{1}{2}\\right)^2 = \\left(\\frac{2}{6}\\right)^2 = \\left(\\frac{1}{3}\\right)^2 = \\frac{1}{9} \\\\\n",
    "    (x - \\frac{5}{3})^2 + (y^2 - \\frac{2}{3}y + \\frac{1}{9}) = \\frac{143}{9} + \\frac{1}{9} \\\\\n",
    "    (x - \\frac{5}{3})^2 + (y - \\frac{1}{3})^2 = 16 \\\\\n",
    "\\end{gather*}\n",
    "\n",
    "The center of the circle is $(\\frac{5}{3}, \\frac{1}{3})$ and the radius is $\\sqrt{16} = 4$"
   ]
  },
  {
   "cell_type": "markdown",
   "id": "94972bdb",
   "metadata": {},
   "source": [
    "> 4. Find the center and radius of the circle.\n",
    "\n",
    "\\begin{gather*}\n",
    "    x^2 + y^2 + 4x − 2y = 0 \\\\ \\\\\n",
    "\n",
    "    (x^2 + 4x) + (y^2 - 2y) = 0 \\\\\n",
    "    \\left(\\frac{4}{2}\\right)^2 = 2^2 = 4 \\\\\n",
    "    (x^2 + 4x + 4) + (y^2 - 2y) = 4 \\\\\n",
    "    (x + 2)^2 + (y^2 - 2y) = 4 \\\\\n",
    "    \\left(\\frac{2}{2}\\right)^2 = 1^2 = 1 \\\\\n",
    "    (x + 2)^2 + (y^2 - 2y + 1) = 4 + 1 \\\\\n",
    "    (x + 2)^2 + (y - 1)^2 = 5 \\\\\n",
    "    [x - (-2)]^2 + (y - 1)^2 = 5 \\\\\n",
    "\\end{gather*}\n",
    "\n",
    "The center of the circle is $(-2, 1)$ and the radius is $\\sqrt{5}$"
   ]
  },
  {
   "cell_type": "markdown",
   "id": "b3042fba",
   "metadata": {},
   "source": [
    "> 5. Find the center and radius of the circle.\n",
    "\n",
    "\\begin{gather*}\n",
    "    x^2 + y^2 − 12x + 10y − 3 = 0 \\\\ \\\\\n",
    "\n",
    "    (x^2 - 12x) + (y^2 + 10y) = 3 \\\\\n",
    "    \\left(\\frac{12}{2}\\right)^2 = 6^2 = 36 \\\\\n",
    "    (x^2 - 12x + 36) + (y^2 + 10y) = 3 + 36 \\\\\n",
    "    (x - 6)^2 + (y^2 + 10y) = 39 \\\\\n",
    "    \\left(\\frac{10}{2}\\right)^2 = 5^2 = 25 \\\\\n",
    "    (x - 6)^2 + (y^2 + 10y + 25) = 39 + 25 \\\\\n",
    "    (x - 6)^2 + (y + 5)^2 = 64 \\\\\n",
    "    (x - 6)^2 + [y - (-5)]^2 = 64\n",
    "\\end{gather*}\n",
    "\n",
    "The center of the circle is $(6, -5)$ and the radius is $\\sqrt{64} = 8$"
   ]
  },
  {
   "cell_type": "markdown",
   "id": "db176813",
   "metadata": {},
   "source": [
    "> 6. Find the center and radius of the circle.\n",
    "\n",
    "\\begin{gather*}\n",
    "    16x^2 + 16y^2 + 96x − 160y + 543 = 0 \\\\ \\\\\n",
    "    \n",
    "    x^2 + y^2 + 6x - 10y = -\\frac{543}{16} \\\\\n",
    "    (x^2 + 6x) + (y^2 - 10y) = -\\frac{543}{16} \\\\\n",
    "    \\left(\\frac{6}{2}\\right)^2 = 3^2 = 9 \\\\\n",
    "    (x^2 + 6x + 9) + (y^2 - 10y) = -\\frac{543}{16} + \\frac{144}{16} \\\\\n",
    "    (x + 3)^2 + (y^2 - 10y) = -\\frac{399}{16} \\\\\n",
    "    \\left(\\frac{10}{2}\\right)^2 = 5^2 = 25 \\\\\n",
    "    (x + 3)^2 + (y^2 - 10y + 25) = -\\frac{399}{16} + \\frac{400}{16} \\\\\n",
    "    (x + 3)^2 + (y - 5)^2 = \\frac{1}{16} \\\\\n",
    "    [x - (-3)]^2 + (y - 5)^2 = \\frac{1}{16} \\\\\n",
    "\\end{gather*}\n",
    "\n",
    "The center of the circle is $(-3, 5)$ and the radius is $\\sqrt{\\frac{1}{16}} = \\frac{\\sqrt{1}}{\\sqrt{16}} = \\frac{1}{4}$"
   ]
  }
 ],
 "metadata": {
  "kernelspec": {
   "display_name": "Python 3",
   "language": "python",
   "name": "python3"
  },
  "language_info": {
   "codemirror_mode": {
    "name": "ipython",
    "version": 3
   },
   "file_extension": ".py",
   "mimetype": "text/x-python",
   "name": "python",
   "nbconvert_exporter": "python",
   "pygments_lexer": "ipython3",
   "version": "3.12.2"
  }
 },
 "nbformat": 4,
 "nbformat_minor": 5
}
