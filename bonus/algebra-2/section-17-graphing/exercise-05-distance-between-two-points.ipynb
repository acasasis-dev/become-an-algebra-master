{
 "cells": [
  {
   "cell_type": "markdown",
   "id": "75ad8cdf",
   "metadata": {},
   "source": [
    "## Exercise 5: Distance Between Two Points"
   ]
  },
  {
   "cell_type": "markdown",
   "id": "b5964979",
   "metadata": {},
   "source": [
    "> 1. What is the distance between $(−1,2)$ and $(2,6)$?\n",
    "\n",
    "\\begin{gather*}\n",
    "    x_1, x_2 = (-1, 2) \\\\\n",
    "    y_1, y_2 = (2, 6) \\\\ \\\\\n",
    "\n",
    "    D = \\sqrt{(-1 - 2)^2 + (6 - 2)^2} \\\\\n",
    "    D = \\sqrt{-3^2 + 4^2} \\\\\n",
    "    D = \\sqrt{9 + 16} \\\\\n",
    "    D = \\sqrt{25} \\\\\n",
    "    \\boxed{D = 5}\n",
    "\\end{gather*}"
   ]
  },
  {
   "cell_type": "markdown",
   "id": "be4d0878",
   "metadata": {},
   "source": [
    "> 2. What is the distance between $(−7, − 6)$ and $(2,3)$?\n",
    "\n",
    "\\begin{gather*}\n",
    "    x_1, y_1 = (-7, -6) \\\\\n",
    "    x_2, y_2 = (2, 3) \\\\ \\\\\n",
    "\n",
    "    D = \\sqrt{(2 - (-7))^2 + (3 - (-6))^2} \\\\\n",
    "    D = \\sqrt{9^2 + 9^2} \\\\\n",
    "    D = \\sqrt{81 + 81} \\\\\n",
    "    D = \\sqrt{81 \\cdot 2} \\\\\n",
    "    \\boxed{D = 9\\sqrt{2}}\n",
    "\\end{gather*}"
   ]
  },
  {
   "cell_type": "markdown",
   "id": "6d2cb665",
   "metadata": {},
   "source": [
    "> 3. What is the distance between $(−1,3)$ and $(−4,8)$?\n",
    "\n",
    "\\begin{gather*}\n",
    "    x_1, y_1 = (-1, 3) \\\\\n",
    "    x_2, y_2 = (-4, 8) \\\\ \\\\\n",
    "\n",
    "    D = \\sqrt{(-4 - (-1))^2 + (8 - 3)^2} \\\\\n",
    "    D = \\sqrt{-3^2 + 5^2} \\\\\n",
    "    D = \\sqrt{9 + 25} \\\\\n",
    "    \\boxed{D = \\sqrt{34}}\n",
    "\\end{gather*}"
   ]
  },
  {
   "cell_type": "markdown",
   "id": "aa94b9fd",
   "metadata": {},
   "source": [
    "> 4. What is the distance between $(−3, \\sqrt{7})$ and $(4, −\\sqrt{7})$?\n",
    "\n",
    "\\begin{gather*}\n",
    "    x_1, y_1 = (-3, \\sqrt{7}) \\\\\n",
    "    x_2, y_2 = (4, \\sqrt{-7}) \\\\ \\\\\n",
    "\n",
    "    D = \\sqrt{(4 - (-3))^2 + (-\\sqrt{7} - \\sqrt{7})^2} \\\\\n",
    "    D = \\sqrt{7^2 + (-2\\sqrt{7})^2} \\\\\n",
    "    D = \\sqrt{49 + 4(7)} \\\\\n",
    "    D = \\sqrt{49 + 28} \\\\\n",
    "    \\boxed{D = \\sqrt{77}}\n",
    "\\end{gather*}"
   ]
  },
  {
   "cell_type": "markdown",
   "id": "791690e2",
   "metadata": {},
   "source": [
    "> 5. What is the distance between $(−\\sqrt{5}, \\sqrt{11})$ and $(\\sqrt{5}, −\\sqrt{11})$?\n",
    "\n",
    "\\begin{gather*}\n",
    "    x_1, y_1 = (-\\sqrt{5}, \\sqrt{11}) \\\\\n",
    "    x_2, y_2 = (\\sqrt{5}, -\\sqrt{11}) \\\\ \\\\\n",
    "\n",
    "    D = \\sqrt{(\\sqrt{5} - (-\\sqrt{5}))^2 + (-\\sqrt{11} - \\sqrt{11})^2} \\\\\n",
    "    D = \\sqrt{(2\\sqrt{5})^2 + (-2\\sqrt{11})^2} \\\\\n",
    "    D = \\sqrt{4(5) + 4(11)} \\\\\n",
    "    D = \\sqrt{20 + 44} \\\\\n",
    "    D = \\sqrt{64} \\\\\n",
    "    \\boxed{D = 8}\n",
    "\\end{gather*}"
   ]
  },
  {
   "cell_type": "markdown",
   "id": "a6369527",
   "metadata": {},
   "source": [
    "> 6. What is the distance between $(1, − 1)$ and $(−3,3)$?\n",
    "\n",
    "\\begin{gather*}\n",
    "    x_1, y_1 = (1, -1) \\\\\n",
    "    x_2, y_2 = (-3, 3) \\\\ \\\\\n",
    "\n",
    "    D = \\sqrt{(-3 - 1)^2 + (3 - (-1))^2} \\\\\n",
    "    D = \\sqrt{-4^2 + 4^2} \\\\\n",
    "    D = \\sqrt{16 + 16} \\\\\n",
    "    D = \\sqrt{16 \\cdot 2} \\\\\n",
    "    \\boxed{D = 4\\sqrt{2}}\n",
    "\\end{gather*}\n",
    "\n"
   ]
  }
 ],
 "metadata": {
  "language_info": {
   "name": "python"
  }
 },
 "nbformat": 4,
 "nbformat_minor": 5
}
