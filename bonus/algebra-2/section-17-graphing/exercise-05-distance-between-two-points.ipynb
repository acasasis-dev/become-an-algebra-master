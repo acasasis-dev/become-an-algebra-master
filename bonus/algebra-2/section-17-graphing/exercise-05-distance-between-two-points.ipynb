{
 "cells": [
  {
   "cell_type": "markdown",
   "id": "75ad8cdf",
   "metadata": {},
   "source": [
    "## Exercise 5: Distance Between Two Points"
   ]
  },
  {
   "cell_type": "markdown",
   "id": "b5964979",
   "metadata": {},
   "source": [
    "> 1. What is the distance between $(−1,2)$ and $(2,6)$?\n",
    "\n",
    "\\begin{gather*}\n",
    "    x_1, x_2 = (-1, 2) \\\\\n",
    "    y_1, y_2 = (2, 6) \\\\ \\\\\n",
    "\n",
    "    D = \\sqrt{(-1 - 2)^2 + (6 - 2)^2} \\\\\n",
    "    D = \\sqrt{-3^2 + 4^2} \\\\\n",
    "    D = \\sqrt{9 + 16} \\\\\n",
    "    D = \\sqrt{25} \\\\\n",
    "    \\boxed{D = 5}\n",
    "\\end{gather*}"
   ]
  },
  {
   "cell_type": "markdown",
   "id": "be4d0878",
   "metadata": {},
   "source": [
    "> 2. What is the distance between $(−7, − 6)$ and $(2,3)$?\n",
    "\n",
    "\\begin{gather*}\n",
    "    x_1, y_1 = (-7, -6) \\\\\n",
    "    x_2, y_2 = (2, 3) \\\\ \\\\\n",
    "\n",
    "    D = \\sqrt{(2 - (-7))^2 + (3 - (-6))^2} \\\\\n",
    "    D = \\sqrt{9^2 + 9^2} \\\\\n",
    "    D = \\sqrt{81 + 81} \\\\\n",
    "    D = \\sqrt{81 \\cdot 2} \\\\\n",
    "    \\boxed{D = 9\\sqrt{2}}\n",
    "\\end{gather*}"
   ]
  },
  {
   "cell_type": "markdown",
   "id": "6d2cb665",
   "metadata": {},
   "source": [
    "> 3. What is the distance between $(−1,3)$ and $(−4,8)$?\n",
    "\n",
    "\\begin{gather*}\n",
    "    x_1, y_1 = (-1, 3) \\\\\n",
    "    x_2, y_2 = (-4, 8) \\\\ \\\\\n",
    "\n",
    "    D = \\sqrt{(-4 - (-1))^2 + (8 - 3)^2} \\\\\n",
    "    D = \\sqrt{-3^2 + 5^2} \\\\\n",
    "    D = \\sqrt{9 + 25} \\\\\n",
    "    \\boxed{D = \\sqrt{34}}\n",
    "\\end{gather*}"
   ]
  },
  {
   "cell_type": "markdown",
   "id": "aa94b9fd",
   "metadata": {},
   "source": [
    "> 4. What is the distance between $(−3, 7)$ and $(4, − 7)$?"
   ]
  },
  {
   "cell_type": "markdown",
   "id": "791690e2",
   "metadata": {},
   "source": [
    "> 5. What is the distance between $(−\\sqrt{5}, \\sqrt{11})$ and $(\\sqrt{5}, −\\sqrt{11})$?"
   ]
  },
  {
   "cell_type": "markdown",
   "id": "a6369527",
   "metadata": {},
   "source": [
    "> 6. What is the distance between $(1, − 1)$ and $(−3,3)$?"
   ]
  }
 ],
 "metadata": {
  "language_info": {
   "name": "python"
  }
 },
 "nbformat": 4,
 "nbformat_minor": 5
}
