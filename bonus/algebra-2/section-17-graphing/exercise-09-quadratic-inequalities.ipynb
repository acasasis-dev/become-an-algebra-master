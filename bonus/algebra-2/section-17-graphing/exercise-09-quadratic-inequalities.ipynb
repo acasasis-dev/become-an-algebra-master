{
 "cells": [
  {
   "cell_type": "markdown",
   "id": "984247eb",
   "metadata": {},
   "source": [
    "## Exercise 9: Quadratic Inequalities"
   ]
  },
  {
   "cell_type": "markdown",
   "id": "4c398e06",
   "metadata": {},
   "source": [
    "> 1. Solve $x^2 − 6x + 9 \\le 0$ graphically."
   ]
  },
  {
   "cell_type": "markdown",
   "id": "6388a917",
   "metadata": {},
   "source": [
    "> 2. Solve $−x^2 + 4 > 0$ graphically."
   ]
  },
  {
   "cell_type": "markdown",
   "id": "a4fdb210",
   "metadata": {},
   "source": [
    "> 3. Solve $x^2 − 4x + 6 \\ge 0$ graphically."
   ]
  },
  {
   "cell_type": "markdown",
   "id": "f88688a3",
   "metadata": {},
   "source": [
    "> 4. Solve $5x − x^2 \\le 0$ algebraically."
   ]
  },
  {
   "cell_type": "markdown",
   "id": "2de9892d",
   "metadata": {},
   "source": [
    "> 5. Solve $x^2 − x − 24 > x$ algebraically."
   ]
  },
  {
   "cell_type": "markdown",
   "id": "4b0bb4d9",
   "metadata": {},
   "source": [
    "> 6. Solve $−x^2 − 3x + 6 \\ge 0$ algebraically."
   ]
  }
 ],
 "metadata": {
  "language_info": {
   "name": "python"
  }
 },
 "nbformat": 4,
 "nbformat_minor": 5
}
