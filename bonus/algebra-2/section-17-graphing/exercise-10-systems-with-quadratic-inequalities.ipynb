{
 "cells": [
  {
   "cell_type": "markdown",
   "id": "3e60e1e9",
   "metadata": {},
   "source": [
    "## Exercise 10: Systems With Quadratic Inequalities"
   ]
  },
  {
   "cell_type": "markdown",
   "id": "68a7e4fc",
   "metadata": {},
   "source": [
    "> 1. Sketch the solution to the system of inequalities.\n",
    "\n",
    "\\begin{gather*}\n",
    "    y < x + 3 \\\\\n",
    "    y > x^2 - 2x + 1 \\\\ \\\\\n",
    "\\end{gather*}"
   ]
  },
  {
   "cell_type": "markdown",
   "id": "ebe21ed6",
   "metadata": {},
   "source": [
    "> 2. Sketch the solution to the system of inequalities.\n",
    "\n",
    "\\begin{gather*}\n",
    "    y \\ge x^2 - 4x \\\\\n",
    "    x < 2 \\\\ \\\\\n",
    "\\end{gather*}"
   ]
  },
  {
   "cell_type": "markdown",
   "id": "f75c6a5b",
   "metadata": {},
   "source": [
    "> 3. Sketch the solution to the system of inequalities.\n",
    "\n",
    "\\begin{gather*}\n",
    "    4y \\le x + 8 \\\\\n",
    "    x^2 + 4x + 4y > 0 \\\\ \\\\\n",
    "\\end{gather*}"
   ]
  },
  {
   "cell_type": "markdown",
   "id": "961e332a",
   "metadata": {},
   "source": [
    "> 4. Sketch the solution to the system of inequalities.\n",
    "\n",
    "\\begin{gather*}\n",
    "    y \\ge 0 \\\\\n",
    "    y \\ge x^2 + 2x + 2 \\\\ \\\\\n",
    "\\end{gather*}"
   ]
  },
  {
   "cell_type": "markdown",
   "id": "080567ed",
   "metadata": {},
   "source": [
    "> 5. Sketch the solution to the system of inequalities.\n",
    "\n",
    "\\begin{gather*}\n",
    "    x - 3y < -9 \\\\\n",
    "    y \\le (x - 2)^2 \\\\ \\\\\n",
    "\\end{gather*}"
   ]
  },
  {
   "cell_type": "markdown",
   "id": "0d0c4da0",
   "metadata": {},
   "source": [
    "> 6. Sketch the solution to the system of inequalities.\n",
    "\n",
    "\\begin{gather*}\n",
    "    y < 2x + 1 \\\\\n",
    "    y > 2x + 1 - x^2 \\\\ \\\\\n",
    "\\end{gather*}\n"
   ]
  }
 ],
 "metadata": {
  "language_info": {
   "name": "python"
  }
 },
 "nbformat": 4,
 "nbformat_minor": 5
}
