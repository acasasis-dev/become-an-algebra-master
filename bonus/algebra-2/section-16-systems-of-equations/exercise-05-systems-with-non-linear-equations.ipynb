{
 "cells": [
  {
   "cell_type": "markdown",
   "id": "f6a5c2e6",
   "metadata": {},
   "source": [
    "## Exercise 5: Systems with Non-Linear Equations"
   ]
  },
  {
   "cell_type": "markdown",
   "id": "1792f880",
   "metadata": {},
   "source": [
    "> 1. Solve the system of equations.\n",
    "\n",
    "\\begin{gather*}\n",
    "    y = x - 1 \\\\\n",
    "    x^2 + y^2 = 1 \\\\ \\\\\n",
    "\\end{gather*}"
   ]
  },
  {
   "cell_type": "markdown",
   "id": "4591f17c",
   "metadata": {},
   "source": [
    "> 2. Solve the system of equations.\n",
    "\n",
    "\\begin{gather*}\n",
    "    y - 2x = 0 \\\\\n",
    "    (x - 2)^2 + (y - 1)^2 = 9 \\\\ \\\\\n",
    "\\end{gather*}"
   ]
  },
  {
   "cell_type": "markdown",
   "id": "44ee05d6",
   "metadata": {},
   "source": [
    "> 3. Solve the system of equations.\n",
    "\n",
    "\\begin{gather*}\n",
    "    2y − x = − 2 \\\\\n",
    "    (x − 6)^2 + 4(y − 4)^2 = 16 \\\\ \\\\\n",
    "\\end{gather*}"
   ]
  },
  {
   "cell_type": "markdown",
   "id": "e0cd5eb5",
   "metadata": {},
   "source": [
    "> 4. Solve the system of equations.\n",
    "\n",
    "\\begin{gather*}\n",
    "    y = \\frac{1}{2}x + 1 \\\\\n",
    "    x^2 − y^2 = 4 \\\\ \\\\\n",
    "\\end{gather*}"
   ]
  },
  {
   "cell_type": "markdown",
   "id": "0cc45365",
   "metadata": {},
   "source": [
    "> 5. Solve the system of equations.\n",
    "\n",
    "\\begin{gather*}\n",
    "    y = -\\frac{1}{2}x - 3 \\\\ \n",
    "    \\frac{(x - 3)^2}{9} - \\frac{(y + 3)^2}{9} = 1 \\\\ \\\\\n",
    "\\end{gather*}"
   ]
  },
  {
   "cell_type": "markdown",
   "id": "95c95494",
   "metadata": {},
   "source": [
    "> 6. Solve the system of equations.\n",
    "\n",
    "\\begin{gather*}\n",
    "    2y - 3x = 14 \\\\\n",
    "    \\frac{(y + 2)^2}{9} + \\frac{(x + 4)^2}{4} = 1 \\\\ \\\\\n",
    "\\end{gather*}"
   ]
  }
 ],
 "metadata": {
  "language_info": {
   "name": "python"
  }
 },
 "nbformat": 4,
 "nbformat_minor": 5
}
