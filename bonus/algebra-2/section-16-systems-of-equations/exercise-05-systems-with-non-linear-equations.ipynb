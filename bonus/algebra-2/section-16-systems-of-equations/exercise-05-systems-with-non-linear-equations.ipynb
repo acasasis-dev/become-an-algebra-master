{
 "cells": [
  {
   "cell_type": "markdown",
   "id": "f6a5c2e6",
   "metadata": {},
   "source": [
    "## Exercise 5: Systems with Non-Linear Equations"
   ]
  },
  {
   "cell_type": "markdown",
   "id": "1792f880",
   "metadata": {},
   "source": [
    "> 1. Solve the system of equations.\n",
    "\n",
    "\\begin{gather*}\n",
    "    y = x - 1 \\\\\n",
    "    x^2 + y^2 = 1 \\\\ \\\\\n",
    "\n",
    "    x^2 + (x - 1)^2 = 1 \\\\\n",
    "    x^2 + (x - 1)(x - 1) = 1 \\\\\n",
    "    x^2 + x^2 - 2x + 1 = 1 \\\\\n",
    "    2x^2 - 2x = 1 - 1 \\\\\n",
    "    2x^2 - 2x = 0 \\\\\n",
    "    x^2 - x = 0 \\\\\n",
    "    x(x - 1) = 0 \\\\\n",
    "    x = 0, 1 \\\\ \\\\\n",
    "\n",
    "    y = 0 - 1 \\\\\n",
    "    y = -1 \\\\ \\\\\n",
    "\n",
    "    \\boxed{(0, -1)} \\\\ \\\\\n",
    "\n",
    "    y = 1 - 1 \\\\\n",
    "    y = 0 \\\\ \\\\\n",
    "\n",
    "    \\boxed{(1, 0)}\n",
    "\\end{gather*}"
   ]
  },
  {
   "cell_type": "markdown",
   "id": "4591f17c",
   "metadata": {},
   "source": [
    "> 2. Solve the system of equations.\n",
    "\n",
    "\\begin{gather*}\n",
    "    y - 2x = 0 \\\\\n",
    "    (x - 2)^2 + (y - 1)^2 = 9 \\\\ \\\\\n",
    "\n",
    "    y = 2x \\\\ \\\\\n",
    "\n",
    "    (x - 2)^2 + (2x - 1)^2 = 9 \\\\\n",
    "    x^2 - 4x + 4 + 4x^2 - 4x + 1 = 9 \\\\\n",
    "    5x^2 - 8x + 5 = 9 \\\\\n",
    "    5x^2 - 8x - 4 = 0 \\\\ \\\\\n",
    "\n",
    "    5 \\cdot -4 = -20 \\\\\n",
    "    a + b = -8 \\\\\n",
    "    a \\cdot b = -20 \\\\\n",
    "    -10 + 2 = -8 \\\\\n",
    "    -10 \\cdot 2 = -20 \\\\ \\\\\n",
    "\n",
    "    5x^2 - 10x + 2x - 4 \\\\\n",
    "    (5x^2 - 10x) + (2x - 4) \\\\\n",
    "    5x(x - 2) + 2(x - 2) \\\\\n",
    "    (5x + 2)(x - 2) = 0 \\\\\n",
    "    x = -\\frac{2}{5}, 2 \\\\ \\\\\n",
    "\n",
    "    y = 2(-\\frac{2}{5}) \\\\\n",
    "    y = -\\frac{4}{5} \\\\ \\\\\n",
    "\n",
    "    \\boxed{\\left(-\\frac{2}{5}, -\\frac{4}{5}\\right)} \\\\ \\\\\n",
    "\n",
    "    y = 2(2) \\\\\n",
    "    y = 4 \\\\ \\\\\n",
    "\n",
    "    \\boxed{(2, 4)}\n",
    "\\end{gather*}"
   ]
  },
  {
   "cell_type": "markdown",
   "id": "44ee05d6",
   "metadata": {},
   "source": [
    "> 3. Solve the system of equations.\n",
    "\n",
    "\\begin{gather*}\n",
    "    2y − x = − 2 \\\\\n",
    "    (x − 6)^2 + 4(y − 4)^2 = 16 \\\\ \\\\\n",
    "\n",
    "    x = 2y + 2 \\\\ \\\\\n",
    "\n",
    "    (2y + 2 - 6)^2 + 4(y - 4)^2 = 16 \\\\\n",
    "    (2y - 4)^2 + 4(y^2 - 8x + 16) = 16 \\\\\n",
    "    4y^2 - 16y + 16 + 4(y^2 - 8x + 16) = 16 \\\\\n",
    "    \\frac{4y^2 - 16y + 16 + 4(y^2 - 8x + 16) = 16}{4} \\\\\n",
    "    y^2 - 4y + 4 + y^2 - 8x + 16 = 4 \\\\\n",
    "    2y^2 - 12y + 16 = 0 \\\\\n",
    "    y^2 - 6y + 8 = 0 \\\\\n",
    "    (y - 4)(y - 2) = 0 \\\\\n",
    "    y = 4, 2 \\\\ \\\\\n",
    "\n",
    "    x = 2(4) + 2 \\\\\n",
    "    x = 8 + 2 \\\\\n",
    "    x = 10 \\\\ \\\\\n",
    "\n",
    "    \\boxed{(10, 4)} \\\\ \\\\\n",
    "\n",
    "    x = 2(2) + 2 \\\\\n",
    "    x = 4 + 2 \\\\\n",
    "    x = 6 \\\\ \\\\\n",
    "\n",
    "    \\boxed{(6, 2)}\n",
    "\\end{gather*}"
   ]
  },
  {
   "cell_type": "markdown",
   "id": "e0cd5eb5",
   "metadata": {},
   "source": [
    "> 4. Solve the system of equations.\n",
    "\n",
    "\\begin{gather*}\n",
    "    y = \\frac{1}{2}x + 1 \\\\\n",
    "    x^2 − y^2 = 4 \\\\ \\\\\n",
    "\\end{gather*}"
   ]
  },
  {
   "cell_type": "markdown",
   "id": "0cc45365",
   "metadata": {},
   "source": [
    "> 5. Solve the system of equations.\n",
    "\n",
    "\\begin{gather*}\n",
    "    y = -\\frac{1}{2}x - 3 \\\\ \n",
    "    \\frac{(x - 3)^2}{9} - \\frac{(y + 3)^2}{9} = 1 \\\\ \\\\\n",
    "\\end{gather*}"
   ]
  },
  {
   "cell_type": "markdown",
   "id": "95c95494",
   "metadata": {},
   "source": [
    "> 6. Solve the system of equations.\n",
    "\n",
    "\\begin{gather*}\n",
    "    2y - 3x = 14 \\\\\n",
    "    \\frac{(y + 2)^2}{9} + \\frac{(x + 4)^2}{4} = 1 \\\\ \\\\\n",
    "\\end{gather*}"
   ]
  }
 ],
 "metadata": {
  "language_info": {
   "name": "python"
  }
 },
 "nbformat": 4,
 "nbformat_minor": 5
}
