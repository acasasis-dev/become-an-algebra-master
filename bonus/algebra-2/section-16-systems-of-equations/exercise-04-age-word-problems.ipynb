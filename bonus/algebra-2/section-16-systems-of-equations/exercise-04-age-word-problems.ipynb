{
 "cells": [
  {
   "cell_type": "markdown",
   "id": "09d44b97",
   "metadata": {},
   "source": [
    "## Exercise 4: Age Word Problems"
   ]
  },
  {
   "cell_type": "markdown",
   "id": "90e72e42",
   "metadata": {},
   "source": [
    "> 1. In $16$ years, Thorin will be nine times older than he is now. How old is he\n",
    "now?"
   ]
  },
  {
   "cell_type": "markdown",
   "id": "cfdb26b1",
   "metadata": {},
   "source": [
    "> 2. In $12$ years, Jake will be four times as old as he was nine years ago.\n",
    "How old will he be in $12$ years?"
   ]
  },
  {
   "cell_type": "markdown",
   "id": "f2e31dc7",
   "metadata": {},
   "source": [
    "> 3. In $16$ years, Erica will be six times as old as she was $14$ years ago. How\n",
    "old was she four years ago?"
   ]
  },
  {
   "cell_type": "markdown",
   "id": "bafcd480",
   "metadata": {},
   "source": [
    "> 4. $10$ years ago, Tim was three years younger than twice Sally’s age. $17$\n",
    "years from now Sally will be seven years older than $5/8$ of Tim’s age. How\n",
    "old are Sally and Tim now?"
   ]
  },
  {
   "cell_type": "markdown",
   "id": "13f7637e",
   "metadata": {},
   "source": [
    "> 5. Jessica is five years younger than Ryan. $12$ years ago, Jessica was half\n",
    "the age Ryan will be in three years. How old is Jessica now?"
   ]
  },
  {
   "cell_type": "markdown",
   "id": "391c9013",
   "metadata": {},
   "source": [
    "> 6. Kate is five times older than Sam. Five years ago, Kate was $15$ times\n",
    "older than Sam. How old will Sam be in three years?"
   ]
  }
 ],
 "metadata": {
  "language_info": {
   "name": "python"
  }
 },
 "nbformat": 4,
 "nbformat_minor": 5
}
