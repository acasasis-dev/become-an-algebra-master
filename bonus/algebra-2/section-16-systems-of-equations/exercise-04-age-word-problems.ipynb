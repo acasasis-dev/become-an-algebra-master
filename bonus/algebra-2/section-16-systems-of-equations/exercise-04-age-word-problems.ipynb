{
 "cells": [
  {
   "cell_type": "markdown",
   "id": "09d44b97",
   "metadata": {},
   "source": [
    "## Exercise 4: Age Word Problems"
   ]
  },
  {
   "cell_type": "markdown",
   "id": "90e72e42",
   "metadata": {},
   "source": [
    "> 1. In $16$ years, Thorin will be nine times older than he is now. How old is he\n",
    "now?\n",
    "\n",
    "\\begin{gather*}\n",
    "    A + 16 = 9A \\\\ \\\\\n",
    "\n",
    "    9A - A = 16 \\\\\n",
    "    8A = 16 \\\\\n",
    "    \\frac{8A = 16}{8} \\\\\n",
    "    \\boxed{A = 2}\n",
    "\\end{gather*}"
   ]
  },
  {
   "cell_type": "markdown",
   "id": "cfdb26b1",
   "metadata": {},
   "source": [
    "> 2. In $12$ years, Jake will be four times as old as he was nine years ago.\n",
    "How old will he be in $12$ years?\n",
    "\n",
    "\\begin{gather*}\n",
    "    A + 12 = 4(A - 9) \\\\ \\\\\n",
    "\n",
    "    A + 12 = 4A - 36 \\\\\n",
    "    4A - A = 12 + 36 \\\\\n",
    "    3A = 48 \\\\\n",
    "    \\frac{3A = 48}{3} \\\\\n",
    "    A = 16 \\\\ \\\\\n",
    "\n",
    "    16 + 12 = 28 \\\\\n",
    "    \\boxed{28}\n",
    "\\end{gather*}"
   ]
  },
  {
   "cell_type": "markdown",
   "id": "f2e31dc7",
   "metadata": {},
   "source": [
    "> 3. In $16$ years, Erica will be six times as old as she was $14$ years ago. How\n",
    "old was she four years ago?\n",
    "\n",
    "\\begin{gather*}\n",
    "    A + 16 = 6(A - 14) \\\\ \\\\\n",
    "\n",
    "    A + 16 = 6A - 84 \\\\\n",
    "    6A - A = 16 + 84 \\\\\n",
    "    5A = 100 \\\\\n",
    "    \\frac{5A = 100}{5} \\\\\n",
    "    A = 20 \\\\\n",
    "\n",
    "    20 - 4 = 16 \\\\\n",
    "    \\boxed{16}\n",
    "\\end{gather*}"
   ]
  },
  {
   "cell_type": "markdown",
   "id": "bafcd480",
   "metadata": {},
   "source": [
    "> 4. $10$ years ago, Tim was three years younger than twice Sally’s age. $17$\n",
    "years from now Sally will be seven years older than $5/8$ of Tim’s age. How\n",
    "old are Sally and Tim now?\n",
    "\n",
    "\\begin{gather*}\n",
    "    T - 10 + 3 = 2(S - 10) \\\\\n",
    "    T - 10 + 3 = 2S - 20 \\\\\n",
    "    T - 7 = 2S - 20 \\\\\n",
    "    T = 2S - 20 + 7 \\\\\n",
    "    T = 2S - 13 \\\\ \\\\\n",
    "\n",
    "    S + 17 - 7 = \\frac{5}{8}(T + 17) \\\\\n",
    "    S + 10 = \\frac{5}{8}T + \\frac{85}{8} \\\\\n",
    "    8\\left(S + 10 = \\frac{5}{8}T + \\frac{85}{8}\\right) \\\\\n",
    "    8S + 80 = 5T + 85 \\\\\n",
    "    8S = 5T + 85 - 80 \\\\\n",
    "    8S = 5T + 5 \\\\\n",
    "    8S = 5(2S - 13) + 5 \\\\\n",
    "    8S = 10S - 65 + 5 \\\\\n",
    "    8S = 10S - 60 \\\\\n",
    "    10S - 8S = 60 \\\\\n",
    "    2S = 60 \\\\\n",
    "    \\frac{2S = 60}{2} \\\\\n",
    "    \\boxed{S = 30} \\\\ \\\\\n",
    "\n",
    "    T = 2(30) - 13 \\\\\n",
    "    T = 60 - 13 \\\\\n",
    "    \\boxed{T = 47} \\\\ \\\\\n",
    "\\end{gather*}"
   ]
  },
  {
   "cell_type": "markdown",
   "id": "13f7637e",
   "metadata": {},
   "source": [
    "> 5. Jessica is five years younger than Ryan. $12$ years ago, Jessica was half\n",
    "the age Ryan will be in three years. How old is Jessica now?\n",
    "\n",
    "\\begin{gather*}\n",
    "    J + 5 = R \\\\\n",
    "    2(J - 12) = R + 3 \\\\ \\\\\n",
    "\n",
    "    2(J - 12) = J + 5 + 3 \\\\\n",
    "    2J - 24 = J + 8 \\\\\n",
    "    2J - J = 24 + 8 \\\\\n",
    "    \\boxed{J = 32}\n",
    "\\end{gather*}\n",
    "\n",
    "    "
   ]
  },
  {
   "cell_type": "markdown",
   "id": "391c9013",
   "metadata": {},
   "source": [
    "> 6. Kate is five times older than Sam. Five years ago, Kate was $15$ times\n",
    "older than Sam. How old will Sam be in three years?\n",
    "\n",
    "\\begin{gather*}\n",
    "    K = 5S \\\\\n",
    "    K - 5 = 15(S - 5) \\\\ \\\\\n",
    "\n",
    "    K = 15S - 75 + 5 \\\\\n",
    "    K = 15S - 70 \\\\\n",
    "\n",
    "    15S - 70 = 5S \\\\\n",
    "    15S - 5S = 70 \\\\\n",
    "    10S = 70 \\\\\n",
    "    S = 7 \\\\ \\\\\n",
    "\n",
    "    K = 5S \\\\\n",
    "    K = 5(7) \\\\\n",
    "    K = 35 \\\\\n",
    "\n",
    "    S_{\\text{in three years}} = S + 3 \\\\\n",
    "    S_{\\text{in three years}} = 7 + 3 \\\\\n",
    "    \\boxed{S_{\\text{in three years}} = 10}\n",
    "\\end{gather*}"
   ]
  }
 ],
 "metadata": {
  "language_info": {
   "name": "python"
  }
 },
 "nbformat": 4,
 "nbformat_minor": 5
}
