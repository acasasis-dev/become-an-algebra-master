{
 "cells": [
  {
   "cell_type": "markdown",
   "id": "87dcb932",
   "metadata": {},
   "source": [
    "## Exercise 6: Systems of Three Equations"
   ]
  },
  {
   "cell_type": "markdown",
   "id": "4b4ff0de",
   "metadata": {},
   "source": [
    "> 1. Find the unique solution to the system of equations.\n",
    "\n",
    "\\begin{gather*}\n",
    "    2x + y - z = 3 \\\\\n",
    "    x - y + z = 0 \\\\\n",
    "    x - 2y - 3z = 4 \\\\ \\\\\n",
    "\\end{gather*}"
   ]
  },
  {
   "cell_type": "markdown",
   "id": "29c5bd13",
   "metadata": {},
   "source": [
    "> 2. Find the unique solution to the system of equations.\n",
    "\n",
    "\\begin{gather*}\n",
    "    3x + y - z = -2 \\\\\n",
    "    x - 2y + 3z = 23 \\\\\n",
    "    2x + 3y + 2z = 5 \\\\ \\\\\n",
    "\\end{gather*}"
   ]
  },
  {
   "cell_type": "markdown",
   "id": "32de95ab",
   "metadata": {},
   "source": [
    "> 3. Find the unique solution to the system of equations.\n",
    "\n",
    "\\begin{gather*}\n",
    "    -2x + 3y - 4z = 10 \\\\\n",
    "    4x + 3y + 2z = 4 \\\\\n",
    "    x - 6y + 4z = -19 \\\\ \\\\\n",
    "\\end{gather*}"
   ]
  },
  {
   "cell_type": "markdown",
   "id": "f913c1ee",
   "metadata": {},
   "source": [
    "> 4. Find the unique solution to the system of equations.\n",
    "\n",
    "\\begin{gather*}\n",
    "    2x - y + z = 9 \\\\\n",
    "    4x - 2y + 2z = 18 \\\\\n",
    "    -2x + y - z = -9 \\\\ \\\\\n",
    "\\end{gather*}"
   ]
  },
  {
   "cell_type": "markdown",
   "id": "4d91b6cb",
   "metadata": {},
   "source": [
    "> 5. Find the unique solution to the system of equations.\n",
    "\n",
    "\\begin{gather*}\n",
    "    x + 2y - z = 9 \\\\\n",
    "    3x + y - z = 5 \\\\\n",
    "    -x - 4y + z = 2 \\\\ \\\\\n",
    "\\end{gather*}"
   ]
  },
  {
   "cell_type": "markdown",
   "id": "df135282",
   "metadata": {},
   "source": [
    "> 6. Find the unique solution to the system of equations.\n",
    "\n",
    "\\begin{gather*}\n",
    "    -x + y - z = 12 \\\\\n",
    "    x - y + z = 2 \\\\\n",
    "    2x - 2y + 2z = 9 \\\\ \\\\\n",
    "\\end{gather*}"
   ]
  }
 ],
 "metadata": {
  "language_info": {
   "name": "python"
  }
 },
 "nbformat": 4,
 "nbformat_minor": 5
}
