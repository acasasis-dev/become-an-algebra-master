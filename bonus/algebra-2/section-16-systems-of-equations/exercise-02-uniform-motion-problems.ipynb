{
 "cells": [
  {
   "cell_type": "markdown",
   "id": "840f7cf6",
   "metadata": {},
   "source": [
    "## Exercise 2: Uniform Motion Problems"
   ]
  },
  {
   "cell_type": "markdown",
   "id": "1cbf831c",
   "metadata": {},
   "source": [
    "> 1. Kaitlyn is driving at a constant rate of $55$ mph on the highway. $1$ hour\n",
    "later, her friend Charlotte starts from the same point and drives at a\n",
    "constant rate of $65$ mph. How many hours will each woman need to travel\n",
    "before Charlotte catches Kaitlyn. At that point, how far have each of them\n",
    "traveled?"
   ]
  },
  {
   "cell_type": "markdown",
   "id": "745bc81a",
   "metadata": {},
   "source": [
    "> 2. Sam walked $4$ mph from the bus stop to the school. John walked $5$\n",
    "mph from the same bus stop to the school and it took him $1$ hour to get\n",
    "there. How long did it take Sam to get to the school?"
   ]
  },
  {
   "cell_type": "markdown",
   "id": "174faf65",
   "metadata": {},
   "source": [
    "> 3. McKenzie and Daisy plan a trip to the mountains together. McKenzie\n",
    "travels at $45$ mph and Daisy travels at $60$ mph. Daisy’s trip took $3$ hours less\n",
    "than McKenzie’s. How far did each of them travel?"
   ]
  },
  {
   "cell_type": "markdown",
   "id": "ba6fc5de",
   "metadata": {},
   "source": [
    "> 4. Talan and Emily participate in a race together. Talan runs $10$ mph and\n",
    "finishes $1$ hour and $18$ minutes before Emily does. If Emily runs $5$ mph, how\n",
    "long does it take each person to finish the race and how far did they run?"
   ]
  },
  {
   "cell_type": "markdown",
   "id": "58ca1083",
   "metadata": {},
   "source": [
    "> 5. Adeline and Ellie live $10$ miles away from each other. Adeline started\n",
    "walking towards Ellie at $1$ : $00$ p.m.. Ellie left $1$ hour later and walked at a\n",
    "rate of $4$ mph. If they met at $3$ : $00$ p.m., how fast did Adeline walk?"
   ]
  },
  {
   "cell_type": "markdown",
   "id": "e0481b58",
   "metadata": {},
   "source": [
    "> 6. A train traveled $420$ miles at $48$ mph and arrived $1$ hour and $45$ minutes\n",
    "later than it was scheduled to arrive. How fast should the train have\n",
    "traveled in order to arrive on time?"
   ]
  }
 ],
 "metadata": {
  "language_info": {
   "name": "python"
  }
 },
 "nbformat": 4,
 "nbformat_minor": 5
}
