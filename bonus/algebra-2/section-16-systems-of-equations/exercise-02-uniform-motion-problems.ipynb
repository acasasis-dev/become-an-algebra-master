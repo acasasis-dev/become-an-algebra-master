{
 "cells": [
  {
   "cell_type": "markdown",
   "id": "840f7cf6",
   "metadata": {},
   "source": [
    "## Exercise 2: Uniform Motion Problems"
   ]
  },
  {
   "cell_type": "markdown",
   "id": "1cbf831c",
   "metadata": {},
   "source": [
    "> 1. Kaitlyn is driving at a constant rate of $55$ mph on the highway. $1$ hour\n",
    "later, her friend Charlotte starts from the same point and drives at a\n",
    "constant rate of $65$ mph. How many hours will each woman need to travel\n",
    "before Charlotte catches Kaitlyn. At that point, how far have each of them\n",
    "traveled?\n",
    "\n",
    "\\begin{gather*}\n",
    "    55h = 65(h - 1) \\\\\n",
    "    \\frac{55h = 65(h - 1)}{65} \\\\\n",
    "    \\frac{55h}{65} = h - 1 \\\\\n",
    "    \\frac{11}{13}h = h - 1 \\\\\n",
    "    h - \\frac{11}{13}h = 1 \\\\\n",
    "    \\frac{13}{13}h - \\frac{11}{13}h = 1 \\\\\n",
    "    \\frac{2}{13}h = 1 \\\\\n",
    "    13\\left(\\frac{2}{13}h = 1\\right) \\\\\n",
    "    2h = 13 \\\\\n",
    "    \\frac{2h = 13}{2} \\\\\n",
    "    \\boxed{h = 6.5} \\\\ \\\\\n",
    "\n",
    "    55(6.5) = 65(6.5 - 1) \\\\\n",
    "    357.5 = 357.5 \\\\ \\\\\n",
    "\n",
    "    \\boxed{D = 357.5}\n",
    "\\end{gather*}"
   ]
  },
  {
   "cell_type": "markdown",
   "id": "745bc81a",
   "metadata": {},
   "source": [
    "> 2. Sam walked $4$ mph from the bus stop to the school. John walked $5$\n",
    "mph from the same bus stop to the school and it took him $1$ hour to get\n",
    "there. How long did it take Sam to get to the school?\n",
    "\n",
    "\\begin{gather*}\n",
    "    4h = 5(1) \\\\ \\\\\n",
    "    \n",
    "    4h = 5 \\\\\n",
    "    \\frac{4h = 5}{4} \\\\\n",
    "    \\boxed{h = 1.25}\n",
    "\\end{gather*}"
   ]
  },
  {
   "cell_type": "markdown",
   "id": "174faf65",
   "metadata": {},
   "source": [
    "> 3. McKenzie and Daisy plan a trip to the mountains together. McKenzie\n",
    "travels at $45$ mph and Daisy travels at $60$ mph. Daisy’s trip took $3$ hours less\n",
    "than McKenzie’s. How far did each of them travel?\n",
    "\n",
    "\\begin{gather*}\n",
    "    45h = 60(h - 3) \\\\ \\\\\n",
    "\n",
    "    \\frac{45h = 60(h - 3)}{60} \\\\\n",
    "    \\frac{45}{60}h = h - 3 \\\\\n",
    "    \\frac{3}{4}h = h - 3 \\\\\n",
    "    h - \\frac{3}{4}h = 3 \\\\\n",
    "    \\frac{4}{4}h - \\frac{3}{4}h = 3 \\\\\n",
    "    \\frac{1}{4}h = 3 \\\\\n",
    "    4\\left(\\frac{1}{4}h = 3 \\right) \\\\\n",
    "    \\boxed{h = 12} \\\\ \\\\\n",
    "\n",
    "    45h = 60(h - 3) \\\\\n",
    "    45(12) = 60((12) - 3) \\\\\n",
    "    540 = 540 \\\\ \\\\\n",
    "\n",
    "    \\boxed{D = 540}\n",
    "\\end{gather*}\n"
   ]
  },
  {
   "cell_type": "markdown",
   "id": "ba6fc5de",
   "metadata": {},
   "source": [
    "> 4. Talan and Emily participate in a race together. Talan runs $10$ mph and\n",
    "finishes $1$ hour and $18$ minutes before Emily does. If Emily runs $5$ mph, how\n",
    "long does it take each person to finish the race and how far did they run?\n",
    "\n",
    "\\begin{gather*}\n",
    "    5h = 10(h - 1.3) \\\\ \\\\\n",
    "\n",
    "    \\frac{5h = 10(h - 1.3)}{10} \\\\\n",
    "    \\frac{5}{10}h = h - 1.3 \\\\\n",
    "    \\frac{1}{2}h = h - 1.3 \\\\\n",
    "    h - \\frac{1}{2}h = 1.3 \\\\\n",
    "    \\frac{2}{2}h - \\frac{1}{2}h = 1.3 \\\\\n",
    "    \\frac{1}{2}h = 1.3 \\\\\n",
    "    2\\left(\\frac{1}{2}h = 1.3\\right) \\\\\n",
    "    \\boxed{h = 2.6} \\\\ \\\\\n",
    "\n",
    "    5h = 10(h - 1.3) \\\\\n",
    "    5(2.6) = 10((2.6) - 1.3) \\\\\n",
    "    13 = 13 \\\\ \\\\\n",
    "\n",
    "    \\boxed{D = 13}\n",
    "\\end{gather*}"
   ]
  },
  {
   "cell_type": "markdown",
   "id": "58ca1083",
   "metadata": {},
   "source": [
    "> 5. Adeline and Ellie live $10$ miles away from each other. Adeline started\n",
    "walking towards Ellie at $1$ : $00$ p.m.. Ellie left $1$ hour later and walked at a\n",
    "rate of $4$ mph. If they met at $3$ : $00$ p.m., how fast did Adeline walk?\n",
    "\n",
    "\\begin{gather*}\n",
    "    T_1 = 3 - 1 \\\\\n",
    "    T_1 = 2 \\\\ \\\\\n",
    "\n",
    "    T_2 = T_1 - 1 \\\\\n",
    "    T_2 = 1 \\\\\n",
    "\n",
    "    D_2 = r_2T_2 \\\\\n",
    "    D_2 = (4)(1) \\\\\n",
    "    D_2 = 4 \\\\ \\\\\n",
    "\n",
    "    D_1 + D_2 = 10 \\\\ \\\\\n",
    "    D_1 + 4 = 10 \\\\\n",
    "    D_1 = 10 - 4 \\\\\n",
    "    D_1 = 6 \\\\ \\\\\n",
    "\n",
    "    D_1 = r_1T_1 \\\\\n",
    "    6 = r_1(2) \\\\\n",
    "    \\frac{6 = r_1(2)}{2} \\\\ \\\\\n",
    "    \n",
    "    \\boxed{r_1 = 3}\n",
    "\\end{gather*}\n"
   ]
  },
  {
   "cell_type": "markdown",
   "id": "e0481b58",
   "metadata": {},
   "source": [
    "> 6. A train traveled $420$ miles at $48$ mph and arrived $1$ hour and $45$ minutes\n",
    "later than it was scheduled to arrive. How fast should the train have\n",
    "traveled in order to arrive on time?\n",
    "\n",
    "\\begin{gather*}\n",
    "    D = rT \\\\ \\\\\n",
    "\n",
    "    420 = (48)T \\\\\n",
    "    \\frac{420 = (48)T}{48} \\\\\n",
    "    T = \\frac{420}{48} \\\\\n",
    "    T = 8.75 \\\\ \\\\\n",
    "\n",
    "    T_{correct} = T - 1.75 \\\\\n",
    "    T_{correct} = 8.75 - 1.75 \\\\\n",
    "    \\boxed{T_{correct} = 7} \\\\ \\\\\n",
    "\n",
    "    D = r_{correct}T_{correct} \\\\\n",
    "    420 = r_{correct}(7) \\\\\n",
    "    \\frac{420 = r_{correct}(7)}{7} \\\\\n",
    "    r_{correct} = \\frac{420}{7} \\\\\n",
    "    \\boxed{r_{correct} = 60}\n",
    "\\end{gather*}"
   ]
  },
  {
   "cell_type": "markdown",
   "id": "ab779beb",
   "metadata": {},
   "source": []
  }
 ],
 "metadata": {
  "language_info": {
   "name": "python"
  }
 },
 "nbformat": 4,
 "nbformat_minor": 5
}
