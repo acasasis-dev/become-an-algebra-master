{
 "cells": [
  {
   "cell_type": "markdown",
   "id": "f60ac503",
   "metadata": {},
   "source": [
    "## Exercise 3: Number Word Problems"
   ]
  },
  {
   "cell_type": "markdown",
   "id": "45f6155f",
   "metadata": {},
   "source": [
    "> 1. The sum of two consecutive odd integers is $−8$. What are the two\n",
    "numbers?"
   ]
  },
  {
   "cell_type": "markdown",
   "id": "ecd5f215",
   "metadata": {},
   "source": [
    "> 2. The product of two consecutive integers is $182$. What are the two\n",
    "numbers if they are both negative?"
   ]
  },
  {
   "cell_type": "markdown",
   "id": "7ce9d963",
   "metadata": {},
   "source": [
    "> 3. The sum of the digits of a two-digit counting number is $11$. When the\n",
    "digits are reversed, the new number is $63$ greater than the original number.\n",
    "What was the original number?"
   ]
  },
  {
   "cell_type": "markdown",
   "id": "73d7a908",
   "metadata": {},
   "source": [
    "> 4. The sum of the digits of a two-digit counting number is $14$. The ratio of\n",
    "the units digit to the tens digit is $3$ to $4$. What is the number?"
   ]
  },
  {
   "cell_type": "markdown",
   "id": "b8aa8af4",
   "metadata": {},
   "source": [
    "> 5. The sum of the digits of a two-digit counting number is $8$. The ratio of\n",
    "the tens digit to the units digit is $3$ to $1$. What is the number?"
   ]
  },
  {
   "cell_type": "markdown",
   "id": "7c1c5fed",
   "metadata": {},
   "source": [
    "> 6. Find three negative consecutive odd integers such that the sum of the\n",
    "first and third is $49$ less than the product of the second and third."
   ]
  }
 ],
 "metadata": {
  "language_info": {
   "name": "python"
  }
 },
 "nbformat": 4,
 "nbformat_minor": 5
}
