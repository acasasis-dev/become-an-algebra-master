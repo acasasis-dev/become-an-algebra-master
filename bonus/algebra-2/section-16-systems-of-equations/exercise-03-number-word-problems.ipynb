{
 "cells": [
  {
   "cell_type": "markdown",
   "id": "f60ac503",
   "metadata": {},
   "source": [
    "## Exercise 3: Number Word Problems"
   ]
  },
  {
   "cell_type": "markdown",
   "id": "45f6155f",
   "metadata": {},
   "source": [
    "> 1. The sum of two consecutive odd integers is $−8$. What are the two\n",
    "numbers?\n",
    "\n",
    "\\begin{gather*}\n",
    "    x + x + 2 = -8 \\\\ \\\\\n",
    "\n",
    "    2x + 2 = -8 \\\\\n",
    "    2x = -8 - 2 \\\\\n",
    "    2x = -10 \\\\\n",
    "    \\frac{2x = -10}{2} \\\\\n",
    "    x = -5 \\\\\n",
    "\n",
    "    (-5) + (-5 + 2) = -8 \\\\\n",
    "    -5 + -3 = -8 \\\\\n",
    "    -8 = -8 \\\\ \\\\\n",
    "\n",
    "    \\boxed{-5, -3}\n",
    "\\end{gather*}"
   ]
  },
  {
   "cell_type": "markdown",
   "id": "ecd5f215",
   "metadata": {},
   "source": [
    "> 2. The product of two consecutive integers is $182$. What are the two\n",
    "numbers if they are both negative?\n",
    "\n",
    "\\begin{gather*}\n",
    "    x(x + 1) = 182 \\\\\n",
    "    x^2 + x = 182 \\\\\n",
    "    x^2 + x - 182 = 0 \\\\\n",
    "    (x + 14)(x - 13) = 0 \\\\\n",
    "    x = -14, 13 \\\\ \\\\\n",
    "\n",
    "    \\boxed{-14, -13}\n",
    "\\end{gather*}"
   ]
  },
  {
   "cell_type": "markdown",
   "id": "7ce9d963",
   "metadata": {},
   "source": [
    "> 3. The sum of the digits of a two-digit counting number is $11$. When the\n",
    "digits are reversed, the new number is $63$ greater than the original number.\n",
    "What was the original number?\n",
    "\n",
    "\\begin{gather*}\n",
    "    A + B = 11 \\\\\n",
    "\n",
    "    10A + B + 63 = 10B + A \\\\ \\\\\n",
    "\n",
    "    10B - B + A - 10A = 63 \\\\\n",
    "    9B - 9A = 63 \\\\\n",
    "    \\frac{9B - 9A = 63}{9} \\\\\n",
    "    B - A = 7 \\\\\n",
    "    -1(B - A = 7) \\\\\n",
    "    A - B = -7 \\\\ \\\\\n",
    "\n",
    "    A + B = 11 \\\\\n",
    "    - (A - B = -7) \\\\\n",
    "    2B = 18 \\\\\n",
    "    \\frac{2B = 18}{2} \\\\\n",
    "    B = 9 \\\\ \\\\\n",
    "\n",
    "    A + B = 11 \\\\\n",
    "    A + 9 = 11 \\\\\n",
    "    A = 11 - 9 \\\\\n",
    "    A = 2 \\\\ \\\\\n",
    "\n",
    "    \\boxed{29} \\\\ \\\\\n",
    "\n",
    "    \\textbf{CHECKING} \\\\\n",
    "    29 + 63 = 92 \\\\\n",
    "    92 = 92\n",
    "\\end{gather*}"
   ]
  },
  {
   "cell_type": "markdown",
   "id": "73d7a908",
   "metadata": {},
   "source": [
    "> 4. The sum of the digits of a two-digit counting number is $14$. The ratio of\n",
    "the units digit to the tens digit is $3$ to $4$. What is the number?"
   ]
  },
  {
   "cell_type": "markdown",
   "id": "b8aa8af4",
   "metadata": {},
   "source": [
    "> 5. The sum of the digits of a two-digit counting number is $8$. The ratio of\n",
    "the tens digit to the units digit is $3$ to $1$. What is the number?"
   ]
  },
  {
   "cell_type": "markdown",
   "id": "7c1c5fed",
   "metadata": {},
   "source": [
    "> 6. Find three negative consecutive odd integers such that the sum of the\n",
    "first and third is $49$ less than the product of the second and third."
   ]
  }
 ],
 "metadata": {
  "language_info": {
   "name": "python"
  }
 },
 "nbformat": 4,
 "nbformat_minor": 5
}
