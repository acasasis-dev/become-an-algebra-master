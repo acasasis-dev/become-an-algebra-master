{
 "cells": [
  {
   "cell_type": "markdown",
   "id": "ce761b6a",
   "metadata": {},
   "source": [
    "## Exercise 1: Systems with Subscripts"
   ]
  },
  {
   "cell_type": "markdown",
   "id": "1168adc2",
   "metadata": {},
   "source": [
    "> 1. Solve the system of equations using any method.\n",
    "\n",
    "\\begin{gather*}\n",
    "    d_t = x_t - 3 \\\\\n",
    "    d_t = \\frac{1}{2}x_t + 2 \\\\ \\\\\n",
    "\\end{gather*}"
   ]
  },
  {
   "cell_type": "markdown",
   "id": "010cb6e2",
   "metadata": {},
   "source": [
    "> 2. Solve the system of equations using any method.\n",
    "\n",
    "\\begin{gather*}\n",
    "    4A_x - B_y = 15 \\\\\n",
    "    B_y = 12 - 5A_x \\\\ \\\\\n",
    "\\end{gather*}"
   ]
  },
  {
   "cell_type": "markdown",
   "id": "8b4daafc",
   "metadata": {},
   "source": [
    "> 3. Solve the system of equations using any method.\n",
    "\n",
    "\\begin{gather*}\n",
    "    2T_x + 5T_y = 120.8 \\\\\n",
    "    T_y = 17T_x + 17.2 \\\\ \\\\\n",
    "\\end{gather*}"
   ]
  },
  {
   "cell_type": "markdown",
   "id": "55cddbcf",
   "metadata": {},
   "source": [
    "> 4. Solve the system of equations using any method.\n",
    "\n",
    "\\begin{gather*}\n",
    "    T_uR_u = 480 \\\\\n",
    "    R_d = \\frac{1}{2}R_u \\\\\n",
    "    T_dR_d = 320 \\\\\n",
    "    T_d = 2 + T_u \\\\ \\\\\n",
    "\\end{gather*}"
   ]
  },
  {
   "cell_type": "markdown",
   "id": "5740e416",
   "metadata": {},
   "source": [
    "> 5. Solve the system of equations using any method.\n",
    "\n",
    "\\begin{gather*}\n",
    "    2X_1 + 3Y_1 = 1 \\\\\n",
    "    X_2 = 4X_1 \\\\\n",
    "    X_2 + Y_2 = 9 \\\\\n",
    "    Y_2 = Y_1 + 2 \\\\ \\\\\n",
    "\\end{gather*}"
   ]
  },
  {
   "cell_type": "markdown",
   "id": "4958cd94",
   "metadata": {},
   "source": [
    "> 6. Solve the system of equations using any method.\n",
    "\n",
    "\\begin{gather*}\n",
    "    6X_1 + 12Y_1 = 78 \\\\\n",
    "    X_2 = 2X_1 \\\\\n",
    "    2X_2 - 3Y_2 = -24 \\\\\n",
    "    Y_2 = 3Y_1 - 3 \\\\ \\\\\n",
    "\\end{gather*}"
   ]
  }
 ],
 "metadata": {
  "language_info": {
   "name": "python"
  }
 },
 "nbformat": 4,
 "nbformat_minor": 5
}
