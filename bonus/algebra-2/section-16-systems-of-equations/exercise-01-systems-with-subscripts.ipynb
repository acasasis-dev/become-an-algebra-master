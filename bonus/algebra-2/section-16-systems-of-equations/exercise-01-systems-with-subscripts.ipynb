{
 "cells": [
  {
   "cell_type": "markdown",
   "id": "ce761b6a",
   "metadata": {},
   "source": [
    "## Exercise 1: Systems with Subscripts"
   ]
  },
  {
   "cell_type": "markdown",
   "id": "1168adc2",
   "metadata": {},
   "source": [
    "> 1. Solve the system of equations using any method.\n",
    "\n",
    "\\begin{gather*}\n",
    "    d_t = x_t - 3 \\\\\n",
    "    d_t = \\frac{1}{2}x_t + 2 \\\\ \\\\\n",
    "\n",
    "    x_t - 3 = \\frac{1}{2}x_t + 2 \\\\\n",
    "    x_t - \\frac{1}{2}x_t = 2 + 3 \\\\\n",
    "    \\frac{1}{2}x_t = 5 \\\\\n",
    "    2\\left(\\frac{1}{2}x_t = 5\\right) \\\\ \\\\\n",
    "    x_t = 10 \\\\ \\\\\n",
    "\n",
    "    d_t = x_t - 3 \\\\\n",
    "    d_t = 10 - 3 \\\\\n",
    "    d_t = 7 \\\\ \\\\\n",
    "\n",
    "    \\boxed{(d_t, x_t) = (7, 10)}\n",
    "\\end{gather*}"
   ]
  },
  {
   "cell_type": "markdown",
   "id": "010cb6e2",
   "metadata": {},
   "source": [
    "> 2. Solve the system of equations using any method.\n",
    "\n",
    "\\begin{gather*}\n",
    "    4A_x - B_y = 15 \\\\\n",
    "    B_y = 12 - 5A_x \\\\ \\\\\n",
    "\n",
    "    4A_x - B_y = 15 \\\\\n",
    "    B_y = 4A_x - 15 \\\\ \\\\\n",
    "\n",
    "    4A_x - 15 = 12 - 5A_x \\\\\n",
    "    4A_x + 5A_x = 12 + 15 \\\\\n",
    "    9A_x = 27 \\\\\n",
    "    \\frac{9A_x = 27}{9} \\\\\n",
    "    A_x = 3 \\\\ \\\\\n",
    "\n",
    "    4A_x - B_y = 15 \\\\\n",
    "    4(3) - B_y = 15 \\\\\n",
    "    12 - B_y = 15 \\\\\n",
    "    B_y = 12 - 15 \\\\\n",
    "    B_y = -3 \\\\ \\\\\n",
    "\n",
    "    \\boxed{(A_x, B_y) = (3, -3)}\n",
    "\\end{gather*}"
   ]
  },
  {
   "cell_type": "markdown",
   "id": "8b4daafc",
   "metadata": {},
   "source": [
    "> 3. Solve the system of equations using any method.\n",
    "\n",
    "\\begin{gather*}\n",
    "    2T_x + 5T_y = 120.8 \\\\\n",
    "    T_y = 17T_x + 17.2 \\\\ \\\\\n",
    "\n",
    "    2T_x + 5(17T_x + 17.2) = 120.8 \\\\\n",
    "    2T_x + 85T_x + 86 = 120.8 \\\\\n",
    "    87T_x = 120.8 - 86 \\\\\n",
    "    87T_x = 34.8 \\\\\n",
    "    \\frac{87T_x = 34.8}{87} \\\\\n",
    "    T_x = 0.4 \\\\ \\\\\n",
    "\n",
    "    T_y = 17T_x + 17.2 \\\\\n",
    "    T_y = 17(0.4) + 17.2 \\\\\n",
    "    T_y = 6.8 + 17.2 \\\\\n",
    "    T_y = 24 \\\\ \\\\\n",
    "\n",
    "    \\boxed{(T_x, T_y) = (0.4, 24)}\n",
    "\\end{gather*}"
   ]
  },
  {
   "cell_type": "markdown",
   "id": "55cddbcf",
   "metadata": {},
   "source": [
    "> 4. Solve the system of equations using any method.\n",
    "\n",
    "\\begin{gather*}\n",
    "    T_uR_u = 480 \\\\\n",
    "    R_d = \\frac{1}{2}R_u \\\\\n",
    "    T_dR_d = 320 \\\\\n",
    "    T_d = 2 + T_u \\\\ \\\\\n",
    "\\end{gather*}"
   ]
  },
  {
   "cell_type": "markdown",
   "id": "5740e416",
   "metadata": {},
   "source": [
    "> 5. Solve the system of equations using any method.\n",
    "\n",
    "\\begin{gather*}\n",
    "    2X_1 + 3Y_1 = 1 \\\\\n",
    "    X_2 = 4X_1 \\\\\n",
    "    X_2 + Y_2 = 9 \\\\\n",
    "    Y_2 = Y_1 + 2 \\\\ \\\\\n",
    "\\end{gather*}"
   ]
  },
  {
   "cell_type": "markdown",
   "id": "4958cd94",
   "metadata": {},
   "source": [
    "> 6. Solve the system of equations using any method.\n",
    "\n",
    "\\begin{gather*}\n",
    "    6X_1 + 12Y_1 = 78 \\\\\n",
    "    X_2 = 2X_1 \\\\\n",
    "    2X_2 - 3Y_2 = -24 \\\\\n",
    "    Y_2 = 3Y_1 - 3 \\\\ \\\\\n",
    "\\end{gather*}"
   ]
  }
 ],
 "metadata": {
  "language_info": {
   "name": "python"
  }
 },
 "nbformat": 4,
 "nbformat_minor": 5
}
