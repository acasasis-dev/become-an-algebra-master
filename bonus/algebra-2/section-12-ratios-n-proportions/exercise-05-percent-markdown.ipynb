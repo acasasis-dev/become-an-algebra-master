{
 "cells": [
  {
   "cell_type": "markdown",
   "id": "bd7b664d",
   "metadata": {},
   "source": [
    "## Exercise 5: Percent Markdown"
   ]
  },
  {
   "cell_type": "markdown",
   "id": "fd8cb235",
   "metadata": {},
   "source": [
    "> 1. A computer has an original price of $\\$375$ and is now on sale for $\\$255$.\n",
    "What is the percent markdown?\n",
    "\n",
    "\\begin{gather*}\n",
    "    255 = 375 - 375x \\\\ \\\\\n",
    "\n",
    "    375x = 375 - 255 \\\\\n",
    "    375x = 120 \\\\\n",
    "    \\frac{375x = 120}{375} \\\\ \\\\\n",
    "    x = 0.32 \\\\\n",
    "    x = 0.32 \\cdot 100 \\\\ \\\\\n",
    "\n",
    "    \\boxed{x = 32\\%}\n",
    "\\end{gather*}"
   ]
  },
  {
   "cell_type": "markdown",
   "id": "d9f28e61",
   "metadata": {},
   "source": [
    "> 2. A sweater has an original price of $\\$34$ and is now on sale for $\\$25.50$.\n",
    "What is the percent markdown?\n",
    "\n",
    "\\begin{gather*}\n",
    "    25.5 = 34 - 34x \\\\ \\\\\n",
    "\n",
    "    34x = 34 - 25.5 \\\\\n",
    "    34x = 8.5 \\\\\n",
    "    \\frac{34x = 8.5}{34} \\\\\n",
    "    x = 0.25 \\\\\n",
    "    x = 0.25 \\cdot 100 \\\\ \\\\\n",
    "\n",
    "    \\boxed{x = 25\\%}\n",
    "\\end{gather*}"
   ]
  },
  {
   "cell_type": "markdown",
   "id": "da27b5fd",
   "metadata": {},
   "source": [
    "> 3. The regular price of an item is $\\$75$, but the item is now on clearance for\n",
    "$40\\%$ off the regular price. What is the sale price of the item?\n",
    "\n",
    "\\begin{gather*}\n",
    "    x = 75 - (75(40\\%)) \\\\ \\\\\n",
    "\n",
    "    x = 75 - (75 \\cdot 0.4) \\\\\n",
    "    x = 75 - 30 \\\\ \\\\\n",
    "\n",
    "    \\boxed{x = 45}\n",
    "\\end{gather*}"
   ]
  },
  {
   "cell_type": "markdown",
   "id": "ca5b0ad4",
   "metadata": {},
   "source": [
    "> 4. The regular price of the latest smartphone is $\\$749$. After two years, the\n",
    "smartphone is on sale for $25\\%$ off. What is the sale price of the item?\n",
    "\n",
    "\\begin{gather*}\n",
    "    x = 749 - (749(25\\%)) \\\\ \\\\\n",
    "\n",
    "    x = 749 - (749 \\cdot 0.25) \\\\\n",
    "    x = 749 - 187.25 \\\\ \\\\\n",
    "\n",
    "    \\boxed{x = 561.75}\n",
    "\\end{gather*}"
   ]
  },
  {
   "cell_type": "markdown",
   "id": "173f73f0",
   "metadata": {},
   "source": [
    "> 5. The price of a house was marked down to $\\$250,000$, and the sale price\n",
    "was $12\\%$ off of the original price. What was the original price of the\n",
    "house?\n",
    "\n",
    "\\begin{gather*}\n",
    "    250000 = x - (x(12\\%)) \\\\ \\\\\n",
    "\n",
    "    250000 = x - 0.12x \\\\\n",
    "    250000 = 0.88x \\\\\n",
    "    \\frac{250000 = 0.88x}{0.88} \\\\ \\\\\n",
    "\n",
    "    \\boxed{x = 284090.91}\n",
    "\\end{gather*}"
   ]
  },
  {
   "cell_type": "markdown",
   "id": "acbe582a",
   "metadata": {},
   "source": [
    "> 6. The sale price of a shirt is $\\$68.00$, and the shirt is on sale for $25\\%$ off the\n",
    "original price. What was the original price of the shirt?\n",
    "\n",
    "\\begin{gather*}\n",
    "    68 = x - (x(25\\%)) \\\\ \\\\\n",
    "\n",
    "    68 = x - 0.25x \\\\\n",
    "    68 = 0.75x \\\\\n",
    "    \\frac{68 = 0.75x}{0.75} \\\\ \\\\\n",
    "\n",
    "    \\boxed{x = 90.67}\n",
    "\\end{gather*}"
   ]
  }
 ],
 "metadata": {
  "language_info": {
   "name": "python"
  }
 },
 "nbformat": 4,
 "nbformat_minor": 5
}
