{
 "cells": [
  {
   "cell_type": "markdown",
   "id": "bd7b664d",
   "metadata": {},
   "source": [
    "## Exercise 5: Percent Markdown"
   ]
  },
  {
   "cell_type": "markdown",
   "id": "fd8cb235",
   "metadata": {},
   "source": [
    "> 1. A computer has an original price of $\\$375$ and is now on sale for $\\$255$.\n",
    "What is the percent markdown?"
   ]
  },
  {
   "cell_type": "markdown",
   "id": "d9f28e61",
   "metadata": {},
   "source": [
    "> 2. A sweater has an original price of $\\$34$ and is now on sale for $\\$25.50$.\n",
    "What is the percent markdown?"
   ]
  },
  {
   "cell_type": "markdown",
   "id": "da27b5fd",
   "metadata": {},
   "source": [
    "> 3. The regular price of an item is $\\$75$, but the item is now on clearance for\n",
    "$40\\%$ off the regular price. What is the sale price of the item?"
   ]
  },
  {
   "cell_type": "markdown",
   "id": "ca5b0ad4",
   "metadata": {},
   "source": [
    "> 4. The regular price of the latest smartphone is $\\$749$. After two years, the\n",
    "smartphone is on sale for $25\\%$ off. What is the sale price of the item?"
   ]
  },
  {
   "cell_type": "markdown",
   "id": "173f73f0",
   "metadata": {},
   "source": [
    "> 5. The price of a house was marked down to $\\$250,000$, and the sale price\n",
    "was $12\\%$ off of the original price. What was the original price of the\n",
    "house?"
   ]
  },
  {
   "cell_type": "markdown",
   "id": "acbe582a",
   "metadata": {},
   "source": [
    "> 6. The sale price of a shirt is $\\$68.00$, and the shirt is on sale for $25\\%$ off the\n",
    "original price. What was the original price of the shirt?"
   ]
  }
 ],
 "metadata": {
  "language_info": {
   "name": "python"
  }
 },
 "nbformat": 4,
 "nbformat_minor": 5
}
