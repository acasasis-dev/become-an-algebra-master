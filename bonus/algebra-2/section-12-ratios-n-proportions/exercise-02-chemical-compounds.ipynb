{
 "cells": [
  {
   "cell_type": "markdown",
   "id": "0fd981b2",
   "metadata": {},
   "source": [
    "## Exercise 2: Chemical Compounds"
   ]
  },
  {
   "cell_type": "markdown",
   "id": "580852c3",
   "metadata": {},
   "source": [
    "> 1. Find the molar mass for one molecule of table salt in grams per mole.\n",
    "Table salt has the molecular formula $NaCl$.\n",
    "\n",
    "Sodium ($Na$) has a molar mass of $22.989770$ g/mol  \n",
    "Chlorine ($Cl$) has a molar mass of $35.453$ g/mol"
   ]
  },
  {
   "cell_type": "markdown",
   "id": "de8b4eb3",
   "metadata": {},
   "source": [
    "> 2. Find the molar mass for one molecule of isopropyl chloride in grams\n",
    "per mole. Isopropyl chloride has the molecular formula $C_3H_7Cl$.\n",
    "\n",
    "Carbon ($C$) has a molar mass of $12.0107$ g/mol  \n",
    "Hydrogen ($H$) has a molar mass of $1.00794$ g/mol  \n",
    "Chlorine ($Cl$) has a molar mass of $35.453$ g/mol"
   ]
  },
  {
   "cell_type": "markdown",
   "id": "4d8dc3c6",
   "metadata": {},
   "source": [
    "> 3. Glucose, $C_6H_{12}O_6$, has a molar mass of $180.156$ g/mol. What is the mass\n",
    "of oxygen in a $100$ g glucose sample given that the molar mass of carbon is\n",
    "$12.01$ g/mol and the molar mass of hydrogen is $1.00794$ g/mol."
   ]
  },
  {
   "cell_type": "markdown",
   "id": "c6e36a95",
   "metadata": {},
   "source": [
    "> 4. Find the total mass of a sample of silver phosphate, $Ag_3PO_4$, in grams\n",
    "per mole given that it contains $25.55$ g of silver with the molar mass\n",
    "$107.8682$ g/mol. The molar mass of $Ag_3PO_4$ is $418.58$ g/mol."
   ]
  },
  {
   "cell_type": "markdown",
   "id": "9d29f9f3",
   "metadata": {},
   "source": [
    "> 5. If vitamin C has the molecular formula $C_6H_8O_6$ and the molar mass of\n",
    "vitamin C is $176.12$ g/mol, find the mass of each element in a $325$ g vitamin\n",
    "C sample.\n",
    "\n",
    "Carbon ($C$) has a molar mass of $12.01$ g/mol  \n",
    "Hydrogen ($H$) has a molar mass of $1.00794$ g/mol  \n",
    "Oxygen ($O$) has a molar mass of $15.9994$ g/mol"
   ]
  },
  {
   "cell_type": "markdown",
   "id": "328cf2df",
   "metadata": {},
   "source": [
    "> 6. Find the molar mass of calcium ($Ca$) in one mole of calcium carbonate.\n",
    "$CaCO_3$ has a molar mass of $100.0869$ g/mol.\n",
    "\n",
    "Carbon ($C$) has a mass of $12.0107$ g/mol  \n",
    "Oxygen ($O$) has a mass of $15.9994$ g/mol"
   ]
  }
 ],
 "metadata": {
  "language_info": {
   "name": "python"
  }
 },
 "nbformat": 4,
 "nbformat_minor": 5
}
