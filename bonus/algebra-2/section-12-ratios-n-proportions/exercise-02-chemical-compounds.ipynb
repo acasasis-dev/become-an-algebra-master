{
 "cells": [
  {
   "cell_type": "markdown",
   "id": "0fd981b2",
   "metadata": {},
   "source": [
    "## Exercise 2: Chemical Compounds"
   ]
  },
  {
   "cell_type": "markdown",
   "id": "580852c3",
   "metadata": {},
   "source": [
    "> 1. Find the molar mass for one molecule of table salt in grams per mole.\n",
    "Table salt has the molecular formula $NaCl$.\n",
    "\n",
    "Sodium ($Na$) has a molar mass of $22.989770$ g/mol  \n",
    "Chlorine ($Cl$) has a molar mass of $35.453$ g/mol\n",
    "\n",
    "\\begin{gather*}\n",
    "    NaCl \\\\\n",
    "    1 : 1 \\\\\n",
    "    22.989770(1) : 35.453(1) \\\\\n",
    "    22.989770 : 35.453 \\\\\n",
    "    22.989770 + 35.453 \\\\ \\\\\n",
    "\n",
    "    \\boxed{58.442770}\n",
    "\\end{gather*}"
   ]
  },
  {
   "cell_type": "markdown",
   "id": "de8b4eb3",
   "metadata": {},
   "source": [
    "> 2. Find the molar mass for one molecule of isopropyl chloride in grams\n",
    "per mole. Isopropyl chloride has the molecular formula $C_3H_7Cl$.\n",
    "\n",
    "Carbon ($C$) has a molar mass of $12.0107$ g/mol  \n",
    "Hydrogen ($H$) has a molar mass of $1.00794$ g/mol  \n",
    "Chlorine ($Cl$) has a molar mass of $35.453$ g/mol\n",
    "\n",
    "\\begin{gather*}\n",
    "    C_3H_7Cl \\\\\n",
    "    3 : 7 : 1 \\\\\n",
    "    12.0107(3) : 1.00794(7) : 35.453(1) \\\\\n",
    "    36.0321 : 7.055580000000001 : 35.453 \\\\\n",
    "    36.0321 + 7.055580000000001 + 35.453 \\\\ \\\\\n",
    "\n",
    "    \\boxed{78.54068000000001}\n",
    "\\end{gather*}"
   ]
  },
  {
   "cell_type": "markdown",
   "id": "4d8dc3c6",
   "metadata": {},
   "source": [
    "> 3. Glucose, $C_6H_{12}O_6$, has a molar mass of $180.156$ g/mol. What is the mass\n",
    "of oxygen in a $100$ g glucose sample given that the molar mass of carbon is\n",
    "$12.01$ g/mol and the molar mass of hydrogen is $1.00794$ g/mol.\n",
    "\n",
    "\\begin{gather*}\n",
    "    C_6H_{12}O_6 \\\\\n",
    "    6 : 12 : 6 \\\\\n",
    "    12.01(6) : 1.00794(12) : O6 \\\\\n",
    "    72.06 : 12.09528 : O6 \\\\\n",
    "    72.06 + 12.09528 + O6 = 180.156 \\\\\n",
    "    84.15528 + O6 = 180.156 \\\\\n",
    "    O6 = 180.156 - 84.15528 \\\\\n",
    "    O6 = 96.00072 \\\\\n",
    "    \\frac{O6 = 96.00072}{6} \\\\ \\\\\n",
    "\n",
    "    \\boxed{O = 16.00012} \\\\ \\\\\n",
    "\n",
    "    \\frac{x}{100} = \\frac{16.00012(6)}{180.156} \\\\\n",
    "    \\frac{x}{100} = \\frac{96.00072}{180.156} \\\\\n",
    "    180.156x = 96.00072(100) \\\\\n",
    "    180.156x = 9600.072 \\\\\n",
    "    \\frac{180.156x = 9600.072}{180.156} \\\\ \\\\\n",
    "\n",
    "    \\boxed{x = 53.28755078931592}\n",
    "\\end{gather*}\n",
    "\n"
   ]
  },
  {
   "cell_type": "markdown",
   "id": "c6e36a95",
   "metadata": {},
   "source": [
    "> 4. Find the total mass of a sample of silver phosphate, $Ag_3PO_4$, in grams\n",
    "per mole given that it contains $25.55$ g of silver with the molar mass\n",
    "$107.8682$ g/mol. The molar mass of $Ag_3PO_4$ is $418.58$ g/mol."
   ]
  },
  {
   "cell_type": "markdown",
   "id": "9d29f9f3",
   "metadata": {},
   "source": [
    "> 5. If vitamin C has the molecular formula $C_6H_8O_6$ and the molar mass of\n",
    "vitamin C is $176.12$ g/mol, find the mass of each element in a $325$ g vitamin\n",
    "C sample.\n",
    "\n",
    "Carbon ($C$) has a molar mass of $12.01$ g/mol  \n",
    "Hydrogen ($H$) has a molar mass of $1.00794$ g/mol  \n",
    "Oxygen ($O$) has a molar mass of $15.9994$ g/mol"
   ]
  },
  {
   "cell_type": "markdown",
   "id": "328cf2df",
   "metadata": {},
   "source": [
    "> 6. Find the molar mass of calcium ($Ca$) in one mole of calcium carbonate.\n",
    "$CaCO_3$ has a molar mass of $100.0869$ g/mol.\n",
    "\n",
    "Carbon ($C$) has a mass of $12.0107$ g/mol  \n",
    "Oxygen ($O$) has a mass of $15.9994$ g/mol"
   ]
  }
 ],
 "metadata": {
  "language_info": {
   "name": "python"
  }
 },
 "nbformat": 4,
 "nbformat_minor": 5
}
