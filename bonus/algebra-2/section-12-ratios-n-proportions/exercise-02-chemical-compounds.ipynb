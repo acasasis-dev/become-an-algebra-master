{
 "cells": [
  {
   "cell_type": "markdown",
   "id": "0fd981b2",
   "metadata": {},
   "source": [
    "## Exercise 2: Chemical Compounds"
   ]
  },
  {
   "cell_type": "markdown",
   "id": "580852c3",
   "metadata": {},
   "source": [
    "> 1. Find the molar mass for one molecule of table salt in grams per mole.\n",
    "Table salt has the molecular formula $NaCl$.\n",
    "\n",
    "Sodium ($Na$) has a molar mass of $22.989770$ g/mol  \n",
    "Chlorine ($Cl$) has a molar mass of $35.453$ g/mol\n",
    "\n",
    "\\begin{gather*}\n",
    "    NaCl \\\\ \\\\\n",
    "    \n",
    "    1 : 1 \\\\\n",
    "    22.989770(1) : 35.453(1) \\\\\n",
    "    22.989770 : 35.453 \\\\\n",
    "    22.989770 + 35.453 \\\\ \\\\\n",
    "\n",
    "    \\boxed{58.442770}\n",
    "\\end{gather*}"
   ]
  },
  {
   "cell_type": "markdown",
   "id": "de8b4eb3",
   "metadata": {},
   "source": [
    "> 2. Find the molar mass for one molecule of isopropyl chloride in grams\n",
    "per mole. Isopropyl chloride has the molecular formula $C_3H_7Cl$.\n",
    "\n",
    "Carbon ($C$) has a molar mass of $12.0107$ g/mol  \n",
    "Hydrogen ($H$) has a molar mass of $1.00794$ g/mol  \n",
    "Chlorine ($Cl$) has a molar mass of $35.453$ g/mol\n",
    "\n",
    "\\begin{gather*}\n",
    "    C_3H_7Cl \\\\ \\\\\n",
    "    \n",
    "    3 : 7 : 1 \\\\\n",
    "    12.0107(3) : 1.00794(7) : 35.453(1) \\\\\n",
    "    36.0321 : 7.055580000000001 : 35.453 \\\\\n",
    "    36.0321 + 7.055580000000001 + 35.453 \\\\ \\\\\n",
    "\n",
    "    \\boxed{78.54068000000001}\n",
    "\\end{gather*}"
   ]
  },
  {
   "cell_type": "markdown",
   "id": "4d8dc3c6",
   "metadata": {},
   "source": [
    "> 3. Glucose, $C_6H_{12}O_6$, has a molar mass of $180.156$ g/mol. What is the mass\n",
    "of oxygen in a $100$ g glucose sample given that the molar mass of carbon is\n",
    "$12.01$ g/mol and the molar mass of hydrogen is $1.00794$ g/mol.\n",
    "\n",
    "\\begin{gather*}\n",
    "    C_6H_{12}O_6 \\\\ \\\\\n",
    "    \n",
    "    6 : 12 : 6 \\\\\n",
    "    12.01(6) : 1.00794(12) : O6 \\\\\n",
    "    72.06 : 12.09528 : O6 \\\\\n",
    "    72.06 + 12.09528 + O6 = 180.156 \\\\\n",
    "    84.15528 + O6 = 180.156 \\\\\n",
    "    O6 = 180.156 - 84.15528 \\\\\n",
    "    O6 = 96.00072 \\\\\n",
    "    \\frac{O6 = 96.00072}{6} \\\\ \\\\\n",
    "\n",
    "    \\boxed{O = 16.00012} \\\\ \\\\\n",
    "\n",
    "    \\frac{x}{100} = \\frac{16.00012(6)}{180.156} \\\\\n",
    "    \\frac{x}{100} = \\frac{96.00072}{180.156} \\\\\n",
    "    180.156x = 96.00072(100) \\\\\n",
    "    180.156x = 9600.072 \\\\\n",
    "    \\frac{180.156x = 9600.072}{180.156} \\\\ \\\\\n",
    "\n",
    "    \\boxed{x = 53.28755078931592}\n",
    "\\end{gather*}\n",
    "\n"
   ]
  },
  {
   "cell_type": "markdown",
   "id": "c6e36a95",
   "metadata": {},
   "source": [
    "> 4. Find the total mass of a sample of silver phosphate, $Ag_3PO_4$, in grams\n",
    "per mole given that it contains $25.55$ g of silver with the molar mass\n",
    "$107.8682$ g/mol. The molar mass of $Ag_3PO_4$ is $418.58$ g/mol.\n",
    "\n",
    "\\begin{gather*}\n",
    "    Ag_3PO_4 \\\\ \\\\\n",
    "\n",
    "    \\frac{25.55}{x} = \\frac{107.8682(3)}{418.58} \\\\\n",
    "    \\frac{25.55}{x} = \\frac{323.6046}{418.58} \\\\\n",
    "    323.6046x = 418.58(25.55) \\\\\n",
    "    323.6046x = 10694.719 \\\\\n",
    "    \\frac{323.6046x = 10694.719}{323.6046} \\\\ \\\\\n",
    "\n",
    "    \\boxed{x = 33.048723658439954}\n",
    "\\end{gather*}"
   ]
  },
  {
   "cell_type": "markdown",
   "id": "9d29f9f3",
   "metadata": {},
   "source": [
    "> 5. If vitamin C has the molecular formula $C_6H_8O_6$ and the molar mass of\n",
    "vitamin C is $176.12$ g/mol, find the mass of each element in a $325$ g vitamin\n",
    "C sample.\n",
    "\n",
    "Carbon ($C$) has a molar mass of $12.01$ g/mol  \n",
    "Hydrogen ($H$) has a molar mass of $1.00794$ g/mol  \n",
    "Oxygen ($O$) has a molar mass of $15.9994$ g/mol\n",
    "\n",
    "\\begin{gather*}\n",
    "    C_6H_8O_6 \\\\ \\\\\n",
    "\n",
    "    \\frac{12.01(6)}{176.12} = \\frac{C}{325} \\\\\n",
    "    \\frac{72.06}{176.12} = \\frac{C}{325} \\\\\n",
    "    176.12C = 325(72.06) \\\\\n",
    "    176.12C = 23419.5 \\\\\n",
    "    \\frac{176.12C = 23419.5}{176.12} \\\\ \\\\\n",
    "\n",
    "    \\boxed{C = 132.9746763570293} \\\\ \\\\\n",
    "\n",
    "    \\frac{1.00794(8)}{176.12} = \\frac{H}{325} \\\\\n",
    "    \\frac{8.06352}{176.12} = \\frac{H}{325} \\\\\n",
    "    176.12H = 325(8.06352) \\\\\n",
    "    176.12H = 2620.6440000000002 \\\\\n",
    "    \\frac{176.12H = 2620.6440000000002}{176.12} \\\\ \\\\\n",
    "\n",
    "    \\boxed{H = 14.879877356347945} \\\\ \\\\\n",
    "\n",
    "    \\frac{15.9994(6)}{176.12} = \\frac{O}{325} \\\\\n",
    "    \\frac{96.9964}{176.12} = \\frac{O}{325} \\\\\n",
    "    176.12O = 325(96.9964) \\\\\n",
    "    176.12O = 31198.829999999998 \\\\\n",
    "    \\frac{176.12O = 31198.829999999998}{176.12} \\\\ \\\\\n",
    "\n",
    "    \\boxed{O = 177.14529866000453}\n",
    "\\end{gather*}"
   ]
  },
  {
   "cell_type": "markdown",
   "id": "328cf2df",
   "metadata": {},
   "source": [
    "> 6. Find the molar mass of calcium ($Ca$) in one mole of calcium carbonate.\n",
    "$CaCO_3$ has a molar mass of $100.0869$ g/mol.\n",
    "\n",
    "Carbon ($C$) has a mass of $12.0107$ g/mol  \n",
    "Oxygen ($O$) has a mass of $15.9994$ g/mol\n",
    "\n",
    "\\begin{gather*}\n",
    "    CaCO_3 \\\\ \\\\\n",
    "\n",
    "    1 : 1 : 3 \\\\\n",
    "    Ca : 12.0107(1) : 15.9994(3) \\\\\n",
    "    Ca : 12.0107 : 47.9982 \\\\\n",
    "    Ca + 12.0107 + 47.9982 = 100.0869 \\\\\n",
    "    Ca + 60.0089 = 100.0869 \\\\\n",
    "    Ca = 100.0869 - 60.0089 \\\\ \\\\\n",
    "\n",
    "    \\boxed{Ca = 40.078}\n",
    "\\end{gather*}"
   ]
  }
 ],
 "metadata": {
  "language_info": {
   "name": "python"
  }
 },
 "nbformat": 4,
 "nbformat_minor": 5
}
