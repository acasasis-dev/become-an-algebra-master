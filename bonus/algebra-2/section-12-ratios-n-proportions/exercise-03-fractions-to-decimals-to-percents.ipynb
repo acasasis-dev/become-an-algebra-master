{
 "cells": [
  {
   "cell_type": "markdown",
   "id": "ead3d000",
   "metadata": {},
   "source": [
    "## Exercise 3: Fractions to Decimals to Percents"
   ]
  },
  {
   "cell_type": "markdown",
   "id": "eae58d5e",
   "metadata": {},
   "source": [
    "> 1. Convert $60\\%$ to a fraction in lowest terms.\n",
    "\n",
    "\\begin{gather*}\n",
    "    60\\% \\\\\n",
    "    \\frac{60}{100} \\\\\n",
    "    \\frac{60}{100} \\div \\frac{20}{20} \\\\ \\\\\n",
    "\n",
    "    \\boxed{\\frac{3}{5}}\n",
    "\\end{gather*}"
   ]
  },
  {
   "cell_type": "markdown",
   "id": "f1cb277a",
   "metadata": {},
   "source": [
    "> 2. Convert $33.5\\%$ to a decimal.\n",
    "\n",
    "\\begin{gather*}\n",
    "    33.5\\% \\\\\n",
    "    33.5 \\cdot 100 \\\\ \\\\\n",
    "\n",
    "    \\boxed{0.335}\n",
    "\\end{gather*}"
   ]
  },
  {
   "cell_type": "markdown",
   "id": "c223d26c",
   "metadata": {},
   "source": [
    "> 3. Convert $2/3$ to a percent.\n",
    "\n",
    "\\begin{gather*}\n",
    "    \\frac{2}{3} \\\\ \\\\\n",
    "\n",
    "    (2 \\div 3) \\cdot 100 \\\\\n",
    "    0.6667 \\cdot 100 \\\\ \\\\\n",
    "\n",
    "    \\boxed{66.67\\%}\n",
    "\\end{gather*}"
   ]
  },
  {
   "cell_type": "markdown",
   "id": "72e1fba5",
   "metadata": {},
   "source": [
    "> 4. Find $15\\%$ of 48.\n",
    "\n",
    "\\begin{gather*}\n",
    "    48 \\cdot 15\\% \\\\ \\\\\n",
    "\n",
    "    48 \\cdot (15 \\div 100) \\\\\n",
    "    48 \\cdot 0.15 \\\\ \\\\\n",
    "\n",
    "    \\boxed{7.20}\n",
    "\\end{gather*}"
   ]
  },
  {
   "cell_type": "markdown",
   "id": "dc2ea075",
   "metadata": {},
   "source": [
    "> 5. Find a mixed fraction that represents $8\\%$ of $120$.\n",
    "\n",
    "\\begin{gather*}\n",
    "    120 \\cdot 8\\% \\\\ \\\\\n",
    "\n",
    "    120 \\cdot (8 \\div 100) \\\\\n",
    "    120 \\cdot 0.08 \\\\\n",
    "    9.6 \\\\\n",
    "    9 \\frac{6}{10} \\\\ \\\\\n",
    "\n",
    "    \\boxed{9 \\frac{3}{5}}\n",
    "\\end{gather*}"
   ]
  },
  {
   "cell_type": "markdown",
   "id": "3e0a8cc0",
   "metadata": {},
   "source": [
    "> 6. Convert $100/160$ to a percent.\n",
    "\n",
    "\\begin{gather*}\n",
    "    \\frac{100}{160} \\\\ \\\\\n",
    "\n",
    "    (100 \\div 160) \\cdot 100 \\\\\n",
    "    0.625 \\cdot 100 \\\\ \\\\\n",
    "\n",
    "    \\boxed{62.5\\%}\n",
    "\\end{gather*}\n"
   ]
  }
 ],
 "metadata": {
  "language_info": {
   "name": "python"
  }
 },
 "nbformat": 4,
 "nbformat_minor": 5
}
