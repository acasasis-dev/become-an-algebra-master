{
 "cells": [
  {
   "cell_type": "markdown",
   "id": "ead3d000",
   "metadata": {},
   "source": [
    "## Exercise 3: Fractions to Decimals to Percents"
   ]
  },
  {
   "cell_type": "markdown",
   "id": "eae58d5e",
   "metadata": {},
   "source": [
    "> 1. Convert $60\\%$ to a fraction in lowest terms."
   ]
  },
  {
   "cell_type": "markdown",
   "id": "f1cb277a",
   "metadata": {},
   "source": [
    "> 2. Convert $33.5\\%$ to a decimal."
   ]
  },
  {
   "cell_type": "markdown",
   "id": "c223d26c",
   "metadata": {},
   "source": [
    "> 3. Convert $2/3$ to a percent."
   ]
  },
  {
   "cell_type": "markdown",
   "id": "72e1fba5",
   "metadata": {},
   "source": [
    "> 4. Find $15%$ of 48."
   ]
  },
  {
   "cell_type": "markdown",
   "id": "dc2ea075",
   "metadata": {},
   "source": [
    "> 5. Find a mixed fraction that represents $8\\%$ of $120$."
   ]
  },
  {
   "cell_type": "markdown",
   "id": "3e0a8cc0",
   "metadata": {},
   "source": [
    "> 6. Convert $100/160$ to a percent."
   ]
  }
 ],
 "metadata": {
  "language_info": {
   "name": "python"
  }
 },
 "nbformat": 4,
 "nbformat_minor": 5
}
