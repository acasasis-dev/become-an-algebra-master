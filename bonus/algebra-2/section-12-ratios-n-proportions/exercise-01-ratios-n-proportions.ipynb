{
 "cells": [
  {
   "cell_type": "markdown",
   "id": "248e1b3d",
   "metadata": {},
   "source": [
    "## Exercise 1: Ratios and Proportions"
   ]
  },
  {
   "cell_type": "markdown",
   "id": "95350f0f",
   "metadata": {},
   "source": [
    "> 1. The class has $12$ girls and $18$ boys. What is the ratio of boys to the total\n",
    "number of students in the class?"
   ]
  },
  {
   "cell_type": "markdown",
   "id": "6aa50b6c",
   "metadata": {},
   "source": [
    "> 2. The ratio of boys to girls in the class is $4 : 3$. The total number of\n",
    "students in the class is $28$. How many girls are in the class?"
   ]
  },
  {
   "cell_type": "markdown",
   "id": "cbd9c77a",
   "metadata": {},
   "source": [
    "> 3. The ratio of boys to girls in the class is $5 : 3$. The total number of\n",
    "students in the class is $32$. How many boys are in the class?"
   ]
  },
  {
   "cell_type": "markdown",
   "id": "54be3da1",
   "metadata": {},
   "source": [
    "> 4. Two numbers have a ratio of $1$ to $4$ and a sum of $40$. What are the two\n",
    "numbers?"
   ]
  },
  {
   "cell_type": "markdown",
   "id": "99c75a35",
   "metadata": {},
   "source": [
    "> 5. There are $11$ quarters, $9$ dimes, and $13$ nickels. What is the ratio of\n",
    "dimes to the total number of coins?"
   ]
  },
  {
   "cell_type": "markdown",
   "id": "1be1d272",
   "metadata": {},
   "source": [
    "> 6. The ratio of dimes to quarters is $3 : 2$. The total value of the coins is\n",
    "$\\$2.40$. How many quarters are there?"
   ]
  }
 ],
 "metadata": {
  "language_info": {
   "name": "python"
  }
 },
 "nbformat": 4,
 "nbformat_minor": 5
}
