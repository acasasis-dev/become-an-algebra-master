{
 "cells": [
  {
   "cell_type": "markdown",
   "id": "248e1b3d",
   "metadata": {},
   "source": [
    "## Exercise 1: Ratios and Proportions"
   ]
  },
  {
   "cell_type": "markdown",
   "id": "95350f0f",
   "metadata": {},
   "source": [
    "> 1. The class has $12$ girls and $18$ boys. What is the ratio of boys to the total\n",
    "number of students in the class?\n",
    "\n",
    "\\begin{gather*}\n",
    "    12 : 18 \\\\ \\\\\n",
    "\n",
    "    \\frac{12 : 18}{6} \\\\ \\\\\n",
    "\n",
    "    \\boxed{2 : 3}\n",
    "\\end{gather*}"
   ]
  },
  {
   "cell_type": "markdown",
   "id": "6aa50b6c",
   "metadata": {},
   "source": [
    "> 2. The ratio of boys to girls in the class is $4 : 3$. The total number of\n",
    "students in the class is $28$. How many girls are in the class?\n",
    "\n",
    "\\begin{gather*}\n",
    "    4 : 3 \\\\ \\\\\n",
    "\n",
    "    \\frac{b}{g} = \\frac{4}{3} \\\\\n",
    "    4g = 3b \\\\\n",
    "    \\frac{4g = 3b}{4} \\\\\n",
    "    g = \\frac{3b}{4} \\\\ \\\\\n",
    "\n",
    "    b + g = 28 \\\\\n",
    "    g = 28 - b \\\\\n",
    "    \\frac{3b}{4} = 28 - b \\\\\n",
    "    4\\left(\\frac{3b}{4} = 28 - b\\right) \\\\\n",
    "    3b = 112 - 4b \\\\\n",
    "    3b + 4b = 112 \\\\\n",
    "    7b = 112 \\\\\n",
    "    \\frac{7b = 112}{7} \\\\\n",
    "    \\boxed{b = 16} \\\\ \\\\\n",
    "\n",
    "    b + g = 28 \\\\\n",
    "    16 + g = 28 \\\\\n",
    "    g = 28 - 16 \\\\\n",
    "    \\boxed{g = 12} \\\\ \\\\\n",
    "\n",
    "    4 : 3 = 16 : 12\n",
    "\\end{gather*}"
   ]
  },
  {
   "cell_type": "markdown",
   "id": "cbd9c77a",
   "metadata": {},
   "source": [
    "> 3. The ratio of boys to girls in the class is $5 : 3$. The total number of\n",
    "students in the class is $32$. How many boys are in the class?\n",
    "\n",
    "\\begin{gather*}\n",
    "    5 : 3 \\\\ \\\\\n",
    "\n",
    "    \\frac{b}{g} = \\frac{5}{3} \\\\\n",
    "    5g = 3b \\\\\n",
    "    \\frac{5g = 3b}{3} \\\\\n",
    "    b = \\frac{5g}{3} \\\\ \\\\\n",
    "\n",
    "    b + g = 32 \\\\\n",
    "    b = 32 - g \\\\\n",
    "    \\frac{5g}{3} = 32 - g \\\\\n",
    "    3\\left(\\frac{5g}{3} = 32 - g\\right) \\\\\n",
    "    5g = 96 - 3g \\\\\n",
    "    5g + 3g = 96 \\\\\n",
    "    8g = 96 \\\\\n",
    "    \\frac{8g = 96}{8} \\\\\n",
    "    \\boxed{g = 12} \\\\ \\\\\n",
    "\n",
    "    b + g = 32 \\\\\n",
    "    b + 12 = 32 \\\\\n",
    "    b = 32 - 12 \\\\\n",
    "    \\boxed{b = 20} \\\\ \\\\\n",
    "\n",
    "    5 : 3 = 20 : 12\n",
    "\\end{gather*}"
   ]
  },
  {
   "cell_type": "markdown",
   "id": "54be3da1",
   "metadata": {},
   "source": [
    "> 4. Two numbers have a ratio of $1$ to $4$ and a sum of $40$. What are the two\n",
    "numbers?"
   ]
  },
  {
   "cell_type": "markdown",
   "id": "99c75a35",
   "metadata": {},
   "source": [
    "> 5. There are $11$ quarters, $9$ dimes, and $13$ nickels. What is the ratio of\n",
    "dimes to the total number of coins?"
   ]
  },
  {
   "cell_type": "markdown",
   "id": "1be1d272",
   "metadata": {},
   "source": [
    "> 6. The ratio of dimes to quarters is $3 : 2$. The total value of the coins is\n",
    "$\\$2.40$. How many quarters are there?"
   ]
  }
 ],
 "metadata": {
  "language_info": {
   "name": "python"
  }
 },
 "nbformat": 4,
 "nbformat_minor": 5
}
