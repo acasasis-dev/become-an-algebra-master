{
 "cells": [
  {
   "cell_type": "markdown",
   "id": "740e92a4",
   "metadata": {},
   "source": [
    "## Exercise 9: Ratios and Proportions with Complex Fractions"
   ]
  },
  {
   "cell_type": "markdown",
   "id": "9f911ba7",
   "metadata": {},
   "source": [
    "> 1. Solve for the variable.\n",
    "\n",
    "\\begin{gather*}\n",
    "    \\frac{x}{\\frac{1}{2}} = \\frac{\\frac{3}{4}}{\\frac{1}{4}} \\\\ \\\\\n",
    "\n",
    "    x \\cdot \\frac{1}{4} = \\frac{3}{4} \\cdot \\frac{1}{2} \\\\\n",
    "    \\frac{1}{4}x = \\frac{3}{8} \\\\\n",
    "    4\\left(\\frac{1}{4}x = \\frac{3}{8}\\right) \\\\\n",
    "    x = \\frac{12}{8} \\\\ \\\\\n",
    "\n",
    "    \\boxed{x = \\frac{3}{2}}\n",
    "\\end{gather*}"
   ]
  },
  {
   "cell_type": "markdown",
   "id": "f0bfd7e6",
   "metadata": {},
   "source": [
    "> 2. Solve for the variable.\n",
    "\n",
    "\\begin{gather*}\n",
    "    \\frac{\\frac{4}{7}}{\\frac{1}{6}} = \\frac{y}{\\frac{7}{2}} \\\\ \\\\\n",
    "\n",
    "    y \\cdot \\frac{1}{6} = \\frac{4}{7} \\cdot \\frac{7}{2} \\\\\n",
    "    \\frac{1}{6}y = 2 \\\\\n",
    "    6\\left(\\frac{1}{6}y = 2\\right) \\\\ \\\\\n",
    "\n",
    "    \\boxed{y = 12}\n",
    "\\end{gather*}"
   ]
  },
  {
   "cell_type": "markdown",
   "id": "79812b72",
   "metadata": {},
   "source": [
    "> 3. Solve for the variable.\n",
    "\n",
    "\\begin{gather*}\n",
    "    \\frac{\\frac{x}{2}}{\\frac{8}{3}} = \\frac{\\frac{3}{4}}{\\frac{2}{5}} \\\\ \\\\\n",
    "\n",
    "    \\frac{x}{2} \\cdot \\frac{2}{5} = \\frac{3}{4} \\cdot \\frac{8}{3} \\\\\n",
    "    \\frac{x}{5} = 2 \\\\\n",
    "    5\\left(\\frac{x}{5} = 2\\right) \\\\ \\\\\n",
    "\n",
    "    \\boxed{x = 10}\n",
    "\\end{gather*}"
   ]
  },
  {
   "cell_type": "markdown",
   "id": "811bf0ff",
   "metadata": {},
   "source": [
    "> 4. Solve for the variable.\n",
    "\n",
    "\\begin{gather*}\n",
    "    \\frac{\\frac{3}{8}}{\\frac{x}{2}} = \\frac{\\frac{1}{4}}{\\frac{4}{5}} \\\\ \\\\\n",
    "\\end{gather*}"
   ]
  },
  {
   "cell_type": "markdown",
   "id": "2ef50b3e",
   "metadata": {},
   "source": [
    "5. Solve for the variable.\n",
    "\n",
    "\\begin{gather*}\n",
    "    \\frac{\\frac{4}{5} - \\frac{1}{2}}{\\frac{3}{2}} = \\frac{\\frac{6}{7} + \\frac{1}{7}}{\\frac{b}{8}} \\\\ \\\\\n",
    "\\end{gather*}"
   ]
  },
  {
   "cell_type": "markdown",
   "id": "6c2b1886",
   "metadata": {},
   "source": [
    "> 6. Solve for the variable.\n",
    "\n",
    "\\begin{gather*}\n",
    "    \\frac{\\frac{2}{3}}{\\frac{1}{c}} = \\frac{\\frac{4}{5}}{\\frac{7}{6}} \\\\ \\\\\n",
    "\\end{gather*}"
   ]
  }
 ],
 "metadata": {
  "language_info": {
   "name": "python"
  }
 },
 "nbformat": 4,
 "nbformat_minor": 5
}
