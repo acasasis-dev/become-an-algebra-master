{
 "cells": [
  {
   "cell_type": "markdown",
   "id": "d03265a1",
   "metadata": {},
   "source": [
    "## Exercise 6: Calculating Commissions"
   ]
  },
  {
   "cell_type": "markdown",
   "id": "1640b910",
   "metadata": {},
   "source": [
    "> 1. A makeup company advertises that we can make $15\\%$ commission on\n",
    "sales of their product. If we sell $\\$3,252$ worth of product, how much money\n",
    "do we earn?"
   ]
  },
  {
   "cell_type": "markdown",
   "id": "359085d9",
   "metadata": {},
   "source": [
    "> 2. An employee at a clothing store earned $\\$1,450$ in hourly pay for the\n",
    "month. She also sold $\\$4,250$ worth of merchandise and will earn a\n",
    "commission of $6\\%$ on those sales. What is the employee’s expected\n",
    "paycheck before tax deductions?"
   ]
  },
  {
   "cell_type": "markdown",
   "id": "b9af1017",
   "metadata": {},
   "source": [
    "> 3. A local bakery sells croissants for $\\$5.00$ each. A sales clerk makes a $6\\%$\n",
    "commission on the selling price of each croissant he sells. How many\n",
    "croissants does he need to sell to earn $\\$60$ in commission?"
   ]
  },
  {
   "cell_type": "markdown",
   "id": "f9437187",
   "metadata": {},
   "source": [
    "> 4. A car salesman earns $\\$48,000$ per year plus a commission of $12\\%$ on all\n",
    "the cars he sells. If he wants a yearly salary of $\\$72,500$, how much money in\n",
    "car sales does he need to make?"
   ]
  },
  {
   "cell_type": "markdown",
   "id": "ef5117fb",
   "metadata": {},
   "source": [
    "> 5. Brittany earns $\\$1,772.10$ in commission of makeup products. If she\n",
    "earns $18\\%$ commission, how much money in makeup sales did she make?"
   ]
  },
  {
   "cell_type": "markdown",
   "id": "c516673a",
   "metadata": {},
   "source": [
    "> 6. Anthony works at a clothing store and earned $\\$1,644.75$ last month\n",
    "before tax deductions. If he earns $7.5\\%$ in commission and his hourly pay\n",
    "was $\\$975$ for the month, how much clothing did he sell?"
   ]
  }
 ],
 "metadata": {
  "language_info": {
   "name": "python"
  }
 },
 "nbformat": 4,
 "nbformat_minor": 5
}
