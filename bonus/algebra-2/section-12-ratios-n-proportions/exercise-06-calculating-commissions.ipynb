{
 "cells": [
  {
   "cell_type": "markdown",
   "id": "d03265a1",
   "metadata": {},
   "source": [
    "## Exercise 6: Calculating Commissions"
   ]
  },
  {
   "cell_type": "markdown",
   "id": "1640b910",
   "metadata": {},
   "source": [
    "> 1. A makeup company advertises that we can make $15\\%$ commission on\n",
    "sales of their product. If we sell $\\$3,252$ worth of product, how much money\n",
    "do we earn?\n",
    "\n",
    "\\begin{gather*}\n",
    "    c = 3252 \\cdot 15\\% \\\\ \\\\\n",
    "\n",
    "    c = 3252 \\cdot 0.15 \\\\ \\\\\n",
    "\n",
    "    \\boxed{c = 487.80}\n",
    "\\end{gather*}"
   ]
  },
  {
   "cell_type": "markdown",
   "id": "359085d9",
   "metadata": {},
   "source": [
    "> 2. An employee at a clothing store earned $\\$1,450$ in hourly pay for the\n",
    "month. She also sold $\\$4,250$ worth of merchandise and will earn a\n",
    "commission of $6\\%$ on those sales. What is the employee’s expected\n",
    "paycheck before tax deductions?\n",
    "\n",
    "\\begin{gather*}\n",
    "    P = 1450 + (4250 \\cdot 6\\%) \\\\ \\\\\n",
    "\n",
    "    P = 1450 + (4250 \\cdot 0.06) \\\\\n",
    "    P = 1450 + 255 \\\\ \\\\\n",
    "\n",
    "    \\boxed{P = 1705}\n",
    "\\end{gather*}"
   ]
  },
  {
   "cell_type": "markdown",
   "id": "b9af1017",
   "metadata": {},
   "source": [
    "> 3. A local bakery sells croissants for $\\$5.00$ each. A sales clerk makes a $6\\%$\n",
    "commission on the selling price of each croissant he sells. How many\n",
    "croissants does he need to sell to earn $\\$60$ in commission?\n",
    "\n",
    "\\begin{gather*}\n",
    "    60 = (5 \\cdot 6\\%)x \\\\ \\\\\n",
    "\n",
    "    60 = (5 \\cdot 0.06)x \\\\\n",
    "    60 = 0.3x \\\\\n",
    "    \\frac{60 = 0.3x}{0.3} \\\\ \\\\\n",
    "\n",
    "    \\boxed{x = 200}\n",
    "\\end{gather*}"
   ]
  },
  {
   "cell_type": "markdown",
   "id": "f9437187",
   "metadata": {},
   "source": [
    "> 4. A car salesman earns $\\$48,000$ per year plus a commission of $12\\%$ on all\n",
    "the cars he sells. If he wants a yearly salary of $\\$72,500$, how much money in\n",
    "car sales does he need to make?\n",
    "\n",
    "\\begin{gather*}\n",
    "    72500 = 48000 + (x \\cdot 12\\%) \\\\ \\\\\n",
    "\n",
    "    72500 = 48000 + (x \\cdot 0.12) \\\\\n",
    "    72500 = 48000 + 0.12x \\\\\n",
    "    0.12x = 72500 - 48000 \\\\\n",
    "    0.12x = 24500 \\\\\n",
    "    \\frac{0.12x = 24500}{0.12} \\\\ \\\\\n",
    "\n",
    "    \\boxed{x = 204166.67}\n",
    "\\end{gather*}"
   ]
  },
  {
   "cell_type": "markdown",
   "id": "ef5117fb",
   "metadata": {},
   "source": [
    "> 5. Brittany earns $\\$1,772.10$ in commission of makeup products. If she\n",
    "earns $18\\%$ commission, how much money in makeup sales did she make?\n",
    "\n",
    "\\begin{gather*}\n",
    "    1772 = x \\cdot 18\\% \\\\ \\\\\n",
    "\n",
    "    1772 = x \\cdot 0.18 \\\\\n",
    "    1772 = 0.18x \\\\\n",
    "    \\frac{1772 = 0.18x}{0.18} \\\\ \\\\\n",
    "\n",
    "    \\boxed{x = 9844.44}\n",
    "\\end{gather*}"
   ]
  },
  {
   "cell_type": "markdown",
   "id": "c516673a",
   "metadata": {},
   "source": [
    "> 6. Anthony works at a clothing store and earned $\\$1,644.75$ last month\n",
    "before tax deductions. If he earns $7.5\\%$ in commission and his hourly pay\n",
    "was $\\$975$ for the month, how much clothing did he sell?\n",
    "\n",
    "\\begin{gather*}\n",
    "    1644.75 = 975 + (x \\cdot 7.5\\%) \\\\ \\\\\n",
    "\n",
    "    1644.75 = 975 + (x \\cdot 0.075) \\\\\n",
    "    1644.75 = 975 + 0.075x \\\\\n",
    "    0.075x = 1644.75 - 975 \\\\\n",
    "    0.075x = 669.75 \\\\\n",
    "    \\frac{0.075x = 669.75}{0.075} \\\\ \\\\\n",
    "\n",
    "    \\boxed{x = 8930}\n",
    "\\end{gather*}"
   ]
  }
 ],
 "metadata": {
  "language_info": {
   "name": "python"
  }
 },
 "nbformat": 4,
 "nbformat_minor": 5
}
