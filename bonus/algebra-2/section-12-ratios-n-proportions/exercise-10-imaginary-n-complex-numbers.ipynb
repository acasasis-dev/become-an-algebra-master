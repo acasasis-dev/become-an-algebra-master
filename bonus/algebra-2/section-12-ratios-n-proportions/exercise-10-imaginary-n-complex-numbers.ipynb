{
 "cells": [
  {
   "cell_type": "markdown",
   "id": "5fd3feca",
   "metadata": {},
   "source": [
    "## Exercise 10: Imaginary and Complex Numbers"
   ]
  },
  {
   "cell_type": "markdown",
   "id": "894e4b32",
   "metadata": {},
   "source": [
    "> 1. Simplify the imaginary expression.\n",
    "\n",
    "\\begin{gather*}\n",
    "    2 − 6i − 4 + 9i \\\\ \\\\\n",
    "\n",
    "    \\boxed{-2 + 3i} \\\\\n",
    "\\end{gather*}"
   ]
  },
  {
   "cell_type": "markdown",
   "id": "a7e5dfe9",
   "metadata": {},
   "source": [
    "> 2. Simplify the imaginary expression.\n",
    "\n",
    "\\begin{gather*}\n",
    "    −3 − 7i + 8 + 3i \\\\ \\\\\n",
    "\n",
    "    \\boxed{5 - 4i}\n",
    "\\end{gather*}"
   ]
  },
  {
   "cell_type": "markdown",
   "id": "74dc7d9b",
   "metadata": {},
   "source": [
    "> 3. Simplify the imaginary expression.\n",
    "\n",
    "\\begin{gather*}\n",
    "    \\sqrt{−4} + ii + 5i − 2i^3 \\\\ \\\\\n",
    "\n",
    "    \\sqrt{4}\\sqrt{-1} + (-1) + 5i - 2(-1)i \\\\\n",
    "    2i - 1 + 5i + 2i \\\\ \\\\\n",
    "\n",
    "    \\boxed{9i - 1}\n",
    "\\end{gather*}"
   ]
  },
  {
   "cell_type": "markdown",
   "id": "4424141c",
   "metadata": {},
   "source": [
    "> 4. Simplify the imaginary expression.\n",
    "\n",
    "\\begin{gather*}\n",
    "    \\sqrt{27} − 3ii + 2i − 7i^3 + \\sqrt{−36} \\\\ \\\\\n",
    "\n",
    "    \\sqrt{9}\\sqrt{3} - 3(-1) + 2i - 7(-1)i + \\sqrt{36}\\sqrt{-1} \\\\\n",
    "    3\\sqrt{3} + 3 + 2i + 7i + 6i \\\\ \\\\\n",
    "\n",
    "    \\boxed{3\\sqrt{3} + 15i + 3}\n",
    "\\end{gather*}"
   ]
  },
  {
   "cell_type": "markdown",
   "id": "5121dc37",
   "metadata": {},
   "source": [
    "> 5. Simplify the imaginary expression.\n",
    "\n",
    "\\begin{gather*}\n",
    "    \\sqrt{−9} + 2i^3 + 6i − \\sqrt{25}\\sqrt{−25} − 2\\sqrt{−16} \\\\ \\\\\n",
    "\n",
    "    \\sqrt{9}\\sqrt{-1} + 2(-1)i + 6i - 5\\sqrt{25}\\sqrt{-1} - 2\\sqrt{16}\\sqrt{-1} \\\\\n",
    "    3i - 2i + 6i - 5(5)i - 2(4)i \\\\\n",
    "    3i - 2i + 6i - 25i - 8i \\\\\n",
    "    i + 6i - 25i - 8i \\\\\n",
    "    7i - 25i - 8i \\\\\n",
    "    -18i - 8i \\\\ \\\\\n",
    "    \n",
    "    \\boxed{-26i}\n",
    "\\end{gather*}"
   ]
  },
  {
   "cell_type": "markdown",
   "id": "b1907ea3",
   "metadata": {},
   "source": [
    "> 6. Simplify the imaginary expression.\n",
    "\n",
    "\\begin{gather*}\n",
    "    \\sqrt{−4} + 2i^4 + 6i^5 − \\sqrt{−49} − 2i^6 \\\\ \\\\\n",
    "\n",
    "    \\sqrt{4}\\sqrt{-1} + 2(-1)(-1) + 6(-1)(-1)i - \\sqrt{49}\\sqrt{-1} - 2(-1)(-1)(-1) \\\\\n",
    "    2i + 2 + 6i - 7i + 2 \\\\ \\\\\n",
    "\n",
    "    \\boxed{i + 4}\n",
    "\\end{gather*}"
   ]
  }
 ],
 "metadata": {
  "language_info": {
   "name": "python"
  }
 },
 "nbformat": 4,
 "nbformat_minor": 5
}
