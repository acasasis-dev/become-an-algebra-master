{
 "cells": [
  {
   "cell_type": "markdown",
   "id": "5fd3feca",
   "metadata": {},
   "source": [
    "## Exercise 10: Imaginary and Complex Numbers"
   ]
  },
  {
   "cell_type": "markdown",
   "id": "894e4b32",
   "metadata": {},
   "source": [
    "> 1. Simplify the imaginary expression.\n",
    "\n",
    "\\begin{gather*}\n",
    "    2 − 6i − 4 + 9i \\\\ \\\\\n",
    "\\end{gather*}"
   ]
  },
  {
   "cell_type": "markdown",
   "id": "a7e5dfe9",
   "metadata": {},
   "source": [
    "> 2. Simplify the imaginary expression.\n",
    "\n",
    "\\begin{gather*}\n",
    "    −3 − 7i + 8 + 3i \\\\ \\\\\n",
    "\\end{gather*}"
   ]
  },
  {
   "cell_type": "markdown",
   "id": "74dc7d9b",
   "metadata": {},
   "source": [
    "> 3. Simplify the imaginary expression.\n",
    "\n",
    "\\begin{gather*}\n",
    "    \\sqrt{−4} + ii + 5i − 2i^3 \\\\ \\\\\n",
    "\\end{gather*}"
   ]
  },
  {
   "cell_type": "markdown",
   "id": "4424141c",
   "metadata": {},
   "source": [
    "> 4. Simplify the imaginary expression.\n",
    "\n",
    "\\begin{gather*}\n",
    "    \\sqrt{27} − 3ii + 2i − 7i^3 + \\sqrt{−36} \\\\ \\\\\n",
    "\\end{gather*}"
   ]
  },
  {
   "cell_type": "markdown",
   "id": "5121dc37",
   "metadata": {},
   "source": [
    "> 5. Simplify the imaginary expression.\n",
    "\n",
    "\\begin{gather*}\n",
    "    \\sqrt{−9} + 2i^3 + 6i − \\sqrt{25}\\sqrt{−25} − 2\\sqrt{−16} \\\\ \\\\\n",
    "\\end{gather*}"
   ]
  },
  {
   "cell_type": "markdown",
   "id": "b1907ea3",
   "metadata": {},
   "source": [
    "> 6. Simplify the imaginary expression.\n",
    "\n",
    "\\begin{gather*}\n",
    "    \\sqrt{−4} + 2i^4 + 6i^5 − \\sqrt{−49} − 2i^6 \\\\ \\\\\n",
    "\\end{gather*}"
   ]
  }
 ],
 "metadata": {
  "language_info": {
   "name": "python"
  }
 },
 "nbformat": 4,
 "nbformat_minor": 5
}
