{
 "cells": [
  {
   "cell_type": "markdown",
   "id": "010fa0c9",
   "metadata": {},
   "source": [
    "## Exercise 4: Percent Markup"
   ]
  },
  {
   "cell_type": "markdown",
   "id": "f4cfbbcb",
   "metadata": {},
   "source": [
    "> 1. A book store purchases a book for $\\$6.00$ and sells it for $\\$9.00$. What\n",
    "percentage of the original price is the markup amount?\n",
    "\n",
    "\\begin{gather*}\n",
    "    6 + 6x = 9 \\\\ \\\\\n",
    "\n",
    "    6x = 9 - 6 \\\\\n",
    "    6x = 3 \\\\\n",
    "    \\frac{6x = 3}{6} \\\\\n",
    "    x = \\frac{3}{6} \\\\\n",
    "    x = 0.5 \\\\ \\\\\n",
    "\n",
    "    \\boxed{x = 50\\%}\n",
    "\\end{gather*}"
   ]
  },
  {
   "cell_type": "markdown",
   "id": "752af0ca",
   "metadata": {},
   "source": [
    "> 2. A bike shop buys a used bike for $\\$130$ and marks up the price by $35\\%$.\n",
    "What is the markup amount?\n",
    "\n",
    "\\begin{gather*}\n",
    "    x = 130(35\\%) \\\\ \\\\\n",
    "\n",
    "    x = 130 \\cdot 0.35 \\\\ \\\\\n",
    "\n",
    "    \\boxed{x = 45.5}\n",
    "\\end{gather*}"
   ]
  },
  {
   "cell_type": "markdown",
   "id": "dfada1bc",
   "metadata": {},
   "source": [
    "> 3. It costs a car manufacturer $\\$12,800$ to produce a car. The percent\n",
    "markup is $48\\%$. What is the selling price of the car.\n",
    "\n",
    "\\begin{gather*}\n",
    "    x = 12800 + (12800(48\\%)) \\\\ \\\\\n",
    "\n",
    "    x = 12800 + (12800 \\cdot 0.48) \\\\\n",
    "    x = 12800 + 6144 \\\\ \\\\\n",
    "\n",
    "    \\boxed{x = 18944}\n",
    "\\end{gather*}"
   ]
  },
  {
   "cell_type": "markdown",
   "id": "f19054ed",
   "metadata": {},
   "source": [
    "> 4. A bakery purchases a dozen sugar cookies for $\\$2.25$. The markup\n",
    "percent is $60\\%$. What is the selling price of the dozen sugar cookies?\n",
    "\n",
    "\\begin{gather*}\n",
    "    x = 2.25 + (2.25(60\\%)) \\\\ \\\\\n",
    "\n",
    "    x = 2.25 + (2.25 \\cdot 0.6) \\\\ \n",
    "    x = 2.25 + 1.35 \\\\ \\\\\n",
    "\n",
    "    \\boxed{x = 3.60}\n",
    "\\end{gather*}"
   ]
  },
  {
   "cell_type": "markdown",
   "id": "0547a4c0",
   "metadata": {},
   "source": [
    "> 5. A store purchases dresses from a manufacturer, marks them up by\n",
    "$75\\%$, and sells each dress for $\\$91$. How much did the store pay the\n",
    "manufacturer for each dress?\n",
    "\n",
    "\\begin{gather*}\n",
    "    91 = x + (x(75\\%)) \\\\ \\\\\n",
    "\n",
    "    91 = x + 0.75x \\\\\n",
    "    91 = 1.75x \\\\\n",
    "    \\frac{91 = 1.75x}{1.75} \\\\ \\\\\n",
    "\n",
    "    \\boxed{x = 52}\n",
    "\\end{gather*}"
   ]
  },
  {
   "cell_type": "markdown",
   "id": "53c54f02",
   "metadata": {},
   "source": [
    "> 6. If a furniture store purchases a chair from a manufacturer, marks it up\n",
    "by $24\\%$, and sells the chair for $\\$84.94$. How much did the furniture store\n",
    "pay the manufacturer for the chair?\n",
    "\n",
    "\\begin{gather*}\n",
    "    84.94 = x + (x(24\\%)) \\\\ \\\\\n",
    "\n",
    "    84.94 = x + 0.24x \\\\\n",
    "    84.94 = 1.24x \\\\\n",
    "    \\frac{84.94 = 1.24x}{1.24} \\\\ \\\\\n",
    "\n",
    "    \\boxed{x = 68.5}\n",
    "\\end{gather*}"
   ]
  }
 ],
 "metadata": {
  "language_info": {
   "name": "python"
  }
 },
 "nbformat": 4,
 "nbformat_minor": 5
}
