{
 "cells": [
  {
   "cell_type": "markdown",
   "id": "010fa0c9",
   "metadata": {},
   "source": [
    "## Exercise 4: Percent Markup"
   ]
  },
  {
   "cell_type": "markdown",
   "id": "f4cfbbcb",
   "metadata": {},
   "source": [
    "> 1. A book store purchases a book for $\\$6.00$ and sells it for $\\$9.00$. What\n",
    "percentage of the original price is the markup amount?"
   ]
  },
  {
   "cell_type": "markdown",
   "id": "752af0ca",
   "metadata": {},
   "source": [
    "> 2. A bike shop buys a used bike for $\\$130$ and marks up the price by $35\\%$.\n",
    "What is the markup amount?"
   ]
  },
  {
   "cell_type": "markdown",
   "id": "dfada1bc",
   "metadata": {},
   "source": [
    "> 3. It costs a car manufacturer $\\$12,800$ to produce a car. The percent\n",
    "markup is $48\\%$. What is the selling price of the car."
   ]
  },
  {
   "cell_type": "markdown",
   "id": "f19054ed",
   "metadata": {},
   "source": [
    "> 4. A bakery purchases a dozen sugar cookies for $\\$2.25$. The markup\n",
    "percent is $60\\%$. What is the selling price of the dozen sugar cookies?"
   ]
  },
  {
   "cell_type": "markdown",
   "id": "0547a4c0",
   "metadata": {},
   "source": [
    "> 5. A store purchases dresses from a manufacturer, marks them up by\n",
    "$75\\%$, and sells each dress for $\\$91$. How much did the store pay the\n",
    "manufacturer for each dress?"
   ]
  },
  {
   "cell_type": "markdown",
   "id": "53c54f02",
   "metadata": {},
   "source": [
    "> 6. If a furniture store purchases a chair from a manufacturer, marks it up\n",
    "by $24\\%$, and sells the chair for $\\$84.94$. How much did the furniture store\n",
    "pay the manufacturer for the chair?"
   ]
  }
 ],
 "metadata": {
  "language_info": {
   "name": "python"
  }
 },
 "nbformat": 4,
 "nbformat_minor": 5
}
