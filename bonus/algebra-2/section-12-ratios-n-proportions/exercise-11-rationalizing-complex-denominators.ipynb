{
 "cells": [
  {
   "cell_type": "markdown",
   "id": "cebeb46b",
   "metadata": {},
   "source": [
    "## Exercise 11: Rationalizing Complex Denominators"
   ]
  },
  {
   "cell_type": "markdown",
   "id": "fd5fe08d",
   "metadata": {},
   "source": [
    "> 1. Use the conjugate method to simplify the imaginary expression.\n",
    "\n",
    "\\begin{gather*}\n",
    "    \\frac{2 + 6i}{3 - i} \\\\ \\\\\n",
    "\n",
    "    \\frac{2 + 6i}{3 - i} \\cdot \\frac{3 + i}{3 + i} \\\\\n",
    "    \\frac{(2 + 6i)(3 + i)}{(3 - i)(3 + i)} \\\\\n",
    "    \\frac{6 + 2i + 18i + 6i^2}{9 - i^2} \\\\\n",
    "    \\frac{6 + 20i + 6(-1)}{9 - (-1)} \\\\\n",
    "    \\frac{6 + 20i - 6}{9 + 1} \\\\\n",
    "    \\frac{20i}{10} \\\\ \\\\\n",
    "\n",
    "    \\boxed{2i}\n",
    "\\end{gather*}"
   ]
  },
  {
   "cell_type": "markdown",
   "id": "73359acf",
   "metadata": {},
   "source": [
    "> 2. Use the conjugate method to simplify the imaginary expression.\n",
    "\n",
    "\\begin{gather*}\n",
    "    \\frac{2 - 2i}{4i - 1} \\\\ \\\\\n",
    "\n",
    "    \\frac{2 - 2i}{4i - 1} \\cdot \\frac{-4i - 1}{-4i - 1} \\\\\n",
    "    \\frac{(2 - 2i)(-4i - 1)}{(4i - 1)(-4i - 1)} \\\\\n",
    "    \\frac{-8i - 2 + 8i^2 + 2i}{-16i^2 - 4i + 4i + 1} \\\\\n",
    "    \\frac{-6i - 2 + 8(-1)}{-16(-1) + 1} \\\\\n",
    "    \\frac{-6i - 2 - 8}{16 + 1} \\\\ \\\\\n",
    "\n",
    "    \\boxed{\\frac{-6i - 10}{17}}\n",
    "\\end{gather*}"
   ]
  },
  {
   "cell_type": "markdown",
   "id": "f406b9ae",
   "metadata": {},
   "source": [
    "> 3. Use the conjugate method to simplify the imaginary expression.\n",
    "\n",
    "\\begin{gather*}\n",
    "    \\frac{3i + 2i^2}{5i^3 + 4i^4} \\\\ \\\\\n",
    "\n",
    "    \\frac{3i + 2(-1)}{5(-1)i + 4(-1)(-1)} \\\\\n",
    "    \\frac{3i - 2}{-5i + 4} \\\\\n",
    "    \\frac{3i - 2}{-5i + 4} \\cdot \\frac{5i + 4}{5i + 4} \\\\\n",
    "    \\frac{(3i - 2)(5i + 4)}{(-5i + 4)(5i + 4)} \\\\\n",
    "    \\frac{15i^2 + 12i - 10i - 8}{-25i^2 - 20i + 20i + 16} \\\\\n",
    "    \\frac{15(-1) + 2i - 8}{-25(-1) + 16} \\\\\n",
    "    \\frac{-15 - 8 + 2i}{25 + 16} \\\\ \\\\\n",
    "\n",
    "    \\boxed{\\frac{2i - 23}{41}}\n",
    "\\end{gather*}"
   ]
  },
  {
   "cell_type": "markdown",
   "id": "dcf439a6",
   "metadata": {},
   "source": [
    "> 4. Use the conjugate method to simplify the imaginary expression.\n",
    "\n",
    "\\begin{gather*}\n",
    "    \\frac{2i + 4i^2}{6 - 6i} \\\\ \\\\\n",
    "\n",
    "    \\frac{2i + 4(-1)}{6 - 6i} \\\\\n",
    "    \\frac{2i - 4}{6 - 6i} \\cdot \\frac{6 + 6i}{6 + 6i} \\\\\n",
    "    \\frac{(2i - 4)(6 + 6i)}{36 - 36i^2} \\\\\n",
    "    \\frac{12i + 12i^2 - 24 - 24i}{36 - 36(-1)} \\\\\n",
    "    \\frac{12(-1) - 12i - 24}{36 + 36} \\\\\n",
    "    \\frac{-12 - 24 - 12i}{72} \\\\\n",
    "    \\frac{-36 - 12i}{72} \\\\ \\\\\n",
    "\n",
    "    \\boxed{\\frac{-3 - i}{6}}\n",
    "\\end{gather*}"
   ]
  },
  {
   "cell_type": "markdown",
   "id": "4e0dab2d",
   "metadata": {},
   "source": [
    "> 5. Use the conjugate method to simplify the imaginary expression.\n",
    "\n",
    "\\begin{gather*}\n",
    "    \\frac{\\sqrt{-5}\\sqrt{-5} - 7i^3}{3 + i} \\\\ \\\\\n",
    "\n",
    "    \\frac{-5 - 7(-1)i}{3 + i} \\\\\n",
    "    \\frac{-5 + 7i}{3 + i} \\cdot \\frac{3 - i}{3 - i} \\\\\n",
    "    \\frac{(-5 + 7i)(3 - i)}{9 - i^2} \\\\\n",
    "    \\frac{-15 + 5i + 21i - 7i^2}{9 - (-1)} \\\\\n",
    "    \\frac{-7(-1) + 26i - 15}{9 + 1} \\\\\n",
    "    \\frac{26i + 7 - 15}{10} \\\\\n",
    "    \\frac{26i - 8}{10} \\\\ \\\\\n",
    "\n",
    "    \\boxed{\\frac{13i - 4}{5}}\n",
    "\\end{gather*}"
   ]
  },
  {
   "cell_type": "markdown",
   "id": "fe78304a",
   "metadata": {},
   "source": [
    "> 6. Use the conjugate method to simplify the imaginary expression.\n",
    "\n",
    "\\begin{gather*}\n",
    "    \\frac{\\sqrt{-2}\\sqrt{-2} + 3i^3}{i - 4} \\\\ \\\\\n",
    "\n",
    "    \\frac{-2 + 3(-1)i}{i - 4} \\\\\n",
    "    \\frac{-2 - 3i}{i - 4} \\cdot \\frac{-i - 4}{-i - 4} \\\\\n",
    "    \\frac{(-2 - 3i)(-i - 4)}{(i - 4)(-i - 4)} \\\\\n",
    "    \\frac{2i + 8 + 3i^2 + 12i}{-i^2 + 16} \\\\\n",
    "    \\frac{14i + 8 + 3(-1)}{16 + (-1)} \\\\\n",
    "    \\frac{14i + 8 - 3}{16 - 1} \\\\ \\\\\n",
    "\n",
    "    \\boxed{\\frac{14i + 5}{15}}\n",
    "\\end{gather*}"
   ]
  }
 ],
 "metadata": {
  "language_info": {
   "name": "python"
  }
 },
 "nbformat": 4,
 "nbformat_minor": 5
}
