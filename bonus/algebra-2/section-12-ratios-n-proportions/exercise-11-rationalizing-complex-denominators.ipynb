{
 "cells": [
  {
   "cell_type": "markdown",
   "id": "cebeb46b",
   "metadata": {},
   "source": [
    "## Exercise 11: Rationalizing Complex Denominators"
   ]
  },
  {
   "cell_type": "markdown",
   "id": "fd5fe08d",
   "metadata": {},
   "source": [
    "> 1. Use the conjugate method to simplify the imaginary expression.\n",
    "\n",
    "\\begin{gather*}\n",
    "    \\frac{2 + 6i}{3 - 1} \\\\ \\\\\n",
    "\\end{gather*}"
   ]
  },
  {
   "cell_type": "markdown",
   "id": "73359acf",
   "metadata": {},
   "source": [
    "> 2. Use the conjugate method to simplify the imaginary expression.\n",
    "\n",
    "\\begin{gather*}\n",
    "    \\frac{2 - 2i}{4i - 1} \\\\ \\\\\n",
    "\n",
    "\\end{gather*}"
   ]
  },
  {
   "cell_type": "markdown",
   "id": "f406b9ae",
   "metadata": {},
   "source": [
    "> 3. Use the conjugate method to simplify the imaginary expression.\n",
    "\n",
    "\\begin{gather*}\n",
    "    \\frac{3i + 2i^2}{5i^3 + 4i^4} \\\\ \\\\\n",
    "\\end{gather*}"
   ]
  },
  {
   "cell_type": "markdown",
   "id": "dcf439a6",
   "metadata": {},
   "source": [
    "> 4. Use the conjugate method to simplify the imaginary expression.\n",
    "\n",
    "\\begin{gather*}\n",
    "    \\frac{2i + 4i^2}{6 - 6i} \\\\ \\\\\n",
    "\\end{gather*}"
   ]
  },
  {
   "cell_type": "markdown",
   "id": "4e0dab2d",
   "metadata": {},
   "source": [
    "> 5. Use the conjugate method to simplify the imaginary expression.\n",
    "\n",
    "\\begin{gather*}\n",
    "    \\frac{\\sqrt{-5}\\sqrt{-5} - 7i^3}{3 + i} \\\\ \\\\\n",
    "\\end{gather*}"
   ]
  },
  {
   "cell_type": "markdown",
   "id": "fe78304a",
   "metadata": {},
   "source": [
    "> 6. Use the conjugate method to simplify the imaginary expression.\n",
    "\n",
    "\\begin{gather*}\n",
    "    \\frac{\\sqrt{-2}\\sqrt{-2} + 3i^3}{i - 4} \\\\ \\\\\n",
    "\\end{gather*}"
   ]
  }
 ],
 "metadata": {
  "language_info": {
   "name": "python"
  }
 },
 "nbformat": 4,
 "nbformat_minor": 5
}
