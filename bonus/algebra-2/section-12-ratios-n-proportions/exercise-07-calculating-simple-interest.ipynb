{
 "cells": [
  {
   "cell_type": "markdown",
   "id": "27a55793",
   "metadata": {},
   "source": [
    "## Exercise 7: Calculating Simple Interest"
   ]
  },
  {
   "cell_type": "markdown",
   "id": "fbc0df14",
   "metadata": {},
   "source": [
    "> 1. If we deposit $\\$300$ into a savings account and it earns $2\\%$ in simple\n",
    "interest, how much interest will we earn on the account in $7$ years?"
   ]
  },
  {
   "cell_type": "markdown",
   "id": "5365898e",
   "metadata": {},
   "source": [
    "> 2. If we invest $\\$500$ that earns $13\\%$ in simple interest, how much interest\n",
    "will we earn in $12$ years?"
   ]
  },
  {
   "cell_type": "markdown",
   "id": "e4ede558",
   "metadata": {},
   "source": [
    "> 3. What is the simple interest rate if we invest $\\$7\\text{,}000$ and earn $\\$3\\text{,}250$ in\n",
    "interest in $15$ years?"
   ]
  },
  {
   "cell_type": "markdown",
   "id": "52ae6b7a",
   "metadata": {},
   "source": [
    "> 4. If we deposit $\\$275$ into a savings account that earns $4\\%$ simple\n",
    "interest, how much is in the account after $2$ years?"
   ]
  },
  {
   "cell_type": "markdown",
   "id": "8903c4a3",
   "metadata": {},
   "source": [
    "> 5. If we invest $\\$450$ that earns $15\\%$ simple interest, how many years will it\n",
    "take to have $\\$1\\text{,}800$ in the account?"
   ]
  },
  {
   "cell_type": "markdown",
   "id": "7c18228f",
   "metadata": {},
   "source": [
    "> 6. If we invest $\\$1,230$ that earns $14\\%$ simple interest, how much is in the\n",
    "account after $10$ years?"
   ]
  }
 ],
 "metadata": {
  "language_info": {
   "name": "python"
  }
 },
 "nbformat": 4,
 "nbformat_minor": 5
}
