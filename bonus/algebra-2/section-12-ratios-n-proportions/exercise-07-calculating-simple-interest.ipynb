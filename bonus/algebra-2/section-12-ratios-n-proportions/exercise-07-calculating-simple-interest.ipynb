{
 "cells": [
  {
   "cell_type": "markdown",
   "id": "27a55793",
   "metadata": {},
   "source": [
    "## Exercise 7: Calculating Simple Interest"
   ]
  },
  {
   "cell_type": "markdown",
   "id": "fbc0df14",
   "metadata": {},
   "source": [
    "> 1. If we deposit $\\$300$ into a savings account and it earns $2\\%$ in simple\n",
    "interest, how much interest will we earn on the account in $7$ years?\n",
    "\n",
    "\\begin{gather*}\n",
    "    I = Prt \\\\ \\\\\n",
    "\n",
    "    I = (300)(2\\%)(7) \\\\\n",
    "    I = (300)(0.02)(7) \\\\\n",
    "    I = 6(7) \\\\ \\\\\n",
    "\n",
    "    \\boxed{I = 42}\n",
    "\\end{gather*}"
   ]
  },
  {
   "cell_type": "markdown",
   "id": "5365898e",
   "metadata": {},
   "source": [
    "> 2. If we invest $\\$500$ that earns $13\\%$ in simple interest, how much interest\n",
    "will we earn in $12$ years?\n",
    "\n",
    "\\begin{gather*}\n",
    "    I = Prt \\\\ \\\\\n",
    "\n",
    "    I = (500)(13\\%)(12) \\\\\n",
    "    I = (500)(0.13)(12) \\\\\n",
    "    I = 65(12) \\\\ \\\\\n",
    "\n",
    "    \\boxed{I = 780}\n",
    "\\end{gather*}"
   ]
  },
  {
   "cell_type": "markdown",
   "id": "e4ede558",
   "metadata": {},
   "source": [
    "> 3. What is the simple interest rate if we invest $\\$7\\text{,}000$ and earn $\\$3\\text{,}250$ in\n",
    "interest in $15$ years?\n",
    "\n",
    "\\begin{gather*}\n",
    "    3250 = 7000(r)15 \\\\ \\\\\n",
    "\n",
    "    3250 = 105000r \\\\\n",
    "    \\frac{3250 = 105000r}{105000} \\\\\n",
    "    r = 0.03095 \\\\ \\\\\n",
    "\n",
    "    \\boxed{r = 3.1\\%}\n",
    "\\end{gather*}"
   ]
  },
  {
   "cell_type": "markdown",
   "id": "52ae6b7a",
   "metadata": {},
   "source": [
    "> 4. If we deposit $\\$275$ into a savings account that earns $4\\%$ simple\n",
    "interest, how much is in the account after $2$ years?\n",
    "\n",
    "\\begin{gather*}\n",
    "    A = P(1 + rt) \\\\ \\\\\n",
    "\n",
    "    A = 275(1 + (4\\%)(2)) \\\\\n",
    "    A = 275(1 + (0.04)(2)) \\\\\n",
    "    A = 275(1 + 0.08) \\\\\n",
    "    A = 275(1.08) \\\\ \\\\\n",
    "\n",
    "    \\boxed{A = 297}\n",
    "\\end{gather*}\n"
   ]
  },
  {
   "cell_type": "markdown",
   "id": "8903c4a3",
   "metadata": {},
   "source": [
    "> 5. If we invest $\\$450$ that earns $15\\%$ simple interest, how many years will it\n",
    "take to have $\\$1\\text{,}800$ in the account?\n",
    "\n",
    "\\begin{gather*}\n",
    "    A = P(1 + rt) \\\\ \\\\\n",
    "\n",
    "    1800 = 450(1 + (15\\%)t) \\\\\n",
    "    1800 = 450(1 + 0.15t) \\\\\n",
    "    1800 = 450 + 67.5t \\\\\n",
    "    67.5t = 1800 - 450 \\\\\n",
    "    67.5t = 1350 \\\\\n",
    "    \\frac{67.5t = 1350}{67.5} \\\\ \\\\\n",
    "\n",
    "    \\boxed{t = 20}\n",
    "\\end{gather*}"
   ]
  },
  {
   "cell_type": "markdown",
   "id": "7c18228f",
   "metadata": {},
   "source": [
    "> 6. If we invest $\\$1,230$ that earns $14\\%$ simple interest, how much is in the\n",
    "account after $10$ years?\n",
    "\n",
    "\\begin{gather*}\n",
    "    A = P(1 + rt) \\\\ \\\\\n",
    "\n",
    "    A = 1230(1 + (14\\%)(10)) \\\\\n",
    "    A = 1230(1 + (0.14)(10)) \\\\\n",
    "    A = 1230(1 + 1.4) \\\\\n",
    "    A = 1230(2.4) \\\\ \\\\\n",
    "\n",
    "    \\boxed{A = 2952}\n",
    "\\end{gather*}"
   ]
  }
 ],
 "metadata": {
  "language_info": {
   "name": "python"
  }
 },
 "nbformat": 4,
 "nbformat_minor": 5
}
