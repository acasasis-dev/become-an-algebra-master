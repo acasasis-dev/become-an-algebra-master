{
 "cells": [
  {
   "cell_type": "markdown",
   "id": "27d36af5",
   "metadata": {},
   "source": [
    "## Exercise 8: Complex Fractions"
   ]
  },
  {
   "cell_type": "markdown",
   "id": "7128b0d4",
   "metadata": {},
   "source": [
    "> 1. Simplify the expression.\n",
    "\n",
    "\\begin{gather*}\n",
    "    \\frac{\\frac{3}{5}}{\\frac{2}{7}} \\\\ \\\\\n",
    "    \n",
    "    \\frac{3}{5} \\cdot \\frac{7}{2} \\\\ \\\\\n",
    "\n",
    "    \\boxed{\\frac{21}{10}}\n",
    "\\end{gather*}"
   ]
  },
  {
   "cell_type": "markdown",
   "id": "d570d58a",
   "metadata": {},
   "source": [
    "> 2. Simplify the expression.\n",
    "\n",
    "\\begin{gather*}\n",
    "    \\frac{y}{\\frac{x}{z}} \\\\ \\\\\n",
    "\n",
    "    y \\cdot \\frac{z}{x} \\\\ \\\\\n",
    "\n",
    "    \\boxed{\\frac{yz}{x}}\n",
    "\\end{gather*}"
   ]
  },
  {
   "cell_type": "markdown",
   "id": "a35230bd",
   "metadata": {},
   "source": [
    "> 3. Simplify the expression.\n",
    "\n",
    "\\begin{gather*}\n",
    "    \\frac{\\frac{x}{b}}{n} \\\\ \\\\\n",
    "\n",
    "    \\frac{x}{b} \\cdot \\frac{1}{n} \\\\ \\\\\n",
    "\n",
    "    \\boxed{\\frac{x}{nb}}\n",
    "\\end{gather*}"
   ]
  },
  {
   "cell_type": "markdown",
   "id": "9011730c",
   "metadata": {},
   "source": [
    "> 4. Simplify the expression.\n",
    "\n",
    "\\begin{gather*}\n",
    "    \\frac{\\frac{a}{m}}{n + \\frac{1}{b}} \\\\ \\\\\n",
    "\n",
    "    \\frac{\\frac{a}{m}}{\\frac{b}{b}(n) + \\frac{1}{b}} \\\\\n",
    "    \\frac{\\frac{a}{m}}{\\frac{nb}{b} + \\frac{1}{b}} \\\\\n",
    "    \\frac{\\frac{a}{m}}{\\frac{nb + 1}{b}} \\\\\n",
    "    \\frac{a}{m} \\cdot \\frac{b}{nb + 1} \\\\ \\\\\n",
    "    \\frac{ab}{m(nb + 1)} \\\\ \\\\\n",
    "\n",
    "    \\boxed{\\frac{ab}{mnb + m}}\n",
    "\\end{gather*}"
   ]
  },
  {
   "cell_type": "markdown",
   "id": "031cc13c",
   "metadata": {},
   "source": [
    "> 5. Simplify the expression.\n",
    "\n",
    "\\begin{gather*}\n",
    "    \\frac{\\frac{1}{y} - \\frac{1}{x}}{1 - \\frac{1}{y}} \\\\ \\\\\n",
    "\n",
    "    \\frac{\\frac{1}{y} - \\frac{1}{x}}{\\frac{y}{y}(1) - \\frac{1}{y}} \\\\\n",
    "    \\frac{\\frac{1}{y} - \\frac{1}{x}}{\\frac{y}{y} - \\frac{1}{y}} \\\\\n",
    "    \\frac{\\frac{1}{y} - \\frac{1}{x}}{\\frac{y - 1}{y}} \\\\\n",
    "    \\frac{\\frac{x}{x}\\left(\\frac{1}{y}\\right) - \\frac{y}{y}\\left(\\frac{1}{x}\\right)}{\\frac{y - 1}{y}} \\\\\n",
    "    \\frac{\\frac{x}{xy} - \\frac{y}{xy}}{\\frac{y - 1}{y}} \\\\\n",
    "    \\frac{\\frac{x - y}{xy}}{\\frac{y - 1}{y}} \\\\\n",
    "    \\frac{x - y}{xy} \\cdot \\frac{y}{y - 1} \\\\ \\\\\n",
    "    \\frac{x - y}{x} \\cdot {1}{y - 1} \\\\\n",
    "    \\frac{x - y}{x(y - 1)} \\\\ \\\\\n",
    "\n",
    "    \\boxed{\\frac{x - y}{xy - x}}\n",
    "\\end{gather*}"
   ]
  },
  {
   "cell_type": "markdown",
   "id": "67f08a2e",
   "metadata": {},
   "source": [
    "6. Simplify the expression.\n",
    "\n",
    "\\begin{gather*}\n",
    "    \\frac{\\frac{1}{a - 5} - \\frac{1}{a + 5}}{\\frac{5}{a + 5}} \\\\ \\\\\n",
    "\n",
    "    \\frac{\\frac{a + 5}{a + 5}\\left(\\frac{1}{a - 5}\\right) - \\frac{a - 5}{a - 5}\\left(\\frac{1}{a + 5}\\right)}{\\frac{5}{a + 5}} \\\\\n",
    "    \\frac{a + 5}{a^2 - 25} - \\frac{a - 5}{a^2 - 25} \\cdot \\frac{a + 5}{5} \\\\\n",
    "    \\frac{a + 5 - a + 5}{a^2 - 25} \\cdot \\frac{a + 5}{5} \\\\\n",
    "    \\frac{10}{a^2 - 25} \\cdot \\frac{a + 5}{5} \\\\\n",
    "    \\frac{10}{(a - 5)(a + 5)} \\cdot \\frac{a + 5}{5} \\\\\n",
    "    \\frac{10}{5(a - 5)} \\\\\n",
    "    \\frac{10}{5a - 25} \\\\ \\\\\n",
    "\n",
    "    \\boxed{\\frac{2}{a - 5}}\n",
    "\\end{gather*}"
   ]
  }
 ],
 "metadata": {
  "language_info": {
   "name": "python"
  }
 },
 "nbformat": 4,
 "nbformat_minor": 5
}
