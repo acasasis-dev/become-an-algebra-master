{
 "cells": [
  {
   "cell_type": "markdown",
   "id": "27d36af5",
   "metadata": {},
   "source": [
    "## Exercise 8: Complex Fractions"
   ]
  },
  {
   "cell_type": "markdown",
   "id": "7128b0d4",
   "metadata": {},
   "source": [
    "> 1. Simplify the expression.\n",
    "\n",
    "\\begin{gather*}\n",
    "    \\frac{\\frac{3}{5}}{\\frac{2}{7}} \\\\ \\\\\n",
    "\\end{gather*}"
   ]
  },
  {
   "cell_type": "markdown",
   "id": "d570d58a",
   "metadata": {},
   "source": [
    "> 2. Simplify the expression.\n",
    "\n",
    "\\begin{gather*}\n",
    "    \\frac{y}{\\frac{x}{z}} \\\\ \\\\\n",
    "\\end{gather*}"
   ]
  },
  {
   "cell_type": "markdown",
   "id": "a35230bd",
   "metadata": {},
   "source": [
    "> 3. Simplify the expression.\n",
    "\n",
    "\\begin{gather*}\n",
    "    \\frac{\\frac{x}{b}}{n} \\\\ \\\\\n",
    "\\end{gather*}"
   ]
  },
  {
   "cell_type": "markdown",
   "id": "9011730c",
   "metadata": {},
   "source": [
    "> 4. Simplify the expression.\n",
    "\n",
    "\\begin{gather*}\n",
    "    \\frac{\\frac{a}{m}}{n + \\frac{1}{b}} \\\\ \\\\\n",
    "\\end{gather*}"
   ]
  },
  {
   "cell_type": "markdown",
   "id": "031cc13c",
   "metadata": {},
   "source": [
    "> 5. Simplify the expression.\n",
    "\n",
    "\\begin{gather*}\n",
    "    \\frac{\\frac{1}{y} - \\frac{1}{x}}{1 - \\frac{1}{y}} \\\\ \\\\\n",
    "\\end{gather*}"
   ]
  },
  {
   "cell_type": "markdown",
   "id": "67f08a2e",
   "metadata": {},
   "source": [
    "6. Simplify the expression.\n",
    "\n",
    "\\begin{gather*}\n",
    "    \\frac{\\frac{1}{a - 5} - \\frac{1}{a + 5}}{\\frac{5}{a + 5}} \\\\ \\\\\n",
    "\\end{gather*}"
   ]
  }
 ],
 "metadata": {
  "language_info": {
   "name": "python"
  }
 },
 "nbformat": 4,
 "nbformat_minor": 5
}
