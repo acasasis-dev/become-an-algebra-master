{
 "cells": [
  {
   "cell_type": "markdown",
   "id": "46f8d87b",
   "metadata": {},
   "source": [
    "## Exercise 4: Multiplying Rational Functions"
   ]
  },
  {
   "cell_type": "markdown",
   "id": "d75c898a",
   "metadata": {},
   "source": [
    "> 1. Simplify the expression.\n",
    "\n",
    "\\begin{gather*}\n",
    "    \\frac{25x^2 - 4}{x^2 - 36} \\cdot \\frac{x + 6}{5x - 2} \\\\ \\\\\n",
    "\n",
    "    \\frac{(5x - 2)(5x + 2)}{(x - 6)(x + 6)} \\cdot \\frac{x + 6}{5x - 2} \\\\\n",
    "    \\frac{\\cancel{(5x - 2)}(5x + 2)}{(x - 6)\\cancel{(x + 6)}} \\cdot \\frac{\\cancel{x + 6}}{\\cancel{5x - 2}} \\\\\n",
    "    \\boxed{\\frac{5x + 2}{x - 6}}\n",
    "\\end{gather*}"
   ]
  },
  {
   "cell_type": "markdown",
   "id": "a683e146",
   "metadata": {},
   "source": [
    "> 2. Simplify the expression.\n",
    "\n",
    "\\begin{gather*}\n",
    "    \\frac{4x^2 - 49}{9x^2 - 16} \\cdot \\frac{3x + 4}{2x + 7} \\\\ \\\\\n",
    "\n",
    "    \\frac{(2x - 7)(2x + 7)}{(3x - 4)(3x + 4)} \\cdot \\frac{3x + 4}{2x + 7} \\\\\n",
    "    \\frac{\\cancel{(2x - 7)}(2x + 7)}{(3x - 4)\\cancel{(3x + 4)}} \\cdot \\frac{\\cancel{3x + 4}}{\\cancel{2x + 7}} \\\\\n",
    "    \\boxed{\\frac{2x + 7}{3x - 4}}\n",
    "\\end{gather*}"
   ]
  },
  {
   "cell_type": "markdown",
   "id": "906d7825",
   "metadata": {},
   "source": [
    "> 3. Simplify the expression.\n",
    "\n",
    "\\begin{gather*}\n",
    "    \\frac{x^2 + 8x + 16}{9x^2 + 36x + 36} \\cdot \\frac{3x + 6}{x + 4} \\\\ \\\\\n",
    "\n",
    "    \\frac{(x + 4)(x + 4)}{9(x^2 + 4x + 4)} \\cdot \\frac{3x + 6}{x + 4} \\\\\n",
    "    \\frac{(x + 4)(x + 4)}{3(3x + 6)(x + 2)} \\cdot \\frac{3x + 6}{x + 4} \\\\\n",
    "    \\frac{\\cancel{(x + 4)}(x + 4)}{3\\cancel{(3x + 6)}(x + 2)} \\cdot \\frac{\\cancel{3x + 6}}{\\cancel{x + 4}} \\\\\n",
    "    \\boxed{\\frac{x + 4}{3(x + 2)}}\n",
    "    \n",
    "\\end{gather*}"
   ]
  },
  {
   "cell_type": "markdown",
   "id": "f0a1a7da",
   "metadata": {},
   "source": [
    "> 4. Simplify the expression.\n",
    "\n",
    "\\begin{gather*}\n",
    "    \\frac{16x^2 + 16x + 4}{x^2 + 18x + 81} \\cdot \\frac{x^2 - 81}{16x^2 - 4} \\\\ \\\\\n",
    "\\end{gather*}"
   ]
  },
  {
   "cell_type": "markdown",
   "id": "3dab33ec",
   "metadata": {},
   "source": [
    "> 5. Simplify the expression.\n",
    "\n",
    "\\begin{gather*}\n",
    "    \\frac{x^2 + 5x - 14}{x^2 + 2x - 3} \\cdot \\frac{x^2 + 4x - 5}{x^2 + 9x + 14} \\\\ \\\\\n",
    "\\end{gather*}"
   ]
  },
  {
   "cell_type": "markdown",
   "id": "437c4080",
   "metadata": {},
   "source": [
    "> 6. Simplify the expression.\n",
    "\n",
    "\\begin{gather*}\n",
    "    \\frac{2x^2 - 13x - 24}{3x^2 - x - 4} \\cdot \\frac{3x^2 - 7x + 4}{x^2 - 6x - 16} \\\\ \\\\\n",
    "\\end{gather*}"
   ]
  }
 ],
 "metadata": {
  "language_info": {
   "name": "python"
  }
 },
 "nbformat": 4,
 "nbformat_minor": 5
}
