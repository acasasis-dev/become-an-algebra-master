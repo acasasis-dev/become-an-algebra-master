{
 "cells": [
  {
   "cell_type": "markdown",
   "id": "c3f4431c",
   "metadata": {},
   "source": [
    "## Exercise 3: Factoring To Find a Common Denominator"
   ]
  },
  {
   "cell_type": "markdown",
   "id": "dd434fa4",
   "metadata": {},
   "source": [
    "> 1. Simplify the expression by combining the two fractions.\n",
    "\n",
    "\\begin{gather*}\n",
    "    \\frac{x + 1}{2x^2 + 5x - 3} + \\frac{2}{x + 3} \\\\ \\\\\n",
    "\n",
    "    \\frac{x + 1}{(x + 3)(2x - 1)} + \\frac{2}{x + 3} \\\\\n",
    "    \\frac{x + 1}{2x^2 + 5x - 3} + \\left(\\frac{2}{x + 3}\\right) \\frac{2x - 1}{2x - 1} \\\\\n",
    "    \\frac{x + 1}{2x^2 + 5x - 3} + \\frac{4x - 2}{2x^2 + 5x - 3} \\\\\n",
    "    \\frac{x + 1 + 4x - 2}{2x^2 + 5x - 3} \\\\\n",
    "    \\boxed{\\frac{5x - 1}{2x^2 + 5x - 3}}\n",
    "\\end{gather*}"
   ]
  },
  {
   "cell_type": "markdown",
   "id": "c1ad5d22",
   "metadata": {},
   "source": [
    "> 2. What is the common denominator of the rational expressions?\n",
    "\n",
    "\\begin{gather*}\n",
    "    \\frac{x^2 - 1}{x^2 - 4} \\ \\text{and} \\ \\frac{x + 1}{3x^2 - 3x - 6} \\\\ \\\\\n",
    "\n",
    "    \\frac{x^2 - 1}{x^2 - 4} \\\\\n",
    "    \\frac{(x - 1)(x + 1)}{(x - 2)(x + 2)} \\\\ \\\\\n",
    "\n",
    "    \\frac{x + 1}{3x^2 - 3x - 6} \\\\\n",
    "    \\frac{x + 1}{3(x^2 - x - 2)} \\\\\n",
    "    \\frac{x + 1}{3(x - 2)(x + 1)} \\\\\n",
    "    \\frac{1}{3(x - 2)} \\\\ \\\\\n",
    "\n",
    "    \\boxed{3(x - 2)(x + 2)}\n",
    "\\end{gather*}"
   ]
  },
  {
   "cell_type": "markdown",
   "id": "0670bf66",
   "metadata": {},
   "source": [
    "> 3. Simplify the expression by combining the two fractions.\n",
    "\n",
    "\\begin{gather*}\n",
    "    \\frac{3}{x - 2} - \\frac{x - 4}{x^2 - 5x + 6} \\\\ \\\\\n",
    "\n",
    "    \\frac{3}{x - 2} - \\frac{x - 4}{(x - 3)(x - 2)} \\\\\n",
    "    \\left(\\frac{3}{x - 2}\\right) \\frac{x - 3}{x - 3} - \\frac{x - 4}{x^2 - 5x + 6} \\\\\n",
    "    \\frac{3x - 9}{x^2 - 5x + 6} - \\frac{x - 4}{x^2 - 5x + 6} \\\\\n",
    "    \\frac{3x - 9 - x + 4}{x^2 - 5x + 6} \\\\\n",
    "    \\boxed{\\frac{2x - 5}{x^2 - 5x + 6}}\n",
    "\\end{gather*}"
   ]
  },
  {
   "cell_type": "markdown",
   "id": "238e6eef",
   "metadata": {},
   "source": [
    "> 4. Fill in the blank with the correct expression.\n",
    "\n",
    "\\begin{gather*}\n",
    "    \\frac{2}{\\_\\_\\_\\_} - \\frac{x - 2}{x^2 - 9} = \\frac{2(x - 3) - 4(x - 2)}{4(x - 3)(x + 3)} \\\\ \\\\\n",
    "\n",
    "    \\frac{2}{\\_\\_\\_\\_} - \\frac{x - 2}{(x - 3)(x + 3)} = \\frac{2(x - 3)}{4(x - 3)(x + 3)} - \\frac{4(x - 2)}{{4(x - 3)(x + 3)}} \\\\\n",
    "    \\frac{2}{\\_\\_\\_\\_} - \\frac{x - 2}{(x - 3)(x + 3)} = \\frac{2}{4(x + 3)} - \\frac{(x - 2)}{{(x - 3)(x + 3)}} \\\\ \\\\\n",
    "\n",
    "    \\boxed{4(x + 3)}\n",
    "\\end{gather*}"
   ]
  },
  {
   "cell_type": "markdown",
   "id": "77e23ebb",
   "metadata": {},
   "source": [
    "> 5. Simplify the expression by combining the two fractions.\n",
    "\n",
    "\\begin{gather*}\n",
    "    \\frac{4}{x^2 - 2x - 3} - \\frac{1}{x^2 + 5x + 4} \\\\ \\\\\n",
    "\n",
    "    \\frac{4}{(x - 3)(x + 1)} - \\frac{1}{(x + 1)(x + 4)} \\\\\n",
    "    \\left(\\frac{4}{(x - 3)(x + 1)}\\right) \\frac{(x + 4)}{(x + 4)} - \\left(\\frac{1}{(x + 1)(x + 4)}\\right) \\frac{(x - 3)}{(x - 3)} \\\\\n",
    "    \\frac{4x + 16}{(x - 3)(x + 1)(x + 4)} - \\frac{x - 3}{(x + 1)(x + 4)(x - 3)} \\\\\n",
    "    \\frac{4x + 16 - x + 3}{(x - 3)(x + 1)(x + 4)} \\\\\n",
    "    \\boxed{\\frac{3x + 19}{(x - 3)(x + 1)(x + 4)}}\n",
    "\\end{gather*}"
   ]
  },
  {
   "cell_type": "markdown",
   "id": "87ea084c",
   "metadata": {},
   "source": [
    "> 6. What went wrong in the following simplification?\n",
    "\n",
    "\\begin{gather*}\n",
    "    \\frac{3}{x^2 - 25} - \\frac{1}{x + 5} \\\\\n",
    "    \\frac{3 - x - 5}{(x - 5)(x + 5)} \\\\ \\\\\n",
    "\n",
    "    \\frac{3}{x^2 - 25} - \\frac{1}{x + 5} \\\\\n",
    "    \\frac{3}{(x - 5)(x + 5)} - \\frac{1}{x + 5} \\\\\n",
    "    \\frac{3}{(x - 5)(x + 5)} - \\left(\\frac{1}{x + 5}\\right) \\frac{(x - 5)}{(x - 5)} \\\\\n",
    "    \\frac{3}{(x - 5)(x + 5)} - \\frac{x - 5}{(x - 5)(x + 5)} \\\\\n",
    "    \\frac{3 - x + 5}{(x - 5)(x + 5)} \\\\\n",
    "    \\boxed{\\frac{8 - x}{(x - 5)(x + 5)}}\n",
    "\\end{gather*}\n",
    "\n",
    "Numerator should be $3 - x + 5$"
   ]
  }
 ],
 "metadata": {
  "language_info": {
   "name": "python"
  }
 },
 "nbformat": 4,
 "nbformat_minor": 5
}
