{
 "cells": [
  {
   "cell_type": "markdown",
   "id": "bdc0a8b5",
   "metadata": {},
   "source": [
    "## Exercise 1: Simplifying Rational Functions"
   ]
  },
  {
   "cell_type": "markdown",
   "id": "fde54fc6",
   "metadata": {},
   "source": [
    "> 1. Simplify the rational function to lowest terms.\n",
    "\n",
    "\\begin{gather*}\n",
    "    \\frac{x^4 + x^2 - 6x^2}{x^3 + x^2 - 2x} \\\\ \\\\\n",
    "\\end{gather*}"
   ]
  },
  {
   "cell_type": "markdown",
   "id": "0aca12f2",
   "metadata": {},
   "source": [
    "> 2. Reduce the fraction to its lowest terms.\n",
    "\n",
    "\\begin{gather*}\n",
    "    \\frac{10x^2 - 5x + 20}{15x^2} \\\\ \\\\\n",
    "\\end{gather*}"
   ]
  },
  {
   "cell_type": "markdown",
   "id": "c71b74bf",
   "metadata": {},
   "source": [
    "> 3. Reduce the fraction to its lowest terms.\n",
    "\n",
    "\\begin{gather*}\n",
    "    \\frac{18y^2 + 6y}{8y} \\\\ \\\\\n",
    "\\end{gather*}"
   ]
  },
  {
   "cell_type": "markdown",
   "id": "35c5493d",
   "metadata": {},
   "source": [
    "> 4. Simplify each expression in the difference.\n",
    "\n",
    "\\begin{gather*}\n",
    "    \\frac{3ab + 2a^2b^2}{5ab} - \\frac{12a^3b^3 + 3a^2b^2}{6a^2b^2} \\\\ \\\\\n",
    "\\end{gather*}"
   ]
  },
  {
   "cell_type": "markdown",
   "id": "f12311d2",
   "metadata": {},
   "source": [
    "> 5. Simplify each expression in the sum.\n",
    "\n",
    "\\begin{gather*}\n",
    "    \\frac{2ab^2 + 3a^2b^3}{a^3b^3} + \\frac{2ab^3 + b^4}{ab^3} \\\\ \\\\\n",
    "\\end{gather*}"
   ]
  },
  {
   "cell_type": "markdown",
   "id": "d0071d09",
   "metadata": {},
   "source": [
    "> 6. Simplify each expression in the difference.\n",
    "\n",
    "\\begin{gather*}\n",
    "    \\frac{21x^2y^2}{14x^3y} - \\frac{24xy + 12y}{96y} \\\\ \\\\\n",
    "\\end{gather*}"
   ]
  }
 ],
 "metadata": {
  "language_info": {
   "name": "python"
  }
 },
 "nbformat": 4,
 "nbformat_minor": 5
}
