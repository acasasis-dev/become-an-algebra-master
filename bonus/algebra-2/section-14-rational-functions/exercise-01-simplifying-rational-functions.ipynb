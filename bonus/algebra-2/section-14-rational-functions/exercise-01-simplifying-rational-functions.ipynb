{
 "cells": [
  {
   "cell_type": "markdown",
   "id": "bdc0a8b5",
   "metadata": {},
   "source": [
    "## Exercise 1: Simplifying Rational Functions"
   ]
  },
  {
   "cell_type": "markdown",
   "id": "fde54fc6",
   "metadata": {},
   "source": [
    "> 1. Simplify the rational function to lowest terms.\n",
    "\n",
    "\\begin{gather*}\n",
    "    \\frac{x^4 + x^2 - 6x^2}{x^3 + x^2 - 2x} \\\\ \\\\\n",
    "\n",
    "    \\frac{x^2(x^2 + x - 6)}{x(x^2 + x - 2)} \\\\\n",
    "    \\frac{x^2(x + 3)(x - 2)}{x(x + 2)(x - 1)} \\\\\n",
    "    \\boxed{\\frac{x(x + 3)(x - 2)}{(x + 2)(x - 1)}}\n",
    "\\end{gather*}"
   ]
  },
  {
   "cell_type": "markdown",
   "id": "0aca12f2",
   "metadata": {},
   "source": [
    "> 2. Reduce the fraction to its lowest terms.\n",
    "\n",
    "\\begin{gather*}\n",
    "    \\frac{10x^2 - 5x + 20}{15x^2} \\\\ \\\\\n",
    "    \n",
    "    \\frac{5(2x^2 - x + 4)}{5(3x^2)} \\\\\n",
    "    \\boxed{\\frac{2x^2 - x + 4}{3x^2}}\n",
    "\\end{gather*}"
   ]
  },
  {
   "cell_type": "markdown",
   "id": "c71b74bf",
   "metadata": {},
   "source": [
    "> 3. Reduce the fraction to its lowest terms.\n",
    "\n",
    "\\begin{gather*}\n",
    "    \\frac{18y^2 + 6y}{8y} \\\\ \\\\\n",
    "\n",
    "    \\frac{2y(9y^2 + 3y)}{2y(4)} \\\\\n",
    "    \\boxed{\\frac{9y^2 + 3y}{4}}\n",
    "\\end{gather*}"
   ]
  },
  {
   "cell_type": "markdown",
   "id": "35c5493d",
   "metadata": {},
   "source": [
    "> 4. Simplify each expression in the difference.\n",
    "\n",
    "\\begin{gather*}\n",
    "    \\frac{3ab + 2a^2b^2}{5ab} - \\frac{12a^3b^3 + 3a^2b^2}{6a^2b^2} \\\\ \\\\\n",
    "\n",
    "    \\frac{ab(3 + 2ab)}{5ab} - \\frac{a^2b^2(12ab + 3)}{a^2b^2(6)} \\\\\n",
    "    \\frac{3 + 2ab}{5} - \\frac{12ab + 3}{6} \\\\\n",
    "    \\boxed{\\frac{3 + 2ab}{5} - \\frac{4ab + 1}{2}}\n",
    "\\end{gather*}"
   ]
  },
  {
   "cell_type": "markdown",
   "id": "f12311d2",
   "metadata": {},
   "source": [
    "> 5. Simplify each expression in the sum.\n",
    "\n",
    "\\begin{gather*}\n",
    "    \\frac{2ab^2 + 3a^2b^3}{a^3b^3} + \\frac{2ab^3 + b^4}{ab^3} \\\\ \\\\\n",
    "\n",
    "    \\frac{ab^2(2 + 3ab)}{ab^2(a^2b)} + \\frac{b^3(2a + b)}{b^3(a)} \\\\\n",
    "    \\boxed{\\frac{2 + 3ab}{a^2b} + \\frac{2a + b}{a}}\n",
    "\\end{gather*}"
   ]
  },
  {
   "cell_type": "markdown",
   "id": "d0071d09",
   "metadata": {},
   "source": [
    "> 6. Simplify each expression in the difference.\n",
    "\n",
    "\\begin{gather*}\n",
    "    \\frac{21x^2y^2}{14x^3y} - \\frac{24xy + 12y}{96y} \\\\ \\\\\n",
    "\n",
    "    \\frac{7x^2y(3y)}{7x^2y(2x)} - \\frac{12y(2x + 1)}{12y(8)} \\\\\n",
    "    \\boxed{\\frac{3y}{2x} - \\frac{2x + 1}{8}}\n",
    "\\end{gather*}"
   ]
  }
 ],
 "metadata": {
  "language_info": {
   "name": "python"
  }
 },
 "nbformat": 4,
 "nbformat_minor": 5
}
