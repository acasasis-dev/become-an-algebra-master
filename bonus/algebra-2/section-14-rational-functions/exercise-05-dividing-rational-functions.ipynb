{
 "cells": [
  {
   "cell_type": "markdown",
   "id": "d5b98465",
   "metadata": {},
   "source": [
    "## Exercise 5: Dividing Rational Functions"
   ]
  },
  {
   "cell_type": "markdown",
   "id": "bcf46af3",
   "metadata": {},
   "source": [
    "> 1. Simplify the expression.\n",
    "\n",
    "\\begin{gather*}\n",
    "    \\frac{2x + 16}{9x^2 + 27x} \\div \\frac{3x + 24}{x + 3} \\\\ \\\\\n",
    "    \n",
    "    \\frac{2x + 16}{9x^2 + 27x} \\cdot \\frac{x + 3}{3x + 24} \\\\\n",
    "    \\frac{2(x + 8)}{9x(x + 3)} \\cdot \\frac{x + 3}{3(x + 8)} \\\\\n",
    "    \\frac{2\\cancel{(x + 8)}}{9x\\cancel{(x + 3)}} \\cdot \\frac{\\cancel{x + 3}}{3\\cancel{(x + 8)}} \\\\\n",
    "    \\frac{2}{9x \\cdot 3} \\\\ \\\\\n",
    "\n",
    "    \\boxed{\\frac{2}{27x}}\n",
    "\\end{gather*}"
   ]
  },
  {
   "cell_type": "markdown",
   "id": "84420102",
   "metadata": {},
   "source": [
    "> 2. Simplify the expression.\n",
    "\n",
    "\\begin{gather*}\n",
    "    \\frac{3x^3 - 3x^2 - 6x}{2x^2 - 14x + 24} \\div \\frac{3x^2 + 21x}{x^2 - 8x + 15} \\\\ \\\\\n",
    "\n",
    "    \\frac{3x^3 - 3x^2 - 6x}{2x^2 - 14x + 24} \\cdot \\frac{x^2 - 8x + 15}{3x^2 + 21x} \\\\\n",
    "    \\frac{3x(x^2 - x - 2)}{2(x^2 - 7x + 12)} \\cdot \\frac{(x - 5)(x - 3)}{3x(x + 7)} \\\\\n",
    "    \\frac{3x(x - 2)(x + 1)}{2(x - 4)(x - 3)} \\cdot \\frac{(x - 5)(x - 3)}{3x(x + 7)} \\\\\n",
    "    \\frac{\\cancel{3x}(x - 2)(x + 1)}{2(x - 4)\\cancel{(x - 3)}} \\cdot \\frac{(x - 5)\\cancel{(x - 3)}}{\\cancel{3x}(x + 7)} \\\\ \\\\\n",
    "\n",
    "    \\boxed{\\frac{(x - 2)(x + 1)(x - 5)}{2(x - 4)(x + 7)}}\n",
    "\\end{gather*}"
   ]
  },
  {
   "cell_type": "markdown",
   "id": "c8472965",
   "metadata": {},
   "source": [
    "> 3. Simplify the expression.\n",
    "\n",
    "\\begin{gather*}\n",
    "    \\frac{2x^2 - 13x - 7}{12x + 6} \\div \\frac{3x - 2}{3x^2 - 17x + 10} \\\\ \\\\\n",
    "\n",
    "    \\frac{2x^2 - 13x - 7}{12x + 6} \\cdot \\frac{3x^2 - 17x + 10}{3x - 2} \\\\ \\\\\n",
    "\n",
    "    2x^2 - 13x - 7 \\\\\n",
    "    2 \\cdot -7 = -14 \\\\\n",
    "    a + b = -13 \\\\\n",
    "    a \\cdot b = -14 \\\\\n",
    "    -14 + 1 = -13 \\\\\n",
    "    -14 \\cdot 1 = -14 \\\\\n",
    "    2x^2 - 14x + x - 7 \\\\\n",
    "    (2x^2 - 14x) + (x - 7) \\\\\n",
    "    2x(x - 7) + 1(x - 7) \\\\\n",
    "    (2x + 1)(x - 7) \\\\ \\\\\n",
    "\n",
    "    3x^2 - 17x + 10 \\\\\n",
    "    3 \\cdot 10 = 30 \\\\\n",
    "    a + b = -17 \\\\\n",
    "    a \\cdot b = 30 \\\\\n",
    "    -15 + -2 = -17 \\\\\n",
    "    -15 \\cdot -2 = 30 \\\\\n",
    "    3x^2 - 15x - 2x + 10 \\\\\n",
    "    (3x^2 - 15x) - (2x + 10) \\\\\n",
    "    3x(x - 5) - 2(x - 5) \\\\\n",
    "    (3x - 2)(x - 5) \\\\ \\\\\n",
    "\n",
    "    \\frac{(2x + 1)(x - 7)}{6(2x + 1)} \\cdot \\frac{(3x - 2)(x - 5)}{3x - 2} \\\\\n",
    "    \\frac{\\cancel{(2x + 1)}(x - 7)}{6\\cancel{(2x + 1)}} \\cdot \\frac{\\cancel{(3x - 2)}(x - 5)}{\\cancel{3x - 2}} \\\\ \\\\\n",
    "\n",
    "    \\boxed{\\frac{(x - 7)(x - 5)}{6}}\n",
    "\\end{gather*}"
   ]
  },
  {
   "cell_type": "markdown",
   "id": "b22975fa",
   "metadata": {},
   "source": [
    "> 4. Simplify the expression.\n",
    "\n",
    "\\begin{gather*}\n",
    "    \\frac{4x^2 + 13x + 10}{3x + 6} \\div \\frac{3x - 1}{3x^2 - 13x + 4} \\\\ \\\\\n",
    "\\end{gather*}"
   ]
  },
  {
   "cell_type": "markdown",
   "id": "0005ee88",
   "metadata": {},
   "source": [
    "> 5. Simplify the expression.\n",
    "\n",
    "\\begin{gather*}\n",
    "    \\frac{4x^2 - 9}{x^2 + 12x + 36} \\div \\frac{4x^2 - 12x + 9}{x^2 + 7x + 6} \\\\ \\\\\n",
    "\\end{gather*}"
   ]
  },
  {
   "cell_type": "markdown",
   "id": "78e9ef04",
   "metadata": {},
   "source": [
    "> 6. Simplify the expression.\n",
    "\n",
    "\\begin{gather*}\n",
    "    \\frac{15x^2 + 75x + 90}{5x^2 + 50x + 125} \\div \\frac{x^2 - 3x + 2}{x^2 - 25} \\\\ \\\\\n",
    "\\end{gather*}"
   ]
  }
 ],
 "metadata": {
  "language_info": {
   "name": "python"
  }
 },
 "nbformat": 4,
 "nbformat_minor": 5
}
