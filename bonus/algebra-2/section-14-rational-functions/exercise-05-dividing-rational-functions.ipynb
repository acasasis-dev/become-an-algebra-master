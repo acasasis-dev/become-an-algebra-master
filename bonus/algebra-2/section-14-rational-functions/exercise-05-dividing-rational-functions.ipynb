{
 "cells": [
  {
   "cell_type": "markdown",
   "id": "d5b98465",
   "metadata": {},
   "source": [
    "## Exercise 5: Dividing Rational Functions"
   ]
  },
  {
   "cell_type": "markdown",
   "id": "bcf46af3",
   "metadata": {},
   "source": [
    "> 1. Simplify the expression.\n",
    "\n",
    "\\begin{gather*}\n",
    "    \\frac{2x + 16}{9x^2 + 27x} \\div \\frac{3x + 24}{x + 3} \\\\ \\\\\n",
    "\\end{gather*}"
   ]
  },
  {
   "cell_type": "markdown",
   "id": "84420102",
   "metadata": {},
   "source": [
    "> 2. Simplify the expression.\n",
    "\n",
    "\\begin{gather*}\n",
    "    \\frac{3x^3 - 3x^2 - 6x}{2x^2 - 14x + 24} \\div \\frac{3x^2 + 21x}{x^2 - 8x + 15} \\\\ \\\\\n",
    "\\end{gather*}"
   ]
  },
  {
   "cell_type": "markdown",
   "id": "c8472965",
   "metadata": {},
   "source": [
    "> 3. Simplify the expression.\n",
    "\n",
    "\\begin{gather*}\n",
    "    \\frac{2x^2 - 13x - 7}{12x + 6} \\div \\frac{3x - 2}{3x^2 - 17x + 10} \\\\ \\\\\n",
    "\\end{gather*}"
   ]
  },
  {
   "cell_type": "markdown",
   "id": "b22975fa",
   "metadata": {},
   "source": [
    "> 4. Simplify the expression.\n",
    "\n",
    "\\begin{gather*}\n",
    "    \\frac{4x^2 + 13x + 10}{3x + 6} \\div \\frac{3x - 1}{3x^2 - 13x + 4} \\\\ \\\\\n",
    "\\end{gather*}"
   ]
  },
  {
   "cell_type": "markdown",
   "id": "0005ee88",
   "metadata": {},
   "source": [
    "> 5. Simplify the expression.\n",
    "\n",
    "\\begin{gather*}\n",
    "    \\frac{4x^2 - 9}{x^2 + 12x + 36} \\div \\frac{4x^2 - 12x + 9}{x^2 + 7x + 6} \\\\ \\\\\n",
    "\\end{gather*}"
   ]
  },
  {
   "cell_type": "markdown",
   "id": "78e9ef04",
   "metadata": {},
   "source": [
    "> 6. Simplify the expression.\n",
    "\n",
    "\\begin{gather*}\n",
    "    \\frac{15x^2 + 75x + 90}{5x^2 + 50x + 125} \\div \\frac{x^2 - 3x + 2}{x^2 - 25} \\\\ \\\\\n",
    "\\end{gather*}"
   ]
  }
 ],
 "metadata": {
  "language_info": {
   "name": "python"
  }
 },
 "nbformat": 4,
 "nbformat_minor": 5
}
