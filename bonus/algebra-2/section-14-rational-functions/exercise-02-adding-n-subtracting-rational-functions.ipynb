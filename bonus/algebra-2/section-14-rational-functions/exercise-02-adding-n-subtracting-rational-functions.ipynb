{
 "cells": [
  {
   "cell_type": "markdown",
   "id": "aa1184a2",
   "metadata": {},
   "source": [
    "## Exercise 2: Adding and Subtracting Rational Functions"
   ]
  },
  {
   "cell_type": "markdown",
   "id": "4f97c0de",
   "metadata": {},
   "source": [
    "> 1. Simplify the expression.\n",
    "\n",
    "\\begin{gather*}\n",
    "    \\frac{2}{3ab} + \\frac{b}{4a} + \\frac{ab}{6} \\\\ \\\\\n",
    "\\end{gather*}"
   ]
  },
  {
   "cell_type": "markdown",
   "id": "2ec5b0c5",
   "metadata": {},
   "source": [
    "> 2. Simplify the expression.\n",
    "\n",
    "\\begin{gather*}\n",
    "    \\frac{x + 1}{x - 1} + \\frac{2x}{x - 5} + \\frac{x + 2}{x^2 - 6x + 5} \\\\ \\\\\n",
    "\\end{gather*}"
   ]
  },
  {
   "cell_type": "markdown",
   "id": "f100904a",
   "metadata": {},
   "source": [
    "> 3. Simplify the expression.\n",
    "\n",
    "\\begin{gather*}\n",
    "    \\frac{a}{3xy} + \\frac{b}{15y^2} + \\frac{c}{5x^3y^2} \\\\ \\\\\n",
    "\\end{gather*}"
   ]
  },
  {
   "cell_type": "markdown",
   "id": "4a10d213",
   "metadata": {},
   "source": [
    "> 4. Simplify the expression.\n",
    "\n",
    "\\begin{gather*}\n",
    "    \\frac{x}{2x^y} + \\frac{y}{3z} + \\frac{z}{5yz^2} \\\\ \\\\\n",
    "\\end{gather*}"
   ]
  },
  {
   "cell_type": "markdown",
   "id": "b7e251f6",
   "metadata": {},
   "source": [
    "> 5. Simplify the expression.\n",
    "\n",
    "\\begin{gather*}\n",
    "    \\frac{3ab}{4c} + \\frac{2bc}{6a^3} + \\frac{5}{8ab^2c^3} \\\\ \\\\\n",
    "\\end{gather*}"
   ]
  },
  {
   "cell_type": "markdown",
   "id": "90792ffb",
   "metadata": {},
   "source": [
    "> 6. Simplify the expression.\n",
    "\n",
    "\\begin{gather*}\n",
    "    \\frac{x}{x + 6} + \\frac{x - 6}{x} \\\\ \\\\\n",
    "\\end{gather*}"
   ]
  }
 ],
 "metadata": {
  "language_info": {
   "name": "python"
  }
 },
 "nbformat": 4,
 "nbformat_minor": 5
}
