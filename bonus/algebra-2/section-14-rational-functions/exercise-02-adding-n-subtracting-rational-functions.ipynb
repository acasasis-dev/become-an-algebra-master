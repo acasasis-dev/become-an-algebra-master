{
 "cells": [
  {
   "cell_type": "markdown",
   "id": "aa1184a2",
   "metadata": {},
   "source": [
    "## Exercise 2: Adding and Subtracting Rational Functions"
   ]
  },
  {
   "cell_type": "markdown",
   "id": "4f97c0de",
   "metadata": {},
   "source": [
    "> 1. Simplify the expression.\n",
    "\n",
    "\\begin{gather*}\n",
    "    \\frac{2}{3ab} + \\frac{b}{4a} + \\frac{ab}{6} \\\\ \\\\\n",
    "\n",
    "    12ab \\\\ \\\\\n",
    "\n",
    "    x_1(3ab) = 12ab \\\\\n",
    "    \\frac{x_1(3ab) = 12ab}{3ab} \\\\\n",
    "    x_1 = 4 \\\\ \\\\\n",
    "\n",
    "    x_2(4a) = 12ab \\\\\n",
    "    \\frac{x_2(4a) = 12ab}{4a} \\\\\n",
    "    x_2 = 3b \\\\ \\\\\n",
    "\n",
    "    x_3(6) = 12ab \\\\\n",
    "    \\frac{x_3(6) = 12ab}{6} \\\\\n",
    "    x_3 = 2ab \\\\ \\\\\n",
    "\n",
    "    \\left(\\frac{2}{3ab}\\right) \\frac{4}{4} + \\left(\\frac{b}{4a}\\right) \\frac{3b}{3b} + \\left(\\frac{ab}{6}\\right) \\frac{2ab}{2ab} \\\\\n",
    "    \\frac{8}{12ab} + \\frac{3b^2}{12ab} + \\frac{2a^2b^2}{12ab} \\\\\n",
    "    \\boxed{\\frac{8 + 3b^2 + 2a^2b^2}{12ab}}\n",
    "\\end{gather*}"
   ]
  },
  {
   "cell_type": "markdown",
   "id": "2ec5b0c5",
   "metadata": {},
   "source": [
    "> 2. Simplify the expression.\n",
    "\n",
    "\\begin{gather*}\n",
    "    \\frac{x + 1}{x - 1} + \\frac{2x}{x - 5} + \\frac{x + 2}{x^2 - 6x + 5} \\\\ \\\\\n",
    "\n",
    "    (x - 1)(x - 5) \\\\ \\\\\n",
    "\n",
    "    x_1(x - 1) = (x - 1)(x - 5) \\\\\n",
    "    \\frac{x_1(x - 1) = (x - 1)(x - 5)}{(x - 1)} \\\\\n",
    "    x_1 = (x - 5) \\\\ \\\\\n",
    "\n",
    "    x_2(x - 5) = (x - 1)(x - 5) \\\\\n",
    "    \\frac{x_2(x - 5) = (x - 1)(x - 5)}{(x - 5)} \\\\\n",
    "    x_2 = (x - 1) \\\\ \\\\\n",
    "\n",
    "    \\left(\\frac{x + 1}{x - 1}\\right) \\frac{(x - 5)}{(x - 5)} + \\left(\\frac{2x}{x - 5}\\right) \\frac{(x - 1)}{(x - 1)} + \\frac{x + 2}{x^2 - 6x + 5} \\\\\n",
    "    \\frac{x^2 - 4x - 5}{x^2 - 6x + 5} + \\frac{2x^2 - 2x}{x^2 - 6x + 5} + \\frac{x + 2}{x^2 - 6x + 5} \\\\\n",
    "    \\frac{x^2 - 4x - 5 + 2x^2 - 2x + x + 2}{x^2 - 6x + 5} \\\\\n",
    "    \\boxed{\\frac{3x^2 - 5x - 3}{x^2 - 6x + 5}}\n",
    "\\end{gather*}"
   ]
  },
  {
   "cell_type": "markdown",
   "id": "f100904a",
   "metadata": {},
   "source": [
    "> 3. Simplify the expression.\n",
    "\n",
    "\\begin{gather*}\n",
    "    \\frac{a}{3xy} + \\frac{b}{15y^2} + \\frac{c}{5x^3y^2} \\\\ \\\\\n",
    "\n",
    "    15x^3y^2 \\\\ \\\\\n",
    "\n",
    "    x_1(3xy) = 15x^3y^2 \\\\\n",
    "    \\frac{x_1(3xy) = 15x^3y^2}{3xy} \\\\\n",
    "    x_1 = 5x^2y \\\\ \\\\\n",
    "\n",
    "    x_2(15y^2) = 15x^3y^2 \\\\\n",
    "    \\frac{x_2(15y^2) = 15x^3y^2}{15y^2} \\\\\n",
    "    x_2 = x^3 \\\\ \\\\\n",
    "\n",
    "    x_3(5x^3y^2) = 15x^3y^2 \\\\\n",
    "    \\frac{x_3(5x^3y^2) = 15x^3y^2}{5x^3y^2} \\\\\n",
    "    x_3 = 3 \\\\ \\\\\n",
    "\n",
    "    \\left(\\frac{a}{3xy}\\right) \\frac{5x^2y}{5x^2y} + \\left(\\frac{b}{15y^2}\\right) \\frac{x^3}{x^3} + \\left(\\frac{c}{5x^3y^2}\\right) \\frac{3}{3} \\\\\n",
    "    \\frac{5ax^2y}{15x^3y^2} + \\frac{bx^3}{15x^3y^2} + \\frac{3c}{15x^3y^2} \\\\\n",
    "    \\boxed{\\frac{5ax^2y + bx^3 + 3c}{15x^3y^2}}\n",
    "\\end{gather*}"
   ]
  },
  {
   "cell_type": "markdown",
   "id": "4a10d213",
   "metadata": {},
   "source": [
    "> 4. Simplify the expression.\n",
    "\n",
    "\\begin{gather*}\n",
    "    \\frac{x}{2x^y} + \\frac{y}{3z} + \\frac{z}{5yz^2} \\\\ \\\\\n",
    "\\end{gather*}"
   ]
  },
  {
   "cell_type": "markdown",
   "id": "b7e251f6",
   "metadata": {},
   "source": [
    "> 5. Simplify the expression.\n",
    "\n",
    "\\begin{gather*}\n",
    "    \\frac{3ab}{4c} + \\frac{2bc}{6a^3} + \\frac{5}{8ab^2c^3} \\\\ \\\\\n",
    "\\end{gather*}"
   ]
  },
  {
   "cell_type": "markdown",
   "id": "90792ffb",
   "metadata": {},
   "source": [
    "> 6. Simplify the expression.\n",
    "\n",
    "\\begin{gather*}\n",
    "    \\frac{x}{x + 6} + \\frac{x - 6}{x} \\\\ \\\\\n",
    "\\end{gather*}"
   ]
  }
 ],
 "metadata": {
  "language_info": {
   "name": "python"
  }
 },
 "nbformat": 4,
 "nbformat_minor": 5
}
