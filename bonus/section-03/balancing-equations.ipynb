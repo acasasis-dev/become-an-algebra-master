{
 "cells": [
  {
   "cell_type": "markdown",
   "id": "fd483e09",
   "metadata": {},
   "source": [
    "## Balancing Equations"
   ]
  },
  {
   "cell_type": "markdown",
   "id": "bdf5596d",
   "metadata": {},
   "source": [
    "> 1. Solve the equation for $x$.\n",
    "\n",
    "\\begin{gather*}\n",
    "    2(-3x + 5) - 1 = -3(1 - 5x) \\\\ \\\\\n",
    "\\end{gather*}"
   ]
  },
  {
   "cell_type": "markdown",
   "id": "5c91847d",
   "metadata": {},
   "source": [
    "> 2. Solve the equation for $x$.\n",
    "\n",
    "\\begin{gather*}\n",
    "    x - 2(1 - x) + 5 = 3(2x + 4) - 6 \\\\ \\\\\n",
    "\\end{gather*}"
   ]
  },
  {
   "cell_type": "markdown",
   "id": "96f4f117",
   "metadata": {},
   "source": [
    "> 3. If $x = − 2$, solve for $y$.\n",
    "\n",
    "\\begin{gather*}\n",
    "    3x + 2y - 7 = 1 - 5x - y \\\\ \\\\\n",
    "\\end{gather*}"
   ]
  },
  {
   "cell_type": "markdown",
   "id": "bfc3b9d9",
   "metadata": {},
   "source": [
    "> 4. Solve for $a$.\n",
    "\n",
    "\\begin{gather*}\n",
    "    7(4a - 3) = -(6a - 5) + 8 \\\\ \\\\\n",
    "\\end{gather*}"
   ]
  },
  {
   "cell_type": "markdown",
   "id": "165de8d4",
   "metadata": {},
   "source": [
    "> 5. Solve for $a$.\n",
    "\n",
    "\\begin{gather*}\n",
    "    -2(1 - a) + 3(a + 7) = -2 \\\\ \\\\\n",
    "\\end{gather*}"
   ]
  },
  {
   "cell_type": "markdown",
   "id": "0569cc17",
   "metadata": {},
   "source": [
    "> 6. What missing number should replace the “??” in order to make the equation true?\n",
    "\n",
    "\\begin{gather*}\n",
    "    -3(x - 5) = 2x - (3 - x) \\\\\n",
    "    ??x + 15 = 3x - 3 \\\\\n",
    "\\end{gather*}"
   ]
  }
 ],
 "metadata": {
  "language_info": {
   "name": "python"
  }
 },
 "nbformat": 4,
 "nbformat_minor": 5
}
