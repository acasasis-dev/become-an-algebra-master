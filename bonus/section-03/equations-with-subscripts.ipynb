{
 "cells": [
  {
   "cell_type": "markdown",
   "id": "46c5d0d6",
   "metadata": {},
   "source": [
    "## Equations With Subscripts"
   ]
  },
  {
   "cell_type": "markdown",
   "id": "3a37220a",
   "metadata": {},
   "source": [
    "> 1. It takes Peter $6$ hours to paint a room and Laura $8$ hours to paint that\n",
    "same room. Use the equation below to determine how long it would take\n",
    "for Peter and Laura to paint the room together, where $R_1$ is the number of\n",
    "hours it takes Peter, $R_2$ is the number of hours it takes Laura, and $T$ is the\n",
    "number of hours it takes them together.\n",
    "\n",
    "\\begin{gather*}\n",
    "    \\frac{R_1R_2}{R_1 + R_2} = T \\\\ \\\\\n",
    "\\end{gather*}"
   ]
  },
  {
   "cell_type": "markdown",
   "id": "84ae7d0d",
   "metadata": {},
   "source": [
    "> 2. Solve the equation for $P_2$.\n",
    "\n",
    "\\begin{gather*}\n",
    "    P_1R + \\frac{P_2}{V} = d \\\\ \\\\\n",
    "\\end{gather*}"
   ]
  },
  {
   "cell_type": "markdown",
   "id": "a9f4c414",
   "metadata": {},
   "source": [
    "> 3. The profit function for a company is given by\n",
    "$P = Rx − C_1 − C_2x$, where $P$ is the profit, $R$ is the selling price of their\n",
    "product, $C_1$ is the company’s fixed cost, $C_2$ is their variable cost, and $x$ is\n",
    "the total number of products sold. What is the selling price $R$ when $P = 114$,\n",
    "$C1 = 550$, $C2 = 3.50$, and $x = 16$?"
   ]
  },
  {
   "cell_type": "markdown",
   "id": "dbc8d740",
   "metadata": {},
   "source": [
    "> 4. Solve the equation for $x_1$.\n",
    "\n",
    "\\begin{gather*}\n",
    "    \\frac{3V}{x_1} = td_0 + 2x_2d_1 \\\\ \\\\\n",
    "\\end{gather*}"
   ]
  },
  {
   "cell_type": "markdown",
   "id": "6bd83ea7",
   "metadata": {},
   "source": [
    "> 5. Solve the equation for $Y_2$ when $t_1 = 2$, $t_2 = 11$, $D = \\frac{1}{3}$, and $Y_1 = 25$.\n",
    "\n",
    "\\begin{gather*}\n",
    "    3t_1 + \\frac{15t_2D}{Y_2} = Y_1 - 5 \\\\ \\\\\n",
    "\\end{gather*}"
   ]
  },
  {
   "cell_type": "markdown",
   "id": "debd5b29",
   "metadata": {},
   "source": [
    "> 6. The volume of the medium size box at the post office is given by\n",
    "$V = d_1 \\times d_2 \\times d_3$, where $d_1$, $d_2$, and $d_3$ are the length, width, and height,\n",
    "respectively. Given $d_1 = 4$ and $d_2 = 5$, find the relationship between volume\n",
    "and height."
   ]
  }
 ],
 "metadata": {
  "language_info": {
   "name": "python"
  }
 },
 "nbformat": 4,
 "nbformat_minor": 5
}
