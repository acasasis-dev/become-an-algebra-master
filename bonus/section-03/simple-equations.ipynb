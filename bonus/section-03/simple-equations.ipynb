{
 "cells": [
  {
   "cell_type": "markdown",
   "id": "e390aba1",
   "metadata": {},
   "source": [
    "## Simple Equations"
   ]
  },
  {
   "cell_type": "markdown",
   "id": "aa19abab",
   "metadata": {},
   "source": [
    "> 1. Solve the equation for $x$.\n",
    "\n",
    "\\begin{gather*}\n",
    "    2x - 5 = 11 \\\\ \\\\\n",
    "\\end{gather*}"
   ]
  },
  {
   "cell_type": "markdown",
   "id": "17fc4912",
   "metadata": {},
   "source": [
    "> 2. If $x = 16$, what value of the “??” would make the equation true?\n",
    "\n",
    "\\begin{gather*}\n",
    "    x - ?? = 11 \\\\ \\\\\n",
    "\\end{gather*}"
   ]
  },
  {
   "cell_type": "markdown",
   "id": "de89b9f6",
   "metadata": {},
   "source": [
    "> 3. Solve the equation for $x$.\n",
    "\n",
    "\\begin{gather*}\n",
    "    \\frac{x + 1}{3} = 7 \\\\ \\\\\n",
    "\\end{gather*}"
   ]
  },
  {
   "cell_type": "markdown",
   "id": "6ba1e737",
   "metadata": {},
   "source": [
    "> 4. What went wrong in this set of steps?\n",
    "\n",
    "\\begin{gather*}\n",
    "    2x - 11 = -3 \\\\\n",
    "    2x = 8 \\\\\n",
    "    x = 16 \\\\\n",
    "\\end{gather*}"
   ]
  },
  {
   "cell_type": "markdown",
   "id": "1dccbdd3",
   "metadata": {},
   "source": [
    "> 5. What went wrong in this set of steps?\n",
    "\n",
    "\\begin{gather*}\n",
    "    2 - \\frac{1}{3}x = 1 \\\\\n",
    "    -\\frac{1}{3}x = 3 \\\\\n",
    "    x = -9 \\\\\n",
    "\\end{gather*}"
   ]
  },
  {
   "cell_type": "markdown",
   "id": "a01c9f6c",
   "metadata": {},
   "source": [
    "> 6. Solve the equation for $x$.\n",
    "\n",
    "\\begin{gather*}\n",
    "    \\frac{1}{4}x + 3 = 5 \\\\ \\\\\n",
    "\\end{gather*}"
   ]
  }
 ],
 "metadata": {
  "language_info": {
   "name": "python"
  }
 },
 "nbformat": 4,
 "nbformat_minor": 5
}
