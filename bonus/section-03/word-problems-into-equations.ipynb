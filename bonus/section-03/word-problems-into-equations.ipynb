{
 "cells": [
  {
   "cell_type": "markdown",
   "id": "c05866c2",
   "metadata": {},
   "source": [
    "## Word Problems Into Equations"
   ]
  },
  {
   "cell_type": "markdown",
   "id": "c2c47cae",
   "metadata": {},
   "source": [
    "> 1. Write the phrase as an algebraic expression.\n",
    "\n",
    "Six more than three times a number"
   ]
  },
  {
   "cell_type": "markdown",
   "id": "e6121260",
   "metadata": {},
   "source": [
    "> 2. Find the value of the expression.\n",
    "\n",
    "The quotient of $150$ and $5$"
   ]
  },
  {
   "cell_type": "markdown",
   "id": "907699a6",
   "metadata": {},
   "source": [
    "> 3. Write the phrase as an algebraic expression.\n",
    "\n",
    "Half of five times a number"
   ]
  },
  {
   "cell_type": "markdown",
   "id": "762a3a38",
   "metadata": {},
   "source": [
    "> 4. Find the value of the expression.\n",
    "\n",
    "$3$ less than the product of $2$ and $7$"
   ]
  },
  {
   "cell_type": "markdown",
   "id": "b2f2134c",
   "metadata": {},
   "source": [
    "> 5. Find the value of the expression.\n",
    "\n",
    "$\\frac{1}{3}$ of $2$ more than $7$"
   ]
  },
  {
   "cell_type": "markdown",
   "id": "486b3f93",
   "metadata": {},
   "source": [
    "> 6. David’s age is five more than twice Jane’s age. If Jane is $6$, how old is David?"
   ]
  }
 ],
 "metadata": {
  "language_info": {
   "name": "python"
  }
 },
 "nbformat": 4,
 "nbformat_minor": 5
}
