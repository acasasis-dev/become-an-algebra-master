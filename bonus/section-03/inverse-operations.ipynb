{
 "cells": [
  {
   "cell_type": "markdown",
   "id": "b49cb52b",
   "metadata": {},
   "source": [
    "## Inverse Operations"
   ]
  },
  {
   "cell_type": "markdown",
   "id": "4a4f0f9d",
   "metadata": {},
   "source": [
    "> 1. Use inverse operations to figure out what should replace the “?” in order to make the equation true.\n",
    "\n",
    "\\begin{gather*}\n",
    "    5x \\ ? = x \\\\ \\\\\n",
    "\n",
    "    5x \\div 5 = x \\\\\n",
    "    \\frac{5x}{5} = x \\\\\n",
    "    \\boxed{x = x}\n",
    "\\end{gather*}"
   ]
  },
  {
   "cell_type": "markdown",
   "id": "f745dc3e",
   "metadata": {},
   "source": [
    "> 2. What is the inverse operation of division?\n",
    "\n",
    "Multiplication"
   ]
  },
  {
   "cell_type": "markdown",
   "id": "96898c0c",
   "metadata": {},
   "source": [
    "> 3. Using both division and multiplication, find two values that can replace the “?” in order to make the equation true.\n",
    "\n",
    "\\begin{gather*}\n",
    "    \\frac{1}{5}x \\ ? = x \\\\ \\\\\n",
    "\n",
    "    \\frac{1}{5}x \\cdot 5 = x \\\\\n",
    "    \\frac{1 \\cdot 5}{5}x = x \\\\\n",
    "    \\frac{5}{5}x = x \\\\\n",
    "    \\boxed{x = x}\n",
    "\\end{gather*}"
   ]
  },
  {
   "cell_type": "markdown",
   "id": "26d00eaa",
   "metadata": {},
   "source": [
    "> 4. What value of the missing exponent would make the equation true?\n",
    "\n",
    "\\begin{gather*}\n",
    "    (x^3)^{?} = x \\\\ \\\\\n",
    "\n",
    "    (x^3)^{\\frac{1}{3}} = x \\\\\n",
    "    x^{3 \\cdot \\frac{1}{3}} = x \\\\\n",
    "    x^{\\frac{3}{3}} = x \\\\\n",
    "    x^1 = x \\\\\n",
    "    \\boxed{x = x}\n",
    "\\end{gather*}"
   ]
  },
  {
   "cell_type": "markdown",
   "id": "b7e01532",
   "metadata": {},
   "source": [
    "> 5. Put an expression in place of the question mark that would make the equation true.\n",
    "\n",
    "\\begin{gather*}\n",
    "    \\frac{1}{7} \\ ? = 1 \\\\ \\\\\n",
    "\n",
    "    \\frac{1}{7} \\cdot 7 = 1 \\\\\n",
    "    \\frac{7}{7} = 1 \\\\\n",
    "    \\boxed{1 = 1}\n",
    "\\end{gather*}"
   ]
  },
  {
   "cell_type": "markdown",
   "id": "fa39638a",
   "metadata": {},
   "source": [
    "> 6. Use inverse operations to find a value to replace the “?” that will make the equation true.\n",
    "\n",
    "\\begin{gather*}\n",
    "    (\\sqrt[4]{a + b})^? = a + b \\\\ \\\\\n",
    "\n",
    "    (\\sqrt[4]{a + b})^4 = a + b \\\\\n",
    "    (a + b)^{\\frac{1}{4} \\cdot 4} = a + b \\\\\n",
    "    (a + b)^{\\frac{4}{4}} = a + b \\\\\n",
    "    (a + b)^1 = a + b \\\\\n",
    "    \\boxed{a + b = a + b}\n",
    "\\end{gather*}"
   ]
  }
 ],
 "metadata": {
  "language_info": {
   "name": "python"
  }
 },
 "nbformat": 4,
 "nbformat_minor": 5
}
