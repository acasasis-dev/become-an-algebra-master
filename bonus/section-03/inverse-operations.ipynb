{
 "cells": [
  {
   "cell_type": "markdown",
   "id": "b49cb52b",
   "metadata": {},
   "source": [
    "## Inverse Operations"
   ]
  },
  {
   "cell_type": "markdown",
   "id": "4a4f0f9d",
   "metadata": {},
   "source": [
    "> 1. Use inverse operations to figure out what should replace the “?” in order to make the equation true.\n",
    "\n",
    "\\begin{gather*}\n",
    "    5x \\ ? = x \\\\ \\\\\n",
    "\\end{gather*}"
   ]
  },
  {
   "cell_type": "markdown",
   "id": "f745dc3e",
   "metadata": {},
   "source": [
    "> 2. What is the inverse operation of division?"
   ]
  },
  {
   "cell_type": "markdown",
   "id": "96898c0c",
   "metadata": {},
   "source": [
    "> 3. Using both division and multiplication, find two values that can replace the “?” in order to make the equation true.\n",
    "\n",
    "\\begin{gather*}\n",
    "    \\frac{1}{5}x \\ ? = x \\\\ \\\\\n",
    "\\end{gather*}"
   ]
  },
  {
   "cell_type": "markdown",
   "id": "26d00eaa",
   "metadata": {},
   "source": [
    "> 4. What value of the missing exponent would make the equation true?\n",
    "\n",
    "\\begin{gather*}\n",
    "    (x^3)^{?} = x\n",
    "\\end{gather*}"
   ]
  },
  {
   "cell_type": "markdown",
   "id": "b7e01532",
   "metadata": {},
   "source": [
    "> 5. Put an expression in place of the question mark that would make the equation true.\n",
    "\n",
    "\\begin{gather*}\n",
    "    \\frac{1}{7} \\ ? = 1 \\\\ \\\\\n",
    "\\end{gather*}"
   ]
  },
  {
   "cell_type": "markdown",
   "id": "fa39638a",
   "metadata": {},
   "source": [
    "> 6. Use inverse operations to find a value to replace the “?” that will make the equation true.\n",
    "\n",
    "\\begin{gather*}\n",
    "    (\\sqrt[4]{a + b})^? = a + b \\\\ \\\\\n",
    "\\end{gather*}"
   ]
  }
 ],
 "metadata": {
  "language_info": {
   "name": "python"
  }
 },
 "nbformat": 4,
 "nbformat_minor": 5
}
