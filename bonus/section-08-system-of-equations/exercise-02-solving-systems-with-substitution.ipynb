{
 "cells": [
  {
   "cell_type": "markdown",
   "id": "e4d640aa",
   "metadata": {},
   "source": [
    "## Exercise 2: Solving System With Substitution"
   ]
  },
  {
   "cell_type": "markdown",
   "id": "21586723",
   "metadata": {},
   "source": [
    "> 1. Find the unique solution to the system of equations.\n",
    "\n",
    "\\begin{gather*}\n",
    "    -x + 2y = 6 \\\\\n",
    "    3x = y - 10 \\\\ \\\\\n",
    "\\end{gather*}"
   ]
  },
  {
   "cell_type": "markdown",
   "id": "d20b183d",
   "metadata": {},
   "source": [
    "> 2. What is the easiest variable to get by itself? Set up but do not solve\n",
    "the substitution.\n",
    "\n",
    "\\begin{gather*}\n",
    "    2y - x = 7 \\\\\n",
    "    3x = 9 - 18y \\\\ \\\\\n",
    "\\end{gather*}"
   ]
  },
  {
   "cell_type": "markdown",
   "id": "5fceb666",
   "metadata": {},
   "source": [
    "> 3. Find the unique solution to the system of equations.\n",
    "\n",
    "\\begin{gather*}\n",
    "    -5x + y = 8 \\\\\n",
    "    y = 3x - 8 \\\\ \\\\\n",
    "\\end{gather*}"
   ]
  },
  {
   "cell_type": "markdown",
   "id": "88a66cb5",
   "metadata": {},
   "source": [
    "> 4. Find the unique solution to the system of equations.\n",
    "\n",
    "\\begin{gather*}\n",
    "    3 - y = 2x \\\\\n",
    "    -4x + 10 = 2y \\\\ \\\\\n",
    "\\end{gather*}"
   ]
  },
  {
   "cell_type": "markdown",
   "id": "102a48bf",
   "metadata": {},
   "source": [
    "> 5. What went wrong if a substitution was made in the system and the\n",
    "result was $2x − 2 − x = 7$?\n",
    "\n",
    "\\begin{gather*}\n",
    "    y = x - 2 \\\\\n",
    "    2y - x = 7 \\\\ \\\\\n",
    "\\end{gather*}"
   ]
  },
  {
   "cell_type": "markdown",
   "id": "86e7cfe3",
   "metadata": {},
   "source": [
    "> 6. Find the unique solution to the system of equations.\n",
    "\n",
    "\\begin{gather*}\n",
    "    5y = 6 - 2x \\\\\n",
    "    6x + 15y = 18 \\\\ \\\\\n",
    "\\end{gather*}"
   ]
  }
 ],
 "metadata": {
  "language_info": {
   "name": "python"
  }
 },
 "nbformat": 4,
 "nbformat_minor": 5
}
