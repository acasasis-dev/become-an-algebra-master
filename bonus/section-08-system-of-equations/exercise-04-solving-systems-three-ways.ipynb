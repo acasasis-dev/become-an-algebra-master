{
 "cells": [
  {
   "cell_type": "markdown",
   "id": "d0442400",
   "metadata": {},
   "source": [
    "## Exercise 4: Solving Systems Three Ways"
   ]
  },
  {
   "cell_type": "markdown",
   "id": "fd4b6555",
   "metadata": {},
   "source": [
    "> 1. Explain why using the graphing method would make the system easy\n",
    "to solve.\n",
    "\n",
    "\\begin{gather*}\n",
    "    y = 3x − 4 \\\\\n",
    "    y − 3 = 2(x + 1) \\\\ \\\\\n",
    "\\end{gather*}"
   ]
  },
  {
   "cell_type": "markdown",
   "id": "42a09626",
   "metadata": {},
   "source": [
    "> 2. Find the unique solution to the system of equations using the\n",
    "elimination method.\n",
    "\n",
    "\\begin{gather*}\n",
    "    2y = x + 5 \\\\\n",
    "    3x − 2y = 11 \\\\ \\\\\n",
    "\\end{gather*}"
   ]
  },
  {
   "cell_type": "markdown",
   "id": "fcda3be8",
   "metadata": {},
   "source": [
    "> 3. In words, describe the graphical solution to a system of equations."
   ]
  },
  {
   "cell_type": "markdown",
   "id": "be75ae25",
   "metadata": {},
   "source": [
    "> 4. Find the unique solution to the system of equations using the\n",
    "substitution method.\n",
    "\n",
    "\\begin{gather*}\n",
    "    5y + x = 4 \\\\\n",
    "    3y − 3x = 6 \\\\ \\\\\n",
    "\\end{gather*}"
   ]
  },
  {
   "cell_type": "markdown",
   "id": "111765b9",
   "metadata": {},
   "source": [
    "> 5. Explain why the elimination method is a good way to solve this\n",
    "particular system.\n",
    "\n",
    "\\begin{gather*}\n",
    "    3y − 2x = 7 \\\\\n",
    "    2x = 4 − 6y \\\\ \\\\\n",
    "\\end{gather*}"
   ]
  },
  {
   "cell_type": "markdown",
   "id": "2a80dbac",
   "metadata": {},
   "source": [
    "> 6. Find the unique solution to the system of equations using the\n",
    "graphing method.\n",
    "\n",
    "\\begin{gather*}\n",
    "    y − 2 = − (x + 1) \\\\\n",
    "    y = x + 1 \\\\ \\\\\n",
    "\\end{gather*}"
   ]
  }
 ],
 "metadata": {
  "language_info": {
   "name": "python"
  }
 },
 "nbformat": 4,
 "nbformat_minor": 5
}
