{
 "cells": [
  {
   "cell_type": "markdown",
   "id": "d0442400",
   "metadata": {},
   "source": [
    "## Exercise 4: Solving Systems Three Ways"
   ]
  },
  {
   "cell_type": "markdown",
   "id": "fd4b6555",
   "metadata": {},
   "source": [
    "> 1. Explain why using the graphing method would make the system easy\n",
    "to solve.\n",
    "\n",
    "\\begin{gather*}\n",
    "    y = 3x − 4 \\\\\n",
    "    y − 3 = 2(x + 1) \\\\ \\\\\n",
    "\\end{gather*}\n",
    "\n",
    "Because both equations can be derived to slope-intercept form $y = mx + b$"
   ]
  },
  {
   "cell_type": "markdown",
   "id": "42a09626",
   "metadata": {},
   "source": [
    "> 2. Find the unique solution to the system of equations using the\n",
    "elimination method.\n",
    "\n",
    "\\begin{gather*}\n",
    "    2y = x + 5 \\\\\n",
    "    3x − 2y = 11 \\\\ \\\\\n",
    "\n",
    "    x - 2y = -5 \\\\\n",
    "    3x - 2y = 11 \\\\ \\\\\n",
    "\n",
    "    x - 2y = -5 \\\\\n",
    "    - (3x - 2y = 11) \\\\ \\\\\n",
    "\n",
    "    -2x = -16 \\\\\n",
    "    \\frac{-2x = -16}{-2} \\\\\n",
    "    \\boxed{x = 8} \\\\ \\\\\n",
    "\n",
    "    2y = x + 5 \\\\\n",
    "    2y = (8) + 5 \\\\\n",
    "    2y = 13 \\\\\n",
    "    \\frac{2y = 13}{2} \\\\\n",
    "    \\boxed{y = \\frac{13}{2}} \\\\ \\\\\n",
    "\n",
    "    \\textbf{CHECKING} \\\\\n",
    "    2y = x + 5 \\\\\n",
    "    2(\\frac{13}{2}) = (8) + 5 \\\\\n",
    "    13 = 13 \\\\ \\\\\n",
    "\n",
    "    3x - 2y = 11 \\\\\n",
    "    3(8) - 2(\\frac{13}{2}) = 11 \\\\\n",
    "    24 - \\frac{26}{2} = 11 \\\\\n",
    "    24 - 13 = 11 \\\\\n",
    "    11 = 11\n",
    "\\end{gather*}"
   ]
  },
  {
   "cell_type": "markdown",
   "id": "fcda3be8",
   "metadata": {},
   "source": [
    "> 3. In words, describe the graphical solution to a system of equations.\n",
    "\n",
    "Convert both equations to slope-intercept form then graph the points with $y$-intercept first with their slope. After graphing them both, find the point where they meet and that should be the solution for the $x$ and $y$ values"
   ]
  },
  {
   "cell_type": "markdown",
   "id": "be75ae25",
   "metadata": {},
   "source": [
    "> 4. Find the unique solution to the system of equations using the\n",
    "substitution method.\n",
    "\n",
    "\\begin{gather*}\n",
    "    5y + x = 4 \\\\\n",
    "    3y − 3x = 6 \\\\ \\\\\n",
    "    \n",
    "    x = 4 - 5y \\\\\n",
    "\n",
    "    3y - 3x = 6 \\\\ \\\\\n",
    "    3y - 3(4 - 5y) = 6 \\\\\n",
    "    3y - 12 + 15y = 6 \\\\\n",
    "    18y = 6 + 12 \\\\\n",
    "    18y = 18 \\\\\n",
    "    \\frac{18y = 18}{18} \\\\\n",
    "    \\boxed{y = 1} \\\\ \\\\\n",
    "\n",
    "    x = 4 - 5y \\\\\n",
    "    x = 4 - 5(1) \\\\\n",
    "    x = 4 - 5 \\\\\n",
    "    \\boxed{x = -1} \\\\ \\\\\n",
    "\n",
    "    \\textbf{CHECKING} \\\\\n",
    "    5y + x = 4 \\\\\n",
    "    5(1) + (-1) = 4\n",
    "    5 - 1 = 4 \\\\\n",
    "    4 = 4 \\\\ \\\\\n",
    "\n",
    "    3y - 3x = 6 \\\\\n",
    "    3(1) - 3(-1) = 6 \\\\\n",
    "    3 + 3 = 6 \\\\\n",
    "    6 = 6\n",
    "\\end{gather*}"
   ]
  },
  {
   "cell_type": "markdown",
   "id": "111765b9",
   "metadata": {},
   "source": [
    "> 5. Explain why the elimination method is a good way to solve this\n",
    "particular system.\n",
    "\n",
    "\\begin{gather*}\n",
    "    3y − 2x = 7 \\\\\n",
    "    2x = 4 − 6y \\\\ \\\\\n",
    "\\end{gather*}\n",
    "\n",
    "$x$ coefficients is both $2$ just having different signs which makes them easy to add to each other and eliminate $x$ easily leaving $y$ to solve."
   ]
  },
  {
   "cell_type": "markdown",
   "id": "2a80dbac",
   "metadata": {},
   "source": [
    "> 6. Find the unique solution to the system of equations using the\n",
    "graphing method.\n",
    "\n",
    "\\begin{gather*}\n",
    "    y − 2 = − (x + 1) \\\\\n",
    "    y = x + 1 \\\\ \\\\\n",
    "\n",
    "    y - 2 = -x - 1 \\\\\n",
    "    y = -x - 1 + 2 \\\\\n",
    "    y = -x + 1 \\\\ \\\\\n",
    "\\end{gather*}\n",
    "\n",
    "Since both points have the same $y$-intercept which is $1$ which only means they meet there, the solution to the system of these equations is $(0, 1)$"
   ]
  }
 ],
 "metadata": {
  "language_info": {
   "name": "python"
  }
 },
 "nbformat": 4,
 "nbformat_minor": 5
}
