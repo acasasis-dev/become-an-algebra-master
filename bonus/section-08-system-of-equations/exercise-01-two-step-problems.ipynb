{
 "cells": [
  {
   "cell_type": "markdown",
   "id": "d17efe35",
   "metadata": {},
   "source": [
    "## Exercise 1: Two Step Problems"
   ]
  },
  {
   "cell_type": "markdown",
   "id": "1b119d82",
   "metadata": {},
   "source": [
    "> 1. Why can’t we solve this two-step problem?\n",
    "\n",
    "If $2(x − 1) − 3 = 9 + x$, what is $y + 2$?"
   ]
  },
  {
   "cell_type": "markdown",
   "id": "19e567ad",
   "metadata": {},
   "source": [
    "> 2. If $5 − 2x = 17$, what is $x − 1$?"
   ]
  },
  {
   "cell_type": "markdown",
   "id": "125ed48e",
   "metadata": {},
   "source": [
    "> 3. If $3(2 − x) + 5 = − (4x − 2)$, what is $(x /2) + 1$?"
   ]
  },
  {
   "cell_type": "markdown",
   "id": "83750264",
   "metadata": {},
   "source": [
    "4. If $2(x + y) − 6 = 3$, what is $x + y − 1$?"
   ]
  },
  {
   "cell_type": "markdown",
   "id": "802ebbe4",
   "metadata": {},
   "source": [
    "> 5. What went wrong in this solution?\n",
    "\n",
    "If $2x + 3 = 7$, what is $x /3$?\n",
    "\n",
    "\\begin{gather*}\n",
    "    2x + 3 = 7 \\\\\n",
    "    2x = 4 \\\\\n",
    "    \\frac{x}{3} = \\frac{4}{3}\n",
    "\\end{gather*}"
   ]
  },
  {
   "cell_type": "markdown",
   "id": "99b69ede",
   "metadata": {},
   "source": [
    "> 6. If $a + 2b = 6 − a$ and $b = 1$, what is $a/2$?"
   ]
  }
 ],
 "metadata": {
  "language_info": {
   "name": "python"
  }
 },
 "nbformat": 4,
 "nbformat_minor": 5
}
