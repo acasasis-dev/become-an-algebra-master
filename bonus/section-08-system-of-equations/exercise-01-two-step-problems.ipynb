{
 "cells": [
  {
   "cell_type": "markdown",
   "id": "d17efe35",
   "metadata": {},
   "source": [
    "## Exercise 1: Two Step Problems"
   ]
  },
  {
   "cell_type": "markdown",
   "id": "1b119d82",
   "metadata": {},
   "source": [
    "> 1. Why can’t we solve this two-step problem?\n",
    "\n",
    "If $2(x − 1) − 3 = 9 + x$, what is $y + 2$?\n",
    "\n",
    "$y$ 's value can not be determined as the equation's variable is only $x$ and $y$ is nowhere to be found"
   ]
  },
  {
   "cell_type": "markdown",
   "id": "19e567ad",
   "metadata": {},
   "source": [
    "> 2. If $5 − 2x = 17$, what is $x − 1$?\n",
    "\n",
    "\\begin{gather*}\n",
    "    5 - 2x = 17 \\\\\n",
    "    -2x = 17 - 5 \\\\\n",
    "    -2x = 12 \\\\\n",
    "    \\frac{-2x = 12}{-2} \\\\\n",
    "    x = -6 \\\\ \\\\\n",
    "\n",
    "    x - 1 \\\\\n",
    "    (-6) - 1 \\\\\n",
    "    \\boxed{-7}\n",
    "\\end{gather*}"
   ]
  },
  {
   "cell_type": "markdown",
   "id": "125ed48e",
   "metadata": {},
   "source": [
    "> 3. If $3(2 − x) + 5 = − (4x − 2)$, what is $(x /2) + 1$?\n",
    "\n",
    "\\begin{gather*}\n",
    "    3(2 − x) + 5 = − (4x − 2) \\\\\n",
    "    6 - 3x + 5 = -4x + 2 \\\\\n",
    "    4x - 3x = 2 - 6 - 5 \\\\\n",
    "    x = -4 - 5 \\\\\n",
    "    x = -9 \\\\ \\\\\n",
    "\n",
    "    (x / 2) + 1 \\\\\n",
    "    ((-9) / 2) + 1 \\\\\n",
    "    -\\frac{9}{2} + \\frac{2}{2} \\\\\n",
    "    \\boxed{-\\frac{7}{2}}\n",
    "\\end{gather*}"
   ]
  },
  {
   "cell_type": "markdown",
   "id": "83750264",
   "metadata": {},
   "source": [
    "> 4. If $2(x + y) − 6 = 3$, what is $x + y − 1$?\n",
    "\n",
    "\\begin{gather*}\n",
    "    2(x + y) − 6 = 3 \\\\\n",
    "    2(x + y) = 3 + 6 \\\\\n",
    "    2(x + y) = 9 \\\\\n",
    "    \\frac{2(x + y) = 9} \\\\\n",
    "    (x + y) = \\frac{9}{2} \\\\\n",
    "\n",
    "    x + y - 1 \\\\\n",
    "    (x + y) - 1 \\\\\n",
    "    (\\frac{9}{2}) - \\frac{2}{2} \\\\\n",
    "    \\boxed{\\frac{7}{2}}\n",
    "\\end{gather*}\n"
   ]
  },
  {
   "cell_type": "markdown",
   "id": "802ebbe4",
   "metadata": {},
   "source": [
    "> 5. What went wrong in this solution?\n",
    "\n",
    "If $2x + 3 = 7$, what is $x /3$?\n",
    "\n",
    "\\begin{gather*}\n",
    "    2x + 3 = 7 \\\\\n",
    "    2x = 4 \\\\\n",
    "    \\frac{x}{3} = \\frac{4}{3}\n",
    "\\end{gather*}\n",
    "\n",
    "$\\frac{x}{3}$ should be $\\frac{2}{3}$"
   ]
  },
  {
   "cell_type": "markdown",
   "id": "99b69ede",
   "metadata": {},
   "source": [
    "> 6. If $a + 2b = 6 − a$ and $b = 1$, what is $a/2$?\n",
    "\n",
    "\\begin{gather*}\n",
    "    b = 1 \\\\\n",
    "    a + 2b = 6 − a \\\\\n",
    "    a + 2(1) = 6 - a \\\\\n",
    "    a + 2 = 6 - a \\\\\n",
    "    a + a = 6 - 2 \\\\\n",
    "    2a = 4 \\\\\n",
    "    \\frac{2a = 4}{2} \\\\\n",
    "    a = 2 \\\\ \\\\\n",
    "\n",
    "    a/2 \\\\\n",
    "    (2)/2 \\\\\n",
    "    \\boxed{1}\n",
    "\\end{gather*}"
   ]
  }
 ],
 "metadata": {
  "language_info": {
   "name": "python"
  }
 },
 "nbformat": 4,
 "nbformat_minor": 5
}
