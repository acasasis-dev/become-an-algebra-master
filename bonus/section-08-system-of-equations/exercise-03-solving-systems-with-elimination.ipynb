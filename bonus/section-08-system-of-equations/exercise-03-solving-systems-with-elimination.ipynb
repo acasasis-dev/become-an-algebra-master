{
 "cells": [
  {
   "cell_type": "markdown",
   "id": "a0b4a332",
   "metadata": {},
   "source": [
    "## Exercise 03: Solving Systems With Elimination"
   ]
  },
  {
   "cell_type": "markdown",
   "id": "2c762a9a",
   "metadata": {},
   "source": [
    "> 1. What’s the easiest way to set up the elimination method for the\n",
    "system of equations? Set up but do not solve the elimination.\n",
    "\n",
    "\\begin{gather*}\n",
    "    6y - 3x = 8 \\\\\n",
    "    x - 4y = 5 \\\\ \\\\\n",
    "\\end{gather*}"
   ]
  },
  {
   "cell_type": "markdown",
   "id": "52e7911c",
   "metadata": {},
   "source": [
    "> 2. Find the unique solution to the system of equations.\n",
    "\n",
    "\\begin{gather*}\n",
    "    2x - y = 5 \\\\\n",
    "    -3x + y = 7 \\\\ \\\\\n",
    "\\end{gather*}"
   ]
  },
  {
   "cell_type": "markdown",
   "id": "d8a87ff9",
   "metadata": {},
   "source": [
    "> 3. What went wrong if an elimination was done in the system and the\n",
    "result was $2y = 3$?\n",
    "\n",
    "\\begin{gather*}\n",
    "    -4x + 3y = 7 \\\\\n",
    "    -4x - y = 4 \\\\ \\\\\n",
    "\\end{gather*}"
   ]
  },
  {
   "cell_type": "markdown",
   "id": "ee4869d4",
   "metadata": {},
   "source": [
    "> 4. Find the unique solution to the system of equations.\n",
    "\n",
    "\\begin{gather*}\n",
    "    x = 2y - 5 \\\\\n",
    "    -3x + 6y = 15 \\\\ \\\\\n",
    "\\end{gather*}"
   ]
  },
  {
   "cell_type": "markdown",
   "id": "6d956112",
   "metadata": {},
   "source": [
    "> 5. Find the unique solution to the system of equations.\n",
    "\n",
    "\\begin{gather*}\n",
    "    4 - 2x = 6y \\\\\n",
    "    7 = x + 3y \\\\ \\\\\n",
    "\\end{gather*}"
   ]
  },
  {
   "cell_type": "markdown",
   "id": "72f65d5b",
   "metadata": {},
   "source": [
    "> 6. Find the unique solution to the system of equations.\n",
    "\n",
    "\\begin{gather*}\n",
    "    x = 2y - 8 \\\\\n",
    "    3y = x + 5 \\\\ \\\\\n",
    "\\end{gather*}"
   ]
  }
 ],
 "metadata": {
  "language_info": {
   "name": "python"
  }
 },
 "nbformat": 4,
 "nbformat_minor": 5
}
