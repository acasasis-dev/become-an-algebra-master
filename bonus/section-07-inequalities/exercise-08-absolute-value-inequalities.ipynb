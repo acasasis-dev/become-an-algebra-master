{
 "cells": [
  {
   "cell_type": "markdown",
   "id": "3fd39c7a",
   "metadata": {},
   "source": [
    "## Exercise 8: Absolute Value Inequalities"
   ]
  },
  {
   "cell_type": "markdown",
   "id": "8e34bd6a",
   "metadata": {},
   "source": [
    "> 1. Rewrite the inequality by taking away the absolute value.\n",
    "\n",
    "$|3x − 7| \\ge 2$"
   ]
  },
  {
   "cell_type": "markdown",
   "id": "b29d82a6",
   "metadata": {},
   "source": [
    "> 2. Graph the inequality.\n",
    "\n",
    "$5|1 − x | − 7 < 3$"
   ]
  },
  {
   "cell_type": "markdown",
   "id": "c4e313a8",
   "metadata": {},
   "source": [
    "> 3. Graph the inequality.\n",
    "\n",
    "$2(| x − 4| − 1) + 6 \\le 4$"
   ]
  },
  {
   "cell_type": "markdown",
   "id": "9a9c17a5",
   "metadata": {},
   "source": [
    "> 4. Graph the inequality.\n",
    "\n",
    "$−2| x + 2| − 3 \\ge 1$"
   ]
  },
  {
   "cell_type": "markdown",
   "id": "4ee6b769",
   "metadata": {},
   "source": [
    "> 5. Graph the inequality.\n",
    "\n",
    "$2(3 + | x − 5| ) − 4 \\ge 10$"
   ]
  },
  {
   "cell_type": "markdown",
   "id": "3b8904fe",
   "metadata": {},
   "source": [
    "> 6. Graph the inequality.\n",
    "$|6 − 2x | \\le 4$"
   ]
  }
 ],
 "metadata": {
  "language_info": {
   "name": "python"
  }
 },
 "nbformat": 4,
 "nbformat_minor": 5
}
