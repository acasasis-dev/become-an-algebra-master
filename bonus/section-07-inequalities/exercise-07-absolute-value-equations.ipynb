{
 "cells": [
  {
   "cell_type": "markdown",
   "id": "86926b7c",
   "metadata": {},
   "source": [
    "## Exercise 7: Absolute Value Equations"
   ]
  },
  {
   "cell_type": "markdown",
   "id": "f9103aba",
   "metadata": {},
   "source": [
    "> 1. Solve $|3 − x | = 1$."
   ]
  },
  {
   "cell_type": "markdown",
   "id": "422ac843",
   "metadata": {},
   "source": [
    "> 2. Solve $|4x − 8| = 3x − 6$."
   ]
  },
  {
   "cell_type": "markdown",
   "id": "f06c2b76",
   "metadata": {},
   "source": [
    "> 3. Solve $|2x − 2| = x − 6$."
   ]
  },
  {
   "cell_type": "markdown",
   "id": "5dc9f285",
   "metadata": {},
   "source": [
    "> 4. Solve $|3x + 1| + x = 1$."
   ]
  },
  {
   "cell_type": "markdown",
   "id": "ac649a56",
   "metadata": {},
   "source": [
    "> 5. Solve $|2x + 5| = 3x + 6$."
   ]
  },
  {
   "cell_type": "markdown",
   "id": "933a507e",
   "metadata": {},
   "source": [
    "> 6. Solve $|3x + 2| = |3x + 4|$."
   ]
  }
 ],
 "metadata": {
  "language_info": {
   "name": "python"
  }
 },
 "nbformat": 4,
 "nbformat_minor": 5
}
