{
 "cells": [
  {
   "cell_type": "markdown",
   "id": "aff6dbe2",
   "metadata": {},
   "source": [
    "## Exercise 6: Graphing Inequalities In A Plane"
   ]
  },
  {
   "cell_type": "markdown",
   "id": "dc18d727",
   "metadata": {},
   "source": [
    "> 1. Graph the inequality in the Cartesian coordinate plane.\n",
    "\n",
    "$x \\le 5$"
   ]
  },
  {
   "cell_type": "markdown",
   "id": "8d2ac155",
   "metadata": {},
   "source": [
    "> 2. Graph the inequality in the Cartesian coordinate plane.\n",
    "\n",
    "$y < − 2x + 4$"
   ]
  },
  {
   "cell_type": "markdown",
   "id": "b378bc38",
   "metadata": {},
   "source": [
    "> 3. Graph the inequality in the Cartesian coordinate plane.\n",
    "\n",
    "$y \\ge −\\frac{1}{3}x + 5$"
   ]
  },
  {
   "cell_type": "markdown",
   "id": "9825bc15",
   "metadata": {},
   "source": [
    "> 4. Graph the inequality in the Cartesian coordinate plane.\n",
    "\n",
    "$y \\le x − 1$"
   ]
  },
  {
   "cell_type": "markdown",
   "id": "fcaabf8f",
   "metadata": {},
   "source": [
    "> 5. Graph the inequality in the Cartesian coordinate plane.\n",
    "\n",
    "$y > \\frac{1}{2}x − 3$"
   ]
  },
  {
   "cell_type": "markdown",
   "id": "e6cf22f1",
   "metadata": {},
   "source": [
    "> 6. Graph the inequality in the Cartesian coordinate plane.\n",
    "\n",
    "$y \\ge 3x − 2$"
   ]
  }
 ],
 "metadata": {
  "language_info": {
   "name": "python"
  }
 },
 "nbformat": 4,
 "nbformat_minor": 5
}
