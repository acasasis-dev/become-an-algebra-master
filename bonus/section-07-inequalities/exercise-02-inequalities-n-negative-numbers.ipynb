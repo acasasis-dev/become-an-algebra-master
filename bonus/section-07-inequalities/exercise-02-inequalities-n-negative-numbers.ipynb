{
 "cells": [
  {
   "cell_type": "markdown",
   "id": "7c92d249",
   "metadata": {},
   "source": [
    "## Exercise 2: Inequalities and Negative Numbers"
   ]
  },
  {
   "cell_type": "markdown",
   "id": "3367d4a4",
   "metadata": {},
   "source": [
    "> 1. Solve the inequality.\n",
    "\n",
    "\\begin{gather*}\n",
    "    −3x + 4 < 22 \\\\ \\\\\n",
    "\\end{gather*}"
   ]
  },
  {
   "cell_type": "markdown",
   "id": "2c9e5af2",
   "metadata": {},
   "source": [
    "> 2. What went wrong in this set of steps?\n",
    "\n",
    "\\begin{gather*}\n",
    "    −5x + 6 < 9 − 2x \\\\\n",
    "    −3x < 3 \\\\\n",
    "    x < − 1\n",
    "\\end{gather*}"
   ]
  },
  {
   "cell_type": "markdown",
   "id": "30f57b44",
   "metadata": {},
   "source": [
    "> 3. Solve the inequality.\n",
    "\n",
    "\\begin{gather*}\n",
    "    −(5 − 2x) ≥ 3(x − 3) + 2x \\\\ \\\\\n",
    "\\end{gather*}"
   ]
  },
  {
   "cell_type": "markdown",
   "id": "8e078cdb",
   "metadata": {},
   "source": [
    "> 4. Solve the inequality.\n",
    "\n",
    "\\begin{gather*}\n",
    "    −6x + 7 > −3x + 2 \\\\ \\\\\n",
    "\\end{gather*}"
   ]
  },
  {
   "cell_type": "markdown",
   "id": "c714d253",
   "metadata": {},
   "source": [
    "> 5. What went wrong in this set of steps?\n",
    "\n",
    "\\begin{gather*}\n",
    "    −2(x + 1) ≥ 3(2 + x) \\\\\n",
    "    −2x − 2 ≥ 6 + 3x \\\\\n",
    "    −2x − 3x − 2 ≤ 6\n",
    "\\end{gather*}"
   ]
  },
  {
   "cell_type": "markdown",
   "id": "12ae9b08",
   "metadata": {},
   "source": [
    "> 6. Solve the inequality.\n",
    "\n",
    "\\begin{gather*}\n",
    "    7(1 − x) \\le 2x \\\\ \\\\\n",
    "\\end{gather*}"
   ]
  }
 ],
 "metadata": {
  "language_info": {
   "name": "python"
  }
 },
 "nbformat": 4,
 "nbformat_minor": 5
}
