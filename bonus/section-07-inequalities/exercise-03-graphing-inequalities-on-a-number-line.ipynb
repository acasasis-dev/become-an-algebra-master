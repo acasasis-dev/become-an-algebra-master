{
 "cells": [
  {
   "cell_type": "markdown",
   "id": "adf24729",
   "metadata": {},
   "source": [
    "## Exercise 3: Graphing Inequalities On A Number Line"
   ]
  },
  {
   "cell_type": "markdown",
   "id": "11405aad",
   "metadata": {},
   "source": [
    "> 1. Give two inequalities that, when graphed on a number line, have open\n",
    "circles at $x = 3$."
   ]
  },
  {
   "cell_type": "markdown",
   "id": "e8ef07c4",
   "metadata": {},
   "source": [
    "> 2. Graph the inequality on a number line.\n",
    "\n",
    "\\begin{gather*}\n",
    "    −2x < 4 \\\\ \\\\\n",
    "\\end{gather*}"
   ]
  },
  {
   "cell_type": "markdown",
   "id": "f2c6a068",
   "metadata": {},
   "source": [
    "> 3. Graph the inequality on a number line.\n",
    "\n",
    "\\begin{gather*}\n",
    "    x − 1 \\ge 3 \\\\ \\\\\n",
    "\\end{gather*}"
   ]
  },
  {
   "cell_type": "markdown",
   "id": "b00a5f7a",
   "metadata": {},
   "source": [
    "> 4. Graph the inequality on a number line.\n",
    "\n",
    "\\begin{gather*}\n",
    "    5(−x + 3) < − 3x + 7 \\\\ \\\\\n",
    "\\end{gather*}"
   ]
  },
  {
   "attachments": {
    "image.png": {
     "image/png": "[encoded data removed]"
    }
   },
   "cell_type": "markdown",
   "id": "1bd21cdb",
   "metadata": {},
   "source": [
    "> 5. What’s wrong with this graph of $x > 1$?\n",
    "\n",
    "![image.png](attachment:image.png)"
   ]
  },
  {
   "cell_type": "markdown",
   "id": "66e6f3f0",
   "metadata": {},
   "source": [
    "> 6. Graph the inequality on a number line.\n",
    "\n",
    "\\begin{gather*}\n",
    "    5(x + 7) − x \\ge 3(x + 10) + 6 \\\\ \\\\\n",
    "\\end{gather*}"
   ]
  }
 ],
 "metadata": {
  "language_info": {
   "name": "python"
  }
 },
 "nbformat": 4,
 "nbformat_minor": 5
}
