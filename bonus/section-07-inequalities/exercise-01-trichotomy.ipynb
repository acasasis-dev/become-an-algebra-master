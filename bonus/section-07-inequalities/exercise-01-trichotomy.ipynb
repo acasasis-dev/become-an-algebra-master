{
 "cells": [
  {
   "cell_type": "markdown",
   "id": "92a71b9c",
   "metadata": {},
   "source": [
    "## Exercise 01: Trichotomy"
   ]
  },
  {
   "cell_type": "markdown",
   "id": "e0d19d7c",
   "metadata": {},
   "source": [
    "> 1. Solve the inequality.\n",
    "\n",
    "\\begin{gather*}\n",
    "    2(x + 1) \\ \\cancel{\\le} \\ −(8 − x) \\\\ \\\\\n",
    "\\end{gather*}"
   ]
  },
  {
   "cell_type": "markdown",
   "id": "ef624232",
   "metadata": {},
   "source": [
    "> 2. Give two ways to write the sentence in mathematical notation.\n",
    "\n",
    "“$x^2$ is not greater than $4y$ and is also not equal to $4y$.”"
   ]
  },
  {
   "cell_type": "markdown",
   "id": "9c81dac2",
   "metadata": {},
   "source": [
    "> 3. Give the three possible relationships in the Law of Trichotomy."
   ]
  },
  {
   "cell_type": "markdown",
   "id": "3fa95d8f",
   "metadata": {},
   "source": [
    "> 4. Find a way to express the relationships as one equality or inequality.\n",
    "\n",
    "$x^2 + x \\ \\cancel{<} \\ 2$ and $x^2 + x \\ \\cancel{>} \\ 2$"
   ]
  },
  {
   "cell_type": "markdown",
   "id": "6d3602e9",
   "metadata": {},
   "source": [
    "> 5. Give two ways to write the statement in mathematical notation.\n",
    "\n",
    "“$3(x + 1)$ is not less than $−x − 5$ and is also not equal to $−x − 5$.”"
   ]
  },
  {
   "cell_type": "markdown",
   "id": "60444e90",
   "metadata": {},
   "source": [
    "> 6. Solve the statement.\n",
    "\n",
    "$−3(1 − x) \\ \\cancel{>} \\ 3(7 − x) − 2x$ and $−3(1 − x) \\ \\cancel{<} \\ 3(7 − x) − 2x$"
   ]
  }
 ],
 "metadata": {
  "language_info": {
   "name": "python"
  }
 },
 "nbformat": 4,
 "nbformat_minor": 5
}
