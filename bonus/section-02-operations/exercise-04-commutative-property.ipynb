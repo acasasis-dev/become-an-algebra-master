{
 "cells": [
  {
   "cell_type": "markdown",
   "id": "63f9d8c3",
   "metadata": {},
   "source": [
    "## Commutative Property"
   ]
  },
  {
   "cell_type": "markdown",
   "id": "da5a7344",
   "metadata": {},
   "source": [
    "> 1. Using the Commutative Property, rewrite $6 + 19$ and then simplify.\n",
    "\n",
    "\\begin{gather*}\n",
    "    6 + 19 \\\\ \\\\\n",
    "    6 + 19 = 19 + 6 \\\\\n",
    "    \\boxed{25 = 25}\n",
    "\\end{gather*}"
   ]
  },
  {
   "cell_type": "markdown",
   "id": "8b990004",
   "metadata": {},
   "source": [
    "> 2. Give an example of an expression that demonstrates the Commutative Property of Multiplication.\n",
    "\n",
    "\\begin{gather*}\n",
    "    ab = ba \\\\\n",
    "    xyz = zyx\n",
    "\\end{gather*}"
   ]
  },
  {
   "cell_type": "markdown",
   "id": "1234c924",
   "metadata": {},
   "source": [
    "> 3. According to the Commutative Property, what's the value of the variable in the equation?\n",
    "\n",
    "\\begin{gather*}\n",
    "    11 + (23 + 6) = 11 + (6 + x) \\\\ \\\\\n",
    "\n",
    "    11 + (23 + 6) = 11 + (6 + \\boxed{23}) \\\\\n",
    "    11 + (29) = 11 + (29) \\\\\n",
    "    40 = 40 \\\\\n",
    "    \\boxed{x = 23}\n",
    "\\end{gather*}"
   ]
  },
  {
   "cell_type": "markdown",
   "id": "c42fc724",
   "metadata": {},
   "source": [
    "> 4. Rearrange $(3 + 6) + 2$ using the Commutative Property and then the Associative Property.\n",
    "\n",
    "\\begin{gather*}\n",
    "    (3 + 6) + 2 \\\\ \\\\\n",
    "    (3 + 6) + 2 = (6 + 3) + 2 \\\\\n",
    "    \\boxed{(6 + 3) + 2 = 6 + (3 + 2)}\n",
    "\\end{gather*}"
   ]
  },
  {
   "cell_type": "markdown",
   "id": "f00d1ee9",
   "metadata": {},
   "source": [
    "> 5. Give an example of an expression that demonstrates the Commutative Property of Addition.\n",
    "\n",
    "\\begin{gather*}\n",
    "    a + b = b + a \\\\\n",
    "    ab + xy = xy + ab\n",
    "\\end{gather*}"
   ]
  },
  {
   "cell_type": "markdown",
   "id": "a6bae1da",
   "metadata": {},
   "source": [
    "> 6. According to the Commutative Property, what's the value of the variable of the equation?\n",
    "\n",
    "\\begin{gather*}\n",
    "    (4 \\times 2) \\times 9 = (x \\times 9) \\times 4 \\\\ \\\\\n",
    "\n",
    "    (4 \\times 2) \\times 9 = (\\boxed{2} \\times 9) \\times 4 \\\\\n",
    "    (8) \\times 9 = (18) \\times 4 \\\\\n",
    "    72 = 72 \\\\\n",
    "    \\boxed{x = 2}\n",
    "\\end{gather*}"
   ]
  }
 ],
 "metadata": {
  "language_info": {
   "name": "python"
  }
 },
 "nbformat": 4,
 "nbformat_minor": 5
}
