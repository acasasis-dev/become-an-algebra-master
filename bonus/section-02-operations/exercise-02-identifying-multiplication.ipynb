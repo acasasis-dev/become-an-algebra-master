{
 "cells": [
  {
   "cell_type": "markdown",
   "id": "b93e1c2d",
   "metadata": {},
   "source": [
    "## Identifying Multiplication"
   ]
  },
  {
   "cell_type": "markdown",
   "id": "829c7230",
   "metadata": {},
   "source": [
    "> 1. Give three different examples of how we can write \"`a` times `b`\" mathematically.\n",
    "\n",
    "\\begin{gather*}\n",
    "    ab \\\\\n",
    "    a(b) \\\\\n",
    "    (a)b \\\\\n",
    "    (a)(b) \\\\\n",
    "    a \\cdot b \\\\\n",
    "    a \\times b \\\\\n",
    "\\end{gather*}"
   ]
  },
  {
   "cell_type": "markdown",
   "id": "424db3a1",
   "metadata": {},
   "source": [
    "> 2. Simplify the expression.\n",
    "\n",
    "\\begin{gather*}\n",
    "    5(2 \\cdot 3) \\times (1)(a) \\\\ \\\\\n",
    "\n",
    "    5(6) \\times a \\\\\n",
    "    30 \\times a \\\\\n",
    "    \\boxed{30a}\n",
    "\\end{gather*}"
   ]
  },
  {
   "cell_type": "markdown",
   "id": "08cfb436",
   "metadata": {},
   "source": [
    "> 3. Find the value of the expression.\n",
    "\n",
    "\\begin{gather*}\n",
    "    4 \\times 3(1)(2 \\cdot 1) \\\\ \\\\\n",
    "\n",
    "    4 \\times 3(2) \\\\\n",
    "    4 \\times 6 \\\\\n",
    "    \\boxed{24}\n",
    "\\end{gather*}"
   ]
  },
  {
   "cell_type": "markdown",
   "id": "93bab1fc",
   "metadata": {},
   "source": [
    "> 4. Find the value of the expression.\n",
    "\n",
    "\\begin{gather*}\n",
    "    2(4)(3 \\cdot 4) \\times (5)(2) \\\\ \\\\\n",
    "\n",
    "    8(12) \\times 10 \\\\\n",
    "    96 \\times 10 \\\\\n",
    "    \\boxed{960}\n",
    "\\end{gather*}"
   ]
  },
  {
   "cell_type": "markdown",
   "id": "0dceeb1d",
   "metadata": {},
   "source": [
    "> 5. Why do we have different ways to write multiplication?\n",
    "\n",
    "Because the \"times\" symbol, $\\times$, can be confused with x."
   ]
  },
  {
   "cell_type": "markdown",
   "id": "fcfa0c50",
   "metadata": {},
   "source": [
    "> 6. Simplify the expression.\n",
    "\n",
    "\\begin{gather*}\n",
    "    (-3)(2) \\times 4 \\cdot (-2)(2 \\cdot 1) \\\\ \\\\\n",
    "    \n",
    "    -6 \\times -8(2) \\\\\n",
    "    -6 \\times -16 \\\\\n",
    "    \\boxed{96}\n",
    "\\end{gather*}"
   ]
  }
 ],
 "metadata": {
  "language_info": {
   "name": "python"
  }
 },
 "nbformat": 4,
 "nbformat_minor": 5
}
