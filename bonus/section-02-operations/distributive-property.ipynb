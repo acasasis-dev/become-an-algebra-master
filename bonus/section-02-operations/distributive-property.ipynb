{
 "cells": [
  {
   "cell_type": "markdown",
   "id": "52782836",
   "metadata": {},
   "source": [
    "## Distributive Property"
   ]
  },
  {
   "cell_type": "markdown",
   "id": "9cf744f4",
   "metadata": {},
   "source": [
    "> 1. Use the Distributive Property to simplify the expression.\n",
    "\n",
    "\\begin{gather*}\n",
    "    5(x - 2) + \\frac{1}{2}(6 - 2x) \\\\ \\\\\n",
    "\n",
    "    5x - 10 + \\frac{6 - 2x}{2} \\\\\n",
    "    5x - 10 + 3 - x \\\\\n",
    "    4x - 10 + 3 \\\\\n",
    "    \\boxed{4x - 7}\n",
    "\\end{gather*}"
   ]
  },
  {
   "cell_type": "markdown",
   "id": "76a8f73b",
   "metadata": {},
   "source": [
    "> 2. Use the Distributive Property to expand the expression.\n",
    "\n",
    "\\begin{gather*}\n",
    "    -\\frac{2}{5}(10 - 5x) \\\\ \\\\\n",
    "\n",
    "    -\\frac{20 - 10x}{5} \\\\\n",
    "    \\boxed{-4 + 2x}\n",
    "\\end{gather*}"
   ]
  },
  {
   "cell_type": "markdown",
   "id": "e601096c",
   "metadata": {},
   "source": [
    "> 3. Give an example that demonstrates the Distributive Property with subtraction.\n",
    "\n",
    "\\begin{gather*}\n",
    "    11(a - 23) = 11a - 253 \\\\\n",
    "    5(b - 28) = 5b - 140 \\\\\n",
    "\\end{gather*}"
   ]
  },
  {
   "cell_type": "markdown",
   "id": "ad8e95e9",
   "metadata": {},
   "source": [
    "> 4. Which three main operations are used in the Distributive Property?\n",
    "\n",
    "Multiplication, Addition and Subtraction"
   ]
  },
  {
   "cell_type": "markdown",
   "id": "39d54115",
   "metadata": {},
   "source": [
    "> 5. Use the Distributive Property to simplify the expression.\n",
    "\n",
    "\\begin{gather*}\n",
    "    2(5 - 3x) - 2(x - 4) \\\\ \\\\\n",
    "    \n",
    "    10 - 6x - 2x + 8 \\\\\n",
    "    18 - 6x - 2x \\\\\n",
    "    \\boxed{18 - 8x}\n",
    "\\end{gather*}"
   ]
  },
  {
   "cell_type": "markdown",
   "id": "325210c7",
   "metadata": {},
   "source": [
    "> 6. What value would make the following equation true?\n",
    "\n",
    "\\begin{gather*}\n",
    "    2(x + 3) = ?? + 6 \\\\ \\\\\n",
    "\n",
    "    2x + 6 = ?? + 6 \\\\\n",
    "    2x + 6 - 6 = ?? \\\\\n",
    "    \\boxed{?? = 2x}\n",
    "\\end{gather*}"
   ]
  }
 ],
 "metadata": {
  "language_info": {
   "name": "python"
  }
 },
 "nbformat": 4,
 "nbformat_minor": 5
}
