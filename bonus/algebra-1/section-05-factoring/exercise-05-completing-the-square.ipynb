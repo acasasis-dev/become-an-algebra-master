{
 "cells": [
  {
   "cell_type": "markdown",
   "id": "0b991afe",
   "metadata": {},
   "source": [
    "## Exercise 5: Completing The Square"
   ]
  },
  {
   "cell_type": "markdown",
   "id": "a7d52d05",
   "metadata": {},
   "source": [
    "> 1. Solve for $x$ by completing the square.\n",
    "\n",
    "\\begin{gather*}\n",
    "    x^2 - 6x + 5 = 0 \\\\ \\\\\n",
    "\n",
    "    (\\frac{6}{2})^2 = 9 \\\\\n",
    "    (x^2 - 6x + 9) + 5 = 0 + 9 \\\\\n",
    "    (x - 3)^2 = 9 - 5 \\\\\n",
    "    (x - 3)^2 = 4 \\\\\n",
    "    \\sqrt{(x - 3)^2 = 4} \\\\\n",
    "    x - 3 = \\pm2 \\\\ \\\\\n",
    "\n",
    "    x - 3 = 2 \\\\\n",
    "    x = 2 + 3 \\\\\n",
    "    \\boxed{x = 5} \\\\ \\\\\n",
    "\n",
    "    x - 3 = -2 \\\\\n",
    "    x = 3 - 2 \\\\\n",
    "    \\boxed{x = 1}\n",
    "\\end{gather*}"
   ]
  },
  {
   "cell_type": "markdown",
   "id": "28b5f7fd",
   "metadata": {},
   "source": [
    "> 2. Fill in the blank with the correct term.\n",
    "\n",
    "\\begin{gather*}\n",
    "    x^2 + \\_\\_\\_ + \\frac{9}{4} = -2 + \\frac{9}{4} \\\\ \\\\\n",
    "\n",
    "    \\_\\_\\_ = (\\sqrt{\\frac{9}{4}} \\cdot 2)x \\\\\n",
    "    \\_\\_\\_ = (\\frac{3}{2} \\cdot 2)x \\\\\n",
    "    \\_\\_\\_ = (\\frac{6}{2})x \\\\\n",
    "    \\_\\_\\_ = 3x\n",
    "\\end{gather*}\n",
    "\n",
    "Missing value is $3x$."
   ]
  },
  {
   "cell_type": "markdown",
   "id": "c9db9452",
   "metadata": {},
   "source": [
    "> 3. Complete the square but don’t solve for the roots.\n",
    "\n",
    "\\begin{gather*}\n",
    "    y^2 - 4y + 1 = 0 \\\\ \\\\\n",
    "\n",
    "    (\\frac{4}{2})^2 = 4 \\\\\n",
    "    (y^2 - 4y + 4) + 1 = 0 + 4 \\\\\n",
    "    (y - 2)^2 = 4 -1 \\\\\n",
    "    \\boxed{(y - 2)^2 = 3}\n",
    "\\end{gather*}"
   ]
  },
  {
   "cell_type": "markdown",
   "id": "be6c63b1",
   "metadata": {},
   "source": [
    "> 4. Solve for $y$ by completing the square.\n",
    "\n",
    "\\begin{gather*}\n",
    "    y^2 + 3y = 1 \\\\ \\\\\n",
    "\n",
    "    (\\frac{3}{2})^2 = \\frac{9}{4} \\\\\n",
    "    (y^2 + 3y + \\frac{9}{4}) = 1 + \\frac{9}{4} \\\\\n",
    "    (y + \\frac{3}{2})^2 = \\frac{4}{4} + \\frac{9}{4} \\\\\n",
    "    (y + \\frac{3}{2})^2 = \\frac{13}{4} \\\\\n",
    "    \\sqrt{(y + \\frac{3}{2})^2 = \\frac{13}{4}} \\\\\n",
    "    y + \\frac{3}{2} = \\pm\\sqrt{\\frac{13}{2}} \\\\\n",
    "    y = -\\frac{3}{2} \\pm\\sqrt{\\frac{13}{2}} \\\\ \\\\\n",
    "\n",
    "    \\boxed{y = -\\frac{3 \\pm \\sqrt{13}}{2}}\n",
    "\\end{gather*}"
   ]
  },
  {
   "cell_type": "markdown",
   "id": "40b2e8f7",
   "metadata": {},
   "source": [
    "> 5. Solve for $x$ by completing the square.\n",
    "\n",
    "\\begin{gather*}\n",
    "    x^2 + 6x + 11 = 0 \\\\ \\\\\n",
    "\n",
    "    (\\frac{6}{2})^2 = 9 \\\\\n",
    "    (x^2 + 6x + 9) + 11 = 0 + 9 \\\\\n",
    "    (x + 3)^2 = 9 - 11 \\\\\n",
    "    (x + 3)^2 = -2 \\\\\n",
    "    \\sqrt{(x + 3)^2 = -2} \\\\\n",
    "    x + 3 = \\pm\\sqrt{-2} \\\\\n",
    "    x = -3 \\pm\\sqrt{-2} \\\\\n",
    "    \\boxed{x = -3 \\pm\\sqrt{2}i}\n",
    "\\end{gather*}"
   ]
  },
  {
   "cell_type": "markdown",
   "id": "5021a338",
   "metadata": {},
   "source": [
    "> 6. Solve for $x$ by completing the square.\n",
    "\n",
    "\\begin{gather*}\n",
    "    2x^2 + 8x + 35 = 0 \\\\ \\\\\n",
    "\n",
    "    \\frac{2x^2 + 8x + 35 = 0}{2} \\\\\n",
    "    x^2 + 4x + \\frac{35}{2} = 0 \\\\\n",
    "    (\\frac{4}{2})^2 = 4 \\\\\n",
    "    (x^2 + 4x + 4) + \\frac{35}{2} = 0 + 4 \\\\\n",
    "    (x + 2)^2 = 4 - \\frac{35}{2} \\\\\n",
    "    (x + 2)^2 = \\frac{8}{2} - \\frac{35}{2} \\\\\n",
    "    (x + 2)^2 = -\\frac{27}{2} \\\\\n",
    "    \\sqrt{(x + 2)^2 = -\\frac{27}{2}} \\\\\n",
    "    x + 2 = \\pm\\sqrt{-\\frac{27}{2}} \\\\\n",
    "    x = -2 \\pm\\sqrt{-\\frac{27}{2}} \\\\\n",
    "    x = -2 \\pm\\frac{\\sqrt{9}\\sqrt{3}}{\\sqrt{2}}i \\\\\n",
    "    x = -2 \\pm 3\\frac{\\sqrt{3}}{\\sqrt{2}}i \\\\\n",
    "\\end{gather*}"
   ]
  }
 ],
 "metadata": {
  "language_info": {
   "name": "python"
  }
 },
 "nbformat": 4,
 "nbformat_minor": 5
}
