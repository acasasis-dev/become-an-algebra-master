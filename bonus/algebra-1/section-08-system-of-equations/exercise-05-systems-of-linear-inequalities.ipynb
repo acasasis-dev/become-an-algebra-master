{
 "cells": [
  {
   "cell_type": "markdown",
   "id": "38da03b1",
   "metadata": {},
   "source": [
    "## Exercise 5: Systems of Linear Inequalities"
   ]
  },
  {
   "cell_type": "markdown",
   "id": "e6ea9314",
   "metadata": {},
   "source": [
    "> 1. Graph the solution to the system of linear inequalities.\n",
    "\n",
    "\\begin{gather*}\n",
    "    y > x + 1 \\\\\n",
    "    y ≤ 5 − x \\\\ \\\\\n",
    "\\end{gather*}"
   ]
  },
  {
   "cell_type": "markdown",
   "id": "3f89d094",
   "metadata": {},
   "source": [
    "> 2. Graph the solution to the system of linear inequalities.\n",
    "\n",
    "\\begin{gather*}\n",
    "    2x + 2y \\ge 4 \\\\\n",
    "    y > − 1 \\\\ \\\\\n",
    "\\end{gather*}"
   ]
  },
  {
   "cell_type": "markdown",
   "id": "419d0aab",
   "metadata": {},
   "source": [
    "> 3. Graph the solution to the system of linear inequalities.\n",
    "\n",
    "\\begin{gather*}\n",
    "    x + 3y + 3 \\ge 0 \\\\ \n",
    "    3x + y + 1 ≥ 0 \\\\ \\\\\n",
    "\\end{gather*}"
   ]
  },
  {
   "cell_type": "markdown",
   "id": "07b36b3d",
   "metadata": {},
   "source": [
    "> 4. Graph the solution to the system of linear inequalities.\n",
    "\n",
    "\\begin{gather*}\n",
    "    y > 2x \\\\\n",
    "    x > 2y \\\\ \\\\\n",
    "\\end{gather*}"
   ]
  },
  {
   "cell_type": "markdown",
   "id": "ea15ff49",
   "metadata": {},
   "source": [
    "> 5. Graph the solution to the system of linear inequalities.\n",
    "\n",
    "\\begin{gather*}\n",
    "    2y + 3x \\ge − 4 \\\\\n",
    "    x > y − 1 \\\\ \\\\\n",
    "\\end{gather*}"
   ]
  },
  {
   "cell_type": "markdown",
   "id": "888d5030",
   "metadata": {},
   "source": [
    "> 6. Graph the solution to the system of linear inequalities.\n",
    "\n",
    "\\begin{gather*}\n",
    "    4x − 2y − 4 \\ge 0 \\\\\n",
    "    y ≥ 2x − 2 \\\\ \\\\\n",
    "\\end{gather*}"
   ]
  }
 ],
 "metadata": {
  "language_info": {
   "name": "python"
  }
 },
 "nbformat": 4,
 "nbformat_minor": 5
}
