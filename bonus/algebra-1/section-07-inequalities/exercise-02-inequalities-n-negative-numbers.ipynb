{
 "cells": [
  {
   "cell_type": "markdown",
   "id": "7c92d249",
   "metadata": {},
   "source": [
    "## Exercise 2: Inequalities and Negative Numbers"
   ]
  },
  {
   "cell_type": "markdown",
   "id": "3367d4a4",
   "metadata": {},
   "source": [
    "> 1. Solve the inequality.\n",
    "\n",
    "\\begin{gather*}\n",
    "    −3x + 4 < 22 \\\\ \\\\\n",
    "\n",
    "    -3x < 22 - 4 \\\\\n",
    "    -3x < 18 \\\\ \\\\\n",
    "\n",
    "    \\frac{-3x < 18}{-3} \\\\\n",
    "    \\boxed{x > -6}\n",
    "\\end{gather*}"
   ]
  },
  {
   "cell_type": "markdown",
   "id": "2c9e5af2",
   "metadata": {},
   "source": [
    "> 2. What went wrong in this set of steps?\n",
    "\n",
    "\\begin{gather*}\n",
    "    −5x + 6 < 9 − 2x \\\\\n",
    "    −3x < 3 \\\\\n",
    "    x < − 1\n",
    "\\end{gather*}\n",
    "\n",
    "Solver did not flip the inequality sign \"<\" to \">\""
   ]
  },
  {
   "cell_type": "markdown",
   "id": "30f57b44",
   "metadata": {},
   "source": [
    "> 3. Solve the inequality.\n",
    "\n",
    "\\begin{gather*}\n",
    "    −(5 − 2x) \\ge 3(x − 3) + 2x \\\\ \\\\\n",
    "\n",
    "    -5 + 2x \\ge 3x - 9 + 2x \\\\\n",
    "    2x - 3x - 2x \\ge -9 + 5 \\\\\n",
    "    -3x \\ge -4 \\\\ \\\\\n",
    "\n",
    "    \\frac{-3x \\ge -4}{-3} \\\\\n",
    "    \\boxed{x \\le \\frac{4}{3}}\n",
    "\\end{gather*}"
   ]
  },
  {
   "cell_type": "markdown",
   "id": "8e078cdb",
   "metadata": {},
   "source": [
    "> 4. Solve the inequality.\n",
    "\n",
    "\\begin{gather*}\n",
    "    −6x + 7 > −3x + 2 \\\\ \\\\\n",
    "\n",
    "    -6x + 3x > 2 - 7 \\\\\n",
    "    -3x > -5 \\\\ \\\\\n",
    "\n",
    "    \\frac{-3x > -5}{-3} \\\\\n",
    "    \\boxed{x < \\frac{5}{3}}\n",
    "\\end{gather*}"
   ]
  },
  {
   "cell_type": "markdown",
   "id": "c714d253",
   "metadata": {},
   "source": [
    "> 5. What went wrong in this set of steps?\n",
    "\n",
    "\\begin{gather*}\n",
    "    −2(x + 1) ≥ 3(2 + x) \\\\\n",
    "    −2x − 2 ≥ 6 + 3x \\\\\n",
    "    −2x − 3x − 2 ≤ 6\n",
    "\\end{gather*}\n",
    "\n",
    "Solver flipped the inequality sign without simplifying the inequality first."
   ]
  },
  {
   "cell_type": "markdown",
   "id": "12ae9b08",
   "metadata": {},
   "source": [
    "> 6. Solve the inequality.\n",
    "\n",
    "\\begin{gather*}\n",
    "    7(1 − x) \\le 2x \\\\ \\\\\n",
    "\n",
    "    7 - 7x \\le 2x \\\\\n",
    "    -7x - 2x \\le -7 \\\\\n",
    "    -9x \\le -7 \\\\ \\\\\n",
    "\n",
    "    \\frac{-9x \\le -7}{-9} \\\\\n",
    "    \\boxed{x \\ge \\frac{7}{9}}\n",
    "\\end{gather*}"
   ]
  }
 ],
 "metadata": {
  "language_info": {
   "name": "python"
  }
 },
 "nbformat": 4,
 "nbformat_minor": 5
}
