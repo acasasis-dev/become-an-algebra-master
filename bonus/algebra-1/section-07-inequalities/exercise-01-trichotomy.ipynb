{
 "cells": [
  {
   "cell_type": "markdown",
   "id": "92a71b9c",
   "metadata": {},
   "source": [
    "## Exercise 01: Trichotomy"
   ]
  },
  {
   "cell_type": "markdown",
   "id": "e0d19d7c",
   "metadata": {},
   "source": [
    "> 1. Solve the inequality.\n",
    "\n",
    "\\begin{gather*}\n",
    "    2(x + 1) \\ \\cancel{\\le} \\ −(8 − x) \\\\ \\\\\n",
    "\n",
    "    2x + 2 \\ \\cancel{\\le} \\ -8 + x \\\\\n",
    "    2x - x \\ \\cancel{\\le} \\ -8 - 2 \\\\\n",
    "    x \\ \\cancel{\\le} \\ -10 \\\\\n",
    "    \\boxed{x > -10}\n",
    "\\end{gather*}"
   ]
  },
  {
   "cell_type": "markdown",
   "id": "ef624232",
   "metadata": {},
   "source": [
    "> 2. Give two ways to write the sentence in mathematical notation.\n",
    "\n",
    "“$x^2$ is not greater than $4y$ and is also not equal to $4y$.”\n",
    "\n",
    "\\begin{gather*}\n",
    "    x^2 \\ \\cancel{\\ge} \\ 4y \\\\\n",
    "    x^2 < 4y\n",
    "\\end{gather*}"
   ]
  },
  {
   "cell_type": "markdown",
   "id": "9c81dac2",
   "metadata": {},
   "source": [
    "> 3. Give the three possible relationships in the Law of Trichotomy.\n",
    "\n",
    "\\begin{gather*}\n",
    "    x > y \\\\\n",
    "    x < y \\\\\n",
    "    x = y\n",
    "\\end{gather*}"
   ]
  },
  {
   "cell_type": "markdown",
   "id": "3fa95d8f",
   "metadata": {},
   "source": [
    "> 4. Find a way to express the relationships as one equality or inequality.\n",
    "\n",
    "$x^2 + x \\ \\cancel{<} \\ 2$ and $x^2 + x \\ \\cancel{>} \\ 2$\n",
    "\n",
    "$\\boxed{x^2 + x = 2}$"
   ]
  },
  {
   "cell_type": "markdown",
   "id": "6d3602e9",
   "metadata": {},
   "source": [
    "> 5. Give two ways to write the statement in mathematical notation.\n",
    "\n",
    "“$3(x + 1)$ is not less than $−x − 5$ and is also not equal to $−x − 5$.”\n",
    "\n",
    "\\begin{gather*}\n",
    "    3x + 3 \\ \\cancel{\\le} \\ -x - 5 \\\\\n",
    "    3x + 3 > -x - 5\n",
    "\\end{gather*}"
   ]
  },
  {
   "cell_type": "markdown",
   "id": "60444e90",
   "metadata": {},
   "source": [
    "> 6. Solve the statement.\n",
    "\n",
    "$−3(1 − x) \\ \\cancel{>} \\ 3(7 − x) − 2x$ and $−3(1 − x) \\ \\cancel{<} \\ 3(7 − x) − 2x$\n",
    "\n",
    "\\begin{gather*}\n",
    "    −3(1 − x) = 3(7 − x) − 2x \\\\\n",
    "    -3 + 3x = 21 - 3x - 2x \\\\\n",
    "    3x + 2x + 3x = 21 + 3 \\\\\n",
    "    8x = 24 \\\\ \\\\\n",
    "    \n",
    "    \\frac{8x = 24}{8} \\\\\n",
    "    \\boxed{x = 3}\n",
    "\\end{gather*}"
   ]
  }
 ],
 "metadata": {
  "language_info": {
   "name": "python"
  }
 },
 "nbformat": 4,
 "nbformat_minor": 5
}
