{
 "cells": [
  {
   "cell_type": "markdown",
   "id": "3fd39c7a",
   "metadata": {},
   "source": [
    "## Exercise 8: Absolute Value Inequalities"
   ]
  },
  {
   "cell_type": "markdown",
   "id": "8e34bd6a",
   "metadata": {},
   "source": [
    "> 1. Rewrite the inequality by taking away the absolute value.\n",
    "\n",
    "$|3x − 7| \\ge 2$\n",
    "\n",
    "\\begin{gather*}\n",
    "    3x - 7 \\ge 2 \\\\\n",
    "    3x \\ge 2 + 7 \\\\\n",
    "    3x \\ge 9 \\\\\n",
    "    \\frac{3x \\ge 9}{3} \\\\\n",
    "    x \\ge 3 \\\\ \\\\\n",
    "\n",
    "    3x - 7 \\le -2 \\\\\n",
    "    3x \\le -2 + 7 \\\\\n",
    "    3x \\le 5 \\\\\n",
    "    \\frac{3x \\le 5}{3} \\\\\n",
    "    x \\le \\frac{5}{3} \\\\ \\\\\n",
    "\n",
    "    \\boxed{3 \\le x \\le \\frac{5}{3}}\n",
    "\\end{gather*}"
   ]
  },
  {
   "cell_type": "markdown",
   "id": "b29d82a6",
   "metadata": {},
   "source": [
    "> 2. Graph the inequality.\n",
    "\n",
    "$5|1 − x | − 7 < 3$\n",
    "\n",
    "\\begin{gather*}\n",
    "    5|1 − x| < 3 + 7 \\\\\n",
    "    5|1 − x| < 10 \\\\\n",
    "    \\frac{5|1 − x| < 10}{5} \\\\\n",
    "    |1 - x| < 2 \\\\ \\\\\n",
    "\n",
    "    -2 < 1 - x < 2 \\\\\n",
    "    -2 - 1 < -x < 2 - 1 \\\\\n",
    "    -3 < -x < 1 \\\\\n",
    "    \\boxed{-1 < x < -3}\n",
    "\\end{gather*} "
   ]
  },
  {
   "cell_type": "markdown",
   "id": "c4e313a8",
   "metadata": {},
   "source": [
    "> 3. Graph the inequality.\n",
    "\n",
    "$2(| x − 4| − 1) + 6 \\le 4$\n",
    "\n",
    "\\begin{gather*}\n",
    "    2(| x − 4| − 1) + 6 \\le 4 \\\\\n",
    "    2(| x − 4| − 1) \\le 4 - 6 \\\\\n",
    "    2(| x − 4| − 1) \\le -2 \\\\\n",
    "    \\frac{2(| x − 4| − 1) \\le -2}{2} \\\\\n",
    "    |x - 4| - 1 \\le -1 \\\\\n",
    "    |x - 4| \\le -1 + 1 \\\\\n",
    "    |x - 4| \\le 0 \\\\ \\\\\n",
    "\n",
    "    x - 4 = 0 \\\\\n",
    "    x = 0 + 4 \\\\\n",
    "    \\boxed{x = 4}\n",
    "\\end{gather*}"
   ]
  },
  {
   "cell_type": "markdown",
   "id": "9a9c17a5",
   "metadata": {},
   "source": [
    "> 4. Graph the inequality.\n",
    "\n",
    "$−2| x + 2| − 3 \\ge 1$\n",
    "\n",
    "\\begin{gather*}\n",
    "    −2| x + 2| − 3 \\ge 1 \\\\\n",
    "    −2| x + 2| \\ge 1 + 3 \\\\\n",
    "    −2| x + 2| \\ge 4 \\\\\n",
    "    \\frac{−2| x + 2| \\ge 4}{-2} \\\\\n",
    "    |x + 2| \\le -2 \\\\\n",
    "\\end{gather*}"
   ]
  },
  {
   "cell_type": "markdown",
   "id": "4ee6b769",
   "metadata": {},
   "source": [
    "> 5. Graph the inequality.\n",
    "\n",
    "$2(3 + | x − 5| ) − 4 \\ge 10$\n",
    "\n",
    "\\begin{gather*}\n",
    "    2(3 + | x − 5| ) − 4 \\ge 10 \\\\\n",
    "    2(3 + | x − 5| ) \\ge 10 + 4 \\\\\n",
    "    2(3 + | x − 5| ) \\ge 14 \\\\\n",
    "    \\frac{2(3 + | x − 5| ) \\ge 14}{2} \\\\\n",
    "    3 + | x − 5| \\ge 7 \\\\\n",
    "    |x - 5| \\ge 7 - 3 \\\\\n",
    "    |x - 5| \\ge 4 \\\\ \\\\\n",
    "\n",
    "    x - 5 \\ge 4 \\\\\n",
    "    x \\ge 4 + 5 \\\\\n",
    "    x \\ge 9 \\\\ \\\\\n",
    "\n",
    "    x - 5 \\le -4 \\\\\n",
    "    x \\le -4 + 5 \\\\\n",
    "    x \\le 1 \\\\ \\\\\n",
    "\n",
    "    \\boxed{9 \\le x \\le 1}\n",
    "\\end{gather*}"
   ]
  },
  {
   "cell_type": "markdown",
   "id": "3b8904fe",
   "metadata": {},
   "source": [
    "> 6. Graph the inequality.\n",
    "$|6 − 2x | \\le 4$\n",
    "\n",
    "\\begin{gather*}\n",
    "    -4 \\le 6 - 2x \\le 4 \\\\ \\\\\n",
    "    -4 - 6 \\le -2x \\le 4 - 6 \\\\\n",
    "    -10 \\le -2x \\le -2 \\\\\n",
    "    \\frac{-10 \\le -2x \\le -2}{2} \\\\\n",
    "    -5 \\le -x \\le -1 \\\\\n",
    "    \\boxed{1 \\le x \\le 5}\n",
    "\\end{gather*}"
   ]
  }
 ],
 "metadata": {
  "language_info": {
   "name": "python"
  }
 },
 "nbformat": 4,
 "nbformat_minor": 5
}
