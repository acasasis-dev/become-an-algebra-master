{
 "cells": [
  {
   "cell_type": "markdown",
   "id": "dabcb83c",
   "metadata": {},
   "source": [
    "## Point-Slope and Slope-Intercept Forms of a Line"
   ]
  },
  {
   "cell_type": "markdown",
   "id": "a8fed68d",
   "metadata": {},
   "source": [
    "> 1. Find the equation of the line that passes through $(3,0)$ with slope $−2$.\n",
    "\n",
    "\\begin{gather*}\n",
    "    y - y_1 = m(x - x_1) \\\\\n",
    "    y - 0 = -2(x - 3) \\\\\n",
    "    \\boxed{y = -2x + 6}\n",
    "\\end{gather*}"
   ]
  },
  {
   "cell_type": "markdown",
   "id": "a24eb156",
   "metadata": {},
   "source": [
    "> 2. Find the equation of the line that passes through the points $(−2, 3)$ and $(2, −4)$.\n",
    "\n",
    "\\begin{gather*}\n",
    "    m = \\frac{y_2 - y_1}{x_2 - x_1} \\\\\n",
    "    m = \\frac{-4 - 3}{2 - (-2)} \\\\\n",
    "    m = \\frac{-7}{4} \\\\ \\\\\n",
    "\n",
    "    y - y_1 = m(x - x_1) \\\\\n",
    "    y - (3) = (-\\frac{7}{4})(x - (-2)) \\\\\n",
    "    y - (3) = (-\\frac{7}{4})(x + 2) \\\\\n",
    "    y - 3 = -\\frac{7}{4}x - \\frac{14}{4} \\\\\n",
    "    y = -\\frac{7}{4}x - \\frac{14}{4} + 3 \\\\\n",
    "    y = -\\frac{7}{4}x - \\frac{14}{4} + \\frac{12}{4} \\\\\n",
    "    y = -\\frac{7}{4}x - \\frac{2}{4} \\\\\n",
    "    \\boxed{y = -\\frac{7}{4}x - \\frac{1}{2}}\n",
    "\\end{gather*}"
   ]
  },
  {
   "cell_type": "markdown",
   "id": "5f30ef15",
   "metadata": {},
   "source": [
    "> 3. Find the equation of the line that passes through the points $(5, −4)$ and $(6,0)$.\n",
    "\n",
    "\\begin{gather*}\n",
    "    m = \\frac{y_2 - y_1}{x_2 - x_1} \\\\\n",
    "    m = \\frac{0 - (-4)}{6 - 5} \\\\\n",
    "    m = \\frac{4}{1} \\\\\n",
    "    m = 4 \\\\ \\\\\n",
    "\n",
    "\n",
    "    y - y_1 = m(x - x_1) \\\\\n",
    "    y - (-4) = 4(x - (5)) \\\\\n",
    "    y + 4 = 4x - 20 \\\\\n",
    "    y = 4x - 20 - 4 \\\\\n",
    "    y = 4x - 24 \\\\\n",
    "    \\boxed{y = x - 6}\n",
    "\\end{gather*}"
   ]
  },
  {
   "cell_type": "markdown",
   "id": "bf680c18",
   "metadata": {},
   "source": [
    "> 4. Identify the $y$-intercept and slope $m$ defining the line.\n",
    "\n",
    "\\begin{gather*}\n",
    "    y = -\\frac{1}{4}(x + 12) \\\\ \\\\\n",
    "\n",
    "    y = -\\frac{1}{4}x - \\frac{12}{4} \\\\\n",
    "    \\boxed{y = -\\frac{1}{4}x - 3}\n",
    "\\end{gather*}\n",
    "\n",
    "$y$-intercept is $-3$ and slope $m$ is $-\\frac{1}{4}$"
   ]
  },
  {
   "cell_type": "markdown",
   "id": "30469b25",
   "metadata": {},
   "source": [
    "> 5. Convert the point-slope equation into a slope-intercept equation.\n",
    "\n",
    "\\begin{gather*}\n",
    "    y - 3 = \\frac{1}{3}(x - 6) \\\\ \\\\\n",
    "\n",
    "    y - 3 = \\frac{1}{3}x - \\frac{6}{3} \\\\\n",
    "    y - 3 = \\frac{1}{3}x - 2 \\\\\n",
    "    y = \\frac{1}{3}x - 2 + 3 \\\\\n",
    "    \\boxed{y = \\frac{1}{3}x + 1}\n",
    "\\end{gather*}"
   ]
  },
  {
   "cell_type": "markdown",
   "id": "50e1265b",
   "metadata": {},
   "source": [
    "> 6. Find the equation of a line that passes through the points $(1, − 1)$ and $(0,3)$. Write the solution in slope-intercept form.\n",
    "\n",
    "\\begin{gather*}\n",
    "    m = \\frac{y_2 - y_1}{x_2 - x_1} \\\\\n",
    "    m = \\frac{3 - (-1)}{0 - 1} \\\\\n",
    "    m = \\frac{4}{-1} \\\\\n",
    "    m = -4 \\\\ \\\\\n",
    "\n",
    "    y - y_1 = m(x - x_1) \\\\\n",
    "    y - (-1) = -4(x - (1)) \\\\\n",
    "    y + 1 = -4x + 4 \\\\\n",
    "    y = -4x + 4 - 1 \\\\\n",
    "    \\boxed{y = -4x + 3}\n",
    "\\end{gather*}"
   ]
  }
 ],
 "metadata": {
  "language_info": {
   "name": "python"
  }
 },
 "nbformat": 4,
 "nbformat_minor": 5
}
