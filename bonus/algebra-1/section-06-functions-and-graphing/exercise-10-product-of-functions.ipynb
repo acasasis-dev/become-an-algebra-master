{
 "cells": [
  {
   "cell_type": "markdown",
   "id": "8a1cf3bb",
   "metadata": {},
   "source": [
    "## Exercise 10: Product of Functions"
   ]
  },
  {
   "cell_type": "markdown",
   "id": "a6a5a33f",
   "metadata": {},
   "source": [
    "> 1. Find and simplify $(ab)(x)$ if $a(x) = x + 3$ and $b(x) = 5x − 4$.\n",
    "\n",
    "\\begin{gather*}\n",
    "    a(x) = x + 3 \\\\\n",
    "    b(x) = 5x − 4 \\\\\n",
    "    (ab)(x) = (x + 3)(5x - 4) \\\\ \\\\\n",
    "\n",
    "    (ab)(x) = 5x^2 - 4x + 15x - 12 \\\\\n",
    "    \\boxed{(ab)(x) = 5x^2 + 11x - 12}\n",
    "\\end{gather*}"
   ]
  },
  {
   "cell_type": "markdown",
   "id": "5ddda490",
   "metadata": {},
   "source": [
    "> 2. Find $(fg)(−1)$ if $f(x) = x^2 + 3$ and $g(x) = x − 5$.\n",
    "\n",
    "\\begin{gather*}\n",
    "    (fg)(−1) = f(-1) \\cdot g(-1) \\\\ \\\\\n",
    "\n",
    "    f(x) = x^2 + 3 \\\\\n",
    "    f(-1) = (-1)^2 + 3 \\\\\n",
    "    f(-1) = 1 + 3 \\\\\n",
    "    f(-1) = 4 \\\\ \\\\\n",
    "\n",
    "    g(x) = x − 5 \\\\\n",
    "    g(-1) = (-1) - 5 \\\\\n",
    "    g(-1) = -1 - 5 \\\\\n",
    "    g(-1) = -6 \\\\ \\\\\n",
    "\n",
    "    (fg)(-1) = (4)(-6) \\\\\n",
    "    \\boxed{(fg)(-1) = -24}\n",
    "\\end{gather*}"
   ]
  },
  {
   "cell_type": "markdown",
   "id": "c9a058ef",
   "metadata": {},
   "source": [
    "> 3. If $g(0) = −2$ and $(gh)(0) = −14$, find $h(0)$.\n",
    "\n",
    "\\begin{gather*}\n",
    "    (gh)(0) = −14 \\\\\n",
    "    g(0) \\cdot h(0) = -14 \\\\\n",
    "    -2 \\cdot h(0) = -14 \\\\\n",
    "    \\frac{-2 \\cdot h(0) = -14}{-2} \\\\\n",
    "    \\boxed{h(0) = 7}\n",
    "\\end{gather*}"
   ]
  },
  {
   "cell_type": "markdown",
   "id": "8858aae2",
   "metadata": {},
   "source": [
    "> 4. Given the expanded expression, determine $f(x)$ and $g(x)$.\n",
    "\n",
    "\\begin{gather*}\n",
    "    (gf)(x) = x^2(x − 7) − x(x − 7) + 5(x − 7) \\\\ \\\\\n",
    "\n",
    "    g(x) = x^2 - x + 5 \\\\\n",
    "    f(x) = x - 7\n",
    "\\end{gather*}"
   ]
  },
  {
   "cell_type": "markdown",
   "id": "e3478268",
   "metadata": {},
   "source": [
    "> 5. Find $(fh)(5)$ if $f(x) = − x^2 + 2x$ and $h(x) = 2x + 7$.\n",
    "\n",
    "\\begin{gather*}\n",
    "    (fh)(5) = f(5) \\cdot h(5) \\\\ \\\\\n",
    "\n",
    "    f(x) = −x^2 + 2x \\\\\n",
    "    f(5) = -(5)^2 + 2(5) \\\\\n",
    "    f(5) = -25 + 10 \\\\\n",
    "    f(5) = -15 \\\\ \\\\\n",
    "\n",
    "    h(x) = 2x + 7 \\\\\n",
    "    h(5) = 2(5) + 7 \\\\\n",
    "    h(5) = 10 + 7 \\\\\n",
    "    h(5) = 17 \\\\ \\\\\n",
    "\n",
    "    (fh)(5) = (-15)(17) \\\\\n",
    "    \\boxed{(fh)(5) = -255}\n",
    "\\end{gather*}    "
   ]
  },
  {
   "cell_type": "markdown",
   "id": "ae5b2c9a",
   "metadata": {},
   "source": [
    "> 6. Find and simplify $(gh)(x)$ if $g(x) = x^2 + 1$ and $h(x) = 2x^2 + 3$.\n",
    "\n",
    "\\begin{gather*}\n",
    "    g(x) = x^2 + 1 \\\\\n",
    "    h(x) = 2x^2 + 3 \\\\\n",
    "    (gh)(x) = (x^2 + 1)(2x^2 + 3) \\\\\n",
    "    (gh)(x) = 2x^4 + 3x^2 + 2x^2 + 3 \\\\\n",
    "    \\boxed{(gh)(x) = 2x^4 + 5x^2 + 3}\n",
    "\\end{gather*}"
   ]
  }
 ],
 "metadata": {
  "language_info": {
   "name": "python"
  }
 },
 "nbformat": 4,
 "nbformat_minor": 5
}
