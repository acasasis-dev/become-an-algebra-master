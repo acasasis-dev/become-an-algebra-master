{
 "cells": [
  {
   "cell_type": "markdown",
   "id": "1f08807c",
   "metadata": {},
   "source": [
    "## Transitive Property"
   ]
  },
  {
   "cell_type": "markdown",
   "id": "a14905f6",
   "metadata": {},
   "source": [
    "> 1. If $AB = CD$ and $CD = EF$, what's another way to express $EF$?\n",
    "\n",
    "\\begin{gather*}\n",
    "    \\boxed{AB = EF}\n",
    "\\end{gather*}"
   ]
  },
  {
   "cell_type": "markdown",
   "id": "75080ca8",
   "metadata": {},
   "source": [
    "> 2. According to the Transitive Property, if $x = 2y$ and $2y = 5z$, what's the value of $x$?\n",
    "\n",
    "\\begin{gather*}\n",
    "    \\boxed{x = 5z}\n",
    "\\end{gather*}"
   ]
  },
  {
   "cell_type": "markdown",
   "id": "133f00d8",
   "metadata": {},
   "source": [
    "> 3. Give an example that demonstrates the Transitive Property.\n",
    "\n",
    "\\begin{gather*}\n",
    "    a = b \\\\\n",
    "    b = c \\\\\n",
    "    a = c \\\\\n",
    "\\end{gather*}"
   ]
  },
  {
   "cell_type": "markdown",
   "id": "52158e9e",
   "metadata": {},
   "source": [
    "> 4. By the Transitive Property, what value would make the statement true?\n",
    "\n",
    "If $2 + 3 = x$ and $4 + 1 = 5$, then $2 + 3 = 5$.\n",
    "\n",
    "\\begin{gather*}\n",
    "    \\boxed{x = 4 + 1}\n",
    "\\end{gather*}"
   ]
  },
  {
   "cell_type": "markdown",
   "id": "8cee01a5",
   "metadata": {},
   "source": [
    "> 5. Use the Transitive Property to write an equation that only includes $x$ variables, without any $y$ or $z$ variables.\n",
    "\n",
    "\\begin{gather*}\n",
    "    y = 2x + 3 \\\\\n",
    "    y = z \\\\\n",
    "    z = 5x - 9 \\\\ \\\\\n",
    "\n",
    "    \\boxed{2x + 3 = 5x - 9}\n",
    "\\end{gather*}"
   ]
  },
  {
   "cell_type": "markdown",
   "id": "ecb4556a",
   "metadata": {},
   "source": [
    "> 6. According to the Transitive Property, what expression would make the most sense in the following statement?\n",
    "\n",
    "If $x = 2y$ and $2y = \\ ??$, then $x = 5z$.\n",
    "\n",
    "\\begin{gather*}\n",
    "    \\boxed{?? = 5z}\n",
    "\\end{gather*}"
   ]
  }
 ],
 "metadata": {
  "language_info": {
   "name": "python"
  }
 },
 "nbformat": 4,
 "nbformat_minor": 5
}
