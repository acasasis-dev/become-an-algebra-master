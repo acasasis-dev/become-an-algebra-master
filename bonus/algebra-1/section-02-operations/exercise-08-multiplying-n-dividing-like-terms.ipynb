{
 "cells": [
  {
   "cell_type": "markdown",
   "id": "69510e99",
   "metadata": {},
   "source": [
    "## Multiplying and Dividing Like Terms"
   ]
  },
  {
   "cell_type": "markdown",
   "id": "e50705aa",
   "metadata": {},
   "source": [
    "> 1. Simplify the expression.\n",
    "\n",
    "\\begin{gather*}\n",
    "    \\frac{3x^2}{x^3} \\\\ \\\\\n",
    "\n",
    "    3x^{2 - 3} \\\\\n",
    "    3x^{-1} \\\\\n",
    "    \\boxed{\\frac{3}{x}}\n",
    "\\end{gather*}"
   ]
  },
  {
   "cell_type": "markdown",
   "id": "824ef21f",
   "metadata": {},
   "source": [
    "> 2. Simplify the expression.\n",
    "\n",
    "\\begin{gather*}\n",
    "    2a^2 \\cdot 6b^3 \\cdot ab^2 \\\\ \\\\\n",
    "\n",
    "    (2 \\cdot 6)(a^2 \\cdot b^3) \\cdot ab^2 \\\\\n",
    "    12a^2b^3 \\cdot ab^2 \\\\\n",
    "    12(a^2b^3 \\cdot ab^2) \\\\\n",
    "    12(a^{2 + 1}b^{3 + 2}) \\\\\n",
    "    12(a^3b^5) \\\\\n",
    "    \\boxed{12a^3b^5}\n",
    "\\end{gather*}"
   ]
  },
  {
   "cell_type": "markdown",
   "id": "d720a718",
   "metadata": {},
   "source": [
    "> 3. Simplify the expression.\n",
    "\n",
    "\\begin{gather*}\n",
    "    \\frac{6x^a}{3x^b} \\\\ \\\\\n",
    "\n",
    "    \\boxed{2x^{a - b}}\n",
    "\\end{gather*}"
   ]
  },
  {
   "cell_type": "markdown",
   "id": "192b831a",
   "metadata": {},
   "source": [
    "> 4. Simplify the expression.\n",
    "\n",
    "\\begin{gather*}\n",
    "    3x^a \\cdot 5x^b \\\\ \\\\\n",
    "\n",
    "    \\boxed{15x^{a + b}}\n",
    "\\end{gather*}"
   ]
  },
  {
   "cell_type": "markdown",
   "id": "5213adc5",
   "metadata": {},
   "source": [
    "> 5. Simplify the expression.\n",
    "\n",
    "\\begin{gather*}\n",
    "    \\frac{5y^2 \\cdot 4x^3 \\cdot 2xy}{x^2y} \\\\ \\\\\n",
    "\n",
    "    \\frac{(5 \\cdot 4)(y^2 \\cdot x^3) \\cdot 2xy}{x^2y} \\\\\n",
    "    \\frac{(20)(x^3y^2) \\cdot 2xy}{x^2y} \\\\\n",
    "    \\frac{(20 \\cdot 2)(x^3y^2 \\cdot xy)}{x^2y} \\\\\n",
    "    \\frac{(40)(x^{3 + 1}y^{2 + 1})}{x^2y} \\\\\n",
    "    \\frac{40x^4y^3}{x^2y} \\\\\n",
    "    40x^{4-2}y^{3-1} \\\\\n",
    "    \\boxed{40x^2y^2}\n",
    "\\end{gather*}"
   ]
  },
  {
   "cell_type": "markdown",
   "id": "380b7838",
   "metadata": {},
   "source": [
    "> 6. Simplify the expression.\n",
    "\n",
    "\\begin{gather*}\n",
    "    \\frac{2y^2 \\cdot 3x^3y \\cdot x^2y^2}{x^4y^2} \\\\ \\\\\n",
    "\n",
    "    \\frac{(2 \\cdot 3)(y^2 \\cdot x^3y) \\cdot x^2y^2}{x^4y^2} \\\\\n",
    "    \\frac{(6)(x^3y^{2 + 1}) \\cdot x^2y^2}{x^4y^2} \\\\\n",
    "    \\frac{6(x^3y^3 \\cdot x^2y^2)}{x^4y^2} \\\\\n",
    "    \\frac{6(x^{3 + 2}y^{3 + 2})}{x^4y^2} \\\\\n",
    "    \\frac{6x^5y^5}{x^4y^2} \\\\\n",
    "    6x^{5 - 4}y^{5 - 2} \\\\\n",
    "    \\boxed{6xy^3}\n",
    "\\end{gather*}"
   ]
  }
 ],
 "metadata": {
  "language_info": {
   "name": "python"
  }
 },
 "nbformat": 4,
 "nbformat_minor": 5
}
