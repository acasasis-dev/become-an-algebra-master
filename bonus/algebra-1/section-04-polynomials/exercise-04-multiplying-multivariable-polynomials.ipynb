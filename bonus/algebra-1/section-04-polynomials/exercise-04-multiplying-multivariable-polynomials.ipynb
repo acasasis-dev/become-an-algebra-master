{
 "cells": [
  {
   "cell_type": "markdown",
   "id": "207d35b1",
   "metadata": {},
   "source": [
    "## Multiplying MultiVariable Polynomials"
   ]
  },
  {
   "cell_type": "markdown",
   "id": "6820f6be",
   "metadata": {},
   "source": [
    "> 1. Simplify the expression.\n",
    "\n",
    "\\begin{gather*}\n",
    "    (a - 3y)(2a + y) \\\\ \\\\\n",
    "\n",
    "    2a^2 + ay - 6ay - 3y^2 \\\\\n",
    "    \\boxed{2a^2 - 3y^2 - 5ay}\n",
    "\\end{gather*}"
   ]
  },
  {
   "cell_type": "markdown",
   "id": "68690175",
   "metadata": {},
   "source": [
    "> 2. Simplify the expression.\n",
    "\n",
    "\\begin{gather*}\n",
    "    (x - 2y)(x + y) + (3x - y)(4x + 4y) \\\\ \\\\\n",
    "\n",
    "    x^2 + xy - 2xy - 2y^2 + 12x^2 + 12xy - 4xy - 4y^2 \\\\\n",
    "    \\boxed{13x^2 - 6y^2 + 7xy}\n",
    "\\end{gather*}"
   ]
  },
  {
   "cell_type": "markdown",
   "id": "6874f108",
   "metadata": {},
   "source": [
    "> 3. Fill in the blanks with the correct terms.\n",
    "\n",
    "\\begin{gather*}\n",
    "    (5a - b)(7b - 3a) \\\\\n",
    "    (35ab - 15a^2) + \\_\\_\\_ + 3ab \\\\\n",
    "    \\_\\_\\_ - 15a^2 + \\_\\_\\_ \\\\\n",
    "\\end{gather*}\n",
    "\n",
    "$-7b^2$, $38ab$, $-7b^2$"
   ]
  },
  {
   "cell_type": "markdown",
   "id": "2cec235d",
   "metadata": {},
   "source": [
    "> 4. What went wrong in this set of steps?\n",
    "\n",
    "\\begin{gather*}\n",
    "    (a^2 + 6b)(-a - b^2) \\\\\n",
    "    -a^3 - a^2b^2 - 6ab - b^3 \\\\\n",
    "    -a^3 - 7ab - b^3 \\\\\n",
    "\\end{gather*}\n",
    "\n",
    "On the first step, last term should be $-6b^3$. On the second step, $-a^2b^2$ and $-6ab$ have been combined which is wrong because although they have the same base, they don't have the same exponent."
   ]
  },
  {
   "cell_type": "markdown",
   "id": "a57fa41c",
   "metadata": {},
   "source": [
    "> 5. Fill in the the multiplication chart with the correct terms, given the following product of binomials.\n",
    "\n",
    "\\begin{gather*}\n",
    "    (4a + 3b)(-a + 2b^2) \\\\\n",
    "\\end{gather*}\n",
    "\n",
    "<style>\n",
    "    td {\n",
    "        height: 20px;\n",
    "    }\n",
    "</style>\n",
    "<div align=\"center\">\n",
    "    <table>\n",
    "        <thead>\n",
    "            <col width=\"40px\"/>\n",
    "            <col width=\"40px\"/>\n",
    "            <col width=\"40px\"/>\n",
    "            <row height=\"40px\"/>\n",
    "            <row height=\"40px\"/>\n",
    "            <row height=\"40px\"/>\n",
    "            <tr>\n",
    "                <td></td>\n",
    "                <td>4a</td>\n",
    "                <td>3b</td>\n",
    "            </tr>\n",
    "        </thead>\n",
    "        <tbody>\n",
    "            <row height=\"40px\"/>\n",
    "            <row height=\"40px\"/>\n",
    "            <row height=\"40px\"/>\n",
    "            <tr>\n",
    "                <td>-a</td>\n",
    "                <td>-4a^2</td>\n",
    "                <td>-3ab</td>\n",
    "            </tr>\n",
    "            <tr>\n",
    "                <td>2b^2</td>\n",
    "                <td>8ab^2</td>\n",
    "                <td>6b^3</td>\n",
    "            </tr>\n",
    "        </tbody>\n",
    "    </table>\n",
    "</div>"
   ]
  },
  {
   "cell_type": "markdown",
   "id": "f352d319",
   "metadata": {},
   "source": [
    "> 6. Simplify the expression.\n",
    "\n",
    "\\begin{gather*}\n",
    "    (5ax - 3by)(a + y) - (a - y)(2ax + 4by) \\\\ \\\\\n",
    "\n",
    "    (5a^2x + 5axy - 3aby - 3by^2) - (2a^2x + 4aby - 2axy - 4by^2) \\\\\n",
    "    5a^2x + 5axy - 3aby - 3by^2 - 2a^2x - 4aby + 2axy + 4by^2 \\\\\n",
    "    \\boxed{3a^2x + by^2 - 7aby + 7axy}\n",
    "\\end{gather*}"
   ]
  }
 ],
 "metadata": {
  "language_info": {
   "name": "python"
  }
 },
 "nbformat": 4,
 "nbformat_minor": 5
}
