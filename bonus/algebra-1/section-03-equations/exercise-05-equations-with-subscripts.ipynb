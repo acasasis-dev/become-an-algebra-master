{
 "cells": [
  {
   "cell_type": "markdown",
   "id": "46c5d0d6",
   "metadata": {},
   "source": [
    "## Equations With Subscripts"
   ]
  },
  {
   "cell_type": "markdown",
   "id": "3a37220a",
   "metadata": {},
   "source": [
    "> 1. It takes Peter $6$ hours to paint a room and Laura $8$ hours to paint that\n",
    "same room. Use the equation below to determine how long it would take\n",
    "for Peter and Laura to paint the room together, where $R_1$ is the number of\n",
    "hours it takes Peter, $R_2$ is the number of hours it takes Laura, and $T$ is the\n",
    "number of hours it takes them together.\n",
    "\n",
    "\\begin{gather*}\n",
    "    \\frac{R_1R_2}{R_1 + R_2} = T \\\\ \\\\\n",
    "\n",
    "    \\frac{(6)(8)}{(6) + (8)} = T \\\\\n",
    "    \\frac{48}{14} = T \\\\\n",
    "    \\boxed{T = \\frac{24}{7} \\ \\text{or} \\ 3.43}\n",
    "\\end{gather*}"
   ]
  },
  {
   "cell_type": "markdown",
   "id": "84ae7d0d",
   "metadata": {},
   "source": [
    "> 2. Solve the equation for $P_2$.\n",
    "\n",
    "\\begin{gather*}\n",
    "    P_1R + \\frac{P_2}{V} = d \\\\ \\\\\n",
    "\n",
    "    V(P_1R + \\frac{P_2}{V} = d) \\\\\n",
    "    P_1RV + P_2 = dV \\\\\n",
    "    P_2 = dV - P_1RV \\\\\n",
    "    \\boxed{P_2 = V(d - P_1)}\n",
    "\\end{gather*}"
   ]
  },
  {
   "cell_type": "markdown",
   "id": "a9f4c414",
   "metadata": {},
   "source": [
    "> 3. The profit function for a company is given by\n",
    "$P = Rx − C_1 − C_2x$, where $P$ is the profit, $R$ is the selling price of their\n",
    "product, $C_1$ is the company’s fixed cost, $C_2$ is their variable cost, and $x$ is\n",
    "the total number of products sold. What is the selling price $R$ when $P = 114$,\n",
    "$C_1 = 550$, $C_2 = 3.50$, and $x = 16$?\n",
    "\n",
    "\\begin{gather*}\n",
    "    P = Rx − C_1 − C_2x \\\\\n",
    "    P + C_1 + C_2x = Rx \\\\\n",
    "    \\frac{P + C_1 + C_2x = Rx}{x} \\\\\n",
    "    R = \\frac{P + C_1 + C_2x}{x} \\\\ \\\\\n",
    "\n",
    "    R = \\frac{(114) + (550) + (3.5)(16)}{16} \\\\\n",
    "    R = \\frac{664 + 56}{16} \\\\\n",
    "    R = \\frac{720}{16} \\\\\n",
    "    \\boxed{R = 45}\n",
    "\\end{gather*}"
   ]
  },
  {
   "cell_type": "markdown",
   "id": "dbc8d740",
   "metadata": {},
   "source": [
    "> 4. Solve the equation for $x_1$.\n",
    "\n",
    "\\begin{gather*}\n",
    "    \\frac{3V}{x_1} = td_0 + 2x_2d_1 \\\\ \\\\\n",
    "\n",
    "    x_1(\\frac{3V}{x_1} = td_0 + 2x_2d_1) \\\\\n",
    "    3V = (td_0 + 2x_2d_1)x_1 \\\\\n",
    "    \\frac{3V = (td_0 + 2x_2d_1)x_1}{td_0 + 2x_2d_1} \\\\\n",
    "    \\boxed{x_1 = \\frac{3V}{td_0 + 2x_2d_1}}\n",
    "\\end{gather*}"
   ]
  },
  {
   "cell_type": "markdown",
   "id": "6bd83ea7",
   "metadata": {},
   "source": [
    "> 5. Solve the equation for $Y_2$ when $t_1 = 2$, $t_2 = 11$, $D = \\frac{1}{3}$, and $Y_1 = 25$.\n",
    "\n",
    "\\begin{gather*}\n",
    "    3t_1 + \\frac{15t_2D}{Y_2} = Y_1 - 5 \\\\ \\\\\n",
    "\n",
    "    Y_2(3t_1 + \\frac{15t_2D}{Y_2} = Y_1 - 5) \\\\\n",
    "    3t_1Y_2 + 15t_2D = Y_1Y_2 - 5Y_2 \\\\\n",
    "    15t_2D = Y_1Y_2 - 5Y_2 - 3t_1Y_2 \\\\\n",
    "    15t_2D = (Y_1 - 5 - 3t_1)Y_2 \\\\\n",
    "    \\frac{15t_2D = (Y_1 - 5 - 3t_1)Y_2}{Y_1 - 5 - 3t_1} \\\\\n",
    "    Y_2 = \\frac{15t_2D}{Y_1 - 5 - 3t_1} \\\\ \\\\\n",
    "\n",
    "    Y_2 = \\frac{15(11)(\\frac{1}{3})}{(25) - 5 - 3(2)} \\\\\n",
    "    Y_2 = \\frac{\\frac{165}{3}}{20 - 6} \\\\\n",
    "    \\boxed{Y_2 = \\frac{55}{14}}\n",
    "\\end{gather*}"
   ]
  },
  {
   "cell_type": "markdown",
   "id": "debd5b29",
   "metadata": {},
   "source": [
    "> 6. The volume of the medium size box at the post office is given by\n",
    "$V = d_1 \\times d_2 \\times d_3$, where $d_1$, $d_2$, and $d_3$ are the length, width, and height,\n",
    "respectively. Given $d_1 = 4$ and $d_2 = 5$, find the relationship between volume\n",
    "and height.\n",
    "\n",
    "\\begin{gather*}\n",
    "    V = d_1 \\times d_2 \\times d_3 \\\\ \\\\\n",
    "\n",
    "    V = (4) \\times (5) \\times d_3 \\\\\n",
    "    V = (4 \\times 5) \\times d_3 \\\\\n",
    "    V = (4 \\times 5) \\times d_3 \\\\\n",
    "    \\boxed{V = 20d_3}\n",
    "\\end{gather*}"
   ]
  }
 ],
 "metadata": {
  "language_info": {
   "name": "python"
  }
 },
 "nbformat": 4,
 "nbformat_minor": 5
}
