{
 "cells": [
  {
   "cell_type": "markdown",
   "id": "af34fc4e",
   "metadata": {},
   "source": [
    "## Multiplying Polynomials"
   ]
  },
  {
   "cell_type": "markdown",
   "id": "6b864103",
   "metadata": {},
   "source": [
    "> 1. Use the Distributive Property to expand the expression.\n",
    "\n",
    "\\begin{gather*}\n",
    "    \\frac{1}{2}(6x + 4)(x - 1) \\\\ \\\\\n",
    "\n",
    "    \\frac{6x + 4}{2}(x - 1) \\\\\n",
    "    \\frac{6x^2 - 6x + 4x - 4}{2} \\\\\n",
    "    3x^2 - 3x + 2x - 2 \\\\\n",
    "    \\boxed{3x^2 - x - 2}\n",
    "\\end{gather*}"
   ]
  },
  {
   "cell_type": "markdown",
   "id": "fa27189c",
   "metadata": {},
   "source": [
    "> 2. What should we put in place of the “??” to make the expression true?\n",
    "\n",
    "\\begin{gather*}\n",
    "    (2x + 1)(5 - x) = \\ ?? + 10x - x + 5 \\\\ \\\\\n",
    "\n",
    "    10x - 2x^2 + 5 - x = \\ ?? + 10x - x + 5 \\\\\n",
    "    10x - 10x - 2x^2 + 5 - 5 - x + x = \\ ?? \\\\\n",
    "    \\boxed{?? = -2x^2}\n",
    "\\end{gather*} "
   ]
  },
  {
   "cell_type": "markdown",
   "id": "83786787",
   "metadata": {},
   "source": [
    "> 3. What went wrong in this set of steps?\n",
    "\n",
    "\\begin{gather*}\n",
    "    (a - 2)^2 \\\\\n",
    "    a^2 - 4 \\\\ \\\\\n",
    "\n",
    "    \\textbf{CHECKING} \\\\\n",
    "    (a - 2)^2 \\\\\n",
    "    (a - 2)(a - 2) \\\\\n",
    "    a^2 - 2a - 2a + 4 \\\\\n",
    "    \\boxed{a^2 - 4a + 4}\n",
    "\\end{gather*}\n",
    "\n",
    "Answer should be $a^2 - 4a + 4$"
   ]
  },
  {
   "cell_type": "markdown",
   "id": "bf2636f9",
   "metadata": {},
   "source": [
    "> 4. Use the Distributive Property to expand the expression.\n",
    "\n",
    "\\begin{gather*}\n",
    "    4(2 - x)(3 + 2x) \\\\ \\\\\n",
    "\n",
    "    (8 - 4x)(3 + 2x) \\\\\n",
    "    (24 + 16x - 12x - 8x^2) \\\\\n",
    "    8x^2 + 4x + 24 \\\\\n",
    "    \\boxed{2x^2 + x + 6}\n",
    "\\end{gather*}"
   ]
  },
  {
   "cell_type": "markdown",
   "id": "94cdf042",
   "metadata": {},
   "source": [
    "> 5. Fill in the blank.\n",
    "\n",
    "\\begin{gather*}\n",
    "    (3 - a)(5 + a) = 15 + \\_\\_\\_ - a^2 \\\\ \\\\\n",
    "\n",
    "    15 + 3a - 5a - a^2 = 15 + \\_\\_\\_ - a^2 \\\\\n",
    "    15 - 2a - a^2 = 15 + \\_\\_\\_ - a^2 \\\\\n",
    "    \\boxed{\\_\\_\\_ = -2a}\n",
    "\\end{gather*}"
   ]
  },
  {
   "cell_type": "markdown",
   "id": "5ae1e345",
   "metadata": {},
   "source": [
    "> 6. Expand the expression.\n",
    "\n",
    "\\begin{gather*}\n",
    "    (x^2 - 3)(2 - x) \\\\ \\\\\n",
    "\n",
    "    2x^2 - x^3 - 6 + 3x \\\\\n",
    "    \\boxed{-x^3 + 2x^2 + 3x - 6}\n",
    "\\end{gather*}"
   ]
  }
 ],
 "metadata": {
  "language_info": {
   "name": "python"
  }
 },
 "nbformat": 4,
 "nbformat_minor": 5
}
