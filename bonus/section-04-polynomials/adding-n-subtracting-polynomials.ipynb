{
 "cells": [
  {
   "cell_type": "markdown",
   "id": "daf05f60",
   "metadata": {},
   "source": [
    "## Adding and Subtracting Polynomials"
   ]
  },
  {
   "cell_type": "markdown",
   "id": "49ed2bbf",
   "metadata": {},
   "source": [
    "> 1. Which part(s) of the terms stay the same when we add or subtract like terms?\n",
    "\n",
    "The base and exponent"
   ]
  },
  {
   "cell_type": "markdown",
   "id": "951d70c7",
   "metadata": {},
   "source": [
    "> 2. Simplify the expression.\n",
    "\n",
    "\\begin{gather*}\n",
    "    (2x^3 - 5x^2 + x - 3) - (x^2 - 2x + 7) \\\\ \\\\\n",
    "\n",
    "    2x^3 - 5x^2 + x - 3 - x^2 + 2x - 7 \\\\\n",
    "    \\boxed{2x^3 - 6x^2 + 3x - 10}\n",
    "\\end{gather*}"
   ]
  },
  {
   "cell_type": "markdown",
   "id": "6802a238",
   "metadata": {},
   "source": [
    "> 3. What went wrong in this set of steps?\n",
    "\n",
    "\\begin{gather*}\n",
    "    6x^3 + 7 + x^2 \\\\\n",
    "    7x^3 + 7 \\\\\n",
    "\\end{gather*}\n",
    "\n",
    "The solver combined unlike terms which $6x^3$ and $x^2$"
   ]
  },
  {
   "cell_type": "markdown",
   "id": "ad54d806",
   "metadata": {},
   "source": [
    "> 4. Simplify the expression.\n",
    "\n",
    "\\begin{gather*}\n",
    "    (10a^2b + 3ab^2 - ab) + (2ab^2 - a^2b + ab) \\\\ \\\\\n",
    "\n",
    "    10a^2b + 3ab^2 - ab + 2ab^2 - a^2b + ab \\\\\n",
    "    \\boxed{9a^2b + 5ab^2}\n",
    "\\end{gather*}"
   ]
  },
  {
   "cell_type": "markdown",
   "id": "ed3442de",
   "metadata": {},
   "source": [
    "> 5. Simplify the expression.\n",
    "\n",
    "\\begin{gather*}\n",
    "    (x^4 - 5y^3 + z - xy) - (2y^4 + 6xy - z + x^4) \\\\ \\\\\n",
    "\n",
    "    x^4 - 5y^3 + z - xy - 2y^4 - 6xy + z - x^4 \\\\\n",
    "    \\boxed{-2y^5 - 5y^3 - 7xy + 2z}\n",
    "\\end{gather*}"
   ]
  },
  {
   "cell_type": "markdown",
   "id": "91677faa",
   "metadata": {},
   "source": [
    "> 6. What went wrong in this set of steps?\n",
    "\n",
    "\\begin{gather*}\n",
    "    9 - x^3 + 3 + 4x^3 \\\\\n",
    "    12 + 3x^6 \\\\\n",
    "\\end{gather*}\n",
    "\n",
    "The solver did combined the like terms and got the base coefficient and base right but what he/she did wrong is add the exponents too. The exponent should stay the same."
   ]
  }
 ],
 "metadata": {
  "language_info": {
   "name": "python"
  }
 },
 "nbformat": 4,
 "nbformat_minor": 5
}
